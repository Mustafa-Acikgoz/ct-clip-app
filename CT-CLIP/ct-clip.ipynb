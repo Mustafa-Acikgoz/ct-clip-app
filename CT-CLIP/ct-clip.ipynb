{
 "cells": [
  {
   "cell_type": "code",
   "execution_count": null,
   "id": "3b0a4dbd-57af-4e3a-a8ca-5a620bd7bc9d",
   "metadata": {},
   "outputs": [],
   "source": [
    "%%bash\n",
    "set -e\n",
    "\n",
    "cd /data/ct-clip-app  # adjust if your working copy is elsewhere\n",
    "\n",
    "# 1. Git identity\n",
    "git config user.name \"Mustafa Ak\"\n",
    "git config user.email \"mustafaxacikgoz@gmail.com\"\n",
    "\n",
    "# 2. Enable LFS (if not already)#]\n",
    "git lfs install\n",
    "\n",
    "# 3. (Optional) Track large files you care about, e.g., .pt or model artifacts\n",
    "git lfs track \"*.pt\" || true\n",
    "git add .gitattributes || true\n",
    "\n",
    "# 4. Configure GitHub remote with the token (non-interactive auth)\n",
    "git remote remove github || true\n",
    "git remote add github https://$hf_space_backup@github.com/Mustafa-Acikgoz/ct-clip-app.git\n",
    "\n",
    "# 5. Ensure main branch name\n",
    "git branch -M main\n",
    "\n",
    "# 6. Stage everything\n",
    "git add -A\n",
    "\n",
    "# 7. Commit\n",
    "git commit -m \"Sync full project to GitHub\" || echo \"Nothing to commit\"\n",
    "\n",
    "# 8. Push to GitHub\n",
    "git push -u github main\n"
   ]
  },
  {
   "cell_type": "code",
   "execution_count": 2,
   "id": "0391c64c-0657-423b-8deb-3a9d573d2e79",
   "metadata": {},
   "outputs": [
    {
     "name": "stdout",
     "output_type": "stream",
     "text": [
      "--- Installing system library libgl1-mesa-glx ---\n",
      "sudo: effective uid is not 0, is /usr/bin/sudo on a file system with the 'nosuid' option set or an NFS file system without root privileges?\n",
      "\n",
      "--- Installing Python packages ---\n",
      "\n",
      "--- Cloning GitHub repositories ---\n",
      "Cloned CT-CLIP.\n",
      "\n",
      "--- Installing CT-CLIP subpackages in editable mode ---\n",
      "\u001b[33m  DEPRECATION: Legacy editable install of transformer-maskgit==0.0.0 from file:///data/ct-clip-app/CT-CLIP/CT-CLIP/transformer_maskgit (setup.py develop) is deprecated. pip 25.3 will enforce this behaviour change. A possible replacement is to add a pyproject.toml or enable --use-pep517, and use setuptools >= 64. If the resulting installation is not behaving as expected, try using --config-settings editable_mode=compat. Please consult the setuptools documentation for more information. Discussion can be found at https://github.com/pypa/pip/issues/11457\u001b[0m\u001b[33m\n",
      "\u001b[0m\u001b[31mERROR: pip's dependency resolver does not currently take into account all the packages that are installed. This behaviour is the source of the following dependency conflicts.\n",
      "monai 1.5.0 requires torch<2.7.0,>=2.4.1, but you have torch 2.7.1 which is incompatible.\u001b[0m\u001b[31m\n",
      "\u001b[0m\u001b[33m  DEPRECATION: Building 'ImageNetV2_pytorch' using the legacy setup.py bdist_wheel mechanism, which will be removed in a future version. pip 25.3 will enforce this behaviour change. A possible replacement is to use the standardized build interface by setting the `--use-pep517` option, (possibly combined with `--no-build-isolation`), or adding a `pyproject.toml` file to the source tree of 'ImageNetV2_pytorch'. Discussion can be found at https://github.com/pypa/pip/issues/6334\u001b[0m\u001b[33m\n",
      "\u001b[0m\u001b[33m  DEPRECATION: Legacy editable install of ct-clip==0.1 from file:///data/ct-clip-app/CT-CLIP/CT-CLIP/CT_CLIP (setup.py develop) is deprecated. pip 25.3 will enforce this behaviour change. A possible replacement is to add a pyproject.toml or enable --use-pep517, and use setuptools >= 64. If the resulting installation is not behaving as expected, try using --config-settings editable_mode=compat. Please consult the setuptools documentation for more information. Discussion can be found at https://github.com/pypa/pip/issues/11457\u001b[0m\u001b[33m\n",
      "\u001b[0m\n",
      "==================================================\n",
      " ✅ Cell 1 complete.\n",
      " 🔴 IMPORTANT: Please restart the kernel now before running Cell 2.\n",
      "==================================================\n"
     ]
    }
   ],
   "source": [
    "# %%\n",
    "# ==============================================================================\n",
    "# CELL 1: Environment and Dependencies Setup\n",
    "# ==============================================================================\n",
    "import os\n",
    "import sys\n",
    "\n",
    "# --- 1. Install System Libraries ---\n",
    "print(\"--- Installing system library libgl1-mesa-glx ---\")\n",
    "!sudo apt-get update -qq && sudo apt-get install -y -qq libgl1-mesa-glx\n",
    "\n",
    "# --- 2. Install Python Packages ---\n",
    "print(\"\\n--- Installing Python packages ---\")\n",
    "!pip install -q --upgrade pip\n",
    "!pip install -q torch transformers datasets nibabel monai sentencepiece \\\n",
    "                einops vector-quantize-pytorch ema-pytorch beartype \\\n",
    "                opencv-python-headless protobuf huggingface_hub bitsandbytes pandas\n",
    "\n",
    "# --- 3. Clone CT-CLIP Repository ---\n",
    "print(\"\\n--- Cloning GitHub repositories ---\")\n",
    "if not os.path.isdir(\"CT-CLIP\"):\n",
    "    !git clone https://github.com/ibrahimethemhamamci/CT-CLIP.git -q\n",
    "    print(\"Cloned CT-CLIP.\")\n",
    "else:\n",
    "    print(\"CT-CLIP repository already exists.\")\n",
    "\n",
    "# --- 4. Install CT-CLIP Subpackages ---\n",
    "print(\"\\n--- Installing CT-CLIP subpackages in editable mode ---\")\n",
    "!pip install -q -e CT-CLIP/transformer_maskgit\n",
    "!pip install -q -e CT-CLIP/CT_CLIP\n",
    "\n",
    "print(\"\\n\" + \"=\"*50)\n",
    "print(\" ✅ Cell 1 complete.\")\n",
    "print(\" 🔴 IMPORTANT: Please restart the kernel now before running Cell 2.\")\n",
    "print(\"=\"*50)"
   ]
  },
  {
   "cell_type": "code",
   "execution_count": null,
   "id": "5e7dbae3-3763-4dd9-96c1-ad676c347807",
   "metadata": {},
   "outputs": [
    {
     "name": "stdout",
     "output_type": "stream",
     "text": [
      "--- Using device: cuda ---\n",
      "\n",
      "--- Loading CT-CLIP Model ---\n",
      "Downloading CT-CLIP v2 weights...\n",
      " ✅ CT-CLIP model loaded and frozen.\n",
      "\n",
      "--- Preparing labels ---\n",
      "Found 18 classes.\n",
      "\n",
      "--- Extracting features for our mini-dataset ---\n",
      "Processing dataset/train/train_18373/train_18373_a/train_18373_a_2.nii.gz...\n"
     ]
    },
    {
     "name": "stderr",
     "output_type": "stream",
     "text": [
      "/home/user/miniconda/lib/python3.9/site-packages/torch/nn/modules/module.py:1762: FutureWarning: `encoder_attention_mask` is deprecated and will be removed in version 4.55.0 for `BertSdpaSelfAttention.forward`.\n",
      "  return forward_call(*args, **kwargs)\n"
     ]
    },
    {
     "name": "stdout",
     "output_type": "stream",
     "text": [
      "test all pooling\n",
      "Processing dataset/train/train_19287/train_19287_a/train_19287_a_1.nii.gz...\n",
      "test all pooling\n",
      "Processing dataset/train/train_3282/train_3282_a/train_3282_a_1.nii.gz...\n",
      "test all pooling\n",
      "Processing dataset/train/train_54/train_54_a/train_54_a_2.nii.gz...\n",
      "test all pooling\n",
      "Processing dataset/train/train_12769/train_12769_a/train_12769_a_2.nii.gz...\n",
      "test all pooling\n",
      "Processing dataset/train/train_7066/train_7066_a/train_7066_a_1.nii.gz...\n",
      "test all pooling\n",
      "Processing dataset/train/train_2610/train_2610_a/train_2610_a_2.nii.gz...\n",
      "test all pooling\n",
      "Processing dataset/train/train_9742/train_9742_b/train_9742_b_2.nii.gz...\n",
      "test all pooling\n",
      "Processing dataset/train/train_11431/train_11431_a/train_11431_a_1.nii.gz...\n",
      "test all pooling\n",
      "Processing dataset/train/train_7613/train_7613_b/train_7613_b_1.nii.gz...\n",
      "test all pooling\n",
      "Processing dataset/train/train_644/train_644_d/train_644_d_1.nii.gz...\n",
      "test all pooling\n",
      "Processing dataset/train/train_13314/train_13314_a/train_13314_a_2.nii.gz...\n",
      "test all pooling\n",
      "Processing dataset/train/train_8278/train_8278_b/train_8278_b_2.nii.gz...\n",
      "test all pooling\n",
      "Processing dataset/train/train_1117/train_1117_b/train_1117_b_1.nii.gz...\n",
      "test all pooling\n",
      "Processing dataset/train/train_14817/train_14817_a/train_14817_a_1.nii.gz...\n",
      "test all pooling\n",
      "Processing dataset/train/train_7519/train_7519_a/train_7519_a_1.nii.gz...\n",
      "test all pooling\n",
      "Processing dataset/train/train_7885/train_7885_a/train_7885_a_1.nii.gz...\n",
      "test all pooling\n",
      "Processing dataset/train/train_8907/train_8907_b/train_8907_b_2.nii.gz...\n",
      "test all pooling\n",
      "Processing dataset/train/train_10455/train_10455_a/train_10455_a_2.nii.gz...\n",
      "test all pooling\n",
      "Processing dataset/train/train_7392/train_7392_a/train_7392_a_2.nii.gz...\n",
      "test all pooling\n",
      "Processing dataset/train/train_19972/train_19972_c/train_19972_c_2.nii.gz...\n",
      "test all pooling\n",
      "Processing dataset/train/train_16252/train_16252_a/train_16252_a_1.nii.gz...\n",
      "test all pooling\n",
      "Processing dataset/train/train_18102/train_18102_a/train_18102_a_1.nii.gz...\n",
      "test all pooling\n",
      "Processing dataset/train/train_6022/train_6022_a/train_6022_a_2.nii.gz...\n",
      "test all pooling\n",
      "Processing dataset/train/train_15635/train_15635_a/train_15635_a_2.nii.gz...\n",
      "test all pooling\n",
      "Processing dataset/train/train_6160/train_6160_c/train_6160_c_2.nii.gz...\n",
      "test all pooling\n",
      "Processing dataset/train/train_19885/train_19885_d/train_19885_d_2.nii.gz...\n",
      "test all pooling\n",
      "Processing dataset/train/train_14325/train_14325_a/train_14325_a_2.nii.gz...\n",
      "test all pooling\n",
      "Processing dataset/train/train_16861/train_16861_b/train_16861_b_1.nii.gz...\n",
      "test all pooling\n",
      "Processing dataset/train/train_4514/train_4514_a/train_4514_a_1.nii.gz...\n",
      "test all pooling\n",
      "Processing dataset/train/train_5373/train_5373_a/train_5373_a_2.nii.gz...\n",
      "test all pooling\n",
      "Processing dataset/train/train_19541/train_19541_b/train_19541_b_2.nii.gz...\n",
      "test all pooling\n",
      "Processing dataset/train/train_7730/train_7730_a/train_7730_a_2.nii.gz...\n",
      "test all pooling\n",
      "Processing dataset/train/train_19804/train_19804_a/train_19804_a_2.nii.gz...\n",
      "test all pooling\n",
      "Processing dataset/train/train_9199/train_9199_a/train_9199_a_1.nii.gz...\n",
      "test all pooling\n",
      "Processing dataset/train/train_16924/train_16924_j/train_16924_j_2.nii.gz...\n",
      "test all pooling\n",
      "Processing dataset/train/train_17830/train_17830_a/train_17830_a_1.nii.gz...\n",
      "test all pooling\n",
      "Processing dataset/train/train_4942/train_4942_a/train_4942_a_3.nii.gz...\n",
      "test all pooling\n",
      "Processing dataset/train/train_15885/train_15885_c/train_15885_c_1.nii.gz...\n",
      "test all pooling\n",
      "Processing dataset/train/train_19132/train_19132_b/train_19132_b_1.nii.gz...\n",
      "test all pooling\n",
      "Processing dataset/train/train_691/train_691_a/train_691_a_2.nii.gz...\n",
      "test all pooling\n",
      "Processing dataset/train/train_2756/train_2756_a/train_2756_a_2.nii.gz...\n",
      "test all pooling\n",
      "Processing dataset/train/train_8730/train_8730_a/train_8730_a_1.nii.gz...\n",
      "test all pooling\n",
      "Processing dataset/train/train_4730/train_4730_a/train_4730_a_1.nii.gz...\n",
      "test all pooling\n",
      "Processing dataset/train/train_17207/train_17207_a/train_17207_a_1.nii.gz...\n",
      "test all pooling\n",
      "Processing dataset/train/train_12678/train_12678_c/train_12678_c_2.nii.gz...\n",
      "test all pooling\n",
      "Processing dataset/train/train_14851/train_14851_a/train_14851_a_2.nii.gz...\n",
      "test all pooling\n",
      "Processing dataset/train/train_13726/train_13726_a/train_13726_a_1.nii.gz...\n",
      "test all pooling\n",
      "Processing dataset/train/train_6426/train_6426_a/train_6426_a_2.nii.gz...\n",
      "test all pooling\n",
      "Processing dataset/train/train_12201/train_12201_a/train_12201_a_5.nii.gz...\n",
      "test all pooling\n",
      "Processing dataset/train/train_11418/train_11418_c/train_11418_c_2.nii.gz...\n",
      "test all pooling\n",
      "Processing dataset/train/train_10043/train_10043_b/train_10043_b_2.nii.gz...\n",
      "test all pooling\n",
      "Processing dataset/train/train_2928/train_2928_a/train_2928_a_2.nii.gz...\n",
      "test all pooling\n",
      "Processing dataset/train/train_13751/train_13751_a/train_13751_a_1.nii.gz...\n",
      "test all pooling\n",
      "Processing dataset/train/train_15353/train_15353_b/train_15353_b_1.nii.gz...\n",
      "test all pooling\n",
      "Processing dataset/train/train_13041/train_13041_a/train_13041_a_1.nii.gz...\n",
      "test all pooling\n",
      "Processing dataset/train/train_16269/train_16269_a/train_16269_a_2.nii.gz...\n",
      "test all pooling\n",
      "Processing dataset/train/train_11081/train_11081_a/train_11081_a_1.nii.gz...\n",
      "test all pooling\n",
      "Processing dataset/train/train_16785/train_16785_a/train_16785_a_2.nii.gz...\n",
      "test all pooling\n",
      "Processing dataset/train/train_1750/train_1750_a/train_1750_a_1.nii.gz...\n",
      "test all pooling\n",
      "Processing dataset/train/train_2184/train_2184_a/train_2184_a_1.nii.gz...\n",
      "test all pooling\n",
      "Processing dataset/train/train_6223/train_6223_a/train_6223_a_1.nii.gz...\n",
      "test all pooling\n",
      "Processing dataset/train/train_14355/train_14355_a/train_14355_a_2.nii.gz...\n",
      "test all pooling\n",
      "Processing dataset/train/train_12009/train_12009_b/train_12009_b_1.nii.gz...\n",
      "test all pooling\n",
      "Processing dataset/train/train_3633/train_3633_a/train_3633_a_1.nii.gz...\n",
      "test all pooling\n",
      "Processing dataset/train/train_4348/train_4348_a/train_4348_a_1.nii.gz...\n",
      "test all pooling\n",
      "Processing dataset/train/train_6007/train_6007_a/train_6007_a_1.nii.gz...\n",
      "test all pooling\n",
      "Processing dataset/train/train_11588/train_11588_a/train_11588_a_1.nii.gz...\n",
      "test all pooling\n",
      "Processing dataset/train/train_7866/train_7866_a/train_7866_a_2.nii.gz...\n",
      "test all pooling\n",
      "Processing dataset/train/train_7188/train_7188_a/train_7188_a_1.nii.gz...\n",
      "test all pooling\n",
      "Processing dataset/train/train_17209/train_17209_a/train_17209_a_2.nii.gz...\n",
      "test all pooling\n",
      "Processing dataset/train/train_5493/train_5493_a/train_5493_a_2.nii.gz...\n",
      "test all pooling\n",
      "Processing dataset/train/train_19456/train_19456_a/train_19456_a_2.nii.gz...\n",
      "test all pooling\n",
      "Processing dataset/train/train_13865/train_13865_a/train_13865_a_1.nii.gz...\n",
      "test all pooling\n",
      "Processing dataset/train/train_2718/train_2718_b/train_2718_b_1.nii.gz...\n",
      "test all pooling\n",
      "Processing dataset/train/train_15034/train_15034_a/train_15034_a_2.nii.gz...\n",
      "test all pooling\n",
      "Processing dataset/train/train_18068/train_18068_b/train_18068_b_1.nii.gz...\n",
      "test all pooling\n",
      "Processing dataset/train/train_13201/train_13201_a/train_13201_a_2.nii.gz...\n",
      "test all pooling\n",
      "Processing dataset/train/train_15876/train_15876_a/train_15876_a_1.nii.gz...\n",
      "test all pooling\n",
      "Processing dataset/train/train_1585/train_1585_b/train_1585_b_1.nii.gz...\n",
      "test all pooling\n",
      "Processing dataset/train/train_17886/train_17886_a/train_17886_a_2.nii.gz...\n",
      "test all pooling\n",
      "Processing dataset/train/train_19144/train_19144_c/train_19144_c_2.nii.gz...\n",
      "test all pooling\n",
      "Processing dataset/train/train_15649/train_15649_a/train_15649_a_2.nii.gz...\n",
      "test all pooling\n",
      "Processing dataset/train/train_15339/train_15339_a/train_15339_a_1.nii.gz...\n",
      "test all pooling\n",
      "Processing dataset/train/train_3881/train_3881_a/train_3881_a_1.nii.gz...\n",
      "test all pooling\n",
      "Processing dataset/train/train_14835/train_14835_a/train_14835_a_1.nii.gz...\n",
      "test all pooling\n",
      "Processing dataset/train/train_18563/train_18563_a/train_18563_a_2.nii.gz...\n",
      "test all pooling\n",
      "Processing dataset/train/train_17418/train_17418_a/train_17418_a_2.nii.gz...\n",
      "test all pooling\n",
      "Processing dataset/train/train_14512/train_14512_a/train_14512_a_1.nii.gz...\n",
      "test all pooling\n",
      "Processing dataset/train/train_16950/train_16950_b/train_16950_b_1.nii.gz...\n",
      "test all pooling\n",
      "Processing dataset/train/train_15940/train_15940_b/train_15940_b_1.nii.gz...\n",
      "test all pooling\n",
      "Processing dataset/train/train_7710/train_7710_a/train_7710_a_2.nii.gz...\n",
      "test all pooling\n",
      "Processing dataset/train/train_5922/train_5922_a/train_5922_a_2.nii.gz...\n",
      "test all pooling\n",
      "Processing dataset/train/train_15900/train_15900_a/train_15900_a_1.nii.gz...\n",
      "test all pooling\n",
      "Processing dataset/train/train_14417/train_14417_a/train_14417_a_1.nii.gz...\n",
      "test all pooling\n",
      "Processing dataset/train/train_5514/train_5514_a/train_5514_a_2.nii.gz...\n",
      "test all pooling\n",
      "Processing dataset/train/train_10744/train_10744_g/train_10744_g_1.nii.gz...\n",
      "test all pooling\n",
      "Processing dataset/train/train_1709/train_1709_b/train_1709_b_2.nii.gz...\n",
      "test all pooling\n",
      "Processing dataset/train/train_3490/train_3490_a/train_3490_a_2.nii.gz...\n",
      "test all pooling\n",
      "Processing dataset/train/train_1270/train_1270_a/train_1270_a_1.nii.gz...\n",
      "test all pooling\n",
      "Processing dataset/train/train_14514/train_14514_b/train_14514_b_2.nii.gz...\n",
      "test all pooling\n",
      "Processing dataset/train/train_11270/train_11270_a/train_11270_a_1.nii.gz...\n",
      "test all pooling\n",
      "Processing dataset/train/train_17564/train_17564_a/train_17564_a_2.nii.gz...\n",
      "test all pooling\n",
      "Processing dataset/train/train_3517/train_3517_a/train_3517_a_1.nii.gz...\n",
      "test all pooling\n",
      "Processing dataset/train/train_11380/train_11380_a/train_11380_a_1.nii.gz...\n",
      "test all pooling\n",
      "Processing dataset/train/train_9064/train_9064_a/train_9064_a_1.nii.gz...\n",
      "test all pooling\n",
      "Processing dataset/train/train_5220/train_5220_a/train_5220_a_1.nii.gz...\n",
      "test all pooling\n",
      "Processing dataset/train/train_10576/train_10576_b/train_10576_b_2.nii.gz...\n",
      "test all pooling\n",
      "Processing dataset/train/train_2158/train_2158_a/train_2158_a_2.nii.gz...\n",
      "test all pooling\n",
      "Processing dataset/train/train_2039/train_2039_d/train_2039_d_2.nii.gz...\n",
      "test all pooling\n",
      "Processing dataset/train/train_14382/train_14382_a/train_14382_a_2.nii.gz...\n",
      "test all pooling\n",
      "Processing dataset/train/train_13737/train_13737_a/train_13737_a_2.nii.gz...\n",
      "test all pooling\n",
      "Processing dataset/train/train_13582/train_13582_a/train_13582_a_2.nii.gz...\n",
      "test all pooling\n",
      "Processing dataset/train/train_18642/train_18642_a/train_18642_a_2.nii.gz...\n",
      "test all pooling\n",
      "Processing dataset/train/train_5049/train_5049_a/train_5049_a_2.nii.gz...\n",
      "test all pooling\n",
      "Processing dataset/train/train_19893/train_19893_a/train_19893_a_1.nii.gz...\n",
      "test all pooling\n",
      "Processing dataset/train/train_16634/train_16634_a/train_16634_a_1.nii.gz...\n",
      "test all pooling\n",
      "Processing dataset/train/train_18373/train_18373_i/train_18373_i_1.nii.gz...\n",
      "test all pooling\n",
      "Processing dataset/train/train_11480/train_11480_c/train_11480_c_1.nii.gz...\n",
      "test all pooling\n",
      "Processing dataset/train/train_13739/train_13739_a/train_13739_a_4.nii.gz...\n",
      "test all pooling\n",
      "Processing dataset/train/train_6052/train_6052_a/train_6052_a_1.nii.gz...\n",
      "test all pooling\n",
      "Processing dataset/train/train_15563/train_15563_a/train_15563_a_2.nii.gz...\n",
      "test all pooling\n",
      "Processing dataset/train/train_14441/train_14441_b/train_14441_b_1.nii.gz...\n",
      "test all pooling\n",
      "Processing dataset/train/train_11753/train_11753_a/train_11753_a_1.nii.gz...\n",
      "test all pooling\n",
      "Processing dataset/train/train_17752/train_17752_a/train_17752_a_2.nii.gz...\n",
      "test all pooling\n",
      "Processing dataset/train/train_19907/train_19907_a/train_19907_a_2.nii.gz...\n",
      "test all pooling\n",
      "Processing dataset/train/train_11562/train_11562_a/train_11562_a_1.nii.gz...\n",
      "test all pooling\n",
      "Processing dataset/train/train_11759/train_11759_a/train_11759_a_1.nii.gz...\n",
      "test all pooling\n",
      "Processing dataset/train/train_9286/train_9286_a/train_9286_a_1.nii.gz...\n",
      "test all pooling\n",
      "Processing dataset/train/train_3664/train_3664_a/train_3664_a_2.nii.gz...\n",
      "test all pooling\n",
      "Processing dataset/train/train_14727/train_14727_a/train_14727_a_2.nii.gz...\n",
      "test all pooling\n",
      "Processing dataset/train/train_11494/train_11494_a/train_11494_a_1.nii.gz...\n",
      "test all pooling\n",
      "Processing dataset/train/train_8103/train_8103_a/train_8103_a_2.nii.gz...\n",
      "test all pooling\n",
      "Processing dataset/train/train_3080/train_3080_a/train_3080_a_2.nii.gz...\n",
      "test all pooling\n",
      "Processing dataset/train/train_8980/train_8980_a/train_8980_a_1.nii.gz...\n",
      "test all pooling\n",
      "Processing dataset/train/train_15545/train_15545_a/train_15545_a_2.nii.gz...\n",
      "test all pooling\n",
      "Processing dataset/train/train_10413/train_10413_a/train_10413_a_1.nii.gz...\n",
      "test all pooling\n",
      "Processing dataset/train/train_14984/train_14984_a/train_14984_a_2.nii.gz...\n",
      "test all pooling\n",
      "Processing dataset/train/train_7314/train_7314_a/train_7314_a_1.nii.gz...\n",
      "test all pooling\n",
      "Processing dataset/train/train_6679/train_6679_a/train_6679_a_2.nii.gz...\n",
      "test all pooling\n",
      "Processing dataset/train/train_3558/train_3558_a/train_3558_a_2.nii.gz...\n",
      "test all pooling\n",
      "Processing dataset/train/train_19260/train_19260_a/train_19260_a_2.nii.gz...\n",
      "test all pooling\n",
      "Processing dataset/train/train_9263/train_9263_a/train_9263_a_1.nii.gz...\n",
      "test all pooling\n",
      "Processing dataset/train/train_6135/train_6135_a/train_6135_a_1.nii.gz...\n",
      "test all pooling\n",
      "Processing dataset/train/train_9028/train_9028_a/train_9028_a_1.nii.gz...\n",
      "test all pooling\n",
      "Processing dataset/train/train_14447/train_14447_a/train_14447_a_1.nii.gz...\n",
      "test all pooling\n",
      "Processing dataset/train/train_14253/train_14253_a/train_14253_a_1.nii.gz...\n",
      "test all pooling\n",
      "Processing dataset/train/train_16753/train_16753_a/train_16753_a_2.nii.gz...\n",
      "test all pooling\n",
      "Processing dataset/train/train_9760/train_9760_a/train_9760_a_1.nii.gz...\n",
      "test all pooling\n",
      "Processing dataset/train/train_12898/train_12898_b/train_12898_b_1.nii.gz...\n",
      "test all pooling\n",
      "Processing dataset/train/train_15973/train_15973_a/train_15973_a_2.nii.gz...\n",
      "test all pooling\n",
      "Processing dataset/train/train_7122/train_7122_a/train_7122_a_2.nii.gz...\n",
      "test all pooling\n",
      "Processing dataset/train/train_16374/train_16374_a/train_16374_a_2.nii.gz...\n",
      "test all pooling\n",
      "Processing dataset/train/train_17089/train_17089_a/train_17089_a_2.nii.gz...\n",
      "test all pooling\n",
      "Processing dataset/train/train_16206/train_16206_a/train_16206_a_2.nii.gz...\n",
      "test all pooling\n",
      "Processing dataset/train/train_17507/train_17507_b/train_17507_b_1.nii.gz...\n",
      "test all pooling\n",
      "Processing dataset/train/train_6846/train_6846_a/train_6846_a_2.nii.gz...\n",
      "test all pooling\n",
      "Processing dataset/train/train_366/train_366_a/train_366_a_1.nii.gz...\n",
      "test all pooling\n",
      "Processing dataset/train/train_2223/train_2223_a/train_2223_a_2.nii.gz...\n",
      "test all pooling\n",
      "Processing dataset/train/train_11466/train_11466_a/train_11466_a_1.nii.gz...\n",
      "test all pooling\n",
      "Processing dataset/train/train_4242/train_4242_a/train_4242_a_1.nii.gz...\n",
      "test all pooling\n",
      "Processing dataset/train/train_1906/train_1906_a/train_1906_a_2.nii.gz...\n",
      "test all pooling\n",
      "Processing dataset/train/train_15971/train_15971_a/train_15971_a_2.nii.gz...\n",
      "test all pooling\n",
      "Processing dataset/train/train_7429/train_7429_a/train_7429_a_2.nii.gz...\n",
      "test all pooling\n",
      "Processing dataset/train/train_5573/train_5573_a/train_5573_a_1.nii.gz...\n",
      "test all pooling\n",
      "Processing dataset/train/train_9534/train_9534_b/train_9534_b_2.nii.gz...\n",
      "test all pooling\n",
      "Processing dataset/train/train_13203/train_13203_a/train_13203_a_1.nii.gz...\n",
      "test all pooling\n",
      "Processing dataset/train/train_10442/train_10442_a/train_10442_a_1.nii.gz...\n",
      "test all pooling\n",
      "Processing dataset/train/train_10385/train_10385_a/train_10385_a_2.nii.gz...\n",
      "test all pooling\n",
      "Processing dataset/train/train_12856/train_12856_a/train_12856_a_1.nii.gz...\n",
      "test all pooling\n",
      "Processing dataset/train/train_10785/train_10785_a/train_10785_a_1.nii.gz...\n",
      "test all pooling\n",
      "Processing dataset/train/train_12029/train_12029_a/train_12029_a_1.nii.gz...\n",
      "test all pooling\n",
      "Processing dataset/train/train_494/train_494_a/train_494_a_1.nii.gz...\n",
      "test all pooling\n",
      "Processing dataset/train/train_1292/train_1292_b/train_1292_b_2.nii.gz...\n",
      "test all pooling\n",
      "Processing dataset/train/train_794/train_794_a/train_794_a_1.nii.gz...\n",
      "test all pooling\n",
      "Processing dataset/train/train_7934/train_7934_a/train_7934_a_1.nii.gz...\n",
      "test all pooling\n",
      "Processing dataset/train/train_3851/train_3851_a/train_3851_a_2.nii.gz...\n",
      "test all pooling\n",
      "Processing dataset/train/train_4174/train_4174_a/train_4174_a_2.nii.gz...\n",
      "test all pooling\n",
      "Processing dataset/train/train_11280/train_11280_a/train_11280_a_2.nii.gz...\n"
     ]
    },
    {
     "data": {
      "application/vnd.jupyter.widget-view+json": {
       "model_id": "95647960c93540868238c0c11d7da37f",
       "version_major": 2,
       "version_minor": 0
      },
      "text/plain": [
       "dataset/train/train_11280/train_11280_a/(…):   0%|          | 0.00/209M [00:00<?, ?B/s]"
      ]
     },
     "metadata": {},
     "output_type": "display_data"
    },
    {
     "name": "stdout",
     "output_type": "stream",
     "text": [
      "test all pooling\n",
      "Processing dataset/train/train_11439/train_11439_a/train_11439_a_2.nii.gz...\n"
     ]
    },
    {
     "data": {
      "application/vnd.jupyter.widget-view+json": {
       "model_id": "f63def86999f447c8a3956744f04f3c0",
       "version_major": 2,
       "version_minor": 0
      },
      "text/plain": [
       "dataset/train/train_11439/train_11439_a/(…):   0%|          | 0.00/240M [00:00<?, ?B/s]"
      ]
     },
     "metadata": {},
     "output_type": "display_data"
    },
    {
     "name": "stdout",
     "output_type": "stream",
     "text": [
      "test all pooling\n",
      "Processing dataset/train/train_11158/train_11158_a/train_11158_a_1.nii.gz...\n"
     ]
    },
    {
     "data": {
      "application/vnd.jupyter.widget-view+json": {
       "model_id": "3438b4ba863d47eea68d5bdcc53c6ba1",
       "version_major": 2,
       "version_minor": 0
      },
      "text/plain": [
       "dataset/train/train_11158/train_11158_a/(…):   0%|          | 0.00/430M [00:00<?, ?B/s]"
      ]
     },
     "metadata": {},
     "output_type": "display_data"
    },
    {
     "name": "stdout",
     "output_type": "stream",
     "text": [
      "test all pooling\n",
      "Processing dataset/train/train_11175/train_11175_a/train_11175_a_1.nii.gz...\n"
     ]
    },
    {
     "data": {
      "application/vnd.jupyter.widget-view+json": {
       "model_id": "3fc11b7e339d419eaf171f3941232960",
       "version_major": 2,
       "version_minor": 0
      },
      "text/plain": [
       "dataset/train/train_11175/train_11175_a/(…):   0%|          | 0.00/79.7M [00:00<?, ?B/s]"
      ]
     },
     "metadata": {},
     "output_type": "display_data"
    },
    {
     "name": "stdout",
     "output_type": "stream",
     "text": [
      "test all pooling\n",
      "Processing dataset/train/train_8356/train_8356_b/train_8356_b_1.nii.gz...\n"
     ]
    },
    {
     "data": {
      "application/vnd.jupyter.widget-view+json": {
       "model_id": "f3e7277bf7d542e0baa833654751bc9f",
       "version_major": 2,
       "version_minor": 0
      },
      "text/plain": [
       "dataset/train/train_8356/train_8356_b/tr(…):   0%|          | 0.00/474M [00:00<?, ?B/s]"
      ]
     },
     "metadata": {},
     "output_type": "display_data"
    },
    {
     "name": "stdout",
     "output_type": "stream",
     "text": [
      "test all pooling\n",
      "Processing dataset/train/train_19657/train_19657_c/train_19657_c_2.nii.gz...\n"
     ]
    },
    {
     "data": {
      "application/vnd.jupyter.widget-view+json": {
       "model_id": "50750df7228b41dcb9331c8ada062fdd",
       "version_major": 2,
       "version_minor": 0
      },
      "text/plain": [
       "dataset/train/train_19657/train_19657_c/(…):   0%|          | 0.00/165M [00:00<?, ?B/s]"
      ]
     },
     "metadata": {},
     "output_type": "display_data"
    },
    {
     "name": "stdout",
     "output_type": "stream",
     "text": [
      "test all pooling\n",
      "Processing dataset/train/train_18350/train_18350_a/train_18350_a_1.nii.gz...\n"
     ]
    },
    {
     "data": {
      "application/vnd.jupyter.widget-view+json": {
       "model_id": "fece7eeb8bfb4df28fb474ec45c2652e",
       "version_major": 2,
       "version_minor": 0
      },
      "text/plain": [
       "dataset/train/train_18350/train_18350_a/(…):   0%|          | 0.00/476M [00:00<?, ?B/s]"
      ]
     },
     "metadata": {},
     "output_type": "display_data"
    },
    {
     "name": "stdout",
     "output_type": "stream",
     "text": [
      "test all pooling\n",
      "Processing dataset/train/train_10462/train_10462_a/train_10462_a_2.nii.gz...\n"
     ]
    },
    {
     "data": {
      "application/vnd.jupyter.widget-view+json": {
       "model_id": "9bd96aa2faff4c4fa01f10fa2ad70cba",
       "version_major": 2,
       "version_minor": 0
      },
      "text/plain": [
       "dataset/train/train_10462/train_10462_a/(…):   0%|          | 0.00/100M [00:00<?, ?B/s]"
      ]
     },
     "metadata": {},
     "output_type": "display_data"
    },
    {
     "name": "stdout",
     "output_type": "stream",
     "text": [
      "test all pooling\n",
      "Processing dataset/train/train_10635/train_10635_a/train_10635_a_1.nii.gz...\n"
     ]
    },
    {
     "data": {
      "application/vnd.jupyter.widget-view+json": {
       "model_id": "e6844867cdbe4d16b033494069c5058f",
       "version_major": 2,
       "version_minor": 0
      },
      "text/plain": [
       "dataset/train/train_10635/train_10635_a/(…):   0%|          | 0.00/97.4M [00:00<?, ?B/s]"
      ]
     },
     "metadata": {},
     "output_type": "display_data"
    },
    {
     "name": "stdout",
     "output_type": "stream",
     "text": [
      "test all pooling\n",
      "Processing dataset/train/train_19840/train_19840_a/train_19840_a_2.nii.gz...\n"
     ]
    },
    {
     "data": {
      "application/vnd.jupyter.widget-view+json": {
       "model_id": "60f9b52e94244f0b86be0376901648df",
       "version_major": 2,
       "version_minor": 0
      },
      "text/plain": [
       "dataset/train/train_19840/train_19840_a/(…):   0%|          | 0.00/199M [00:00<?, ?B/s]"
      ]
     },
     "metadata": {},
     "output_type": "display_data"
    },
    {
     "name": "stdout",
     "output_type": "stream",
     "text": [
      "test all pooling\n",
      "Processing dataset/train/train_4196/train_4196_b/train_4196_b_1.nii.gz...\n"
     ]
    },
    {
     "data": {
      "application/vnd.jupyter.widget-view+json": {
       "model_id": "44fcf79c813f4689be040815fcd26b7d",
       "version_major": 2,
       "version_minor": 0
      },
      "text/plain": [
       "dataset/train/train_4196/train_4196_b/tr(…):   0%|          | 0.00/149M [00:00<?, ?B/s]"
      ]
     },
     "metadata": {},
     "output_type": "display_data"
    },
    {
     "name": "stdout",
     "output_type": "stream",
     "text": [
      "test all pooling\n",
      "Processing dataset/train/train_4272/train_4272_f/train_4272_f_1.nii.gz...\n"
     ]
    },
    {
     "data": {
      "application/vnd.jupyter.widget-view+json": {
       "model_id": "2dcb2350ef9a4af5b33e096dca491b85",
       "version_major": 2,
       "version_minor": 0
      },
      "text/plain": [
       "dataset/train/train_4272/train_4272_f/tr(…):   0%|          | 0.00/129M [00:00<?, ?B/s]"
      ]
     },
     "metadata": {},
     "output_type": "display_data"
    },
    {
     "name": "stdout",
     "output_type": "stream",
     "text": [
      "test all pooling\n",
      "Processing dataset/train/train_5105/train_5105_e/train_5105_e_1.nii.gz...\n"
     ]
    },
    {
     "data": {
      "application/vnd.jupyter.widget-view+json": {
       "model_id": "cbf70adde7004b3995ae36865f5d5db9",
       "version_major": 2,
       "version_minor": 0
      },
      "text/plain": [
       "dataset/train/train_5105/train_5105_e/tr(…):   0%|          | 0.00/560M [00:00<?, ?B/s]"
      ]
     },
     "metadata": {},
     "output_type": "display_data"
    },
    {
     "name": "stdout",
     "output_type": "stream",
     "text": [
      "test all pooling\n",
      "Processing dataset/train/train_11856/train_11856_a/train_11856_a_1.nii.gz...\n"
     ]
    },
    {
     "data": {
      "application/vnd.jupyter.widget-view+json": {
       "model_id": "ec45895d888a4393a4f0124cddc32067",
       "version_major": 2,
       "version_minor": 0
      },
      "text/plain": [
       "dataset/train/train_11856/train_11856_a/(…):   0%|          | 0.00/247M [00:00<?, ?B/s]"
      ]
     },
     "metadata": {},
     "output_type": "display_data"
    },
    {
     "name": "stdout",
     "output_type": "stream",
     "text": [
      "test all pooling\n",
      "Processing dataset/train/train_19427/train_19427_c/train_19427_c_1.nii.gz...\n"
     ]
    },
    {
     "data": {
      "application/vnd.jupyter.widget-view+json": {
       "model_id": "422c4e3b36af46d08f0b2cbf18f931f7",
       "version_major": 2,
       "version_minor": 0
      },
      "text/plain": [
       "dataset/train/train_19427/train_19427_c/(…):   0%|          | 0.00/513M [00:00<?, ?B/s]"
      ]
     },
     "metadata": {},
     "output_type": "display_data"
    },
    {
     "name": "stdout",
     "output_type": "stream",
     "text": [
      "test all pooling\n",
      "Processing dataset/train/train_13527/train_13527_a/train_13527_a_1.nii.gz...\n"
     ]
    },
    {
     "data": {
      "application/vnd.jupyter.widget-view+json": {
       "model_id": "e9ce0f4a10cc4472b2756ec82e556261",
       "version_major": 2,
       "version_minor": 0
      },
      "text/plain": [
       "dataset/train/train_13527/train_13527_a/(…):   0%|          | 0.00/106M [00:00<?, ?B/s]"
      ]
     },
     "metadata": {},
     "output_type": "display_data"
    },
    {
     "name": "stdout",
     "output_type": "stream",
     "text": [
      "test all pooling\n",
      "Processing dataset/train/train_18097/train_18097_a/train_18097_a_2.nii.gz...\n"
     ]
    },
    {
     "data": {
      "application/vnd.jupyter.widget-view+json": {
       "model_id": "61690622afce49629ad5483f66834d40",
       "version_major": 2,
       "version_minor": 0
      },
      "text/plain": [
       "dataset/train/train_18097/train_18097_a/(…):   0%|          | 0.00/174M [00:00<?, ?B/s]"
      ]
     },
     "metadata": {},
     "output_type": "display_data"
    },
    {
     "name": "stdout",
     "output_type": "stream",
     "text": [
      "test all pooling\n",
      "Processing dataset/train/train_15026/train_15026_a/train_15026_a_2.nii.gz...\n"
     ]
    },
    {
     "data": {
      "application/vnd.jupyter.widget-view+json": {
       "model_id": "2bf0c09542f24bcdbc9d1c120f824786",
       "version_major": 2,
       "version_minor": 0
      },
      "text/plain": [
       "dataset/train/train_15026/train_15026_a/(…):   0%|          | 0.00/235M [00:00<?, ?B/s]"
      ]
     },
     "metadata": {},
     "output_type": "display_data"
    },
    {
     "name": "stdout",
     "output_type": "stream",
     "text": [
      "test all pooling\n",
      "Processing dataset/train/train_870/train_870_a/train_870_a_2.nii.gz...\n"
     ]
    },
    {
     "data": {
      "application/vnd.jupyter.widget-view+json": {
       "model_id": "324d6107f02f4e3e976ccff1c3e3e464",
       "version_major": 2,
       "version_minor": 0
      },
      "text/plain": [
       "dataset/train/train_870/train_870_a/trai(…):   0%|          | 0.00/225M [00:00<?, ?B/s]"
      ]
     },
     "metadata": {},
     "output_type": "display_data"
    },
    {
     "name": "stdout",
     "output_type": "stream",
     "text": [
      "test all pooling\n",
      "Processing dataset/train/train_7594/train_7594_a/train_7594_a_2.nii.gz...\n"
     ]
    },
    {
     "data": {
      "application/vnd.jupyter.widget-view+json": {
       "model_id": "6f65c955144b40af846f051416022426",
       "version_major": 2,
       "version_minor": 0
      },
      "text/plain": [
       "dataset/train/train_7594/train_7594_a/tr(…):   0%|          | 0.00/220M [00:00<?, ?B/s]"
      ]
     },
     "metadata": {},
     "output_type": "display_data"
    },
    {
     "name": "stdout",
     "output_type": "stream",
     "text": [
      "test all pooling\n",
      "Processing dataset/train/train_1946/train_1946_a/train_1946_a_1.nii.gz...\n"
     ]
    },
    {
     "data": {
      "application/vnd.jupyter.widget-view+json": {
       "model_id": "7d69f5cbaf994c89abd647bf867a5c42",
       "version_major": 2,
       "version_minor": 0
      },
      "text/plain": [
       "dataset/train/train_1946/train_1946_a/tr(…):   0%|          | 0.00/499M [00:00<?, ?B/s]"
      ]
     },
     "metadata": {},
     "output_type": "display_data"
    },
    {
     "name": "stdout",
     "output_type": "stream",
     "text": [
      "test all pooling\n",
      "Processing dataset/train/train_11336/train_11336_b/train_11336_b_2.nii.gz...\n"
     ]
    },
    {
     "data": {
      "application/vnd.jupyter.widget-view+json": {
       "model_id": "b796d66a5133425888a3691ac6b5fea9",
       "version_major": 2,
       "version_minor": 0
      },
      "text/plain": [
       "dataset/train/train_11336/train_11336_b/(…):   0%|          | 0.00/213M [00:00<?, ?B/s]"
      ]
     },
     "metadata": {},
     "output_type": "display_data"
    },
    {
     "name": "stdout",
     "output_type": "stream",
     "text": [
      "test all pooling\n",
      "Processing dataset/train/train_16743/train_16743_a/train_16743_a_1.nii.gz...\n"
     ]
    },
    {
     "data": {
      "application/vnd.jupyter.widget-view+json": {
       "model_id": "1cf4cf28589d477faae898b8e6e2f154",
       "version_major": 2,
       "version_minor": 0
      },
      "text/plain": [
       "dataset/train/train_16743/train_16743_a/(…):   0%|          | 0.00/419M [00:00<?, ?B/s]"
      ]
     },
     "metadata": {},
     "output_type": "display_data"
    },
    {
     "name": "stdout",
     "output_type": "stream",
     "text": [
      "test all pooling\n",
      "Processing dataset/train/train_4671/train_4671_a/train_4671_a_2.nii.gz...\n"
     ]
    },
    {
     "data": {
      "application/vnd.jupyter.widget-view+json": {
       "model_id": "48387660d1234ac794d2579308a52e6a",
       "version_major": 2,
       "version_minor": 0
      },
      "text/plain": [
       "dataset/train/train_4671/train_4671_a/tr(…):   0%|          | 0.00/228M [00:00<?, ?B/s]"
      ]
     },
     "metadata": {},
     "output_type": "display_data"
    },
    {
     "name": "stdout",
     "output_type": "stream",
     "text": [
      "test all pooling\n",
      "Processing dataset/train/train_9384/train_9384_a/train_9384_a_2.nii.gz...\n"
     ]
    },
    {
     "data": {
      "application/vnd.jupyter.widget-view+json": {
       "model_id": "b66fd1f899fd4928be24e4fcc513b1fc",
       "version_major": 2,
       "version_minor": 0
      },
      "text/plain": [
       "dataset/train/train_9384/train_9384_a/tr(…):   0%|          | 0.00/130M [00:00<?, ?B/s]"
      ]
     },
     "metadata": {},
     "output_type": "display_data"
    },
    {
     "name": "stdout",
     "output_type": "stream",
     "text": [
      "test all pooling\n",
      "Processing dataset/train/train_1029/train_1029_a/train_1029_a_2.nii.gz...\n"
     ]
    },
    {
     "data": {
      "application/vnd.jupyter.widget-view+json": {
       "model_id": "4aad318d1fa84b14af3ed149ce2ff67f",
       "version_major": 2,
       "version_minor": 0
      },
      "text/plain": [
       "dataset/train/train_1029/train_1029_a/tr(…):   0%|          | 0.00/163M [00:00<?, ?B/s]"
      ]
     },
     "metadata": {},
     "output_type": "display_data"
    },
    {
     "name": "stdout",
     "output_type": "stream",
     "text": [
      "test all pooling\n",
      "Processing dataset/train/train_18520/train_18520_a/train_18520_a_1.nii.gz...\n"
     ]
    },
    {
     "data": {
      "application/vnd.jupyter.widget-view+json": {
       "model_id": "6d9d73302e6f429aab94892154f11c0a",
       "version_major": 2,
       "version_minor": 0
      },
      "text/plain": [
       "dataset/train/train_18520/train_18520_a/(…):   0%|          | 0.00/478M [00:00<?, ?B/s]"
      ]
     },
     "metadata": {},
     "output_type": "display_data"
    },
    {
     "name": "stdout",
     "output_type": "stream",
     "text": [
      "test all pooling\n",
      "Processing dataset/train/train_10051/train_10051_a/train_10051_a_2.nii.gz...\n"
     ]
    },
    {
     "data": {
      "application/vnd.jupyter.widget-view+json": {
       "model_id": "72528a4dc2d34c03ace33f7d72d01f11",
       "version_major": 2,
       "version_minor": 0
      },
      "text/plain": [
       "dataset/train/train_10051/train_10051_a/(…):   0%|          | 0.00/222M [00:00<?, ?B/s]"
      ]
     },
     "metadata": {},
     "output_type": "display_data"
    },
    {
     "name": "stdout",
     "output_type": "stream",
     "text": [
      "test all pooling\n",
      "Processing dataset/train/train_12821/train_12821_a/train_12821_a_2.nii.gz...\n"
     ]
    },
    {
     "data": {
      "application/vnd.jupyter.widget-view+json": {
       "model_id": "85f927c542984aa8879bf1079952248d",
       "version_major": 2,
       "version_minor": 0
      },
      "text/plain": [
       "dataset/train/train_12821/train_12821_a/(…):   0%|          | 0.00/161M [00:00<?, ?B/s]"
      ]
     },
     "metadata": {},
     "output_type": "display_data"
    },
    {
     "name": "stdout",
     "output_type": "stream",
     "text": [
      "test all pooling\n",
      "Processing dataset/train/train_1870/train_1870_a/train_1870_a_2.nii.gz...\n"
     ]
    },
    {
     "data": {
      "application/vnd.jupyter.widget-view+json": {
       "model_id": "07890402fc824ee5b1f1a2c7ad65ce8e",
       "version_major": 2,
       "version_minor": 0
      },
      "text/plain": [
       "dataset/train/train_1870/train_1870_a/tr(…):   0%|          | 0.00/205M [00:00<?, ?B/s]"
      ]
     },
     "metadata": {},
     "output_type": "display_data"
    },
    {
     "name": "stdout",
     "output_type": "stream",
     "text": [
      "test all pooling\n",
      "Processing dataset/train/train_4836/train_4836_c/train_4836_c_1.nii.gz...\n"
     ]
    },
    {
     "data": {
      "application/vnd.jupyter.widget-view+json": {
       "model_id": "28a6b4f79aa54decafcfcb977b64af36",
       "version_major": 2,
       "version_minor": 0
      },
      "text/plain": [
       "dataset/train/train_4836/train_4836_c/tr(…):   0%|          | 0.00/126M [00:00<?, ?B/s]"
      ]
     },
     "metadata": {},
     "output_type": "display_data"
    },
    {
     "name": "stdout",
     "output_type": "stream",
     "text": [
      "test all pooling\n",
      "Processing dataset/train/train_9634/train_9634_a/train_9634_a_1.nii.gz...\n"
     ]
    },
    {
     "data": {
      "application/vnd.jupyter.widget-view+json": {
       "model_id": "c94b60457cb44bd9b09d7dac46a75d63",
       "version_major": 2,
       "version_minor": 0
      },
      "text/plain": [
       "dataset/train/train_9634/train_9634_a/tr(…):   0%|          | 0.00/454M [00:00<?, ?B/s]"
      ]
     },
     "metadata": {},
     "output_type": "display_data"
    },
    {
     "name": "stdout",
     "output_type": "stream",
     "text": [
      "test all pooling\n",
      "Processing dataset/train/train_16222/train_16222_a/train_16222_a_2.nii.gz...\n"
     ]
    },
    {
     "data": {
      "application/vnd.jupyter.widget-view+json": {
       "model_id": "7682bff2958a452098895f969fe2b5c5",
       "version_major": 2,
       "version_minor": 0
      },
      "text/plain": [
       "dataset/train/train_16222/train_16222_a/(…):   0%|          | 0.00/191M [00:00<?, ?B/s]"
      ]
     },
     "metadata": {},
     "output_type": "display_data"
    },
    {
     "name": "stdout",
     "output_type": "stream",
     "text": [
      "test all pooling\n",
      "Processing dataset/train/train_16609/train_16609_a/train_16609_a_2.nii.gz...\n"
     ]
    },
    {
     "data": {
      "application/vnd.jupyter.widget-view+json": {
       "model_id": "3c57ed7088f54408bfefa4d7fc2582c7",
       "version_major": 2,
       "version_minor": 0
      },
      "text/plain": [
       "dataset/train/train_16609/train_16609_a/(…):   0%|          | 0.00/254M [00:00<?, ?B/s]"
      ]
     },
     "metadata": {},
     "output_type": "display_data"
    },
    {
     "name": "stdout",
     "output_type": "stream",
     "text": [
      "test all pooling\n",
      "Processing dataset/train/train_10827/train_10827_a/train_10827_a_2.nii.gz...\n"
     ]
    },
    {
     "data": {
      "application/vnd.jupyter.widget-view+json": {
       "model_id": "dea7019a714d45ad93c31509552d0e06",
       "version_major": 2,
       "version_minor": 0
      },
      "text/plain": [
       "dataset/train/train_10827/train_10827_a/(…):   0%|          | 0.00/203M [00:00<?, ?B/s]"
      ]
     },
     "metadata": {},
     "output_type": "display_data"
    },
    {
     "name": "stdout",
     "output_type": "stream",
     "text": [
      "test all pooling\n",
      "Processing dataset/train/train_18449/train_18449_a/train_18449_a_1.nii.gz...\n"
     ]
    },
    {
     "data": {
      "application/vnd.jupyter.widget-view+json": {
       "model_id": "cf0c3fee808e41959c81ce3a36a099ca",
       "version_major": 2,
       "version_minor": 0
      },
      "text/plain": [
       "dataset/train/train_18449/train_18449_a/(…):   0%|          | 0.00/170M [00:00<?, ?B/s]"
      ]
     },
     "metadata": {},
     "output_type": "display_data"
    },
    {
     "name": "stdout",
     "output_type": "stream",
     "text": [
      "test all pooling\n",
      "Processing dataset/train/train_8125/train_8125_e/train_8125_e_1.nii.gz...\n"
     ]
    },
    {
     "data": {
      "application/vnd.jupyter.widget-view+json": {
       "model_id": "ca477aa3051c4243a89f048f4a424001",
       "version_major": 2,
       "version_minor": 0
      },
      "text/plain": [
       "dataset/train/train_8125/train_8125_e/tr(…):   0%|          | 0.00/131M [00:00<?, ?B/s]"
      ]
     },
     "metadata": {},
     "output_type": "display_data"
    },
    {
     "name": "stdout",
     "output_type": "stream",
     "text": [
      "test all pooling\n",
      "Processing dataset/train/train_4861/train_4861_a/train_4861_a_2.nii.gz...\n"
     ]
    },
    {
     "data": {
      "application/vnd.jupyter.widget-view+json": {
       "model_id": "71a564d642584f60a429fee0c2db0e02",
       "version_major": 2,
       "version_minor": 0
      },
      "text/plain": [
       "dataset/train/train_4861/train_4861_a/tr(…):   0%|          | 0.00/97.2M [00:00<?, ?B/s]"
      ]
     },
     "metadata": {},
     "output_type": "display_data"
    },
    {
     "name": "stdout",
     "output_type": "stream",
     "text": [
      "test all pooling\n",
      "Processing dataset/train/train_16204/train_16204_a/train_16204_a_2.nii.gz...\n"
     ]
    },
    {
     "data": {
      "application/vnd.jupyter.widget-view+json": {
       "model_id": "f7200c0e3d7745069ca3efd660c53c0c",
       "version_major": 2,
       "version_minor": 0
      },
      "text/plain": [
       "dataset/train/train_16204/train_16204_a/(…):   0%|          | 0.00/202M [00:00<?, ?B/s]"
      ]
     },
     "metadata": {},
     "output_type": "display_data"
    },
    {
     "name": "stdout",
     "output_type": "stream",
     "text": [
      "test all pooling\n",
      "Processing dataset/train/train_2880/train_2880_a/train_2880_a_1.nii.gz...\n"
     ]
    },
    {
     "data": {
      "application/vnd.jupyter.widget-view+json": {
       "model_id": "64d052330b6f4489900936620f54c50c",
       "version_major": 2,
       "version_minor": 0
      },
      "text/plain": [
       "dataset/train/train_2880/train_2880_a/tr(…):   0%|          | 0.00/134M [00:00<?, ?B/s]"
      ]
     },
     "metadata": {},
     "output_type": "display_data"
    },
    {
     "name": "stdout",
     "output_type": "stream",
     "text": [
      "test all pooling\n",
      "Processing dataset/train/train_2879/train_2879_a/train_2879_a_2.nii.gz...\n"
     ]
    },
    {
     "data": {
      "application/vnd.jupyter.widget-view+json": {
       "model_id": "15afa544e5c14ed4b466499b93e88a2c",
       "version_major": 2,
       "version_minor": 0
      },
      "text/plain": [
       "dataset/train/train_2879/train_2879_a/tr(…):   0%|          | 0.00/228M [00:00<?, ?B/s]"
      ]
     },
     "metadata": {},
     "output_type": "display_data"
    },
    {
     "name": "stdout",
     "output_type": "stream",
     "text": [
      "test all pooling\n",
      "Processing dataset/train/train_464/train_464_a/train_464_a_1.nii.gz...\n"
     ]
    },
    {
     "data": {
      "application/vnd.jupyter.widget-view+json": {
       "model_id": "5d0bd9a870fb4fc0a63de1bddaa2eeb9",
       "version_major": 2,
       "version_minor": 0
      },
      "text/plain": [
       "dataset/train/train_464/train_464_a/trai(…):   0%|          | 0.00/455M [00:00<?, ?B/s]"
      ]
     },
     "metadata": {},
     "output_type": "display_data"
    },
    {
     "name": "stdout",
     "output_type": "stream",
     "text": [
      "test all pooling\n",
      "Processing dataset/train/train_7758/train_7758_b/train_7758_b_2.nii.gz...\n"
     ]
    },
    {
     "data": {
      "application/vnd.jupyter.widget-view+json": {
       "model_id": "b14953370d914e439ea4adc0fe2835b5",
       "version_major": 2,
       "version_minor": 0
      },
      "text/plain": [
       "dataset/train/train_7758/train_7758_b/tr(…):   0%|          | 0.00/263M [00:00<?, ?B/s]"
      ]
     },
     "metadata": {},
     "output_type": "display_data"
    },
    {
     "name": "stdout",
     "output_type": "stream",
     "text": [
      "test all pooling\n",
      "Processing dataset/train/train_5227/train_5227_a/train_5227_a_1.nii.gz...\n"
     ]
    },
    {
     "data": {
      "application/vnd.jupyter.widget-view+json": {
       "model_id": "883fc80c80784b35ae36aef485409b48",
       "version_major": 2,
       "version_minor": 0
      },
      "text/plain": [
       "dataset/train/train_5227/train_5227_a/tr(…):   0%|          | 0.00/262M [00:00<?, ?B/s]"
      ]
     },
     "metadata": {},
     "output_type": "display_data"
    },
    {
     "name": "stdout",
     "output_type": "stream",
     "text": [
      "test all pooling\n",
      "Processing dataset/train/train_599/train_599_a/train_599_a_1.nii.gz...\n"
     ]
    },
    {
     "data": {
      "application/vnd.jupyter.widget-view+json": {
       "model_id": "8b2ca236b1144bb4a7369c4f27ec3b99",
       "version_major": 2,
       "version_minor": 0
      },
      "text/plain": [
       "dataset/train/train_599/train_599_a/trai(…):   0%|          | 0.00/254M [00:00<?, ?B/s]"
      ]
     },
     "metadata": {},
     "output_type": "display_data"
    },
    {
     "name": "stdout",
     "output_type": "stream",
     "text": [
      "test all pooling\n",
      "Processing dataset/train/train_16647/train_16647_a/train_16647_a_1.nii.gz...\n"
     ]
    },
    {
     "data": {
      "application/vnd.jupyter.widget-view+json": {
       "model_id": "7c46bb4f0346470d9c3e8af32336654d",
       "version_major": 2,
       "version_minor": 0
      },
      "text/plain": [
       "dataset/train/train_16647/train_16647_a/(…):   0%|          | 0.00/521M [00:00<?, ?B/s]"
      ]
     },
     "metadata": {},
     "output_type": "display_data"
    },
    {
     "name": "stdout",
     "output_type": "stream",
     "text": [
      "test all pooling\n",
      "Processing dataset/train/train_9475/train_9475_a/train_9475_a_2.nii.gz...\n"
     ]
    },
    {
     "data": {
      "application/vnd.jupyter.widget-view+json": {
       "model_id": "8e4bb46fd12f494b9233c7203078f103",
       "version_major": 2,
       "version_minor": 0
      },
      "text/plain": [
       "dataset/train/train_9475/train_9475_a/tr(…):   0%|          | 0.00/128M [00:00<?, ?B/s]"
      ]
     },
     "metadata": {},
     "output_type": "display_data"
    },
    {
     "name": "stdout",
     "output_type": "stream",
     "text": [
      "test all pooling\n",
      "Processing dataset/train/train_6496/train_6496_a/train_6496_a_1.nii.gz...\n"
     ]
    },
    {
     "data": {
      "application/vnd.jupyter.widget-view+json": {
       "model_id": "406e979d0517432bb9edc44f301ad8d0",
       "version_major": 2,
       "version_minor": 0
      },
      "text/plain": [
       "dataset/train/train_6496/train_6496_a/tr(…):   0%|          | 0.00/530M [00:00<?, ?B/s]"
      ]
     },
     "metadata": {},
     "output_type": "display_data"
    },
    {
     "name": "stdout",
     "output_type": "stream",
     "text": [
      "test all pooling\n",
      "Processing dataset/train/train_9160/train_9160_a/train_9160_a_1.nii.gz...\n"
     ]
    },
    {
     "data": {
      "application/vnd.jupyter.widget-view+json": {
       "model_id": "4f9c41e3025d473fa3f534d96db81d87",
       "version_major": 2,
       "version_minor": 0
      },
      "text/plain": [
       "dataset/train/train_9160/train_9160_a/tr(…):   0%|          | 0.00/496M [00:00<?, ?B/s]"
      ]
     },
     "metadata": {},
     "output_type": "display_data"
    },
    {
     "name": "stdout",
     "output_type": "stream",
     "text": [
      "test all pooling\n",
      "Processing dataset/train/train_19052/train_19052_a/train_19052_a_1.nii.gz...\n"
     ]
    },
    {
     "data": {
      "application/vnd.jupyter.widget-view+json": {
       "model_id": "fecbfb6b3a264107b973775120b83a22",
       "version_major": 2,
       "version_minor": 0
      },
      "text/plain": [
       "dataset/train/train_19052/train_19052_a/(…):   0%|          | 0.00/130M [00:00<?, ?B/s]"
      ]
     },
     "metadata": {},
     "output_type": "display_data"
    },
    {
     "name": "stdout",
     "output_type": "stream",
     "text": [
      "test all pooling\n",
      "Processing dataset/train/train_14662/train_14662_a/train_14662_a_2.nii.gz...\n"
     ]
    },
    {
     "data": {
      "application/vnd.jupyter.widget-view+json": {
       "model_id": "0bcccf0943bc45009715563ac852ad1c",
       "version_major": 2,
       "version_minor": 0
      },
      "text/plain": [
       "dataset/train/train_14662/train_14662_a/(…):   0%|          | 0.00/230M [00:00<?, ?B/s]"
      ]
     },
     "metadata": {},
     "output_type": "display_data"
    },
    {
     "name": "stdout",
     "output_type": "stream",
     "text": [
      "test all pooling\n",
      "Processing dataset/train/train_17046/train_17046_a/train_17046_a_1.nii.gz...\n"
     ]
    },
    {
     "data": {
      "application/vnd.jupyter.widget-view+json": {
       "model_id": "c36f835822774024b3ae0d9d2b7511e6",
       "version_major": 2,
       "version_minor": 0
      },
      "text/plain": [
       "dataset/train/train_17046/train_17046_a/(…):   0%|          | 0.00/138M [00:00<?, ?B/s]"
      ]
     },
     "metadata": {},
     "output_type": "display_data"
    },
    {
     "name": "stdout",
     "output_type": "stream",
     "text": [
      "test all pooling\n",
      "Processing dataset/train/train_3732/train_3732_b/train_3732_b_2.nii.gz...\n"
     ]
    },
    {
     "data": {
      "application/vnd.jupyter.widget-view+json": {
       "model_id": "e323cc7153424fe5be3cf82e7cb924ea",
       "version_major": 2,
       "version_minor": 0
      },
      "text/plain": [
       "dataset/train/train_3732/train_3732_b/tr(…):   0%|          | 0.00/80.4M [00:00<?, ?B/s]"
      ]
     },
     "metadata": {},
     "output_type": "display_data"
    },
    {
     "name": "stdout",
     "output_type": "stream",
     "text": [
      "test all pooling\n",
      "Processing dataset/train/train_1854/train_1854_a/train_1854_a_2.nii.gz...\n"
     ]
    },
    {
     "data": {
      "application/vnd.jupyter.widget-view+json": {
       "model_id": "551b4e9980ad4506ad7a803f2ab4b004",
       "version_major": 2,
       "version_minor": 0
      },
      "text/plain": [
       "dataset/train/train_1854/train_1854_a/tr(…):   0%|          | 0.00/863M [00:00<?, ?B/s]"
      ]
     },
     "metadata": {},
     "output_type": "display_data"
    },
    {
     "name": "stdout",
     "output_type": "stream",
     "text": [
      "test all pooling\n",
      "Processing dataset/train/train_15391/train_15391_a/train_15391_a_2.nii.gz...\n"
     ]
    },
    {
     "data": {
      "application/vnd.jupyter.widget-view+json": {
       "model_id": "1aac7ae8fa224ff2851fc11ec73946f2",
       "version_major": 2,
       "version_minor": 0
      },
      "text/plain": [
       "dataset/train/train_15391/train_15391_a/(…):   0%|          | 0.00/157M [00:00<?, ?B/s]"
      ]
     },
     "metadata": {},
     "output_type": "display_data"
    },
    {
     "name": "stdout",
     "output_type": "stream",
     "text": [
      "test all pooling\n",
      "Processing dataset/train/train_5192/train_5192_a/train_5192_a_2.nii.gz...\n"
     ]
    },
    {
     "data": {
      "application/vnd.jupyter.widget-view+json": {
       "model_id": "cbd596f9348345ce86b0c3fdca67209c",
       "version_major": 2,
       "version_minor": 0
      },
      "text/plain": [
       "dataset/train/train_5192/train_5192_a/tr(…):   0%|          | 0.00/120M [00:00<?, ?B/s]"
      ]
     },
     "metadata": {},
     "output_type": "display_data"
    },
    {
     "name": "stdout",
     "output_type": "stream",
     "text": [
      "test all pooling\n",
      "Processing dataset/train/train_12614/train_12614_a/train_12614_a_1.nii.gz...\n"
     ]
    },
    {
     "data": {
      "application/vnd.jupyter.widget-view+json": {
       "model_id": "209a7d2ce7d24a528498bb9f4863d1c5",
       "version_major": 2,
       "version_minor": 0
      },
      "text/plain": [
       "dataset/train/train_12614/train_12614_a/(…):   0%|          | 0.00/91.2M [00:00<?, ?B/s]"
      ]
     },
     "metadata": {},
     "output_type": "display_data"
    },
    {
     "name": "stdout",
     "output_type": "stream",
     "text": [
      "test all pooling\n",
      "Processing dataset/train/train_1878/train_1878_a/train_1878_a_1.nii.gz...\n"
     ]
    },
    {
     "data": {
      "application/vnd.jupyter.widget-view+json": {
       "model_id": "1825a8122b004caa92790a0b3525c49e",
       "version_major": 2,
       "version_minor": 0
      },
      "text/plain": [
       "dataset/train/train_1878/train_1878_a/tr(…):   0%|          | 0.00/164M [00:00<?, ?B/s]"
      ]
     },
     "metadata": {},
     "output_type": "display_data"
    },
    {
     "name": "stdout",
     "output_type": "stream",
     "text": [
      "test all pooling\n",
      "Processing dataset/train/train_16323/train_16323_a/train_16323_a_1.nii.gz...\n"
     ]
    },
    {
     "data": {
      "application/vnd.jupyter.widget-view+json": {
       "model_id": "5f02e2e502144fc2a86ce3fd7d91ce15",
       "version_major": 2,
       "version_minor": 0
      },
      "text/plain": [
       "dataset/train/train_16323/train_16323_a/(…):   0%|          | 0.00/441M [00:00<?, ?B/s]"
      ]
     },
     "metadata": {},
     "output_type": "display_data"
    },
    {
     "name": "stdout",
     "output_type": "stream",
     "text": [
      "test all pooling\n",
      "Processing dataset/train/train_12304/train_12304_a/train_12304_a_2.nii.gz...\n"
     ]
    },
    {
     "data": {
      "application/vnd.jupyter.widget-view+json": {
       "model_id": "3484d0ad154f4a9cb19f1db60671d558",
       "version_major": 2,
       "version_minor": 0
      },
      "text/plain": [
       "dataset/train/train_12304/train_12304_a/(…):   0%|          | 0.00/390M [00:00<?, ?B/s]"
      ]
     },
     "metadata": {},
     "output_type": "display_data"
    },
    {
     "name": "stdout",
     "output_type": "stream",
     "text": [
      "test all pooling\n",
      "Processing dataset/train/train_8148/train_8148_a/train_8148_a_2.nii.gz...\n"
     ]
    },
    {
     "data": {
      "application/vnd.jupyter.widget-view+json": {
       "model_id": "b36f74dafb124758975ff19b6b898548",
       "version_major": 2,
       "version_minor": 0
      },
      "text/plain": [
       "dataset/train/train_8148/train_8148_a/tr(…):   0%|          | 0.00/94.0M [00:00<?, ?B/s]"
      ]
     },
     "metadata": {},
     "output_type": "display_data"
    },
    {
     "name": "stdout",
     "output_type": "stream",
     "text": [
      "test all pooling\n",
      "Processing dataset/train/train_14300/train_14300_a/train_14300_a_1.nii.gz...\n"
     ]
    },
    {
     "data": {
      "application/vnd.jupyter.widget-view+json": {
       "model_id": "0134ec06f6174b599307c6a7bab60a4d",
       "version_major": 2,
       "version_minor": 0
      },
      "text/plain": [
       "dataset/train/train_14300/train_14300_a/(…):   0%|          | 0.00/486M [00:00<?, ?B/s]"
      ]
     },
     "metadata": {},
     "output_type": "display_data"
    },
    {
     "name": "stdout",
     "output_type": "stream",
     "text": [
      "test all pooling\n",
      "Processing dataset/train/train_13033/train_13033_a/train_13033_a_1.nii.gz...\n"
     ]
    },
    {
     "data": {
      "application/vnd.jupyter.widget-view+json": {
       "model_id": "1231d80b90cb49e688d6efa58a14a91e",
       "version_major": 2,
       "version_minor": 0
      },
      "text/plain": [
       "dataset/train/train_13033/train_13033_a/(…):   0%|          | 0.00/137M [00:00<?, ?B/s]"
      ]
     },
     "metadata": {},
     "output_type": "display_data"
    },
    {
     "name": "stdout",
     "output_type": "stream",
     "text": [
      "test all pooling\n",
      "Processing dataset/train/train_1683/train_1683_a/train_1683_a_1.nii.gz...\n"
     ]
    },
    {
     "data": {
      "application/vnd.jupyter.widget-view+json": {
       "model_id": "693f9b79b2e248fbab8273b66da48b02",
       "version_major": 2,
       "version_minor": 0
      },
      "text/plain": [
       "dataset/train/train_1683/train_1683_a/tr(…):   0%|          | 0.00/429M [00:00<?, ?B/s]"
      ]
     },
     "metadata": {},
     "output_type": "display_data"
    },
    {
     "name": "stdout",
     "output_type": "stream",
     "text": [
      "test all pooling\n",
      "Processing dataset/train/train_13348/train_13348_a/train_13348_a_2.nii.gz...\n"
     ]
    },
    {
     "data": {
      "application/vnd.jupyter.widget-view+json": {
       "model_id": "b4aac6dc1df347e08d0ff24e92d1519d",
       "version_major": 2,
       "version_minor": 0
      },
      "text/plain": [
       "dataset/train/train_13348/train_13348_a/(…):   0%|          | 0.00/175M [00:00<?, ?B/s]"
      ]
     },
     "metadata": {},
     "output_type": "display_data"
    },
    {
     "name": "stdout",
     "output_type": "stream",
     "text": [
      "test all pooling\n",
      "Processing dataset/train/train_10834/train_10834_a/train_10834_a_1.nii.gz...\n"
     ]
    },
    {
     "data": {
      "application/vnd.jupyter.widget-view+json": {
       "model_id": "5b00c004e60444f188a522b6eccbc548",
       "version_major": 2,
       "version_minor": 0
      },
      "text/plain": [
       "dataset/train/train_10834/train_10834_a/(…):   0%|          | 0.00/142M [00:00<?, ?B/s]"
      ]
     },
     "metadata": {},
     "output_type": "display_data"
    },
    {
     "name": "stdout",
     "output_type": "stream",
     "text": [
      "test all pooling\n",
      "Processing dataset/train/train_15872/train_15872_a/train_15872_a_1.nii.gz...\n"
     ]
    },
    {
     "data": {
      "application/vnd.jupyter.widget-view+json": {
       "model_id": "b7a6436ea8bf4e30b0cc3df4d74957f6",
       "version_major": 2,
       "version_minor": 0
      },
      "text/plain": [
       "dataset/train/train_15872/train_15872_a/(…):   0%|          | 0.00/418M [00:00<?, ?B/s]"
      ]
     },
     "metadata": {},
     "output_type": "display_data"
    },
    {
     "name": "stdout",
     "output_type": "stream",
     "text": [
      "test all pooling\n",
      "Processing dataset/train/train_18704/train_18704_a/train_18704_a_2.nii.gz...\n"
     ]
    },
    {
     "data": {
      "application/vnd.jupyter.widget-view+json": {
       "model_id": "c241d442dea44671aa329d44f9e95fb7",
       "version_major": 2,
       "version_minor": 0
      },
      "text/plain": [
       "dataset/train/train_18704/train_18704_a/(…):   0%|          | 0.00/487M [00:00<?, ?B/s]"
      ]
     },
     "metadata": {},
     "output_type": "display_data"
    },
    {
     "name": "stdout",
     "output_type": "stream",
     "text": [
      "test all pooling\n",
      "Processing dataset/train/train_419/train_419_a/train_419_a_2.nii.gz...\n"
     ]
    },
    {
     "data": {
      "application/vnd.jupyter.widget-view+json": {
       "model_id": "a79972cd48c0476784945b227bf7934a",
       "version_major": 2,
       "version_minor": 0
      },
      "text/plain": [
       "dataset/train/train_419/train_419_a/trai(…):   0%|          | 0.00/205M [00:00<?, ?B/s]"
      ]
     },
     "metadata": {},
     "output_type": "display_data"
    },
    {
     "name": "stdout",
     "output_type": "stream",
     "text": [
      "test all pooling\n",
      "Processing dataset/train/train_10775/train_10775_a/train_10775_a_1.nii.gz...\n"
     ]
    },
    {
     "data": {
      "application/vnd.jupyter.widget-view+json": {
       "model_id": "2077e2100bda4e6ead1729c2b8475a31",
       "version_major": 2,
       "version_minor": 0
      },
      "text/plain": [
       "dataset/train/train_10775/train_10775_a/(…):   0%|          | 0.00/493M [00:00<?, ?B/s]"
      ]
     },
     "metadata": {},
     "output_type": "display_data"
    },
    {
     "name": "stdout",
     "output_type": "stream",
     "text": [
      "test all pooling\n",
      "Processing dataset/train/train_19246/train_19246_a/train_19246_a_1.nii.gz...\n"
     ]
    },
    {
     "data": {
      "application/vnd.jupyter.widget-view+json": {
       "model_id": "ecf08491ef874d479894abd3ca193775",
       "version_major": 2,
       "version_minor": 0
      },
      "text/plain": [
       "dataset/train/train_19246/train_19246_a/(…):   0%|          | 0.00/475M [00:00<?, ?B/s]"
      ]
     },
     "metadata": {},
     "output_type": "display_data"
    },
    {
     "name": "stdout",
     "output_type": "stream",
     "text": [
      "test all pooling\n",
      "Processing dataset/train/train_1429/train_1429_b/train_1429_b_1.nii.gz...\n"
     ]
    },
    {
     "data": {
      "application/vnd.jupyter.widget-view+json": {
       "model_id": "195adef34d1d486697c459a9d9df262f",
       "version_major": 2,
       "version_minor": 0
      },
      "text/plain": [
       "dataset/train/train_1429/train_1429_b/tr(…):   0%|          | 0.00/151M [00:00<?, ?B/s]"
      ]
     },
     "metadata": {},
     "output_type": "display_data"
    },
    {
     "name": "stdout",
     "output_type": "stream",
     "text": [
      "test all pooling\n",
      "Processing dataset/train/train_4300/train_4300_a/train_4300_a_2.nii.gz...\n"
     ]
    },
    {
     "data": {
      "application/vnd.jupyter.widget-view+json": {
       "model_id": "f23c61f8f1434e918a9d043c4775bb96",
       "version_major": 2,
       "version_minor": 0
      },
      "text/plain": [
       "dataset/train/train_4300/train_4300_a/tr(…):   0%|          | 0.00/454M [00:00<?, ?B/s]"
      ]
     },
     "metadata": {},
     "output_type": "display_data"
    },
    {
     "name": "stdout",
     "output_type": "stream",
     "text": [
      "test all pooling\n",
      "Processing dataset/train/train_14438/train_14438_a/train_14438_a_1.nii.gz...\n"
     ]
    },
    {
     "data": {
      "application/vnd.jupyter.widget-view+json": {
       "model_id": "5b15f3058d3c437888f66e70b73b4ee0",
       "version_major": 2,
       "version_minor": 0
      },
      "text/plain": [
       "dataset/train/train_14438/train_14438_a/(…):   0%|          | 0.00/126M [00:00<?, ?B/s]"
      ]
     },
     "metadata": {},
     "output_type": "display_data"
    },
    {
     "name": "stdout",
     "output_type": "stream",
     "text": [
      "test all pooling\n",
      "Processing dataset/train/train_18706/train_18706_a/train_18706_a_2.nii.gz...\n"
     ]
    },
    {
     "data": {
      "application/vnd.jupyter.widget-view+json": {
       "model_id": "3224d4cdddd3492abd4a9ac4d2a3578b",
       "version_major": 2,
       "version_minor": 0
      },
      "text/plain": [
       "dataset/train/train_18706/train_18706_a/(…):   0%|          | 0.00/187M [00:00<?, ?B/s]"
      ]
     },
     "metadata": {},
     "output_type": "display_data"
    },
    {
     "name": "stdout",
     "output_type": "stream",
     "text": [
      "test all pooling\n",
      "Processing dataset/train/train_3634/train_3634_a/train_3634_a_2.nii.gz...\n"
     ]
    },
    {
     "data": {
      "application/vnd.jupyter.widget-view+json": {
       "model_id": "b243e071f1f3420aa33f21049813cfc6",
       "version_major": 2,
       "version_minor": 0
      },
      "text/plain": [
       "dataset/train/train_3634/train_3634_a/tr(…):   0%|          | 0.00/423M [00:00<?, ?B/s]"
      ]
     },
     "metadata": {},
     "output_type": "display_data"
    },
    {
     "name": "stdout",
     "output_type": "stream",
     "text": [
      "test all pooling\n",
      "Processing dataset/train/train_15772/train_15772_a/train_15772_a_1.nii.gz...\n"
     ]
    },
    {
     "data": {
      "application/vnd.jupyter.widget-view+json": {
       "model_id": "33be5fb0fcc64002a4a078ff4c57c149",
       "version_major": 2,
       "version_minor": 0
      },
      "text/plain": [
       "dataset/train/train_15772/train_15772_a/(…):   0%|          | 0.00/402M [00:00<?, ?B/s]"
      ]
     },
     "metadata": {},
     "output_type": "display_data"
    },
    {
     "name": "stdout",
     "output_type": "stream",
     "text": [
      "test all pooling\n",
      "Processing dataset/train/train_10011/train_10011_a/train_10011_a_1.nii.gz...\n"
     ]
    },
    {
     "data": {
      "application/vnd.jupyter.widget-view+json": {
       "model_id": "627718bc4f904886a4247e6f4517c999",
       "version_major": 2,
       "version_minor": 0
      },
      "text/plain": [
       "dataset/train/train_10011/train_10011_a/(…):   0%|          | 0.00/58.6M [00:00<?, ?B/s]"
      ]
     },
     "metadata": {},
     "output_type": "display_data"
    },
    {
     "name": "stdout",
     "output_type": "stream",
     "text": [
      "test all pooling\n",
      "Processing dataset/train/train_11977/train_11977_a/train_11977_a_2.nii.gz...\n"
     ]
    },
    {
     "data": {
      "application/vnd.jupyter.widget-view+json": {
       "model_id": "9315b54d340841da97dbfe79603022cc",
       "version_major": 2,
       "version_minor": 0
      },
      "text/plain": [
       "dataset/train/train_11977/train_11977_a/(…):   0%|          | 0.00/224M [00:00<?, ?B/s]"
      ]
     },
     "metadata": {},
     "output_type": "display_data"
    },
    {
     "name": "stdout",
     "output_type": "stream",
     "text": [
      "test all pooling\n",
      "Processing dataset/train/train_13697/train_13697_a/train_13697_a_2.nii.gz...\n"
     ]
    },
    {
     "data": {
      "application/vnd.jupyter.widget-view+json": {
       "model_id": "7c90528780db4d7c87c1aa0784a4c703",
       "version_major": 2,
       "version_minor": 0
      },
      "text/plain": [
       "dataset/train/train_13697/train_13697_a/(…):   0%|          | 0.00/214M [00:00<?, ?B/s]"
      ]
     },
     "metadata": {},
     "output_type": "display_data"
    },
    {
     "name": "stdout",
     "output_type": "stream",
     "text": [
      "test all pooling\n",
      "Processing dataset/train/train_3083/train_3083_a/train_3083_a_1.nii.gz...\n"
     ]
    },
    {
     "data": {
      "application/vnd.jupyter.widget-view+json": {
       "model_id": "189d78c3f56e4249a664067199b661fa",
       "version_major": 2,
       "version_minor": 0
      },
      "text/plain": [
       "dataset/train/train_3083/train_3083_a/tr(…):   0%|          | 0.00/575M [00:00<?, ?B/s]"
      ]
     },
     "metadata": {},
     "output_type": "display_data"
    },
    {
     "name": "stdout",
     "output_type": "stream",
     "text": [
      "test all pooling\n",
      "Processing dataset/train/train_1897/train_1897_d/train_1897_d_2.nii.gz...\n"
     ]
    },
    {
     "data": {
      "application/vnd.jupyter.widget-view+json": {
       "model_id": "5248b8cc087e4521bdf9063036b23734",
       "version_major": 2,
       "version_minor": 0
      },
      "text/plain": [
       "dataset/train/train_1897/train_1897_d/tr(…):   0%|          | 0.00/159M [00:00<?, ?B/s]"
      ]
     },
     "metadata": {},
     "output_type": "display_data"
    },
    {
     "name": "stdout",
     "output_type": "stream",
     "text": [
      "test all pooling\n",
      "Processing dataset/train/train_4944/train_4944_a/train_4944_a_2.nii.gz...\n"
     ]
    },
    {
     "data": {
      "application/vnd.jupyter.widget-view+json": {
       "model_id": "019749cefe1d4254805890489d4f845c",
       "version_major": 2,
       "version_minor": 0
      },
      "text/plain": [
       "dataset/train/train_4944/train_4944_a/tr(…):   0%|          | 0.00/166M [00:00<?, ?B/s]"
      ]
     },
     "metadata": {},
     "output_type": "display_data"
    },
    {
     "name": "stdout",
     "output_type": "stream",
     "text": [
      "test all pooling\n",
      "Processing dataset/train/train_6634/train_6634_a/train_6634_a_1.nii.gz...\n"
     ]
    },
    {
     "data": {
      "application/vnd.jupyter.widget-view+json": {
       "model_id": "51dc23b6f6b8447b94ed766ff0853185",
       "version_major": 2,
       "version_minor": 0
      },
      "text/plain": [
       "dataset/train/train_6634/train_6634_a/tr(…):   0%|          | 0.00/90.1M [00:00<?, ?B/s]"
      ]
     },
     "metadata": {},
     "output_type": "display_data"
    },
    {
     "name": "stdout",
     "output_type": "stream",
     "text": [
      "test all pooling\n",
      "Processing dataset/train/train_1162/train_1162_a/train_1162_a_2.nii.gz...\n"
     ]
    },
    {
     "data": {
      "application/vnd.jupyter.widget-view+json": {
       "model_id": "80b4111df0d54bce8a586b2b8c8a7760",
       "version_major": 2,
       "version_minor": 0
      },
      "text/plain": [
       "dataset/train/train_1162/train_1162_a/tr(…):   0%|          | 0.00/40.2M [00:00<?, ?B/s]"
      ]
     },
     "metadata": {},
     "output_type": "display_data"
    },
    {
     "name": "stdout",
     "output_type": "stream",
     "text": [
      "test all pooling\n",
      "Processing dataset/train/train_10987/train_10987_a/train_10987_a_1.nii.gz...\n"
     ]
    },
    {
     "data": {
      "application/vnd.jupyter.widget-view+json": {
       "model_id": "883d0326e47b47e481552f14a3ef52dd",
       "version_major": 2,
       "version_minor": 0
      },
      "text/plain": [
       "dataset/train/train_10987/train_10987_a/(…):   0%|          | 0.00/116M [00:00<?, ?B/s]"
      ]
     },
     "metadata": {},
     "output_type": "display_data"
    },
    {
     "name": "stdout",
     "output_type": "stream",
     "text": [
      "test all pooling\n",
      "Processing dataset/train/train_12378/train_12378_b/train_12378_b_2.nii.gz...\n"
     ]
    },
    {
     "data": {
      "application/vnd.jupyter.widget-view+json": {
       "model_id": "d2a22bc920da40489046dc97a90e51d3",
       "version_major": 2,
       "version_minor": 0
      },
      "text/plain": [
       "dataset/train/train_12378/train_12378_b/(…):   0%|          | 0.00/180M [00:00<?, ?B/s]"
      ]
     },
     "metadata": {},
     "output_type": "display_data"
    },
    {
     "name": "stdout",
     "output_type": "stream",
     "text": [
      "test all pooling\n",
      "Processing dataset/train/train_15294/train_15294_a/train_15294_a_1.nii.gz...\n"
     ]
    },
    {
     "data": {
      "application/vnd.jupyter.widget-view+json": {
       "model_id": "b2c3e0fc93034565a71572c227c1372a",
       "version_major": 2,
       "version_minor": 0
      },
      "text/plain": [
       "dataset/train/train_15294/train_15294_a/(…):   0%|          | 0.00/472M [00:00<?, ?B/s]"
      ]
     },
     "metadata": {},
     "output_type": "display_data"
    },
    {
     "name": "stdout",
     "output_type": "stream",
     "text": [
      "test all pooling\n",
      "Processing dataset/train/train_9307/train_9307_a/train_9307_a_1.nii.gz...\n"
     ]
    },
    {
     "data": {
      "application/vnd.jupyter.widget-view+json": {
       "model_id": "5f2e124683284b66bcc674186e727091",
       "version_major": 2,
       "version_minor": 0
      },
      "text/plain": [
       "dataset/train/train_9307/train_9307_a/tr(…):   0%|          | 0.00/480M [00:00<?, ?B/s]"
      ]
     },
     "metadata": {},
     "output_type": "display_data"
    },
    {
     "name": "stdout",
     "output_type": "stream",
     "text": [
      "test all pooling\n",
      "Processing dataset/train/train_19565/train_19565_a/train_19565_a_1.nii.gz...\n"
     ]
    },
    {
     "data": {
      "application/vnd.jupyter.widget-view+json": {
       "model_id": "52bbe1358b524a35ae2499dd4a8f27e5",
       "version_major": 2,
       "version_minor": 0
      },
      "text/plain": [
       "dataset/train/train_19565/train_19565_a/(…):   0%|          | 0.00/88.4M [00:00<?, ?B/s]"
      ]
     },
     "metadata": {},
     "output_type": "display_data"
    },
    {
     "name": "stdout",
     "output_type": "stream",
     "text": [
      "test all pooling\n",
      "Processing dataset/train/train_2282/train_2282_a/train_2282_a_1.nii.gz...\n"
     ]
    },
    {
     "data": {
      "application/vnd.jupyter.widget-view+json": {
       "model_id": "b20499ec4c044da5ac8f83460f8578fc",
       "version_major": 2,
       "version_minor": 0
      },
      "text/plain": [
       "dataset/train/train_2282/train_2282_a/tr(…):   0%|          | 0.00/116M [00:00<?, ?B/s]"
      ]
     },
     "metadata": {},
     "output_type": "display_data"
    },
    {
     "name": "stdout",
     "output_type": "stream",
     "text": [
      "test all pooling\n",
      "Processing dataset/train/train_3190/train_3190_a/train_3190_a_1.nii.gz...\n"
     ]
    },
    {
     "data": {
      "application/vnd.jupyter.widget-view+json": {
       "model_id": "95fd6830084f46c1be6f6e8548583983",
       "version_major": 2,
       "version_minor": 0
      },
      "text/plain": [
       "dataset/train/train_3190/train_3190_a/tr(…):   0%|          | 0.00/481M [00:00<?, ?B/s]"
      ]
     },
     "metadata": {},
     "output_type": "display_data"
    },
    {
     "name": "stdout",
     "output_type": "stream",
     "text": [
      "test all pooling\n",
      "Processing dataset/train/train_11611/train_11611_a/train_11611_a_1.nii.gz...\n"
     ]
    },
    {
     "data": {
      "application/vnd.jupyter.widget-view+json": {
       "model_id": "26f4d7721b564177993989c642be591d",
       "version_major": 2,
       "version_minor": 0
      },
      "text/plain": [
       "dataset/train/train_11611/train_11611_a/(…):   0%|          | 0.00/108M [00:00<?, ?B/s]"
      ]
     },
     "metadata": {},
     "output_type": "display_data"
    },
    {
     "name": "stdout",
     "output_type": "stream",
     "text": [
      "test all pooling\n",
      "Processing dataset/train/train_19687/train_19687_c/train_19687_c_1.nii.gz...\n"
     ]
    },
    {
     "data": {
      "application/vnd.jupyter.widget-view+json": {
       "model_id": "a70a7c86abf64dfaa7c91a6480b9ca06",
       "version_major": 2,
       "version_minor": 0
      },
      "text/plain": [
       "dataset/train/train_19687/train_19687_c/(…):   0%|          | 0.00/167M [00:00<?, ?B/s]"
      ]
     },
     "metadata": {},
     "output_type": "display_data"
    },
    {
     "name": "stdout",
     "output_type": "stream",
     "text": [
      "test all pooling\n",
      "Processing dataset/train/train_6482/train_6482_a/train_6482_a_2.nii.gz...\n"
     ]
    },
    {
     "data": {
      "application/vnd.jupyter.widget-view+json": {
       "model_id": "eefcfaf288a94e6baaab28e4dbc84df0",
       "version_major": 2,
       "version_minor": 0
      },
      "text/plain": [
       "dataset/train/train_6482/train_6482_a/tr(…):   0%|          | 0.00/191M [00:00<?, ?B/s]"
      ]
     },
     "metadata": {},
     "output_type": "display_data"
    },
    {
     "name": "stdout",
     "output_type": "stream",
     "text": [
      "test all pooling\n",
      "Processing dataset/train/train_11577/train_11577_b/train_11577_b_2.nii.gz...\n"
     ]
    },
    {
     "data": {
      "application/vnd.jupyter.widget-view+json": {
       "model_id": "4a1d6cd409a3416886ecef3c0ba9dff5",
       "version_major": 2,
       "version_minor": 0
      },
      "text/plain": [
       "dataset/train/train_11577/train_11577_b/(…):   0%|          | 0.00/239M [00:00<?, ?B/s]"
      ]
     },
     "metadata": {},
     "output_type": "display_data"
    },
    {
     "name": "stdout",
     "output_type": "stream",
     "text": [
      "test all pooling\n",
      "Processing dataset/train/train_18467/train_18467_a/train_18467_a_1.nii.gz...\n"
     ]
    },
    {
     "data": {
      "application/vnd.jupyter.widget-view+json": {
       "model_id": "cfb2b5b1133c47cea6733afa73ab462a",
       "version_major": 2,
       "version_minor": 0
      },
      "text/plain": [
       "dataset/train/train_18467/train_18467_a/(…):   0%|          | 0.00/457M [00:00<?, ?B/s]"
      ]
     },
     "metadata": {},
     "output_type": "display_data"
    },
    {
     "name": "stdout",
     "output_type": "stream",
     "text": [
      "test all pooling\n",
      "Processing dataset/train/train_7186/train_7186_a/train_7186_a_1.nii.gz...\n"
     ]
    },
    {
     "data": {
      "application/vnd.jupyter.widget-view+json": {
       "model_id": "51c6df1097de4ef3b2f20b83866556bf",
       "version_major": 2,
       "version_minor": 0
      },
      "text/plain": [
       "dataset/train/train_7186/train_7186_a/tr(…):   0%|          | 0.00/500M [00:00<?, ?B/s]"
      ]
     },
     "metadata": {},
     "output_type": "display_data"
    },
    {
     "name": "stdout",
     "output_type": "stream",
     "text": [
      "test all pooling\n",
      "Processing dataset/train/train_13863/train_13863_a/train_13863_a_2.nii.gz...\n"
     ]
    },
    {
     "data": {
      "application/vnd.jupyter.widget-view+json": {
       "model_id": "e25d07240c3d44ffa810006430d8f94b",
       "version_major": 2,
       "version_minor": 0
      },
      "text/plain": [
       "dataset/train/train_13863/train_13863_a/(…):   0%|          | 0.00/237M [00:00<?, ?B/s]"
      ]
     },
     "metadata": {},
     "output_type": "display_data"
    },
    {
     "name": "stdout",
     "output_type": "stream",
     "text": [
      "test all pooling\n",
      "Processing dataset/train/train_12252/train_12252_a/train_12252_a_1.nii.gz...\n"
     ]
    },
    {
     "data": {
      "application/vnd.jupyter.widget-view+json": {
       "model_id": "3f5c29fbf207425bb56bb648da298dcb",
       "version_major": 2,
       "version_minor": 0
      },
      "text/plain": [
       "dataset/train/train_12252/train_12252_a/(…):   0%|          | 0.00/290M [00:00<?, ?B/s]"
      ]
     },
     "metadata": {},
     "output_type": "display_data"
    },
    {
     "name": "stdout",
     "output_type": "stream",
     "text": [
      "test all pooling\n",
      "Processing dataset/train/train_6622/train_6622_a/train_6622_a_2.nii.gz...\n"
     ]
    },
    {
     "data": {
      "application/vnd.jupyter.widget-view+json": {
       "model_id": "75dbabfbbd50417784a8ca7096ccfe66",
       "version_major": 2,
       "version_minor": 0
      },
      "text/plain": [
       "dataset/train/train_6622/train_6622_a/tr(…):   0%|          | 0.00/161M [00:00<?, ?B/s]"
      ]
     },
     "metadata": {},
     "output_type": "display_data"
    },
    {
     "name": "stdout",
     "output_type": "stream",
     "text": [
      "test all pooling\n",
      "Processing dataset/train/train_17138/train_17138_a/train_17138_a_1.nii.gz...\n"
     ]
    },
    {
     "data": {
      "application/vnd.jupyter.widget-view+json": {
       "model_id": "9b5373a7774e4f8985583849e2bc3add",
       "version_major": 2,
       "version_minor": 0
      },
      "text/plain": [
       "dataset/train/train_17138/train_17138_a/(…):   0%|          | 0.00/151M [00:00<?, ?B/s]"
      ]
     },
     "metadata": {},
     "output_type": "display_data"
    },
    {
     "name": "stdout",
     "output_type": "stream",
     "text": [
      "test all pooling\n",
      "Processing dataset/train/train_1104/train_1104_a/train_1104_a_2.nii.gz...\n"
     ]
    },
    {
     "data": {
      "application/vnd.jupyter.widget-view+json": {
       "model_id": "83bb5768ab704c458de8bea0e2f05be4",
       "version_major": 2,
       "version_minor": 0
      },
      "text/plain": [
       "dataset/train/train_1104/train_1104_a/tr(…):   0%|          | 0.00/113M [00:00<?, ?B/s]"
      ]
     },
     "metadata": {},
     "output_type": "display_data"
    },
    {
     "name": "stdout",
     "output_type": "stream",
     "text": [
      "test all pooling\n",
      "Processing dataset/train/train_7754/train_7754_d/train_7754_d_1.nii.gz...\n"
     ]
    },
    {
     "data": {
      "application/vnd.jupyter.widget-view+json": {
       "model_id": "3813d4ff67394a65a54fafc7c96e92ec",
       "version_major": 2,
       "version_minor": 0
      },
      "text/plain": [
       "dataset/train/train_7754/train_7754_d/tr(…):   0%|          | 0.00/110M [00:00<?, ?B/s]"
      ]
     },
     "metadata": {},
     "output_type": "display_data"
    },
    {
     "name": "stdout",
     "output_type": "stream",
     "text": [
      "test all pooling\n",
      "Processing dataset/train/train_16723/train_16723_a/train_16723_a_1.nii.gz...\n"
     ]
    },
    {
     "data": {
      "application/vnd.jupyter.widget-view+json": {
       "model_id": "dde936e6d946401db6479547e98b2a6d",
       "version_major": 2,
       "version_minor": 0
      },
      "text/plain": [
       "dataset/train/train_16723/train_16723_a/(…):   0%|          | 0.00/404M [00:00<?, ?B/s]"
      ]
     },
     "metadata": {},
     "output_type": "display_data"
    },
    {
     "name": "stdout",
     "output_type": "stream",
     "text": [
      "test all pooling\n",
      "Processing dataset/train/train_19020/train_19020_a/train_19020_a_1.nii.gz...\n"
     ]
    },
    {
     "data": {
      "application/vnd.jupyter.widget-view+json": {
       "model_id": "84cc1bf0ffce4da1bfd2573543678647",
       "version_major": 2,
       "version_minor": 0
      },
      "text/plain": [
       "dataset/train/train_19020/train_19020_a/(…):   0%|          | 0.00/105M [00:00<?, ?B/s]"
      ]
     },
     "metadata": {},
     "output_type": "display_data"
    },
    {
     "name": "stdout",
     "output_type": "stream",
     "text": [
      "test all pooling\n",
      "Processing dataset/train/train_11880/train_11880_d/train_11880_d_2.nii.gz...\n"
     ]
    },
    {
     "data": {
      "application/vnd.jupyter.widget-view+json": {
       "model_id": "eb6a65879c81478aace826b3488d937b",
       "version_major": 2,
       "version_minor": 0
      },
      "text/plain": [
       "dataset/train/train_11880/train_11880_d/(…):   0%|          | 0.00/167M [00:00<?, ?B/s]"
      ]
     },
     "metadata": {},
     "output_type": "display_data"
    },
    {
     "name": "stdout",
     "output_type": "stream",
     "text": [
      "test all pooling\n",
      "Processing dataset/train/train_13918/train_13918_a/train_13918_a_1.nii.gz...\n"
     ]
    },
    {
     "data": {
      "application/vnd.jupyter.widget-view+json": {
       "model_id": "9084faefe40241ae8030c51cb7e748eb",
       "version_major": 2,
       "version_minor": 0
      },
      "text/plain": [
       "dataset/train/train_13918/train_13918_a/(…):   0%|          | 0.00/98.6M [00:00<?, ?B/s]"
      ]
     },
     "metadata": {},
     "output_type": "display_data"
    },
    {
     "name": "stdout",
     "output_type": "stream",
     "text": [
      "test all pooling\n",
      "Processing dataset/train/train_1713/train_1713_d/train_1713_d_1.nii.gz...\n"
     ]
    },
    {
     "data": {
      "application/vnd.jupyter.widget-view+json": {
       "model_id": "fe3be555cd2942489af7daf8e9e788f4",
       "version_major": 2,
       "version_minor": 0
      },
      "text/plain": [
       "dataset/train/train_1713/train_1713_d/tr(…):   0%|          | 0.00/499M [00:00<?, ?B/s]"
      ]
     },
     "metadata": {},
     "output_type": "display_data"
    },
    {
     "name": "stdout",
     "output_type": "stream",
     "text": [
      "test all pooling\n",
      "Processing dataset/train/train_14471/train_14471_a/train_14471_a_1.nii.gz...\n"
     ]
    },
    {
     "data": {
      "application/vnd.jupyter.widget-view+json": {
       "model_id": "915e138c513f464ca55ad71b6978eb00",
       "version_major": 2,
       "version_minor": 0
      },
      "text/plain": [
       "dataset/train/train_14471/train_14471_a/(…):   0%|          | 0.00/420M [00:00<?, ?B/s]"
      ]
     },
     "metadata": {},
     "output_type": "display_data"
    },
    {
     "name": "stdout",
     "output_type": "stream",
     "text": [
      "test all pooling\n",
      "Processing dataset/train/train_9006/train_9006_a/train_9006_a_1.nii.gz...\n"
     ]
    },
    {
     "data": {
      "application/vnd.jupyter.widget-view+json": {
       "model_id": "632fba01ba8f412c92e61d308f6a7f3a",
       "version_major": 2,
       "version_minor": 0
      },
      "text/plain": [
       "dataset/train/train_9006/train_9006_a/tr(…):   0%|          | 0.00/537M [00:00<?, ?B/s]"
      ]
     },
     "metadata": {},
     "output_type": "display_data"
    },
    {
     "name": "stdout",
     "output_type": "stream",
     "text": [
      "test all pooling\n",
      "Processing dataset/train/train_15553/train_15553_a/train_15553_a_1.nii.gz...\n"
     ]
    },
    {
     "data": {
      "application/vnd.jupyter.widget-view+json": {
       "model_id": "0604c5563ebb400388c8db94542c9194",
       "version_major": 2,
       "version_minor": 0
      },
      "text/plain": [
       "dataset/train/train_15553/train_15553_a/(…):   0%|          | 0.00/125M [00:00<?, ?B/s]"
      ]
     },
     "metadata": {},
     "output_type": "display_data"
    },
    {
     "name": "stdout",
     "output_type": "stream",
     "text": [
      "test all pooling\n",
      "Processing dataset/train/train_11778/train_11778_a/train_11778_a_1.nii.gz...\n"
     ]
    },
    {
     "data": {
      "application/vnd.jupyter.widget-view+json": {
       "model_id": "1da564b657144a8e9ddd5d0cbf2b9136",
       "version_major": 2,
       "version_minor": 0
      },
      "text/plain": [
       "dataset/train/train_11778/train_11778_a/(…):   0%|          | 0.00/151M [00:00<?, ?B/s]"
      ]
     },
     "metadata": {},
     "output_type": "display_data"
    },
    {
     "name": "stdout",
     "output_type": "stream",
     "text": [
      "test all pooling\n",
      "Processing dataset/train/train_3901/train_3901_a/train_3901_a_1.nii.gz...\n"
     ]
    },
    {
     "data": {
      "application/vnd.jupyter.widget-view+json": {
       "model_id": "3053fff5c21f4605ba4bd77591eedffa",
       "version_major": 2,
       "version_minor": 0
      },
      "text/plain": [
       "dataset/train/train_3901/train_3901_a/tr(…):   0%|          | 0.00/488M [00:00<?, ?B/s]"
      ]
     },
     "metadata": {},
     "output_type": "display_data"
    },
    {
     "name": "stdout",
     "output_type": "stream",
     "text": [
      "test all pooling\n",
      "Processing dataset/train/train_594/train_594_a/train_594_a_1.nii.gz...\n"
     ]
    },
    {
     "data": {
      "application/vnd.jupyter.widget-view+json": {
       "model_id": "8103fcb7052e4fc4be202356e4df4d43",
       "version_major": 2,
       "version_minor": 0
      },
      "text/plain": [
       "dataset/train/train_594/train_594_a/trai(…):   0%|          | 0.00/279M [00:00<?, ?B/s]"
      ]
     },
     "metadata": {},
     "output_type": "display_data"
    },
    {
     "name": "stdout",
     "output_type": "stream",
     "text": [
      "test all pooling\n",
      "Processing dataset/train/train_19704/train_19704_d/train_19704_d_2.nii.gz...\n"
     ]
    },
    {
     "data": {
      "application/vnd.jupyter.widget-view+json": {
       "model_id": "a29ec0b7809e42d181e76b8996ae62f0",
       "version_major": 2,
       "version_minor": 0
      },
      "text/plain": [
       "dataset/train/train_19704/train_19704_d/(…):   0%|          | 0.00/149M [00:00<?, ?B/s]"
      ]
     },
     "metadata": {},
     "output_type": "display_data"
    },
    {
     "name": "stdout",
     "output_type": "stream",
     "text": [
      "test all pooling\n",
      "Processing dataset/train/train_4494/train_4494_a/train_4494_a_1.nii.gz...\n"
     ]
    },
    {
     "data": {
      "application/vnd.jupyter.widget-view+json": {
       "model_id": "c7194c1d297046c0a28dfe1fe90f6593",
       "version_major": 2,
       "version_minor": 0
      },
      "text/plain": [
       "dataset/train/train_4494/train_4494_a/tr(…):   0%|          | 0.00/161M [00:00<?, ?B/s]"
      ]
     },
     "metadata": {},
     "output_type": "display_data"
    },
    {
     "name": "stdout",
     "output_type": "stream",
     "text": [
      "test all pooling\n",
      "Processing dataset/train/train_15596/train_15596_a/train_15596_a_2.nii.gz...\n"
     ]
    },
    {
     "data": {
      "application/vnd.jupyter.widget-view+json": {
       "model_id": "66ddd1fc9777436ea26160cbf0255251",
       "version_major": 2,
       "version_minor": 0
      },
      "text/plain": [
       "dataset/train/train_15596/train_15596_a/(…):   0%|          | 0.00/227M [00:00<?, ?B/s]"
      ]
     },
     "metadata": {},
     "output_type": "display_data"
    },
    {
     "name": "stdout",
     "output_type": "stream",
     "text": [
      "test all pooling\n",
      "Processing dataset/train/train_15080/train_15080_a/train_15080_a_1.nii.gz...\n"
     ]
    },
    {
     "data": {
      "application/vnd.jupyter.widget-view+json": {
       "model_id": "26db28c97321443d87b68c3caf168905",
       "version_major": 2,
       "version_minor": 0
      },
      "text/plain": [
       "dataset/train/train_15080/train_15080_a/(…):   0%|          | 0.00/482M [00:00<?, ?B/s]"
      ]
     },
     "metadata": {},
     "output_type": "display_data"
    },
    {
     "name": "stdout",
     "output_type": "stream",
     "text": [
      "test all pooling\n",
      "Processing dataset/train/train_19969/train_19969_a/train_19969_a_1.nii.gz...\n"
     ]
    },
    {
     "data": {
      "application/vnd.jupyter.widget-view+json": {
       "model_id": "088a06619d0e431db93555705914cbfa",
       "version_major": 2,
       "version_minor": 0
      },
      "text/plain": [
       "dataset/train/train_19969/train_19969_a/(…):   0%|          | 0.00/134M [00:00<?, ?B/s]"
      ]
     },
     "metadata": {},
     "output_type": "display_data"
    },
    {
     "name": "stdout",
     "output_type": "stream",
     "text": [
      "test all pooling\n",
      "Processing dataset/train/train_7988/train_7988_a/train_7988_a_1.nii.gz...\n"
     ]
    },
    {
     "data": {
      "application/vnd.jupyter.widget-view+json": {
       "model_id": "f3f73f47e3c2434f9c3db7f7d0cb5aa5",
       "version_major": 2,
       "version_minor": 0
      },
      "text/plain": [
       "dataset/train/train_7988/train_7988_a/tr(…):   0%|          | 0.00/135M [00:00<?, ?B/s]"
      ]
     },
     "metadata": {},
     "output_type": "display_data"
    },
    {
     "name": "stdout",
     "output_type": "stream",
     "text": [
      "test all pooling\n",
      "Processing dataset/train/train_15283/train_15283_a/train_15283_a_2.nii.gz...\n"
     ]
    },
    {
     "data": {
      "application/vnd.jupyter.widget-view+json": {
       "model_id": "77f9fdaf26f44aa88c7f5d44e5dda41b",
       "version_major": 2,
       "version_minor": 0
      },
      "text/plain": [
       "dataset/train/train_15283/train_15283_a/(…):   0%|          | 0.00/209M [00:00<?, ?B/s]"
      ]
     },
     "metadata": {},
     "output_type": "display_data"
    },
    {
     "name": "stdout",
     "output_type": "stream",
     "text": [
      "test all pooling\n",
      "Processing dataset/train/train_3746/train_3746_a/train_3746_a_2.nii.gz...\n"
     ]
    },
    {
     "data": {
      "application/vnd.jupyter.widget-view+json": {
       "model_id": "cb4762d162384af1b839b4fa74dddb3b",
       "version_major": 2,
       "version_minor": 0
      },
      "text/plain": [
       "dataset/train/train_3746/train_3746_a/tr(…):   0%|          | 0.00/197M [00:00<?, ?B/s]"
      ]
     },
     "metadata": {},
     "output_type": "display_data"
    },
    {
     "name": "stdout",
     "output_type": "stream",
     "text": [
      "test all pooling\n",
      "Processing dataset/train/train_19368/train_19368_a/train_19368_a_1.nii.gz...\n"
     ]
    },
    {
     "data": {
      "application/vnd.jupyter.widget-view+json": {
       "model_id": "491edfca3e7847fb988396c197f57dfc",
       "version_major": 2,
       "version_minor": 0
      },
      "text/plain": [
       "dataset/train/train_19368/train_19368_a/(…):   0%|          | 0.00/492M [00:00<?, ?B/s]"
      ]
     },
     "metadata": {},
     "output_type": "display_data"
    },
    {
     "name": "stdout",
     "output_type": "stream",
     "text": [
      "test all pooling\n",
      "Processing dataset/train/train_3963/train_3963_f/train_3963_f_1.nii.gz...\n"
     ]
    },
    {
     "data": {
      "application/vnd.jupyter.widget-view+json": {
       "model_id": "e3c73e78b72446628b3d48e3369a25b2",
       "version_major": 2,
       "version_minor": 0
      },
      "text/plain": [
       "dataset/train/train_3963/train_3963_f/tr(…):   0%|          | 0.00/107M [00:00<?, ?B/s]"
      ]
     },
     "metadata": {},
     "output_type": "display_data"
    },
    {
     "name": "stdout",
     "output_type": "stream",
     "text": [
      "test all pooling\n",
      "Processing dataset/train/train_11683/train_11683_b/train_11683_b_2.nii.gz...\n"
     ]
    },
    {
     "data": {
      "application/vnd.jupyter.widget-view+json": {
       "model_id": "16ca007f2d274fd183a8b5c7a6359b6d",
       "version_major": 2,
       "version_minor": 0
      },
      "text/plain": [
       "dataset/train/train_11683/train_11683_b/(…):   0%|          | 0.00/168M [00:00<?, ?B/s]"
      ]
     },
     "metadata": {},
     "output_type": "display_data"
    },
    {
     "name": "stdout",
     "output_type": "stream",
     "text": [
      "test all pooling\n",
      "Processing dataset/train/train_14466/train_14466_a/train_14466_a_2.nii.gz...\n"
     ]
    },
    {
     "data": {
      "application/vnd.jupyter.widget-view+json": {
       "model_id": "886aabb09808431ba93b5f5f682b492e",
       "version_major": 2,
       "version_minor": 0
      },
      "text/plain": [
       "dataset/train/train_14466/train_14466_a/(…):   0%|          | 0.00/112M [00:00<?, ?B/s]"
      ]
     },
     "metadata": {},
     "output_type": "display_data"
    },
    {
     "name": "stdout",
     "output_type": "stream",
     "text": [
      "test all pooling\n",
      "Processing dataset/train/train_7376/train_7376_a/train_7376_a_2.nii.gz...\n"
     ]
    },
    {
     "data": {
      "application/vnd.jupyter.widget-view+json": {
       "model_id": "b0fbe799053e48e9bc3b2f3e2c77a013",
       "version_major": 2,
       "version_minor": 0
      },
      "text/plain": [
       "dataset/train/train_7376/train_7376_a/tr(…):   0%|          | 0.00/201M [00:00<?, ?B/s]"
      ]
     },
     "metadata": {},
     "output_type": "display_data"
    },
    {
     "name": "stdout",
     "output_type": "stream",
     "text": [
      "test all pooling\n",
      "Processing dataset/train/train_4352/train_4352_a/train_4352_a_2.nii.gz...\n"
     ]
    },
    {
     "data": {
      "application/vnd.jupyter.widget-view+json": {
       "model_id": "f884dc6148e941b98ba9a6535ee47866",
       "version_major": 2,
       "version_minor": 0
      },
      "text/plain": [
       "dataset/train/train_4352/train_4352_a/tr(…):   0%|          | 0.00/172M [00:00<?, ?B/s]"
      ]
     },
     "metadata": {},
     "output_type": "display_data"
    },
    {
     "name": "stdout",
     "output_type": "stream",
     "text": [
      "test all pooling\n",
      "Processing dataset/train/train_1922/train_1922_a/train_1922_a_1.nii.gz...\n"
     ]
    },
    {
     "data": {
      "application/vnd.jupyter.widget-view+json": {
       "model_id": "cc8fe2caae6b4022a44d7c87fe8e0d37",
       "version_major": 2,
       "version_minor": 0
      },
      "text/plain": [
       "dataset/train/train_1922/train_1922_a/tr(…):   0%|          | 0.00/498M [00:00<?, ?B/s]"
      ]
     },
     "metadata": {},
     "output_type": "display_data"
    },
    {
     "name": "stdout",
     "output_type": "stream",
     "text": [
      "test all pooling\n",
      "Processing dataset/train/train_6967/train_6967_a/train_6967_a_1.nii.gz...\n"
     ]
    },
    {
     "data": {
      "application/vnd.jupyter.widget-view+json": {
       "model_id": "3a737b925db946d19e351b3f0d0ca7e8",
       "version_major": 2,
       "version_minor": 0
      },
      "text/plain": [
       "dataset/train/train_6967/train_6967_a/tr(…):   0%|          | 0.00/479M [00:00<?, ?B/s]"
      ]
     },
     "metadata": {},
     "output_type": "display_data"
    },
    {
     "name": "stdout",
     "output_type": "stream",
     "text": [
      "test all pooling\n",
      "Processing dataset/train/train_13308/train_13308_a/train_13308_a_1.nii.gz...\n"
     ]
    },
    {
     "data": {
      "application/vnd.jupyter.widget-view+json": {
       "model_id": "0ec4d427ef6945cda5035c5851b98f9b",
       "version_major": 2,
       "version_minor": 0
      },
      "text/plain": [
       "dataset/train/train_13308/train_13308_a/(…):   0%|          | 0.00/239M [00:00<?, ?B/s]"
      ]
     },
     "metadata": {},
     "output_type": "display_data"
    },
    {
     "name": "stdout",
     "output_type": "stream",
     "text": [
      "test all pooling\n",
      "Processing dataset/train/train_18977/train_18977_a/train_18977_a_2.nii.gz...\n"
     ]
    },
    {
     "data": {
      "application/vnd.jupyter.widget-view+json": {
       "model_id": "a8f2a2576e1e474f80d6e05ef956e230",
       "version_major": 2,
       "version_minor": 0
      },
      "text/plain": [
       "dataset/train/train_18977/train_18977_a/(…):   0%|          | 0.00/219M [00:00<?, ?B/s]"
      ]
     },
     "metadata": {},
     "output_type": "display_data"
    },
    {
     "name": "stdout",
     "output_type": "stream",
     "text": [
      "test all pooling\n",
      "Processing dataset/train/train_1526/train_1526_a/train_1526_a_1.nii.gz...\n"
     ]
    },
    {
     "data": {
      "application/vnd.jupyter.widget-view+json": {
       "model_id": "e9c4b2bd6d2a4560b3824beb11c059ed",
       "version_major": 2,
       "version_minor": 0
      },
      "text/plain": [
       "dataset/train/train_1526/train_1526_a/tr(…):   0%|          | 0.00/493M [00:00<?, ?B/s]"
      ]
     },
     "metadata": {},
     "output_type": "display_data"
    },
    {
     "name": "stdout",
     "output_type": "stream",
     "text": [
      "test all pooling\n",
      "Processing dataset/train/train_1272/train_1272_a/train_1272_a_1.nii.gz...\n"
     ]
    },
    {
     "data": {
      "application/vnd.jupyter.widget-view+json": {
       "model_id": "489b8a2db08f41cb827d692539a9d8d3",
       "version_major": 2,
       "version_minor": 0
      },
      "text/plain": [
       "dataset/train/train_1272/train_1272_a/tr(…):   0%|          | 0.00/102M [00:00<?, ?B/s]"
      ]
     },
     "metadata": {},
     "output_type": "display_data"
    },
    {
     "name": "stdout",
     "output_type": "stream",
     "text": [
      "test all pooling\n",
      "Processing dataset/train/train_18463/train_18463_a/train_18463_a_2.nii.gz...\n"
     ]
    },
    {
     "data": {
      "application/vnd.jupyter.widget-view+json": {
       "model_id": "a588f85a38934ccb9bcbaae66b69dbd0",
       "version_major": 2,
       "version_minor": 0
      },
      "text/plain": [
       "dataset/train/train_18463/train_18463_a/(…):   0%|          | 0.00/158M [00:00<?, ?B/s]"
      ]
     },
     "metadata": {},
     "output_type": "display_data"
    },
    {
     "name": "stdout",
     "output_type": "stream",
     "text": [
      "test all pooling\n",
      "Processing dataset/train/train_3843/train_3843_a/train_3843_a_1.nii.gz...\n"
     ]
    },
    {
     "data": {
      "application/vnd.jupyter.widget-view+json": {
       "model_id": "082687f4f4ca4fce8cfdc2483e6f0bc2",
       "version_major": 2,
       "version_minor": 0
      },
      "text/plain": [
       "dataset/train/train_3843/train_3843_a/tr(…):   0%|          | 0.00/495M [00:00<?, ?B/s]"
      ]
     },
     "metadata": {},
     "output_type": "display_data"
    },
    {
     "name": "stdout",
     "output_type": "stream",
     "text": [
      "test all pooling\n",
      "Processing dataset/train/train_16551/train_16551_a/train_16551_a_1.nii.gz...\n"
     ]
    },
    {
     "data": {
      "application/vnd.jupyter.widget-view+json": {
       "model_id": "2482fa0e837142e18aea442cce5aa755",
       "version_major": 2,
       "version_minor": 0
      },
      "text/plain": [
       "dataset/train/train_16551/train_16551_a/(…):   0%|          | 0.00/453M [00:00<?, ?B/s]"
      ]
     },
     "metadata": {},
     "output_type": "display_data"
    },
    {
     "name": "stdout",
     "output_type": "stream",
     "text": [
      "test all pooling\n",
      "Processing dataset/train/train_16719/train_16719_a/train_16719_a_2.nii.gz...\n"
     ]
    },
    {
     "data": {
      "application/vnd.jupyter.widget-view+json": {
       "model_id": "cf1648ca5d284e25b4fd5ee2c7b4d6e5",
       "version_major": 2,
       "version_minor": 0
      },
      "text/plain": [
       "dataset/train/train_16719/train_16719_a/(…):   0%|          | 0.00/220M [00:00<?, ?B/s]"
      ]
     },
     "metadata": {},
     "output_type": "display_data"
    },
    {
     "name": "stdout",
     "output_type": "stream",
     "text": [
      "test all pooling\n",
      "Processing dataset/train/train_2212/train_2212_a/train_2212_a_2.nii.gz...\n"
     ]
    },
    {
     "data": {
      "application/vnd.jupyter.widget-view+json": {
       "model_id": "b217cc74aa33407e8ab95d82ea4b019f",
       "version_major": 2,
       "version_minor": 0
      },
      "text/plain": [
       "dataset/train/train_2212/train_2212_a/tr(…):   0%|          | 0.00/219M [00:00<?, ?B/s]"
      ]
     },
     "metadata": {},
     "output_type": "display_data"
    },
    {
     "name": "stdout",
     "output_type": "stream",
     "text": [
      "test all pooling\n",
      "Processing dataset/train/train_9822/train_9822_a/train_9822_a_2.nii.gz...\n"
     ]
    },
    {
     "data": {
      "application/vnd.jupyter.widget-view+json": {
       "model_id": "c8ce7c3038734553b46eb7c9ba11e8d9",
       "version_major": 2,
       "version_minor": 0
      },
      "text/plain": [
       "train_9822_a_2.nii.gz:   0%|          | 0.00/210M [00:00<?, ?B/s]"
      ]
     },
     "metadata": {},
     "output_type": "display_data"
    },
    {
     "name": "stdout",
     "output_type": "stream",
     "text": [
      "test all pooling\n",
      "Processing dataset/train/train_3990/train_3990_a/train_3990_a_1.nii.gz...\n"
     ]
    },
    {
     "data": {
      "application/vnd.jupyter.widget-view+json": {
       "model_id": "6a7e512e49004debb92ddcfc0c4b564b",
       "version_major": 2,
       "version_minor": 0
      },
      "text/plain": [
       "dataset/train/train_3990/train_3990_a/tr(…):   0%|          | 0.00/140M [00:00<?, ?B/s]"
      ]
     },
     "metadata": {},
     "output_type": "display_data"
    },
    {
     "name": "stdout",
     "output_type": "stream",
     "text": [
      "test all pooling\n",
      "Processing dataset/train/train_4791/train_4791_a/train_4791_a_2.nii.gz...\n"
     ]
    },
    {
     "data": {
      "application/vnd.jupyter.widget-view+json": {
       "model_id": "6aab9e5a46bc4b9aad9d37a9744d5e39",
       "version_major": 2,
       "version_minor": 0
      },
      "text/plain": [
       "dataset/train/train_4791/train_4791_a/tr(…):   0%|          | 0.00/137M [00:00<?, ?B/s]"
      ]
     },
     "metadata": {},
     "output_type": "display_data"
    },
    {
     "name": "stdout",
     "output_type": "stream",
     "text": [
      "test all pooling\n",
      "Processing dataset/train/train_2901/train_2901_c/train_2901_c_1.nii.gz...\n"
     ]
    },
    {
     "data": {
      "application/vnd.jupyter.widget-view+json": {
       "model_id": "77211e4ff48541a78dae58e3d895dfb9",
       "version_major": 2,
       "version_minor": 0
      },
      "text/plain": [
       "dataset/train/train_2901/train_2901_c/tr(…):   0%|          | 0.00/133M [00:00<?, ?B/s]"
      ]
     },
     "metadata": {},
     "output_type": "display_data"
    },
    {
     "name": "stdout",
     "output_type": "stream",
     "text": [
      "test all pooling\n",
      "Processing dataset/train/train_19860/train_19860_b/train_19860_b_2.nii.gz...\n"
     ]
    },
    {
     "data": {
      "application/vnd.jupyter.widget-view+json": {
       "model_id": "aa78c170a32d469d8b3e76422d3046ab",
       "version_major": 2,
       "version_minor": 0
      },
      "text/plain": [
       "dataset/train/train_19860/train_19860_b/(…):   0%|          | 0.00/147M [00:00<?, ?B/s]"
      ]
     },
     "metadata": {},
     "output_type": "display_data"
    },
    {
     "name": "stdout",
     "output_type": "stream",
     "text": [
      "test all pooling\n",
      "Processing dataset/train/train_7835/train_7835_a/train_7835_a_1.nii.gz...\n"
     ]
    },
    {
     "data": {
      "application/vnd.jupyter.widget-view+json": {
       "model_id": "0081396bf5c84818969648d380506247",
       "version_major": 2,
       "version_minor": 0
      },
      "text/plain": [
       "dataset/train/train_7835/train_7835_a/tr(…):   0%|          | 0.00/105M [00:00<?, ?B/s]"
      ]
     },
     "metadata": {},
     "output_type": "display_data"
    },
    {
     "name": "stdout",
     "output_type": "stream",
     "text": [
      "test all pooling\n",
      "Processing dataset/train/train_12518/train_12518_a/train_12518_a_2.nii.gz...\n"
     ]
    },
    {
     "data": {
      "application/vnd.jupyter.widget-view+json": {
       "model_id": "31da898c1a2b4ecaab3e30066fd10bca",
       "version_major": 2,
       "version_minor": 0
      },
      "text/plain": [
       "dataset/train/train_12518/train_12518_a/(…):   0%|          | 0.00/218M [00:00<?, ?B/s]"
      ]
     },
     "metadata": {},
     "output_type": "display_data"
    },
    {
     "name": "stdout",
     "output_type": "stream",
     "text": [
      "test all pooling\n",
      "Processing dataset/train/train_199/train_199_a/train_199_a_2.nii.gz...\n"
     ]
    },
    {
     "data": {
      "application/vnd.jupyter.widget-view+json": {
       "model_id": "30baa0017de64a33a9a3eabfe8448f23",
       "version_major": 2,
       "version_minor": 0
      },
      "text/plain": [
       "dataset/train/train_199/train_199_a/trai(…):   0%|          | 0.00/106M [00:00<?, ?B/s]"
      ]
     },
     "metadata": {},
     "output_type": "display_data"
    },
    {
     "name": "stdout",
     "output_type": "stream",
     "text": [
      "test all pooling\n",
      "Processing dataset/train/train_12776/train_12776_a/train_12776_a_1.nii.gz...\n"
     ]
    },
    {
     "data": {
      "application/vnd.jupyter.widget-view+json": {
       "model_id": "2c5997a6d319493f8d1ea14415ed272e",
       "version_major": 2,
       "version_minor": 0
      },
      "text/plain": [
       "dataset/train/train_12776/train_12776_a/(…):   0%|          | 0.00/354M [00:00<?, ?B/s]"
      ]
     },
     "metadata": {},
     "output_type": "display_data"
    },
    {
     "name": "stdout",
     "output_type": "stream",
     "text": [
      "test all pooling\n",
      "Processing dataset/train/train_16798/train_16798_b/train_16798_b_2.nii.gz...\n"
     ]
    },
    {
     "data": {
      "application/vnd.jupyter.widget-view+json": {
       "model_id": "1f30c5f83dc84effac902995a5bfe69d",
       "version_major": 2,
       "version_minor": 0
      },
      "text/plain": [
       "dataset/train/train_16798/train_16798_b/(…):   0%|          | 0.00/89.6M [00:00<?, ?B/s]"
      ]
     },
     "metadata": {},
     "output_type": "display_data"
    },
    {
     "name": "stdout",
     "output_type": "stream",
     "text": [
      "test all pooling\n",
      "Processing dataset/train/train_14823/train_14823_b/train_14823_b_2.nii.gz...\n"
     ]
    },
    {
     "data": {
      "application/vnd.jupyter.widget-view+json": {
       "model_id": "29b11eb7987f48f696075bd6dceab779",
       "version_major": 2,
       "version_minor": 0
      },
      "text/plain": [
       "dataset/train/train_14823/train_14823_b/(…):   0%|          | 0.00/111M [00:00<?, ?B/s]"
      ]
     },
     "metadata": {},
     "output_type": "display_data"
    },
    {
     "name": "stdout",
     "output_type": "stream",
     "text": [
      "test all pooling\n",
      "Processing dataset/train/train_8043/train_8043_a/train_8043_a_2.nii.gz...\n"
     ]
    },
    {
     "data": {
      "application/vnd.jupyter.widget-view+json": {
       "model_id": "5a852f78ebc44695993ea8522b99d80c",
       "version_major": 2,
       "version_minor": 0
      },
      "text/plain": [
       "dataset/train/train_8043/train_8043_a/tr(…):   0%|          | 0.00/253M [00:00<?, ?B/s]"
      ]
     },
     "metadata": {},
     "output_type": "display_data"
    },
    {
     "name": "stdout",
     "output_type": "stream",
     "text": [
      "test all pooling\n",
      "Processing dataset/train/train_9414/train_9414_b/train_9414_b_1.nii.gz...\n"
     ]
    },
    {
     "data": {
      "application/vnd.jupyter.widget-view+json": {
       "model_id": "afa95f198cb440cfa7763b6369ee8089",
       "version_major": 2,
       "version_minor": 0
      },
      "text/plain": [
       "dataset/train/train_9414/train_9414_b/tr(…):   0%|          | 0.00/410M [00:00<?, ?B/s]"
      ]
     },
     "metadata": {},
     "output_type": "display_data"
    },
    {
     "name": "stdout",
     "output_type": "stream",
     "text": [
      "test all pooling\n",
      "Processing dataset/train/train_6857/train_6857_a/train_6857_a_2.nii.gz...\n"
     ]
    },
    {
     "data": {
      "application/vnd.jupyter.widget-view+json": {
       "model_id": "0e69c4d3dfbb49afbb94bf21ab03f4e7",
       "version_major": 2,
       "version_minor": 0
      },
      "text/plain": [
       "dataset/train/train_6857/train_6857_a/tr(…):   0%|          | 0.00/175M [00:00<?, ?B/s]"
      ]
     },
     "metadata": {},
     "output_type": "display_data"
    },
    {
     "name": "stdout",
     "output_type": "stream",
     "text": [
      "test all pooling\n",
      "Processing dataset/train/train_1381/train_1381_d/train_1381_d_2.nii.gz...\n"
     ]
    },
    {
     "data": {
      "application/vnd.jupyter.widget-view+json": {
       "model_id": "4ab90d73de694524ad3057855eb5b188",
       "version_major": 2,
       "version_minor": 0
      },
      "text/plain": [
       "dataset/train/train_1381/train_1381_d/tr(…):   0%|          | 0.00/172M [00:00<?, ?B/s]"
      ]
     },
     "metadata": {},
     "output_type": "display_data"
    },
    {
     "name": "stdout",
     "output_type": "stream",
     "text": [
      "test all pooling\n",
      "Processing dataset/train/train_12218/train_12218_a/train_12218_a_2.nii.gz...\n"
     ]
    },
    {
     "data": {
      "application/vnd.jupyter.widget-view+json": {
       "model_id": "dfe2c3c674ae4e74a94a75929bf4ccf3",
       "version_major": 2,
       "version_minor": 0
      },
      "text/plain": [
       "dataset/train/train_12218/train_12218_a/(…):   0%|          | 0.00/466M [00:00<?, ?B/s]"
      ]
     },
     "metadata": {},
     "output_type": "display_data"
    },
    {
     "name": "stdout",
     "output_type": "stream",
     "text": [
      "test all pooling\n",
      "Processing dataset/train/train_7259/train_7259_b/train_7259_b_1.nii.gz...\n"
     ]
    },
    {
     "data": {
      "application/vnd.jupyter.widget-view+json": {
       "model_id": "9c55771814d4496bae4d3d5299f63df9",
       "version_major": 2,
       "version_minor": 0
      },
      "text/plain": [
       "dataset/train/train_7259/train_7259_b/tr(…):   0%|          | 0.00/122M [00:00<?, ?B/s]"
      ]
     },
     "metadata": {},
     "output_type": "display_data"
    },
    {
     "name": "stdout",
     "output_type": "stream",
     "text": [
      "test all pooling\n",
      "Processing dataset/train/train_16188/train_16188_b/train_16188_b_2.nii.gz...\n"
     ]
    },
    {
     "data": {
      "application/vnd.jupyter.widget-view+json": {
       "model_id": "f7bcc1fd457c42bb8cf6bd5dde00a6c9",
       "version_major": 2,
       "version_minor": 0
      },
      "text/plain": [
       "dataset/train/train_16188/train_16188_b/(…):   0%|          | 0.00/124M [00:00<?, ?B/s]"
      ]
     },
     "metadata": {},
     "output_type": "display_data"
    },
    {
     "name": "stdout",
     "output_type": "stream",
     "text": [
      "test all pooling\n",
      "Processing dataset/train/train_19346/train_19346_a/train_19346_a_2.nii.gz...\n"
     ]
    },
    {
     "data": {
      "application/vnd.jupyter.widget-view+json": {
       "model_id": "b4dbd957d8b549768da9ef70a758149f",
       "version_major": 2,
       "version_minor": 0
      },
      "text/plain": [
       "dataset/train/train_19346/train_19346_a/(…):   0%|          | 0.00/123M [00:00<?, ?B/s]"
      ]
     },
     "metadata": {},
     "output_type": "display_data"
    },
    {
     "name": "stdout",
     "output_type": "stream",
     "text": [
      "test all pooling\n",
      "Processing dataset/train/train_4883/train_4883_a/train_4883_a_2.nii.gz...\n"
     ]
    },
    {
     "data": {
      "application/vnd.jupyter.widget-view+json": {
       "model_id": "bcc1474a220a43bb99145ed42db7ee86",
       "version_major": 2,
       "version_minor": 0
      },
      "text/plain": [
       "dataset/train/train_4883/train_4883_a/tr(…):   0%|          | 0.00/112M [00:00<?, ?B/s]"
      ]
     },
     "metadata": {},
     "output_type": "display_data"
    },
    {
     "name": "stdout",
     "output_type": "stream",
     "text": [
      "test all pooling\n",
      "Processing dataset/train/train_8237/train_8237_b/train_8237_b_1.nii.gz...\n"
     ]
    },
    {
     "data": {
      "application/vnd.jupyter.widget-view+json": {
       "model_id": "ad04d16bd50d4808b042400369c938f6",
       "version_major": 2,
       "version_minor": 0
      },
      "text/plain": [
       "dataset/train/train_8237/train_8237_b/tr(…):   0%|          | 0.00/475M [00:00<?, ?B/s]"
      ]
     },
     "metadata": {},
     "output_type": "display_data"
    },
    {
     "name": "stdout",
     "output_type": "stream",
     "text": [
      "test all pooling\n",
      "Processing dataset/train/train_2123/train_2123_a/train_2123_a_1.nii.gz...\n"
     ]
    },
    {
     "data": {
      "application/vnd.jupyter.widget-view+json": {
       "model_id": "764f4971ce8749bf9eeba6fc81b44a6e",
       "version_major": 2,
       "version_minor": 0
      },
      "text/plain": [
       "dataset/train/train_2123/train_2123_a/tr(…):   0%|          | 0.00/484M [00:00<?, ?B/s]"
      ]
     },
     "metadata": {},
     "output_type": "display_data"
    },
    {
     "name": "stdout",
     "output_type": "stream",
     "text": [
      "test all pooling\n",
      "Processing dataset/train/train_16437/train_16437_a/train_16437_a_1.nii.gz...\n"
     ]
    },
    {
     "data": {
      "application/vnd.jupyter.widget-view+json": {
       "model_id": "c79661632b8a475290807281b9809e2e",
       "version_major": 2,
       "version_minor": 0
      },
      "text/plain": [
       "dataset/train/train_16437/train_16437_a/(…):   0%|          | 0.00/131M [00:00<?, ?B/s]"
      ]
     },
     "metadata": {},
     "output_type": "display_data"
    },
    {
     "name": "stdout",
     "output_type": "stream",
     "text": [
      "test all pooling\n",
      "Processing dataset/train/train_8168/train_8168_c/train_8168_c_1.nii.gz...\n"
     ]
    },
    {
     "data": {
      "application/vnd.jupyter.widget-view+json": {
       "model_id": "246400dc9ddb4959899b29dfe4e7037d",
       "version_major": 2,
       "version_minor": 0
      },
      "text/plain": [
       "dataset/train/train_8168/train_8168_c/tr(…):   0%|          | 0.00/143M [00:00<?, ?B/s]"
      ]
     },
     "metadata": {},
     "output_type": "display_data"
    },
    {
     "name": "stdout",
     "output_type": "stream",
     "text": [
      "test all pooling\n",
      "Processing dataset/train/train_9835/train_9835_a/train_9835_a_2.nii.gz...\n"
     ]
    },
    {
     "data": {
      "application/vnd.jupyter.widget-view+json": {
       "model_id": "3e7a064275c54d299ea5749429250d8a",
       "version_major": 2,
       "version_minor": 0
      },
      "text/plain": [
       "dataset/train/train_9835/train_9835_a/tr(…):   0%|          | 0.00/232M [00:00<?, ?B/s]"
      ]
     },
     "metadata": {},
     "output_type": "display_data"
    },
    {
     "name": "stdout",
     "output_type": "stream",
     "text": [
      "test all pooling\n",
      "Processing dataset/train/train_7951/train_7951_a/train_7951_a_1.nii.gz...\n"
     ]
    },
    {
     "data": {
      "application/vnd.jupyter.widget-view+json": {
       "model_id": "a5cfa17cb7c64472ae5e99eb90ba5f3b",
       "version_major": 2,
       "version_minor": 0
      },
      "text/plain": [
       "dataset/train/train_7951/train_7951_a/tr(…):   0%|          | 0.00/160M [00:00<?, ?B/s]"
      ]
     },
     "metadata": {},
     "output_type": "display_data"
    },
    {
     "name": "stdout",
     "output_type": "stream",
     "text": [
      "test all pooling\n",
      "Processing dataset/train/train_13202/train_13202_b/train_13202_b_1.nii.gz...\n"
     ]
    },
    {
     "data": {
      "application/vnd.jupyter.widget-view+json": {
       "model_id": "3a36a717b30f4240ba3ef4d7b53d1be7",
       "version_major": 2,
       "version_minor": 0
      },
      "text/plain": [
       "dataset/train/train_13202/train_13202_b/(…):   0%|          | 0.00/452M [00:00<?, ?B/s]"
      ]
     },
     "metadata": {},
     "output_type": "display_data"
    },
    {
     "name": "stdout",
     "output_type": "stream",
     "text": [
      "test all pooling\n",
      "Processing dataset/train/train_11593/train_11593_b/train_11593_b_2.nii.gz...\n"
     ]
    },
    {
     "data": {
      "application/vnd.jupyter.widget-view+json": {
       "model_id": "817117f2951741e5a81e29961c63b5eb",
       "version_major": 2,
       "version_minor": 0
      },
      "text/plain": [
       "dataset/train/train_11593/train_11593_b/(…):   0%|          | 0.00/119M [00:00<?, ?B/s]"
      ]
     },
     "metadata": {},
     "output_type": "display_data"
    },
    {
     "name": "stdout",
     "output_type": "stream",
     "text": [
      "test all pooling\n",
      "Processing dataset/train/train_13873/train_13873_a/train_13873_a_2.nii.gz...\n"
     ]
    },
    {
     "data": {
      "application/vnd.jupyter.widget-view+json": {
       "model_id": "f99eecce8b4b48d0b51ad5147d8801fe",
       "version_major": 2,
       "version_minor": 0
      },
      "text/plain": [
       "dataset/train/train_13873/train_13873_a/(…):   0%|          | 0.00/238M [00:00<?, ?B/s]"
      ]
     },
     "metadata": {},
     "output_type": "display_data"
    },
    {
     "name": "stdout",
     "output_type": "stream",
     "text": [
      "test all pooling\n",
      "Processing dataset/train/train_12272/train_12272_a/train_12272_a_1.nii.gz...\n"
     ]
    },
    {
     "data": {
      "application/vnd.jupyter.widget-view+json": {
       "model_id": "0cf059315f024242aea9c38e3d0d7620",
       "version_major": 2,
       "version_minor": 0
      },
      "text/plain": [
       "dataset/train/train_12272/train_12272_a/(…):   0%|          | 0.00/459M [00:00<?, ?B/s]"
      ]
     },
     "metadata": {},
     "output_type": "display_data"
    },
    {
     "name": "stdout",
     "output_type": "stream",
     "text": [
      "test all pooling\n",
      "Processing dataset/train/train_11969/train_11969_a/train_11969_a_2.nii.gz...\n"
     ]
    },
    {
     "data": {
      "application/vnd.jupyter.widget-view+json": {
       "model_id": "dd89e6dfe013494ea1a8d12a5867f08e",
       "version_major": 2,
       "version_minor": 0
      },
      "text/plain": [
       "dataset/train/train_11969/train_11969_a/(…):   0%|          | 0.00/164M [00:00<?, ?B/s]"
      ]
     },
     "metadata": {},
     "output_type": "display_data"
    },
    {
     "name": "stdout",
     "output_type": "stream",
     "text": [
      "test all pooling\n",
      "Processing dataset/train/train_4233/train_4233_a/train_4233_a_1.nii.gz...\n"
     ]
    },
    {
     "data": {
      "application/vnd.jupyter.widget-view+json": {
       "model_id": "c5deb62792b247fa9fd43e4e67a593f1",
       "version_major": 2,
       "version_minor": 0
      },
      "text/plain": [
       "dataset/train/train_4233/train_4233_a/tr(…):   0%|          | 0.00/457M [00:00<?, ?B/s]"
      ]
     },
     "metadata": {},
     "output_type": "display_data"
    },
    {
     "name": "stdout",
     "output_type": "stream",
     "text": [
      "test all pooling\n",
      "Processing dataset/train/train_1896/train_1896_b/train_1896_b_2.nii.gz...\n"
     ]
    },
    {
     "data": {
      "application/vnd.jupyter.widget-view+json": {
       "model_id": "49499c73ea494c6aa5792487842e1d9e",
       "version_major": 2,
       "version_minor": 0
      },
      "text/plain": [
       "dataset/train/train_1896/train_1896_b/tr(…):   0%|          | 0.00/208M [00:00<?, ?B/s]"
      ]
     },
     "metadata": {},
     "output_type": "display_data"
    },
    {
     "name": "stdout",
     "output_type": "stream",
     "text": [
      "test all pooling\n",
      "Processing dataset/train/train_14993/train_14993_a/train_14993_a_1.nii.gz...\n"
     ]
    },
    {
     "data": {
      "application/vnd.jupyter.widget-view+json": {
       "model_id": "ee300d4565d1486b8cb4cb0d6c2174c4",
       "version_major": 2,
       "version_minor": 0
      },
      "text/plain": [
       "dataset/train/train_14993/train_14993_a/(…):   0%|          | 0.00/140M [00:00<?, ?B/s]"
      ]
     },
     "metadata": {},
     "output_type": "display_data"
    },
    {
     "name": "stdout",
     "output_type": "stream",
     "text": [
      "test all pooling\n",
      "Processing dataset/train/train_3392/train_3392_a/train_3392_a_2.nii.gz...\n"
     ]
    },
    {
     "data": {
      "application/vnd.jupyter.widget-view+json": {
       "model_id": "a5ca4f660a6d4fafa40410185255fe04",
       "version_major": 2,
       "version_minor": 0
      },
      "text/plain": [
       "dataset/train/train_3392/train_3392_a/tr(…):   0%|          | 0.00/143M [00:00<?, ?B/s]"
      ]
     },
     "metadata": {},
     "output_type": "display_data"
    },
    {
     "name": "stdout",
     "output_type": "stream",
     "text": [
      "test all pooling\n",
      "Processing dataset/train/train_6438/train_6438_a/train_6438_a_1.nii.gz...\n"
     ]
    },
    {
     "data": {
      "application/vnd.jupyter.widget-view+json": {
       "model_id": "220169b73de14d6e8c9dcf3b5fff6d72",
       "version_major": 2,
       "version_minor": 0
      },
      "text/plain": [
       "dataset/train/train_6438/train_6438_a/tr(…):   0%|          | 0.00/438M [00:00<?, ?B/s]"
      ]
     },
     "metadata": {},
     "output_type": "display_data"
    },
    {
     "name": "stdout",
     "output_type": "stream",
     "text": [
      "test all pooling\n",
      "Processing dataset/train/train_19151/train_19151_b/train_19151_b_1.nii.gz...\n"
     ]
    },
    {
     "data": {
      "application/vnd.jupyter.widget-view+json": {
       "model_id": "117596e708764a58897a34d12cd44983",
       "version_major": 2,
       "version_minor": 0
      },
      "text/plain": [
       "dataset/train/train_19151/train_19151_b/(…):   0%|          | 0.00/469M [00:00<?, ?B/s]"
      ]
     },
     "metadata": {},
     "output_type": "display_data"
    },
    {
     "name": "stdout",
     "output_type": "stream",
     "text": [
      "test all pooling\n",
      "Processing dataset/train/train_16665/train_16665_a/train_16665_a_1.nii.gz...\n"
     ]
    },
    {
     "data": {
      "application/vnd.jupyter.widget-view+json": {
       "model_id": "20494a6e8a0f4c8fbe55dafc0e47ec22",
       "version_major": 2,
       "version_minor": 0
      },
      "text/plain": [
       "dataset/train/train_16665/train_16665_a/(…):   0%|          | 0.00/132M [00:00<?, ?B/s]"
      ]
     },
     "metadata": {},
     "output_type": "display_data"
    },
    {
     "name": "stdout",
     "output_type": "stream",
     "text": [
      "test all pooling\n",
      "Processing dataset/train/train_10646/train_10646_a/train_10646_a_2.nii.gz...\n"
     ]
    },
    {
     "data": {
      "application/vnd.jupyter.widget-view+json": {
       "model_id": "0155c53dd5cc48188fdf9068bdf00c4a",
       "version_major": 2,
       "version_minor": 0
      },
      "text/plain": [
       "dataset/train/train_10646/train_10646_a/(…):   0%|          | 0.00/238M [00:00<?, ?B/s]"
      ]
     },
     "metadata": {},
     "output_type": "display_data"
    },
    {
     "name": "stdout",
     "output_type": "stream",
     "text": [
      "test all pooling\n",
      "Processing dataset/train/train_15588/train_15588_a/train_15588_a_1.nii.gz...\n"
     ]
    },
    {
     "data": {
      "application/vnd.jupyter.widget-view+json": {
       "model_id": "c2d800d2070646ef8f121f46ed504679",
       "version_major": 2,
       "version_minor": 0
      },
      "text/plain": [
       "dataset/train/train_15588/train_15588_a/(…):   0%|          | 0.00/151M [00:00<?, ?B/s]"
      ]
     },
     "metadata": {},
     "output_type": "display_data"
    },
    {
     "name": "stdout",
     "output_type": "stream",
     "text": [
      "test all pooling\n",
      "Processing dataset/train/train_2976/train_2976_a/train_2976_a_2.nii.gz...\n"
     ]
    },
    {
     "data": {
      "application/vnd.jupyter.widget-view+json": {
       "model_id": "cd9a53dc232a4ae3a7a5c8d9575ca11c",
       "version_major": 2,
       "version_minor": 0
      },
      "text/plain": [
       "dataset/train/train_2976/train_2976_a/tr(…):   0%|          | 0.00/210M [00:00<?, ?B/s]"
      ]
     },
     "metadata": {},
     "output_type": "display_data"
    },
    {
     "name": "stdout",
     "output_type": "stream",
     "text": [
      "test all pooling\n",
      "Processing dataset/train/train_4836/train_4836_b/train_4836_b_1.nii.gz...\n"
     ]
    },
    {
     "data": {
      "application/vnd.jupyter.widget-view+json": {
       "model_id": "a8a3ac43c9ff4914b2d3471ad5146c8e",
       "version_major": 2,
       "version_minor": 0
      },
      "text/plain": [
       "dataset/train/train_4836/train_4836_b/tr(…):   0%|          | 0.00/114M [00:00<?, ?B/s]"
      ]
     },
     "metadata": {},
     "output_type": "display_data"
    },
    {
     "name": "stdout",
     "output_type": "stream",
     "text": [
      "test all pooling\n",
      "Processing dataset/train/train_16862/train_16862_a/train_16862_a_1.nii.gz...\n"
     ]
    },
    {
     "data": {
      "application/vnd.jupyter.widget-view+json": {
       "model_id": "06aaa5f044f742579fd6137c65f6d1cc",
       "version_major": 2,
       "version_minor": 0
      },
      "text/plain": [
       "dataset/train/train_16862/train_16862_a/(…):   0%|          | 0.00/452M [00:00<?, ?B/s]"
      ]
     },
     "metadata": {},
     "output_type": "display_data"
    },
    {
     "name": "stdout",
     "output_type": "stream",
     "text": [
      "test all pooling\n",
      "Processing dataset/train/train_19233/train_19233_a/train_19233_a_2.nii.gz...\n"
     ]
    },
    {
     "data": {
      "application/vnd.jupyter.widget-view+json": {
       "model_id": "679f1aea150c4d8fb065ea6dd555db02",
       "version_major": 2,
       "version_minor": 0
      },
      "text/plain": [
       "dataset/train/train_19233/train_19233_a/(…):   0%|          | 0.00/238M [00:00<?, ?B/s]"
      ]
     },
     "metadata": {},
     "output_type": "display_data"
    },
    {
     "name": "stdout",
     "output_type": "stream",
     "text": [
      "test all pooling\n",
      "Processing dataset/train/train_15676/train_15676_a/train_15676_a_1.nii.gz...\n"
     ]
    },
    {
     "data": {
      "application/vnd.jupyter.widget-view+json": {
       "model_id": "18754c27069140559c35ef2286204e05",
       "version_major": 2,
       "version_minor": 0
      },
      "text/plain": [
       "dataset/train/train_15676/train_15676_a/(…):   0%|          | 0.00/150M [00:00<?, ?B/s]"
      ]
     },
     "metadata": {},
     "output_type": "display_data"
    },
    {
     "name": "stdout",
     "output_type": "stream",
     "text": [
      "test all pooling\n",
      "Processing dataset/train/train_17417/train_17417_a/train_17417_a_2.nii.gz...\n"
     ]
    },
    {
     "data": {
      "application/vnd.jupyter.widget-view+json": {
       "model_id": "21429e510bb8496fb3578e1ba5b4704f",
       "version_major": 2,
       "version_minor": 0
      },
      "text/plain": [
       "dataset/train/train_17417/train_17417_a/(…):   0%|          | 0.00/213M [00:00<?, ?B/s]"
      ]
     },
     "metadata": {},
     "output_type": "display_data"
    },
    {
     "name": "stdout",
     "output_type": "stream",
     "text": [
      "test all pooling\n",
      "Processing dataset/train/train_17491/train_17491_a/train_17491_a_1.nii.gz...\n"
     ]
    },
    {
     "data": {
      "application/vnd.jupyter.widget-view+json": {
       "model_id": "e3ad145b22734cf6a2c7105193589f48",
       "version_major": 2,
       "version_minor": 0
      },
      "text/plain": [
       "dataset/train/train_17491/train_17491_a/(…):   0%|          | 0.00/147M [00:00<?, ?B/s]"
      ]
     },
     "metadata": {},
     "output_type": "display_data"
    },
    {
     "name": "stdout",
     "output_type": "stream",
     "text": [
      "test all pooling\n",
      "Processing dataset/train/train_18819/train_18819_a/train_18819_a_1.nii.gz...\n"
     ]
    },
    {
     "data": {
      "application/vnd.jupyter.widget-view+json": {
       "model_id": "f28066b4cfb84c3187a8aa18afe1a1e2",
       "version_major": 2,
       "version_minor": 0
      },
      "text/plain": [
       "dataset/train/train_18819/train_18819_a/(…):   0%|          | 0.00/243M [00:00<?, ?B/s]"
      ]
     },
     "metadata": {},
     "output_type": "display_data"
    },
    {
     "name": "stdout",
     "output_type": "stream",
     "text": [
      "test all pooling\n",
      "Processing dataset/train/train_2379/train_2379_a/train_2379_a_2.nii.gz...\n"
     ]
    },
    {
     "data": {
      "application/vnd.jupyter.widget-view+json": {
       "model_id": "9ad5491f4ae64667811ee89139a0b94d",
       "version_major": 2,
       "version_minor": 0
      },
      "text/plain": [
       "dataset/train/train_2379/train_2379_a/tr(…):   0%|          | 0.00/119M [00:00<?, ?B/s]"
      ]
     },
     "metadata": {},
     "output_type": "display_data"
    },
    {
     "name": "stdout",
     "output_type": "stream",
     "text": [
      "test all pooling\n",
      "Processing dataset/train/train_14800/train_14800_a/train_14800_a_1.nii.gz...\n"
     ]
    },
    {
     "data": {
      "application/vnd.jupyter.widget-view+json": {
       "model_id": "bd7c93cb18fa42dfbe4e6f408e859ede",
       "version_major": 2,
       "version_minor": 0
      },
      "text/plain": [
       "dataset/train/train_14800/train_14800_a/(…):   0%|          | 0.00/134M [00:00<?, ?B/s]"
      ]
     },
     "metadata": {},
     "output_type": "display_data"
    },
    {
     "name": "stdout",
     "output_type": "stream",
     "text": [
      "test all pooling\n",
      "Processing dataset/train/train_1416/train_1416_a/train_1416_a_1.nii.gz...\n"
     ]
    },
    {
     "data": {
      "application/vnd.jupyter.widget-view+json": {
       "model_id": "f50eb0224f0448a798d336119b097630",
       "version_major": 2,
       "version_minor": 0
      },
      "text/plain": [
       "dataset/train/train_1416/train_1416_a/tr(…):   0%|          | 0.00/511M [00:00<?, ?B/s]"
      ]
     },
     "metadata": {},
     "output_type": "display_data"
    },
    {
     "name": "stdout",
     "output_type": "stream",
     "text": [
      "test all pooling\n",
      "Processing dataset/train/train_17679/train_17679_a/train_17679_a_1.nii.gz...\n"
     ]
    },
    {
     "data": {
      "application/vnd.jupyter.widget-view+json": {
       "model_id": "8502516754334d16aff9c544a0176291",
       "version_major": 2,
       "version_minor": 0
      },
      "text/plain": [
       "dataset/train/train_17679/train_17679_a/(…):   0%|          | 0.00/506M [00:00<?, ?B/s]"
      ]
     },
     "metadata": {},
     "output_type": "display_data"
    },
    {
     "name": "stdout",
     "output_type": "stream",
     "text": [
      "test all pooling\n",
      "Processing dataset/train/train_10626/train_10626_a/train_10626_a_2.nii.gz...\n"
     ]
    },
    {
     "data": {
      "application/vnd.jupyter.widget-view+json": {
       "model_id": "c05643be32fb4ab0bba3c78a9e0c7f06",
       "version_major": 2,
       "version_minor": 0
      },
      "text/plain": [
       "dataset/train/train_10626/train_10626_a/(…):   0%|          | 0.00/162M [00:00<?, ?B/s]"
      ]
     },
     "metadata": {},
     "output_type": "display_data"
    },
    {
     "name": "stdout",
     "output_type": "stream",
     "text": [
      "test all pooling\n",
      "Processing dataset/train/train_16220/train_16220_b/train_16220_b_1.nii.gz...\n"
     ]
    },
    {
     "data": {
      "application/vnd.jupyter.widget-view+json": {
       "model_id": "ba28ddcf0a19431382754d1ae01150a3",
       "version_major": 2,
       "version_minor": 0
      },
      "text/plain": [
       "dataset/train/train_16220/train_16220_b/(…):   0%|          | 0.00/152M [00:00<?, ?B/s]"
      ]
     },
     "metadata": {},
     "output_type": "display_data"
    },
    {
     "name": "stdout",
     "output_type": "stream",
     "text": [
      "test all pooling\n",
      "Processing dataset/train/train_10084/train_10084_a/train_10084_a_2.nii.gz...\n"
     ]
    },
    {
     "data": {
      "application/vnd.jupyter.widget-view+json": {
       "model_id": "596bbff8a1574407bad2a9eb7198cbce",
       "version_major": 2,
       "version_minor": 0
      },
      "text/plain": [
       "dataset/train/train_10084/train_10084_a/(…):   0%|          | 0.00/221M [00:00<?, ?B/s]"
      ]
     },
     "metadata": {},
     "output_type": "display_data"
    },
    {
     "name": "stdout",
     "output_type": "stream",
     "text": [
      "test all pooling\n",
      "Processing dataset/train/train_14244/train_14244_a/train_14244_a_1.nii.gz...\n"
     ]
    },
    {
     "data": {
      "application/vnd.jupyter.widget-view+json": {
       "model_id": "87f1a611c8794a96b62e309c7080689d",
       "version_major": 2,
       "version_minor": 0
      },
      "text/plain": [
       "dataset/train/train_14244/train_14244_a/(…):   0%|          | 0.00/406M [00:00<?, ?B/s]"
      ]
     },
     "metadata": {},
     "output_type": "display_data"
    },
    {
     "name": "stdout",
     "output_type": "stream",
     "text": [
      "test all pooling\n",
      "Processing dataset/train/train_19717/train_19717_a/train_19717_a_2.nii.gz...\n"
     ]
    },
    {
     "data": {
      "application/vnd.jupyter.widget-view+json": {
       "model_id": "940d22e3c0514e5c965cf345dec6055c",
       "version_major": 2,
       "version_minor": 0
      },
      "text/plain": [
       "dataset/train/train_19717/train_19717_a/(…):   0%|          | 0.00/493M [00:00<?, ?B/s]"
      ]
     },
     "metadata": {},
     "output_type": "display_data"
    },
    {
     "name": "stdout",
     "output_type": "stream",
     "text": [
      "test all pooling\n",
      "Processing dataset/train/train_14480/train_14480_a/train_14480_a_2.nii.gz...\n"
     ]
    },
    {
     "data": {
      "application/vnd.jupyter.widget-view+json": {
       "model_id": "4507dca5ac9d452395b36be68ccb725e",
       "version_major": 2,
       "version_minor": 0
      },
      "text/plain": [
       "dataset/train/train_14480/train_14480_a/(…):   0%|          | 0.00/189M [00:00<?, ?B/s]"
      ]
     },
     "metadata": {},
     "output_type": "display_data"
    },
    {
     "name": "stdout",
     "output_type": "stream",
     "text": [
      "test all pooling\n",
      "Processing dataset/train/train_15350/train_15350_a/train_15350_a_1.nii.gz...\n"
     ]
    },
    {
     "data": {
      "application/vnd.jupyter.widget-view+json": {
       "model_id": "e7322efe06164d31822a2f8f58e99243",
       "version_major": 2,
       "version_minor": 0
      },
      "text/plain": [
       "dataset/train/train_15350/train_15350_a/(…):   0%|          | 0.00/112M [00:00<?, ?B/s]"
      ]
     },
     "metadata": {},
     "output_type": "display_data"
    },
    {
     "name": "stdout",
     "output_type": "stream",
     "text": [
      "test all pooling\n",
      "Processing dataset/train/train_1468/train_1468_b/train_1468_b_2.nii.gz...\n"
     ]
    },
    {
     "data": {
      "application/vnd.jupyter.widget-view+json": {
       "model_id": "5ec8e6345fc94510aa5ef32d183a4307",
       "version_major": 2,
       "version_minor": 0
      },
      "text/plain": [
       "dataset/train/train_1468/train_1468_b/tr(…):   0%|          | 0.00/215M [00:00<?, ?B/s]"
      ]
     },
     "metadata": {},
     "output_type": "display_data"
    },
    {
     "name": "stdout",
     "output_type": "stream",
     "text": [
      "test all pooling\n",
      "Processing dataset/train/train_8538/train_8538_a/train_8538_a_1.nii.gz...\n"
     ]
    },
    {
     "data": {
      "application/vnd.jupyter.widget-view+json": {
       "model_id": "f85d57b815fd49d58a414c6a9c70eda9",
       "version_major": 2,
       "version_minor": 0
      },
      "text/plain": [
       "dataset/train/train_8538/train_8538_a/tr(…):   0%|          | 0.00/522M [00:00<?, ?B/s]"
      ]
     },
     "metadata": {},
     "output_type": "display_data"
    },
    {
     "name": "stdout",
     "output_type": "stream",
     "text": [
      "test all pooling\n",
      "Processing dataset/train/train_16925/train_16925_a/train_16925_a_2.nii.gz...\n"
     ]
    },
    {
     "data": {
      "application/vnd.jupyter.widget-view+json": {
       "model_id": "3ef9cee4c35e4ca48c4879424d0dce86",
       "version_major": 2,
       "version_minor": 0
      },
      "text/plain": [
       "dataset/train/train_16925/train_16925_a/(…):   0%|          | 0.00/182M [00:00<?, ?B/s]"
      ]
     },
     "metadata": {},
     "output_type": "display_data"
    },
    {
     "name": "stdout",
     "output_type": "stream",
     "text": [
      "test all pooling\n",
      "Processing dataset/train/train_17652/train_17652_a/train_17652_a_2.nii.gz...\n"
     ]
    },
    {
     "data": {
      "application/vnd.jupyter.widget-view+json": {
       "model_id": "7c9632aab39348a8b6a4cf20b0752dc1",
       "version_major": 2,
       "version_minor": 0
      },
      "text/plain": [
       "dataset/train/train_17652/train_17652_a/(…):   0%|          | 0.00/117M [00:00<?, ?B/s]"
      ]
     },
     "metadata": {},
     "output_type": "display_data"
    },
    {
     "name": "stdout",
     "output_type": "stream",
     "text": [
      "test all pooling\n",
      "Processing dataset/train/train_5509/train_5509_a/train_5509_a_1.nii.gz...\n"
     ]
    },
    {
     "data": {
      "application/vnd.jupyter.widget-view+json": {
       "model_id": "98aed4ef10da48f09fc67b3e0ed28f73",
       "version_major": 2,
       "version_minor": 0
      },
      "text/plain": [
       "dataset/train/train_5509/train_5509_a/tr(…):   0%|          | 0.00/100M [00:00<?, ?B/s]"
      ]
     },
     "metadata": {},
     "output_type": "display_data"
    },
    {
     "name": "stdout",
     "output_type": "stream",
     "text": [
      "test all pooling\n",
      "Processing dataset/train/train_16436/train_16436_a/train_16436_a_2.nii.gz...\n"
     ]
    },
    {
     "data": {
      "application/vnd.jupyter.widget-view+json": {
       "model_id": "7b7e4dbc6ef4456e99683582d12acccf",
       "version_major": 2,
       "version_minor": 0
      },
      "text/plain": [
       "dataset/train/train_16436/train_16436_a/(…):   0%|          | 0.00/109M [00:00<?, ?B/s]"
      ]
     },
     "metadata": {},
     "output_type": "display_data"
    },
    {
     "name": "stdout",
     "output_type": "stream",
     "text": [
      "test all pooling\n",
      "Processing dataset/train/train_8567/train_8567_c/train_8567_c_2.nii.gz...\n"
     ]
    },
    {
     "data": {
      "application/vnd.jupyter.widget-view+json": {
       "model_id": "bf4d203e8dc547a2840895467c9a45a4",
       "version_major": 2,
       "version_minor": 0
      },
      "text/plain": [
       "dataset/train/train_8567/train_8567_c/tr(…):   0%|          | 0.00/103M [00:00<?, ?B/s]"
      ]
     },
     "metadata": {},
     "output_type": "display_data"
    },
    {
     "name": "stdout",
     "output_type": "stream",
     "text": [
      "test all pooling\n",
      "Processing dataset/train/train_7063/train_7063_a/train_7063_a_2.nii.gz...\n"
     ]
    },
    {
     "data": {
      "application/vnd.jupyter.widget-view+json": {
       "model_id": "14fb7a1010f8413f89b4af72d886fcbb",
       "version_major": 2,
       "version_minor": 0
      },
      "text/plain": [
       "dataset/train/train_7063/train_7063_a/tr(…):   0%|          | 0.00/176M [00:00<?, ?B/s]"
      ]
     },
     "metadata": {},
     "output_type": "display_data"
    },
    {
     "name": "stdout",
     "output_type": "stream",
     "text": [
      "test all pooling\n",
      "Processing dataset/train/train_18393/train_18393_a/train_18393_a_2.nii.gz...\n"
     ]
    },
    {
     "data": {
      "application/vnd.jupyter.widget-view+json": {
       "model_id": "397e7de935f344cfb2b668e417653388",
       "version_major": 2,
       "version_minor": 0
      },
      "text/plain": [
       "dataset/train/train_18393/train_18393_a/(…):   0%|          | 0.00/241M [00:00<?, ?B/s]"
      ]
     },
     "metadata": {},
     "output_type": "display_data"
    },
    {
     "name": "stdout",
     "output_type": "stream",
     "text": [
      "test all pooling\n",
      "Processing dataset/train/train_13527/train_13527_b/train_13527_b_2.nii.gz...\n"
     ]
    },
    {
     "data": {
      "application/vnd.jupyter.widget-view+json": {
       "model_id": "6adc2266fe12458abcde4bd79e52d7e9",
       "version_major": 2,
       "version_minor": 0
      },
      "text/plain": [
       "dataset/train/train_13527/train_13527_b/(…):   0%|          | 0.00/501M [00:00<?, ?B/s]"
      ]
     },
     "metadata": {},
     "output_type": "display_data"
    },
    {
     "name": "stdout",
     "output_type": "stream",
     "text": [
      "test all pooling\n",
      "Processing dataset/train/train_3053/train_3053_a/train_3053_a_1.nii.gz...\n"
     ]
    },
    {
     "data": {
      "application/vnd.jupyter.widget-view+json": {
       "model_id": "3bd43e6cc4bf47b2be1e60d6d6b77ce8",
       "version_major": 2,
       "version_minor": 0
      },
      "text/plain": [
       "dataset/train/train_3053/train_3053_a/tr(…):   0%|          | 0.00/558M [00:00<?, ?B/s]"
      ]
     },
     "metadata": {},
     "output_type": "display_data"
    },
    {
     "name": "stdout",
     "output_type": "stream",
     "text": [
      "test all pooling\n",
      "Processing dataset/train/train_17822/train_17822_a/train_17822_a_1.nii.gz...\n"
     ]
    },
    {
     "data": {
      "application/vnd.jupyter.widget-view+json": {
       "model_id": "a4116c2a9ec640aeb334f6d4f2d53a48",
       "version_major": 2,
       "version_minor": 0
      },
      "text/plain": [
       "dataset/train/train_17822/train_17822_a/(…):   0%|          | 0.00/139M [00:00<?, ?B/s]"
      ]
     },
     "metadata": {},
     "output_type": "display_data"
    },
    {
     "name": "stdout",
     "output_type": "stream",
     "text": [
      "test all pooling\n",
      "Processing dataset/train/train_8200/train_8200_a/train_8200_a_1.nii.gz...\n"
     ]
    },
    {
     "data": {
      "application/vnd.jupyter.widget-view+json": {
       "model_id": "7728e03224204c86aef0ddfc8b958b49",
       "version_major": 2,
       "version_minor": 0
      },
      "text/plain": [
       "dataset/train/train_8200/train_8200_a/tr(…):   0%|          | 0.00/144M [00:00<?, ?B/s]"
      ]
     },
     "metadata": {},
     "output_type": "display_data"
    },
    {
     "name": "stdout",
     "output_type": "stream",
     "text": [
      "test all pooling\n",
      "Processing dataset/train/train_8740/train_8740_b/train_8740_b_1.nii.gz...\n"
     ]
    },
    {
     "data": {
      "application/vnd.jupyter.widget-view+json": {
       "model_id": "92dd4945ccb24c51b6b58a1fdadb50a1",
       "version_major": 2,
       "version_minor": 0
      },
      "text/plain": [
       "dataset/train/train_8740/train_8740_b/tr(…):   0%|          | 0.00/464M [00:00<?, ?B/s]"
      ]
     },
     "metadata": {},
     "output_type": "display_data"
    },
    {
     "name": "stdout",
     "output_type": "stream",
     "text": [
      "test all pooling\n",
      "Processing dataset/train/train_17903/train_17903_a/train_17903_a_2.nii.gz...\n"
     ]
    },
    {
     "data": {
      "application/vnd.jupyter.widget-view+json": {
       "model_id": "09f8adf1891b4e4bb9fff4c634bf7235",
       "version_major": 2,
       "version_minor": 0
      },
      "text/plain": [
       "dataset/train/train_17903/train_17903_a/(…):   0%|          | 0.00/217M [00:00<?, ?B/s]"
      ]
     },
     "metadata": {},
     "output_type": "display_data"
    },
    {
     "name": "stdout",
     "output_type": "stream",
     "text": [
      "test all pooling\n",
      "Processing dataset/train/train_905/train_905_a/train_905_a_2.nii.gz...\n"
     ]
    },
    {
     "data": {
      "application/vnd.jupyter.widget-view+json": {
       "model_id": "6d533af37fe8457592c8bf90a4fc5569",
       "version_major": 2,
       "version_minor": 0
      },
      "text/plain": [
       "dataset/train/train_905/train_905_a/trai(…):   0%|          | 0.00/141M [00:00<?, ?B/s]"
      ]
     },
     "metadata": {},
     "output_type": "display_data"
    },
    {
     "name": "stdout",
     "output_type": "stream",
     "text": [
      "test all pooling\n",
      "Processing dataset/train/train_14520/train_14520_a/train_14520_a_1.nii.gz...\n"
     ]
    },
    {
     "data": {
      "application/vnd.jupyter.widget-view+json": {
       "model_id": "77b1bf5aa95c49e3a7c1873c8f85b292",
       "version_major": 2,
       "version_minor": 0
      },
      "text/plain": [
       "dataset/train/train_14520/train_14520_a/(…):   0%|          | 0.00/418M [00:00<?, ?B/s]"
      ]
     },
     "metadata": {},
     "output_type": "display_data"
    },
    {
     "name": "stdout",
     "output_type": "stream",
     "text": [
      "test all pooling\n",
      "Processing dataset/train/train_17645/train_17645_a/train_17645_a_2.nii.gz...\n"
     ]
    },
    {
     "data": {
      "application/vnd.jupyter.widget-view+json": {
       "model_id": "14bc9105e32d4ddb91ce2066ef12d0b8",
       "version_major": 2,
       "version_minor": 0
      },
      "text/plain": [
       "dataset/train/train_17645/train_17645_a/(…):   0%|          | 0.00/241M [00:00<?, ?B/s]"
      ]
     },
     "metadata": {},
     "output_type": "display_data"
    },
    {
     "name": "stdout",
     "output_type": "stream",
     "text": [
      "test all pooling\n",
      "Processing dataset/train/train_9314/train_9314_b/train_9314_b_2.nii.gz...\n"
     ]
    },
    {
     "data": {
      "application/vnd.jupyter.widget-view+json": {
       "model_id": "2a48fa3c77374cc29bb589ad5ef77c7e",
       "version_major": 2,
       "version_minor": 0
      },
      "text/plain": [
       "dataset/train/train_9314/train_9314_b/tr(…):   0%|          | 0.00/119M [00:00<?, ?B/s]"
      ]
     },
     "metadata": {},
     "output_type": "display_data"
    },
    {
     "name": "stdout",
     "output_type": "stream",
     "text": [
      "test all pooling\n",
      "Processing dataset/train/train_1748/train_1748_a/train_1748_a_2.nii.gz...\n"
     ]
    },
    {
     "data": {
      "application/vnd.jupyter.widget-view+json": {
       "model_id": "b55a60f5fce64b83964a0daf1361f2a3",
       "version_major": 2,
       "version_minor": 0
      },
      "text/plain": [
       "dataset/train/train_1748/train_1748_a/tr(…):   0%|          | 0.00/98.1M [00:00<?, ?B/s]"
      ]
     },
     "metadata": {},
     "output_type": "display_data"
    },
    {
     "name": "stdout",
     "output_type": "stream",
     "text": [
      "test all pooling\n",
      "Processing dataset/train/train_11319/train_11319_a/train_11319_a_1.nii.gz...\n"
     ]
    },
    {
     "data": {
      "application/vnd.jupyter.widget-view+json": {
       "model_id": "dd32fc80354d457695b3bf7065e16133",
       "version_major": 2,
       "version_minor": 0
      },
      "text/plain": [
       "dataset/train/train_11319/train_11319_a/(…):   0%|          | 0.00/198M [00:00<?, ?B/s]"
      ]
     },
     "metadata": {},
     "output_type": "display_data"
    },
    {
     "name": "stdout",
     "output_type": "stream",
     "text": [
      "test all pooling\n",
      "Processing dataset/train/train_13988/train_13988_a/train_13988_a_1.nii.gz...\n"
     ]
    },
    {
     "data": {
      "application/vnd.jupyter.widget-view+json": {
       "model_id": "c6c6e8d234f940889feac417e48c7bd3",
       "version_major": 2,
       "version_minor": 0
      },
      "text/plain": [
       "dataset/train/train_13988/train_13988_a/(…):   0%|          | 0.00/468M [00:00<?, ?B/s]"
      ]
     },
     "metadata": {},
     "output_type": "display_data"
    },
    {
     "name": "stdout",
     "output_type": "stream",
     "text": [
      "test all pooling\n",
      "Processing dataset/train/train_18032/train_18032_a/train_18032_a_2.nii.gz...\n"
     ]
    },
    {
     "data": {
      "application/vnd.jupyter.widget-view+json": {
       "model_id": "145d8bde769447ff9ed6fad15344febb",
       "version_major": 2,
       "version_minor": 0
      },
      "text/plain": [
       "dataset/train/train_18032/train_18032_a/(…):   0%|          | 0.00/242M [00:00<?, ?B/s]"
      ]
     },
     "metadata": {},
     "output_type": "display_data"
    },
    {
     "name": "stdout",
     "output_type": "stream",
     "text": [
      "test all pooling\n",
      "Processing dataset/train/train_5634/train_5634_e/train_5634_e_2.nii.gz...\n"
     ]
    },
    {
     "data": {
      "application/vnd.jupyter.widget-view+json": {
       "model_id": "d0ee97648d9f44c09b01f6dee8b05b39",
       "version_major": 2,
       "version_minor": 0
      },
      "text/plain": [
       "dataset/train/train_5634/train_5634_e/tr(…):   0%|          | 0.00/124M [00:00<?, ?B/s]"
      ]
     },
     "metadata": {},
     "output_type": "display_data"
    },
    {
     "name": "stdout",
     "output_type": "stream",
     "text": [
      "test all pooling\n",
      "Processing dataset/train/train_2448/train_2448_a/train_2448_a_2.nii.gz...\n"
     ]
    },
    {
     "data": {
      "application/vnd.jupyter.widget-view+json": {
       "model_id": "171bdeb23b4b44b4a312ace583bc7b06",
       "version_major": 2,
       "version_minor": 0
      },
      "text/plain": [
       "dataset/train/train_2448/train_2448_a/tr(…):   0%|          | 0.00/220M [00:00<?, ?B/s]"
      ]
     },
     "metadata": {},
     "output_type": "display_data"
    },
    {
     "name": "stdout",
     "output_type": "stream",
     "text": [
      "test all pooling\n",
      "Processing dataset/train/train_19793/train_19793_a/train_19793_a_2.nii.gz...\n"
     ]
    },
    {
     "data": {
      "application/vnd.jupyter.widget-view+json": {
       "model_id": "b384423ebba64438bbcdaa154053d747",
       "version_major": 2,
       "version_minor": 0
      },
      "text/plain": [
       "dataset/train/train_19793/train_19793_a/(…):   0%|          | 0.00/185M [00:00<?, ?B/s]"
      ]
     },
     "metadata": {},
     "output_type": "display_data"
    },
    {
     "name": "stdout",
     "output_type": "stream",
     "text": [
      "test all pooling\n",
      "Processing dataset/train/train_1896/train_1896_b/train_1896_b_1.nii.gz...\n"
     ]
    },
    {
     "data": {
      "application/vnd.jupyter.widget-view+json": {
       "model_id": "7b692853e1f84cdd9bca88231e861f2b",
       "version_major": 2,
       "version_minor": 0
      },
      "text/plain": [
       "dataset/train/train_1896/train_1896_b/tr(…):   0%|          | 0.00/451M [00:00<?, ?B/s]"
      ]
     },
     "metadata": {},
     "output_type": "display_data"
    },
    {
     "name": "stdout",
     "output_type": "stream",
     "text": [
      "test all pooling\n",
      "Processing dataset/train/train_5381/train_5381_a/train_5381_a_2.nii.gz...\n"
     ]
    },
    {
     "data": {
      "application/vnd.jupyter.widget-view+json": {
       "model_id": "e39b71cce8a841ce94eb251b63ef1e2b",
       "version_major": 2,
       "version_minor": 0
      },
      "text/plain": [
       "dataset/train/train_5381/train_5381_a/tr(…):   0%|          | 0.00/146M [00:00<?, ?B/s]"
      ]
     },
     "metadata": {},
     "output_type": "display_data"
    },
    {
     "name": "stdout",
     "output_type": "stream",
     "text": [
      "test all pooling\n",
      "Processing dataset/train/train_1017/train_1017_a/train_1017_a_2.nii.gz...\n"
     ]
    },
    {
     "data": {
      "application/vnd.jupyter.widget-view+json": {
       "model_id": "83386149ac124ba9acecc39d43157c1b",
       "version_major": 2,
       "version_minor": 0
      },
      "text/plain": [
       "dataset/train/train_1017/train_1017_a/tr(…):   0%|          | 0.00/172M [00:00<?, ?B/s]"
      ]
     },
     "metadata": {},
     "output_type": "display_data"
    },
    {
     "name": "stdout",
     "output_type": "stream",
     "text": [
      "test all pooling\n",
      "Processing dataset/train/train_12329/train_12329_a/train_12329_a_2.nii.gz...\n"
     ]
    },
    {
     "data": {
      "application/vnd.jupyter.widget-view+json": {
       "model_id": "4c3e35a0cbf541d69fd65d32e6d54214",
       "version_major": 2,
       "version_minor": 0
      },
      "text/plain": [
       "dataset/train/train_12329/train_12329_a/(…):   0%|          | 0.00/201M [00:00<?, ?B/s]"
      ]
     },
     "metadata": {},
     "output_type": "display_data"
    },
    {
     "name": "stdout",
     "output_type": "stream",
     "text": [
      "test all pooling\n",
      "Processing dataset/train/train_12870/train_12870_a/train_12870_a_1.nii.gz...\n"
     ]
    },
    {
     "data": {
      "application/vnd.jupyter.widget-view+json": {
       "model_id": "7237b1f7110c4b70bfe690f4ee9dc52d",
       "version_major": 2,
       "version_minor": 0
      },
      "text/plain": [
       "dataset/train/train_12870/train_12870_a/(…):   0%|          | 0.00/160M [00:00<?, ?B/s]"
      ]
     },
     "metadata": {},
     "output_type": "display_data"
    },
    {
     "name": "stdout",
     "output_type": "stream",
     "text": [
      "test all pooling\n",
      "Processing dataset/train/train_12877/train_12877_b/train_12877_b_2.nii.gz...\n"
     ]
    },
    {
     "data": {
      "application/vnd.jupyter.widget-view+json": {
       "model_id": "88ab7a1a7eba4ff1b08c6ba1691e199a",
       "version_major": 2,
       "version_minor": 0
      },
      "text/plain": [
       "dataset/train/train_12877/train_12877_b/(…):   0%|          | 0.00/124M [00:00<?, ?B/s]"
      ]
     },
     "metadata": {},
     "output_type": "display_data"
    },
    {
     "name": "stdout",
     "output_type": "stream",
     "text": [
      "test all pooling\n",
      "Processing dataset/train/train_7946/train_7946_a/train_7946_a_1.nii.gz...\n"
     ]
    },
    {
     "data": {
      "application/vnd.jupyter.widget-view+json": {
       "model_id": "d8bdb1ce2974452ab704acbe7e3571cf",
       "version_major": 2,
       "version_minor": 0
      },
      "text/plain": [
       "dataset/train/train_7946/train_7946_a/tr(…):   0%|          | 0.00/491M [00:00<?, ?B/s]"
      ]
     },
     "metadata": {},
     "output_type": "display_data"
    },
    {
     "name": "stdout",
     "output_type": "stream",
     "text": [
      "test all pooling\n",
      "Processing dataset/train/train_11792/train_11792_a/train_11792_a_2.nii.gz...\n"
     ]
    },
    {
     "data": {
      "application/vnd.jupyter.widget-view+json": {
       "model_id": "8c4ee09934d7440f808c407e4e44063b",
       "version_major": 2,
       "version_minor": 0
      },
      "text/plain": [
       "dataset/train/train_11792/train_11792_a/(…):   0%|          | 0.00/256M [00:00<?, ?B/s]"
      ]
     },
     "metadata": {},
     "output_type": "display_data"
    },
    {
     "name": "stdout",
     "output_type": "stream",
     "text": [
      "test all pooling\n",
      "Processing dataset/train/train_6128/train_6128_a/train_6128_a_2.nii.gz...\n"
     ]
    },
    {
     "data": {
      "application/vnd.jupyter.widget-view+json": {
       "model_id": "b6bc4f6e1f3a4f1e88eea0af8418de57",
       "version_major": 2,
       "version_minor": 0
      },
      "text/plain": [
       "dataset/train/train_6128/train_6128_a/tr(…):   0%|          | 0.00/210M [00:00<?, ?B/s]"
      ]
     },
     "metadata": {},
     "output_type": "display_data"
    },
    {
     "name": "stdout",
     "output_type": "stream",
     "text": [
      "test all pooling\n",
      "Processing dataset/train/train_6367/train_6367_a/train_6367_a_2.nii.gz...\n"
     ]
    },
    {
     "data": {
      "application/vnd.jupyter.widget-view+json": {
       "model_id": "70be8b2d3ef240b5aaba821b78f323bf",
       "version_major": 2,
       "version_minor": 0
      },
      "text/plain": [
       "dataset/train/train_6367/train_6367_a/tr(…):   0%|          | 0.00/198M [00:00<?, ?B/s]"
      ]
     },
     "metadata": {},
     "output_type": "display_data"
    },
    {
     "name": "stdout",
     "output_type": "stream",
     "text": [
      "test all pooling\n",
      "Processing dataset/train/train_7428/train_7428_a/train_7428_a_2.nii.gz...\n"
     ]
    },
    {
     "data": {
      "application/vnd.jupyter.widget-view+json": {
       "model_id": "b51ac64c7f554f8cba511b41c233ddcf",
       "version_major": 2,
       "version_minor": 0
      },
      "text/plain": [
       "dataset/train/train_7428/train_7428_a/tr(…):   0%|          | 0.00/126M [00:00<?, ?B/s]"
      ]
     },
     "metadata": {},
     "output_type": "display_data"
    },
    {
     "name": "stdout",
     "output_type": "stream",
     "text": [
      "test all pooling\n",
      "Processing dataset/train/train_8306/train_8306_a/train_8306_a_2.nii.gz...\n"
     ]
    },
    {
     "data": {
      "application/vnd.jupyter.widget-view+json": {
       "model_id": "edac4a24fe8c435e80cfff3a3763ab81",
       "version_major": 2,
       "version_minor": 0
      },
      "text/plain": [
       "dataset/train/train_8306/train_8306_a/tr(…):   0%|          | 0.00/191M [00:00<?, ?B/s]"
      ]
     },
     "metadata": {},
     "output_type": "display_data"
    },
    {
     "name": "stdout",
     "output_type": "stream",
     "text": [
      "test all pooling\n",
      "Processing dataset/train/train_17197/train_17197_c/train_17197_c_2.nii.gz...\n"
     ]
    },
    {
     "data": {
      "application/vnd.jupyter.widget-view+json": {
       "model_id": "adc791e1f74e4bdd9c64467748803cfe",
       "version_major": 2,
       "version_minor": 0
      },
      "text/plain": [
       "dataset/train/train_17197/train_17197_c/(…):   0%|          | 0.00/132M [00:00<?, ?B/s]"
      ]
     },
     "metadata": {},
     "output_type": "display_data"
    },
    {
     "name": "stdout",
     "output_type": "stream",
     "text": [
      "test all pooling\n",
      "Processing dataset/train/train_14428/train_14428_a/train_14428_a_2.nii.gz...\n"
     ]
    },
    {
     "data": {
      "application/vnd.jupyter.widget-view+json": {
       "model_id": "7693128534454cfd8a6dd5afb0a9567a",
       "version_major": 2,
       "version_minor": 0
      },
      "text/plain": [
       "dataset/train/train_14428/train_14428_a/(…):   0%|          | 0.00/115M [00:00<?, ?B/s]"
      ]
     },
     "metadata": {},
     "output_type": "display_data"
    },
    {
     "name": "stdout",
     "output_type": "stream",
     "text": [
      "test all pooling\n",
      "Processing dataset/train/train_17245/train_17245_a/train_17245_a_1.nii.gz...\n"
     ]
    },
    {
     "data": {
      "application/vnd.jupyter.widget-view+json": {
       "model_id": "ad6ba6f10edb405ca57ba09ed041db59",
       "version_major": 2,
       "version_minor": 0
      },
      "text/plain": [
       "dataset/train/train_17245/train_17245_a/(…):   0%|          | 0.00/493M [00:00<?, ?B/s]"
      ]
     },
     "metadata": {},
     "output_type": "display_data"
    },
    {
     "name": "stdout",
     "output_type": "stream",
     "text": [
      "test all pooling\n",
      "Processing dataset/train/train_12362/train_12362_a/train_12362_a_1.nii.gz...\n"
     ]
    },
    {
     "data": {
      "application/vnd.jupyter.widget-view+json": {
       "model_id": "ad83d205fbe64b25a2fb9d332e156b9f",
       "version_major": 2,
       "version_minor": 0
      },
      "text/plain": [
       "dataset/train/train_12362/train_12362_a/(…):   0%|          | 0.00/406M [00:00<?, ?B/s]"
      ]
     },
     "metadata": {},
     "output_type": "display_data"
    },
    {
     "name": "stdout",
     "output_type": "stream",
     "text": [
      "test all pooling\n",
      "Processing dataset/train/train_15106/train_15106_a/train_15106_a_2.nii.gz...\n"
     ]
    },
    {
     "data": {
      "application/vnd.jupyter.widget-view+json": {
       "model_id": "65930d06c9fe4db1aad49c635df59493",
       "version_major": 2,
       "version_minor": 0
      },
      "text/plain": [
       "dataset/train/train_15106/train_15106_a/(…):   0%|          | 0.00/202M [00:00<?, ?B/s]"
      ]
     },
     "metadata": {},
     "output_type": "display_data"
    },
    {
     "name": "stdout",
     "output_type": "stream",
     "text": [
      "test all pooling\n",
      "Processing dataset/train/train_17988/train_17988_a/train_17988_a_1.nii.gz...\n"
     ]
    },
    {
     "data": {
      "application/vnd.jupyter.widget-view+json": {
       "model_id": "7df2303edf284eaebb28ac308b5147ba",
       "version_major": 2,
       "version_minor": 0
      },
      "text/plain": [
       "dataset/train/train_17988/train_17988_a/(…):   0%|          | 0.00/424M [00:00<?, ?B/s]"
      ]
     },
     "metadata": {},
     "output_type": "display_data"
    },
    {
     "name": "stdout",
     "output_type": "stream",
     "text": [
      "test all pooling\n",
      "Processing dataset/train/train_8841/train_8841_a/train_8841_a_1.nii.gz...\n"
     ]
    },
    {
     "data": {
      "application/vnd.jupyter.widget-view+json": {
       "model_id": "3b18358549cf4e63b8e2b866d2881d13",
       "version_major": 2,
       "version_minor": 0
      },
      "text/plain": [
       "dataset/train/train_8841/train_8841_a/tr(…):   0%|          | 0.00/448M [00:00<?, ?B/s]"
      ]
     },
     "metadata": {},
     "output_type": "display_data"
    },
    {
     "name": "stdout",
     "output_type": "stream",
     "text": [
      "test all pooling\n",
      "Processing dataset/train/train_3233/train_3233_b/train_3233_b_1.nii.gz...\n"
     ]
    },
    {
     "data": {
      "application/vnd.jupyter.widget-view+json": {
       "model_id": "7783ca64fe0043e690710ecc685fee98",
       "version_major": 2,
       "version_minor": 0
      },
      "text/plain": [
       "dataset/train/train_3233/train_3233_b/tr(…):   0%|          | 0.00/502M [00:00<?, ?B/s]"
      ]
     },
     "metadata": {},
     "output_type": "display_data"
    },
    {
     "name": "stdout",
     "output_type": "stream",
     "text": [
      "test all pooling\n",
      "Processing dataset/train/train_5468/train_5468_a/train_5468_a_1.nii.gz...\n"
     ]
    },
    {
     "data": {
      "application/vnd.jupyter.widget-view+json": {
       "model_id": "99d98f9d344342a389306ae108c128e8",
       "version_major": 2,
       "version_minor": 0
      },
      "text/plain": [
       "dataset/train/train_5468/train_5468_a/tr(…):   0%|          | 0.00/263M [00:00<?, ?B/s]"
      ]
     },
     "metadata": {},
     "output_type": "display_data"
    },
    {
     "name": "stdout",
     "output_type": "stream",
     "text": [
      "test all pooling\n",
      "Processing dataset/train/train_8957/train_8957_a/train_8957_a_1.nii.gz...\n"
     ]
    },
    {
     "data": {
      "application/vnd.jupyter.widget-view+json": {
       "model_id": "b67a7797e86c48008d100b206ebaceb7",
       "version_major": 2,
       "version_minor": 0
      },
      "text/plain": [
       "dataset/train/train_8957/train_8957_a/tr(…):   0%|          | 0.00/105M [00:00<?, ?B/s]"
      ]
     },
     "metadata": {},
     "output_type": "display_data"
    },
    {
     "name": "stdout",
     "output_type": "stream",
     "text": [
      "test all pooling\n",
      "Processing dataset/train/train_19657/train_19657_a/train_19657_a_2.nii.gz...\n"
     ]
    },
    {
     "data": {
      "application/vnd.jupyter.widget-view+json": {
       "model_id": "ec80372f169049a48c1798a6316a0a4a",
       "version_major": 2,
       "version_minor": 0
      },
      "text/plain": [
       "dataset/train/train_19657/train_19657_a/(…):   0%|          | 0.00/228M [00:00<?, ?B/s]"
      ]
     },
     "metadata": {},
     "output_type": "display_data"
    },
    {
     "name": "stdout",
     "output_type": "stream",
     "text": [
      "test all pooling\n",
      "Processing dataset/train/train_7666/train_7666_a/train_7666_a_2.nii.gz...\n"
     ]
    },
    {
     "data": {
      "application/vnd.jupyter.widget-view+json": {
       "model_id": "f9b20a64b62848acbf9ea4523ed95322",
       "version_major": 2,
       "version_minor": 0
      },
      "text/plain": [
       "dataset/train/train_7666/train_7666_a/tr(…):   0%|          | 0.00/238M [00:00<?, ?B/s]"
      ]
     },
     "metadata": {},
     "output_type": "display_data"
    },
    {
     "name": "stdout",
     "output_type": "stream",
     "text": [
      "test all pooling\n",
      "Processing dataset/train/train_19687/train_19687_a/train_19687_a_1.nii.gz...\n"
     ]
    },
    {
     "data": {
      "application/vnd.jupyter.widget-view+json": {
       "model_id": "29cd7aa99e8849c5a8ded8f48d8ca2fa",
       "version_major": 2,
       "version_minor": 0
      },
      "text/plain": [
       "dataset/train/train_19687/train_19687_a/(…):   0%|          | 0.00/155M [00:00<?, ?B/s]"
      ]
     },
     "metadata": {},
     "output_type": "display_data"
    },
    {
     "name": "stdout",
     "output_type": "stream",
     "text": [
      "test all pooling\n",
      "Processing dataset/train/train_15554/train_15554_a/train_15554_a_1.nii.gz...\n"
     ]
    },
    {
     "data": {
      "application/vnd.jupyter.widget-view+json": {
       "model_id": "7af462b3e3d44799967b9aefc9a27928",
       "version_major": 2,
       "version_minor": 0
      },
      "text/plain": [
       "dataset/train/train_15554/train_15554_a/(…):   0%|          | 0.00/137M [00:00<?, ?B/s]"
      ]
     },
     "metadata": {},
     "output_type": "display_data"
    },
    {
     "name": "stdout",
     "output_type": "stream",
     "text": [
      "test all pooling\n",
      "Processing dataset/train/train_2926/train_2926_a/train_2926_a_1.nii.gz...\n"
     ]
    },
    {
     "data": {
      "application/vnd.jupyter.widget-view+json": {
       "model_id": "dec19f53d8f54af29106473b05deb01a",
       "version_major": 2,
       "version_minor": 0
      },
      "text/plain": [
       "dataset/train/train_2926/train_2926_a/tr(…):   0%|          | 0.00/147M [00:00<?, ?B/s]"
      ]
     },
     "metadata": {},
     "output_type": "display_data"
    },
    {
     "name": "stdout",
     "output_type": "stream",
     "text": [
      "test all pooling\n",
      "Processing dataset/train/train_8199/train_8199_a/train_8199_a_2.nii.gz...\n"
     ]
    },
    {
     "data": {
      "application/vnd.jupyter.widget-view+json": {
       "model_id": "3f42beb74b9a4407a108f654f1519bcd",
       "version_major": 2,
       "version_minor": 0
      },
      "text/plain": [
       "dataset/train/train_8199/train_8199_a/tr(…):   0%|          | 0.00/165M [00:00<?, ?B/s]"
      ]
     },
     "metadata": {},
     "output_type": "display_data"
    },
    {
     "name": "stdout",
     "output_type": "stream",
     "text": [
      "test all pooling\n",
      "Processing dataset/train/train_17488/train_17488_a/train_17488_a_2.nii.gz...\n"
     ]
    },
    {
     "data": {
      "application/vnd.jupyter.widget-view+json": {
       "model_id": "c09421ebf6654066aff3e7757ea62be8",
       "version_major": 2,
       "version_minor": 0
      },
      "text/plain": [
       "dataset/train/train_17488/train_17488_a/(…):   0%|          | 0.00/252M [00:00<?, ?B/s]"
      ]
     },
     "metadata": {},
     "output_type": "display_data"
    },
    {
     "name": "stdout",
     "output_type": "stream",
     "text": [
      "test all pooling\n",
      "Processing dataset/train/train_1041/train_1041_b/train_1041_b_2.nii.gz...\n"
     ]
    },
    {
     "data": {
      "application/vnd.jupyter.widget-view+json": {
       "model_id": "742cae9d5d7d47b99573b1e1d1dc337b",
       "version_major": 2,
       "version_minor": 0
      },
      "text/plain": [
       "dataset/train/train_1041/train_1041_b/tr(…):   0%|          | 0.00/190M [00:00<?, ?B/s]"
      ]
     },
     "metadata": {},
     "output_type": "display_data"
    },
    {
     "name": "stdout",
     "output_type": "stream",
     "text": [
      "test all pooling\n",
      "Processing dataset/train/train_16624/train_16624_a/train_16624_a_2.nii.gz...\n"
     ]
    },
    {
     "data": {
      "application/vnd.jupyter.widget-view+json": {
       "model_id": "efa2d0d52578429ea68838924ef3a234",
       "version_major": 2,
       "version_minor": 0
      },
      "text/plain": [
       "dataset/train/train_16624/train_16624_a/(…):   0%|          | 0.00/211M [00:00<?, ?B/s]"
      ]
     },
     "metadata": {},
     "output_type": "display_data"
    },
    {
     "name": "stdout",
     "output_type": "stream",
     "text": [
      "test all pooling\n",
      "Processing dataset/train/train_11113/train_11113_a/train_11113_a_1.nii.gz...\n"
     ]
    },
    {
     "data": {
      "application/vnd.jupyter.widget-view+json": {
       "model_id": "849a14b8665344728f0761be287b2d9d",
       "version_major": 2,
       "version_minor": 0
      },
      "text/plain": [
       "dataset/train/train_11113/train_11113_a/(…):   0%|          | 0.00/104M [00:00<?, ?B/s]"
      ]
     },
     "metadata": {},
     "output_type": "display_data"
    },
    {
     "name": "stdout",
     "output_type": "stream",
     "text": [
      "test all pooling\n",
      "Processing dataset/train/train_2077/train_2077_a/train_2077_a_2.nii.gz...\n"
     ]
    },
    {
     "data": {
      "application/vnd.jupyter.widget-view+json": {
       "model_id": "8a979c56477d4f6badfd0cb0b611c5ff",
       "version_major": 2,
       "version_minor": 0
      },
      "text/plain": [
       "dataset/train/train_2077/train_2077_a/tr(…):   0%|          | 0.00/212M [00:00<?, ?B/s]"
      ]
     },
     "metadata": {},
     "output_type": "display_data"
    },
    {
     "name": "stdout",
     "output_type": "stream",
     "text": [
      "test all pooling\n",
      "Processing dataset/train/train_17872/train_17872_a/train_17872_a_2.nii.gz...\n"
     ]
    },
    {
     "data": {
      "application/vnd.jupyter.widget-view+json": {
       "model_id": "e499cc701a9a4545b262a269465b5117",
       "version_major": 2,
       "version_minor": 0
      },
      "text/plain": [
       "dataset/train/train_17872/train_17872_a/(…):   0%|          | 0.00/185M [00:00<?, ?B/s]"
      ]
     },
     "metadata": {},
     "output_type": "display_data"
    },
    {
     "name": "stdout",
     "output_type": "stream",
     "text": [
      "test all pooling\n",
      "Processing dataset/train/train_2407/train_2407_a/train_2407_a_1.nii.gz...\n"
     ]
    },
    {
     "data": {
      "application/vnd.jupyter.widget-view+json": {
       "model_id": "0716238c3f8e47cda1d8cebd194f9742",
       "version_major": 2,
       "version_minor": 0
      },
      "text/plain": [
       "dataset/train/train_2407/train_2407_a/tr(…):   0%|          | 0.00/501M [00:00<?, ?B/s]"
      ]
     },
     "metadata": {},
     "output_type": "display_data"
    },
    {
     "name": "stdout",
     "output_type": "stream",
     "text": [
      "test all pooling\n",
      "Processing dataset/train/train_1995/train_1995_a/train_1995_a_1.nii.gz...\n"
     ]
    },
    {
     "data": {
      "application/vnd.jupyter.widget-view+json": {
       "model_id": "3c9a6219de1348d0ba829f8e9cbca949",
       "version_major": 2,
       "version_minor": 0
      },
      "text/plain": [
       "dataset/train/train_1995/train_1995_a/tr(…):   0%|          | 0.00/104M [00:00<?, ?B/s]"
      ]
     },
     "metadata": {},
     "output_type": "display_data"
    },
    {
     "name": "stdout",
     "output_type": "stream",
     "text": [
      "test all pooling\n",
      "Processing dataset/train/train_17649/train_17649_a/train_17649_a_1.nii.gz...\n"
     ]
    },
    {
     "data": {
      "application/vnd.jupyter.widget-view+json": {
       "model_id": "412ef6fae40e4cd7af42b3d2989f3eb0",
       "version_major": 2,
       "version_minor": 0
      },
      "text/plain": [
       "dataset/train/train_17649/train_17649_a/(…):   0%|          | 0.00/501M [00:00<?, ?B/s]"
      ]
     },
     "metadata": {},
     "output_type": "display_data"
    },
    {
     "name": "stdout",
     "output_type": "stream",
     "text": [
      "test all pooling\n",
      "Processing dataset/train/train_12545/train_12545_a/train_12545_a_2.nii.gz...\n"
     ]
    },
    {
     "data": {
      "application/vnd.jupyter.widget-view+json": {
       "model_id": "54e90f39592f4c43a225d06595584518",
       "version_major": 2,
       "version_minor": 0
      },
      "text/plain": [
       "dataset/train/train_12545/train_12545_a/(…):   0%|          | 0.00/127M [00:00<?, ?B/s]"
      ]
     },
     "metadata": {},
     "output_type": "display_data"
    },
    {
     "name": "stdout",
     "output_type": "stream",
     "text": [
      "test all pooling\n",
      "Processing dataset/train/train_9166/train_9166_a/train_9166_a_1.nii.gz...\n"
     ]
    },
    {
     "data": {
      "application/vnd.jupyter.widget-view+json": {
       "model_id": "297eacf7a0114e819bacdc802c3a8c64",
       "version_major": 2,
       "version_minor": 0
      },
      "text/plain": [
       "dataset/train/train_9166/train_9166_a/tr(…):   0%|          | 0.00/213M [00:00<?, ?B/s]"
      ]
     },
     "metadata": {},
     "output_type": "display_data"
    },
    {
     "name": "stdout",
     "output_type": "stream",
     "text": [
      "test all pooling\n",
      "Processing dataset/train/train_19330/train_19330_a/train_19330_a_1.nii.gz...\n"
     ]
    },
    {
     "data": {
      "application/vnd.jupyter.widget-view+json": {
       "model_id": "9f3371c7a5064c089593cdff3d3100bc",
       "version_major": 2,
       "version_minor": 0
      },
      "text/plain": [
       "dataset/train/train_19330/train_19330_a/(…):   0%|          | 0.00/103M [00:00<?, ?B/s]"
      ]
     },
     "metadata": {},
     "output_type": "display_data"
    },
    {
     "name": "stdout",
     "output_type": "stream",
     "text": [
      "test all pooling\n",
      "Processing dataset/train/train_19952/train_19952_a/train_19952_a_1.nii.gz...\n"
     ]
    },
    {
     "data": {
      "application/vnd.jupyter.widget-view+json": {
       "model_id": "06ce4c6f3782419a8443db219272206a",
       "version_major": 2,
       "version_minor": 0
      },
      "text/plain": [
       "dataset/train/train_19952/train_19952_a/(…):   0%|          | 0.00/259M [00:00<?, ?B/s]"
      ]
     },
     "metadata": {},
     "output_type": "display_data"
    },
    {
     "name": "stdout",
     "output_type": "stream",
     "text": [
      "test all pooling\n",
      "Processing dataset/train/train_10897/train_10897_a/train_10897_a_2.nii.gz...\n"
     ]
    },
    {
     "data": {
      "application/vnd.jupyter.widget-view+json": {
       "model_id": "0d0e5f2e60f94947ac69e3bf4a2483bd",
       "version_major": 2,
       "version_minor": 0
      },
      "text/plain": [
       "dataset/train/train_10897/train_10897_a/(…):   0%|          | 0.00/238M [00:00<?, ?B/s]"
      ]
     },
     "metadata": {},
     "output_type": "display_data"
    },
    {
     "name": "stdout",
     "output_type": "stream",
     "text": [
      "test all pooling\n",
      "Processing dataset/train/train_8617/train_8617_a/train_8617_a_1.nii.gz...\n"
     ]
    },
    {
     "data": {
      "application/vnd.jupyter.widget-view+json": {
       "model_id": "c7d1c0e5ffc04e009bd9349ffb8c3646",
       "version_major": 2,
       "version_minor": 0
      },
      "text/plain": [
       "dataset/train/train_8617/train_8617_a/tr(…):   0%|          | 0.00/525M [00:00<?, ?B/s]"
      ]
     },
     "metadata": {},
     "output_type": "display_data"
    },
    {
     "name": "stdout",
     "output_type": "stream",
     "text": [
      "test all pooling\n",
      "Processing dataset/train/train_3587/train_3587_a/train_3587_a_1.nii.gz...\n"
     ]
    },
    {
     "data": {
      "application/vnd.jupyter.widget-view+json": {
       "model_id": "8aeede6201f64c62be0cfe68579426a4",
       "version_major": 2,
       "version_minor": 0
      },
      "text/plain": [
       "dataset/train/train_3587/train_3587_a/tr(…):   0%|          | 0.00/117M [00:00<?, ?B/s]"
      ]
     },
     "metadata": {},
     "output_type": "display_data"
    },
    {
     "name": "stdout",
     "output_type": "stream",
     "text": [
      "test all pooling\n",
      "Processing dataset/train/train_150/train_150_a/train_150_a_1.nii.gz...\n"
     ]
    },
    {
     "data": {
      "application/vnd.jupyter.widget-view+json": {
       "model_id": "57011fde42ab49d8b5745bb5424a119b",
       "version_major": 2,
       "version_minor": 0
      },
      "text/plain": [
       "dataset/train/train_150/train_150_a/trai(…):   0%|          | 0.00/431M [00:00<?, ?B/s]"
      ]
     },
     "metadata": {},
     "output_type": "display_data"
    },
    {
     "name": "stdout",
     "output_type": "stream",
     "text": [
      "test all pooling\n",
      "Processing dataset/train/train_2565/train_2565_a/train_2565_a_2.nii.gz...\n"
     ]
    },
    {
     "data": {
      "application/vnd.jupyter.widget-view+json": {
       "model_id": "e09babd5f772459b8049019cd8ba1367",
       "version_major": 2,
       "version_minor": 0
      },
      "text/plain": [
       "dataset/train/train_2565/train_2565_a/tr(…):   0%|          | 0.00/223M [00:00<?, ?B/s]"
      ]
     },
     "metadata": {},
     "output_type": "display_data"
    },
    {
     "name": "stdout",
     "output_type": "stream",
     "text": [
      "test all pooling\n",
      "Processing dataset/train/train_17714/train_17714_a/train_17714_a_2.nii.gz...\n"
     ]
    },
    {
     "data": {
      "application/vnd.jupyter.widget-view+json": {
       "model_id": "94b201fa2fff4b8da4de63e6b7731e12",
       "version_major": 2,
       "version_minor": 0
      },
      "text/plain": [
       "dataset/train/train_17714/train_17714_a/(…):   0%|          | 0.00/113M [00:00<?, ?B/s]"
      ]
     },
     "metadata": {},
     "output_type": "display_data"
    },
    {
     "name": "stdout",
     "output_type": "stream",
     "text": [
      "test all pooling\n",
      "Processing dataset/train/train_5469/train_5469_b/train_5469_b_2.nii.gz...\n"
     ]
    },
    {
     "data": {
      "application/vnd.jupyter.widget-view+json": {
       "model_id": "f13190fd433245c7b9acb3525fccbf65",
       "version_major": 2,
       "version_minor": 0
      },
      "text/plain": [
       "dataset/train/train_5469/train_5469_b/tr(…):   0%|          | 0.00/248M [00:00<?, ?B/s]"
      ]
     },
     "metadata": {},
     "output_type": "display_data"
    },
    {
     "name": "stdout",
     "output_type": "stream",
     "text": [
      "test all pooling\n",
      "Processing dataset/train/train_10979/train_10979_a/train_10979_a_1.nii.gz...\n"
     ]
    },
    {
     "data": {
      "application/vnd.jupyter.widget-view+json": {
       "model_id": "097e1d079dad4596adf586e44088eccb",
       "version_major": 2,
       "version_minor": 0
      },
      "text/plain": [
       "dataset/train/train_10979/train_10979_a/(…):   0%|          | 0.00/131M [00:00<?, ?B/s]"
      ]
     },
     "metadata": {},
     "output_type": "display_data"
    },
    {
     "name": "stdout",
     "output_type": "stream",
     "text": [
      "test all pooling\n",
      "Processing dataset/train/train_16296/train_16296_a/train_16296_a_1.nii.gz...\n"
     ]
    },
    {
     "data": {
      "application/vnd.jupyter.widget-view+json": {
       "model_id": "b2a2129e4cc541df97a1257c27e607f1",
       "version_major": 2,
       "version_minor": 0
      },
      "text/plain": [
       "dataset/train/train_16296/train_16296_a/(…):   0%|          | 0.00/167M [00:00<?, ?B/s]"
      ]
     },
     "metadata": {},
     "output_type": "display_data"
    },
    {
     "name": "stdout",
     "output_type": "stream",
     "text": [
      "test all pooling\n",
      "Processing dataset/train/train_7252/train_7252_a/train_7252_a_1.nii.gz...\n"
     ]
    },
    {
     "data": {
      "application/vnd.jupyter.widget-view+json": {
       "model_id": "2fc103136648418b8c0cf31cc2acbfcc",
       "version_major": 2,
       "version_minor": 0
      },
      "text/plain": [
       "dataset/train/train_7252/train_7252_a/tr(…):   0%|          | 0.00/528M [00:00<?, ?B/s]"
      ]
     },
     "metadata": {},
     "output_type": "display_data"
    },
    {
     "name": "stdout",
     "output_type": "stream",
     "text": [
      "test all pooling\n",
      "Processing dataset/train/train_2826/train_2826_a/train_2826_a_1.nii.gz...\n"
     ]
    },
    {
     "data": {
      "application/vnd.jupyter.widget-view+json": {
       "model_id": "48aceeb687cb42ebaa80b94cb2c0fdf1",
       "version_major": 2,
       "version_minor": 0
      },
      "text/plain": [
       "dataset/train/train_2826/train_2826_a/tr(…):   0%|          | 0.00/525M [00:00<?, ?B/s]"
      ]
     },
     "metadata": {},
     "output_type": "display_data"
    },
    {
     "name": "stdout",
     "output_type": "stream",
     "text": [
      "test all pooling\n",
      "Processing dataset/train/train_11401/train_11401_a/train_11401_a_6.nii.gz...\n"
     ]
    },
    {
     "data": {
      "application/vnd.jupyter.widget-view+json": {
       "model_id": "a3ab7d6ca52a4b3aa7f6a4348bc4c05c",
       "version_major": 2,
       "version_minor": 0
      },
      "text/plain": [
       "dataset/train/train_11401/train_11401_a/(…):   0%|          | 0.00/232M [00:00<?, ?B/s]"
      ]
     },
     "metadata": {},
     "output_type": "display_data"
    },
    {
     "name": "stdout",
     "output_type": "stream",
     "text": [
      "test all pooling\n",
      "Processing dataset/train/train_13751/train_13751_a/train_13751_a_2.nii.gz...\n"
     ]
    },
    {
     "data": {
      "application/vnd.jupyter.widget-view+json": {
       "model_id": "ead595f0ea7145dfa2f7e570077b0331",
       "version_major": 2,
       "version_minor": 0
      },
      "text/plain": [
       "dataset/train/train_13751/train_13751_a/(…):   0%|          | 0.00/209M [00:00<?, ?B/s]"
      ]
     },
     "metadata": {},
     "output_type": "display_data"
    },
    {
     "name": "stdout",
     "output_type": "stream",
     "text": [
      "test all pooling\n",
      "Processing dataset/train/train_5860/train_5860_a/train_5860_a_1.nii.gz...\n"
     ]
    },
    {
     "data": {
      "application/vnd.jupyter.widget-view+json": {
       "model_id": "07c94b41760845f8ab42463159717e19",
       "version_major": 2,
       "version_minor": 0
      },
      "text/plain": [
       "dataset/train/train_5860/train_5860_a/tr(…):   0%|          | 0.00/146M [00:00<?, ?B/s]"
      ]
     },
     "metadata": {},
     "output_type": "display_data"
    },
    {
     "name": "stdout",
     "output_type": "stream",
     "text": [
      "test all pooling\n",
      "Processing dataset/train/train_15288/train_15288_a/train_15288_a_2.nii.gz...\n"
     ]
    },
    {
     "data": {
      "application/vnd.jupyter.widget-view+json": {
       "model_id": "a4160157f2624e7c9518ba2a73befc6c",
       "version_major": 2,
       "version_minor": 0
      },
      "text/plain": [
       "dataset/train/train_15288/train_15288_a/(…):   0%|          | 0.00/258M [00:00<?, ?B/s]"
      ]
     },
     "metadata": {},
     "output_type": "display_data"
    },
    {
     "name": "stdout",
     "output_type": "stream",
     "text": [
      "test all pooling\n",
      "Processing dataset/train/train_5367/train_5367_a/train_5367_a_2.nii.gz...\n"
     ]
    },
    {
     "data": {
      "application/vnd.jupyter.widget-view+json": {
       "model_id": "232d069cc4f1499fbce6dc08197b5929",
       "version_major": 2,
       "version_minor": 0
      },
      "text/plain": [
       "dataset/train/train_5367/train_5367_a/tr(…):   0%|          | 0.00/475M [00:00<?, ?B/s]"
      ]
     },
     "metadata": {},
     "output_type": "display_data"
    },
    {
     "name": "stdout",
     "output_type": "stream",
     "text": [
      "test all pooling\n",
      "Processing dataset/train/train_14154/train_14154_d/train_14154_d_3.nii.gz...\n"
     ]
    },
    {
     "data": {
      "application/vnd.jupyter.widget-view+json": {
       "model_id": "cd94a9c97b624daa916943ae9de54a00",
       "version_major": 2,
       "version_minor": 0
      },
      "text/plain": [
       "dataset/train/train_14154/train_14154_d/(…):   0%|          | 0.00/158M [00:00<?, ?B/s]"
      ]
     },
     "metadata": {},
     "output_type": "display_data"
    },
    {
     "name": "stdout",
     "output_type": "stream",
     "text": [
      "test all pooling\n",
      "Processing dataset/train/train_17079/train_17079_b/train_17079_b_2.nii.gz...\n"
     ]
    },
    {
     "data": {
      "application/vnd.jupyter.widget-view+json": {
       "model_id": "a285cb8279084cc8931b8e977c80f48c",
       "version_major": 2,
       "version_minor": 0
      },
      "text/plain": [
       "dataset/train/train_17079/train_17079_b/(…):   0%|          | 0.00/143M [00:00<?, ?B/s]"
      ]
     },
     "metadata": {},
     "output_type": "display_data"
    },
    {
     "name": "stdout",
     "output_type": "stream",
     "text": [
      "test all pooling\n",
      "Processing dataset/train/train_7776/train_7776_a/train_7776_a_1.nii.gz...\n"
     ]
    },
    {
     "data": {
      "application/vnd.jupyter.widget-view+json": {
       "model_id": "ab7d59a5e4be42d88210ef347a02b954",
       "version_major": 2,
       "version_minor": 0
      },
      "text/plain": [
       "dataset/train/train_7776/train_7776_a/tr(…):   0%|          | 0.00/495M [00:00<?, ?B/s]"
      ]
     },
     "metadata": {},
     "output_type": "display_data"
    },
    {
     "name": "stdout",
     "output_type": "stream",
     "text": [
      "test all pooling\n",
      "Processing dataset/train/train_8334/train_8334_a/train_8334_a_1.nii.gz...\n"
     ]
    },
    {
     "data": {
      "application/vnd.jupyter.widget-view+json": {
       "model_id": "d09066bc126d429890594e49c7403884",
       "version_major": 2,
       "version_minor": 0
      },
      "text/plain": [
       "dataset/train/train_8334/train_8334_a/tr(…):   0%|          | 0.00/123M [00:00<?, ?B/s]"
      ]
     },
     "metadata": {},
     "output_type": "display_data"
    },
    {
     "name": "stdout",
     "output_type": "stream",
     "text": [
      "test all pooling\n",
      "Processing dataset/train/train_19154/train_19154_a/train_19154_a_2.nii.gz...\n"
     ]
    },
    {
     "data": {
      "application/vnd.jupyter.widget-view+json": {
       "model_id": "1b261005ca044e37859253d663fb74bf",
       "version_major": 2,
       "version_minor": 0
      },
      "text/plain": [
       "dataset/train/train_19154/train_19154_a/(…):   0%|          | 0.00/194M [00:00<?, ?B/s]"
      ]
     },
     "metadata": {},
     "output_type": "display_data"
    },
    {
     "name": "stdout",
     "output_type": "stream",
     "text": [
      "test all pooling\n",
      "Processing dataset/train/train_8953/train_8953_a/train_8953_a_2.nii.gz...\n"
     ]
    },
    {
     "data": {
      "application/vnd.jupyter.widget-view+json": {
       "model_id": "394db1d9927e496aa6b871be58525d00",
       "version_major": 2,
       "version_minor": 0
      },
      "text/plain": [
       "dataset/train/train_8953/train_8953_a/tr(…):   0%|          | 0.00/212M [00:00<?, ?B/s]"
      ]
     },
     "metadata": {},
     "output_type": "display_data"
    },
    {
     "name": "stdout",
     "output_type": "stream",
     "text": [
      "test all pooling\n",
      "Processing dataset/train/train_2057/train_2057_a/train_2057_a_1.nii.gz...\n"
     ]
    },
    {
     "data": {
      "application/vnd.jupyter.widget-view+json": {
       "model_id": "1a2752ba33ac44a4b570664c62ff31f6",
       "version_major": 2,
       "version_minor": 0
      },
      "text/plain": [
       "dataset/train/train_2057/train_2057_a/tr(…):   0%|          | 0.00/161M [00:00<?, ?B/s]"
      ]
     },
     "metadata": {},
     "output_type": "display_data"
    },
    {
     "name": "stdout",
     "output_type": "stream",
     "text": [
      "test all pooling\n",
      "Processing dataset/train/train_13024/train_13024_c/train_13024_c_1.nii.gz...\n"
     ]
    },
    {
     "data": {
      "application/vnd.jupyter.widget-view+json": {
       "model_id": "3397cd0b848c4fd1b833429e4eb6c2d5",
       "version_major": 2,
       "version_minor": 0
      },
      "text/plain": [
       "dataset/train/train_13024/train_13024_c/(…):   0%|          | 0.00/237M [00:00<?, ?B/s]"
      ]
     },
     "metadata": {},
     "output_type": "display_data"
    },
    {
     "name": "stdout",
     "output_type": "stream",
     "text": [
      "test all pooling\n",
      "Processing dataset/train/train_12550/train_12550_a/train_12550_a_1.nii.gz...\n"
     ]
    },
    {
     "data": {
      "application/vnd.jupyter.widget-view+json": {
       "model_id": "452dc18591044888bb3066231543e65e",
       "version_major": 2,
       "version_minor": 0
      },
      "text/plain": [
       "dataset/train/train_12550/train_12550_a/(…):   0%|          | 0.00/97.8M [00:00<?, ?B/s]"
      ]
     },
     "metadata": {},
     "output_type": "display_data"
    },
    {
     "name": "stdout",
     "output_type": "stream",
     "text": [
      "test all pooling\n",
      "Processing dataset/train/train_11597/train_11597_a/train_11597_a_1.nii.gz...\n"
     ]
    },
    {
     "data": {
      "application/vnd.jupyter.widget-view+json": {
       "model_id": "8f32ca1458d545e390138c862964ac5a",
       "version_major": 2,
       "version_minor": 0
      },
      "text/plain": [
       "dataset/train/train_11597/train_11597_a/(…):   0%|          | 0.00/107M [00:00<?, ?B/s]"
      ]
     },
     "metadata": {},
     "output_type": "display_data"
    },
    {
     "name": "stdout",
     "output_type": "stream",
     "text": [
      "test all pooling\n",
      "Processing dataset/train/train_14927/train_14927_a/train_14927_a_1.nii.gz...\n"
     ]
    },
    {
     "data": {
      "application/vnd.jupyter.widget-view+json": {
       "model_id": "7d28e73c83554ffaa69c84e158cc007a",
       "version_major": 2,
       "version_minor": 0
      },
      "text/plain": [
       "dataset/train/train_14927/train_14927_a/(…):   0%|          | 0.00/106M [00:00<?, ?B/s]"
      ]
     },
     "metadata": {},
     "output_type": "display_data"
    },
    {
     "name": "stdout",
     "output_type": "stream",
     "text": [
      "test all pooling\n",
      "Processing dataset/train/train_3348/train_3348_a/train_3348_a_1.nii.gz...\n"
     ]
    },
    {
     "data": {
      "application/vnd.jupyter.widget-view+json": {
       "model_id": "92a3ca74a72244f983e81460bacf996f",
       "version_major": 2,
       "version_minor": 0
      },
      "text/plain": [
       "dataset/train/train_3348/train_3348_a/tr(…):   0%|          | 0.00/331M [00:00<?, ?B/s]"
      ]
     },
     "metadata": {},
     "output_type": "display_data"
    },
    {
     "name": "stdout",
     "output_type": "stream",
     "text": [
      "test all pooling\n",
      "Processing dataset/train/train_16761/train_16761_a/train_16761_a_1.nii.gz...\n"
     ]
    },
    {
     "data": {
      "application/vnd.jupyter.widget-view+json": {
       "model_id": "64cebbf46ac74eab807dcbef88788fcb",
       "version_major": 2,
       "version_minor": 0
      },
      "text/plain": [
       "dataset/train/train_16761/train_16761_a/(…):   0%|          | 0.00/89.5M [00:00<?, ?B/s]"
      ]
     },
     "metadata": {},
     "output_type": "display_data"
    },
    {
     "name": "stdout",
     "output_type": "stream",
     "text": [
      "test all pooling\n",
      "Processing dataset/train/train_5257/train_5257_a/train_5257_a_2.nii.gz...\n"
     ]
    },
    {
     "data": {
      "application/vnd.jupyter.widget-view+json": {
       "model_id": "f179e8c7a55242fd998c2de07a70d6af",
       "version_major": 2,
       "version_minor": 0
      },
      "text/plain": [
       "dataset/train/train_5257/train_5257_a/tr(…):   0%|          | 0.00/155M [00:00<?, ?B/s]"
      ]
     },
     "metadata": {},
     "output_type": "display_data"
    },
    {
     "name": "stdout",
     "output_type": "stream",
     "text": [
      "test all pooling\n",
      "Processing dataset/train/train_18132/train_18132_a/train_18132_a_1.nii.gz...\n"
     ]
    },
    {
     "data": {
      "application/vnd.jupyter.widget-view+json": {
       "model_id": "fa7fcfbedd9e4499b49f6270f425c81e",
       "version_major": 2,
       "version_minor": 0
      },
      "text/plain": [
       "dataset/train/train_18132/train_18132_a/(…):   0%|          | 0.00/154M [00:00<?, ?B/s]"
      ]
     },
     "metadata": {},
     "output_type": "display_data"
    },
    {
     "name": "stdout",
     "output_type": "stream",
     "text": [
      "test all pooling\n",
      "Processing dataset/train/train_15200/train_15200_a/train_15200_a_1.nii.gz...\n",
      "test all pooling\n",
      "Processing dataset/train/train_942/train_942_a/train_942_a_1.nii.gz...\n"
     ]
    },
    {
     "data": {
      "application/vnd.jupyter.widget-view+json": {
       "model_id": "bc61462ad32a47f6bcb6f352e536b5d7",
       "version_major": 2,
       "version_minor": 0
      },
      "text/plain": [
       "dataset/train/train_942/train_942_a/trai(…):   0%|          | 0.00/265M [00:00<?, ?B/s]"
      ]
     },
     "metadata": {},
     "output_type": "display_data"
    },
    {
     "name": "stdout",
     "output_type": "stream",
     "text": [
      "test all pooling\n",
      "Processing dataset/train/train_13896/train_13896_b/train_13896_b_2.nii.gz...\n"
     ]
    },
    {
     "data": {
      "application/vnd.jupyter.widget-view+json": {
       "model_id": "829cb74719174811bf234b9c57ad7f2f",
       "version_major": 2,
       "version_minor": 0
      },
      "text/plain": [
       "dataset/train/train_13896/train_13896_b/(…):   0%|          | 0.00/161M [00:00<?, ?B/s]"
      ]
     },
     "metadata": {},
     "output_type": "display_data"
    },
    {
     "name": "stdout",
     "output_type": "stream",
     "text": [
      "test all pooling\n",
      "Processing dataset/train/train_17201/train_17201_a/train_17201_a_1.nii.gz...\n"
     ]
    },
    {
     "data": {
      "application/vnd.jupyter.widget-view+json": {
       "model_id": "e7db8c144cac426e88d4e0f26e64581f",
       "version_major": 2,
       "version_minor": 0
      },
      "text/plain": [
       "dataset/train/train_17201/train_17201_a/(…):   0%|          | 0.00/113M [00:00<?, ?B/s]"
      ]
     },
     "metadata": {},
     "output_type": "display_data"
    },
    {
     "name": "stdout",
     "output_type": "stream",
     "text": [
      "test all pooling\n",
      "Processing dataset/train/train_3047/train_3047_a/train_3047_a_1.nii.gz...\n"
     ]
    },
    {
     "data": {
      "application/vnd.jupyter.widget-view+json": {
       "model_id": "ddba69e011754db49474dd8ae2f1c407",
       "version_major": 2,
       "version_minor": 0
      },
      "text/plain": [
       "dataset/train/train_3047/train_3047_a/tr(…):   0%|          | 0.00/127M [00:00<?, ?B/s]"
      ]
     },
     "metadata": {},
     "output_type": "display_data"
    },
    {
     "name": "stdout",
     "output_type": "stream",
     "text": [
      "test all pooling\n",
      "Processing dataset/train/train_9479/train_9479_a/train_9479_a_1.nii.gz...\n"
     ]
    },
    {
     "data": {
      "application/vnd.jupyter.widget-view+json": {
       "model_id": "d8ef2591575841cca5c30f295b84b10a",
       "version_major": 2,
       "version_minor": 0
      },
      "text/plain": [
       "dataset/train/train_9479/train_9479_a/tr(…):   0%|          | 0.00/476M [00:00<?, ?B/s]"
      ]
     },
     "metadata": {},
     "output_type": "display_data"
    },
    {
     "name": "stdout",
     "output_type": "stream",
     "text": [
      "test all pooling\n",
      "Processing dataset/train/train_15410/train_15410_a/train_15410_a_1.nii.gz...\n"
     ]
    },
    {
     "data": {
      "application/vnd.jupyter.widget-view+json": {
       "model_id": "8aa150660e204ad0812abe5f81efa4e5",
       "version_major": 2,
       "version_minor": 0
      },
      "text/plain": [
       "dataset/train/train_15410/train_15410_a/(…):   0%|          | 0.00/96.8M [00:00<?, ?B/s]"
      ]
     },
     "metadata": {},
     "output_type": "display_data"
    },
    {
     "name": "stdout",
     "output_type": "stream",
     "text": [
      "test all pooling\n",
      "Processing dataset/train/train_8391/train_8391_a/train_8391_a_1.nii.gz...\n"
     ]
    },
    {
     "data": {
      "application/vnd.jupyter.widget-view+json": {
       "model_id": "36d8a164f48242b0aa16b400867b0c77",
       "version_major": 2,
       "version_minor": 0
      },
      "text/plain": [
       "dataset/train/train_8391/train_8391_a/tr(…):   0%|          | 0.00/510M [00:00<?, ?B/s]"
      ]
     },
     "metadata": {},
     "output_type": "display_data"
    },
    {
     "name": "stdout",
     "output_type": "stream",
     "text": [
      "test all pooling\n",
      "Processing dataset/train/train_10449/train_10449_a/train_10449_a_1.nii.gz...\n"
     ]
    },
    {
     "data": {
      "application/vnd.jupyter.widget-view+json": {
       "model_id": "c8c3dff7b12f4717ab51dacb2b088dbc",
       "version_major": 2,
       "version_minor": 0
      },
      "text/plain": [
       "dataset/train/train_10449/train_10449_a/(…):   0%|          | 0.00/474M [00:00<?, ?B/s]"
      ]
     },
     "metadata": {},
     "output_type": "display_data"
    },
    {
     "name": "stdout",
     "output_type": "stream",
     "text": [
      "test all pooling\n",
      "Processing dataset/train/train_13648/train_13648_b/train_13648_b_2.nii.gz...\n"
     ]
    },
    {
     "data": {
      "application/vnd.jupyter.widget-view+json": {
       "model_id": "7f64f5ebc39146b5975f9ce6ee255b08",
       "version_major": 2,
       "version_minor": 0
      },
      "text/plain": [
       "dataset/train/train_13648/train_13648_b/(…):   0%|          | 0.00/116M [00:00<?, ?B/s]"
      ]
     },
     "metadata": {},
     "output_type": "display_data"
    },
    {
     "name": "stdout",
     "output_type": "stream",
     "text": [
      "test all pooling\n",
      "Processing dataset/train/train_3064/train_3064_a/train_3064_a_1.nii.gz...\n"
     ]
    },
    {
     "data": {
      "application/vnd.jupyter.widget-view+json": {
       "model_id": "aac6ab71586b4215828c03ca24125c78",
       "version_major": 2,
       "version_minor": 0
      },
      "text/plain": [
       "dataset/train/train_3064/train_3064_a/tr(…):   0%|          | 0.00/97.6M [00:00<?, ?B/s]"
      ]
     },
     "metadata": {},
     "output_type": "display_data"
    },
    {
     "name": "stdout",
     "output_type": "stream",
     "text": [
      "test all pooling\n",
      "Processing dataset/train/train_12766/train_12766_a/train_12766_a_1.nii.gz...\n"
     ]
    },
    {
     "data": {
      "application/vnd.jupyter.widget-view+json": {
       "model_id": "3bfa8fc9e69d448fad02848753c06f42",
       "version_major": 2,
       "version_minor": 0
      },
      "text/plain": [
       "dataset/train/train_12766/train_12766_a/(…):   0%|          | 0.00/394M [00:00<?, ?B/s]"
      ]
     },
     "metadata": {},
     "output_type": "display_data"
    },
    {
     "name": "stdout",
     "output_type": "stream",
     "text": [
      "test all pooling\n",
      "Processing dataset/train/train_2573/train_2573_a/train_2573_a_2.nii.gz...\n"
     ]
    },
    {
     "data": {
      "application/vnd.jupyter.widget-view+json": {
       "model_id": "c3328959db3a4435a668f13faff3eeda",
       "version_major": 2,
       "version_minor": 0
      },
      "text/plain": [
       "dataset/train/train_2573/train_2573_a/tr(…):   0%|          | 0.00/241M [00:00<?, ?B/s]"
      ]
     },
     "metadata": {},
     "output_type": "display_data"
    },
    {
     "name": "stdout",
     "output_type": "stream",
     "text": [
      "test all pooling\n",
      "Processing dataset/train/train_2149/train_2149_a/train_2149_a_2.nii.gz...\n"
     ]
    },
    {
     "data": {
      "application/vnd.jupyter.widget-view+json": {
       "model_id": "df45268b857343519700baed7ead4ae9",
       "version_major": 2,
       "version_minor": 0
      },
      "text/plain": [
       "dataset/train/train_2149/train_2149_a/tr(…):   0%|          | 0.00/129M [00:00<?, ?B/s]"
      ]
     },
     "metadata": {},
     "output_type": "display_data"
    },
    {
     "name": "stdout",
     "output_type": "stream",
     "text": [
      "test all pooling\n",
      "Processing dataset/train/train_3484/train_3484_a/train_3484_a_1.nii.gz...\n"
     ]
    },
    {
     "data": {
      "application/vnd.jupyter.widget-view+json": {
       "model_id": "2d70b368c5334d74a20cb2ecd897884b",
       "version_major": 2,
       "version_minor": 0
      },
      "text/plain": [
       "dataset/train/train_3484/train_3484_a/tr(…):   0%|          | 0.00/437M [00:00<?, ?B/s]"
      ]
     },
     "metadata": {},
     "output_type": "display_data"
    },
    {
     "name": "stdout",
     "output_type": "stream",
     "text": [
      "test all pooling\n",
      "Processing dataset/train/train_12588/train_12588_b/train_12588_b_2.nii.gz...\n"
     ]
    },
    {
     "data": {
      "application/vnd.jupyter.widget-view+json": {
       "model_id": "334cd87a951142d7bffa1d73ec0cdaa1",
       "version_major": 2,
       "version_minor": 0
      },
      "text/plain": [
       "dataset/train/train_12588/train_12588_b/(…):   0%|          | 0.00/127M [00:00<?, ?B/s]"
      ]
     },
     "metadata": {},
     "output_type": "display_data"
    },
    {
     "name": "stdout",
     "output_type": "stream",
     "text": [
      "test all pooling\n",
      "Processing dataset/train/train_9858/train_9858_a/train_9858_a_2.nii.gz...\n"
     ]
    },
    {
     "data": {
      "application/vnd.jupyter.widget-view+json": {
       "model_id": "332b05a290df4ce984bb4281f1b0579e",
       "version_major": 2,
       "version_minor": 0
      },
      "text/plain": [
       "dataset/train/train_9858/train_9858_a/tr(…):   0%|          | 0.00/493M [00:00<?, ?B/s]"
      ]
     },
     "metadata": {},
     "output_type": "display_data"
    },
    {
     "name": "stdout",
     "output_type": "stream",
     "text": [
      "test all pooling\n",
      "Processing dataset/train/train_15827/train_15827_a/train_15827_a_2.nii.gz...\n"
     ]
    },
    {
     "data": {
      "application/vnd.jupyter.widget-view+json": {
       "model_id": "a400d0b172e1401ca3bfccf6f9410f76",
       "version_major": 2,
       "version_minor": 0
      },
      "text/plain": [
       "dataset/train/train_15827/train_15827_a/(…):   0%|          | 0.00/121M [00:00<?, ?B/s]"
      ]
     },
     "metadata": {},
     "output_type": "display_data"
    },
    {
     "name": "stdout",
     "output_type": "stream",
     "text": [
      "test all pooling\n",
      "Processing dataset/train/train_5150/train_5150_a/train_5150_a_1.nii.gz...\n"
     ]
    },
    {
     "data": {
      "application/vnd.jupyter.widget-view+json": {
       "model_id": "256a7bfa2ae84badae3017ee276b10ba",
       "version_major": 2,
       "version_minor": 0
      },
      "text/plain": [
       "dataset/train/train_5150/train_5150_a/tr(…):   0%|          | 0.00/483M [00:00<?, ?B/s]"
      ]
     },
     "metadata": {},
     "output_type": "display_data"
    },
    {
     "name": "stdout",
     "output_type": "stream",
     "text": [
      "test all pooling\n",
      "Processing dataset/train/train_359/train_359_c/train_359_c_1.nii.gz...\n"
     ]
    },
    {
     "data": {
      "application/vnd.jupyter.widget-view+json": {
       "model_id": "f6ca5cce28f94832b2b262c2fe6a885e",
       "version_major": 2,
       "version_minor": 0
      },
      "text/plain": [
       "dataset/train/train_359/train_359_c/trai(…):   0%|          | 0.00/118M [00:00<?, ?B/s]"
      ]
     },
     "metadata": {},
     "output_type": "display_data"
    },
    {
     "name": "stdout",
     "output_type": "stream",
     "text": [
      "test all pooling\n",
      "Processing dataset/train/train_19838/train_19838_a/train_19838_a_2.nii.gz...\n"
     ]
    },
    {
     "data": {
      "application/vnd.jupyter.widget-view+json": {
       "model_id": "fa33148f4b3d4d51a91d67db48311fc8",
       "version_major": 2,
       "version_minor": 0
      },
      "text/plain": [
       "dataset/train/train_19838/train_19838_a/(…):   0%|          | 0.00/231M [00:00<?, ?B/s]"
      ]
     },
     "metadata": {},
     "output_type": "display_data"
    },
    {
     "name": "stdout",
     "output_type": "stream",
     "text": [
      "test all pooling\n",
      "Processing dataset/train/train_18689/train_18689_a/train_18689_a_2.nii.gz...\n"
     ]
    },
    {
     "data": {
      "application/vnd.jupyter.widget-view+json": {
       "model_id": "c63e9f9bc54e464695d44cc1c8a272fb",
       "version_major": 2,
       "version_minor": 0
      },
      "text/plain": [
       "dataset/train/train_18689/train_18689_a/(…):   0%|          | 0.00/218M [00:00<?, ?B/s]"
      ]
     },
     "metadata": {},
     "output_type": "display_data"
    },
    {
     "name": "stdout",
     "output_type": "stream",
     "text": [
      "test all pooling\n",
      "Processing dataset/train/train_13429/train_13429_a/train_13429_a_1.nii.gz...\n"
     ]
    },
    {
     "data": {
      "application/vnd.jupyter.widget-view+json": {
       "model_id": "9bc2db0fd61f486e82ffdbe9e7989f69",
       "version_major": 2,
       "version_minor": 0
      },
      "text/plain": [
       "dataset/train/train_13429/train_13429_a/(…):   0%|          | 0.00/280M [00:00<?, ?B/s]"
      ]
     },
     "metadata": {},
     "output_type": "display_data"
    },
    {
     "name": "stdout",
     "output_type": "stream",
     "text": [
      "test all pooling\n",
      "Processing dataset/train/train_2186/train_2186_a/train_2186_a_1.nii.gz...\n"
     ]
    },
    {
     "data": {
      "application/vnd.jupyter.widget-view+json": {
       "model_id": "8e89bbd97e194f0bbb5c3e7fe80415c2",
       "version_major": 2,
       "version_minor": 0
      },
      "text/plain": [
       "dataset/train/train_2186/train_2186_a/tr(…):   0%|          | 0.00/453M [00:00<?, ?B/s]"
      ]
     },
     "metadata": {},
     "output_type": "display_data"
    },
    {
     "name": "stdout",
     "output_type": "stream",
     "text": [
      "test all pooling\n",
      "Processing dataset/train/train_8415/train_8415_a/train_8415_a_1.nii.gz...\n"
     ]
    },
    {
     "data": {
      "application/vnd.jupyter.widget-view+json": {
       "model_id": "1f19ba94989944e2aef8bce3dda315ab",
       "version_major": 2,
       "version_minor": 0
      },
      "text/plain": [
       "dataset/train/train_8415/train_8415_a/tr(…):   0%|          | 0.00/429M [00:00<?, ?B/s]"
      ]
     },
     "metadata": {},
     "output_type": "display_data"
    },
    {
     "name": "stdout",
     "output_type": "stream",
     "text": [
      "test all pooling\n",
      "Processing dataset/train/train_14443/train_14443_b/train_14443_b_2.nii.gz...\n"
     ]
    },
    {
     "data": {
      "application/vnd.jupyter.widget-view+json": {
       "model_id": "190e84aa9082415c812a7e8a153d1745",
       "version_major": 2,
       "version_minor": 0
      },
      "text/plain": [
       "dataset/train/train_14443/train_14443_b/(…):   0%|          | 0.00/497M [00:00<?, ?B/s]"
      ]
     },
     "metadata": {},
     "output_type": "display_data"
    },
    {
     "name": "stdout",
     "output_type": "stream",
     "text": [
      "test all pooling\n",
      "Processing dataset/train/train_4510/train_4510_a/train_4510_a_1.nii.gz...\n"
     ]
    },
    {
     "data": {
      "application/vnd.jupyter.widget-view+json": {
       "model_id": "7782efee5a3e4da7ad7a5482514964db",
       "version_major": 2,
       "version_minor": 0
      },
      "text/plain": [
       "train_4510_a_1.nii.gz:   0%|          | 0.00/507M [00:00<?, ?B/s]"
      ]
     },
     "metadata": {},
     "output_type": "display_data"
    },
    {
     "name": "stdout",
     "output_type": "stream",
     "text": [
      "test all pooling\n",
      "Processing dataset/train/train_6165/train_6165_b/train_6165_b_2.nii.gz...\n"
     ]
    },
    {
     "data": {
      "application/vnd.jupyter.widget-view+json": {
       "model_id": "ef0dfdbd1063445cb9174d34454e196a",
       "version_major": 2,
       "version_minor": 0
      },
      "text/plain": [
       "dataset/train/train_6165/train_6165_b/tr(…):   0%|          | 0.00/172M [00:00<?, ?B/s]"
      ]
     },
     "metadata": {},
     "output_type": "display_data"
    },
    {
     "name": "stdout",
     "output_type": "stream",
     "text": [
      "test all pooling\n",
      "Processing dataset/train/train_10389/train_10389_a/train_10389_a_2.nii.gz...\n"
     ]
    },
    {
     "data": {
      "application/vnd.jupyter.widget-view+json": {
       "model_id": "eccc25f731744aa9abbf016cf4c0b063",
       "version_major": 2,
       "version_minor": 0
      },
      "text/plain": [
       "dataset/train/train_10389/train_10389_a/(…):   0%|          | 0.00/192M [00:00<?, ?B/s]"
      ]
     },
     "metadata": {},
     "output_type": "display_data"
    },
    {
     "name": "stdout",
     "output_type": "stream",
     "text": [
      "test all pooling\n",
      "Processing dataset/train/train_10507/train_10507_a/train_10507_a_1.nii.gz...\n"
     ]
    },
    {
     "data": {
      "application/vnd.jupyter.widget-view+json": {
       "model_id": "a9bae53ad64340a794ca50cc5146aaf9",
       "version_major": 2,
       "version_minor": 0
      },
      "text/plain": [
       "dataset/train/train_10507/train_10507_a/(…):   0%|          | 0.00/250M [00:00<?, ?B/s]"
      ]
     },
     "metadata": {},
     "output_type": "display_data"
    },
    {
     "name": "stdout",
     "output_type": "stream",
     "text": [
      "test all pooling\n",
      "Processing dataset/train/train_12927/train_12927_a/train_12927_a_1.nii.gz...\n"
     ]
    },
    {
     "data": {
      "application/vnd.jupyter.widget-view+json": {
       "model_id": "7459d3d68cde48849207073b7516b93d",
       "version_major": 2,
       "version_minor": 0
      },
      "text/plain": [
       "dataset/train/train_12927/train_12927_a/(…):   0%|          | 0.00/497M [00:00<?, ?B/s]"
      ]
     },
     "metadata": {},
     "output_type": "display_data"
    },
    {
     "name": "stdout",
     "output_type": "stream",
     "text": [
      "test all pooling\n",
      "Processing dataset/train/train_7045/train_7045_a/train_7045_a_1.nii.gz...\n"
     ]
    },
    {
     "data": {
      "application/vnd.jupyter.widget-view+json": {
       "model_id": "c1e615ffa2b34292acc88be72bfe46b6",
       "version_major": 2,
       "version_minor": 0
      },
      "text/plain": [
       "dataset/train/train_7045/train_7045_a/tr(…):   0%|          | 0.00/141M [00:00<?, ?B/s]"
      ]
     },
     "metadata": {},
     "output_type": "display_data"
    },
    {
     "name": "stdout",
     "output_type": "stream",
     "text": [
      "test all pooling\n",
      "Processing dataset/train/train_9377/train_9377_b/train_9377_b_2.nii.gz...\n"
     ]
    },
    {
     "data": {
      "application/vnd.jupyter.widget-view+json": {
       "model_id": "0940daceac36446989015c4ae83aa15e",
       "version_major": 2,
       "version_minor": 0
      },
      "text/plain": [
       "dataset/train/train_9377/train_9377_b/tr(…):   0%|          | 0.00/253M [00:00<?, ?B/s]"
      ]
     },
     "metadata": {},
     "output_type": "display_data"
    },
    {
     "name": "stdout",
     "output_type": "stream",
     "text": [
      "test all pooling\n",
      "Processing dataset/train/train_19888/train_19888_a/train_19888_a_2.nii.gz...\n"
     ]
    },
    {
     "data": {
      "application/vnd.jupyter.widget-view+json": {
       "model_id": "ffb11b2425f54653a6290aa453ed7695",
       "version_major": 2,
       "version_minor": 0
      },
      "text/plain": [
       "dataset/train/train_19888/train_19888_a/(…):   0%|          | 0.00/119M [00:00<?, ?B/s]"
      ]
     },
     "metadata": {},
     "output_type": "display_data"
    },
    {
     "name": "stdout",
     "output_type": "stream",
     "text": [
      "test all pooling\n",
      "Processing dataset/train/train_15285/train_15285_c/train_15285_c_1.nii.gz...\n"
     ]
    },
    {
     "data": {
      "application/vnd.jupyter.widget-view+json": {
       "model_id": "628343374cff4db0922f7cab1ef38a37",
       "version_major": 2,
       "version_minor": 0
      },
      "text/plain": [
       "dataset/train/train_15285/train_15285_c/(…):   0%|          | 0.00/480M [00:00<?, ?B/s]"
      ]
     },
     "metadata": {},
     "output_type": "display_data"
    },
    {
     "name": "stdout",
     "output_type": "stream",
     "text": [
      "test all pooling\n",
      "Processing dataset/train/train_14993/train_14993_d/train_14993_d_1.nii.gz...\n"
     ]
    },
    {
     "data": {
      "application/vnd.jupyter.widget-view+json": {
       "model_id": "f7473d92b8904554a0bd4364d6cb1a73",
       "version_major": 2,
       "version_minor": 0
      },
      "text/plain": [
       "dataset/train/train_14993/train_14993_d/(…):   0%|          | 0.00/142M [00:00<?, ?B/s]"
      ]
     },
     "metadata": {},
     "output_type": "display_data"
    },
    {
     "name": "stdout",
     "output_type": "stream",
     "text": [
      "test all pooling\n",
      "Processing dataset/train/train_2465/train_2465_a/train_2465_a_2.nii.gz...\n"
     ]
    },
    {
     "data": {
      "application/vnd.jupyter.widget-view+json": {
       "model_id": "f702daedc7b2405c89afe40940f9b181",
       "version_major": 2,
       "version_minor": 0
      },
      "text/plain": [
       "dataset/train/train_2465/train_2465_a/tr(…):   0%|          | 0.00/198M [00:00<?, ?B/s]"
      ]
     },
     "metadata": {},
     "output_type": "display_data"
    },
    {
     "name": "stdout",
     "output_type": "stream",
     "text": [
      "test all pooling\n",
      "Processing dataset/train/train_5379/train_5379_a/train_5379_a_2.nii.gz...\n"
     ]
    },
    {
     "data": {
      "application/vnd.jupyter.widget-view+json": {
       "model_id": "018ba1bc8022457ead6e3860b2fd211c",
       "version_major": 2,
       "version_minor": 0
      },
      "text/plain": [
       "dataset/train/train_5379/train_5379_a/tr(…):   0%|          | 0.00/233M [00:00<?, ?B/s]"
      ]
     },
     "metadata": {},
     "output_type": "display_data"
    },
    {
     "name": "stdout",
     "output_type": "stream",
     "text": [
      "test all pooling\n",
      "Processing dataset/train/train_3900/train_3900_a/train_3900_a_2.nii.gz...\n"
     ]
    },
    {
     "data": {
      "application/vnd.jupyter.widget-view+json": {
       "model_id": "9a7e2cd424a644a8925385094b6f6139",
       "version_major": 2,
       "version_minor": 0
      },
      "text/plain": [
       "dataset/train/train_3900/train_3900_a/tr(…):   0%|          | 0.00/229M [00:00<?, ?B/s]"
      ]
     },
     "metadata": {},
     "output_type": "display_data"
    },
    {
     "name": "stdout",
     "output_type": "stream",
     "text": [
      "test all pooling\n",
      "Processing dataset/train/train_9226/train_9226_a/train_9226_a_2.nii.gz...\n"
     ]
    },
    {
     "data": {
      "application/vnd.jupyter.widget-view+json": {
       "model_id": "c4bc7a160a604ea0ba2c9cc0627a0453",
       "version_major": 2,
       "version_minor": 0
      },
      "text/plain": [
       "dataset/train/train_9226/train_9226_a/tr(…):   0%|          | 0.00/219M [00:00<?, ?B/s]"
      ]
     },
     "metadata": {},
     "output_type": "display_data"
    },
    {
     "name": "stdout",
     "output_type": "stream",
     "text": [
      "test all pooling\n",
      "Processing dataset/train/train_16677/train_16677_a/train_16677_a_2.nii.gz...\n"
     ]
    },
    {
     "data": {
      "application/vnd.jupyter.widget-view+json": {
       "model_id": "6b5d5ef7d1f14cfc833e99d88c6250c8",
       "version_major": 2,
       "version_minor": 0
      },
      "text/plain": [
       "dataset/train/train_16677/train_16677_a/(…):   0%|          | 0.00/237M [00:00<?, ?B/s]"
      ]
     },
     "metadata": {},
     "output_type": "display_data"
    },
    {
     "name": "stdout",
     "output_type": "stream",
     "text": [
      "test all pooling\n",
      "Processing dataset/train/train_8065/train_8065_d/train_8065_d_1.nii.gz...\n"
     ]
    },
    {
     "data": {
      "application/vnd.jupyter.widget-view+json": {
       "model_id": "a93193264d8746479927f12d7f1aa43f",
       "version_major": 2,
       "version_minor": 0
      },
      "text/plain": [
       "dataset/train/train_8065/train_8065_d/tr(…):   0%|          | 0.00/517M [00:00<?, ?B/s]"
      ]
     },
     "metadata": {},
     "output_type": "display_data"
    },
    {
     "name": "stdout",
     "output_type": "stream",
     "text": [
      "test all pooling\n",
      "Processing dataset/train/train_8169/train_8169_b/train_8169_b_2.nii.gz...\n"
     ]
    },
    {
     "data": {
      "application/vnd.jupyter.widget-view+json": {
       "model_id": "7f7e2b4c34a04d0aa05b1f28f53149a9",
       "version_major": 2,
       "version_minor": 0
      },
      "text/plain": [
       "dataset/train/train_8169/train_8169_b/tr(…):   0%|          | 0.00/243M [00:00<?, ?B/s]"
      ]
     },
     "metadata": {},
     "output_type": "display_data"
    },
    {
     "name": "stdout",
     "output_type": "stream",
     "text": [
      "test all pooling\n",
      "Processing dataset/train/train_11352/train_11352_a/train_11352_a_1.nii.gz...\n"
     ]
    },
    {
     "data": {
      "application/vnd.jupyter.widget-view+json": {
       "model_id": "59a63842e40549b89f70250d26262062",
       "version_major": 2,
       "version_minor": 0
      },
      "text/plain": [
       "dataset/train/train_11352/train_11352_a/(…):   0%|          | 0.00/283M [00:00<?, ?B/s]"
      ]
     },
     "metadata": {},
     "output_type": "display_data"
    },
    {
     "name": "stdout",
     "output_type": "stream",
     "text": [
      "test all pooling\n",
      "Processing dataset/train/train_16937/train_16937_a/train_16937_a_2.nii.gz...\n"
     ]
    },
    {
     "data": {
      "application/vnd.jupyter.widget-view+json": {
       "model_id": "3cafeda70ecc48748d7b8299dd723de3",
       "version_major": 2,
       "version_minor": 0
      },
      "text/plain": [
       "dataset/train/train_16937/train_16937_a/(…):   0%|          | 0.00/177M [00:00<?, ?B/s]"
      ]
     },
     "metadata": {},
     "output_type": "display_data"
    },
    {
     "name": "stdout",
     "output_type": "stream",
     "text": [
      "test all pooling\n",
      "Processing dataset/train/train_12243/train_12243_a/train_12243_a_1.nii.gz...\n"
     ]
    },
    {
     "data": {
      "application/vnd.jupyter.widget-view+json": {
       "model_id": "309b81b872fc4bdba69d0179bc94e557",
       "version_major": 2,
       "version_minor": 0
      },
      "text/plain": [
       "dataset/train/train_12243/train_12243_a/(…):   0%|          | 0.00/148M [00:00<?, ?B/s]"
      ]
     },
     "metadata": {},
     "output_type": "display_data"
    },
    {
     "name": "stdout",
     "output_type": "stream",
     "text": [
      "test all pooling\n",
      "Processing dataset/train/train_16124/train_16124_a/train_16124_a_1.nii.gz...\n"
     ]
    },
    {
     "data": {
      "application/vnd.jupyter.widget-view+json": {
       "model_id": "ffcfb44eded34eb9b07dce70dda9def2",
       "version_major": 2,
       "version_minor": 0
      },
      "text/plain": [
       "dataset/train/train_16124/train_16124_a/(…):   0%|          | 0.00/141M [00:00<?, ?B/s]"
      ]
     },
     "metadata": {},
     "output_type": "display_data"
    },
    {
     "name": "stdout",
     "output_type": "stream",
     "text": [
      "test all pooling\n",
      "Processing dataset/train/train_19428/train_19428_b/train_19428_b_2.nii.gz...\n"
     ]
    },
    {
     "data": {
      "application/vnd.jupyter.widget-view+json": {
       "model_id": "f817e22868e84086a49dee10a4b7453f",
       "version_major": 2,
       "version_minor": 0
      },
      "text/plain": [
       "dataset/train/train_19428/train_19428_b/(…):   0%|          | 0.00/151M [00:00<?, ?B/s]"
      ]
     },
     "metadata": {},
     "output_type": "display_data"
    },
    {
     "name": "stdout",
     "output_type": "stream",
     "text": [
      "test all pooling\n",
      "Processing dataset/train/train_16309/train_16309_a/train_16309_a_1.nii.gz...\n"
     ]
    },
    {
     "data": {
      "application/vnd.jupyter.widget-view+json": {
       "model_id": "1c7dfdd0fa884ed09a4c71fd480c8354",
       "version_major": 2,
       "version_minor": 0
      },
      "text/plain": [
       "dataset/train/train_16309/train_16309_a/(…):   0%|          | 0.00/177M [00:00<?, ?B/s]"
      ]
     },
     "metadata": {},
     "output_type": "display_data"
    },
    {
     "name": "stdout",
     "output_type": "stream",
     "text": [
      "test all pooling\n",
      "Processing dataset/train/train_8643/train_8643_a/train_8643_a_2.nii.gz...\n"
     ]
    },
    {
     "data": {
      "application/vnd.jupyter.widget-view+json": {
       "model_id": "8b49bd56c6d1483f80741f98db30634c",
       "version_major": 2,
       "version_minor": 0
      },
      "text/plain": [
       "dataset/train/train_8643/train_8643_a/tr(…):   0%|          | 0.00/142M [00:00<?, ?B/s]"
      ]
     },
     "metadata": {},
     "output_type": "display_data"
    },
    {
     "name": "stdout",
     "output_type": "stream",
     "text": [
      "test all pooling\n",
      "Processing dataset/train/train_112/train_112_a/train_112_a_2.nii.gz...\n"
     ]
    },
    {
     "data": {
      "application/vnd.jupyter.widget-view+json": {
       "model_id": "00cc9e48da594b2a87609bd80d8788d8",
       "version_major": 2,
       "version_minor": 0
      },
      "text/plain": [
       "dataset/train/train_112/train_112_a/trai(…):   0%|          | 0.00/79.4M [00:00<?, ?B/s]"
      ]
     },
     "metadata": {},
     "output_type": "display_data"
    },
    {
     "name": "stdout",
     "output_type": "stream",
     "text": [
      "test all pooling\n",
      "Processing dataset/train/train_4172/train_4172_a/train_4172_a_2.nii.gz...\n"
     ]
    },
    {
     "data": {
      "application/vnd.jupyter.widget-view+json": {
       "model_id": "1b35ece07dad480890fe771fe38462a6",
       "version_major": 2,
       "version_minor": 0
      },
      "text/plain": [
       "dataset/train/train_4172/train_4172_a/tr(…):   0%|          | 0.00/120M [00:00<?, ?B/s]"
      ]
     },
     "metadata": {},
     "output_type": "display_data"
    },
    {
     "name": "stdout",
     "output_type": "stream",
     "text": [
      "test all pooling\n",
      "Processing dataset/train/train_15646/train_15646_a/train_15646_a_2.nii.gz...\n"
     ]
    },
    {
     "data": {
      "application/vnd.jupyter.widget-view+json": {
       "model_id": "7720408ab5344b16a02f48d5c2909ceb",
       "version_major": 2,
       "version_minor": 0
      },
      "text/plain": [
       "dataset/train/train_15646/train_15646_a/(…):   0%|          | 0.00/186M [00:00<?, ?B/s]"
      ]
     },
     "metadata": {},
     "output_type": "display_data"
    },
    {
     "name": "stdout",
     "output_type": "stream",
     "text": [
      "test all pooling\n",
      "Processing dataset/train/train_12463/train_12463_a/train_12463_a_1.nii.gz...\n"
     ]
    },
    {
     "data": {
      "application/vnd.jupyter.widget-view+json": {
       "model_id": "ac5b7ed1e0414df1a3ebb3081ee7d92d",
       "version_major": 2,
       "version_minor": 0
      },
      "text/plain": [
       "dataset/train/train_12463/train_12463_a/(…):   0%|          | 0.00/103M [00:00<?, ?B/s]"
      ]
     },
     "metadata": {},
     "output_type": "display_data"
    },
    {
     "name": "stdout",
     "output_type": "stream",
     "text": [
      "test all pooling\n",
      "Processing dataset/train/train_1786/train_1786_e/train_1786_e_2.nii.gz...\n"
     ]
    },
    {
     "data": {
      "application/vnd.jupyter.widget-view+json": {
       "model_id": "5b29ff2b737e4f68ac0532ab37934ff2",
       "version_major": 2,
       "version_minor": 0
      },
      "text/plain": [
       "dataset/train/train_1786/train_1786_e/tr(…):   0%|          | 0.00/190M [00:00<?, ?B/s]"
      ]
     },
     "metadata": {},
     "output_type": "display_data"
    },
    {
     "name": "stdout",
     "output_type": "stream",
     "text": [
      "test all pooling\n",
      "Processing dataset/train/train_1636/train_1636_a/train_1636_a_1.nii.gz...\n"
     ]
    },
    {
     "data": {
      "application/vnd.jupyter.widget-view+json": {
       "model_id": "d58cc773d3a5453ab04800876a389ff2",
       "version_major": 2,
       "version_minor": 0
      },
      "text/plain": [
       "dataset/train/train_1636/train_1636_a/tr(…):   0%|          | 0.00/547M [00:00<?, ?B/s]"
      ]
     },
     "metadata": {},
     "output_type": "display_data"
    },
    {
     "name": "stdout",
     "output_type": "stream",
     "text": [
      "test all pooling\n",
      "Processing dataset/train/train_14698/train_14698_c/train_14698_c_2.nii.gz...\n"
     ]
    },
    {
     "data": {
      "application/vnd.jupyter.widget-view+json": {
       "model_id": "15eb9c15fa774c51b264540061774ea6",
       "version_major": 2,
       "version_minor": 0
      },
      "text/plain": [
       "dataset/train/train_14698/train_14698_c/(…):   0%|          | 0.00/142M [00:00<?, ?B/s]"
      ]
     },
     "metadata": {},
     "output_type": "display_data"
    },
    {
     "name": "stdout",
     "output_type": "stream",
     "text": [
      "test all pooling\n",
      "Processing dataset/train/train_18655/train_18655_a/train_18655_a_1.nii.gz...\n"
     ]
    },
    {
     "data": {
      "application/vnd.jupyter.widget-view+json": {
       "model_id": "c21c28d9db1942e3ab7d161fff4c6760",
       "version_major": 2,
       "version_minor": 0
      },
      "text/plain": [
       "dataset/train/train_18655/train_18655_a/(…):   0%|          | 0.00/131M [00:00<?, ?B/s]"
      ]
     },
     "metadata": {},
     "output_type": "display_data"
    },
    {
     "name": "stdout",
     "output_type": "stream",
     "text": [
      "test all pooling\n",
      "Processing dataset/train/train_12365/train_12365_a/train_12365_a_1.nii.gz...\n"
     ]
    },
    {
     "data": {
      "application/vnd.jupyter.widget-view+json": {
       "model_id": "e5ee697a2e3f418f9fb86f5ec1f8d291",
       "version_major": 2,
       "version_minor": 0
      },
      "text/plain": [
       "dataset/train/train_12365/train_12365_a/(…):   0%|          | 0.00/114M [00:00<?, ?B/s]"
      ]
     },
     "metadata": {},
     "output_type": "display_data"
    },
    {
     "name": "stdout",
     "output_type": "stream",
     "text": [
      "test all pooling\n",
      "Processing dataset/train/train_19518/train_19518_a/train_19518_a_2.nii.gz...\n"
     ]
    },
    {
     "data": {
      "application/vnd.jupyter.widget-view+json": {
       "model_id": "cf79b7b146a44b4f81df72be9c8c5ba8",
       "version_major": 2,
       "version_minor": 0
      },
      "text/plain": [
       "dataset/train/train_19518/train_19518_a/(…):   0%|          | 0.00/211M [00:00<?, ?B/s]"
      ]
     },
     "metadata": {},
     "output_type": "display_data"
    },
    {
     "name": "stdout",
     "output_type": "stream",
     "text": [
      "test all pooling\n",
      "Processing dataset/train/train_8550/train_8550_b/train_8550_b_2.nii.gz...\n"
     ]
    },
    {
     "data": {
      "application/vnd.jupyter.widget-view+json": {
       "model_id": "b7d5cb9997d4497d924a1ce517650120",
       "version_major": 2,
       "version_minor": 0
      },
      "text/plain": [
       "dataset/train/train_8550/train_8550_b/tr(…):   0%|          | 0.00/200M [00:00<?, ?B/s]"
      ]
     },
     "metadata": {},
     "output_type": "display_data"
    },
    {
     "name": "stdout",
     "output_type": "stream",
     "text": [
      "test all pooling\n",
      "Processing dataset/train/train_4111/train_4111_a/train_4111_a_2.nii.gz...\n"
     ]
    },
    {
     "data": {
      "application/vnd.jupyter.widget-view+json": {
       "model_id": "c5aacd47204f42e0bc01394b19d3f30a",
       "version_major": 2,
       "version_minor": 0
      },
      "text/plain": [
       "dataset/train/train_4111/train_4111_a/tr(…):   0%|          | 0.00/226M [00:00<?, ?B/s]"
      ]
     },
     "metadata": {},
     "output_type": "display_data"
    },
    {
     "name": "stdout",
     "output_type": "stream",
     "text": [
      "test all pooling\n",
      "Processing dataset/train/train_6377/train_6377_e/train_6377_e_2.nii.gz...\n"
     ]
    },
    {
     "data": {
      "application/vnd.jupyter.widget-view+json": {
       "model_id": "fcbd3c69c5074e80bdcb89f64972c203",
       "version_major": 2,
       "version_minor": 0
      },
      "text/plain": [
       "dataset/train/train_6377/train_6377_e/tr(…):   0%|          | 0.00/187M [00:00<?, ?B/s]"
      ]
     },
     "metadata": {},
     "output_type": "display_data"
    },
    {
     "name": "stdout",
     "output_type": "stream",
     "text": [
      "test all pooling\n",
      "Processing dataset/train/train_15764/train_15764_a/train_15764_a_1.nii.gz...\n"
     ]
    },
    {
     "data": {
      "application/vnd.jupyter.widget-view+json": {
       "model_id": "08c7d55d9580435d9e91cf3961130fd6",
       "version_major": 2,
       "version_minor": 0
      },
      "text/plain": [
       "dataset/train/train_15764/train_15764_a/(…):   0%|          | 0.00/528M [00:00<?, ?B/s]"
      ]
     },
     "metadata": {},
     "output_type": "display_data"
    },
    {
     "name": "stdout",
     "output_type": "stream",
     "text": [
      "test all pooling\n",
      "Processing dataset/train/train_18751/train_18751_a/train_18751_a_1.nii.gz...\n"
     ]
    },
    {
     "data": {
      "application/vnd.jupyter.widget-view+json": {
       "model_id": "9c4d2f92242247409232ff529e5a3cee",
       "version_major": 2,
       "version_minor": 0
      },
      "text/plain": [
       "dataset/train/train_18751/train_18751_a/(…):   0%|          | 0.00/439M [00:00<?, ?B/s]"
      ]
     },
     "metadata": {},
     "output_type": "display_data"
    },
    {
     "name": "stdout",
     "output_type": "stream",
     "text": [
      "test all pooling\n",
      "Processing dataset/train/train_182/train_182_b/train_182_b_2.nii.gz...\n"
     ]
    },
    {
     "data": {
      "application/vnd.jupyter.widget-view+json": {
       "model_id": "b1ca1380ce6148099e6b2c09364f2897",
       "version_major": 2,
       "version_minor": 0
      },
      "text/plain": [
       "dataset/train/train_182/train_182_b/trai(…):   0%|          | 0.00/169M [00:00<?, ?B/s]"
      ]
     },
     "metadata": {},
     "output_type": "display_data"
    },
    {
     "name": "stdout",
     "output_type": "stream",
     "text": [
      "test all pooling\n",
      "Processing dataset/train/train_1276/train_1276_a/train_1276_a_1.nii.gz...\n"
     ]
    },
    {
     "data": {
      "application/vnd.jupyter.widget-view+json": {
       "model_id": "9c69beafc8a54e28926fd6dc75b28c09",
       "version_major": 2,
       "version_minor": 0
      },
      "text/plain": [
       "dataset/train/train_1276/train_1276_a/tr(…):   0%|          | 0.00/418M [00:00<?, ?B/s]"
      ]
     },
     "metadata": {},
     "output_type": "display_data"
    },
    {
     "name": "stdout",
     "output_type": "stream",
     "text": [
      "test all pooling\n",
      "Processing dataset/train/train_12375/train_12375_b/train_12375_b_1.nii.gz...\n"
     ]
    },
    {
     "data": {
      "application/vnd.jupyter.widget-view+json": {
       "model_id": "03e4de56f5764c08b07a5116599d3436",
       "version_major": 2,
       "version_minor": 0
      },
      "text/plain": [
       "dataset/train/train_12375/train_12375_b/(…):   0%|          | 0.00/373M [00:00<?, ?B/s]"
      ]
     },
     "metadata": {},
     "output_type": "display_data"
    },
    {
     "name": "stdout",
     "output_type": "stream",
     "text": [
      "test all pooling\n",
      "Processing dataset/train/train_2232/train_2232_a/train_2232_a_1.nii.gz...\n"
     ]
    },
    {
     "data": {
      "application/vnd.jupyter.widget-view+json": {
       "model_id": "c9a4b67547e548c494d0c7e788f39441",
       "version_major": 2,
       "version_minor": 0
      },
      "text/plain": [
       "dataset/train/train_2232/train_2232_a/tr(…):   0%|          | 0.00/509M [00:00<?, ?B/s]"
      ]
     },
     "metadata": {},
     "output_type": "display_data"
    },
    {
     "name": "stdout",
     "output_type": "stream",
     "text": [
      "test all pooling\n",
      "Processing dataset/train/train_16550/train_16550_b/train_16550_b_1.nii.gz...\n"
     ]
    },
    {
     "data": {
      "application/vnd.jupyter.widget-view+json": {
       "model_id": "e7af1349d9df456992c0b1e0e6ff643e",
       "version_major": 2,
       "version_minor": 0
      },
      "text/plain": [
       "dataset/train/train_16550/train_16550_b/(…):   0%|          | 0.00/491M [00:00<?, ?B/s]"
      ]
     },
     "metadata": {},
     "output_type": "display_data"
    },
    {
     "name": "stdout",
     "output_type": "stream",
     "text": [
      "test all pooling\n",
      "Processing dataset/train/train_17944/train_17944_d/train_17944_d_2.nii.gz...\n"
     ]
    },
    {
     "data": {
      "application/vnd.jupyter.widget-view+json": {
       "model_id": "937b6ee69bc14455bba068926077bea4",
       "version_major": 2,
       "version_minor": 0
      },
      "text/plain": [
       "dataset/train/train_17944/train_17944_d/(…):   0%|          | 0.00/131M [00:00<?, ?B/s]"
      ]
     },
     "metadata": {},
     "output_type": "display_data"
    },
    {
     "name": "stdout",
     "output_type": "stream",
     "text": [
      "test all pooling\n",
      "Processing dataset/train/train_11908/train_11908_b/train_11908_b_1.nii.gz...\n"
     ]
    },
    {
     "data": {
      "application/vnd.jupyter.widget-view+json": {
       "model_id": "14cfb337a56148a3b38780ad1e6a6df0",
       "version_major": 2,
       "version_minor": 0
      },
      "text/plain": [
       "dataset/train/train_11908/train_11908_b/(…):   0%|          | 0.00/133M [00:00<?, ?B/s]"
      ]
     },
     "metadata": {},
     "output_type": "display_data"
    },
    {
     "name": "stdout",
     "output_type": "stream",
     "text": [
      "test all pooling\n",
      "Processing dataset/train/train_17747/train_17747_c/train_17747_c_1.nii.gz...\n"
     ]
    },
    {
     "data": {
      "application/vnd.jupyter.widget-view+json": {
       "model_id": "df1c190985ab4f9ca094c681093e5650",
       "version_major": 2,
       "version_minor": 0
      },
      "text/plain": [
       "dataset/train/train_17747/train_17747_c/(…):   0%|          | 0.00/117M [00:00<?, ?B/s]"
      ]
     },
     "metadata": {},
     "output_type": "display_data"
    },
    {
     "name": "stdout",
     "output_type": "stream",
     "text": [
      "test all pooling\n",
      "Processing dataset/train/train_12791/train_12791_a/train_12791_a_2.nii.gz...\n"
     ]
    },
    {
     "data": {
      "application/vnd.jupyter.widget-view+json": {
       "model_id": "55f8b4ed046948d7a6e6f94934f6c0b6",
       "version_major": 2,
       "version_minor": 0
      },
      "text/plain": [
       "dataset/train/train_12791/train_12791_a/(…):   0%|          | 0.00/198M [00:00<?, ?B/s]"
      ]
     },
     "metadata": {},
     "output_type": "display_data"
    },
    {
     "name": "stdout",
     "output_type": "stream",
     "text": [
      "test all pooling\n",
      "Processing dataset/train/train_17736/train_17736_a/train_17736_a_2.nii.gz...\n"
     ]
    },
    {
     "data": {
      "application/vnd.jupyter.widget-view+json": {
       "model_id": "b1f1521716db4b2fa3a94d698a98fffa",
       "version_major": 2,
       "version_minor": 0
      },
      "text/plain": [
       "dataset/train/train_17736/train_17736_a/(…):   0%|          | 0.00/227M [00:00<?, ?B/s]"
      ]
     },
     "metadata": {},
     "output_type": "display_data"
    },
    {
     "name": "stdout",
     "output_type": "stream",
     "text": [
      "test all pooling\n",
      "Processing dataset/train/train_13795/train_13795_a/train_13795_a_1.nii.gz...\n"
     ]
    },
    {
     "data": {
      "application/vnd.jupyter.widget-view+json": {
       "model_id": "225713ebda294348bd989d4e0a9a0ca9",
       "version_major": 2,
       "version_minor": 0
      },
      "text/plain": [
       "dataset/train/train_13795/train_13795_a/(…):   0%|          | 0.00/436M [00:00<?, ?B/s]"
      ]
     },
     "metadata": {},
     "output_type": "display_data"
    },
    {
     "name": "stdout",
     "output_type": "stream",
     "text": [
      "test all pooling\n",
      "Processing dataset/train/train_16676/train_16676_a/train_16676_a_1.nii.gz...\n"
     ]
    },
    {
     "data": {
      "application/vnd.jupyter.widget-view+json": {
       "model_id": "5e9f202d537b40509885373768ee2a59",
       "version_major": 2,
       "version_minor": 0
      },
      "text/plain": [
       "dataset/train/train_16676/train_16676_a/(…):   0%|          | 0.00/526M [00:00<?, ?B/s]"
      ]
     },
     "metadata": {},
     "output_type": "display_data"
    },
    {
     "name": "stdout",
     "output_type": "stream",
     "text": [
      "test all pooling\n",
      "Processing dataset/train/train_8987/train_8987_g/train_8987_g_1.nii.gz...\n"
     ]
    },
    {
     "data": {
      "application/vnd.jupyter.widget-view+json": {
       "model_id": "00821b0f2b9443e080c96c3b43501d4d",
       "version_major": 2,
       "version_minor": 0
      },
      "text/plain": [
       "dataset/train/train_8987/train_8987_g/tr(…):   0%|          | 0.00/172M [00:00<?, ?B/s]"
      ]
     },
     "metadata": {},
     "output_type": "display_data"
    },
    {
     "name": "stdout",
     "output_type": "stream",
     "text": [
      "test all pooling\n",
      "Processing dataset/train/train_3684/train_3684_a/train_3684_a_2.nii.gz...\n"
     ]
    },
    {
     "data": {
      "application/vnd.jupyter.widget-view+json": {
       "model_id": "6a6132d3d58f43d38a5a11322abf6577",
       "version_major": 2,
       "version_minor": 0
      },
      "text/plain": [
       "dataset/train/train_3684/train_3684_a/tr(…):   0%|          | 0.00/236M [00:00<?, ?B/s]"
      ]
     },
     "metadata": {},
     "output_type": "display_data"
    },
    {
     "name": "stdout",
     "output_type": "stream",
     "text": [
      "test all pooling\n",
      "Processing dataset/train/train_13562/train_13562_b/train_13562_b_1.nii.gz...\n"
     ]
    },
    {
     "data": {
      "application/vnd.jupyter.widget-view+json": {
       "model_id": "14276c2338e046d1adaff76dfc8000b8",
       "version_major": 2,
       "version_minor": 0
      },
      "text/plain": [
       "dataset/train/train_13562/train_13562_b/(…):   0%|          | 0.00/443M [00:00<?, ?B/s]"
      ]
     },
     "metadata": {},
     "output_type": "display_data"
    },
    {
     "name": "stdout",
     "output_type": "stream",
     "text": [
      "test all pooling\n",
      "Processing dataset/train/train_15013/train_15013_b/train_15013_b_1.nii.gz...\n"
     ]
    },
    {
     "data": {
      "application/vnd.jupyter.widget-view+json": {
       "model_id": "067e0c8eeb3f4f0282669b410ab1883b",
       "version_major": 2,
       "version_minor": 0
      },
      "text/plain": [
       "dataset/train/train_15013/train_15013_b/(…):   0%|          | 0.00/526M [00:00<?, ?B/s]"
      ]
     },
     "metadata": {},
     "output_type": "display_data"
    },
    {
     "name": "stdout",
     "output_type": "stream",
     "text": [
      "test all pooling\n",
      "Processing dataset/train/train_4699/train_4699_a/train_4699_a_2.nii.gz...\n"
     ]
    },
    {
     "data": {
      "application/vnd.jupyter.widget-view+json": {
       "model_id": "50e3701fb246432e81a81f695bfcb3b0",
       "version_major": 2,
       "version_minor": 0
      },
      "text/plain": [
       "dataset/train/train_4699/train_4699_a/tr(…):   0%|          | 0.00/102M [00:00<?, ?B/s]"
      ]
     },
     "metadata": {},
     "output_type": "display_data"
    },
    {
     "name": "stdout",
     "output_type": "stream",
     "text": [
      "test all pooling\n",
      "Processing dataset/train/train_15245/train_15245_a/train_15245_a_1.nii.gz...\n"
     ]
    },
    {
     "data": {
      "application/vnd.jupyter.widget-view+json": {
       "model_id": "f7800163f65c4f78b3375018e176f869",
       "version_major": 2,
       "version_minor": 0
      },
      "text/plain": [
       "dataset/train/train_15245/train_15245_a/(…):   0%|          | 0.00/509M [00:00<?, ?B/s]"
      ]
     },
     "metadata": {},
     "output_type": "display_data"
    },
    {
     "name": "stdout",
     "output_type": "stream",
     "text": [
      "test all pooling\n",
      "Processing dataset/train/train_4636/train_4636_a/train_4636_a_1.nii.gz...\n"
     ]
    },
    {
     "data": {
      "application/vnd.jupyter.widget-view+json": {
       "model_id": "f5c9e7d897844817a8e1151a77eba4f8",
       "version_major": 2,
       "version_minor": 0
      },
      "text/plain": [
       "dataset/train/train_4636/train_4636_a/tr(…):   0%|          | 0.00/140M [00:00<?, ?B/s]"
      ]
     },
     "metadata": {},
     "output_type": "display_data"
    },
    {
     "name": "stdout",
     "output_type": "stream",
     "text": [
      "test all pooling\n",
      "Processing dataset/train/train_10384/train_10384_a/train_10384_a_2.nii.gz...\n"
     ]
    },
    {
     "data": {
      "application/vnd.jupyter.widget-view+json": {
       "model_id": "c8d52d3035d24cbca06a75a6e7598863",
       "version_major": 2,
       "version_minor": 0
      },
      "text/plain": [
       "dataset/train/train_10384/train_10384_a/(…):   0%|          | 0.00/170M [00:00<?, ?B/s]"
      ]
     },
     "metadata": {},
     "output_type": "display_data"
    },
    {
     "name": "stdout",
     "output_type": "stream",
     "text": [
      "test all pooling\n",
      "Processing dataset/train/train_8062/train_8062_a/train_8062_a_2.nii.gz...\n"
     ]
    },
    {
     "data": {
      "application/vnd.jupyter.widget-view+json": {
       "model_id": "2ac573bb3ff545d69866fcdf04164750",
       "version_major": 2,
       "version_minor": 0
      },
      "text/plain": [
       "dataset/train/train_8062/train_8062_a/tr(…):   0%|          | 0.00/205M [00:00<?, ?B/s]"
      ]
     },
     "metadata": {},
     "output_type": "display_data"
    },
    {
     "name": "stdout",
     "output_type": "stream",
     "text": [
      "test all pooling\n",
      "Processing dataset/train/train_5385/train_5385_a/train_5385_a_1.nii.gz...\n"
     ]
    },
    {
     "data": {
      "application/vnd.jupyter.widget-view+json": {
       "model_id": "8c42ceb3008040999b5241b6338bdc79",
       "version_major": 2,
       "version_minor": 0
      },
      "text/plain": [
       "dataset/train/train_5385/train_5385_a/tr(…):   0%|          | 0.00/444M [00:00<?, ?B/s]"
      ]
     },
     "metadata": {},
     "output_type": "display_data"
    },
    {
     "name": "stdout",
     "output_type": "stream",
     "text": [
      "test all pooling\n",
      "Processing dataset/train/train_7108/train_7108_a/train_7108_a_2.nii.gz...\n"
     ]
    },
    {
     "data": {
      "application/vnd.jupyter.widget-view+json": {
       "model_id": "d20c80d658924f939624bc782cb46723",
       "version_major": 2,
       "version_minor": 0
      },
      "text/plain": [
       "dataset/train/train_7108/train_7108_a/tr(…):   0%|          | 0.00/233M [00:00<?, ?B/s]"
      ]
     },
     "metadata": {},
     "output_type": "display_data"
    },
    {
     "name": "stdout",
     "output_type": "stream",
     "text": [
      "test all pooling\n",
      "Processing dataset/train/train_10147/train_10147_a/train_10147_a_1.nii.gz...\n"
     ]
    },
    {
     "data": {
      "application/vnd.jupyter.widget-view+json": {
       "model_id": "7ad484dd996b4e9a8ef5c3c24ee191ef",
       "version_major": 2,
       "version_minor": 0
      },
      "text/plain": [
       "dataset/train/train_10147/train_10147_a/(…):   0%|          | 0.00/176M [00:00<?, ?B/s]"
      ]
     },
     "metadata": {},
     "output_type": "display_data"
    },
    {
     "name": "stdout",
     "output_type": "stream",
     "text": [
      "test all pooling\n",
      "Processing dataset/train/train_872/train_872_a/train_872_a_2.nii.gz...\n"
     ]
    },
    {
     "data": {
      "application/vnd.jupyter.widget-view+json": {
       "model_id": "63671fa6f13643a8883c2833d12a55d7",
       "version_major": 2,
       "version_minor": 0
      },
      "text/plain": [
       "dataset/train/train_872/train_872_a/trai(…):   0%|          | 0.00/229M [00:00<?, ?B/s]"
      ]
     },
     "metadata": {},
     "output_type": "display_data"
    },
    {
     "name": "stdout",
     "output_type": "stream",
     "text": [
      "test all pooling\n",
      "Processing dataset/train/train_16724/train_16724_b/train_16724_b_2.nii.gz...\n"
     ]
    },
    {
     "data": {
      "application/vnd.jupyter.widget-view+json": {
       "model_id": "6ea81394ff094b2eb92b7d945b1d73b3",
       "version_major": 2,
       "version_minor": 0
      },
      "text/plain": [
       "dataset/train/train_16724/train_16724_b/(…):   0%|          | 0.00/218M [00:00<?, ?B/s]"
      ]
     },
     "metadata": {},
     "output_type": "display_data"
    },
    {
     "name": "stdout",
     "output_type": "stream",
     "text": [
      "test all pooling\n",
      "Processing dataset/train/train_13903/train_13903_b/train_13903_b_2.nii.gz...\n"
     ]
    },
    {
     "data": {
      "application/vnd.jupyter.widget-view+json": {
       "model_id": "71b7401850a44615a3796919858d4189",
       "version_major": 2,
       "version_minor": 0
      },
      "text/plain": [
       "dataset/train/train_13903/train_13903_b/(…):   0%|          | 0.00/111M [00:00<?, ?B/s]"
      ]
     },
     "metadata": {},
     "output_type": "display_data"
    },
    {
     "name": "stdout",
     "output_type": "stream",
     "text": [
      "test all pooling\n",
      "Processing dataset/train/train_7064/train_7064_a/train_7064_a_1.nii.gz...\n"
     ]
    },
    {
     "data": {
      "application/vnd.jupyter.widget-view+json": {
       "model_id": "5a0bee57c7744a738111743cdeed133c",
       "version_major": 2,
       "version_minor": 0
      },
      "text/plain": [
       "dataset/train/train_7064/train_7064_a/tr(…):   0%|          | 0.00/152M [00:00<?, ?B/s]"
      ]
     },
     "metadata": {},
     "output_type": "display_data"
    },
    {
     "name": "stdout",
     "output_type": "stream",
     "text": [
      "test all pooling\n",
      "Processing dataset/train/train_6836/train_6836_a/train_6836_a_2.nii.gz...\n"
     ]
    },
    {
     "data": {
      "application/vnd.jupyter.widget-view+json": {
       "model_id": "fcb8a6562a6c4cb3a608c30f49e29659",
       "version_major": 2,
       "version_minor": 0
      },
      "text/plain": [
       "dataset/train/train_6836/train_6836_a/tr(…):   0%|          | 0.00/181M [00:00<?, ?B/s]"
      ]
     },
     "metadata": {},
     "output_type": "display_data"
    },
    {
     "name": "stdout",
     "output_type": "stream",
     "text": [
      "test all pooling\n",
      "Processing dataset/train/train_16196/train_16196_a/train_16196_a_2.nii.gz...\n"
     ]
    },
    {
     "data": {
      "application/vnd.jupyter.widget-view+json": {
       "model_id": "920f6c98a3af40cfb83f7401069a2888",
       "version_major": 2,
       "version_minor": 0
      },
      "text/plain": [
       "dataset/train/train_16196/train_16196_a/(…):   0%|          | 0.00/190M [00:00<?, ?B/s]"
      ]
     },
     "metadata": {},
     "output_type": "display_data"
    },
    {
     "name": "stdout",
     "output_type": "stream",
     "text": [
      "test all pooling\n",
      "Processing dataset/train/train_14895/train_14895_a/train_14895_a_2.nii.gz...\n"
     ]
    },
    {
     "data": {
      "application/vnd.jupyter.widget-view+json": {
       "model_id": "68483f3123a841a591566cb6cd7336d6",
       "version_major": 2,
       "version_minor": 0
      },
      "text/plain": [
       "dataset/train/train_14895/train_14895_a/(…):   0%|          | 0.00/448M [00:00<?, ?B/s]"
      ]
     },
     "metadata": {},
     "output_type": "display_data"
    },
    {
     "name": "stdout",
     "output_type": "stream",
     "text": [
      "test all pooling\n",
      "Processing dataset/train/train_5347/train_5347_a/train_5347_a_2.nii.gz...\n"
     ]
    },
    {
     "data": {
      "application/vnd.jupyter.widget-view+json": {
       "model_id": "ccc4f452020f4b749eeae4d130e22a6d",
       "version_major": 2,
       "version_minor": 0
      },
      "text/plain": [
       "dataset/train/train_5347/train_5347_a/tr(…):   0%|          | 0.00/501M [00:00<?, ?B/s]"
      ]
     },
     "metadata": {},
     "output_type": "display_data"
    },
    {
     "name": "stdout",
     "output_type": "stream",
     "text": [
      "test all pooling\n",
      "Processing dataset/train/train_4634/train_4634_a/train_4634_a_1.nii.gz...\n"
     ]
    },
    {
     "data": {
      "application/vnd.jupyter.widget-view+json": {
       "model_id": "a0b32b606c5b4c39982cad8f1d4d477c",
       "version_major": 2,
       "version_minor": 0
      },
      "text/plain": [
       "dataset/train/train_4634/train_4634_a/tr(…):   0%|          | 0.00/529M [00:00<?, ?B/s]"
      ]
     },
     "metadata": {},
     "output_type": "display_data"
    },
    {
     "name": "stdout",
     "output_type": "stream",
     "text": [
      "test all pooling\n",
      "Processing dataset/train/train_10983/train_10983_b/train_10983_b_1.nii.gz...\n"
     ]
    },
    {
     "data": {
      "application/vnd.jupyter.widget-view+json": {
       "model_id": "99b09efd0c9340f1aa37320538f37876",
       "version_major": 2,
       "version_minor": 0
      },
      "text/plain": [
       "dataset/train/train_10983/train_10983_b/(…):   0%|          | 0.00/279M [00:00<?, ?B/s]"
      ]
     },
     "metadata": {},
     "output_type": "display_data"
    },
    {
     "name": "stdout",
     "output_type": "stream",
     "text": [
      "test all pooling\n",
      "Processing dataset/train/train_3168/train_3168_a/train_3168_a_2.nii.gz...\n"
     ]
    },
    {
     "data": {
      "application/vnd.jupyter.widget-view+json": {
       "model_id": "ca004058fbe64d12baa79f2b32342cfa",
       "version_major": 2,
       "version_minor": 0
      },
      "text/plain": [
       "dataset/train/train_3168/train_3168_a/tr(…):   0%|          | 0.00/164M [00:00<?, ?B/s]"
      ]
     },
     "metadata": {},
     "output_type": "display_data"
    },
    {
     "name": "stdout",
     "output_type": "stream",
     "text": [
      "test all pooling\n",
      "Processing dataset/train/train_954/train_954_c/train_954_c_2.nii.gz...\n"
     ]
    },
    {
     "data": {
      "application/vnd.jupyter.widget-view+json": {
       "model_id": "dd1615be3b35430bb556de21af77d8d9",
       "version_major": 2,
       "version_minor": 0
      },
      "text/plain": [
       "dataset/train/train_954/train_954_c/trai(…):   0%|          | 0.00/253M [00:00<?, ?B/s]"
      ]
     },
     "metadata": {},
     "output_type": "display_data"
    },
    {
     "name": "stdout",
     "output_type": "stream",
     "text": [
      "test all pooling\n",
      "Processing dataset/train/train_9167/train_9167_a/train_9167_a_1.nii.gz...\n"
     ]
    },
    {
     "data": {
      "application/vnd.jupyter.widget-view+json": {
       "model_id": "8da2c184494a4861b8f92215b3964b64",
       "version_major": 2,
       "version_minor": 0
      },
      "text/plain": [
       "dataset/train/train_9167/train_9167_a/tr(…):   0%|          | 0.00/135M [00:00<?, ?B/s]"
      ]
     },
     "metadata": {},
     "output_type": "display_data"
    },
    {
     "name": "stdout",
     "output_type": "stream",
     "text": [
      "test all pooling\n",
      "Processing dataset/train/train_17883/train_17883_a/train_17883_a_1.nii.gz...\n"
     ]
    },
    {
     "data": {
      "application/vnd.jupyter.widget-view+json": {
       "model_id": "f2e649e53f774bd5b9770376717119b9",
       "version_major": 2,
       "version_minor": 0
      },
      "text/plain": [
       "dataset/train/train_17883/train_17883_a/(…):   0%|          | 0.00/433M [00:00<?, ?B/s]"
      ]
     },
     "metadata": {},
     "output_type": "display_data"
    },
    {
     "name": "stdout",
     "output_type": "stream",
     "text": [
      "test all pooling\n",
      "Processing dataset/train/train_3310/train_3310_a/train_3310_a_2.nii.gz...\n"
     ]
    },
    {
     "data": {
      "application/vnd.jupyter.widget-view+json": {
       "model_id": "68dd38b1e04e46cfad0670198951e23f",
       "version_major": 2,
       "version_minor": 0
      },
      "text/plain": [
       "dataset/train/train_3310/train_3310_a/tr(…):   0%|          | 0.00/187M [00:00<?, ?B/s]"
      ]
     },
     "metadata": {},
     "output_type": "display_data"
    },
    {
     "name": "stdout",
     "output_type": "stream",
     "text": [
      "test all pooling\n",
      "Processing dataset/train/train_11324/train_11324_a/train_11324_a_1.nii.gz...\n"
     ]
    },
    {
     "data": {
      "application/vnd.jupyter.widget-view+json": {
       "model_id": "a8475b2568c14233855a75fd29becb01",
       "version_major": 2,
       "version_minor": 0
      },
      "text/plain": [
       "dataset/train/train_11324/train_11324_a/(…):   0%|          | 0.00/157M [00:00<?, ?B/s]"
      ]
     },
     "metadata": {},
     "output_type": "display_data"
    },
    {
     "name": "stdout",
     "output_type": "stream",
     "text": [
      "test all pooling\n",
      "Processing dataset/train/train_13606/train_13606_a/train_13606_a_2.nii.gz...\n"
     ]
    },
    {
     "data": {
      "application/vnd.jupyter.widget-view+json": {
       "model_id": "9c47812506c74187a177ffe19d607513",
       "version_major": 2,
       "version_minor": 0
      },
      "text/plain": [
       "dataset/train/train_13606/train_13606_a/(…):   0%|          | 0.00/238M [00:00<?, ?B/s]"
      ]
     },
     "metadata": {},
     "output_type": "display_data"
    },
    {
     "name": "stdout",
     "output_type": "stream",
     "text": [
      "test all pooling\n",
      "Processing dataset/train/train_7474/train_7474_a/train_7474_a_2.nii.gz...\n"
     ]
    },
    {
     "data": {
      "application/vnd.jupyter.widget-view+json": {
       "model_id": "39a82a931fdf4dfdbe86e1c1b2fdd116",
       "version_major": 2,
       "version_minor": 0
      },
      "text/plain": [
       "dataset/train/train_7474/train_7474_a/tr(…):   0%|          | 0.00/142M [00:00<?, ?B/s]"
      ]
     },
     "metadata": {},
     "output_type": "display_data"
    },
    {
     "name": "stdout",
     "output_type": "stream",
     "text": [
      "test all pooling\n",
      "Processing dataset/train/train_5928/train_5928_a/train_5928_a_1.nii.gz...\n"
     ]
    },
    {
     "data": {
      "application/vnd.jupyter.widget-view+json": {
       "model_id": "340b90101fc046699d1d0866b23d3f0b",
       "version_major": 2,
       "version_minor": 0
      },
      "text/plain": [
       "dataset/train/train_5928/train_5928_a/tr(…):   0%|          | 0.00/242M [00:00<?, ?B/s]"
      ]
     },
     "metadata": {},
     "output_type": "display_data"
    },
    {
     "name": "stdout",
     "output_type": "stream",
     "text": [
      "test all pooling\n",
      "Processing dataset/train/train_4632/train_4632_a/train_4632_a_2.nii.gz...\n"
     ]
    },
    {
     "data": {
      "application/vnd.jupyter.widget-view+json": {
       "model_id": "604437bf3ab941b0b77d187cde1003f3",
       "version_major": 2,
       "version_minor": 0
      },
      "text/plain": [
       "dataset/train/train_4632/train_4632_a/tr(…):   0%|          | 0.00/224M [00:00<?, ?B/s]"
      ]
     },
     "metadata": {},
     "output_type": "display_data"
    },
    {
     "name": "stdout",
     "output_type": "stream",
     "text": [
      "test all pooling\n",
      "Processing dataset/train/train_17610/train_17610_a/train_17610_a_1.nii.gz...\n",
      "test all pooling\n",
      "Processing dataset/train/train_11608/train_11608_a/train_11608_a_5.nii.gz...\n"
     ]
    },
    {
     "data": {
      "application/vnd.jupyter.widget-view+json": {
       "model_id": "deec8c8ad5764c0e8403e649c10e4215",
       "version_major": 2,
       "version_minor": 0
      },
      "text/plain": [
       "dataset/train/train_11608/train_11608_a/(…):   0%|          | 0.00/205M [00:00<?, ?B/s]"
      ]
     },
     "metadata": {},
     "output_type": "display_data"
    },
    {
     "name": "stdout",
     "output_type": "stream",
     "text": [
      "test all pooling\n",
      "Processing dataset/train/train_3899/train_3899_a/train_3899_a_2.nii.gz...\n"
     ]
    },
    {
     "data": {
      "application/vnd.jupyter.widget-view+json": {
       "model_id": "b49023aa6b8d4960a6da4004f4025231",
       "version_major": 2,
       "version_minor": 0
      },
      "text/plain": [
       "dataset/train/train_3899/train_3899_a/tr(…):   0%|          | 0.00/116M [00:00<?, ?B/s]"
      ]
     },
     "metadata": {},
     "output_type": "display_data"
    },
    {
     "name": "stdout",
     "output_type": "stream",
     "text": [
      "test all pooling\n",
      "Processing dataset/train/train_17927/train_17927_a/train_17927_a_2.nii.gz...\n"
     ]
    },
    {
     "data": {
      "application/vnd.jupyter.widget-view+json": {
       "model_id": "8b4dd669098e4b8dbf9ebee2dc06429c",
       "version_major": 2,
       "version_minor": 0
      },
      "text/plain": [
       "dataset/train/train_17927/train_17927_a/(…):   0%|          | 0.00/203M [00:00<?, ?B/s]"
      ]
     },
     "metadata": {},
     "output_type": "display_data"
    },
    {
     "name": "stdout",
     "output_type": "stream",
     "text": [
      "test all pooling\n",
      "Processing dataset/train/train_19920/train_19920_a/train_19920_a_2.nii.gz...\n"
     ]
    },
    {
     "data": {
      "application/vnd.jupyter.widget-view+json": {
       "model_id": "b70370983cc248b1ae45aa0b8ff0ee6f",
       "version_major": 2,
       "version_minor": 0
      },
      "text/plain": [
       "dataset/train/train_19920/train_19920_a/(…):   0%|          | 0.00/122M [00:00<?, ?B/s]"
      ]
     },
     "metadata": {},
     "output_type": "display_data"
    },
    {
     "name": "stdout",
     "output_type": "stream",
     "text": [
      "test all pooling\n",
      "Processing dataset/train/train_10089/train_10089_a/train_10089_a_2.nii.gz...\n"
     ]
    },
    {
     "data": {
      "application/vnd.jupyter.widget-view+json": {
       "model_id": "7c907eb9bfc94a74b80c8d1ccbdc56bc",
       "version_major": 2,
       "version_minor": 0
      },
      "text/plain": [
       "dataset/train/train_10089/train_10089_a/(…):   0%|          | 0.00/93.9M [00:00<?, ?B/s]"
      ]
     },
     "metadata": {},
     "output_type": "display_data"
    },
    {
     "name": "stdout",
     "output_type": "stream",
     "text": [
      "test all pooling\n",
      "Processing dataset/train/train_5275/train_5275_a/train_5275_a_2.nii.gz...\n"
     ]
    },
    {
     "data": {
      "application/vnd.jupyter.widget-view+json": {
       "model_id": "435911546ac748319d786f7276d01693",
       "version_major": 2,
       "version_minor": 0
      },
      "text/plain": [
       "dataset/train/train_5275/train_5275_a/tr(…):   0%|          | 0.00/220M [00:00<?, ?B/s]"
      ]
     },
     "metadata": {},
     "output_type": "display_data"
    },
    {
     "name": "stdout",
     "output_type": "stream",
     "text": [
      "test all pooling\n",
      "Processing dataset/train/train_8748/train_8748_a/train_8748_a_1.nii.gz...\n"
     ]
    },
    {
     "data": {
      "application/vnd.jupyter.widget-view+json": {
       "model_id": "73d8f229e28e4c52aa7c80c6e2b5b6c2",
       "version_major": 2,
       "version_minor": 0
      },
      "text/plain": [
       "dataset/train/train_8748/train_8748_a/tr(…):   0%|          | 0.00/293M [00:00<?, ?B/s]"
      ]
     },
     "metadata": {},
     "output_type": "display_data"
    },
    {
     "name": "stdout",
     "output_type": "stream",
     "text": [
      "test all pooling\n",
      "Processing dataset/train/train_19505/train_19505_a/train_19505_a_2.nii.gz...\n"
     ]
    },
    {
     "data": {
      "application/vnd.jupyter.widget-view+json": {
       "model_id": "195a59a8a6164e41a7742b0205e601a5",
       "version_major": 2,
       "version_minor": 0
      },
      "text/plain": [
       "dataset/train/train_19505/train_19505_a/(…):   0%|          | 0.00/192M [00:00<?, ?B/s]"
      ]
     },
     "metadata": {},
     "output_type": "display_data"
    },
    {
     "name": "stdout",
     "output_type": "stream",
     "text": [
      "test all pooling\n",
      "Processing dataset/train/train_7735/train_7735_a/train_7735_a_2.nii.gz...\n"
     ]
    },
    {
     "data": {
      "application/vnd.jupyter.widget-view+json": {
       "model_id": "4f84f3f0677a4dff983ff5507332d9bb",
       "version_major": 2,
       "version_minor": 0
      },
      "text/plain": [
       "dataset/train/train_7735/train_7735_a/tr(…):   0%|          | 0.00/77.4M [00:00<?, ?B/s]"
      ]
     },
     "metadata": {},
     "output_type": "display_data"
    },
    {
     "name": "stdout",
     "output_type": "stream",
     "text": [
      "test all pooling\n",
      "Processing dataset/train/train_5567/train_5567_a/train_5567_a_1.nii.gz...\n"
     ]
    },
    {
     "data": {
      "application/vnd.jupyter.widget-view+json": {
       "model_id": "3b66418cd53a40eea5245b421581de9c",
       "version_major": 2,
       "version_minor": 0
      },
      "text/plain": [
       "dataset/train/train_5567/train_5567_a/tr(…):   0%|          | 0.00/147M [00:00<?, ?B/s]"
      ]
     },
     "metadata": {},
     "output_type": "display_data"
    },
    {
     "name": "stdout",
     "output_type": "stream",
     "text": [
      "test all pooling\n",
      "Processing dataset/train/train_12094/train_12094_a/train_12094_a_1.nii.gz...\n"
     ]
    },
    {
     "data": {
      "application/vnd.jupyter.widget-view+json": {
       "model_id": "830bf256d07247aa9232edc7bae58aa4",
       "version_major": 2,
       "version_minor": 0
      },
      "text/plain": [
       "dataset/train/train_12094/train_12094_a/(…):   0%|          | 0.00/496M [00:00<?, ?B/s]"
      ]
     },
     "metadata": {},
     "output_type": "display_data"
    },
    {
     "name": "stdout",
     "output_type": "stream",
     "text": [
      "test all pooling\n",
      "Processing dataset/train/train_7701/train_7701_a/train_7701_a_2.nii.gz...\n"
     ]
    },
    {
     "data": {
      "application/vnd.jupyter.widget-view+json": {
       "model_id": "fe60d6d645f24cf88d33d232675f3b1f",
       "version_major": 2,
       "version_minor": 0
      },
      "text/plain": [
       "dataset/train/train_7701/train_7701_a/tr(…):   0%|          | 0.00/165M [00:00<?, ?B/s]"
      ]
     },
     "metadata": {},
     "output_type": "display_data"
    },
    {
     "name": "stdout",
     "output_type": "stream",
     "text": [
      "test all pooling\n",
      "Processing dataset/train/train_10094/train_10094_b/train_10094_b_1.nii.gz...\n"
     ]
    },
    {
     "data": {
      "application/vnd.jupyter.widget-view+json": {
       "model_id": "cd1f7c7f514047e1b45d46aa7389d775",
       "version_major": 2,
       "version_minor": 0
      },
      "text/plain": [
       "dataset/train/train_10094/train_10094_b/(…):   0%|          | 0.00/539M [00:00<?, ?B/s]"
      ]
     },
     "metadata": {},
     "output_type": "display_data"
    },
    {
     "name": "stdout",
     "output_type": "stream",
     "text": [
      "test all pooling\n",
      "Processing dataset/train/train_8031/train_8031_a/train_8031_a_1.nii.gz...\n"
     ]
    },
    {
     "data": {
      "application/vnd.jupyter.widget-view+json": {
       "model_id": "cdc27c182a9742789789fcc877243219",
       "version_major": 2,
       "version_minor": 0
      },
      "text/plain": [
       "dataset/train/train_8031/train_8031_a/tr(…):   0%|          | 0.00/557M [00:00<?, ?B/s]"
      ]
     },
     "metadata": {},
     "output_type": "display_data"
    },
    {
     "name": "stdout",
     "output_type": "stream",
     "text": [
      "test all pooling\n",
      "Processing dataset/train/train_17470/train_17470_a/train_17470_a_2.nii.gz...\n"
     ]
    },
    {
     "data": {
      "application/vnd.jupyter.widget-view+json": {
       "model_id": "116f62ab5c7243f883527e75781beb3f",
       "version_major": 2,
       "version_minor": 0
      },
      "text/plain": [
       "dataset/train/train_17470/train_17470_a/(…):   0%|          | 0.00/212M [00:00<?, ?B/s]"
      ]
     },
     "metadata": {},
     "output_type": "display_data"
    },
    {
     "name": "stdout",
     "output_type": "stream",
     "text": [
      "test all pooling\n",
      "Processing dataset/train/train_16566/train_16566_c/train_16566_c_2.nii.gz...\n"
     ]
    },
    {
     "data": {
      "application/vnd.jupyter.widget-view+json": {
       "model_id": "ad39167b853b4834b06fc71667b3a826",
       "version_major": 2,
       "version_minor": 0
      },
      "text/plain": [
       "dataset/train/train_16566/train_16566_c/(…):   0%|          | 0.00/214M [00:00<?, ?B/s]"
      ]
     },
     "metadata": {},
     "output_type": "display_data"
    },
    {
     "name": "stdout",
     "output_type": "stream",
     "text": [
      "test all pooling\n",
      "Processing dataset/train/train_16972/train_16972_a/train_16972_a_1.nii.gz...\n"
     ]
    },
    {
     "data": {
      "application/vnd.jupyter.widget-view+json": {
       "model_id": "cf9bfd9ca2dd48e0bc6d41e34fc9d36a",
       "version_major": 2,
       "version_minor": 0
      },
      "text/plain": [
       "dataset/train/train_16972/train_16972_a/(…):   0%|          | 0.00/235M [00:00<?, ?B/s]"
      ]
     },
     "metadata": {},
     "output_type": "display_data"
    },
    {
     "name": "stdout",
     "output_type": "stream",
     "text": [
      "test all pooling\n",
      "Processing dataset/train/train_3712/train_3712_a/train_3712_a_2.nii.gz...\n"
     ]
    },
    {
     "data": {
      "application/vnd.jupyter.widget-view+json": {
       "model_id": "9fd2741b231341d1b819c26e4c088de6",
       "version_major": 2,
       "version_minor": 0
      },
      "text/plain": [
       "dataset/train/train_3712/train_3712_a/tr(…):   0%|          | 0.00/167M [00:00<?, ?B/s]"
      ]
     },
     "metadata": {},
     "output_type": "display_data"
    },
    {
     "name": "stdout",
     "output_type": "stream",
     "text": [
      "test all pooling\n",
      "Processing dataset/train/train_17867/train_17867_a/train_17867_a_1.nii.gz...\n"
     ]
    },
    {
     "data": {
      "application/vnd.jupyter.widget-view+json": {
       "model_id": "323d935b8f0b43f780dd2db99dba3841",
       "version_major": 2,
       "version_minor": 0
      },
      "text/plain": [
       "dataset/train/train_17867/train_17867_a/(…):   0%|          | 0.00/90.5M [00:00<?, ?B/s]"
      ]
     },
     "metadata": {},
     "output_type": "display_data"
    },
    {
     "name": "stdout",
     "output_type": "stream",
     "text": [
      "test all pooling\n",
      "Processing dataset/train/train_6211/train_6211_a/train_6211_a_2.nii.gz...\n"
     ]
    },
    {
     "data": {
      "application/vnd.jupyter.widget-view+json": {
       "model_id": "0a5e6d7306794e5886af97afa88b6dfc",
       "version_major": 2,
       "version_minor": 0
      },
      "text/plain": [
       "dataset/train/train_6211/train_6211_a/tr(…):   0%|          | 0.00/97.5M [00:00<?, ?B/s]"
      ]
     },
     "metadata": {},
     "output_type": "display_data"
    },
    {
     "name": "stdout",
     "output_type": "stream",
     "text": [
      "test all pooling\n",
      "Processing dataset/train/train_16834/train_16834_a/train_16834_a_2.nii.gz...\n"
     ]
    },
    {
     "data": {
      "application/vnd.jupyter.widget-view+json": {
       "model_id": "ed7dbea389254a5a9b6a6889a66f9854",
       "version_major": 2,
       "version_minor": 0
      },
      "text/plain": [
       "dataset/train/train_16834/train_16834_a/(…):   0%|          | 0.00/202M [00:00<?, ?B/s]"
      ]
     },
     "metadata": {},
     "output_type": "display_data"
    },
    {
     "name": "stdout",
     "output_type": "stream",
     "text": [
      "test all pooling\n",
      "Processing dataset/train/train_3176/train_3176_a/train_3176_a_2.nii.gz...\n"
     ]
    },
    {
     "data": {
      "application/vnd.jupyter.widget-view+json": {
       "model_id": "2e58b6325193476dbc6e60adfc7713e7",
       "version_major": 2,
       "version_minor": 0
      },
      "text/plain": [
       "dataset/train/train_3176/train_3176_a/tr(…):   0%|          | 0.00/236M [00:00<?, ?B/s]"
      ]
     },
     "metadata": {},
     "output_type": "display_data"
    },
    {
     "name": "stdout",
     "output_type": "stream",
     "text": [
      "test all pooling\n",
      "Processing dataset/train/train_15286/train_15286_a/train_15286_a_1.nii.gz...\n"
     ]
    },
    {
     "data": {
      "application/vnd.jupyter.widget-view+json": {
       "model_id": "a9a371ab0f094b40be1448bd0e46f813",
       "version_major": 2,
       "version_minor": 0
      },
      "text/plain": [
       "dataset/train/train_15286/train_15286_a/(…):   0%|          | 0.00/444M [00:00<?, ?B/s]"
      ]
     },
     "metadata": {},
     "output_type": "display_data"
    },
    {
     "name": "stdout",
     "output_type": "stream",
     "text": [
      "test all pooling\n",
      "Processing dataset/train/train_9899/train_9899_a/train_9899_a_2.nii.gz...\n"
     ]
    },
    {
     "data": {
      "application/vnd.jupyter.widget-view+json": {
       "model_id": "ed3ab6340fd0450fb22ed28a42221d39",
       "version_major": 2,
       "version_minor": 0
      },
      "text/plain": [
       "dataset/train/train_9899/train_9899_a/tr(…):   0%|          | 0.00/150M [00:00<?, ?B/s]"
      ]
     },
     "metadata": {},
     "output_type": "display_data"
    },
    {
     "name": "stdout",
     "output_type": "stream",
     "text": [
      "test all pooling\n",
      "Processing dataset/train/train_8168/train_8168_a/train_8168_a_2.nii.gz...\n"
     ]
    },
    {
     "data": {
      "application/vnd.jupyter.widget-view+json": {
       "model_id": "f3a07bac931747cb86bbebc4d9db14f1",
       "version_major": 2,
       "version_minor": 0
      },
      "text/plain": [
       "dataset/train/train_8168/train_8168_a/tr(…):   0%|          | 0.00/180M [00:00<?, ?B/s]"
      ]
     },
     "metadata": {},
     "output_type": "display_data"
    },
    {
     "name": "stdout",
     "output_type": "stream",
     "text": [
      "test all pooling\n",
      "Processing dataset/train/train_13874/train_13874_a/train_13874_a_2.nii.gz...\n"
     ]
    },
    {
     "data": {
      "application/vnd.jupyter.widget-view+json": {
       "model_id": "0bcf316b30214a1fb19c6f9eb43eadc0",
       "version_major": 2,
       "version_minor": 0
      },
      "text/plain": [
       "dataset/train/train_13874/train_13874_a/(…):   0%|          | 0.00/245M [00:00<?, ?B/s]"
      ]
     },
     "metadata": {},
     "output_type": "display_data"
    },
    {
     "name": "stdout",
     "output_type": "stream",
     "text": [
      "test all pooling\n",
      "Processing dataset/train/train_848/train_848_h/train_848_h_1.nii.gz...\n"
     ]
    },
    {
     "data": {
      "application/vnd.jupyter.widget-view+json": {
       "model_id": "53e5aba3b6744149a976a10d2599d0a6",
       "version_major": 2,
       "version_minor": 0
      },
      "text/plain": [
       "dataset/train/train_848/train_848_h/trai(…):   0%|          | 0.00/127M [00:00<?, ?B/s]"
      ]
     },
     "metadata": {},
     "output_type": "display_data"
    },
    {
     "name": "stdout",
     "output_type": "stream",
     "text": [
      "test all pooling\n",
      "Processing dataset/train/train_19526/train_19526_a/train_19526_a_2.nii.gz...\n"
     ]
    },
    {
     "data": {
      "application/vnd.jupyter.widget-view+json": {
       "model_id": "50c26826bedd48359bb16a28aaff637a",
       "version_major": 2,
       "version_minor": 0
      },
      "text/plain": [
       "dataset/train/train_19526/train_19526_a/(…):   0%|          | 0.00/218M [00:00<?, ?B/s]"
      ]
     },
     "metadata": {},
     "output_type": "display_data"
    },
    {
     "name": "stdout",
     "output_type": "stream",
     "text": [
      "test all pooling\n",
      "Processing dataset/train/train_1162/train_1162_a/train_1162_a_1.nii.gz...\n"
     ]
    },
    {
     "data": {
      "application/vnd.jupyter.widget-view+json": {
       "model_id": "3a79852cc0bf47b18c1635f106013d41",
       "version_major": 2,
       "version_minor": 0
      },
      "text/plain": [
       "dataset/train/train_1162/train_1162_a/tr(…):   0%|          | 0.00/63.6M [00:00<?, ?B/s]"
      ]
     },
     "metadata": {},
     "output_type": "display_data"
    },
    {
     "name": "stdout",
     "output_type": "stream",
     "text": [
      "test all pooling\n",
      "Processing dataset/train/train_12201/train_12201_b/train_12201_b_2.nii.gz...\n"
     ]
    },
    {
     "data": {
      "application/vnd.jupyter.widget-view+json": {
       "model_id": "7aa5a01195cf4983a30219f5a7c29816",
       "version_major": 2,
       "version_minor": 0
      },
      "text/plain": [
       "dataset/train/train_12201/train_12201_b/(…):   0%|          | 0.00/191M [00:00<?, ?B/s]"
      ]
     },
     "metadata": {},
     "output_type": "display_data"
    },
    {
     "name": "stdout",
     "output_type": "stream",
     "text": [
      "test all pooling\n",
      "Processing dataset/train/train_11863/train_11863_a/train_11863_a_1.nii.gz...\n"
     ]
    },
    {
     "data": {
      "application/vnd.jupyter.widget-view+json": {
       "model_id": "07d6ef18cc7d4b058104b6ba82751b17",
       "version_major": 2,
       "version_minor": 0
      },
      "text/plain": [
       "dataset/train/train_11863/train_11863_a/(…):   0%|          | 0.00/501M [00:00<?, ?B/s]"
      ]
     },
     "metadata": {},
     "output_type": "display_data"
    },
    {
     "name": "stdout",
     "output_type": "stream",
     "text": [
      "test all pooling\n",
      "Processing dataset/train/train_7214/train_7214_e/train_7214_e_2.nii.gz...\n"
     ]
    },
    {
     "data": {
      "application/vnd.jupyter.widget-view+json": {
       "model_id": "9c09757904194d05b24e4967df674ad0",
       "version_major": 2,
       "version_minor": 0
      },
      "text/plain": [
       "dataset/train/train_7214/train_7214_e/tr(…):   0%|          | 0.00/207M [00:00<?, ?B/s]"
      ]
     },
     "metadata": {},
     "output_type": "display_data"
    },
    {
     "name": "stdout",
     "output_type": "stream",
     "text": [
      "test all pooling\n",
      "Processing dataset/train/train_3821/train_3821_a/train_3821_a_5.nii.gz...\n"
     ]
    },
    {
     "data": {
      "application/vnd.jupyter.widget-view+json": {
       "model_id": "869c0bfeda2449c3b3220c29937416d5",
       "version_major": 2,
       "version_minor": 0
      },
      "text/plain": [
       "dataset/train/train_3821/train_3821_a/tr(…):   0%|          | 0.00/36.7M [00:00<?, ?B/s]"
      ]
     },
     "metadata": {},
     "output_type": "display_data"
    },
    {
     "name": "stdout",
     "output_type": "stream",
     "text": [
      "test all pooling\n",
      "Processing dataset/train/train_19669/train_19669_a/train_19669_a_2.nii.gz...\n"
     ]
    },
    {
     "data": {
      "application/vnd.jupyter.widget-view+json": {
       "model_id": "ddfa3cd32f714ae8a063c841db41bcfc",
       "version_major": 2,
       "version_minor": 0
      },
      "text/plain": [
       "dataset/train/train_19669/train_19669_a/(…):   0%|          | 0.00/198M [00:00<?, ?B/s]"
      ]
     },
     "metadata": {},
     "output_type": "display_data"
    },
    {
     "name": "stdout",
     "output_type": "stream",
     "text": [
      "test all pooling\n",
      "Processing dataset/train/train_3771/train_3771_a/train_3771_a_1.nii.gz...\n"
     ]
    },
    {
     "data": {
      "application/vnd.jupyter.widget-view+json": {
       "model_id": "fa6ecfd1b8dd44148296777ca934d208",
       "version_major": 2,
       "version_minor": 0
      },
      "text/plain": [
       "dataset/train/train_3771/train_3771_a/tr(…):   0%|          | 0.00/547M [00:00<?, ?B/s]"
      ]
     },
     "metadata": {},
     "output_type": "display_data"
    },
    {
     "name": "stdout",
     "output_type": "stream",
     "text": [
      "test all pooling\n",
      "Processing dataset/train/train_17097/train_17097_a/train_17097_a_4.nii.gz...\n"
     ]
    },
    {
     "data": {
      "application/vnd.jupyter.widget-view+json": {
       "model_id": "8dea95dc0bc041fa9e137d204089cd54",
       "version_major": 2,
       "version_minor": 0
      },
      "text/plain": [
       "dataset/train/train_17097/train_17097_a/(…):   0%|          | 0.00/82.5M [00:00<?, ?B/s]"
      ]
     },
     "metadata": {},
     "output_type": "display_data"
    },
    {
     "name": "stdout",
     "output_type": "stream",
     "text": [
      "test all pooling\n",
      "Processing dataset/train/train_1948/train_1948_a/train_1948_a_1.nii.gz...\n"
     ]
    },
    {
     "data": {
      "application/vnd.jupyter.widget-view+json": {
       "model_id": "b6097110cc3b472781dcd5db518e6409",
       "version_major": 2,
       "version_minor": 0
      },
      "text/plain": [
       "dataset/train/train_1948/train_1948_a/tr(…):   0%|          | 0.00/121M [00:00<?, ?B/s]"
      ]
     },
     "metadata": {},
     "output_type": "display_data"
    },
    {
     "name": "stdout",
     "output_type": "stream",
     "text": [
      "test all pooling\n",
      "Processing dataset/train/train_5238/train_5238_a/train_5238_a_1.nii.gz...\n"
     ]
    },
    {
     "data": {
      "application/vnd.jupyter.widget-view+json": {
       "model_id": "b7d4cfec677e4368a4329d5a2e43390b",
       "version_major": 2,
       "version_minor": 0
      },
      "text/plain": [
       "dataset/train/train_5238/train_5238_a/tr(…):   0%|          | 0.00/409M [00:00<?, ?B/s]"
      ]
     },
     "metadata": {},
     "output_type": "display_data"
    },
    {
     "name": "stdout",
     "output_type": "stream",
     "text": [
      "test all pooling\n",
      "Processing dataset/train/train_3251/train_3251_a/train_3251_a_1.nii.gz...\n"
     ]
    },
    {
     "data": {
      "application/vnd.jupyter.widget-view+json": {
       "model_id": "428bba15434d4d51a4545e235e19daba",
       "version_major": 2,
       "version_minor": 0
      },
      "text/plain": [
       "dataset/train/train_3251/train_3251_a/tr(…):   0%|          | 0.00/466M [00:00<?, ?B/s]"
      ]
     },
     "metadata": {},
     "output_type": "display_data"
    },
    {
     "name": "stdout",
     "output_type": "stream",
     "text": [
      "test all pooling\n",
      "Processing dataset/train/train_2364/train_2364_a/train_2364_a_2.nii.gz...\n"
     ]
    },
    {
     "data": {
      "application/vnd.jupyter.widget-view+json": {
       "model_id": "3f0671d159d147929a49c29c5d056663",
       "version_major": 2,
       "version_minor": 0
      },
      "text/plain": [
       "dataset/train/train_2364/train_2364_a/tr(…):   0%|          | 0.00/89.2M [00:00<?, ?B/s]"
      ]
     },
     "metadata": {},
     "output_type": "display_data"
    },
    {
     "name": "stdout",
     "output_type": "stream",
     "text": [
      "test all pooling\n",
      "Processing dataset/train/train_6791/train_6791_a/train_6791_a_1.nii.gz...\n"
     ]
    },
    {
     "data": {
      "application/vnd.jupyter.widget-view+json": {
       "model_id": "9356de97f1b74565872e85b8243a98be",
       "version_major": 2,
       "version_minor": 0
      },
      "text/plain": [
       "dataset/train/train_6791/train_6791_a/tr(…):   0%|          | 0.00/413M [00:00<?, ?B/s]"
      ]
     },
     "metadata": {},
     "output_type": "display_data"
    },
    {
     "name": "stdout",
     "output_type": "stream",
     "text": [
      "test all pooling\n",
      "Processing dataset/train/train_1132/train_1132_a/train_1132_a_2.nii.gz...\n"
     ]
    },
    {
     "data": {
      "application/vnd.jupyter.widget-view+json": {
       "model_id": "b2fce98a3c7d48ff8daf7e6db79c0038",
       "version_major": 2,
       "version_minor": 0
      },
      "text/plain": [
       "dataset/train/train_1132/train_1132_a/tr(…):   0%|          | 0.00/216M [00:00<?, ?B/s]"
      ]
     },
     "metadata": {},
     "output_type": "display_data"
    },
    {
     "name": "stdout",
     "output_type": "stream",
     "text": [
      "test all pooling\n",
      "Processing dataset/train/train_2658/train_2658_a/train_2658_a_2.nii.gz...\n"
     ]
    },
    {
     "data": {
      "application/vnd.jupyter.widget-view+json": {
       "model_id": "2497f059e2a34d3f9be9fc2c76aac619",
       "version_major": 2,
       "version_minor": 0
      },
      "text/plain": [
       "dataset/train/train_2658/train_2658_a/tr(…):   0%|          | 0.00/232M [00:00<?, ?B/s]"
      ]
     },
     "metadata": {},
     "output_type": "display_data"
    },
    {
     "name": "stdout",
     "output_type": "stream",
     "text": [
      "test all pooling\n",
      "Processing dataset/train/train_3863/train_3863_b/train_3863_b_1.nii.gz...\n"
     ]
    },
    {
     "data": {
      "application/vnd.jupyter.widget-view+json": {
       "model_id": "336000cd896a438a911dd59a7d63d70c",
       "version_major": 2,
       "version_minor": 0
      },
      "text/plain": [
       "dataset/train/train_3863/train_3863_b/tr(…):   0%|          | 0.00/438M [00:00<?, ?B/s]"
      ]
     },
     "metadata": {},
     "output_type": "display_data"
    },
    {
     "name": "stdout",
     "output_type": "stream",
     "text": [
      "test all pooling\n",
      "Processing dataset/train/train_12402/train_12402_a/train_12402_a_1.nii.gz...\n"
     ]
    },
    {
     "data": {
      "application/vnd.jupyter.widget-view+json": {
       "model_id": "fca35ac41bfa4eac8b6b9fa6018685fe",
       "version_major": 2,
       "version_minor": 0
      },
      "text/plain": [
       "dataset/train/train_12402/train_12402_a/(…):   0%|          | 0.00/74.3M [00:00<?, ?B/s]"
      ]
     },
     "metadata": {},
     "output_type": "display_data"
    },
    {
     "name": "stdout",
     "output_type": "stream",
     "text": [
      "test all pooling\n",
      "Processing dataset/train/train_7006/train_7006_b/train_7006_b_2.nii.gz...\n"
     ]
    },
    {
     "data": {
      "application/vnd.jupyter.widget-view+json": {
       "model_id": "50b1774dc71a4772aaa6ee6f7d537800",
       "version_major": 2,
       "version_minor": 0
      },
      "text/plain": [
       "dataset/train/train_7006/train_7006_b/tr(…):   0%|          | 0.00/123M [00:00<?, ?B/s]"
      ]
     },
     "metadata": {},
     "output_type": "display_data"
    },
    {
     "name": "stdout",
     "output_type": "stream",
     "text": [
      "test all pooling\n",
      "Processing dataset/train/train_18561/train_18561_a/train_18561_a_2.nii.gz...\n"
     ]
    },
    {
     "data": {
      "application/vnd.jupyter.widget-view+json": {
       "model_id": "a4aea8708cae4d7095fe03a8d8d5cf67",
       "version_major": 2,
       "version_minor": 0
      },
      "text/plain": [
       "dataset/train/train_18561/train_18561_a/(…):   0%|          | 0.00/211M [00:00<?, ?B/s]"
      ]
     },
     "metadata": {},
     "output_type": "display_data"
    },
    {
     "name": "stdout",
     "output_type": "stream",
     "text": [
      "test all pooling\n",
      "Processing dataset/train/train_2534/train_2534_a/train_2534_a_1.nii.gz...\n"
     ]
    },
    {
     "data": {
      "application/vnd.jupyter.widget-view+json": {
       "model_id": "371a345614144284b3c4baf2536df3f3",
       "version_major": 2,
       "version_minor": 0
      },
      "text/plain": [
       "dataset/train/train_2534/train_2534_a/tr(…):   0%|          | 0.00/94.6M [00:00<?, ?B/s]"
      ]
     },
     "metadata": {},
     "output_type": "display_data"
    },
    {
     "name": "stdout",
     "output_type": "stream",
     "text": [
      "test all pooling\n",
      "Processing dataset/train/train_12684/train_12684_a/train_12684_a_1.nii.gz...\n",
      "test all pooling\n",
      "Processing dataset/train/train_1742/train_1742_b/train_1742_b_1.nii.gz...\n"
     ]
    },
    {
     "data": {
      "application/vnd.jupyter.widget-view+json": {
       "model_id": "93b3e6f3064b42e4b4f90c81510ed241",
       "version_major": 2,
       "version_minor": 0
      },
      "text/plain": [
       "dataset/train/train_1742/train_1742_b/tr(…):   0%|          | 0.00/457M [00:00<?, ?B/s]"
      ]
     },
     "metadata": {},
     "output_type": "display_data"
    },
    {
     "name": "stdout",
     "output_type": "stream",
     "text": [
      "test all pooling\n",
      "Processing dataset/train/train_6829/train_6829_a/train_6829_a_2.nii.gz...\n"
     ]
    },
    {
     "data": {
      "application/vnd.jupyter.widget-view+json": {
       "model_id": "d94c8b48badf4eb188736a34cb121ef7",
       "version_major": 2,
       "version_minor": 0
      },
      "text/plain": [
       "dataset/train/train_6829/train_6829_a/tr(…):   0%|          | 0.00/213M [00:00<?, ?B/s]"
      ]
     },
     "metadata": {},
     "output_type": "display_data"
    },
    {
     "name": "stdout",
     "output_type": "stream",
     "text": [
      "test all pooling\n",
      "Processing dataset/train/train_12543/train_12543_a/train_12543_a_2.nii.gz...\n"
     ]
    },
    {
     "data": {
      "application/vnd.jupyter.widget-view+json": {
       "model_id": "e5511b2008344b5299cebd75ffe39313",
       "version_major": 2,
       "version_minor": 0
      },
      "text/plain": [
       "dataset/train/train_12543/train_12543_a/(…):   0%|          | 0.00/227M [00:00<?, ?B/s]"
      ]
     },
     "metadata": {},
     "output_type": "display_data"
    },
    {
     "name": "stdout",
     "output_type": "stream",
     "text": [
      "test all pooling\n",
      "Processing dataset/train/train_15604/train_15604_a/train_15604_a_2.nii.gz...\n"
     ]
    },
    {
     "data": {
      "application/vnd.jupyter.widget-view+json": {
       "model_id": "e03f826f35944d0985c90248686bb341",
       "version_major": 2,
       "version_minor": 0
      },
      "text/plain": [
       "dataset/train/train_15604/train_15604_a/(…):   0%|          | 0.00/245M [00:00<?, ?B/s]"
      ]
     },
     "metadata": {},
     "output_type": "display_data"
    },
    {
     "name": "stdout",
     "output_type": "stream",
     "text": [
      "test all pooling\n",
      "Processing dataset/train/train_8936/train_8936_a/train_8936_a_2.nii.gz...\n"
     ]
    },
    {
     "data": {
      "application/vnd.jupyter.widget-view+json": {
       "model_id": "6b3dbe0b4376432389f9fd0ef1da44b0",
       "version_major": 2,
       "version_minor": 0
      },
      "text/plain": [
       "dataset/train/train_8936/train_8936_a/tr(…):   0%|          | 0.00/170M [00:00<?, ?B/s]"
      ]
     },
     "metadata": {},
     "output_type": "display_data"
    },
    {
     "name": "stdout",
     "output_type": "stream",
     "text": [
      "test all pooling\n",
      "Processing dataset/train/train_17413/train_17413_a/train_17413_a_1.nii.gz...\n"
     ]
    },
    {
     "data": {
      "application/vnd.jupyter.widget-view+json": {
       "model_id": "aa3bf7fd20804ec1b76c3dd53ea793bb",
       "version_major": 2,
       "version_minor": 0
      },
      "text/plain": [
       "dataset/train/train_17413/train_17413_a/(…):   0%|          | 0.00/102M [00:00<?, ?B/s]"
      ]
     },
     "metadata": {},
     "output_type": "display_data"
    },
    {
     "name": "stdout",
     "output_type": "stream",
     "text": [
      "test all pooling\n",
      "Processing dataset/train/train_13416/train_13416_a/train_13416_a_1.nii.gz...\n"
     ]
    },
    {
     "data": {
      "application/vnd.jupyter.widget-view+json": {
       "model_id": "430c916734524ad993d455878920d8fd",
       "version_major": 2,
       "version_minor": 0
      },
      "text/plain": [
       "dataset/train/train_13416/train_13416_a/(…):   0%|          | 0.00/458M [00:00<?, ?B/s]"
      ]
     },
     "metadata": {},
     "output_type": "display_data"
    },
    {
     "name": "stdout",
     "output_type": "stream",
     "text": [
      "test all pooling\n",
      "Processing dataset/train/train_19971/train_19971_a/train_19971_a_1.nii.gz...\n"
     ]
    },
    {
     "data": {
      "application/vnd.jupyter.widget-view+json": {
       "model_id": "3b84de1028c640b3a10aea11c2650601",
       "version_major": 2,
       "version_minor": 0
      },
      "text/plain": [
       "dataset/train/train_19971/train_19971_a/(…):   0%|          | 0.00/403M [00:00<?, ?B/s]"
      ]
     },
     "metadata": {},
     "output_type": "display_data"
    },
    {
     "name": "stdout",
     "output_type": "stream",
     "text": [
      "test all pooling\n",
      "Processing dataset/train/train_18744/train_18744_a/train_18744_a_1.nii.gz...\n",
      "test all pooling\n",
      "Processing dataset/train/train_8080/train_8080_b/train_8080_b_1.nii.gz...\n"
     ]
    },
    {
     "data": {
      "application/vnd.jupyter.widget-view+json": {
       "model_id": "4d77e63ef6ba444ca232776d97338114",
       "version_major": 2,
       "version_minor": 0
      },
      "text/plain": [
       "dataset/train/train_8080/train_8080_b/tr(…):   0%|          | 0.00/434M [00:00<?, ?B/s]"
      ]
     },
     "metadata": {},
     "output_type": "display_data"
    },
    {
     "name": "stdout",
     "output_type": "stream",
     "text": [
      "test all pooling\n",
      "Processing dataset/train/train_13785/train_13785_a/train_13785_a_1.nii.gz...\n"
     ]
    },
    {
     "data": {
      "application/vnd.jupyter.widget-view+json": {
       "model_id": "ba8f683554604adeb873e12945481db6",
       "version_major": 2,
       "version_minor": 0
      },
      "text/plain": [
       "dataset/train/train_13785/train_13785_a/(…):   0%|          | 0.00/572M [00:00<?, ?B/s]"
      ]
     },
     "metadata": {},
     "output_type": "display_data"
    },
    {
     "name": "stdout",
     "output_type": "stream",
     "text": [
      "test all pooling\n",
      "Processing dataset/train/train_227/train_227_a/train_227_a_2.nii.gz...\n"
     ]
    },
    {
     "data": {
      "application/vnd.jupyter.widget-view+json": {
       "model_id": "ab5b8905f21d473db7c0c5fc3b775cb4",
       "version_major": 2,
       "version_minor": 0
      },
      "text/plain": [
       "dataset/train/train_227/train_227_a/trai(…):   0%|          | 0.00/209M [00:00<?, ?B/s]"
      ]
     },
     "metadata": {},
     "output_type": "display_data"
    },
    {
     "name": "stdout",
     "output_type": "stream",
     "text": [
      "test all pooling\n",
      "Processing dataset/train/train_3010/train_3010_a/train_3010_a_1.nii.gz...\n"
     ]
    },
    {
     "data": {
      "application/vnd.jupyter.widget-view+json": {
       "model_id": "ea76b36e54174a86be66cf73dd42c8a3",
       "version_major": 2,
       "version_minor": 0
      },
      "text/plain": [
       "dataset/train/train_3010/train_3010_a/tr(…):   0%|          | 0.00/126M [00:00<?, ?B/s]"
      ]
     },
     "metadata": {},
     "output_type": "display_data"
    },
    {
     "name": "stdout",
     "output_type": "stream",
     "text": [
      "test all pooling\n",
      "Processing dataset/train/train_12428/train_12428_a/train_12428_a_1.nii.gz...\n"
     ]
    },
    {
     "data": {
      "application/vnd.jupyter.widget-view+json": {
       "model_id": "c6c2301023794f79af9b90d2fba44f0b",
       "version_major": 2,
       "version_minor": 0
      },
      "text/plain": [
       "dataset/train/train_12428/train_12428_a/(…):   0%|          | 0.00/79.1M [00:00<?, ?B/s]"
      ]
     },
     "metadata": {},
     "output_type": "display_data"
    },
    {
     "name": "stdout",
     "output_type": "stream",
     "text": [
      "test all pooling\n",
      "Processing dataset/train/train_18252/train_18252_a/train_18252_a_1.nii.gz...\n"
     ]
    },
    {
     "data": {
      "application/vnd.jupyter.widget-view+json": {
       "model_id": "a05ef47ad6cf49d8a1669886135fb5cf",
       "version_major": 2,
       "version_minor": 0
      },
      "text/plain": [
       "dataset/train/train_18252/train_18252_a/(…):   0%|          | 0.00/523M [00:00<?, ?B/s]"
      ]
     },
     "metadata": {},
     "output_type": "display_data"
    },
    {
     "name": "stdout",
     "output_type": "stream",
     "text": [
      "test all pooling\n",
      "Processing dataset/train/train_15178/train_15178_a/train_15178_a_2.nii.gz...\n"
     ]
    },
    {
     "data": {
      "application/vnd.jupyter.widget-view+json": {
       "model_id": "1fd1b99a337e4f6cb96dc3b16ebb4610",
       "version_major": 2,
       "version_minor": 0
      },
      "text/plain": [
       "dataset/train/train_15178/train_15178_a/(…):   0%|          | 0.00/127M [00:00<?, ?B/s]"
      ]
     },
     "metadata": {},
     "output_type": "display_data"
    },
    {
     "name": "stdout",
     "output_type": "stream",
     "text": [
      "test all pooling\n",
      "Processing dataset/train/train_12345/train_12345_a/train_12345_a_1.nii.gz...\n"
     ]
    },
    {
     "data": {
      "application/vnd.jupyter.widget-view+json": {
       "model_id": "912b68f925ec47169179a12551c76447",
       "version_major": 2,
       "version_minor": 0
      },
      "text/plain": [
       "dataset/train/train_12345/train_12345_a/(…):   0%|          | 0.00/455M [00:00<?, ?B/s]"
      ]
     },
     "metadata": {},
     "output_type": "display_data"
    },
    {
     "name": "stdout",
     "output_type": "stream",
     "text": [
      "test all pooling\n",
      "Processing dataset/train/train_7171/train_7171_a/train_7171_a_1.nii.gz...\n"
     ]
    },
    {
     "data": {
      "application/vnd.jupyter.widget-view+json": {
       "model_id": "10f883e9ad734861804b389b1a3b6c10",
       "version_major": 2,
       "version_minor": 0
      },
      "text/plain": [
       "dataset/train/train_7171/train_7171_a/tr(…):   0%|          | 0.00/113M [00:00<?, ?B/s]"
      ]
     },
     "metadata": {},
     "output_type": "display_data"
    },
    {
     "name": "stdout",
     "output_type": "stream",
     "text": [
      "test all pooling\n",
      "Processing dataset/train/train_17912/train_17912_a/train_17912_a_1.nii.gz...\n"
     ]
    },
    {
     "data": {
      "application/vnd.jupyter.widget-view+json": {
       "model_id": "5e9356f43d344dd795cf1b71e2c8af58",
       "version_major": 2,
       "version_minor": 0
      },
      "text/plain": [
       "dataset/train/train_17912/train_17912_a/(…):   0%|          | 0.00/116M [00:00<?, ?B/s]"
      ]
     },
     "metadata": {},
     "output_type": "display_data"
    },
    {
     "name": "stdout",
     "output_type": "stream",
     "text": [
      "test all pooling\n",
      "Processing dataset/train/train_17322/train_17322_b/train_17322_b_1.nii.gz...\n"
     ]
    },
    {
     "data": {
      "application/vnd.jupyter.widget-view+json": {
       "model_id": "f07d87a6f42b440198a1f48129d5ee94",
       "version_major": 2,
       "version_minor": 0
      },
      "text/plain": [
       "dataset/train/train_17322/train_17322_b/(…):   0%|          | 0.00/461M [00:00<?, ?B/s]"
      ]
     },
     "metadata": {},
     "output_type": "display_data"
    },
    {
     "name": "stdout",
     "output_type": "stream",
     "text": [
      "test all pooling\n",
      "Processing dataset/train/train_13339/train_13339_a/train_13339_a_1.nii.gz...\n"
     ]
    },
    {
     "data": {
      "application/vnd.jupyter.widget-view+json": {
       "model_id": "2ff37cbdcdc442edbd44dc49997439e3",
       "version_major": 2,
       "version_minor": 0
      },
      "text/plain": [
       "dataset/train/train_13339/train_13339_a/(…):   0%|          | 0.00/158M [00:00<?, ?B/s]"
      ]
     },
     "metadata": {},
     "output_type": "display_data"
    },
    {
     "name": "stdout",
     "output_type": "stream",
     "text": [
      "test all pooling\n",
      "Processing dataset/train/train_17619/train_17619_e/train_17619_e_1.nii.gz...\n"
     ]
    },
    {
     "data": {
      "application/vnd.jupyter.widget-view+json": {
       "model_id": "b641ee2591444a34bce0856a07e7c4db",
       "version_major": 2,
       "version_minor": 0
      },
      "text/plain": [
       "dataset/train/train_17619/train_17619_e/(…):   0%|          | 0.00/139M [00:00<?, ?B/s]"
      ]
     },
     "metadata": {},
     "output_type": "display_data"
    },
    {
     "name": "stdout",
     "output_type": "stream",
     "text": [
      "test all pooling\n",
      "Processing dataset/train/train_11140/train_11140_a/train_11140_a_2.nii.gz...\n"
     ]
    },
    {
     "data": {
      "application/vnd.jupyter.widget-view+json": {
       "model_id": "1c6b38a48bef4c63add05e4e4c13c228",
       "version_major": 2,
       "version_minor": 0
      },
      "text/plain": [
       "dataset/train/train_11140/train_11140_a/(…):   0%|          | 0.00/217M [00:00<?, ?B/s]"
      ]
     },
     "metadata": {},
     "output_type": "display_data"
    },
    {
     "name": "stdout",
     "output_type": "stream",
     "text": [
      "test all pooling\n",
      "Processing dataset/train/train_13436/train_13436_e/train_13436_e_2.nii.gz...\n"
     ]
    },
    {
     "data": {
      "application/vnd.jupyter.widget-view+json": {
       "model_id": "dc8c328c929e4b0b931af965352ac13e",
       "version_major": 2,
       "version_minor": 0
      },
      "text/plain": [
       "dataset/train/train_13436/train_13436_e/(…):   0%|          | 0.00/112M [00:00<?, ?B/s]"
      ]
     },
     "metadata": {},
     "output_type": "display_data"
    },
    {
     "name": "stdout",
     "output_type": "stream",
     "text": [
      "test all pooling\n",
      "Processing dataset/train/train_7578/train_7578_b/train_7578_b_1.nii.gz...\n"
     ]
    },
    {
     "data": {
      "application/vnd.jupyter.widget-view+json": {
       "model_id": "12c215e869ee4ce69b68bddb11860556",
       "version_major": 2,
       "version_minor": 0
      },
      "text/plain": [
       "dataset/train/train_7578/train_7578_b/tr(…):   0%|          | 0.00/142M [00:00<?, ?B/s]"
      ]
     },
     "metadata": {},
     "output_type": "display_data"
    },
    {
     "name": "stdout",
     "output_type": "stream",
     "text": [
      "test all pooling\n",
      "Processing dataset/train/train_3326/train_3326_b/train_3326_b_1.nii.gz...\n"
     ]
    },
    {
     "data": {
      "application/vnd.jupyter.widget-view+json": {
       "model_id": "d841d9df35bd41c18c2274bcf92ea2e1",
       "version_major": 2,
       "version_minor": 0
      },
      "text/plain": [
       "dataset/train/train_3326/train_3326_b/tr(…):   0%|          | 0.00/74.5M [00:00<?, ?B/s]"
      ]
     },
     "metadata": {},
     "output_type": "display_data"
    },
    {
     "name": "stdout",
     "output_type": "stream",
     "text": [
      "test all pooling\n",
      "Processing dataset/train/train_14959/train_14959_a/train_14959_a_2.nii.gz...\n"
     ]
    },
    {
     "data": {
      "application/vnd.jupyter.widget-view+json": {
       "model_id": "ce4fe8f514ff4eb0b6b71bf0ad6d643c",
       "version_major": 2,
       "version_minor": 0
      },
      "text/plain": [
       "dataset/train/train_14959/train_14959_a/(…):   0%|          | 0.00/179M [00:00<?, ?B/s]"
      ]
     },
     "metadata": {},
     "output_type": "display_data"
    },
    {
     "name": "stdout",
     "output_type": "stream",
     "text": [
      "test all pooling\n",
      "Processing dataset/train/train_9113/train_9113_j/train_9113_j_1.nii.gz...\n"
     ]
    },
    {
     "data": {
      "application/vnd.jupyter.widget-view+json": {
       "model_id": "56c21bfac1f2462aa854f55d86ae6a60",
       "version_major": 2,
       "version_minor": 0
      },
      "text/plain": [
       "dataset/train/train_9113/train_9113_j/tr(…):   0%|          | 0.00/78.4M [00:00<?, ?B/s]"
      ]
     },
     "metadata": {},
     "output_type": "display_data"
    },
    {
     "name": "stdout",
     "output_type": "stream",
     "text": [
      "test all pooling\n",
      "Processing dataset/train/train_5463/train_5463_a/train_5463_a_1.nii.gz...\n"
     ]
    },
    {
     "data": {
      "application/vnd.jupyter.widget-view+json": {
       "model_id": "9cc04687a4ea44928ce214e36134c665",
       "version_major": 2,
       "version_minor": 0
      },
      "text/plain": [
       "dataset/train/train_5463/train_5463_a/tr(…):   0%|          | 0.00/285M [00:00<?, ?B/s]"
      ]
     },
     "metadata": {},
     "output_type": "display_data"
    },
    {
     "name": "stdout",
     "output_type": "stream",
     "text": [
      "test all pooling\n",
      "Processing dataset/train/train_10503/train_10503_a/train_10503_a_1.nii.gz...\n"
     ]
    },
    {
     "data": {
      "application/vnd.jupyter.widget-view+json": {
       "model_id": "5aae4ae8e3f84b35833340c546c7c09c",
       "version_major": 2,
       "version_minor": 0
      },
      "text/plain": [
       "dataset/train/train_10503/train_10503_a/(…):   0%|          | 0.00/495M [00:00<?, ?B/s]"
      ]
     },
     "metadata": {},
     "output_type": "display_data"
    },
    {
     "name": "stdout",
     "output_type": "stream",
     "text": [
      "test all pooling\n",
      "Processing dataset/train/train_8867/train_8867_a/train_8867_a_2.nii.gz...\n"
     ]
    },
    {
     "data": {
      "application/vnd.jupyter.widget-view+json": {
       "model_id": "e3245d3938c3455e811fbde4caa36235",
       "version_major": 2,
       "version_minor": 0
      },
      "text/plain": [
       "dataset/train/train_8867/train_8867_a/tr(…):   0%|          | 0.00/203M [00:00<?, ?B/s]"
      ]
     },
     "metadata": {},
     "output_type": "display_data"
    },
    {
     "name": "stdout",
     "output_type": "stream",
     "text": [
      "test all pooling\n",
      "Processing dataset/train/train_3338/train_3338_a/train_3338_a_1.nii.gz...\n"
     ]
    },
    {
     "data": {
      "application/vnd.jupyter.widget-view+json": {
       "model_id": "4925620d3dee405288d5e4d150a5eee2",
       "version_major": 2,
       "version_minor": 0
      },
      "text/plain": [
       "dataset/train/train_3338/train_3338_a/tr(…):   0%|          | 0.00/149M [00:00<?, ?B/s]"
      ]
     },
     "metadata": {},
     "output_type": "display_data"
    },
    {
     "name": "stdout",
     "output_type": "stream",
     "text": [
      "test all pooling\n",
      "Processing dataset/train/train_12060/train_12060_a/train_12060_a_2.nii.gz...\n"
     ]
    },
    {
     "data": {
      "application/vnd.jupyter.widget-view+json": {
       "model_id": "688595cec084476f94d0aad07940f049",
       "version_major": 2,
       "version_minor": 0
      },
      "text/plain": [
       "dataset/train/train_12060/train_12060_a/(…):   0%|          | 0.00/115M [00:00<?, ?B/s]"
      ]
     },
     "metadata": {},
     "output_type": "display_data"
    },
    {
     "name": "stdout",
     "output_type": "stream",
     "text": [
      "test all pooling\n",
      "Processing dataset/train/train_13354/train_13354_a/train_13354_a_1.nii.gz...\n"
     ]
    },
    {
     "data": {
      "application/vnd.jupyter.widget-view+json": {
       "model_id": "f36faf4b41b2403db7bcc178e3b61ccc",
       "version_major": 2,
       "version_minor": 0
      },
      "text/plain": [
       "dataset/train/train_13354/train_13354_a/(…):   0%|          | 0.00/141M [00:00<?, ?B/s]"
      ]
     },
     "metadata": {},
     "output_type": "display_data"
    },
    {
     "name": "stdout",
     "output_type": "stream",
     "text": [
      "test all pooling\n",
      "Processing dataset/train/train_4754/train_4754_a/train_4754_a_1.nii.gz...\n"
     ]
    },
    {
     "data": {
      "application/vnd.jupyter.widget-view+json": {
       "model_id": "77fe59cf5aae4dfbbc398359705a58b7",
       "version_major": 2,
       "version_minor": 0
      },
      "text/plain": [
       "dataset/train/train_4754/train_4754_a/tr(…):   0%|          | 0.00/139M [00:00<?, ?B/s]"
      ]
     },
     "metadata": {},
     "output_type": "display_data"
    },
    {
     "name": "stdout",
     "output_type": "stream",
     "text": [
      "test all pooling\n",
      "Processing dataset/train/train_4197/train_4197_a/train_4197_a_1.nii.gz...\n"
     ]
    },
    {
     "data": {
      "application/vnd.jupyter.widget-view+json": {
       "model_id": "c864ac9c7f8d401eb52efee6e6648f23",
       "version_major": 2,
       "version_minor": 0
      },
      "text/plain": [
       "dataset/train/train_4197/train_4197_a/tr(…):   0%|          | 0.00/408M [00:00<?, ?B/s]"
      ]
     },
     "metadata": {},
     "output_type": "display_data"
    },
    {
     "name": "stdout",
     "output_type": "stream",
     "text": [
      "test all pooling\n",
      "Processing dataset/train/train_8483/train_8483_a/train_8483_a_2.nii.gz...\n"
     ]
    },
    {
     "data": {
      "application/vnd.jupyter.widget-view+json": {
       "model_id": "2ee0e65f1f834371ad306b64e0887dce",
       "version_major": 2,
       "version_minor": 0
      },
      "text/plain": [
       "dataset/train/train_8483/train_8483_a/tr(…):   0%|          | 0.00/167M [00:00<?, ?B/s]"
      ]
     },
     "metadata": {},
     "output_type": "display_data"
    },
    {
     "name": "stdout",
     "output_type": "stream",
     "text": [
      "test all pooling\n",
      "Processing dataset/train/train_12573/train_12573_a/train_12573_a_5.nii.gz...\n"
     ]
    },
    {
     "data": {
      "application/vnd.jupyter.widget-view+json": {
       "model_id": "cd224fdfb25e4896a4c49c1087a9377f",
       "version_major": 2,
       "version_minor": 0
      },
      "text/plain": [
       "dataset/train/train_12573/train_12573_a/(…):   0%|          | 0.00/162M [00:00<?, ?B/s]"
      ]
     },
     "metadata": {},
     "output_type": "display_data"
    },
    {
     "name": "stdout",
     "output_type": "stream",
     "text": [
      "test all pooling\n",
      "Processing dataset/train/train_1180/train_1180_a/train_1180_a_2.nii.gz...\n"
     ]
    },
    {
     "data": {
      "application/vnd.jupyter.widget-view+json": {
       "model_id": "66547f0fe3504a9ca5195a003db65112",
       "version_major": 2,
       "version_minor": 0
      },
      "text/plain": [
       "dataset/train/train_1180/train_1180_a/tr(…):   0%|          | 0.00/188M [00:00<?, ?B/s]"
      ]
     },
     "metadata": {},
     "output_type": "display_data"
    },
    {
     "name": "stdout",
     "output_type": "stream",
     "text": [
      "test all pooling\n",
      "Processing dataset/train/train_9833/train_9833_a/train_9833_a_1.nii.gz...\n"
     ]
    },
    {
     "data": {
      "application/vnd.jupyter.widget-view+json": {
       "model_id": "5463ec0b50d14daba2e970f06d216821",
       "version_major": 2,
       "version_minor": 0
      },
      "text/plain": [
       "dataset/train/train_9833/train_9833_a/tr(…):   0%|          | 0.00/459M [00:00<?, ?B/s]"
      ]
     },
     "metadata": {},
     "output_type": "display_data"
    },
    {
     "name": "stdout",
     "output_type": "stream",
     "text": [
      "test all pooling\n",
      "Processing dataset/train/train_12524/train_12524_a/train_12524_a_1.nii.gz...\n"
     ]
    },
    {
     "data": {
      "application/vnd.jupyter.widget-view+json": {
       "model_id": "031fde781ce04a579a70e9e46e0b81f9",
       "version_major": 2,
       "version_minor": 0
      },
      "text/plain": [
       "dataset/train/train_12524/train_12524_a/(…):   0%|          | 0.00/151M [00:00<?, ?B/s]"
      ]
     },
     "metadata": {},
     "output_type": "display_data"
    },
    {
     "name": "stdout",
     "output_type": "stream",
     "text": [
      "test all pooling\n",
      "Processing dataset/train/train_15361/train_15361_a/train_15361_a_1.nii.gz...\n"
     ]
    },
    {
     "data": {
      "application/vnd.jupyter.widget-view+json": {
       "model_id": "3d062c2ca9434f50b42c019d0e0a6249",
       "version_major": 2,
       "version_minor": 0
      },
      "text/plain": [
       "dataset/train/train_15361/train_15361_a/(…):   0%|          | 0.00/146M [00:00<?, ?B/s]"
      ]
     },
     "metadata": {},
     "output_type": "display_data"
    },
    {
     "name": "stdout",
     "output_type": "stream",
     "text": [
      "test all pooling\n",
      "Processing dataset/train/train_19726/train_19726_a/train_19726_a_2.nii.gz...\n"
     ]
    },
    {
     "data": {
      "application/vnd.jupyter.widget-view+json": {
       "model_id": "34384e9801ba4c78aa2cca69597cfb99",
       "version_major": 2,
       "version_minor": 0
      },
      "text/plain": [
       "dataset/train/train_19726/train_19726_a/(…):   0%|          | 0.00/227M [00:00<?, ?B/s]"
      ]
     },
     "metadata": {},
     "output_type": "display_data"
    },
    {
     "name": "stdout",
     "output_type": "stream",
     "text": [
      "test all pooling\n",
      "Processing dataset/train/train_17968/train_17968_a/train_17968_a_1.nii.gz...\n"
     ]
    },
    {
     "data": {
      "application/vnd.jupyter.widget-view+json": {
       "model_id": "b2adcf07c6fe47c9b465674a7198c319",
       "version_major": 2,
       "version_minor": 0
      },
      "text/plain": [
       "dataset/train/train_17968/train_17968_a/(…):   0%|          | 0.00/138M [00:00<?, ?B/s]"
      ]
     },
     "metadata": {},
     "output_type": "display_data"
    },
    {
     "name": "stdout",
     "output_type": "stream",
     "text": [
      "test all pooling\n",
      "Processing dataset/train/train_19597/train_19597_a/train_19597_a_2.nii.gz...\n"
     ]
    },
    {
     "data": {
      "application/vnd.jupyter.widget-view+json": {
       "model_id": "b9a10b50cc514f118fa5d34fd25a3a7c",
       "version_major": 2,
       "version_minor": 0
      },
      "text/plain": [
       "dataset/train/train_19597/train_19597_a/(…):   0%|          | 0.00/203M [00:00<?, ?B/s]"
      ]
     },
     "metadata": {},
     "output_type": "display_data"
    },
    {
     "name": "stdout",
     "output_type": "stream",
     "text": [
      "test all pooling\n",
      "Processing dataset/train/train_5771/train_5771_a/train_5771_a_1.nii.gz...\n"
     ]
    },
    {
     "data": {
      "application/vnd.jupyter.widget-view+json": {
       "model_id": "2a339ac63c09490dab69086de060a8c9",
       "version_major": 2,
       "version_minor": 0
      },
      "text/plain": [
       "dataset/train/train_5771/train_5771_a/tr(…):   0%|          | 0.00/517M [00:00<?, ?B/s]"
      ]
     },
     "metadata": {},
     "output_type": "display_data"
    },
    {
     "name": "stdout",
     "output_type": "stream",
     "text": [
      "test all pooling\n",
      "Processing dataset/train/train_2149/train_2149_a/train_2149_a_1.nii.gz...\n"
     ]
    },
    {
     "data": {
      "application/vnd.jupyter.widget-view+json": {
       "model_id": "8c73250483ca4b49b6504324c73334ef",
       "version_major": 2,
       "version_minor": 0
      },
      "text/plain": [
       "dataset/train/train_2149/train_2149_a/tr(…):   0%|          | 0.00/119M [00:00<?, ?B/s]"
      ]
     },
     "metadata": {},
     "output_type": "display_data"
    },
    {
     "name": "stdout",
     "output_type": "stream",
     "text": [
      "test all pooling\n",
      "Processing dataset/train/train_3886/train_3886_a/train_3886_a_1.nii.gz...\n"
     ]
    },
    {
     "data": {
      "application/vnd.jupyter.widget-view+json": {
       "model_id": "12ea77bf1f6f4d2495981cb0c7a4df26",
       "version_major": 2,
       "version_minor": 0
      },
      "text/plain": [
       "dataset/train/train_3886/train_3886_a/tr(…):   0%|          | 0.00/510M [00:00<?, ?B/s]"
      ]
     },
     "metadata": {},
     "output_type": "display_data"
    },
    {
     "name": "stdout",
     "output_type": "stream",
     "text": [
      "test all pooling\n",
      "Processing dataset/train/train_7719/train_7719_b/train_7719_b_1.nii.gz...\n"
     ]
    },
    {
     "data": {
      "application/vnd.jupyter.widget-view+json": {
       "model_id": "caf706872c674930bece0e886f725f9a",
       "version_major": 2,
       "version_minor": 0
      },
      "text/plain": [
       "dataset/train/train_7719/train_7719_b/tr(…):   0%|          | 0.00/146M [00:00<?, ?B/s]"
      ]
     },
     "metadata": {},
     "output_type": "display_data"
    },
    {
     "name": "stdout",
     "output_type": "stream",
     "text": [
      "test all pooling\n",
      "Processing dataset/train/train_2269/train_2269_a/train_2269_a_2.nii.gz...\n"
     ]
    },
    {
     "data": {
      "application/vnd.jupyter.widget-view+json": {
       "model_id": "8cb09e9087514369bf5aba2fdad9c2d9",
       "version_major": 2,
       "version_minor": 0
      },
      "text/plain": [
       "dataset/train/train_2269/train_2269_a/tr(…):   0%|          | 0.00/83.6M [00:00<?, ?B/s]"
      ]
     },
     "metadata": {},
     "output_type": "display_data"
    },
    {
     "name": "stdout",
     "output_type": "stream",
     "text": [
      "test all pooling\n",
      "Processing dataset/train/train_5424/train_5424_a/train_5424_a_1.nii.gz...\n"
     ]
    },
    {
     "data": {
      "application/vnd.jupyter.widget-view+json": {
       "model_id": "4c3a3541cc6a43aca35feabecb89a5fe",
       "version_major": 2,
       "version_minor": 0
      },
      "text/plain": [
       "dataset/train/train_5424/train_5424_a/tr(…):   0%|          | 0.00/127M [00:00<?, ?B/s]"
      ]
     },
     "metadata": {},
     "output_type": "display_data"
    },
    {
     "name": "stdout",
     "output_type": "stream",
     "text": [
      "test all pooling\n",
      "Processing dataset/train/train_2874/train_2874_a/train_2874_a_2.nii.gz...\n"
     ]
    },
    {
     "data": {
      "application/vnd.jupyter.widget-view+json": {
       "model_id": "8631486e47124d70b3671b20dfaa14d4",
       "version_major": 2,
       "version_minor": 0
      },
      "text/plain": [
       "dataset/train/train_2874/train_2874_a/tr(…):   0%|          | 0.00/250M [00:00<?, ?B/s]"
      ]
     },
     "metadata": {},
     "output_type": "display_data"
    },
    {
     "name": "stdout",
     "output_type": "stream",
     "text": [
      "test all pooling\n",
      "Processing dataset/train/train_13760/train_13760_a/train_13760_a_2.nii.gz...\n"
     ]
    },
    {
     "data": {
      "application/vnd.jupyter.widget-view+json": {
       "model_id": "ffe2cd6f09c14d4a91ccd93dafab5e24",
       "version_major": 2,
       "version_minor": 0
      },
      "text/plain": [
       "dataset/train/train_13760/train_13760_a/(…):   0%|          | 0.00/181M [00:00<?, ?B/s]"
      ]
     },
     "metadata": {},
     "output_type": "display_data"
    },
    {
     "name": "stdout",
     "output_type": "stream",
     "text": [
      "test all pooling\n",
      "Processing dataset/train/train_19421/train_19421_a/train_19421_a_1.nii.gz...\n"
     ]
    },
    {
     "data": {
      "application/vnd.jupyter.widget-view+json": {
       "model_id": "173ce3e773c046d5bc871f8cf828f3c5",
       "version_major": 2,
       "version_minor": 0
      },
      "text/plain": [
       "dataset/train/train_19421/train_19421_a/(…):   0%|          | 0.00/86.3M [00:00<?, ?B/s]"
      ]
     },
     "metadata": {},
     "output_type": "display_data"
    },
    {
     "name": "stdout",
     "output_type": "stream",
     "text": [
      "test all pooling\n",
      "Processing dataset/train/train_1689/train_1689_b/train_1689_b_1.nii.gz...\n"
     ]
    },
    {
     "data": {
      "application/vnd.jupyter.widget-view+json": {
       "model_id": "d6365aaf4d1344309f3ccf3eebe7f700",
       "version_major": 2,
       "version_minor": 0
      },
      "text/plain": [
       "dataset/train/train_1689/train_1689_b/tr(…):   0%|          | 0.00/492M [00:00<?, ?B/s]"
      ]
     },
     "metadata": {},
     "output_type": "display_data"
    },
    {
     "name": "stdout",
     "output_type": "stream",
     "text": [
      "test all pooling\n",
      "Processing dataset/train/train_17258/train_17258_a/train_17258_a_1.nii.gz...\n"
     ]
    },
    {
     "data": {
      "application/vnd.jupyter.widget-view+json": {
       "model_id": "a2c55b02a3724e63b0de1812137f185a",
       "version_major": 2,
       "version_minor": 0
      },
      "text/plain": [
       "dataset/train/train_17258/train_17258_a/(…):   0%|          | 0.00/110M [00:00<?, ?B/s]"
      ]
     },
     "metadata": {},
     "output_type": "display_data"
    },
    {
     "name": "stdout",
     "output_type": "stream",
     "text": [
      "test all pooling\n",
      "Processing dataset/train/train_12425/train_12425_b/train_12425_b_2.nii.gz...\n"
     ]
    },
    {
     "data": {
      "application/vnd.jupyter.widget-view+json": {
       "model_id": "517828014a59402788db8962d97a1953",
       "version_major": 2,
       "version_minor": 0
      },
      "text/plain": [
       "dataset/train/train_12425/train_12425_b/(…):   0%|          | 0.00/206M [00:00<?, ?B/s]"
      ]
     },
     "metadata": {},
     "output_type": "display_data"
    },
    {
     "name": "stdout",
     "output_type": "stream",
     "text": [
      "test all pooling\n",
      "Processing dataset/train/train_14868/train_14868_a/train_14868_a_2.nii.gz...\n"
     ]
    },
    {
     "data": {
      "application/vnd.jupyter.widget-view+json": {
       "model_id": "dde6fb5aa92040ebb3906d63eeaa7d89",
       "version_major": 2,
       "version_minor": 0
      },
      "text/plain": [
       "dataset/train/train_14868/train_14868_a/(…):   0%|          | 0.00/201M [00:00<?, ?B/s]"
      ]
     },
     "metadata": {},
     "output_type": "display_data"
    },
    {
     "name": "stdout",
     "output_type": "stream",
     "text": [
      "test all pooling\n",
      "Processing dataset/train/train_4266/train_4266_b/train_4266_b_1.nii.gz...\n"
     ]
    },
    {
     "data": {
      "application/vnd.jupyter.widget-view+json": {
       "model_id": "fac8632c37034dd39f436f9da676a6d9",
       "version_major": 2,
       "version_minor": 0
      },
      "text/plain": [
       "dataset/train/train_4266/train_4266_b/tr(…):   0%|          | 0.00/288M [00:00<?, ?B/s]"
      ]
     },
     "metadata": {},
     "output_type": "display_data"
    },
    {
     "name": "stdout",
     "output_type": "stream",
     "text": [
      "test all pooling\n",
      "Processing dataset/train/train_1348/train_1348_f/train_1348_f_1.nii.gz...\n"
     ]
    },
    {
     "data": {
      "application/vnd.jupyter.widget-view+json": {
       "model_id": "4d2bb8013b2f471ab35b4c02ba4b58d4",
       "version_major": 2,
       "version_minor": 0
      },
      "text/plain": [
       "dataset/train/train_1348/train_1348_f/tr(…):   0%|          | 0.00/524M [00:00<?, ?B/s]"
      ]
     },
     "metadata": {},
     "output_type": "display_data"
    },
    {
     "name": "stdout",
     "output_type": "stream",
     "text": [
      "test all pooling\n",
      "Processing dataset/train/train_17802/train_17802_a/train_17802_a_2.nii.gz...\n"
     ]
    },
    {
     "data": {
      "application/vnd.jupyter.widget-view+json": {
       "model_id": "4d3c7fbeb88e4b68ac6e92ff82c0b231",
       "version_major": 2,
       "version_minor": 0
      },
      "text/plain": [
       "dataset/train/train_17802/train_17802_a/(…):   0%|          | 0.00/243M [00:00<?, ?B/s]"
      ]
     },
     "metadata": {},
     "output_type": "display_data"
    },
    {
     "name": "stdout",
     "output_type": "stream",
     "text": [
      "test all pooling\n",
      "Processing dataset/train/train_13576/train_13576_a/train_13576_a_1.nii.gz...\n"
     ]
    },
    {
     "data": {
      "application/vnd.jupyter.widget-view+json": {
       "model_id": "fd84c09bf70141abbeb538e9def9b98f",
       "version_major": 2,
       "version_minor": 0
      },
      "text/plain": [
       "dataset/train/train_13576/train_13576_a/(…):   0%|          | 0.00/275M [00:00<?, ?B/s]"
      ]
     },
     "metadata": {},
     "output_type": "display_data"
    },
    {
     "name": "stdout",
     "output_type": "stream",
     "text": [
      "test all pooling\n",
      "Processing dataset/train/train_4537/train_4537_b/train_4537_b_1.nii.gz...\n"
     ]
    },
    {
     "data": {
      "application/vnd.jupyter.widget-view+json": {
       "model_id": "0479643349504ce7b4e297eb817e979e",
       "version_major": 2,
       "version_minor": 0
      },
      "text/plain": [
       "dataset/train/train_4537/train_4537_b/tr(…):   0%|          | 0.00/378M [00:00<?, ?B/s]"
      ]
     },
     "metadata": {},
     "output_type": "display_data"
    },
    {
     "name": "stdout",
     "output_type": "stream",
     "text": [
      "test all pooling\n",
      "Processing dataset/train/train_1462/train_1462_b/train_1462_b_2.nii.gz...\n"
     ]
    },
    {
     "data": {
      "application/vnd.jupyter.widget-view+json": {
       "model_id": "295d37d3aedd4020bce99da60d063b89",
       "version_major": 2,
       "version_minor": 0
      },
      "text/plain": [
       "dataset/train/train_1462/train_1462_b/tr(…):   0%|          | 0.00/100M [00:00<?, ?B/s]"
      ]
     },
     "metadata": {},
     "output_type": "display_data"
    },
    {
     "name": "stdout",
     "output_type": "stream",
     "text": [
      "test all pooling\n",
      "Processing dataset/train/train_3675/train_3675_c/train_3675_c_1.nii.gz...\n"
     ]
    },
    {
     "data": {
      "application/vnd.jupyter.widget-view+json": {
       "model_id": "46f4db36088e487a8a3855d4f22309fc",
       "version_major": 2,
       "version_minor": 0
      },
      "text/plain": [
       "dataset/train/train_3675/train_3675_c/tr(…):   0%|          | 0.00/536M [00:00<?, ?B/s]"
      ]
     },
     "metadata": {},
     "output_type": "display_data"
    },
    {
     "name": "stdout",
     "output_type": "stream",
     "text": [
      "test all pooling\n",
      "Processing dataset/train/train_12778/train_12778_c/train_12778_c_2.nii.gz...\n"
     ]
    },
    {
     "data": {
      "application/vnd.jupyter.widget-view+json": {
       "model_id": "8dde86bd487f483d830a38bf4f0f41d8",
       "version_major": 2,
       "version_minor": 0
      },
      "text/plain": [
       "dataset/train/train_12778/train_12778_c/(…):   0%|          | 0.00/169M [00:00<?, ?B/s]"
      ]
     },
     "metadata": {},
     "output_type": "display_data"
    },
    {
     "name": "stdout",
     "output_type": "stream",
     "text": [
      "test all pooling\n",
      "Processing dataset/train/train_11001/train_11001_b/train_11001_b_2.nii.gz...\n"
     ]
    },
    {
     "data": {
      "application/vnd.jupyter.widget-view+json": {
       "model_id": "299b06f05cc748479b5c1a2f7cd13a62",
       "version_major": 2,
       "version_minor": 0
      },
      "text/plain": [
       "dataset/train/train_11001/train_11001_b/(…):   0%|          | 0.00/214M [00:00<?, ?B/s]"
      ]
     },
     "metadata": {},
     "output_type": "display_data"
    },
    {
     "name": "stdout",
     "output_type": "stream",
     "text": [
      "test all pooling\n",
      "Processing dataset/train/train_5378/train_5378_a/train_5378_a_1.nii.gz...\n"
     ]
    },
    {
     "data": {
      "application/vnd.jupyter.widget-view+json": {
       "model_id": "6e199c24eb144aa797c1cc6cd8112ec5",
       "version_major": 2,
       "version_minor": 0
      },
      "text/plain": [
       "dataset/train/train_5378/train_5378_a/tr(…):   0%|          | 0.00/528M [00:00<?, ?B/s]"
      ]
     },
     "metadata": {},
     "output_type": "display_data"
    },
    {
     "name": "stdout",
     "output_type": "stream",
     "text": [
      "test all pooling\n",
      "Processing dataset/train/train_6729/train_6729_a/train_6729_a_1.nii.gz...\n"
     ]
    },
    {
     "data": {
      "application/vnd.jupyter.widget-view+json": {
       "model_id": "43c67dc0b0714f7aaa9a0774a5016f3a",
       "version_major": 2,
       "version_minor": 0
      },
      "text/plain": [
       "dataset/train/train_6729/train_6729_a/tr(…):   0%|          | 0.00/117M [00:00<?, ?B/s]"
      ]
     },
     "metadata": {},
     "output_type": "display_data"
    },
    {
     "name": "stdout",
     "output_type": "stream",
     "text": [
      "test all pooling\n",
      "Processing dataset/train/train_10267/train_10267_a/train_10267_a_2.nii.gz...\n"
     ]
    },
    {
     "data": {
      "application/vnd.jupyter.widget-view+json": {
       "model_id": "9da130f439684bdda19e1365920dc21a",
       "version_major": 2,
       "version_minor": 0
      },
      "text/plain": [
       "dataset/train/train_10267/train_10267_a/(…):   0%|          | 0.00/224M [00:00<?, ?B/s]"
      ]
     },
     "metadata": {},
     "output_type": "display_data"
    },
    {
     "name": "stdout",
     "output_type": "stream",
     "text": [
      "test all pooling\n",
      "Processing dataset/train/train_1976/train_1976_a/train_1976_a_1.nii.gz...\n"
     ]
    },
    {
     "data": {
      "application/vnd.jupyter.widget-view+json": {
       "model_id": "7576717ad5d84b709522f74c412b9dcf",
       "version_major": 2,
       "version_minor": 0
      },
      "text/plain": [
       "dataset/train/train_1976/train_1976_a/tr(…):   0%|          | 0.00/450M [00:00<?, ?B/s]"
      ]
     },
     "metadata": {},
     "output_type": "display_data"
    },
    {
     "name": "stdout",
     "output_type": "stream",
     "text": [
      "test all pooling\n",
      "Processing dataset/train/train_4394/train_4394_a/train_4394_a_1.nii.gz...\n"
     ]
    },
    {
     "data": {
      "application/vnd.jupyter.widget-view+json": {
       "model_id": "a671a218329241e5bbd6e6fe64e536d0",
       "version_major": 2,
       "version_minor": 0
      },
      "text/plain": [
       "dataset/train/train_4394/train_4394_a/tr(…):   0%|          | 0.00/402M [00:00<?, ?B/s]"
      ]
     },
     "metadata": {},
     "output_type": "display_data"
    },
    {
     "name": "stdout",
     "output_type": "stream",
     "text": [
      "test all pooling\n",
      "Processing dataset/train/train_19256/train_19256_a/train_19256_a_1.nii.gz...\n"
     ]
    },
    {
     "data": {
      "application/vnd.jupyter.widget-view+json": {
       "model_id": "d84f91fca50f45bc9c35af8d68b2d94a",
       "version_major": 2,
       "version_minor": 0
      },
      "text/plain": [
       "dataset/train/train_19256/train_19256_a/(…):   0%|          | 0.00/273M [00:00<?, ?B/s]"
      ]
     },
     "metadata": {},
     "output_type": "display_data"
    },
    {
     "name": "stdout",
     "output_type": "stream",
     "text": [
      "test all pooling\n",
      "Processing dataset/train/train_2429/train_2429_a/train_2429_a_1.nii.gz...\n"
     ]
    },
    {
     "data": {
      "application/vnd.jupyter.widget-view+json": {
       "model_id": "83a815de6803481aa6ffe9b799a08c5e",
       "version_major": 2,
       "version_minor": 0
      },
      "text/plain": [
       "dataset/train/train_2429/train_2429_a/tr(…):   0%|          | 0.00/451M [00:00<?, ?B/s]"
      ]
     },
     "metadata": {},
     "output_type": "display_data"
    },
    {
     "name": "stdout",
     "output_type": "stream",
     "text": [
      "test all pooling\n",
      "Processing dataset/train/train_11267/train_11267_a/train_11267_a_2.nii.gz...\n"
     ]
    },
    {
     "data": {
      "application/vnd.jupyter.widget-view+json": {
       "model_id": "bdf1d0e5c0b34c0aacc93954181d07a3",
       "version_major": 2,
       "version_minor": 0
      },
      "text/plain": [
       "train_11267_a_2.nii.gz:   0%|          | 0.00/191M [00:00<?, ?B/s]"
      ]
     },
     "metadata": {},
     "output_type": "display_data"
    },
    {
     "name": "stdout",
     "output_type": "stream",
     "text": [
      "test all pooling\n",
      "Processing dataset/train/train_11896/train_11896_a/train_11896_a_1.nii.gz...\n"
     ]
    },
    {
     "data": {
      "application/vnd.jupyter.widget-view+json": {
       "model_id": "d71757d68f8a472ea89c92792a7c9815",
       "version_major": 2,
       "version_minor": 0
      },
      "text/plain": [
       "dataset/train/train_11896/train_11896_a/(…):   0%|          | 0.00/162M [00:00<?, ?B/s]"
      ]
     },
     "metadata": {},
     "output_type": "display_data"
    },
    {
     "name": "stdout",
     "output_type": "stream",
     "text": [
      "test all pooling\n",
      "Processing dataset/train/train_8654/train_8654_a/train_8654_a_2.nii.gz...\n"
     ]
    },
    {
     "data": {
      "application/vnd.jupyter.widget-view+json": {
       "model_id": "461cfb0231884bb4b62ea80d4ba0553d",
       "version_major": 2,
       "version_minor": 0
      },
      "text/plain": [
       "dataset/train/train_8654/train_8654_a/tr(…):   0%|          | 0.00/202M [00:00<?, ?B/s]"
      ]
     },
     "metadata": {},
     "output_type": "display_data"
    },
    {
     "name": "stdout",
     "output_type": "stream",
     "text": [
      "test all pooling\n",
      "Processing dataset/train/train_3863/train_3863_a/train_3863_a_1.nii.gz...\n"
     ]
    },
    {
     "data": {
      "application/vnd.jupyter.widget-view+json": {
       "model_id": "8441be8cd61a41b389b042ca4f2a341b",
       "version_major": 2,
       "version_minor": 0
      },
      "text/plain": [
       "dataset/train/train_3863/train_3863_a/tr(…):   0%|          | 0.00/463M [00:00<?, ?B/s]"
      ]
     },
     "metadata": {},
     "output_type": "display_data"
    },
    {
     "name": "stdout",
     "output_type": "stream",
     "text": [
      "test all pooling\n",
      "Processing dataset/train/train_12000/train_12000_a/train_12000_a_1.nii.gz...\n"
     ]
    },
    {
     "data": {
      "application/vnd.jupyter.widget-view+json": {
       "model_id": "ee6d121faa1f4de9bd350485a8489143",
       "version_major": 2,
       "version_minor": 0
      },
      "text/plain": [
       "dataset/train/train_12000/train_12000_a/(…):   0%|          | 0.00/144M [00:00<?, ?B/s]"
      ]
     },
     "metadata": {},
     "output_type": "display_data"
    },
    {
     "name": "stdout",
     "output_type": "stream",
     "text": [
      "test all pooling\n",
      "Processing dataset/train/train_7354/train_7354_a/train_7354_a_1.nii.gz...\n"
     ]
    },
    {
     "data": {
      "application/vnd.jupyter.widget-view+json": {
       "model_id": "3192324e3e0944f6b3f613f8848fa669",
       "version_major": 2,
       "version_minor": 0
      },
      "text/plain": [
       "dataset/train/train_7354/train_7354_a/tr(…):   0%|          | 0.00/235M [00:00<?, ?B/s]"
      ]
     },
     "metadata": {},
     "output_type": "display_data"
    },
    {
     "name": "stdout",
     "output_type": "stream",
     "text": [
      "test all pooling\n",
      "Processing dataset/train/train_7874/train_7874_a/train_7874_a_1.nii.gz...\n"
     ]
    },
    {
     "data": {
      "application/vnd.jupyter.widget-view+json": {
       "model_id": "4291d8bb44e54ac8b029f7defa1b5af8",
       "version_major": 2,
       "version_minor": 0
      },
      "text/plain": [
       "dataset/train/train_7874/train_7874_a/tr(…):   0%|          | 0.00/451M [00:00<?, ?B/s]"
      ]
     },
     "metadata": {},
     "output_type": "display_data"
    },
    {
     "name": "stdout",
     "output_type": "stream",
     "text": [
      "test all pooling\n",
      "Processing dataset/train/train_14010/train_14010_a/train_14010_a_1.nii.gz...\n"
     ]
    },
    {
     "data": {
      "application/vnd.jupyter.widget-view+json": {
       "model_id": "4076a9b30cb649f8a5bf5f265ddd2e99",
       "version_major": 2,
       "version_minor": 0
      },
      "text/plain": [
       "dataset/train/train_14010/train_14010_a/(…):   0%|          | 0.00/269M [00:00<?, ?B/s]"
      ]
     },
     "metadata": {},
     "output_type": "display_data"
    },
    {
     "name": "stdout",
     "output_type": "stream",
     "text": [
      "test all pooling\n",
      "Processing dataset/train/train_8396/train_8396_a/train_8396_a_1.nii.gz...\n"
     ]
    },
    {
     "data": {
      "application/vnd.jupyter.widget-view+json": {
       "model_id": "91d8c4a655eb4430af00f95506363ad7",
       "version_major": 2,
       "version_minor": 0
      },
      "text/plain": [
       "dataset/train/train_8396/train_8396_a/tr(…):   0%|          | 0.00/136M [00:00<?, ?B/s]"
      ]
     },
     "metadata": {},
     "output_type": "display_data"
    },
    {
     "name": "stdout",
     "output_type": "stream",
     "text": [
      "test all pooling\n",
      "Processing dataset/train/train_9831/train_9831_a/train_9831_a_1.nii.gz...\n"
     ]
    },
    {
     "data": {
      "application/vnd.jupyter.widget-view+json": {
       "model_id": "e7adfc7d36b947808f8bffa8906412af",
       "version_major": 2,
       "version_minor": 0
      },
      "text/plain": [
       "dataset/train/train_9831/train_9831_a/tr(…):   0%|          | 0.00/122M [00:00<?, ?B/s]"
      ]
     },
     "metadata": {},
     "output_type": "display_data"
    },
    {
     "name": "stdout",
     "output_type": "stream",
     "text": [
      "test all pooling\n",
      "Processing dataset/train/train_488/train_488_a/train_488_a_1.nii.gz...\n"
     ]
    },
    {
     "data": {
      "application/vnd.jupyter.widget-view+json": {
       "model_id": "0e8e3890e6c74e9ea1742a0ccc7846d7",
       "version_major": 2,
       "version_minor": 0
      },
      "text/plain": [
       "dataset/train/train_488/train_488_a/trai(…):   0%|          | 0.00/142M [00:00<?, ?B/s]"
      ]
     },
     "metadata": {},
     "output_type": "display_data"
    },
    {
     "name": "stdout",
     "output_type": "stream",
     "text": [
      "test all pooling\n",
      "Processing dataset/train/train_10097/train_10097_a/train_10097_a_1.nii.gz...\n"
     ]
    },
    {
     "data": {
      "application/vnd.jupyter.widget-view+json": {
       "model_id": "8694d31e27ab481dad3fe6549190e094",
       "version_major": 2,
       "version_minor": 0
      },
      "text/plain": [
       "dataset/train/train_10097/train_10097_a/(…):   0%|          | 0.00/83.8M [00:00<?, ?B/s]"
      ]
     },
     "metadata": {},
     "output_type": "display_data"
    },
    {
     "name": "stdout",
     "output_type": "stream",
     "text": [
      "test all pooling\n",
      "Processing dataset/train/train_14587/train_14587_a/train_14587_a_1.nii.gz...\n"
     ]
    },
    {
     "data": {
      "application/vnd.jupyter.widget-view+json": {
       "model_id": "a11bd17f26ff4d539b229f6a09b758e8",
       "version_major": 2,
       "version_minor": 0
      },
      "text/plain": [
       "dataset/train/train_14587/train_14587_a/(…):   0%|          | 0.00/531M [00:00<?, ?B/s]"
      ]
     },
     "metadata": {},
     "output_type": "display_data"
    },
    {
     "name": "stdout",
     "output_type": "stream",
     "text": [
      "test all pooling\n",
      "Processing dataset/train/train_4488/train_4488_a/train_4488_a_1.nii.gz...\n"
     ]
    },
    {
     "data": {
      "application/vnd.jupyter.widget-view+json": {
       "model_id": "174bb52e3922498399039269949d52db",
       "version_major": 2,
       "version_minor": 0
      },
      "text/plain": [
       "dataset/train/train_4488/train_4488_a/tr(…):   0%|          | 0.00/106M [00:00<?, ?B/s]"
      ]
     },
     "metadata": {},
     "output_type": "display_data"
    },
    {
     "name": "stdout",
     "output_type": "stream",
     "text": [
      "test all pooling\n",
      "Processing dataset/train/train_12928/train_12928_a/train_12928_a_1.nii.gz...\n"
     ]
    },
    {
     "data": {
      "application/vnd.jupyter.widget-view+json": {
       "model_id": "acb543ac88d9484a8960d8547916e650",
       "version_major": 2,
       "version_minor": 0
      },
      "text/plain": [
       "dataset/train/train_12928/train_12928_a/(…):   0%|          | 0.00/493M [00:00<?, ?B/s]"
      ]
     },
     "metadata": {},
     "output_type": "display_data"
    },
    {
     "name": "stdout",
     "output_type": "stream",
     "text": [
      "test all pooling\n",
      "Processing dataset/train/train_9611/train_9611_a/train_9611_a_1.nii.gz...\n"
     ]
    },
    {
     "data": {
      "application/vnd.jupyter.widget-view+json": {
       "model_id": "57b60785cd8d430b8e9d47a3d3dc0ed0",
       "version_major": 2,
       "version_minor": 0
      },
      "text/plain": [
       "dataset/train/train_9611/train_9611_a/tr(…):   0%|          | 0.00/105M [00:00<?, ?B/s]"
      ]
     },
     "metadata": {},
     "output_type": "display_data"
    },
    {
     "name": "stdout",
     "output_type": "stream",
     "text": [
      "test all pooling\n",
      "Processing dataset/train/train_16841/train_16841_a/train_16841_a_1.nii.gz...\n"
     ]
    },
    {
     "data": {
      "application/vnd.jupyter.widget-view+json": {
       "model_id": "83b394d697ce4c54855d0c7a2b35ae49",
       "version_major": 2,
       "version_minor": 0
      },
      "text/plain": [
       "dataset/train/train_16841/train_16841_a/(…):   0%|          | 0.00/475M [00:00<?, ?B/s]"
      ]
     },
     "metadata": {},
     "output_type": "display_data"
    },
    {
     "name": "stdout",
     "output_type": "stream",
     "text": [
      "test all pooling\n",
      "Processing dataset/train/train_17729/train_17729_a/train_17729_a_2.nii.gz...\n"
     ]
    },
    {
     "data": {
      "application/vnd.jupyter.widget-view+json": {
       "model_id": "6bf34b5974f14b8495cc9c679b7581b8",
       "version_major": 2,
       "version_minor": 0
      },
      "text/plain": [
       "dataset/train/train_17729/train_17729_a/(…):   0%|          | 0.00/205M [00:00<?, ?B/s]"
      ]
     },
     "metadata": {},
     "output_type": "display_data"
    },
    {
     "name": "stdout",
     "output_type": "stream",
     "text": [
      "test all pooling\n",
      "Processing dataset/train/train_5410/train_5410_a/train_5410_a_2.nii.gz...\n"
     ]
    },
    {
     "data": {
      "application/vnd.jupyter.widget-view+json": {
       "model_id": "32f8dd8cb303421ebf53c363bd34f449",
       "version_major": 2,
       "version_minor": 0
      },
      "text/plain": [
       "dataset/train/train_5410/train_5410_a/tr(…):   0%|          | 0.00/159M [00:00<?, ?B/s]"
      ]
     },
     "metadata": {},
     "output_type": "display_data"
    },
    {
     "name": "stdout",
     "output_type": "stream",
     "text": [
      "test all pooling\n",
      "Processing dataset/train/train_389/train_389_a/train_389_a_2.nii.gz...\n"
     ]
    },
    {
     "data": {
      "application/vnd.jupyter.widget-view+json": {
       "model_id": "63536dc6628d477a880ade99c986b2c5",
       "version_major": 2,
       "version_minor": 0
      },
      "text/plain": [
       "dataset/train/train_389/train_389_a/trai(…):   0%|          | 0.00/205M [00:00<?, ?B/s]"
      ]
     },
     "metadata": {},
     "output_type": "display_data"
    },
    {
     "name": "stdout",
     "output_type": "stream",
     "text": [
      "test all pooling\n",
      "Processing dataset/train/train_6162/train_6162_a/train_6162_a_2.nii.gz...\n"
     ]
    },
    {
     "data": {
      "application/vnd.jupyter.widget-view+json": {
       "model_id": "d2dd1329fb594716b3d1d2e778274f36",
       "version_major": 2,
       "version_minor": 0
      },
      "text/plain": [
       "dataset/train/train_6162/train_6162_a/tr(…):   0%|          | 0.00/212M [00:00<?, ?B/s]"
      ]
     },
     "metadata": {},
     "output_type": "display_data"
    },
    {
     "name": "stdout",
     "output_type": "stream",
     "text": [
      "test all pooling\n",
      "Processing dataset/train/train_19974/train_19974_a/train_19974_a_1.nii.gz...\n"
     ]
    },
    {
     "data": {
      "application/vnd.jupyter.widget-view+json": {
       "model_id": "cf792a60a6e24e66b92ff29f02aadd5b",
       "version_major": 2,
       "version_minor": 0
      },
      "text/plain": [
       "dataset/train/train_19974/train_19974_a/(…):   0%|          | 0.00/160M [00:00<?, ?B/s]"
      ]
     },
     "metadata": {},
     "output_type": "display_data"
    },
    {
     "name": "stdout",
     "output_type": "stream",
     "text": [
      "test all pooling\n",
      "Processing dataset/train/train_16207/train_16207_a/train_16207_a_2.nii.gz...\n"
     ]
    },
    {
     "data": {
      "application/vnd.jupyter.widget-view+json": {
       "model_id": "562739b48e0a4271b5535c41b669beae",
       "version_major": 2,
       "version_minor": 0
      },
      "text/plain": [
       "dataset/train/train_16207/train_16207_a/(…):   0%|          | 0.00/224M [00:00<?, ?B/s]"
      ]
     },
     "metadata": {},
     "output_type": "display_data"
    },
    {
     "name": "stdout",
     "output_type": "stream",
     "text": [
      "test all pooling\n",
      "Processing dataset/train/train_11585/train_11585_a/train_11585_a_2.nii.gz...\n"
     ]
    },
    {
     "data": {
      "application/vnd.jupyter.widget-view+json": {
       "model_id": "27e4c27732d44eefbb27e62499190513",
       "version_major": 2,
       "version_minor": 0
      },
      "text/plain": [
       "dataset/train/train_11585/train_11585_a/(…):   0%|          | 0.00/242M [00:00<?, ?B/s]"
      ]
     },
     "metadata": {},
     "output_type": "display_data"
    },
    {
     "name": "stdout",
     "output_type": "stream",
     "text": [
      "test all pooling\n",
      "Processing dataset/train/train_6765/train_6765_a/train_6765_a_1.nii.gz...\n"
     ]
    },
    {
     "data": {
      "application/vnd.jupyter.widget-view+json": {
       "model_id": "0fe3d00ec13545b89ae3bc86152309ae",
       "version_major": 2,
       "version_minor": 0
      },
      "text/plain": [
       "dataset/train/train_6765/train_6765_a/tr(…):   0%|          | 0.00/550M [00:00<?, ?B/s]"
      ]
     },
     "metadata": {},
     "output_type": "display_data"
    },
    {
     "name": "stdout",
     "output_type": "stream",
     "text": [
      "test all pooling\n",
      "Processing dataset/train/train_12315/train_12315_a/train_12315_a_1.nii.gz...\n"
     ]
    },
    {
     "data": {
      "application/vnd.jupyter.widget-view+json": {
       "model_id": "12022fa30cbc447db02fbfbc96685173",
       "version_major": 2,
       "version_minor": 0
      },
      "text/plain": [
       "dataset/train/train_12315/train_12315_a/(…):   0%|          | 0.00/468M [00:00<?, ?B/s]"
      ]
     },
     "metadata": {},
     "output_type": "display_data"
    },
    {
     "name": "stdout",
     "output_type": "stream",
     "text": [
      "test all pooling\n",
      "Processing dataset/train/train_5972/train_5972_a/train_5972_a_2.nii.gz...\n"
     ]
    },
    {
     "data": {
      "application/vnd.jupyter.widget-view+json": {
       "model_id": "9b2152e4a40149088b28505faadbcff0",
       "version_major": 2,
       "version_minor": 0
      },
      "text/plain": [
       "dataset/train/train_5972/train_5972_a/tr(…):   0%|          | 0.00/116M [00:00<?, ?B/s]"
      ]
     },
     "metadata": {},
     "output_type": "display_data"
    },
    {
     "name": "stdout",
     "output_type": "stream",
     "text": [
      "test all pooling\n",
      "Processing dataset/train/train_14075/train_14075_a/train_14075_a_1.nii.gz...\n"
     ]
    },
    {
     "data": {
      "application/vnd.jupyter.widget-view+json": {
       "model_id": "2c9e994324d34716babe9bb3d3adc28e",
       "version_major": 2,
       "version_minor": 0
      },
      "text/plain": [
       "dataset/train/train_14075/train_14075_a/(…):   0%|          | 0.00/250M [00:00<?, ?B/s]"
      ]
     },
     "metadata": {},
     "output_type": "display_data"
    },
    {
     "name": "stdout",
     "output_type": "stream",
     "text": [
      "test all pooling\n",
      "Processing dataset/train/train_7080/train_7080_a/train_7080_a_2.nii.gz...\n"
     ]
    },
    {
     "data": {
      "application/vnd.jupyter.widget-view+json": {
       "model_id": "74b0c4651c3741e88ebd7fe09a33c00b",
       "version_major": 2,
       "version_minor": 0
      },
      "text/plain": [
       "dataset/train/train_7080/train_7080_a/tr(…):   0%|          | 0.00/173M [00:00<?, ?B/s]"
      ]
     },
     "metadata": {},
     "output_type": "display_data"
    },
    {
     "name": "stdout",
     "output_type": "stream",
     "text": [
      "test all pooling\n",
      "Processing dataset/train/train_17867/train_17867_a/train_17867_a_3.nii.gz...\n"
     ]
    },
    {
     "data": {
      "application/vnd.jupyter.widget-view+json": {
       "model_id": "9e18158c1e0647f8a14c0c54b4a7df8a",
       "version_major": 2,
       "version_minor": 0
      },
      "text/plain": [
       "dataset/train/train_17867/train_17867_a/(…):   0%|          | 0.00/529M [00:00<?, ?B/s]"
      ]
     },
     "metadata": {},
     "output_type": "display_data"
    },
    {
     "name": "stdout",
     "output_type": "stream",
     "text": [
      "test all pooling\n",
      "Processing dataset/train/train_12972/train_12972_a/train_12972_a_2.nii.gz...\n"
     ]
    },
    {
     "data": {
      "application/vnd.jupyter.widget-view+json": {
       "model_id": "42eb48c6a4f0402eb74548741ef210ff",
       "version_major": 2,
       "version_minor": 0
      },
      "text/plain": [
       "dataset/train/train_12972/train_12972_a/(…):   0%|          | 0.00/238M [00:00<?, ?B/s]"
      ]
     },
     "metadata": {},
     "output_type": "display_data"
    },
    {
     "name": "stdout",
     "output_type": "stream",
     "text": [
      "test all pooling\n",
      "Processing dataset/train/train_11755/train_11755_a/train_11755_a_1.nii.gz...\n"
     ]
    },
    {
     "data": {
      "application/vnd.jupyter.widget-view+json": {
       "model_id": "71e5feb088af478698ae1846f579a3bd",
       "version_major": 2,
       "version_minor": 0
      },
      "text/plain": [
       "dataset/train/train_11755/train_11755_a/(…):   0%|          | 0.00/100M [00:00<?, ?B/s]"
      ]
     },
     "metadata": {},
     "output_type": "display_data"
    },
    {
     "name": "stdout",
     "output_type": "stream",
     "text": [
      "test all pooling\n",
      "Processing dataset/train/train_11885/train_11885_a/train_11885_a_1.nii.gz...\n"
     ]
    },
    {
     "data": {
      "application/vnd.jupyter.widget-view+json": {
       "model_id": "e57f6c4709514df5bbbaef564c67ebfa",
       "version_major": 2,
       "version_minor": 0
      },
      "text/plain": [
       "dataset/train/train_11885/train_11885_a/(…):   0%|          | 0.00/138M [00:00<?, ?B/s]"
      ]
     },
     "metadata": {},
     "output_type": "display_data"
    },
    {
     "name": "stdout",
     "output_type": "stream",
     "text": [
      "test all pooling\n",
      "Processing dataset/train/train_1458/train_1458_a/train_1458_a_1.nii.gz...\n"
     ]
    },
    {
     "data": {
      "application/vnd.jupyter.widget-view+json": {
       "model_id": "4f0a29cf6d164c60b438d25466272053",
       "version_major": 2,
       "version_minor": 0
      },
      "text/plain": [
       "dataset/train/train_1458/train_1458_a/tr(…):   0%|          | 0.00/71.8M [00:00<?, ?B/s]"
      ]
     },
     "metadata": {},
     "output_type": "display_data"
    },
    {
     "name": "stdout",
     "output_type": "stream",
     "text": [
      "test all pooling\n",
      "Processing dataset/train/train_9407/train_9407_b/train_9407_b_2.nii.gz...\n"
     ]
    },
    {
     "data": {
      "application/vnd.jupyter.widget-view+json": {
       "model_id": "955b7475c65049c5a13bed4813677505",
       "version_major": 2,
       "version_minor": 0
      },
      "text/plain": [
       "dataset/train/train_9407/train_9407_b/tr(…):   0%|          | 0.00/232M [00:00<?, ?B/s]"
      ]
     },
     "metadata": {},
     "output_type": "display_data"
    },
    {
     "name": "stdout",
     "output_type": "stream",
     "text": [
      "test all pooling\n",
      "Processing dataset/train/train_18439/train_18439_a/train_18439_a_1.nii.gz...\n"
     ]
    },
    {
     "data": {
      "application/vnd.jupyter.widget-view+json": {
       "model_id": "916813f84f7347c695ffb303fa3a5e0a",
       "version_major": 2,
       "version_minor": 0
      },
      "text/plain": [
       "dataset/train/train_18439/train_18439_a/(…):   0%|          | 0.00/97.9M [00:00<?, ?B/s]"
      ]
     },
     "metadata": {},
     "output_type": "display_data"
    },
    {
     "name": "stdout",
     "output_type": "stream",
     "text": [
      "test all pooling\n",
      "Processing dataset/train/train_7412/train_7412_a/train_7412_a_2.nii.gz...\n"
     ]
    },
    {
     "data": {
      "application/vnd.jupyter.widget-view+json": {
       "model_id": "a1120989dd6842e981375e829066c8bf",
       "version_major": 2,
       "version_minor": 0
      },
      "text/plain": [
       "dataset/train/train_7412/train_7412_a/tr(…):   0%|          | 0.00/186M [00:00<?, ?B/s]"
      ]
     },
     "metadata": {},
     "output_type": "display_data"
    },
    {
     "name": "stdout",
     "output_type": "stream",
     "text": [
      "test all pooling\n",
      "Processing dataset/train/train_9455/train_9455_b/train_9455_b_1.nii.gz...\n"
     ]
    },
    {
     "data": {
      "application/vnd.jupyter.widget-view+json": {
       "model_id": "60a5c5a5d50449629c8a7669de7810ab",
       "version_major": 2,
       "version_minor": 0
      },
      "text/plain": [
       "dataset/train/train_9455/train_9455_b/tr(…):   0%|          | 0.00/141M [00:00<?, ?B/s]"
      ]
     },
     "metadata": {},
     "output_type": "display_data"
    },
    {
     "name": "stdout",
     "output_type": "stream",
     "text": [
      "test all pooling\n",
      "Processing dataset/train/train_13595/train_13595_a/train_13595_a_2.nii.gz...\n"
     ]
    },
    {
     "data": {
      "application/vnd.jupyter.widget-view+json": {
       "model_id": "03f5c7668ab549708e9a614d6564b982",
       "version_major": 2,
       "version_minor": 0
      },
      "text/plain": [
       "dataset/train/train_13595/train_13595_a/(…):   0%|          | 0.00/229M [00:00<?, ?B/s]"
      ]
     },
     "metadata": {},
     "output_type": "display_data"
    },
    {
     "name": "stdout",
     "output_type": "stream",
     "text": [
      "test all pooling\n",
      "Processing dataset/train/train_4061/train_4061_a/train_4061_a_2.nii.gz...\n"
     ]
    },
    {
     "data": {
      "application/vnd.jupyter.widget-view+json": {
       "model_id": "2adc46b9ccc34efda2b806b7a7dccbb1",
       "version_major": 2,
       "version_minor": 0
      },
      "text/plain": [
       "dataset/train/train_4061/train_4061_a/tr(…):   0%|          | 0.00/161M [00:00<?, ?B/s]"
      ]
     },
     "metadata": {},
     "output_type": "display_data"
    },
    {
     "name": "stdout",
     "output_type": "stream",
     "text": [
      "test all pooling\n",
      "Processing dataset/train/train_3510/train_3510_a/train_3510_a_2.nii.gz...\n"
     ]
    },
    {
     "data": {
      "application/vnd.jupyter.widget-view+json": {
       "model_id": "57908709b99d4803ab4229e0f4ca0c22",
       "version_major": 2,
       "version_minor": 0
      },
      "text/plain": [
       "dataset/train/train_3510/train_3510_a/tr(…):   0%|          | 0.00/45.1M [00:00<?, ?B/s]"
      ]
     },
     "metadata": {},
     "output_type": "display_data"
    },
    {
     "name": "stdout",
     "output_type": "stream",
     "text": [
      "test all pooling\n",
      "Processing dataset/train/train_10666/train_10666_a/train_10666_a_2.nii.gz...\n"
     ]
    },
    {
     "data": {
      "application/vnd.jupyter.widget-view+json": {
       "model_id": "ea205f175c9d403eb3a125238f0364eb",
       "version_major": 2,
       "version_minor": 0
      },
      "text/plain": [
       "dataset/train/train_10666/train_10666_a/(…):   0%|          | 0.00/192M [00:00<?, ?B/s]"
      ]
     },
     "metadata": {},
     "output_type": "display_data"
    },
    {
     "name": "stdout",
     "output_type": "stream",
     "text": [
      "test all pooling\n",
      "Processing dataset/train/train_8006/train_8006_a/train_8006_a_1.nii.gz...\n"
     ]
    },
    {
     "data": {
      "application/vnd.jupyter.widget-view+json": {
       "model_id": "cefd9df2a25c46beb55e1b2b624a8568",
       "version_major": 2,
       "version_minor": 0
      },
      "text/plain": [
       "dataset/train/train_8006/train_8006_a/tr(…):   0%|          | 0.00/535M [00:00<?, ?B/s]"
      ]
     },
     "metadata": {},
     "output_type": "display_data"
    },
    {
     "name": "stdout",
     "output_type": "stream",
     "text": [
      "test all pooling\n",
      "Processing dataset/train/train_19301/train_19301_a/train_19301_a_1.nii.gz...\n"
     ]
    },
    {
     "data": {
      "application/vnd.jupyter.widget-view+json": {
       "model_id": "a69aa4f4654548f89c80f9627d7900ad",
       "version_major": 2,
       "version_minor": 0
      },
      "text/plain": [
       "dataset/train/train_19301/train_19301_a/(…):   0%|          | 0.00/138M [00:00<?, ?B/s]"
      ]
     },
     "metadata": {},
     "output_type": "display_data"
    },
    {
     "name": "stdout",
     "output_type": "stream",
     "text": [
      "test all pooling\n",
      "Processing dataset/train/train_18458/train_18458_a/train_18458_a_2.nii.gz...\n"
     ]
    },
    {
     "data": {
      "application/vnd.jupyter.widget-view+json": {
       "model_id": "b581b9e676a34983a147001a8c7578a0",
       "version_major": 2,
       "version_minor": 0
      },
      "text/plain": [
       "dataset/train/train_18458/train_18458_a/(…):   0%|          | 0.00/227M [00:00<?, ?B/s]"
      ]
     },
     "metadata": {},
     "output_type": "display_data"
    },
    {
     "name": "stdout",
     "output_type": "stream",
     "text": [
      "test all pooling\n",
      "Processing dataset/train/train_16717/train_16717_a/train_16717_a_1.nii.gz...\n"
     ]
    },
    {
     "data": {
      "application/vnd.jupyter.widget-view+json": {
       "model_id": "f95d943940e34a86ba6c03a77b70f98e",
       "version_major": 2,
       "version_minor": 0
      },
      "text/plain": [
       "dataset/train/train_16717/train_16717_a/(…):   0%|          | 0.00/73.3M [00:00<?, ?B/s]"
      ]
     },
     "metadata": {},
     "output_type": "display_data"
    },
    {
     "name": "stdout",
     "output_type": "stream",
     "text": [
      "test all pooling\n",
      "Processing dataset/train/train_16179/train_16179_a/train_16179_a_1.nii.gz...\n"
     ]
    },
    {
     "data": {
      "application/vnd.jupyter.widget-view+json": {
       "model_id": "54d7acf6d3ca439d883cce6bd90b959a",
       "version_major": 2,
       "version_minor": 0
      },
      "text/plain": [
       "dataset/train/train_16179/train_16179_a/(…):   0%|          | 0.00/460M [00:00<?, ?B/s]"
      ]
     },
     "metadata": {},
     "output_type": "display_data"
    },
    {
     "name": "stdout",
     "output_type": "stream",
     "text": [
      "test all pooling\n",
      "Processing dataset/train/train_9593/train_9593_a/train_9593_a_1.nii.gz...\n"
     ]
    },
    {
     "data": {
      "application/vnd.jupyter.widget-view+json": {
       "model_id": "d8c2efe3144f4257840559bef768f331",
       "version_major": 2,
       "version_minor": 0
      },
      "text/plain": [
       "dataset/train/train_9593/train_9593_a/tr(…):   0%|          | 0.00/537M [00:00<?, ?B/s]"
      ]
     },
     "metadata": {},
     "output_type": "display_data"
    },
    {
     "name": "stdout",
     "output_type": "stream",
     "text": [
      "test all pooling\n",
      "Processing dataset/train/train_7170/train_7170_a/train_7170_a_1.nii.gz...\n"
     ]
    },
    {
     "data": {
      "application/vnd.jupyter.widget-view+json": {
       "model_id": "06e143b8e32442d8846e392c0e3b75f1",
       "version_major": 2,
       "version_minor": 0
      },
      "text/plain": [
       "dataset/train/train_7170/train_7170_a/tr(…):   0%|          | 0.00/260M [00:00<?, ?B/s]"
      ]
     },
     "metadata": {},
     "output_type": "display_data"
    },
    {
     "name": "stdout",
     "output_type": "stream",
     "text": [
      "test all pooling\n",
      "Processing dataset/train/train_11356/train_11356_a/train_11356_a_2.nii.gz...\n"
     ]
    },
    {
     "data": {
      "application/vnd.jupyter.widget-view+json": {
       "model_id": "27361b69fcd84a25ba9ad593111a1356",
       "version_major": 2,
       "version_minor": 0
      },
      "text/plain": [
       "dataset/train/train_11356/train_11356_a/(…):   0%|          | 0.00/220M [00:00<?, ?B/s]"
      ]
     },
     "metadata": {},
     "output_type": "display_data"
    },
    {
     "name": "stdout",
     "output_type": "stream",
     "text": [
      "test all pooling\n",
      "Processing dataset/train/train_5243/train_5243_a/train_5243_a_1.nii.gz...\n"
     ]
    },
    {
     "data": {
      "application/vnd.jupyter.widget-view+json": {
       "model_id": "4f21b90f96b748639367f8365c130b62",
       "version_major": 2,
       "version_minor": 0
      },
      "text/plain": [
       "dataset/train/train_5243/train_5243_a/tr(…):   0%|          | 0.00/168M [00:00<?, ?B/s]"
      ]
     },
     "metadata": {},
     "output_type": "display_data"
    },
    {
     "name": "stdout",
     "output_type": "stream",
     "text": [
      "test all pooling\n",
      "Processing dataset/train/train_3433/train_3433_a/train_3433_a_1.nii.gz...\n"
     ]
    },
    {
     "data": {
      "application/vnd.jupyter.widget-view+json": {
       "model_id": "256c438c5bee4097916bedebc7d34c8f",
       "version_major": 2,
       "version_minor": 0
      },
      "text/plain": [
       "dataset/train/train_3433/train_3433_a/tr(…):   0%|          | 0.00/141M [00:00<?, ?B/s]"
      ]
     },
     "metadata": {},
     "output_type": "display_data"
    },
    {
     "name": "stdout",
     "output_type": "stream",
     "text": [
      "test all pooling\n",
      "Processing dataset/train/train_2640/train_2640_a/train_2640_a_2.nii.gz...\n"
     ]
    },
    {
     "data": {
      "application/vnd.jupyter.widget-view+json": {
       "model_id": "63d6d22a2f924b469e71f9e10982705e",
       "version_major": 2,
       "version_minor": 0
      },
      "text/plain": [
       "dataset/train/train_2640/train_2640_a/tr(…):   0%|          | 0.00/217M [00:00<?, ?B/s]"
      ]
     },
     "metadata": {},
     "output_type": "display_data"
    },
    {
     "name": "stdout",
     "output_type": "stream",
     "text": [
      "test all pooling\n",
      "Processing dataset/train/train_11811/train_11811_a/train_11811_a_1.nii.gz...\n"
     ]
    },
    {
     "data": {
      "application/vnd.jupyter.widget-view+json": {
       "model_id": "9cf263e023d1467c9709c2fc2daab227",
       "version_major": 2,
       "version_minor": 0
      },
      "text/plain": [
       "dataset/train/train_11811/train_11811_a/(…):   0%|          | 0.00/288M [00:00<?, ?B/s]"
      ]
     },
     "metadata": {},
     "output_type": "display_data"
    },
    {
     "name": "stdout",
     "output_type": "stream",
     "text": [
      "test all pooling\n",
      "Processing dataset/train/train_4969/train_4969_a/train_4969_a_1.nii.gz...\n"
     ]
    },
    {
     "data": {
      "application/vnd.jupyter.widget-view+json": {
       "model_id": "7c773c34c6574d42aa349b02c9caea20",
       "version_major": 2,
       "version_minor": 0
      },
      "text/plain": [
       "dataset/train/train_4969/train_4969_a/tr(…):   0%|          | 0.00/280M [00:00<?, ?B/s]"
      ]
     },
     "metadata": {},
     "output_type": "display_data"
    },
    {
     "name": "stdout",
     "output_type": "stream",
     "text": [
      "test all pooling\n",
      "Processing dataset/train/train_15372/train_15372_a/train_15372_a_1.nii.gz...\n"
     ]
    },
    {
     "data": {
      "application/vnd.jupyter.widget-view+json": {
       "model_id": "cc65fa8c8dbc498a88e3ccc8186d4633",
       "version_major": 2,
       "version_minor": 0
      },
      "text/plain": [
       "dataset/train/train_15372/train_15372_a/(…):   0%|          | 0.00/108M [00:00<?, ?B/s]"
      ]
     },
     "metadata": {},
     "output_type": "display_data"
    },
    {
     "name": "stdout",
     "output_type": "stream",
     "text": [
      "test all pooling\n",
      "Processing dataset/train/train_7592/train_7592_c/train_7592_c_2.nii.gz...\n"
     ]
    },
    {
     "data": {
      "application/vnd.jupyter.widget-view+json": {
       "model_id": "3c2de82f048646e9ab0b6f39a95562c6",
       "version_major": 2,
       "version_minor": 0
      },
      "text/plain": [
       "dataset/train/train_7592/train_7592_c/tr(…):   0%|          | 0.00/109M [00:00<?, ?B/s]"
      ]
     },
     "metadata": {},
     "output_type": "display_data"
    },
    {
     "name": "stdout",
     "output_type": "stream",
     "text": [
      "test all pooling\n",
      "Processing dataset/train/train_10890/train_10890_a/train_10890_a_2.nii.gz...\n"
     ]
    },
    {
     "data": {
      "application/vnd.jupyter.widget-view+json": {
       "model_id": "60f1f201a8cb4ee78b3849cbd2491df1",
       "version_major": 2,
       "version_minor": 0
      },
      "text/plain": [
       "dataset/train/train_10890/train_10890_a/(…):   0%|          | 0.00/221M [00:00<?, ?B/s]"
      ]
     },
     "metadata": {},
     "output_type": "display_data"
    },
    {
     "name": "stdout",
     "output_type": "stream",
     "text": [
      "test all pooling\n",
      "Processing dataset/train/train_7115/train_7115_a/train_7115_a_2.nii.gz...\n"
     ]
    },
    {
     "data": {
      "application/vnd.jupyter.widget-view+json": {
       "model_id": "e7f04b2a873146baa85f5ce8e692ad73",
       "version_major": 2,
       "version_minor": 0
      },
      "text/plain": [
       "dataset/train/train_7115/train_7115_a/tr(…):   0%|          | 0.00/226M [00:00<?, ?B/s]"
      ]
     },
     "metadata": {},
     "output_type": "display_data"
    },
    {
     "name": "stdout",
     "output_type": "stream",
     "text": [
      "test all pooling\n",
      "Processing dataset/train/train_6394/train_6394_a/train_6394_a_1.nii.gz...\n"
     ]
    },
    {
     "data": {
      "application/vnd.jupyter.widget-view+json": {
       "model_id": "e5ba813411b34b3c96979efd458c5e6a",
       "version_major": 2,
       "version_minor": 0
      },
      "text/plain": [
       "dataset/train/train_6394/train_6394_a/tr(…):   0%|          | 0.00/463M [00:00<?, ?B/s]"
      ]
     },
     "metadata": {},
     "output_type": "display_data"
    },
    {
     "name": "stdout",
     "output_type": "stream",
     "text": [
      "test all pooling\n",
      "Processing dataset/train/train_3294/train_3294_a/train_3294_a_2.nii.gz...\n"
     ]
    },
    {
     "data": {
      "application/vnd.jupyter.widget-view+json": {
       "model_id": "44af1e429f2440cea00d8696525a4eb1",
       "version_major": 2,
       "version_minor": 0
      },
      "text/plain": [
       "dataset/train/train_3294/train_3294_a/tr(…):   0%|          | 0.00/237M [00:00<?, ?B/s]"
      ]
     },
     "metadata": {},
     "output_type": "display_data"
    },
    {
     "name": "stdout",
     "output_type": "stream",
     "text": [
      "test all pooling\n",
      "Processing dataset/train/train_14994/train_14994_a/train_14994_a_1.nii.gz...\n"
     ]
    },
    {
     "data": {
      "application/vnd.jupyter.widget-view+json": {
       "model_id": "58ae1d4c753348528536d1f98effb879",
       "version_major": 2,
       "version_minor": 0
      },
      "text/plain": [
       "dataset/train/train_14994/train_14994_a/(…):   0%|          | 0.00/157M [00:00<?, ?B/s]"
      ]
     },
     "metadata": {},
     "output_type": "display_data"
    },
    {
     "name": "stdout",
     "output_type": "stream",
     "text": [
      "test all pooling\n",
      "Processing dataset/train/train_18325/train_18325_a/train_18325_a_2.nii.gz...\n"
     ]
    },
    {
     "data": {
      "application/vnd.jupyter.widget-view+json": {
       "model_id": "e62abd02a3a548fb938c66cf7b0cfae2",
       "version_major": 2,
       "version_minor": 0
      },
      "text/plain": [
       "dataset/train/train_18325/train_18325_a/(…):   0%|          | 0.00/175M [00:00<?, ?B/s]"
      ]
     },
     "metadata": {},
     "output_type": "display_data"
    },
    {
     "name": "stdout",
     "output_type": "stream",
     "text": [
      "test all pooling\n",
      "Processing dataset/train/train_17344/train_17344_a/train_17344_a_2.nii.gz...\n"
     ]
    },
    {
     "data": {
      "application/vnd.jupyter.widget-view+json": {
       "model_id": "2da893c45cf7448e8d0be70a8c4bed82",
       "version_major": 2,
       "version_minor": 0
      },
      "text/plain": [
       "dataset/train/train_17344/train_17344_a/(…):   0%|          | 0.00/219M [00:00<?, ?B/s]"
      ]
     },
     "metadata": {},
     "output_type": "display_data"
    },
    {
     "name": "stdout",
     "output_type": "stream",
     "text": [
      "test all pooling\n",
      "Processing dataset/train/train_7584/train_7584_c/train_7584_c_2.nii.gz...\n"
     ]
    },
    {
     "data": {
      "application/vnd.jupyter.widget-view+json": {
       "model_id": "67f364e9cf754758a42ebf12ef510d01",
       "version_major": 2,
       "version_minor": 0
      },
      "text/plain": [
       "dataset/train/train_7584/train_7584_c/tr(…):   0%|          | 0.00/177M [00:00<?, ?B/s]"
      ]
     },
     "metadata": {},
     "output_type": "display_data"
    },
    {
     "name": "stdout",
     "output_type": "stream",
     "text": [
      "test all pooling\n",
      "Processing dataset/train/train_11119/train_11119_b/train_11119_b_1.nii.gz...\n"
     ]
    },
    {
     "data": {
      "application/vnd.jupyter.widget-view+json": {
       "model_id": "86970acc23804d5285e857e45bb0c4c1",
       "version_major": 2,
       "version_minor": 0
      },
      "text/plain": [
       "dataset/train/train_11119/train_11119_b/(…):   0%|          | 0.00/99.9M [00:00<?, ?B/s]"
      ]
     },
     "metadata": {},
     "output_type": "display_data"
    },
    {
     "name": "stdout",
     "output_type": "stream",
     "text": [
      "test all pooling\n",
      "Processing dataset/train/train_9542/train_9542_a/train_9542_a_2.nii.gz...\n"
     ]
    },
    {
     "data": {
      "application/vnd.jupyter.widget-view+json": {
       "model_id": "ed611840eb914feca6cd22218c468045",
       "version_major": 2,
       "version_minor": 0
      },
      "text/plain": [
       "dataset/train/train_9542/train_9542_a/tr(…):   0%|          | 0.00/217M [00:00<?, ?B/s]"
      ]
     },
     "metadata": {},
     "output_type": "display_data"
    },
    {
     "name": "stdout",
     "output_type": "stream",
     "text": [
      "test all pooling\n",
      "Processing dataset/train/train_13437/train_13437_c/train_13437_c_2.nii.gz...\n"
     ]
    },
    {
     "data": {
      "application/vnd.jupyter.widget-view+json": {
       "model_id": "99a351fb398347698453b1f525338056",
       "version_major": 2,
       "version_minor": 0
      },
      "text/plain": [
       "dataset/train/train_13437/train_13437_c/(…):   0%|          | 0.00/124M [00:00<?, ?B/s]"
      ]
     },
     "metadata": {},
     "output_type": "display_data"
    },
    {
     "name": "stdout",
     "output_type": "stream",
     "text": [
      "test all pooling\n",
      "Processing dataset/train/train_4154/train_4154_a/train_4154_a_2.nii.gz...\n"
     ]
    },
    {
     "data": {
      "application/vnd.jupyter.widget-view+json": {
       "model_id": "48e5c2c72c694e06973da5db0c9caa94",
       "version_major": 2,
       "version_minor": 0
      },
      "text/plain": [
       "dataset/train/train_4154/train_4154_a/tr(…):   0%|          | 0.00/219M [00:00<?, ?B/s]"
      ]
     },
     "metadata": {},
     "output_type": "display_data"
    },
    {
     "name": "stdout",
     "output_type": "stream",
     "text": [
      "test all pooling\n",
      "Processing dataset/train/train_12923/train_12923_b/train_12923_b_2.nii.gz...\n"
     ]
    },
    {
     "data": {
      "application/vnd.jupyter.widget-view+json": {
       "model_id": "870498cc4656436abb2fc2a1b19caaee",
       "version_major": 2,
       "version_minor": 0
      },
      "text/plain": [
       "dataset/train/train_12923/train_12923_b/(…):   0%|          | 0.00/234M [00:00<?, ?B/s]"
      ]
     },
     "metadata": {},
     "output_type": "display_data"
    },
    {
     "name": "stdout",
     "output_type": "stream",
     "text": [
      "test all pooling\n",
      "Processing dataset/train/train_11966/train_11966_a/train_11966_a_1.nii.gz...\n"
     ]
    },
    {
     "data": {
      "application/vnd.jupyter.widget-view+json": {
       "model_id": "ee7d9e1dd9a048018bfa6dd92cf98262",
       "version_major": 2,
       "version_minor": 0
      },
      "text/plain": [
       "dataset/train/train_11966/train_11966_a/(…):   0%|          | 0.00/490M [00:00<?, ?B/s]"
      ]
     },
     "metadata": {},
     "output_type": "display_data"
    },
    {
     "name": "stdout",
     "output_type": "stream",
     "text": [
      "test all pooling\n",
      "Processing dataset/train/train_9361/train_9361_a/train_9361_a_2.nii.gz...\n"
     ]
    },
    {
     "data": {
      "application/vnd.jupyter.widget-view+json": {
       "model_id": "2a3e9f0c32b24badaa9c1225a3a15cd8",
       "version_major": 2,
       "version_minor": 0
      },
      "text/plain": [
       "dataset/train/train_9361/train_9361_a/tr(…):   0%|          | 0.00/223M [00:00<?, ?B/s]"
      ]
     },
     "metadata": {},
     "output_type": "display_data"
    },
    {
     "name": "stdout",
     "output_type": "stream",
     "text": [
      "test all pooling\n",
      "Processing dataset/train/train_13767/train_13767_a/train_13767_a_2.nii.gz...\n"
     ]
    },
    {
     "data": {
      "application/vnd.jupyter.widget-view+json": {
       "model_id": "8ad3bf567c2645439e31b52b377efdd4",
       "version_major": 2,
       "version_minor": 0
      },
      "text/plain": [
       "dataset/train/train_13767/train_13767_a/(…):   0%|          | 0.00/233M [00:00<?, ?B/s]"
      ]
     },
     "metadata": {},
     "output_type": "display_data"
    },
    {
     "name": "stdout",
     "output_type": "stream",
     "text": [
      "test all pooling\n",
      "Processing dataset/train/train_18454/train_18454_a/train_18454_a_2.nii.gz...\n"
     ]
    },
    {
     "data": {
      "application/vnd.jupyter.widget-view+json": {
       "model_id": "a91385c08cf64a39b51b43e2f5f8adfb",
       "version_major": 2,
       "version_minor": 0
      },
      "text/plain": [
       "dataset/train/train_18454/train_18454_a/(…):   0%|          | 0.00/244M [00:00<?, ?B/s]"
      ]
     },
     "metadata": {},
     "output_type": "display_data"
    },
    {
     "name": "stdout",
     "output_type": "stream",
     "text": [
      "test all pooling\n",
      "Processing dataset/train/train_16440/train_16440_b/train_16440_b_2.nii.gz...\n"
     ]
    },
    {
     "data": {
      "application/vnd.jupyter.widget-view+json": {
       "model_id": "1506859611e649b1adff932593a8d0de",
       "version_major": 2,
       "version_minor": 0
      },
      "text/plain": [
       "dataset/train/train_16440/train_16440_b/(…):   0%|          | 0.00/109M [00:00<?, ?B/s]"
      ]
     },
     "metadata": {},
     "output_type": "display_data"
    },
    {
     "name": "stdout",
     "output_type": "stream",
     "text": [
      "test all pooling\n",
      "Processing dataset/train/train_1882/train_1882_a/train_1882_a_1.nii.gz...\n"
     ]
    },
    {
     "data": {
      "application/vnd.jupyter.widget-view+json": {
       "model_id": "466593d66fa44ae8a5f88c6378f1c21d",
       "version_major": 2,
       "version_minor": 0
      },
      "text/plain": [
       "dataset/train/train_1882/train_1882_a/tr(…):   0%|          | 0.00/294M [00:00<?, ?B/s]"
      ]
     },
     "metadata": {},
     "output_type": "display_data"
    },
    {
     "name": "stdout",
     "output_type": "stream",
     "text": [
      "test all pooling\n",
      "Processing dataset/train/train_1004/train_1004_b/train_1004_b_2.nii.gz...\n"
     ]
    },
    {
     "data": {
      "application/vnd.jupyter.widget-view+json": {
       "model_id": "c3ce46d1684448fbbd9479c37adebf61",
       "version_major": 2,
       "version_minor": 0
      },
      "text/plain": [
       "dataset/train/train_1004/train_1004_b/tr(…):   0%|          | 0.00/259M [00:00<?, ?B/s]"
      ]
     },
     "metadata": {},
     "output_type": "display_data"
    },
    {
     "name": "stdout",
     "output_type": "stream",
     "text": [
      "test all pooling\n",
      "Processing dataset/train/train_13963/train_13963_a/train_13963_a_1.nii.gz...\n"
     ]
    },
    {
     "data": {
      "application/vnd.jupyter.widget-view+json": {
       "model_id": "a5eb7584598c437389f38632fedb850c",
       "version_major": 2,
       "version_minor": 0
      },
      "text/plain": [
       "dataset/train/train_13963/train_13963_a/(…):   0%|          | 0.00/122M [00:00<?, ?B/s]"
      ]
     },
     "metadata": {},
     "output_type": "display_data"
    },
    {
     "name": "stdout",
     "output_type": "stream",
     "text": [
      "test all pooling\n",
      "Processing dataset/train/train_8041/train_8041_a/train_8041_a_2.nii.gz...\n"
     ]
    },
    {
     "data": {
      "application/vnd.jupyter.widget-view+json": {
       "model_id": "13f9b942dd3f4911995960dc7b17cd76",
       "version_major": 2,
       "version_minor": 0
      },
      "text/plain": [
       "dataset/train/train_8041/train_8041_a/tr(…):   0%|          | 0.00/233M [00:00<?, ?B/s]"
      ]
     },
     "metadata": {},
     "output_type": "display_data"
    },
    {
     "name": "stdout",
     "output_type": "stream",
     "text": [
      "test all pooling\n",
      "Processing dataset/train/train_17190/train_17190_a/train_17190_a_1.nii.gz...\n"
     ]
    },
    {
     "data": {
      "application/vnd.jupyter.widget-view+json": {
       "model_id": "d3a794f4517743aa99ece593d6656cd6",
       "version_major": 2,
       "version_minor": 0
      },
      "text/plain": [
       "dataset/train/train_17190/train_17190_a/(…):   0%|          | 0.00/468M [00:00<?, ?B/s]"
      ]
     },
     "metadata": {},
     "output_type": "display_data"
    },
    {
     "name": "stdout",
     "output_type": "stream",
     "text": [
      "test all pooling\n",
      "Processing dataset/train/train_3165/train_3165_a/train_3165_a_1.nii.gz...\n"
     ]
    },
    {
     "data": {
      "application/vnd.jupyter.widget-view+json": {
       "model_id": "e9e1943bd8a24bf0a62e9f990e8cfbe3",
       "version_major": 2,
       "version_minor": 0
      },
      "text/plain": [
       "dataset/train/train_3165/train_3165_a/tr(…):   0%|          | 0.00/533M [00:00<?, ?B/s]"
      ]
     },
     "metadata": {},
     "output_type": "display_data"
    },
    {
     "name": "stdout",
     "output_type": "stream",
     "text": [
      "test all pooling\n",
      "Processing dataset/train/train_15939/train_15939_a/train_15939_a_1.nii.gz...\n"
     ]
    },
    {
     "data": {
      "application/vnd.jupyter.widget-view+json": {
       "model_id": "906b4a2885b24c60a7edb146d74d0fb5",
       "version_major": 2,
       "version_minor": 0
      },
      "text/plain": [
       "dataset/train/train_15939/train_15939_a/(…):   0%|          | 0.00/398M [00:00<?, ?B/s]"
      ]
     },
     "metadata": {},
     "output_type": "display_data"
    },
    {
     "name": "stdout",
     "output_type": "stream",
     "text": [
      "test all pooling\n",
      "Processing dataset/train/train_9668/train_9668_a/train_9668_a_2.nii.gz...\n"
     ]
    },
    {
     "data": {
      "application/vnd.jupyter.widget-view+json": {
       "model_id": "0bb3733390154714ab5a004c4e9449ee",
       "version_major": 2,
       "version_minor": 0
      },
      "text/plain": [
       "dataset/train/train_9668/train_9668_a/tr(…):   0%|          | 0.00/451M [00:00<?, ?B/s]"
      ]
     },
     "metadata": {},
     "output_type": "display_data"
    },
    {
     "name": "stdout",
     "output_type": "stream",
     "text": [
      "test all pooling\n",
      "Processing dataset/train/train_6959/train_6959_a/train_6959_a_1.nii.gz...\n"
     ]
    },
    {
     "data": {
      "application/vnd.jupyter.widget-view+json": {
       "model_id": "4a7ffa9e491a48f1b08dad5b6c89796a",
       "version_major": 2,
       "version_minor": 0
      },
      "text/plain": [
       "dataset/train/train_6959/train_6959_a/tr(…):   0%|          | 0.00/508M [00:00<?, ?B/s]"
      ]
     },
     "metadata": {},
     "output_type": "display_data"
    },
    {
     "name": "stdout",
     "output_type": "stream",
     "text": [
      "test all pooling\n",
      "Processing dataset/train/train_11388/train_11388_a/train_11388_a_1.nii.gz...\n"
     ]
    },
    {
     "data": {
      "application/vnd.jupyter.widget-view+json": {
       "model_id": "1b2973636fe54093af8f25903d513d6f",
       "version_major": 2,
       "version_minor": 0
      },
      "text/plain": [
       "dataset/train/train_11388/train_11388_a/(…):   0%|          | 0.00/101M [00:00<?, ?B/s]"
      ]
     },
     "metadata": {},
     "output_type": "display_data"
    },
    {
     "name": "stdout",
     "output_type": "stream",
     "text": [
      "test all pooling\n",
      "Processing dataset/train/train_71/train_71_a/train_71_a_2.nii.gz...\n"
     ]
    },
    {
     "data": {
      "application/vnd.jupyter.widget-view+json": {
       "model_id": "64cb07f733e1463aaef6537366a7f0a4",
       "version_major": 2,
       "version_minor": 0
      },
      "text/plain": [
       "dataset/train/train_71/train_71_a/train_(…):   0%|          | 0.00/212M [00:00<?, ?B/s]"
      ]
     },
     "metadata": {},
     "output_type": "display_data"
    },
    {
     "name": "stdout",
     "output_type": "stream",
     "text": [
      "test all pooling\n",
      "Processing dataset/train/train_13297/train_13297_a/train_13297_a_1.nii.gz...\n"
     ]
    },
    {
     "data": {
      "application/vnd.jupyter.widget-view+json": {
       "model_id": "d233ce8705a5460688b639b67bc1b2be",
       "version_major": 2,
       "version_minor": 0
      },
      "text/plain": [
       "dataset/train/train_13297/train_13297_a/(…):   0%|          | 0.00/469M [00:00<?, ?B/s]"
      ]
     },
     "metadata": {},
     "output_type": "display_data"
    },
    {
     "name": "stdout",
     "output_type": "stream",
     "text": [
      "test all pooling\n",
      "Processing dataset/train/train_16955/train_16955_a/train_16955_a_2.nii.gz...\n"
     ]
    },
    {
     "data": {
      "application/vnd.jupyter.widget-view+json": {
       "model_id": "7edd568b7fb14208bd16b168945388c3",
       "version_major": 2,
       "version_minor": 0
      },
      "text/plain": [
       "dataset/train/train_16955/train_16955_a/(…):   0%|          | 0.00/176M [00:00<?, ?B/s]"
      ]
     },
     "metadata": {},
     "output_type": "display_data"
    },
    {
     "name": "stdout",
     "output_type": "stream",
     "text": [
      "test all pooling\n",
      "Processing dataset/train/train_16012/train_16012_a/train_16012_a_1.nii.gz...\n"
     ]
    },
    {
     "data": {
      "application/vnd.jupyter.widget-view+json": {
       "model_id": "a7d07766563943b49cac4e99d7c0eeb7",
       "version_major": 2,
       "version_minor": 0
      },
      "text/plain": [
       "dataset/train/train_16012/train_16012_a/(…):   0%|          | 0.00/467M [00:00<?, ?B/s]"
      ]
     },
     "metadata": {},
     "output_type": "display_data"
    },
    {
     "name": "stdout",
     "output_type": "stream",
     "text": [
      "test all pooling\n",
      "Processing dataset/train/train_1754/train_1754_a/train_1754_a_1.nii.gz...\n"
     ]
    },
    {
     "data": {
      "application/vnd.jupyter.widget-view+json": {
       "model_id": "f1c87ab845a341aab42d52168040a08a",
       "version_major": 2,
       "version_minor": 0
      },
      "text/plain": [
       "dataset/train/train_1754/train_1754_a/tr(…):   0%|          | 0.00/451M [00:00<?, ?B/s]"
      ]
     },
     "metadata": {},
     "output_type": "display_data"
    },
    {
     "name": "stdout",
     "output_type": "stream",
     "text": [
      "test all pooling\n",
      "Processing dataset/train/train_8583/train_8583_a/train_8583_a_2.nii.gz...\n"
     ]
    },
    {
     "data": {
      "application/vnd.jupyter.widget-view+json": {
       "model_id": "51a7ae1c61ad4da8bcba6991928a7121",
       "version_major": 2,
       "version_minor": 0
      },
      "text/plain": [
       "dataset/train/train_8583/train_8583_a/tr(…):   0%|          | 0.00/216M [00:00<?, ?B/s]"
      ]
     },
     "metadata": {},
     "output_type": "display_data"
    },
    {
     "name": "stdout",
     "output_type": "stream",
     "text": [
      "test all pooling\n",
      "Processing dataset/train/train_1415/train_1415_a/train_1415_a_2.nii.gz...\n"
     ]
    },
    {
     "data": {
      "application/vnd.jupyter.widget-view+json": {
       "model_id": "d63ca6b9b28940c6bf15cbafd83dbaf0",
       "version_major": 2,
       "version_minor": 0
      },
      "text/plain": [
       "dataset/train/train_1415/train_1415_a/tr(…):   0%|          | 0.00/101M [00:00<?, ?B/s]"
      ]
     },
     "metadata": {},
     "output_type": "display_data"
    },
    {
     "name": "stdout",
     "output_type": "stream",
     "text": [
      "test all pooling\n",
      "Processing dataset/train/train_5557/train_5557_a/train_5557_a_2.nii.gz...\n"
     ]
    },
    {
     "data": {
      "application/vnd.jupyter.widget-view+json": {
       "model_id": "89bc9942a5a644de9077729dbbe5110a",
       "version_major": 2,
       "version_minor": 0
      },
      "text/plain": [
       "dataset/train/train_5557/train_5557_a/tr(…):   0%|          | 0.00/209M [00:00<?, ?B/s]"
      ]
     },
     "metadata": {},
     "output_type": "display_data"
    },
    {
     "name": "stdout",
     "output_type": "stream",
     "text": [
      "test all pooling\n",
      "Processing dataset/train/train_2248/train_2248_a/train_2248_a_2.nii.gz...\n"
     ]
    },
    {
     "data": {
      "application/vnd.jupyter.widget-view+json": {
       "model_id": "081ac8a0b266491ea8dd795150562c7c",
       "version_major": 2,
       "version_minor": 0
      },
      "text/plain": [
       "dataset/train/train_2248/train_2248_a/tr(…):   0%|          | 0.00/234M [00:00<?, ?B/s]"
      ]
     },
     "metadata": {},
     "output_type": "display_data"
    },
    {
     "name": "stdout",
     "output_type": "stream",
     "text": [
      "test all pooling\n",
      "Processing dataset/train/train_16873/train_16873_a/train_16873_a_1.nii.gz...\n"
     ]
    },
    {
     "data": {
      "application/vnd.jupyter.widget-view+json": {
       "model_id": "fa4760a7a7434feebd5036da3f7d966a",
       "version_major": 2,
       "version_minor": 0
      },
      "text/plain": [
       "dataset/train/train_16873/train_16873_a/(…):   0%|          | 0.00/566M [00:00<?, ?B/s]"
      ]
     },
     "metadata": {},
     "output_type": "display_data"
    },
    {
     "name": "stdout",
     "output_type": "stream",
     "text": [
      "test all pooling\n",
      "Processing dataset/train/train_15143/train_15143_b/train_15143_b_2.nii.gz...\n"
     ]
    },
    {
     "data": {
      "application/vnd.jupyter.widget-view+json": {
       "model_id": "e821632e3e074bd1809497795efd9fc8",
       "version_major": 2,
       "version_minor": 0
      },
      "text/plain": [
       "dataset/train/train_15143/train_15143_b/(…):   0%|          | 0.00/222M [00:00<?, ?B/s]"
      ]
     },
     "metadata": {},
     "output_type": "display_data"
    },
    {
     "name": "stdout",
     "output_type": "stream",
     "text": [
      "test all pooling\n",
      "Processing dataset/train/train_10439/train_10439_a/train_10439_a_2.nii.gz...\n"
     ]
    },
    {
     "data": {
      "application/vnd.jupyter.widget-view+json": {
       "model_id": "2a43cb525d6647f3acdbce77123c8fc4",
       "version_major": 2,
       "version_minor": 0
      },
      "text/plain": [
       "dataset/train/train_10439/train_10439_a/(…):   0%|          | 0.00/211M [00:00<?, ?B/s]"
      ]
     },
     "metadata": {},
     "output_type": "display_data"
    },
    {
     "name": "stdout",
     "output_type": "stream",
     "text": [
      "test all pooling\n",
      "Processing dataset/train/train_3025/train_3025_a/train_3025_a_2.nii.gz...\n"
     ]
    },
    {
     "data": {
      "application/vnd.jupyter.widget-view+json": {
       "model_id": "dafe3ed22587472fb2bf0dacceb6c83c",
       "version_major": 2,
       "version_minor": 0
      },
      "text/plain": [
       "dataset/train/train_3025/train_3025_a/tr(…):   0%|          | 0.00/112M [00:00<?, ?B/s]"
      ]
     },
     "metadata": {},
     "output_type": "display_data"
    },
    {
     "name": "stdout",
     "output_type": "stream",
     "text": [
      "test all pooling\n",
      "Processing dataset/train/train_13812/train_13812_a/train_13812_a_1.nii.gz...\n"
     ]
    },
    {
     "data": {
      "application/vnd.jupyter.widget-view+json": {
       "model_id": "a3463bd8aa8d4743975f0039bf7da11a",
       "version_major": 2,
       "version_minor": 0
      },
      "text/plain": [
       "dataset/train/train_13812/train_13812_a/(…):   0%|          | 0.00/519M [00:00<?, ?B/s]"
      ]
     },
     "metadata": {},
     "output_type": "display_data"
    },
    {
     "name": "stdout",
     "output_type": "stream",
     "text": [
      "test all pooling\n",
      "Processing dataset/train/train_4832/train_4832_a/train_4832_a_1.nii.gz...\n"
     ]
    },
    {
     "data": {
      "application/vnd.jupyter.widget-view+json": {
       "model_id": "6de81380d51f42e5a8b2a577637c6495",
       "version_major": 2,
       "version_minor": 0
      },
      "text/plain": [
       "dataset/train/train_4832/train_4832_a/tr(…):   0%|          | 0.00/521M [00:00<?, ?B/s]"
      ]
     },
     "metadata": {},
     "output_type": "display_data"
    },
    {
     "name": "stdout",
     "output_type": "stream",
     "text": [
      "test all pooling\n",
      "Processing dataset/train/train_1184/train_1184_b/train_1184_b_1.nii.gz...\n"
     ]
    },
    {
     "data": {
      "application/vnd.jupyter.widget-view+json": {
       "model_id": "13c762ea9f6544a0b47f0da21db8e515",
       "version_major": 2,
       "version_minor": 0
      },
      "text/plain": [
       "dataset/train/train_1184/train_1184_b/tr(…):   0%|          | 0.00/488M [00:00<?, ?B/s]"
      ]
     },
     "metadata": {},
     "output_type": "display_data"
    },
    {
     "name": "stdout",
     "output_type": "stream",
     "text": [
      "test all pooling\n",
      "Processing dataset/train/train_8063/train_8063_a/train_8063_a_1.nii.gz...\n"
     ]
    },
    {
     "data": {
      "application/vnd.jupyter.widget-view+json": {
       "model_id": "28748a66e41d4bff86335145adcd011b",
       "version_major": 2,
       "version_minor": 0
      },
      "text/plain": [
       "dataset/train/train_8063/train_8063_a/tr(…):   0%|          | 0.00/440M [00:00<?, ?B/s]"
      ]
     },
     "metadata": {},
     "output_type": "display_data"
    },
    {
     "name": "stdout",
     "output_type": "stream",
     "text": [
      "test all pooling\n",
      "Processing dataset/train/train_8848/train_8848_a/train_8848_a_2.nii.gz...\n"
     ]
    },
    {
     "data": {
      "application/vnd.jupyter.widget-view+json": {
       "model_id": "2b864a8fde8e46beb2057f5c65ae219a",
       "version_major": 2,
       "version_minor": 0
      },
      "text/plain": [
       "dataset/train/train_8848/train_8848_a/tr(…):   0%|          | 0.00/77.6M [00:00<?, ?B/s]"
      ]
     },
     "metadata": {},
     "output_type": "display_data"
    },
    {
     "name": "stdout",
     "output_type": "stream",
     "text": [
      "test all pooling\n",
      "Processing dataset/train/train_5786/train_5786_b/train_5786_b_2.nii.gz...\n"
     ]
    },
    {
     "data": {
      "application/vnd.jupyter.widget-view+json": {
       "model_id": "d27f9de839f648849ac13de3e84e551a",
       "version_major": 2,
       "version_minor": 0
      },
      "text/plain": [
       "dataset/train/train_5786/train_5786_b/tr(…):   0%|          | 0.00/97.1M [00:00<?, ?B/s]"
      ]
     },
     "metadata": {},
     "output_type": "display_data"
    },
    {
     "name": "stdout",
     "output_type": "stream",
     "text": [
      "test all pooling\n",
      "Processing dataset/train/train_11152/train_11152_b/train_11152_b_1.nii.gz...\n"
     ]
    },
    {
     "data": {
      "application/vnd.jupyter.widget-view+json": {
       "model_id": "9d1be0d9de7542d9afb36c43a5ad04f2",
       "version_major": 2,
       "version_minor": 0
      },
      "text/plain": [
       "dataset/train/train_11152/train_11152_b/(…):   0%|          | 0.00/139M [00:00<?, ?B/s]"
      ]
     },
     "metadata": {},
     "output_type": "display_data"
    },
    {
     "name": "stdout",
     "output_type": "stream",
     "text": [
      "test all pooling\n",
      "Processing dataset/train/train_2426/train_2426_a/train_2426_a_2.nii.gz...\n"
     ]
    },
    {
     "data": {
      "application/vnd.jupyter.widget-view+json": {
       "model_id": "89c8e361bc7148c2b53af95addb4ef92",
       "version_major": 2,
       "version_minor": 0
      },
      "text/plain": [
       "dataset/train/train_2426/train_2426_a/tr(…):   0%|          | 0.00/110M [00:00<?, ?B/s]"
      ]
     },
     "metadata": {},
     "output_type": "display_data"
    },
    {
     "name": "stdout",
     "output_type": "stream",
     "text": [
      "test all pooling\n",
      "Processing dataset/train/train_1488/train_1488_a/train_1488_a_2.nii.gz...\n"
     ]
    },
    {
     "data": {
      "application/vnd.jupyter.widget-view+json": {
       "model_id": "20dfa5ead1a04a07a89a1372cac6b823",
       "version_major": 2,
       "version_minor": 0
      },
      "text/plain": [
       "dataset/train/train_1488/train_1488_a/tr(…):   0%|          | 0.00/237M [00:00<?, ?B/s]"
      ]
     },
     "metadata": {},
     "output_type": "display_data"
    },
    {
     "name": "stdout",
     "output_type": "stream",
     "text": [
      "test all pooling\n",
      "Processing dataset/train/train_8782/train_8782_a/train_8782_a_5.nii.gz...\n"
     ]
    },
    {
     "data": {
      "application/vnd.jupyter.widget-view+json": {
       "model_id": "697386f699e641f78046a6d173a45d64",
       "version_major": 2,
       "version_minor": 0
      },
      "text/plain": [
       "dataset/train/train_8782/train_8782_a/tr(…):   0%|          | 0.00/183M [00:00<?, ?B/s]"
      ]
     },
     "metadata": {},
     "output_type": "display_data"
    },
    {
     "name": "stdout",
     "output_type": "stream",
     "text": [
      "test all pooling\n",
      "Processing dataset/train/train_9204/train_9204_a/train_9204_a_1.nii.gz...\n"
     ]
    },
    {
     "data": {
      "application/vnd.jupyter.widget-view+json": {
       "model_id": "af556b903ec7426aa75f0e3cb4d4a45e",
       "version_major": 2,
       "version_minor": 0
      },
      "text/plain": [
       "dataset/train/train_9204/train_9204_a/tr(…):   0%|          | 0.00/154M [00:00<?, ?B/s]"
      ]
     },
     "metadata": {},
     "output_type": "display_data"
    },
    {
     "name": "stdout",
     "output_type": "stream",
     "text": [
      "test all pooling\n",
      "Processing dataset/train/train_9829/train_9829_a/train_9829_a_3.nii.gz...\n"
     ]
    },
    {
     "data": {
      "application/vnd.jupyter.widget-view+json": {
       "model_id": "eb405ea9d57a40b7a8807b445a2eab69",
       "version_major": 2,
       "version_minor": 0
      },
      "text/plain": [
       "dataset/train/train_9829/train_9829_a/tr(…):   0%|          | 0.00/476M [00:00<?, ?B/s]"
      ]
     },
     "metadata": {},
     "output_type": "display_data"
    },
    {
     "name": "stdout",
     "output_type": "stream",
     "text": [
      "test all pooling\n",
      "Processing dataset/train/train_19350/train_19350_a/train_19350_a_1.nii.gz...\n"
     ]
    },
    {
     "data": {
      "application/vnd.jupyter.widget-view+json": {
       "model_id": "281a94cd2a7843d98875342bd927542b",
       "version_major": 2,
       "version_minor": 0
      },
      "text/plain": [
       "dataset/train/train_19350/train_19350_a/(…):   0%|          | 0.00/432M [00:00<?, ?B/s]"
      ]
     },
     "metadata": {},
     "output_type": "display_data"
    },
    {
     "name": "stdout",
     "output_type": "stream",
     "text": [
      "test all pooling\n",
      "Processing dataset/train/train_15907/train_15907_a/train_15907_a_1.nii.gz...\n"
     ]
    },
    {
     "data": {
      "application/vnd.jupyter.widget-view+json": {
       "model_id": "57a471318a6d47e5875cd49c8496d380",
       "version_major": 2,
       "version_minor": 0
      },
      "text/plain": [
       "dataset/train/train_15907/train_15907_a/(…):   0%|          | 0.00/150M [00:00<?, ?B/s]"
      ]
     },
     "metadata": {},
     "output_type": "display_data"
    },
    {
     "name": "stdout",
     "output_type": "stream",
     "text": [
      "test all pooling\n",
      "Processing dataset/train/train_15438/train_15438_a/train_15438_a_1.nii.gz...\n"
     ]
    },
    {
     "data": {
      "application/vnd.jupyter.widget-view+json": {
       "model_id": "fa0a388f72484140ac2d20379ab2fac4",
       "version_major": 2,
       "version_minor": 0
      },
      "text/plain": [
       "dataset/train/train_15438/train_15438_a/(…):   0%|          | 0.00/576M [00:00<?, ?B/s]"
      ]
     },
     "metadata": {},
     "output_type": "display_data"
    },
    {
     "name": "stdout",
     "output_type": "stream",
     "text": [
      "test all pooling\n",
      "Processing dataset/train/train_13955/train_13955_a/train_13955_a_2.nii.gz...\n"
     ]
    },
    {
     "data": {
      "application/vnd.jupyter.widget-view+json": {
       "model_id": "f3be776f1034470f9d75a601ca50cc68",
       "version_major": 2,
       "version_minor": 0
      },
      "text/plain": [
       "dataset/train/train_13955/train_13955_a/(…):   0%|          | 0.00/227M [00:00<?, ?B/s]"
      ]
     },
     "metadata": {},
     "output_type": "display_data"
    },
    {
     "name": "stdout",
     "output_type": "stream",
     "text": [
      "test all pooling\n",
      "Processing dataset/train/train_7702/train_7702_b/train_7702_b_2.nii.gz...\n"
     ]
    },
    {
     "data": {
      "application/vnd.jupyter.widget-view+json": {
       "model_id": "5e5dfbdad0524d11b3c80fa6db5ae7af",
       "version_major": 2,
       "version_minor": 0
      },
      "text/plain": [
       "dataset/train/train_7702/train_7702_b/tr(…):   0%|          | 0.00/120M [00:00<?, ?B/s]"
      ]
     },
     "metadata": {},
     "output_type": "display_data"
    },
    {
     "name": "stdout",
     "output_type": "stream",
     "text": [
      "test all pooling\n",
      "Processing dataset/train/train_7173/train_7173_b/train_7173_b_1.nii.gz...\n"
     ]
    },
    {
     "data": {
      "application/vnd.jupyter.widget-view+json": {
       "model_id": "6ace29b9e319444da1f49c5d833a9aab",
       "version_major": 2,
       "version_minor": 0
      },
      "text/plain": [
       "dataset/train/train_7173/train_7173_b/tr(…):   0%|          | 0.00/107M [00:00<?, ?B/s]"
      ]
     },
     "metadata": {},
     "output_type": "display_data"
    },
    {
     "name": "stdout",
     "output_type": "stream",
     "text": [
      "test all pooling\n",
      "Processing dataset/train/train_12337/train_12337_a/train_12337_a_2.nii.gz...\n"
     ]
    },
    {
     "data": {
      "application/vnd.jupyter.widget-view+json": {
       "model_id": "40ca1ac4a8014185aeb00927ee0f4845",
       "version_major": 2,
       "version_minor": 0
      },
      "text/plain": [
       "dataset/train/train_12337/train_12337_a/(…):   0%|          | 0.00/193M [00:00<?, ?B/s]"
      ]
     },
     "metadata": {},
     "output_type": "display_data"
    },
    {
     "name": "stdout",
     "output_type": "stream",
     "text": [
      "test all pooling\n",
      "Processing dataset/train/train_19427/train_19427_b/train_19427_b_1.nii.gz...\n"
     ]
    },
    {
     "data": {
      "application/vnd.jupyter.widget-view+json": {
       "model_id": "502d4e97bb884c2bb0da0e98cb83bcd2",
       "version_major": 2,
       "version_minor": 0
      },
      "text/plain": [
       "dataset/train/train_19427/train_19427_b/(…):   0%|          | 0.00/110M [00:00<?, ?B/s]"
      ]
     },
     "metadata": {},
     "output_type": "display_data"
    },
    {
     "name": "stdout",
     "output_type": "stream",
     "text": [
      "test all pooling\n",
      "Processing dataset/train/train_16830/train_16830_a/train_16830_a_2.nii.gz...\n"
     ]
    },
    {
     "data": {
      "application/vnd.jupyter.widget-view+json": {
       "model_id": "ff17dbd62419434a841432fda95135b5",
       "version_major": 2,
       "version_minor": 0
      },
      "text/plain": [
       "dataset/train/train_16830/train_16830_a/(…):   0%|          | 0.00/206M [00:00<?, ?B/s]"
      ]
     },
     "metadata": {},
     "output_type": "display_data"
    },
    {
     "name": "stdout",
     "output_type": "stream",
     "text": [
      "test all pooling\n",
      "Processing dataset/train/train_5404/train_5404_b/train_5404_b_2.nii.gz...\n"
     ]
    },
    {
     "data": {
      "application/vnd.jupyter.widget-view+json": {
       "model_id": "050f381e57f841fcb57c24c96e2bf003",
       "version_major": 2,
       "version_minor": 0
      },
      "text/plain": [
       "dataset/train/train_5404/train_5404_b/tr(…):   0%|          | 0.00/247M [00:00<?, ?B/s]"
      ]
     },
     "metadata": {},
     "output_type": "display_data"
    },
    {
     "name": "stdout",
     "output_type": "stream",
     "text": [
      "test all pooling\n",
      "Processing dataset/train/train_14115/train_14115_a/train_14115_a_2.nii.gz...\n"
     ]
    },
    {
     "data": {
      "application/vnd.jupyter.widget-view+json": {
       "model_id": "1ac90fe7991a41aea9f069aff03bed89",
       "version_major": 2,
       "version_minor": 0
      },
      "text/plain": [
       "dataset/train/train_14115/train_14115_a/(…):   0%|          | 0.00/192M [00:00<?, ?B/s]"
      ]
     },
     "metadata": {},
     "output_type": "display_data"
    },
    {
     "name": "stdout",
     "output_type": "stream",
     "text": [
      "test all pooling\n",
      "Processing dataset/train/train_8629/train_8629_a/train_8629_a_2.nii.gz...\n"
     ]
    },
    {
     "data": {
      "application/vnd.jupyter.widget-view+json": {
       "model_id": "71ac50339f78423ab534a2b1fa60150d",
       "version_major": 2,
       "version_minor": 0
      },
      "text/plain": [
       "dataset/train/train_8629/train_8629_a/tr(…):   0%|          | 0.00/221M [00:00<?, ?B/s]"
      ]
     },
     "metadata": {},
     "output_type": "display_data"
    },
    {
     "name": "stdout",
     "output_type": "stream",
     "text": [
      "test all pooling\n",
      "Processing dataset/train/train_13188/train_13188_a/train_13188_a_1.nii.gz...\n"
     ]
    },
    {
     "data": {
      "application/vnd.jupyter.widget-view+json": {
       "model_id": "8fd21a5f34ca49ed9e79a05aa9d1dec1",
       "version_major": 2,
       "version_minor": 0
      },
      "text/plain": [
       "dataset/train/train_13188/train_13188_a/(…):   0%|          | 0.00/420M [00:00<?, ?B/s]"
      ]
     },
     "metadata": {},
     "output_type": "display_data"
    },
    {
     "name": "stdout",
     "output_type": "stream",
     "text": [
      "test all pooling\n",
      "Processing dataset/train/train_19922/train_19922_a/train_19922_a_1.nii.gz...\n"
     ]
    },
    {
     "data": {
      "application/vnd.jupyter.widget-view+json": {
       "model_id": "99366124b7c042f58722152a4577ea96",
       "version_major": 2,
       "version_minor": 0
      },
      "text/plain": [
       "dataset/train/train_19922/train_19922_a/(…):   0%|          | 0.00/125M [00:00<?, ?B/s]"
      ]
     },
     "metadata": {},
     "output_type": "display_data"
    },
    {
     "name": "stdout",
     "output_type": "stream",
     "text": [
      "test all pooling\n",
      "Processing dataset/train/train_19164/train_19164_b/train_19164_b_2.nii.gz...\n"
     ]
    },
    {
     "data": {
      "application/vnd.jupyter.widget-view+json": {
       "model_id": "bf217af9c11e41b1b2ef1dbf52b7b94d",
       "version_major": 2,
       "version_minor": 0
      },
      "text/plain": [
       "dataset/train/train_19164/train_19164_b/(…):   0%|          | 0.00/243M [00:00<?, ?B/s]"
      ]
     },
     "metadata": {},
     "output_type": "display_data"
    },
    {
     "name": "stdout",
     "output_type": "stream",
     "text": [
      "test all pooling\n",
      "Processing dataset/train/train_9997/train_9997_a/train_9997_a_2.nii.gz...\n"
     ]
    },
    {
     "data": {
      "application/vnd.jupyter.widget-view+json": {
       "model_id": "43482460ec4a421595834f6dd4374e62",
       "version_major": 2,
       "version_minor": 0
      },
      "text/plain": [
       "dataset/train/train_9997/train_9997_a/tr(…):   0%|          | 0.00/232M [00:00<?, ?B/s]"
      ]
     },
     "metadata": {},
     "output_type": "display_data"
    },
    {
     "name": "stdout",
     "output_type": "stream",
     "text": [
      "test all pooling\n",
      "Processing dataset/train/train_15839/train_15839_a/train_15839_a_1.nii.gz...\n"
     ]
    },
    {
     "data": {
      "application/vnd.jupyter.widget-view+json": {
       "model_id": "7f7deed689bd4794a125170ee5e4a27e",
       "version_major": 2,
       "version_minor": 0
      },
      "text/plain": [
       "dataset/train/train_15839/train_15839_a/(…):   0%|          | 0.00/443M [00:00<?, ?B/s]"
      ]
     },
     "metadata": {},
     "output_type": "display_data"
    },
    {
     "name": "stdout",
     "output_type": "stream",
     "text": [
      "test all pooling\n",
      "Processing dataset/train/train_2280/train_2280_a/train_2280_a_2.nii.gz...\n"
     ]
    },
    {
     "data": {
      "application/vnd.jupyter.widget-view+json": {
       "model_id": "dd1714ac6272467fa7f24431bbf4c67b",
       "version_major": 2,
       "version_minor": 0
      },
      "text/plain": [
       "dataset/train/train_2280/train_2280_a/tr(…):   0%|          | 0.00/242M [00:00<?, ?B/s]"
      ]
     },
     "metadata": {},
     "output_type": "display_data"
    },
    {
     "name": "stdout",
     "output_type": "stream",
     "text": [
      "test all pooling\n",
      "Processing dataset/train/train_129/train_129_a/train_129_a_2.nii.gz...\n"
     ]
    },
    {
     "data": {
      "application/vnd.jupyter.widget-view+json": {
       "model_id": "8b62d6cf18b44af1bbd7890239d7144b",
       "version_major": 2,
       "version_minor": 0
      },
      "text/plain": [
       "dataset/train/train_129/train_129_a/trai(…):   0%|          | 0.00/476M [00:00<?, ?B/s]"
      ]
     },
     "metadata": {},
     "output_type": "display_data"
    },
    {
     "name": "stdout",
     "output_type": "stream",
     "text": [
      "test all pooling\n",
      "Processing dataset/train/train_14199/train_14199_b/train_14199_b_1.nii.gz...\n"
     ]
    },
    {
     "data": {
      "application/vnd.jupyter.widget-view+json": {
       "model_id": "4c547f4f11d44d2caf6bb70a734005ff",
       "version_major": 2,
       "version_minor": 0
      },
      "text/plain": [
       "dataset/train/train_14199/train_14199_b/(…):   0%|          | 0.00/477M [00:00<?, ?B/s]"
      ]
     },
     "metadata": {},
     "output_type": "display_data"
    },
    {
     "name": "stdout",
     "output_type": "stream",
     "text": [
      "test all pooling\n",
      "Processing dataset/train/train_3012/train_3012_a/train_3012_a_1.nii.gz...\n"
     ]
    },
    {
     "data": {
      "application/vnd.jupyter.widget-view+json": {
       "model_id": "0cfeb5c929d24a35ba09c04ec30a8db8",
       "version_major": 2,
       "version_minor": 0
      },
      "text/plain": [
       "dataset/train/train_3012/train_3012_a/tr(…):   0%|          | 0.00/115M [00:00<?, ?B/s]"
      ]
     },
     "metadata": {},
     "output_type": "display_data"
    },
    {
     "name": "stdout",
     "output_type": "stream",
     "text": [
      "test all pooling\n",
      "Processing dataset/train/train_1988/train_1988_a/train_1988_a_1.nii.gz...\n"
     ]
    },
    {
     "data": {
      "application/vnd.jupyter.widget-view+json": {
       "model_id": "e496a8fd4aeb4002ad5c6b4fc9da2641",
       "version_major": 2,
       "version_minor": 0
      },
      "text/plain": [
       "dataset/train/train_1988/train_1988_a/tr(…):   0%|          | 0.00/116M [00:00<?, ?B/s]"
      ]
     },
     "metadata": {},
     "output_type": "display_data"
    },
    {
     "name": "stdout",
     "output_type": "stream",
     "text": [
      "test all pooling\n",
      "Processing dataset/train/train_15822/train_15822_a/train_15822_a_1.nii.gz...\n"
     ]
    },
    {
     "data": {
      "application/vnd.jupyter.widget-view+json": {
       "model_id": "1b5c49c11d3d42a29ee53715a4c79b52",
       "version_major": 2,
       "version_minor": 0
      },
      "text/plain": [
       "dataset/train/train_15822/train_15822_a/(…):   0%|          | 0.00/484M [00:00<?, ?B/s]"
      ]
     },
     "metadata": {},
     "output_type": "display_data"
    },
    {
     "name": "stdout",
     "output_type": "stream",
     "text": [
      "test all pooling\n",
      "Processing dataset/train/train_16867/train_16867_a/train_16867_a_2.nii.gz...\n"
     ]
    },
    {
     "data": {
      "application/vnd.jupyter.widget-view+json": {
       "model_id": "13903c64ac164e9d83eb1454922c6ba7",
       "version_major": 2,
       "version_minor": 0
      },
      "text/plain": [
       "dataset/train/train_16867/train_16867_a/(…):   0%|          | 0.00/190M [00:00<?, ?B/s]"
      ]
     },
     "metadata": {},
     "output_type": "display_data"
    },
    {
     "name": "stdout",
     "output_type": "stream",
     "text": [
      "test all pooling\n",
      "Processing dataset/train/train_724/train_724_a/train_724_a_2.nii.gz...\n"
     ]
    },
    {
     "data": {
      "application/vnd.jupyter.widget-view+json": {
       "model_id": "7fc8869bb73a44348dcbe720df3e8ace",
       "version_major": 2,
       "version_minor": 0
      },
      "text/plain": [
       "dataset/train/train_724/train_724_a/trai(…):   0%|          | 0.00/202M [00:00<?, ?B/s]"
      ]
     },
     "metadata": {},
     "output_type": "display_data"
    },
    {
     "name": "stdout",
     "output_type": "stream",
     "text": [
      "test all pooling\n",
      "Processing dataset/train/train_17791/train_17791_c/train_17791_c_2.nii.gz...\n"
     ]
    },
    {
     "data": {
      "application/vnd.jupyter.widget-view+json": {
       "model_id": "c320c2966fe3469495b895933671a079",
       "version_major": 2,
       "version_minor": 0
      },
      "text/plain": [
       "dataset/train/train_17791/train_17791_c/(…):   0%|          | 0.00/236M [00:00<?, ?B/s]"
      ]
     },
     "metadata": {},
     "output_type": "display_data"
    },
    {
     "name": "stdout",
     "output_type": "stream",
     "text": [
      "test all pooling\n",
      "Processing dataset/train/train_17429/train_17429_a/train_17429_a_2.nii.gz...\n"
     ]
    },
    {
     "data": {
      "application/vnd.jupyter.widget-view+json": {
       "model_id": "91199e19b99c4e2baed4f17b688288e3",
       "version_major": 2,
       "version_minor": 0
      },
      "text/plain": [
       "dataset/train/train_17429/train_17429_a/(…):   0%|          | 0.00/258M [00:00<?, ?B/s]"
      ]
     },
     "metadata": {},
     "output_type": "display_data"
    },
    {
     "name": "stdout",
     "output_type": "stream",
     "text": [
      "test all pooling\n",
      "Processing dataset/train/train_11530/train_11530_b/train_11530_b_1.nii.gz...\n"
     ]
    },
    {
     "data": {
      "application/vnd.jupyter.widget-view+json": {
       "model_id": "6c2154303f104239b7f7b35ef962c387",
       "version_major": 2,
       "version_minor": 0
      },
      "text/plain": [
       "dataset/train/train_11530/train_11530_b/(…):   0%|          | 0.00/499M [00:00<?, ?B/s]"
      ]
     },
     "metadata": {},
     "output_type": "display_data"
    },
    {
     "name": "stdout",
     "output_type": "stream",
     "text": [
      "test all pooling\n",
      "Processing dataset/train/train_18091/train_18091_a/train_18091_a_2.nii.gz...\n"
     ]
    },
    {
     "data": {
      "application/vnd.jupyter.widget-view+json": {
       "model_id": "c75f4d5fb6874c8eade2002a5d3e2b28",
       "version_major": 2,
       "version_minor": 0
      },
      "text/plain": [
       "dataset/train/train_18091/train_18091_a/(…):   0%|          | 0.00/203M [00:00<?, ?B/s]"
      ]
     },
     "metadata": {},
     "output_type": "display_data"
    },
    {
     "name": "stdout",
     "output_type": "stream",
     "text": [
      "test all pooling\n",
      "Processing dataset/train/train_18284/train_18284_a/train_18284_a_2.nii.gz...\n"
     ]
    },
    {
     "data": {
      "application/vnd.jupyter.widget-view+json": {
       "model_id": "ccda08401043438b9b9dfd2cdd9e4bc2",
       "version_major": 2,
       "version_minor": 0
      },
      "text/plain": [
       "dataset/train/train_18284/train_18284_a/(…):   0%|          | 0.00/198M [00:00<?, ?B/s]"
      ]
     },
     "metadata": {},
     "output_type": "display_data"
    },
    {
     "name": "stdout",
     "output_type": "stream",
     "text": [
      "test all pooling\n",
      "Processing dataset/train/train_4129/train_4129_a/train_4129_a_1.nii.gz...\n"
     ]
    },
    {
     "data": {
      "application/vnd.jupyter.widget-view+json": {
       "model_id": "92586885012c41faaab1ec23616aaf41",
       "version_major": 2,
       "version_minor": 0
      },
      "text/plain": [
       "dataset/train/train_4129/train_4129_a/tr(…):   0%|          | 0.00/445M [00:00<?, ?B/s]"
      ]
     },
     "metadata": {},
     "output_type": "display_data"
    },
    {
     "name": "stdout",
     "output_type": "stream",
     "text": [
      "test all pooling\n",
      "Processing dataset/train/train_2572/train_2572_a/train_2572_a_1.nii.gz...\n"
     ]
    },
    {
     "data": {
      "application/vnd.jupyter.widget-view+json": {
       "model_id": "37c8d9363d0541b29c7514ec9e1ea62d",
       "version_major": 2,
       "version_minor": 0
      },
      "text/plain": [
       "dataset/train/train_2572/train_2572_a/tr(…):   0%|          | 0.00/145M [00:00<?, ?B/s]"
      ]
     },
     "metadata": {},
     "output_type": "display_data"
    },
    {
     "name": "stdout",
     "output_type": "stream",
     "text": [
      "test all pooling\n",
      "Processing dataset/train/train_9789/train_9789_a/train_9789_a_2.nii.gz...\n"
     ]
    },
    {
     "data": {
      "application/vnd.jupyter.widget-view+json": {
       "model_id": "adbb2aff0380443e8504a20a80256af1",
       "version_major": 2,
       "version_minor": 0
      },
      "text/plain": [
       "dataset/train/train_9789/train_9789_a/tr(…):   0%|          | 0.00/185M [00:00<?, ?B/s]"
      ]
     },
     "metadata": {},
     "output_type": "display_data"
    },
    {
     "name": "stdout",
     "output_type": "stream",
     "text": [
      "test all pooling\n",
      "Processing dataset/train/train_4200/train_4200_a/train_4200_a_2.nii.gz...\n"
     ]
    },
    {
     "data": {
      "application/vnd.jupyter.widget-view+json": {
       "model_id": "7a14e9f6f9ab43578c5b0a61fa52209b",
       "version_major": 2,
       "version_minor": 0
      },
      "text/plain": [
       "dataset/train/train_4200/train_4200_a/tr(…):   0%|          | 0.00/51.7M [00:00<?, ?B/s]"
      ]
     },
     "metadata": {},
     "output_type": "display_data"
    },
    {
     "name": "stdout",
     "output_type": "stream",
     "text": [
      "test all pooling\n",
      "Processing dataset/train/train_2781/train_2781_a/train_2781_a_1.nii.gz...\n"
     ]
    },
    {
     "data": {
      "application/vnd.jupyter.widget-view+json": {
       "model_id": "7ea2ee232a5c4159b0a4ec8ae78e5ab0",
       "version_major": 2,
       "version_minor": 0
      },
      "text/plain": [
       "dataset/train/train_2781/train_2781_a/tr(…):   0%|          | 0.00/129M [00:00<?, ?B/s]"
      ]
     },
     "metadata": {},
     "output_type": "display_data"
    },
    {
     "name": "stdout",
     "output_type": "stream",
     "text": [
      "test all pooling\n",
      "Processing dataset/train/train_16810/train_16810_a/train_16810_a_2.nii.gz...\n"
     ]
    },
    {
     "data": {
      "application/vnd.jupyter.widget-view+json": {
       "model_id": "539e599876234ba5b2dc405a58df177b",
       "version_major": 2,
       "version_minor": 0
      },
      "text/plain": [
       "dataset/train/train_16810/train_16810_a/(…):   0%|          | 0.00/208M [00:00<?, ?B/s]"
      ]
     },
     "metadata": {},
     "output_type": "display_data"
    },
    {
     "name": "stdout",
     "output_type": "stream",
     "text": [
      "test all pooling\n",
      "Processing dataset/train/train_5117/train_5117_c/train_5117_c_1.nii.gz...\n"
     ]
    },
    {
     "data": {
      "application/vnd.jupyter.widget-view+json": {
       "model_id": "f0af99b579254f65b018f148cc520386",
       "version_major": 2,
       "version_minor": 0
      },
      "text/plain": [
       "dataset/train/train_5117/train_5117_c/tr(…):   0%|          | 0.00/497M [00:00<?, ?B/s]"
      ]
     },
     "metadata": {},
     "output_type": "display_data"
    },
    {
     "name": "stdout",
     "output_type": "stream",
     "text": [
      "test all pooling\n",
      "Processing dataset/train/train_11480/train_11480_a/train_11480_a_1.nii.gz...\n"
     ]
    },
    {
     "data": {
      "application/vnd.jupyter.widget-view+json": {
       "model_id": "c217b69ee32a4828ad1d288e0b1b50d6",
       "version_major": 2,
       "version_minor": 0
      },
      "text/plain": [
       "dataset/train/train_11480/train_11480_a/(…):   0%|          | 0.00/389M [00:00<?, ?B/s]"
      ]
     },
     "metadata": {},
     "output_type": "display_data"
    },
    {
     "name": "stdout",
     "output_type": "stream",
     "text": [
      "test all pooling\n",
      "Processing dataset/train/train_5832/train_5832_a/train_5832_a_1.nii.gz...\n"
     ]
    },
    {
     "data": {
      "application/vnd.jupyter.widget-view+json": {
       "model_id": "fc8a6fe533c24c5395a6491fecce7dcd",
       "version_major": 2,
       "version_minor": 0
      },
      "text/plain": [
       "dataset/train/train_5832/train_5832_a/tr(…):   0%|          | 0.00/490M [00:00<?, ?B/s]"
      ]
     },
     "metadata": {},
     "output_type": "display_data"
    },
    {
     "name": "stdout",
     "output_type": "stream",
     "text": [
      "test all pooling\n",
      "Processing dataset/train/train_10085/train_10085_a/train_10085_a_1.nii.gz...\n"
     ]
    },
    {
     "data": {
      "application/vnd.jupyter.widget-view+json": {
       "model_id": "0646c27bf6c5443296de9e312753f72c",
       "version_major": 2,
       "version_minor": 0
      },
      "text/plain": [
       "dataset/train/train_10085/train_10085_a/(…):   0%|          | 0.00/281M [00:00<?, ?B/s]"
      ]
     },
     "metadata": {},
     "output_type": "display_data"
    },
    {
     "name": "stdout",
     "output_type": "stream",
     "text": [
      "test all pooling\n",
      "Processing dataset/train/train_1857/train_1857_a/train_1857_a_1.nii.gz...\n"
     ]
    },
    {
     "data": {
      "application/vnd.jupyter.widget-view+json": {
       "model_id": "0e33eb7d70cc4ea7bf3dd39402a02dfb",
       "version_major": 2,
       "version_minor": 0
      },
      "text/plain": [
       "dataset/train/train_1857/train_1857_a/tr(…):   0%|          | 0.00/104M [00:00<?, ?B/s]"
      ]
     },
     "metadata": {},
     "output_type": "display_data"
    },
    {
     "name": "stdout",
     "output_type": "stream",
     "text": [
      "test all pooling\n",
      "Processing dataset/train/train_11762/train_11762_a/train_11762_a_1.nii.gz...\n"
     ]
    },
    {
     "data": {
      "application/vnd.jupyter.widget-view+json": {
       "model_id": "a81f15528d134d59b4d6ae135eacb08c",
       "version_major": 2,
       "version_minor": 0
      },
      "text/plain": [
       "dataset/train/train_11762/train_11762_a/(…):   0%|          | 0.00/450M [00:00<?, ?B/s]"
      ]
     },
     "metadata": {},
     "output_type": "display_data"
    },
    {
     "name": "stdout",
     "output_type": "stream",
     "text": [
      "test all pooling\n",
      "Processing dataset/train/train_1592/train_1592_a/train_1592_a_1.nii.gz...\n"
     ]
    },
    {
     "data": {
      "application/vnd.jupyter.widget-view+json": {
       "model_id": "8505e3e7853c49298823a5411c24508c",
       "version_major": 2,
       "version_minor": 0
      },
      "text/plain": [
       "dataset/train/train_1592/train_1592_a/tr(…):   0%|          | 0.00/113M [00:00<?, ?B/s]"
      ]
     },
     "metadata": {},
     "output_type": "display_data"
    },
    {
     "name": "stdout",
     "output_type": "stream",
     "text": [
      "test all pooling\n",
      "Processing dataset/train/train_16904/train_16904_a/train_16904_a_2.nii.gz...\n"
     ]
    },
    {
     "data": {
      "application/vnd.jupyter.widget-view+json": {
       "model_id": "c03943d6b9d04b8195353bef3ecd782a",
       "version_major": 2,
       "version_minor": 0
      },
      "text/plain": [
       "dataset/train/train_16904/train_16904_a/(…):   0%|          | 0.00/186M [00:00<?, ?B/s]"
      ]
     },
     "metadata": {},
     "output_type": "display_data"
    },
    {
     "name": "stdout",
     "output_type": "stream",
     "text": [
      "test all pooling\n",
      "Processing dataset/train/train_12332/train_12332_a/train_12332_a_2.nii.gz...\n"
     ]
    },
    {
     "data": {
      "application/vnd.jupyter.widget-view+json": {
       "model_id": "518ff98afb334c39ba886f544c96851e",
       "version_major": 2,
       "version_minor": 0
      },
      "text/plain": [
       "dataset/train/train_12332/train_12332_a/(…):   0%|          | 0.00/165M [00:00<?, ?B/s]"
      ]
     },
     "metadata": {},
     "output_type": "display_data"
    },
    {
     "name": "stdout",
     "output_type": "stream",
     "text": [
      "test all pooling\n",
      "Processing dataset/train/train_12160/train_12160_c/train_12160_c_1.nii.gz...\n"
     ]
    },
    {
     "data": {
      "application/vnd.jupyter.widget-view+json": {
       "model_id": "f423468336ab4591ada77d8a214066ba",
       "version_major": 2,
       "version_minor": 0
      },
      "text/plain": [
       "dataset/train/train_12160/train_12160_c/(…):   0%|          | 0.00/121M [00:00<?, ?B/s]"
      ]
     },
     "metadata": {},
     "output_type": "display_data"
    },
    {
     "name": "stdout",
     "output_type": "stream",
     "text": [
      "test all pooling\n",
      "Processing dataset/train/train_13335/train_13335_b/train_13335_b_2.nii.gz...\n"
     ]
    },
    {
     "data": {
      "application/vnd.jupyter.widget-view+json": {
       "model_id": "4e0f133ba81a403b9cf3c766fd891bb5",
       "version_major": 2,
       "version_minor": 0
      },
      "text/plain": [
       "dataset/train/train_13335/train_13335_b/(…):   0%|          | 0.00/82.4M [00:00<?, ?B/s]"
      ]
     },
     "metadata": {},
     "output_type": "display_data"
    },
    {
     "name": "stdout",
     "output_type": "stream",
     "text": [
      "test all pooling\n",
      "Processing dataset/train/train_7239/train_7239_a/train_7239_a_1.nii.gz...\n"
     ]
    },
    {
     "data": {
      "application/vnd.jupyter.widget-view+json": {
       "model_id": "61ff33b42bb8495896a48fea8ecc431c",
       "version_major": 2,
       "version_minor": 0
      },
      "text/plain": [
       "dataset/train/train_7239/train_7239_a/tr(…):   0%|          | 0.00/133M [00:00<?, ?B/s]"
      ]
     },
     "metadata": {},
     "output_type": "display_data"
    },
    {
     "name": "stdout",
     "output_type": "stream",
     "text": [
      "test all pooling\n",
      "Processing dataset/train/train_18313/train_18313_b/train_18313_b_1.nii.gz...\n"
     ]
    },
    {
     "data": {
      "application/vnd.jupyter.widget-view+json": {
       "model_id": "3f7531fbf97c4e4d8ae2f607a1a5ca03",
       "version_major": 2,
       "version_minor": 0
      },
      "text/plain": [
       "dataset/train/train_18313/train_18313_b/(…):   0%|          | 0.00/519M [00:00<?, ?B/s]"
      ]
     },
     "metadata": {},
     "output_type": "display_data"
    },
    {
     "name": "stdout",
     "output_type": "stream",
     "text": [
      "test all pooling\n",
      "Processing dataset/train/train_10774/train_10774_a/train_10774_a_1.nii.gz...\n"
     ]
    },
    {
     "data": {
      "application/vnd.jupyter.widget-view+json": {
       "model_id": "6f78e62073044ae1bc2b05421ae27cc7",
       "version_major": 2,
       "version_minor": 0
      },
      "text/plain": [
       "dataset/train/train_10774/train_10774_a/(…):   0%|          | 0.00/129M [00:00<?, ?B/s]"
      ]
     },
     "metadata": {},
     "output_type": "display_data"
    },
    {
     "name": "stdout",
     "output_type": "stream",
     "text": [
      "test all pooling\n",
      "Processing dataset/train/train_15328/train_15328_a/train_15328_a_1.nii.gz...\n"
     ]
    },
    {
     "data": {
      "application/vnd.jupyter.widget-view+json": {
       "model_id": "80df5db243cb49829ebdfb58deb0f2be",
       "version_major": 2,
       "version_minor": 0
      },
      "text/plain": [
       "dataset/train/train_15328/train_15328_a/(…):   0%|          | 0.00/517M [00:00<?, ?B/s]"
      ]
     },
     "metadata": {},
     "output_type": "display_data"
    },
    {
     "name": "stdout",
     "output_type": "stream",
     "text": [
      "test all pooling\n",
      "Processing dataset/train/train_8017/train_8017_a/train_8017_a_2.nii.gz...\n"
     ]
    },
    {
     "data": {
      "application/vnd.jupyter.widget-view+json": {
       "model_id": "8b55648c682c41b5af8e73bf412a099b",
       "version_major": 2,
       "version_minor": 0
      },
      "text/plain": [
       "dataset/train/train_8017/train_8017_a/tr(…):   0%|          | 0.00/88.8M [00:00<?, ?B/s]"
      ]
     },
     "metadata": {},
     "output_type": "display_data"
    },
    {
     "name": "stdout",
     "output_type": "stream",
     "text": [
      "test all pooling\n",
      "Processing dataset/train/train_6537/train_6537_a/train_6537_a_1.nii.gz...\n"
     ]
    },
    {
     "data": {
      "application/vnd.jupyter.widget-view+json": {
       "model_id": "0a92d945fbd449389bfcb40425ff6154",
       "version_major": 2,
       "version_minor": 0
      },
      "text/plain": [
       "dataset/train/train_6537/train_6537_a/tr(…):   0%|          | 0.00/481M [00:00<?, ?B/s]"
      ]
     },
     "metadata": {},
     "output_type": "display_data"
    },
    {
     "name": "stdout",
     "output_type": "stream",
     "text": [
      "test all pooling\n",
      "Processing dataset/train/train_8695/train_8695_a/train_8695_a_1.nii.gz...\n"
     ]
    },
    {
     "data": {
      "application/vnd.jupyter.widget-view+json": {
       "model_id": "5df254f74b9a4d008a1f987d2b24d63f",
       "version_major": 2,
       "version_minor": 0
      },
      "text/plain": [
       "dataset/train/train_8695/train_8695_a/tr(…):   0%|          | 0.00/492M [00:00<?, ?B/s]"
      ]
     },
     "metadata": {},
     "output_type": "display_data"
    },
    {
     "name": "stdout",
     "output_type": "stream",
     "text": [
      "test all pooling\n",
      "Processing dataset/train/train_12262/train_12262_a/train_12262_a_1.nii.gz...\n"
     ]
    },
    {
     "data": {
      "application/vnd.jupyter.widget-view+json": {
       "model_id": "4dfa7772a54b4e94818972be210e1069",
       "version_major": 2,
       "version_minor": 0
      },
      "text/plain": [
       "dataset/train/train_12262/train_12262_a/(…):   0%|          | 0.00/515M [00:00<?, ?B/s]"
      ]
     },
     "metadata": {},
     "output_type": "display_data"
    },
    {
     "name": "stdout",
     "output_type": "stream",
     "text": [
      "test all pooling\n",
      "Processing dataset/train/train_14726/train_14726_a/train_14726_a_1.nii.gz...\n"
     ]
    },
    {
     "data": {
      "application/vnd.jupyter.widget-view+json": {
       "model_id": "b1a70b65b4a44557bef595ba44819846",
       "version_major": 2,
       "version_minor": 0
      },
      "text/plain": [
       "dataset/train/train_14726/train_14726_a/(…):   0%|          | 0.00/140M [00:00<?, ?B/s]"
      ]
     },
     "metadata": {},
     "output_type": "display_data"
    },
    {
     "name": "stdout",
     "output_type": "stream",
     "text": [
      "test all pooling\n",
      "Processing dataset/train/train_17300/train_17300_a/train_17300_a_1.nii.gz...\n"
     ]
    },
    {
     "data": {
      "application/vnd.jupyter.widget-view+json": {
       "model_id": "c2bdfac6758e4e50a99d7599dc524daf",
       "version_major": 2,
       "version_minor": 0
      },
      "text/plain": [
       "dataset/train/train_17300/train_17300_a/(…):   0%|          | 0.00/451M [00:00<?, ?B/s]"
      ]
     },
     "metadata": {},
     "output_type": "display_data"
    },
    {
     "name": "stdout",
     "output_type": "stream",
     "text": [
      "test all pooling\n",
      "Processing dataset/train/train_12845/train_12845_a/train_12845_a_1.nii.gz...\n"
     ]
    },
    {
     "data": {
      "application/vnd.jupyter.widget-view+json": {
       "model_id": "2d4fca8f65da4e97a2d931b0a0c7184c",
       "version_major": 2,
       "version_minor": 0
      },
      "text/plain": [
       "dataset/train/train_12845/train_12845_a/(…):   0%|          | 0.00/134M [00:00<?, ?B/s]"
      ]
     },
     "metadata": {},
     "output_type": "display_data"
    },
    {
     "name": "stdout",
     "output_type": "stream",
     "text": [
      "test all pooling\n",
      "Processing dataset/train/train_15508/train_15508_a/train_15508_a_2.nii.gz...\n"
     ]
    },
    {
     "data": {
      "application/vnd.jupyter.widget-view+json": {
       "model_id": "2f6917da6e874312a3034b2580597150",
       "version_major": 2,
       "version_minor": 0
      },
      "text/plain": [
       "dataset/train/train_15508/train_15508_a/(…):   0%|          | 0.00/175M [00:00<?, ?B/s]"
      ]
     },
     "metadata": {},
     "output_type": "display_data"
    },
    {
     "name": "stdout",
     "output_type": "stream",
     "text": [
      "test all pooling\n",
      "Processing dataset/train/train_924/train_924_a/train_924_a_2.nii.gz...\n"
     ]
    },
    {
     "data": {
      "application/vnd.jupyter.widget-view+json": {
       "model_id": "53d6088b2c5143588c4b614f5d7b8201",
       "version_major": 2,
       "version_minor": 0
      },
      "text/plain": [
       "dataset/train/train_924/train_924_a/trai(…):   0%|          | 0.00/426M [00:00<?, ?B/s]"
      ]
     },
     "metadata": {},
     "output_type": "display_data"
    },
    {
     "name": "stdout",
     "output_type": "stream",
     "text": [
      "test all pooling\n",
      "Processing dataset/train/train_7079/train_7079_a/train_7079_a_2.nii.gz...\n"
     ]
    },
    {
     "data": {
      "application/vnd.jupyter.widget-view+json": {
       "model_id": "7315fc53931c48f68529ca177d71e07c",
       "version_major": 2,
       "version_minor": 0
      },
      "text/plain": [
       "dataset/train/train_7079/train_7079_a/tr(…):   0%|          | 0.00/124M [00:00<?, ?B/s]"
      ]
     },
     "metadata": {},
     "output_type": "display_data"
    },
    {
     "name": "stdout",
     "output_type": "stream",
     "text": [
      "test all pooling\n",
      "Processing dataset/train/train_5989/train_5989_a/train_5989_a_1.nii.gz...\n"
     ]
    },
    {
     "data": {
      "application/vnd.jupyter.widget-view+json": {
       "model_id": "10f004b50bd7445285f04f4dc5829485",
       "version_major": 2,
       "version_minor": 0
      },
      "text/plain": [
       "dataset/train/train_5989/train_5989_a/tr(…):   0%|          | 0.00/147M [00:00<?, ?B/s]"
      ]
     },
     "metadata": {},
     "output_type": "display_data"
    },
    {
     "name": "stdout",
     "output_type": "stream",
     "text": [
      "test all pooling\n",
      "Processing dataset/train/train_1010/train_1010_a/train_1010_a_2.nii.gz...\n"
     ]
    },
    {
     "data": {
      "application/vnd.jupyter.widget-view+json": {
       "model_id": "2af47129a07941a5a0cdeaf87c27170c",
       "version_major": 2,
       "version_minor": 0
      },
      "text/plain": [
       "dataset/train/train_1010/train_1010_a/tr(…):   0%|          | 0.00/131M [00:00<?, ?B/s]"
      ]
     },
     "metadata": {},
     "output_type": "display_data"
    },
    {
     "name": "stdout",
     "output_type": "stream",
     "text": [
      "test all pooling\n",
      "Processing dataset/train/train_8045/train_8045_d/train_8045_d_2.nii.gz...\n"
     ]
    },
    {
     "data": {
      "application/vnd.jupyter.widget-view+json": {
       "model_id": "a65e758677414751a7505e4657796b15",
       "version_major": 2,
       "version_minor": 0
      },
      "text/plain": [
       "dataset/train/train_8045/train_8045_d/tr(…):   0%|          | 0.00/107M [00:00<?, ?B/s]"
      ]
     },
     "metadata": {},
     "output_type": "display_data"
    },
    {
     "name": "stdout",
     "output_type": "stream",
     "text": [
      "test all pooling\n",
      "Processing dataset/train/train_1058/train_1058_a/train_1058_a_2.nii.gz...\n"
     ]
    },
    {
     "data": {
      "application/vnd.jupyter.widget-view+json": {
       "model_id": "525e2bff39634c308f760fe3e2d256ba",
       "version_major": 2,
       "version_minor": 0
      },
      "text/plain": [
       "dataset/train/train_1058/train_1058_a/tr(…):   0%|          | 0.00/180M [00:00<?, ?B/s]"
      ]
     },
     "metadata": {},
     "output_type": "display_data"
    },
    {
     "name": "stdout",
     "output_type": "stream",
     "text": [
      "test all pooling\n",
      "Processing dataset/train/train_16629/train_16629_a/train_16629_a_1.nii.gz...\n"
     ]
    },
    {
     "data": {
      "application/vnd.jupyter.widget-view+json": {
       "model_id": "c2827af2ee65434baa9a04b6fd77f7f2",
       "version_major": 2,
       "version_minor": 0
      },
      "text/plain": [
       "dataset/train/train_16629/train_16629_a/(…):   0%|          | 0.00/488M [00:00<?, ?B/s]"
      ]
     },
     "metadata": {},
     "output_type": "display_data"
    },
    {
     "name": "stdout",
     "output_type": "stream",
     "text": [
      "test all pooling\n",
      "Processing dataset/train/train_12017/train_12017_a/train_12017_a_2.nii.gz...\n"
     ]
    },
    {
     "data": {
      "application/vnd.jupyter.widget-view+json": {
       "model_id": "a63d05312edd4a538b2dfd6b5ce584ee",
       "version_major": 2,
       "version_minor": 0
      },
      "text/plain": [
       "dataset/train/train_12017/train_12017_a/(…):   0%|          | 0.00/214M [00:00<?, ?B/s]"
      ]
     },
     "metadata": {},
     "output_type": "display_data"
    },
    {
     "name": "stdout",
     "output_type": "stream",
     "text": [
      "test all pooling\n",
      "Processing dataset/train/train_19857/train_19857_a/train_19857_a_1.nii.gz...\n"
     ]
    },
    {
     "data": {
      "application/vnd.jupyter.widget-view+json": {
       "model_id": "afc288bacf964576816b9fec12a45401",
       "version_major": 2,
       "version_minor": 0
      },
      "text/plain": [
       "dataset/train/train_19857/train_19857_a/(…):   0%|          | 0.00/455M [00:00<?, ?B/s]"
      ]
     },
     "metadata": {},
     "output_type": "display_data"
    },
    {
     "name": "stdout",
     "output_type": "stream",
     "text": [
      "test all pooling\n",
      "Processing dataset/train/train_6505/train_6505_a/train_6505_a_1.nii.gz...\n"
     ]
    },
    {
     "data": {
      "application/vnd.jupyter.widget-view+json": {
       "model_id": "6d630e778e4f4d4a95355b527d45b5c0",
       "version_major": 2,
       "version_minor": 0
      },
      "text/plain": [
       "dataset/train/train_6505/train_6505_a/tr(…):   0%|          | 0.00/269M [00:00<?, ?B/s]"
      ]
     },
     "metadata": {},
     "output_type": "display_data"
    },
    {
     "name": "stdout",
     "output_type": "stream",
     "text": [
      "test all pooling\n",
      "Processing dataset/train/train_8871/train_8871_a/train_8871_a_1.nii.gz...\n"
     ]
    },
    {
     "data": {
      "application/vnd.jupyter.widget-view+json": {
       "model_id": "3efe30b92c5f49f9829311937d181175",
       "version_major": 2,
       "version_minor": 0
      },
      "text/plain": [
       "dataset/train/train_8871/train_8871_a/tr(…):   0%|          | 0.00/169M [00:00<?, ?B/s]"
      ]
     },
     "metadata": {},
     "output_type": "display_data"
    },
    {
     "name": "stdout",
     "output_type": "stream",
     "text": [
      "test all pooling\n",
      "Processing dataset/train/train_12439/train_12439_a/train_12439_a_1.nii.gz...\n"
     ]
    },
    {
     "data": {
      "application/vnd.jupyter.widget-view+json": {
       "model_id": "b879d4fa0e7244bea6a36b1e45da7204",
       "version_major": 2,
       "version_minor": 0
      },
      "text/plain": [
       "dataset/train/train_12439/train_12439_a/(…):   0%|          | 0.00/170M [00:00<?, ?B/s]"
      ]
     },
     "metadata": {},
     "output_type": "display_data"
    },
    {
     "name": "stdout",
     "output_type": "stream",
     "text": [
      "test all pooling\n",
      "Processing dataset/train/train_14668/train_14668_a/train_14668_a_1.nii.gz...\n"
     ]
    },
    {
     "data": {
      "application/vnd.jupyter.widget-view+json": {
       "model_id": "7d3df75862a44e809bc63aed8d25484d",
       "version_major": 2,
       "version_minor": 0
      },
      "text/plain": [
       "dataset/train/train_14668/train_14668_a/(…):   0%|          | 0.00/436M [00:00<?, ?B/s]"
      ]
     },
     "metadata": {},
     "output_type": "display_data"
    },
    {
     "name": "stdout",
     "output_type": "stream",
     "text": [
      "test all pooling\n",
      "Processing dataset/train/train_4854/train_4854_a/train_4854_a_2.nii.gz...\n"
     ]
    },
    {
     "data": {
      "application/vnd.jupyter.widget-view+json": {
       "model_id": "cfb1ce2268e047479ac3da5415e79d8b",
       "version_major": 2,
       "version_minor": 0
      },
      "text/plain": [
       "dataset/train/train_4854/train_4854_a/tr(…):   0%|          | 0.00/214M [00:00<?, ?B/s]"
      ]
     },
     "metadata": {},
     "output_type": "display_data"
    },
    {
     "name": "stdout",
     "output_type": "stream",
     "text": [
      "test all pooling\n",
      "Processing dataset/train/train_6435/train_6435_a/train_6435_a_2.nii.gz...\n"
     ]
    },
    {
     "data": {
      "application/vnd.jupyter.widget-view+json": {
       "model_id": "ad592366e6d1438a9680497e435da281",
       "version_major": 2,
       "version_minor": 0
      },
      "text/plain": [
       "dataset/train/train_6435/train_6435_a/tr(…):   0%|          | 0.00/92.1M [00:00<?, ?B/s]"
      ]
     },
     "metadata": {},
     "output_type": "display_data"
    },
    {
     "name": "stdout",
     "output_type": "stream",
     "text": [
      "test all pooling\n",
      "Processing dataset/train/train_3538/train_3538_a/train_3538_a_1.nii.gz...\n"
     ]
    },
    {
     "data": {
      "application/vnd.jupyter.widget-view+json": {
       "model_id": "6e1a62abb057445d8ed82e595c51bf31",
       "version_major": 2,
       "version_minor": 0
      },
      "text/plain": [
       "dataset/train/train_3538/train_3538_a/tr(…):   0%|          | 0.00/531M [00:00<?, ?B/s]"
      ]
     },
     "metadata": {},
     "output_type": "display_data"
    },
    {
     "name": "stdout",
     "output_type": "stream",
     "text": [
      "test all pooling\n",
      "Processing dataset/train/train_8818/train_8818_a/train_8818_a_1.nii.gz...\n"
     ]
    },
    {
     "data": {
      "application/vnd.jupyter.widget-view+json": {
       "model_id": "e0ef9331eb3b4f65b43ac8b30da951df",
       "version_major": 2,
       "version_minor": 0
      },
      "text/plain": [
       "dataset/train/train_8818/train_8818_a/tr(…):   0%|          | 0.00/117M [00:00<?, ?B/s]"
      ]
     },
     "metadata": {},
     "output_type": "display_data"
    },
    {
     "name": "stdout",
     "output_type": "stream",
     "text": [
      "test all pooling\n",
      "Processing dataset/train/train_10375/train_10375_a/train_10375_a_1.nii.gz...\n"
     ]
    },
    {
     "data": {
      "application/vnd.jupyter.widget-view+json": {
       "model_id": "81a630f1a94748bcb5d931f733ffb933",
       "version_major": 2,
       "version_minor": 0
      },
      "text/plain": [
       "dataset/train/train_10375/train_10375_a/(…):   0%|          | 0.00/540M [00:00<?, ?B/s]"
      ]
     },
     "metadata": {},
     "output_type": "display_data"
    },
    {
     "name": "stdout",
     "output_type": "stream",
     "text": [
      "test all pooling\n",
      "Processing dataset/train/train_8187/train_8187_a/train_8187_a_2.nii.gz...\n"
     ]
    },
    {
     "data": {
      "application/vnd.jupyter.widget-view+json": {
       "model_id": "03354a739ef14061853ca1de9be4430b",
       "version_major": 2,
       "version_minor": 0
      },
      "text/plain": [
       "dataset/train/train_8187/train_8187_a/tr(…):   0%|          | 0.00/235M [00:00<?, ?B/s]"
      ]
     },
     "metadata": {},
     "output_type": "display_data"
    },
    {
     "name": "stdout",
     "output_type": "stream",
     "text": [
      "test all pooling\n",
      "Processing dataset/train/train_5320/train_5320_a/train_5320_a_2.nii.gz...\n"
     ]
    },
    {
     "data": {
      "application/vnd.jupyter.widget-view+json": {
       "model_id": "b2373c5c46dc47388927345622a33d98",
       "version_major": 2,
       "version_minor": 0
      },
      "text/plain": [
       "dataset/train/train_5320/train_5320_a/tr(…):   0%|          | 0.00/224M [00:00<?, ?B/s]"
      ]
     },
     "metadata": {},
     "output_type": "display_data"
    },
    {
     "name": "stdout",
     "output_type": "stream",
     "text": [
      "test all pooling\n",
      "Processing dataset/train/train_18457/train_18457_a/train_18457_a_1.nii.gz...\n"
     ]
    },
    {
     "data": {
      "application/vnd.jupyter.widget-view+json": {
       "model_id": "94221bd1028e458b936f68147cfebe55",
       "version_major": 2,
       "version_minor": 0
      },
      "text/plain": [
       "dataset/train/train_18457/train_18457_a/(…):   0%|          | 0.00/255M [00:00<?, ?B/s]"
      ]
     },
     "metadata": {},
     "output_type": "display_data"
    },
    {
     "name": "stdout",
     "output_type": "stream",
     "text": [
      "test all pooling\n",
      "Processing dataset/train/train_11580/train_11580_a/train_11580_a_2.nii.gz...\n"
     ]
    },
    {
     "data": {
      "application/vnd.jupyter.widget-view+json": {
       "model_id": "4feab155559642f7aca08c968e5ae426",
       "version_major": 2,
       "version_minor": 0
      },
      "text/plain": [
       "dataset/train/train_11580/train_11580_a/(…):   0%|          | 0.00/241M [00:00<?, ?B/s]"
      ]
     },
     "metadata": {},
     "output_type": "display_data"
    },
    {
     "name": "stdout",
     "output_type": "stream",
     "text": [
      "test all pooling\n",
      "Processing dataset/train/train_14055/train_14055_a/train_14055_a_2.nii.gz...\n"
     ]
    },
    {
     "data": {
      "application/vnd.jupyter.widget-view+json": {
       "model_id": "2751a05f7f9d4285914b74bae136cd56",
       "version_major": 2,
       "version_minor": 0
      },
      "text/plain": [
       "dataset/train/train_14055/train_14055_a/(…):   0%|          | 0.00/67.8M [00:00<?, ?B/s]"
      ]
     },
     "metadata": {},
     "output_type": "display_data"
    },
    {
     "name": "stdout",
     "output_type": "stream",
     "text": [
      "test all pooling\n",
      "Processing dataset/train/train_10321/train_10321_f/train_10321_f_1.nii.gz...\n"
     ]
    },
    {
     "data": {
      "application/vnd.jupyter.widget-view+json": {
       "model_id": "e8bab0fe8bc642e2a9bf0508efa6bd50",
       "version_major": 2,
       "version_minor": 0
      },
      "text/plain": [
       "dataset/train/train_10321/train_10321_f/(…):   0%|          | 0.00/126M [00:00<?, ?B/s]"
      ]
     },
     "metadata": {},
     "output_type": "display_data"
    },
    {
     "name": "stdout",
     "output_type": "stream",
     "text": [
      "test all pooling\n",
      "Processing dataset/train/train_5334/train_5334_a/train_5334_a_1.nii.gz...\n"
     ]
    },
    {
     "data": {
      "application/vnd.jupyter.widget-view+json": {
       "model_id": "97d47c743a5a4bd0b6403746f89f9981",
       "version_major": 2,
       "version_minor": 0
      },
      "text/plain": [
       "dataset/train/train_5334/train_5334_a/tr(…):   0%|          | 0.00/480M [00:00<?, ?B/s]"
      ]
     },
     "metadata": {},
     "output_type": "display_data"
    },
    {
     "name": "stdout",
     "output_type": "stream",
     "text": [
      "test all pooling\n",
      "Processing dataset/train/train_15523/train_15523_a/train_15523_a_1.nii.gz...\n"
     ]
    },
    {
     "data": {
      "application/vnd.jupyter.widget-view+json": {
       "model_id": "3d3cee515d764df8843de70dd8bb87a8",
       "version_major": 2,
       "version_minor": 0
      },
      "text/plain": [
       "dataset/train/train_15523/train_15523_a/(…):   0%|          | 0.00/136M [00:00<?, ?B/s]"
      ]
     },
     "metadata": {},
     "output_type": "display_data"
    },
    {
     "name": "stdout",
     "output_type": "stream",
     "text": [
      "test all pooling\n",
      "Processing dataset/train/train_16158/train_16158_a/train_16158_a_2.nii.gz...\n"
     ]
    },
    {
     "data": {
      "application/vnd.jupyter.widget-view+json": {
       "model_id": "0fa2d107d8944940806319b45353bebe",
       "version_major": 2,
       "version_minor": 0
      },
      "text/plain": [
       "dataset/train/train_16158/train_16158_a/(…):   0%|          | 0.00/243M [00:00<?, ?B/s]"
      ]
     },
     "metadata": {},
     "output_type": "display_data"
    },
    {
     "name": "stdout",
     "output_type": "stream",
     "text": [
      "test all pooling\n",
      "Processing dataset/train/train_807/train_807_a/train_807_a_1.nii.gz...\n"
     ]
    },
    {
     "data": {
      "application/vnd.jupyter.widget-view+json": {
       "model_id": "5f97a76c6e2d49e79a0c9e0783abcb61",
       "version_major": 2,
       "version_minor": 0
      },
      "text/plain": [
       "dataset/train/train_807/train_807_a/trai(…):   0%|          | 0.00/101M [00:00<?, ?B/s]"
      ]
     },
     "metadata": {},
     "output_type": "display_data"
    },
    {
     "name": "stdout",
     "output_type": "stream",
     "text": [
      "test all pooling\n",
      "Processing dataset/train/train_8774/train_8774_a/train_8774_a_2.nii.gz...\n"
     ]
    },
    {
     "data": {
      "application/vnd.jupyter.widget-view+json": {
       "model_id": "076d2c397ba34b7ea3f1ae228d707a9f",
       "version_major": 2,
       "version_minor": 0
      },
      "text/plain": [
       "dataset/train/train_8774/train_8774_a/tr(…):   0%|          | 0.00/192M [00:00<?, ?B/s]"
      ]
     },
     "metadata": {},
     "output_type": "display_data"
    },
    {
     "name": "stdout",
     "output_type": "stream",
     "text": [
      "test all pooling\n",
      "Processing dataset/train/train_16164/train_16164_a/train_16164_a_2.nii.gz...\n"
     ]
    },
    {
     "data": {
      "application/vnd.jupyter.widget-view+json": {
       "model_id": "12cb83cdab2d4b11886b47507b39fbd7",
       "version_major": 2,
       "version_minor": 0
      },
      "text/plain": [
       "dataset/train/train_16164/train_16164_a/(…):   0%|          | 0.00/201M [00:00<?, ?B/s]"
      ]
     },
     "metadata": {},
     "output_type": "display_data"
    },
    {
     "name": "stdout",
     "output_type": "stream",
     "text": [
      "test all pooling\n",
      "Processing dataset/train/train_18793/train_18793_b/train_18793_b_2.nii.gz...\n"
     ]
    },
    {
     "data": {
      "application/vnd.jupyter.widget-view+json": {
       "model_id": "82ff75d085244443b3847ea60e5346c8",
       "version_major": 2,
       "version_minor": 0
      },
      "text/plain": [
       "dataset/train/train_18793/train_18793_b/(…):   0%|          | 0.00/163M [00:00<?, ?B/s]"
      ]
     },
     "metadata": {},
     "output_type": "display_data"
    },
    {
     "name": "stdout",
     "output_type": "stream",
     "text": [
      "test all pooling\n",
      "Processing dataset/train/train_15602/train_15602_a/train_15602_a_1.nii.gz...\n"
     ]
    },
    {
     "data": {
      "application/vnd.jupyter.widget-view+json": {
       "model_id": "212a6e716a434dcfbb0f5fae6b53df1c",
       "version_major": 2,
       "version_minor": 0
      },
      "text/plain": [
       "dataset/train/train_15602/train_15602_a/(…):   0%|          | 0.00/569M [00:00<?, ?B/s]"
      ]
     },
     "metadata": {},
     "output_type": "display_data"
    },
    {
     "name": "stdout",
     "output_type": "stream",
     "text": [
      "test all pooling\n",
      "Processing dataset/train/train_11626/train_11626_a/train_11626_a_1.nii.gz...\n"
     ]
    },
    {
     "data": {
      "application/vnd.jupyter.widget-view+json": {
       "model_id": "c19009b43e404ef2a3da7a69fa409876",
       "version_major": 2,
       "version_minor": 0
      },
      "text/plain": [
       "dataset/train/train_11626/train_11626_a/(…):   0%|          | 0.00/123M [00:00<?, ?B/s]"
      ]
     },
     "metadata": {},
     "output_type": "display_data"
    },
    {
     "name": "stdout",
     "output_type": "stream",
     "text": [
      "test all pooling\n",
      "Processing dataset/train/train_19795/train_19795_a/train_19795_a_1.nii.gz...\n"
     ]
    },
    {
     "data": {
      "application/vnd.jupyter.widget-view+json": {
       "model_id": "80d825d0b1c24a2fbffe89d3b99c14fa",
       "version_major": 2,
       "version_minor": 0
      },
      "text/plain": [
       "dataset/train/train_19795/train_19795_a/(…):   0%|          | 0.00/140M [00:00<?, ?B/s]"
      ]
     },
     "metadata": {},
     "output_type": "display_data"
    },
    {
     "name": "stdout",
     "output_type": "stream",
     "text": [
      "test all pooling\n",
      "Processing dataset/train/train_3574/train_3574_a/train_3574_a_2.nii.gz...\n"
     ]
    },
    {
     "data": {
      "application/vnd.jupyter.widget-view+json": {
       "model_id": "f32bf442ad1843baa532d6e1782dd3b2",
       "version_major": 2,
       "version_minor": 0
      },
      "text/plain": [
       "dataset/train/train_3574/train_3574_a/tr(…):   0%|          | 0.00/214M [00:00<?, ?B/s]"
      ]
     },
     "metadata": {},
     "output_type": "display_data"
    },
    {
     "name": "stdout",
     "output_type": "stream",
     "text": [
      "test all pooling\n",
      "Processing dataset/train/train_15230/train_15230_a/train_15230_a_1.nii.gz...\n"
     ]
    },
    {
     "data": {
      "application/vnd.jupyter.widget-view+json": {
       "model_id": "0e330638658741799f0b737c7a3e34c5",
       "version_major": 2,
       "version_minor": 0
      },
      "text/plain": [
       "dataset/train/train_15230/train_15230_a/(…):   0%|          | 0.00/143M [00:00<?, ?B/s]"
      ]
     },
     "metadata": {},
     "output_type": "display_data"
    },
    {
     "name": "stdout",
     "output_type": "stream",
     "text": [
      "test all pooling\n",
      "Processing dataset/train/train_19926/train_19926_a/train_19926_a_2.nii.gz...\n"
     ]
    },
    {
     "data": {
      "application/vnd.jupyter.widget-view+json": {
       "model_id": "150e7473ddac4faa9430589070fbc719",
       "version_major": 2,
       "version_minor": 0
      },
      "text/plain": [
       "dataset/train/train_19926/train_19926_a/(…):   0%|          | 0.00/237M [00:00<?, ?B/s]"
      ]
     },
     "metadata": {},
     "output_type": "display_data"
    },
    {
     "name": "stdout",
     "output_type": "stream",
     "text": [
      "test all pooling\n",
      "Processing dataset/train/train_3711/train_3711_a/train_3711_a_2.nii.gz...\n"
     ]
    },
    {
     "data": {
      "application/vnd.jupyter.widget-view+json": {
       "model_id": "f414292f4e7940e29d5c5195e98cf0d0",
       "version_major": 2,
       "version_minor": 0
      },
      "text/plain": [
       "dataset/train/train_3711/train_3711_a/tr(…):   0%|          | 0.00/106M [00:00<?, ?B/s]"
      ]
     },
     "metadata": {},
     "output_type": "display_data"
    },
    {
     "name": "stdout",
     "output_type": "stream",
     "text": [
      "test all pooling\n",
      "Processing dataset/train/train_19306/train_19306_a/train_19306_a_2.nii.gz...\n"
     ]
    },
    {
     "data": {
      "application/vnd.jupyter.widget-view+json": {
       "model_id": "37c0d9612e2c42e2870d5d06896ddf44",
       "version_major": 2,
       "version_minor": 0
      },
      "text/plain": [
       "dataset/train/train_19306/train_19306_a/(…):   0%|          | 0.00/167M [00:00<?, ?B/s]"
      ]
     },
     "metadata": {},
     "output_type": "display_data"
    },
    {
     "name": "stdout",
     "output_type": "stream",
     "text": [
      "test all pooling\n",
      "Processing dataset/train/train_15717/train_15717_a/train_15717_a_2.nii.gz...\n"
     ]
    },
    {
     "data": {
      "application/vnd.jupyter.widget-view+json": {
       "model_id": "2480f3877a55499ea9f4d114002c7d57",
       "version_major": 2,
       "version_minor": 0
      },
      "text/plain": [
       "dataset/train/train_15717/train_15717_a/(…):   0%|          | 0.00/196M [00:00<?, ?B/s]"
      ]
     },
     "metadata": {},
     "output_type": "display_data"
    },
    {
     "name": "stdout",
     "output_type": "stream",
     "text": [
      "test all pooling\n",
      "Processing dataset/train/train_9454/train_9454_a/train_9454_a_2.nii.gz...\n"
     ]
    },
    {
     "data": {
      "application/vnd.jupyter.widget-view+json": {
       "model_id": "c23a86ab0434465ab9edd0f606cb1a47",
       "version_major": 2,
       "version_minor": 0
      },
      "text/plain": [
       "dataset/train/train_9454/train_9454_a/tr(…):   0%|          | 0.00/234M [00:00<?, ?B/s]"
      ]
     },
     "metadata": {},
     "output_type": "display_data"
    },
    {
     "name": "stdout",
     "output_type": "stream",
     "text": [
      "test all pooling\n",
      "Processing dataset/train/train_2085/train_2085_a/train_2085_a_1.nii.gz...\n"
     ]
    },
    {
     "data": {
      "application/vnd.jupyter.widget-view+json": {
       "model_id": "0b352200f93341d89fc6dc99ab7f84b1",
       "version_major": 2,
       "version_minor": 0
      },
      "text/plain": [
       "dataset/train/train_2085/train_2085_a/tr(…):   0%|          | 0.00/462M [00:00<?, ?B/s]"
      ]
     },
     "metadata": {},
     "output_type": "display_data"
    },
    {
     "name": "stdout",
     "output_type": "stream",
     "text": [
      "test all pooling\n",
      "Processing dataset/train/train_8004/train_8004_a/train_8004_a_1.nii.gz...\n"
     ]
    },
    {
     "data": {
      "application/vnd.jupyter.widget-view+json": {
       "model_id": "e834982be2d84369bb21fd05dce7eb53",
       "version_major": 2,
       "version_minor": 0
      },
      "text/plain": [
       "dataset/train/train_8004/train_8004_a/tr(…):   0%|          | 0.00/449M [00:00<?, ?B/s]"
      ]
     },
     "metadata": {},
     "output_type": "display_data"
    },
    {
     "name": "stdout",
     "output_type": "stream",
     "text": [
      "test all pooling\n",
      "Processing dataset/train/train_5150/train_5150_a/train_5150_a_2.nii.gz...\n"
     ]
    },
    {
     "data": {
      "application/vnd.jupyter.widget-view+json": {
       "model_id": "3dacbbeeb8f945c6a6d3eed10b642284",
       "version_major": 2,
       "version_minor": 0
      },
      "text/plain": [
       "dataset/train/train_5150/train_5150_a/tr(…):   0%|          | 0.00/220M [00:00<?, ?B/s]"
      ]
     },
     "metadata": {},
     "output_type": "display_data"
    },
    {
     "name": "stdout",
     "output_type": "stream",
     "text": [
      "test all pooling\n",
      "Processing dataset/train/train_10575/train_10575_a/train_10575_a_1.nii.gz...\n"
     ]
    },
    {
     "data": {
      "application/vnd.jupyter.widget-view+json": {
       "model_id": "a2444228a6c44c5ebeecb380201aed54",
       "version_major": 2,
       "version_minor": 0
      },
      "text/plain": [
       "dataset/train/train_10575/train_10575_a/(…):   0%|          | 0.00/114M [00:00<?, ?B/s]"
      ]
     },
     "metadata": {},
     "output_type": "display_data"
    },
    {
     "name": "stdout",
     "output_type": "stream",
     "text": [
      "test all pooling\n",
      "Processing dataset/train/train_1422/train_1422_c/train_1422_c_1.nii.gz...\n"
     ]
    },
    {
     "data": {
      "application/vnd.jupyter.widget-view+json": {
       "model_id": "490ebe7fac9e4c4d87925ecf9739ced0",
       "version_major": 2,
       "version_minor": 0
      },
      "text/plain": [
       "dataset/train/train_1422/train_1422_c/tr(…):   0%|          | 0.00/133M [00:00<?, ?B/s]"
      ]
     },
     "metadata": {},
     "output_type": "display_data"
    },
    {
     "name": "stdout",
     "output_type": "stream",
     "text": [
      "test all pooling\n",
      "Processing dataset/train/train_13067/train_13067_a/train_13067_a_3.nii.gz...\n"
     ]
    },
    {
     "data": {
      "application/vnd.jupyter.widget-view+json": {
       "model_id": "8f575c988ab442a0a765be68f0b0f2f6",
       "version_major": 2,
       "version_minor": 0
      },
      "text/plain": [
       "dataset/train/train_13067/train_13067_a/(…):   0%|          | 0.00/422M [00:00<?, ?B/s]"
      ]
     },
     "metadata": {},
     "output_type": "display_data"
    },
    {
     "name": "stdout",
     "output_type": "stream",
     "text": [
      "test all pooling\n",
      "Processing dataset/train/train_7540/train_7540_e/train_7540_e_1.nii.gz...\n"
     ]
    },
    {
     "data": {
      "application/vnd.jupyter.widget-view+json": {
       "model_id": "a1a16087536e4fc6a65b3dab8364768a",
       "version_major": 2,
       "version_minor": 0
      },
      "text/plain": [
       "dataset/train/train_7540/train_7540_e/tr(…):   0%|          | 0.00/400M [00:00<?, ?B/s]"
      ]
     },
     "metadata": {},
     "output_type": "display_data"
    },
    {
     "name": "stdout",
     "output_type": "stream",
     "text": [
      "test all pooling\n",
      "Processing dataset/train/train_3748/train_3748_b/train_3748_b_1.nii.gz...\n"
     ]
    },
    {
     "data": {
      "application/vnd.jupyter.widget-view+json": {
       "model_id": "1a14225fa5124c8cb9c36550d1e1afad",
       "version_major": 2,
       "version_minor": 0
      },
      "text/plain": [
       "dataset/train/train_3748/train_3748_b/tr(…):   0%|          | 0.00/127M [00:00<?, ?B/s]"
      ]
     },
     "metadata": {},
     "output_type": "display_data"
    },
    {
     "name": "stdout",
     "output_type": "stream",
     "text": [
      "test all pooling\n",
      "Processing dataset/train/train_8344/train_8344_a/train_8344_a_2.nii.gz...\n"
     ]
    },
    {
     "data": {
      "application/vnd.jupyter.widget-view+json": {
       "model_id": "bc6af6e9ce104c79b612c331f7433689",
       "version_major": 2,
       "version_minor": 0
      },
      "text/plain": [
       "dataset/train/train_8344/train_8344_a/tr(…):   0%|          | 0.00/48.8M [00:00<?, ?B/s]"
      ]
     },
     "metadata": {},
     "output_type": "display_data"
    },
    {
     "name": "stdout",
     "output_type": "stream",
     "text": [
      "test all pooling\n",
      "Processing dataset/train/train_17732/train_17732_e/train_17732_e_2.nii.gz...\n"
     ]
    },
    {
     "data": {
      "application/vnd.jupyter.widget-view+json": {
       "model_id": "95d8531d9a6d4a95a9ac8969bf6cc883",
       "version_major": 2,
       "version_minor": 0
      },
      "text/plain": [
       "dataset/train/train_17732/train_17732_e/(…):   0%|          | 0.00/98.8M [00:00<?, ?B/s]"
      ]
     },
     "metadata": {},
     "output_type": "display_data"
    },
    {
     "name": "stdout",
     "output_type": "stream",
     "text": [
      "test all pooling\n",
      "Processing dataset/train/train_7811/train_7811_b/train_7811_b_1.nii.gz...\n"
     ]
    },
    {
     "data": {
      "application/vnd.jupyter.widget-view+json": {
       "model_id": "39b49b33189d4e61a1195515d2b06d3f",
       "version_major": 2,
       "version_minor": 0
      },
      "text/plain": [
       "dataset/train/train_7811/train_7811_b/tr(…):   0%|          | 0.00/166M [00:00<?, ?B/s]"
      ]
     },
     "metadata": {},
     "output_type": "display_data"
    },
    {
     "name": "stdout",
     "output_type": "stream",
     "text": [
      "test all pooling\n",
      "Processing dataset/train/train_116/train_116_a/train_116_a_2.nii.gz...\n"
     ]
    },
    {
     "data": {
      "application/vnd.jupyter.widget-view+json": {
       "model_id": "76c0dfd8121a49a1b473183945011961",
       "version_major": 2,
       "version_minor": 0
      },
      "text/plain": [
       "dataset/train/train_116/train_116_a/trai(…):   0%|          | 0.00/140M [00:00<?, ?B/s]"
      ]
     },
     "metadata": {},
     "output_type": "display_data"
    },
    {
     "name": "stdout",
     "output_type": "stream",
     "text": [
      "test all pooling\n",
      "Processing dataset/train/train_2329/train_2329_f/train_2329_f_1.nii.gz...\n"
     ]
    },
    {
     "data": {
      "application/vnd.jupyter.widget-view+json": {
       "model_id": "9356efc74ea9476b912edaa01a80bf6a",
       "version_major": 2,
       "version_minor": 0
      },
      "text/plain": [
       "dataset/train/train_2329/train_2329_f/tr(…):   0%|          | 0.00/147M [00:00<?, ?B/s]"
      ]
     },
     "metadata": {},
     "output_type": "display_data"
    },
    {
     "name": "stdout",
     "output_type": "stream",
     "text": [
      "test all pooling\n",
      "Processing dataset/train/train_19103/train_19103_a/train_19103_a_2.nii.gz...\n"
     ]
    },
    {
     "data": {
      "application/vnd.jupyter.widget-view+json": {
       "model_id": "b8ca94119bf14abcb23d48c80971c905",
       "version_major": 2,
       "version_minor": 0
      },
      "text/plain": [
       "dataset/train/train_19103/train_19103_a/(…):   0%|          | 0.00/163M [00:00<?, ?B/s]"
      ]
     },
     "metadata": {},
     "output_type": "display_data"
    },
    {
     "name": "stdout",
     "output_type": "stream",
     "text": [
      "test all pooling\n",
      "Processing dataset/train/train_8132/train_8132_b/train_8132_b_2.nii.gz...\n"
     ]
    },
    {
     "data": {
      "application/vnd.jupyter.widget-view+json": {
       "model_id": "9df82d0f6f7f4076894f32784375e3aa",
       "version_major": 2,
       "version_minor": 0
      },
      "text/plain": [
       "dataset/train/train_8132/train_8132_b/tr(…):   0%|          | 0.00/176M [00:00<?, ?B/s]"
      ]
     },
     "metadata": {},
     "output_type": "display_data"
    },
    {
     "name": "stdout",
     "output_type": "stream",
     "text": [
      "test all pooling\n",
      "Processing dataset/train/train_5632/train_5632_b/train_5632_b_2.nii.gz...\n"
     ]
    },
    {
     "data": {
      "application/vnd.jupyter.widget-view+json": {
       "model_id": "bc5e2fff776846378e57e820eacbd01a",
       "version_major": 2,
       "version_minor": 0
      },
      "text/plain": [
       "dataset/train/train_5632/train_5632_b/tr(…):   0%|          | 0.00/150M [00:00<?, ?B/s]"
      ]
     },
     "metadata": {},
     "output_type": "display_data"
    },
    {
     "name": "stdout",
     "output_type": "stream",
     "text": [
      "test all pooling\n",
      "Processing dataset/train/train_11656/train_11656_b/train_11656_b_1.nii.gz...\n"
     ]
    },
    {
     "data": {
      "application/vnd.jupyter.widget-view+json": {
       "model_id": "19b51a179d6d4e38abde8cffa0250813",
       "version_major": 2,
       "version_minor": 0
      },
      "text/plain": [
       "dataset/train/train_11656/train_11656_b/(…):   0%|          | 0.00/442M [00:00<?, ?B/s]"
      ]
     },
     "metadata": {},
     "output_type": "display_data"
    },
    {
     "name": "stdout",
     "output_type": "stream",
     "text": [
      "test all pooling\n",
      "Processing dataset/train/train_7124/train_7124_a/train_7124_a_1.nii.gz...\n"
     ]
    },
    {
     "data": {
      "application/vnd.jupyter.widget-view+json": {
       "model_id": "85ab93f5d2d040ad92335062a518fe8d",
       "version_major": 2,
       "version_minor": 0
      },
      "text/plain": [
       "dataset/train/train_7124/train_7124_a/tr(…):   0%|          | 0.00/87.6M [00:00<?, ?B/s]"
      ]
     },
     "metadata": {},
     "output_type": "display_data"
    },
    {
     "name": "stdout",
     "output_type": "stream",
     "text": [
      "test all pooling\n",
      "Processing dataset/train/train_1758/train_1758_c/train_1758_c_1.nii.gz...\n"
     ]
    },
    {
     "data": {
      "application/vnd.jupyter.widget-view+json": {
       "model_id": "03a20899917f4e94b8a839023b8dd956",
       "version_major": 2,
       "version_minor": 0
      },
      "text/plain": [
       "dataset/train/train_1758/train_1758_c/tr(…):   0%|          | 0.00/106M [00:00<?, ?B/s]"
      ]
     },
     "metadata": {},
     "output_type": "display_data"
    },
    {
     "name": "stdout",
     "output_type": "stream",
     "text": [
      "test all pooling\n",
      "Processing dataset/train/train_3934/train_3934_a/train_3934_a_1.nii.gz...\n"
     ]
    },
    {
     "data": {
      "application/vnd.jupyter.widget-view+json": {
       "model_id": "0b2146bbf7244f7380cfa11b765e7643",
       "version_major": 2,
       "version_minor": 0
      },
      "text/plain": [
       "dataset/train/train_3934/train_3934_a/tr(…):   0%|          | 0.00/494M [00:00<?, ?B/s]"
      ]
     },
     "metadata": {},
     "output_type": "display_data"
    },
    {
     "name": "stdout",
     "output_type": "stream",
     "text": [
      "test all pooling\n",
      "Processing dataset/train/train_727/train_727_a/train_727_a_2.nii.gz...\n"
     ]
    },
    {
     "data": {
      "application/vnd.jupyter.widget-view+json": {
       "model_id": "abc6e9131fe24db7993f4f2bcc3dcc1b",
       "version_major": 2,
       "version_minor": 0
      },
      "text/plain": [
       "dataset/train/train_727/train_727_a/trai(…):   0%|          | 0.00/174M [00:00<?, ?B/s]"
      ]
     },
     "metadata": {},
     "output_type": "display_data"
    },
    {
     "name": "stdout",
     "output_type": "stream",
     "text": [
      "test all pooling\n",
      "Processing dataset/train/train_15667/train_15667_a/train_15667_a_1.nii.gz...\n"
     ]
    },
    {
     "data": {
      "application/vnd.jupyter.widget-view+json": {
       "model_id": "6b2de2d2c2ba44528997d50951059681",
       "version_major": 2,
       "version_minor": 0
      },
      "text/plain": [
       "dataset/train/train_15667/train_15667_a/(…):   0%|          | 0.00/450M [00:00<?, ?B/s]"
      ]
     },
     "metadata": {},
     "output_type": "display_data"
    },
    {
     "name": "stdout",
     "output_type": "stream",
     "text": [
      "test all pooling\n",
      "Processing dataset/train/train_16642/train_16642_a/train_16642_a_2.nii.gz...\n"
     ]
    },
    {
     "data": {
      "application/vnd.jupyter.widget-view+json": {
       "model_id": "735d41d4873247d2be49862ba552f8f4",
       "version_major": 2,
       "version_minor": 0
      },
      "text/plain": [
       "dataset/train/train_16642/train_16642_a/(…):   0%|          | 0.00/225M [00:00<?, ?B/s]"
      ]
     },
     "metadata": {},
     "output_type": "display_data"
    },
    {
     "name": "stdout",
     "output_type": "stream",
     "text": [
      "test all pooling\n",
      "Processing dataset/train/train_7975/train_7975_a/train_7975_a_1.nii.gz...\n"
     ]
    },
    {
     "data": {
      "application/vnd.jupyter.widget-view+json": {
       "model_id": "e4bf04a9371d43ec8425b3524a7d5044",
       "version_major": 2,
       "version_minor": 0
      },
      "text/plain": [
       "dataset/train/train_7975/train_7975_a/tr(…):   0%|          | 0.00/96.2M [00:00<?, ?B/s]"
      ]
     },
     "metadata": {},
     "output_type": "display_data"
    },
    {
     "name": "stdout",
     "output_type": "stream",
     "text": [
      "test all pooling\n",
      "Processing dataset/train/train_2374/train_2374_a/train_2374_a_1.nii.gz...\n"
     ]
    },
    {
     "data": {
      "application/vnd.jupyter.widget-view+json": {
       "model_id": "a601dbb8ea3849c9bdcb5014c85711bb",
       "version_major": 2,
       "version_minor": 0
      },
      "text/plain": [
       "dataset/train/train_2374/train_2374_a/tr(…):   0%|          | 0.00/455M [00:00<?, ?B/s]"
      ]
     },
     "metadata": {},
     "output_type": "display_data"
    },
    {
     "name": "stdout",
     "output_type": "stream",
     "text": [
      "test all pooling\n",
      "Processing dataset/train/train_14164/train_14164_a/train_14164_a_2.nii.gz...\n"
     ]
    },
    {
     "data": {
      "application/vnd.jupyter.widget-view+json": {
       "model_id": "d655f102c5e74f318f96972292e2ca12",
       "version_major": 2,
       "version_minor": 0
      },
      "text/plain": [
       "dataset/train/train_14164/train_14164_a/(…):   0%|          | 0.00/137M [00:00<?, ?B/s]"
      ]
     },
     "metadata": {},
     "output_type": "display_data"
    },
    {
     "name": "stdout",
     "output_type": "stream",
     "text": [
      "test all pooling\n",
      "Processing dataset/train/train_4561/train_4561_a/train_4561_a_2.nii.gz...\n"
     ]
    },
    {
     "data": {
      "application/vnd.jupyter.widget-view+json": {
       "model_id": "ea25e14a2b9b4558aaeda32b0b38da96",
       "version_major": 2,
       "version_minor": 0
      },
      "text/plain": [
       "dataset/train/train_4561/train_4561_a/tr(…):   0%|          | 0.00/224M [00:00<?, ?B/s]"
      ]
     },
     "metadata": {},
     "output_type": "display_data"
    },
    {
     "name": "stdout",
     "output_type": "stream",
     "text": [
      "test all pooling\n",
      "Processing dataset/train/train_8583/train_8583_a/train_8583_a_1.nii.gz...\n"
     ]
    },
    {
     "data": {
      "application/vnd.jupyter.widget-view+json": {
       "model_id": "b3c707b1149148c593787cc7f9c07550",
       "version_major": 2,
       "version_minor": 0
      },
      "text/plain": [
       "dataset/train/train_8583/train_8583_a/tr(…):   0%|          | 0.00/266M [00:00<?, ?B/s]"
      ]
     },
     "metadata": {},
     "output_type": "display_data"
    },
    {
     "name": "stdout",
     "output_type": "stream",
     "text": [
      "test all pooling\n",
      "Processing dataset/train/train_11221/train_11221_a/train_11221_a_2.nii.gz...\n"
     ]
    },
    {
     "data": {
      "application/vnd.jupyter.widget-view+json": {
       "model_id": "9064f29106034b73a2eb6bd305143171",
       "version_major": 2,
       "version_minor": 0
      },
      "text/plain": [
       "dataset/train/train_11221/train_11221_a/(…):   0%|          | 0.00/190M [00:00<?, ?B/s]"
      ]
     },
     "metadata": {},
     "output_type": "display_data"
    },
    {
     "name": "stdout",
     "output_type": "stream",
     "text": [
      "test all pooling\n",
      "Processing dataset/train/train_7033/train_7033_a/train_7033_a_2.nii.gz...\n"
     ]
    },
    {
     "data": {
      "application/vnd.jupyter.widget-view+json": {
       "model_id": "5f106bfcfeab4be68811c74622220a97",
       "version_major": 2,
       "version_minor": 0
      },
      "text/plain": [
       "dataset/train/train_7033/train_7033_a/tr(…):   0%|          | 0.00/261M [00:00<?, ?B/s]"
      ]
     },
     "metadata": {},
     "output_type": "display_data"
    },
    {
     "name": "stdout",
     "output_type": "stream",
     "text": [
      "test all pooling\n",
      "Processing dataset/train/train_1914/train_1914_a/train_1914_a_2.nii.gz...\n"
     ]
    },
    {
     "data": {
      "application/vnd.jupyter.widget-view+json": {
       "model_id": "2819447cd2a64bcd901440db9e3c9611",
       "version_major": 2,
       "version_minor": 0
      },
      "text/plain": [
       "dataset/train/train_1914/train_1914_a/tr(…):   0%|          | 0.00/246M [00:00<?, ?B/s]"
      ]
     },
     "metadata": {},
     "output_type": "display_data"
    },
    {
     "name": "stdout",
     "output_type": "stream",
     "text": [
      "test all pooling\n",
      "Processing dataset/train/train_344/train_344_d/train_344_d_1.nii.gz...\n"
     ]
    },
    {
     "data": {
      "application/vnd.jupyter.widget-view+json": {
       "model_id": "b2cf25ec2b8d4a689b4e6837d40adee1",
       "version_major": 2,
       "version_minor": 0
      },
      "text/plain": [
       "dataset/train/train_344/train_344_d/trai(…):   0%|          | 0.00/121M [00:00<?, ?B/s]"
      ]
     },
     "metadata": {},
     "output_type": "display_data"
    },
    {
     "name": "stdout",
     "output_type": "stream",
     "text": [
      "test all pooling\n",
      "Processing dataset/train/train_4982/train_4982_a/train_4982_a_3.nii.gz...\n"
     ]
    },
    {
     "data": {
      "application/vnd.jupyter.widget-view+json": {
       "model_id": "6cc676bf5133498dac9341285613e690",
       "version_major": 2,
       "version_minor": 0
      },
      "text/plain": [
       "dataset/train/train_4982/train_4982_a/tr(…):   0%|          | 0.00/426M [00:00<?, ?B/s]"
      ]
     },
     "metadata": {},
     "output_type": "display_data"
    },
    {
     "name": "stdout",
     "output_type": "stream",
     "text": [
      "test all pooling\n",
      "Processing dataset/train/train_19519/train_19519_a/train_19519_a_1.nii.gz...\n"
     ]
    },
    {
     "data": {
      "application/vnd.jupyter.widget-view+json": {
       "model_id": "fc6a5032c93046e196e8f0e8707f0258",
       "version_major": 2,
       "version_minor": 0
      },
      "text/plain": [
       "dataset/train/train_19519/train_19519_a/(…):   0%|          | 0.00/170M [00:00<?, ?B/s]"
      ]
     },
     "metadata": {},
     "output_type": "display_data"
    },
    {
     "name": "stdout",
     "output_type": "stream",
     "text": [
      "test all pooling\n",
      "Processing dataset/train/train_3021/train_3021_a/train_3021_a_1.nii.gz...\n"
     ]
    },
    {
     "data": {
      "application/vnd.jupyter.widget-view+json": {
       "model_id": "f95094835bd54a4cbad7a5094d374f2d",
       "version_major": 2,
       "version_minor": 0
      },
      "text/plain": [
       "dataset/train/train_3021/train_3021_a/tr(…):   0%|          | 0.00/97.7M [00:00<?, ?B/s]"
      ]
     },
     "metadata": {},
     "output_type": "display_data"
    },
    {
     "name": "stdout",
     "output_type": "stream",
     "text": [
      "test all pooling\n",
      "Processing dataset/train/train_10112/train_10112_b/train_10112_b_1.nii.gz...\n"
     ]
    },
    {
     "data": {
      "application/vnd.jupyter.widget-view+json": {
       "model_id": "129df9e7dd8f4470ab577d53fd1c898c",
       "version_major": 2,
       "version_minor": 0
      },
      "text/plain": [
       "dataset/train/train_10112/train_10112_b/(…):   0%|          | 0.00/497M [00:00<?, ?B/s]"
      ]
     },
     "metadata": {},
     "output_type": "display_data"
    },
    {
     "name": "stdout",
     "output_type": "stream",
     "text": [
      "test all pooling\n",
      "Processing dataset/train/train_12095/train_12095_b/train_12095_b_1.nii.gz...\n"
     ]
    },
    {
     "data": {
      "application/vnd.jupyter.widget-view+json": {
       "model_id": "5037fa5f2c924d6688c861fc4d69aebf",
       "version_major": 2,
       "version_minor": 0
      },
      "text/plain": [
       "dataset/train/train_12095/train_12095_b/(…):   0%|          | 0.00/147M [00:00<?, ?B/s]"
      ]
     },
     "metadata": {},
     "output_type": "display_data"
    },
    {
     "name": "stdout",
     "output_type": "stream",
     "text": [
      "test all pooling\n",
      "Processing dataset/train/train_12132/train_12132_a/train_12132_a_2.nii.gz...\n"
     ]
    },
    {
     "data": {
      "application/vnd.jupyter.widget-view+json": {
       "model_id": "f08ecee9508345fca652a54650a79e88",
       "version_major": 2,
       "version_minor": 0
      },
      "text/plain": [
       "dataset/train/train_12132/train_12132_a/(…):   0%|          | 0.00/231M [00:00<?, ?B/s]"
      ]
     },
     "metadata": {},
     "output_type": "display_data"
    },
    {
     "name": "stdout",
     "output_type": "stream",
     "text": [
      "test all pooling\n",
      "Processing dataset/train/train_4801/train_4801_a/train_4801_a_1.nii.gz...\n"
     ]
    },
    {
     "data": {
      "application/vnd.jupyter.widget-view+json": {
       "model_id": "86b03034ef9643a1b68b227bd78a850a",
       "version_major": 2,
       "version_minor": 0
      },
      "text/plain": [
       "dataset/train/train_4801/train_4801_a/tr(…):   0%|          | 0.00/430M [00:00<?, ?B/s]"
      ]
     },
     "metadata": {},
     "output_type": "display_data"
    },
    {
     "name": "stdout",
     "output_type": "stream",
     "text": [
      "test all pooling\n",
      "Processing dataset/train/train_15128/train_15128_a/train_15128_a_2.nii.gz...\n"
     ]
    },
    {
     "data": {
      "application/vnd.jupyter.widget-view+json": {
       "model_id": "e0b665d09cc7458196de9ea46b99eed3",
       "version_major": 2,
       "version_minor": 0
      },
      "text/plain": [
       "dataset/train/train_15128/train_15128_a/(…):   0%|          | 0.00/171M [00:00<?, ?B/s]"
      ]
     },
     "metadata": {},
     "output_type": "display_data"
    },
    {
     "name": "stdout",
     "output_type": "stream",
     "text": [
      "test all pooling\n",
      "Processing dataset/train/train_18320/train_18320_a/train_18320_a_1.nii.gz...\n"
     ]
    },
    {
     "data": {
      "application/vnd.jupyter.widget-view+json": {
       "model_id": "e8cc0ce0b576429b99156ee7850357de",
       "version_major": 2,
       "version_minor": 0
      },
      "text/plain": [
       "dataset/train/train_18320/train_18320_a/(…):   0%|          | 0.00/505M [00:00<?, ?B/s]"
      ]
     },
     "metadata": {},
     "output_type": "display_data"
    },
    {
     "name": "stdout",
     "output_type": "stream",
     "text": [
      "test all pooling\n",
      "Processing dataset/train/train_882/train_882_a/train_882_a_2.nii.gz...\n"
     ]
    },
    {
     "data": {
      "application/vnd.jupyter.widget-view+json": {
       "model_id": "c7a80a5731824d07a1e635fb586e996f",
       "version_major": 2,
       "version_minor": 0
      },
      "text/plain": [
       "dataset/train/train_882/train_882_a/trai(…):   0%|          | 0.00/193M [00:00<?, ?B/s]"
      ]
     },
     "metadata": {},
     "output_type": "display_data"
    },
    {
     "name": "stdout",
     "output_type": "stream",
     "text": [
      "test all pooling\n",
      "Processing dataset/train/train_13191/train_13191_a/train_13191_a_1.nii.gz...\n"
     ]
    },
    {
     "data": {
      "application/vnd.jupyter.widget-view+json": {
       "model_id": "86047cfea287429b9ef86d7ea8e09b46",
       "version_major": 2,
       "version_minor": 0
      },
      "text/plain": [
       "dataset/train/train_13191/train_13191_a/(…):   0%|          | 0.00/149M [00:00<?, ?B/s]"
      ]
     },
     "metadata": {},
     "output_type": "display_data"
    },
    {
     "name": "stdout",
     "output_type": "stream",
     "text": [
      "test all pooling\n",
      "Processing dataset/train/train_13638/train_13638_a/train_13638_a_2.nii.gz...\n"
     ]
    },
    {
     "data": {
      "application/vnd.jupyter.widget-view+json": {
       "model_id": "2988a20e5ec64bed92844e784fed45f8",
       "version_major": 2,
       "version_minor": 0
      },
      "text/plain": [
       "dataset/train/train_13638/train_13638_a/(…):   0%|          | 0.00/220M [00:00<?, ?B/s]"
      ]
     },
     "metadata": {},
     "output_type": "display_data"
    },
    {
     "name": "stdout",
     "output_type": "stream",
     "text": [
      "test all pooling\n",
      "Processing dataset/train/train_12005/train_12005_a/train_12005_a_2.nii.gz...\n"
     ]
    },
    {
     "data": {
      "application/vnd.jupyter.widget-view+json": {
       "model_id": "ac813814abce483db136fd6f05eb7a08",
       "version_major": 2,
       "version_minor": 0
      },
      "text/plain": [
       "dataset/train/train_12005/train_12005_a/(…):   0%|          | 0.00/121M [00:00<?, ?B/s]"
      ]
     },
     "metadata": {},
     "output_type": "display_data"
    },
    {
     "name": "stdout",
     "output_type": "stream",
     "text": [
      "test all pooling\n",
      "Processing dataset/train/train_3375/train_3375_a/train_3375_a_2.nii.gz...\n"
     ]
    },
    {
     "data": {
      "application/vnd.jupyter.widget-view+json": {
       "model_id": "ca24365742a04350b4fc65c02e3603c0",
       "version_major": 2,
       "version_minor": 0
      },
      "text/plain": [
       "dataset/train/train_3375/train_3375_a/tr(…):   0%|          | 0.00/193M [00:00<?, ?B/s]"
      ]
     },
     "metadata": {},
     "output_type": "display_data"
    },
    {
     "name": "stdout",
     "output_type": "stream",
     "text": [
      "test all pooling\n",
      "Processing dataset/train/train_5963/train_5963_a/train_5963_a_1.nii.gz...\n"
     ]
    },
    {
     "data": {
      "application/vnd.jupyter.widget-view+json": {
       "model_id": "db232fb9bd604553bdbbdadcaf2e0a97",
       "version_major": 2,
       "version_minor": 0
      },
      "text/plain": [
       "dataset/train/train_5963/train_5963_a/tr(…):   0%|          | 0.00/363M [00:00<?, ?B/s]"
      ]
     },
     "metadata": {},
     "output_type": "display_data"
    },
    {
     "name": "stdout",
     "output_type": "stream",
     "text": [
      "test all pooling\n",
      "Processing dataset/train/train_12364/train_12364_a/train_12364_a_1.nii.gz...\n"
     ]
    },
    {
     "data": {
      "application/vnd.jupyter.widget-view+json": {
       "model_id": "ddd8f15b706a46cd81dc481ac4c62079",
       "version_major": 2,
       "version_minor": 0
      },
      "text/plain": [
       "dataset/train/train_12364/train_12364_a/(…):   0%|          | 0.00/180M [00:00<?, ?B/s]"
      ]
     },
     "metadata": {},
     "output_type": "display_data"
    },
    {
     "name": "stdout",
     "output_type": "stream",
     "text": [
      "test all pooling\n",
      "Processing dataset/train/train_2139/train_2139_d/train_2139_d_1.nii.gz...\n"
     ]
    },
    {
     "data": {
      "application/vnd.jupyter.widget-view+json": {
       "model_id": "599d2610604c45faa796b8893671522d",
       "version_major": 2,
       "version_minor": 0
      },
      "text/plain": [
       "dataset/train/train_2139/train_2139_d/tr(…):   0%|          | 0.00/95.2M [00:00<?, ?B/s]"
      ]
     },
     "metadata": {},
     "output_type": "display_data"
    },
    {
     "name": "stdout",
     "output_type": "stream",
     "text": [
      "test all pooling\n",
      "Processing dataset/train/train_9110/train_9110_a/train_9110_a_2.nii.gz...\n"
     ]
    },
    {
     "data": {
      "application/vnd.jupyter.widget-view+json": {
       "model_id": "5ed856b87e9341168a9aecfcb331ebbc",
       "version_major": 2,
       "version_minor": 0
      },
      "text/plain": [
       "dataset/train/train_9110/train_9110_a/tr(…):   0%|          | 0.00/259M [00:00<?, ?B/s]"
      ]
     },
     "metadata": {},
     "output_type": "display_data"
    },
    {
     "name": "stdout",
     "output_type": "stream",
     "text": [
      "test all pooling\n",
      "Processing dataset/train/train_2093/train_2093_a/train_2093_a_1.nii.gz...\n"
     ]
    },
    {
     "data": {
      "application/vnd.jupyter.widget-view+json": {
       "model_id": "701f25c9f67a40d7a638bf39aee78316",
       "version_major": 2,
       "version_minor": 0
      },
      "text/plain": [
       "dataset/train/train_2093/train_2093_a/tr(…):   0%|          | 0.00/474M [00:00<?, ?B/s]"
      ]
     },
     "metadata": {},
     "output_type": "display_data"
    },
    {
     "name": "stdout",
     "output_type": "stream",
     "text": [
      "test all pooling\n",
      "Processing dataset/train/train_5419/train_5419_a/train_5419_a_2.nii.gz...\n"
     ]
    },
    {
     "data": {
      "application/vnd.jupyter.widget-view+json": {
       "model_id": "d9d7bca8593746e98b568cf19b37d1eb",
       "version_major": 2,
       "version_minor": 0
      },
      "text/plain": [
       "dataset/train/train_5419/train_5419_a/tr(…):   0%|          | 0.00/88.4M [00:00<?, ?B/s]"
      ]
     },
     "metadata": {},
     "output_type": "display_data"
    },
    {
     "name": "stdout",
     "output_type": "stream",
     "text": [
      "test all pooling\n",
      "Processing dataset/train/train_17942/train_17942_a/train_17942_a_1.nii.gz...\n"
     ]
    },
    {
     "data": {
      "application/vnd.jupyter.widget-view+json": {
       "model_id": "a0b1b804f3644612befa2e23e775dd74",
       "version_major": 2,
       "version_minor": 0
      },
      "text/plain": [
       "dataset/train/train_17942/train_17942_a/(…):   0%|          | 0.00/136M [00:00<?, ?B/s]"
      ]
     },
     "metadata": {},
     "output_type": "display_data"
    },
    {
     "name": "stdout",
     "output_type": "stream",
     "text": [
      "test all pooling\n",
      "Processing dataset/train/train_2558/train_2558_a/train_2558_a_2.nii.gz...\n"
     ]
    },
    {
     "data": {
      "application/vnd.jupyter.widget-view+json": {
       "model_id": "9c3474118bf742e78a5380526d481d80",
       "version_major": 2,
       "version_minor": 0
      },
      "text/plain": [
       "dataset/train/train_2558/train_2558_a/tr(…):   0%|          | 0.00/205M [00:00<?, ?B/s]"
      ]
     },
     "metadata": {},
     "output_type": "display_data"
    },
    {
     "name": "stdout",
     "output_type": "stream",
     "text": [
      "test all pooling\n",
      "Processing dataset/train/train_13905/train_13905_a/train_13905_a_2.nii.gz...\n"
     ]
    },
    {
     "data": {
      "application/vnd.jupyter.widget-view+json": {
       "model_id": "e9d53d41fecb420a80c9b2f5cb2894e2",
       "version_major": 2,
       "version_minor": 0
      },
      "text/plain": [
       "dataset/train/train_13905/train_13905_a/(…):   0%|          | 0.00/50.9M [00:00<?, ?B/s]"
      ]
     },
     "metadata": {},
     "output_type": "display_data"
    },
    {
     "name": "stdout",
     "output_type": "stream",
     "text": [
      "test all pooling\n",
      "Processing dataset/train/train_4089/train_4089_a/train_4089_a_1.nii.gz...\n"
     ]
    },
    {
     "data": {
      "application/vnd.jupyter.widget-view+json": {
       "model_id": "d7bcd2a250474c3295f962774bf7a510",
       "version_major": 2,
       "version_minor": 0
      },
      "text/plain": [
       "dataset/train/train_4089/train_4089_a/tr(…):   0%|          | 0.00/109M [00:00<?, ?B/s]"
      ]
     },
     "metadata": {},
     "output_type": "display_data"
    },
    {
     "name": "stdout",
     "output_type": "stream",
     "text": [
      "test all pooling\n",
      "Processing dataset/train/train_2511/train_2511_a/train_2511_a_1.nii.gz...\n"
     ]
    },
    {
     "data": {
      "application/vnd.jupyter.widget-view+json": {
       "model_id": "9650ebb4e74c40ec86a52333da90691a",
       "version_major": 2,
       "version_minor": 0
      },
      "text/plain": [
       "dataset/train/train_2511/train_2511_a/tr(…):   0%|          | 0.00/487M [00:00<?, ?B/s]"
      ]
     },
     "metadata": {},
     "output_type": "display_data"
    },
    {
     "name": "stdout",
     "output_type": "stream",
     "text": [
      "test all pooling\n",
      "Processing dataset/train/train_10875/train_10875_a/train_10875_a_2.nii.gz...\n"
     ]
    },
    {
     "data": {
      "application/vnd.jupyter.widget-view+json": {
       "model_id": "cb315b9f0c134ff19eac6a5e85395c6e",
       "version_major": 2,
       "version_minor": 0
      },
      "text/plain": [
       "dataset/train/train_10875/train_10875_a/(…):   0%|          | 0.00/51.2M [00:00<?, ?B/s]"
      ]
     },
     "metadata": {},
     "output_type": "display_data"
    },
    {
     "name": "stdout",
     "output_type": "stream",
     "text": [
      "test all pooling\n",
      "Processing dataset/train/train_8773/train_8773_a/train_8773_a_2.nii.gz...\n"
     ]
    },
    {
     "data": {
      "application/vnd.jupyter.widget-view+json": {
       "model_id": "84ebd8de1ddc4c6f90fa7c45f04059f0",
       "version_major": 2,
       "version_minor": 0
      },
      "text/plain": [
       "dataset/train/train_8773/train_8773_a/tr(…):   0%|          | 0.00/238M [00:00<?, ?B/s]"
      ]
     },
     "metadata": {},
     "output_type": "display_data"
    },
    {
     "name": "stdout",
     "output_type": "stream",
     "text": [
      "test all pooling\n",
      "Processing dataset/train/train_6850/train_6850_a/train_6850_a_1.nii.gz...\n"
     ]
    },
    {
     "data": {
      "application/vnd.jupyter.widget-view+json": {
       "model_id": "f6a69dfd0c1c414b98c98527599b5f8a",
       "version_major": 2,
       "version_minor": 0
      },
      "text/plain": [
       "dataset/train/train_6850/train_6850_a/tr(…):   0%|          | 0.00/462M [00:00<?, ?B/s]"
      ]
     },
     "metadata": {},
     "output_type": "display_data"
    },
    {
     "name": "stdout",
     "output_type": "stream",
     "text": [
      "test all pooling\n",
      "Processing dataset/train/train_3186/train_3186_b/train_3186_b_1.nii.gz...\n"
     ]
    },
    {
     "data": {
      "application/vnd.jupyter.widget-view+json": {
       "model_id": "abc4c122f0dd415ab3c282980c53e86c",
       "version_major": 2,
       "version_minor": 0
      },
      "text/plain": [
       "dataset/train/train_3186/train_3186_b/tr(…):   0%|          | 0.00/472M [00:00<?, ?B/s]"
      ]
     },
     "metadata": {},
     "output_type": "display_data"
    },
    {
     "name": "stdout",
     "output_type": "stream",
     "text": [
      "test all pooling\n",
      "Processing dataset/train/train_318/train_318_a/train_318_a_1.nii.gz...\n"
     ]
    },
    {
     "data": {
      "application/vnd.jupyter.widget-view+json": {
       "model_id": "3eed9339900e4ba484edd2344bfd45d1",
       "version_major": 2,
       "version_minor": 0
      },
      "text/plain": [
       "dataset/train/train_318/train_318_a/trai(…):   0%|          | 0.00/450M [00:00<?, ?B/s]"
      ]
     },
     "metadata": {},
     "output_type": "display_data"
    },
    {
     "name": "stdout",
     "output_type": "stream",
     "text": [
      "test all pooling\n",
      "Processing dataset/train/train_7798/train_7798_a/train_7798_a_2.nii.gz...\n"
     ]
    },
    {
     "data": {
      "application/vnd.jupyter.widget-view+json": {
       "model_id": "4d163e88cccf4c61962137588f9c559e",
       "version_major": 2,
       "version_minor": 0
      },
      "text/plain": [
       "dataset/train/train_7798/train_7798_a/tr(…):   0%|          | 0.00/476M [00:00<?, ?B/s]"
      ]
     },
     "metadata": {},
     "output_type": "display_data"
    },
    {
     "name": "stdout",
     "output_type": "stream",
     "text": [
      "test all pooling\n",
      "Processing dataset/train/train_11625/train_11625_a/train_11625_a_1.nii.gz...\n"
     ]
    },
    {
     "data": {
      "application/vnd.jupyter.widget-view+json": {
       "model_id": "590c94d195fd4e7489e97e6301edbaf2",
       "version_major": 2,
       "version_minor": 0
      },
      "text/plain": [
       "dataset/train/train_11625/train_11625_a/(…):   0%|          | 0.00/498M [00:00<?, ?B/s]"
      ]
     },
     "metadata": {},
     "output_type": "display_data"
    },
    {
     "name": "stdout",
     "output_type": "stream",
     "text": [
      "test all pooling\n",
      "Processing dataset/train/train_19208/train_19208_a/train_19208_a_1.nii.gz...\n"
     ]
    },
    {
     "data": {
      "application/vnd.jupyter.widget-view+json": {
       "model_id": "e25df747faad474e81838c3b6ed95038",
       "version_major": 2,
       "version_minor": 0
      },
      "text/plain": [
       "dataset/train/train_19208/train_19208_a/(…):   0%|          | 0.00/183M [00:00<?, ?B/s]"
      ]
     },
     "metadata": {},
     "output_type": "display_data"
    },
    {
     "name": "stdout",
     "output_type": "stream",
     "text": [
      "test all pooling\n",
      "Processing dataset/train/train_14481/train_14481_a/train_14481_a_2.nii.gz...\n"
     ]
    },
    {
     "data": {
      "application/vnd.jupyter.widget-view+json": {
       "model_id": "98759bef78fe4144b05f62998931d3aa",
       "version_major": 2,
       "version_minor": 0
      },
      "text/plain": [
       "dataset/train/train_14481/train_14481_a/(…):   0%|          | 0.00/49.7M [00:00<?, ?B/s]"
      ]
     },
     "metadata": {},
     "output_type": "display_data"
    },
    {
     "name": "stdout",
     "output_type": "stream",
     "text": [
      "test all pooling\n",
      "Processing dataset/train/train_4064/train_4064_a/train_4064_a_1.nii.gz...\n"
     ]
    },
    {
     "data": {
      "application/vnd.jupyter.widget-view+json": {
       "model_id": "a20ed61e8d564816b92feca098724f69",
       "version_major": 2,
       "version_minor": 0
      },
      "text/plain": [
       "dataset/train/train_4064/train_4064_a/tr(…):   0%|          | 0.00/391M [00:00<?, ?B/s]"
      ]
     },
     "metadata": {},
     "output_type": "display_data"
    },
    {
     "name": "stdout",
     "output_type": "stream",
     "text": [
      "test all pooling\n",
      "Processing dataset/train/train_12570/train_12570_a/train_12570_a_2.nii.gz...\n"
     ]
    },
    {
     "data": {
      "application/vnd.jupyter.widget-view+json": {
       "model_id": "f35db6d6772a4f008df96d5079fdf911",
       "version_major": 2,
       "version_minor": 0
      },
      "text/plain": [
       "dataset/train/train_12570/train_12570_a/(…):   0%|          | 0.00/87.2M [00:00<?, ?B/s]"
      ]
     },
     "metadata": {},
     "output_type": "display_data"
    },
    {
     "name": "stdout",
     "output_type": "stream",
     "text": [
      "test all pooling\n",
      "Processing dataset/train/train_7359/train_7359_a/train_7359_a_2.nii.gz...\n"
     ]
    },
    {
     "data": {
      "application/vnd.jupyter.widget-view+json": {
       "model_id": "6d10ac37b0a44de1b01d8c2a713bbf8f",
       "version_major": 2,
       "version_minor": 0
      },
      "text/plain": [
       "dataset/train/train_7359/train_7359_a/tr(…):   0%|          | 0.00/152M [00:00<?, ?B/s]"
      ]
     },
     "metadata": {},
     "output_type": "display_data"
    },
    {
     "name": "stdout",
     "output_type": "stream",
     "text": [
      "test all pooling\n",
      "Processing dataset/train/train_15321/train_15321_a/train_15321_a_2.nii.gz...\n"
     ]
    },
    {
     "data": {
      "application/vnd.jupyter.widget-view+json": {
       "model_id": "22cab60298714591b0b48abf3668387d",
       "version_major": 2,
       "version_minor": 0
      },
      "text/plain": [
       "dataset/train/train_15321/train_15321_a/(…):   0%|          | 0.00/171M [00:00<?, ?B/s]"
      ]
     },
     "metadata": {},
     "output_type": "display_data"
    },
    {
     "name": "stdout",
     "output_type": "stream",
     "text": [
      "test all pooling\n",
      "Processing dataset/train/train_13435/train_13435_a/train_13435_a_2.nii.gz...\n"
     ]
    },
    {
     "data": {
      "application/vnd.jupyter.widget-view+json": {
       "model_id": "7aa7f6adcda0478aa06fa0bce55fcb50",
       "version_major": 2,
       "version_minor": 0
      },
      "text/plain": [
       "dataset/train/train_13435/train_13435_a/(…):   0%|          | 0.00/488M [00:00<?, ?B/s]"
      ]
     },
     "metadata": {},
     "output_type": "display_data"
    },
    {
     "name": "stdout",
     "output_type": "stream",
     "text": [
      "test all pooling\n",
      "Processing dataset/train/train_8271/train_8271_a/train_8271_a_1.nii.gz...\n"
     ]
    },
    {
     "data": {
      "application/vnd.jupyter.widget-view+json": {
       "model_id": "0a76629da64e466489d2f235e66896a7",
       "version_major": 2,
       "version_minor": 0
      },
      "text/plain": [
       "dataset/train/train_8271/train_8271_a/tr(…):   0%|          | 0.00/86.7M [00:00<?, ?B/s]"
      ]
     },
     "metadata": {},
     "output_type": "display_data"
    }
   ],
   "source": [
    "# ==============================================================================\n",
    "# CELL 2: Data Preparation, Feature Extraction (204 Samples), and Saving\n",
    "# ==============================================================================\n",
    "import os\n",
    "import sys\n",
    "import torch\n",
    "import pandas as pd\n",
    "import numpy as np\n",
    "import monai.transforms as T\n",
    "from huggingface_hub import hf_hub_download\n",
    "from transformers import AutoTokenizer, AutoModel\n",
    "\n",
    "# --- 0. Secure token access (no hardcoded tokens) ---\n",
    "HF_TOKEN = os.environ.get(\"HF_Token\")\n",
    "if not HF_TOKEN:\n",
    "    raise RuntimeError(\"HF_TOKEN missing from Secrets. Set it in Space Settings → Secrets.\")\n",
    "\n",
    "# --- 1. Add cloned repos to Python path ---\n",
    "sys.path.insert(0, os.path.abspath(\"CT-CLIP/transformer_maskgit\"))\n",
    "sys.path.insert(0, os.path.abspath(\"CT-CLIP\"))\n",
    "from transformer_maskgit.MaskGITTransformer import CTViT\n",
    "from ct_clip.ct_clip import CTCLIP\n",
    "\n",
    "# --- 2. Configuration ---\n",
    "DEVICE = \"cuda\" if torch.cuda.is_available() else \"cpu\"\n",
    "print(f\"--- Using device: {DEVICE} ---\")\n",
    "\n",
    "# --- 3. Load Pre-trained CT-CLIP Model ---\n",
    "print(\"\\n--- Loading CT-CLIP Model ---\")\n",
    "text_encoder_name = \"microsoft/BiomedVLP-CXR-BERT-specialized\"\n",
    "text_tokenizer_clip = AutoTokenizer.from_pretrained(text_encoder_name, trust_remote_code=True)\n",
    "text_encoder = AutoModel.from_pretrained(text_encoder_name, trust_remote_code=True)\n",
    "image_encoder = CTViT(dim=512, codebook_size=8192, image_size=480, patch_size=20,\n",
    "                     temporal_patch_size=10, spatial_depth=4, temporal_depth=4,\n",
    "                     dim_head=32, heads=8)\n",
    "vision_model = CTCLIP(image_encoder=image_encoder, text_encoder=text_encoder,\n",
    "                      dim_image=294912, dim_text=768, dim_latent=512).to(DEVICE)\n",
    "\n",
    "print(\"Downloading CT-CLIP v2 weights...\")\n",
    "ckpt_path = hf_hub_download(\n",
    "    repo_id=\"ibrahimhamamci/CT-RATE\",\n",
    "    repo_type=\"dataset\",\n",
    "    filename=\"models/CT-CLIP-Related/CT-CLIP_v2.pt\",\n",
    "    token=HF_TOKEN,\n",
    ")\n",
    "state = torch.load(ckpt_path, map_location=\"cpu\")\n",
    "vision_model.load_state_dict(state.get(\"state_dict\", state), strict=False)\n",
    "vision_model.eval()\n",
    "for param in vision_model.parameters():\n",
    "    param.requires_grad = False\n",
    "print(\" ✅ CT-CLIP model loaded and frozen.\")\n",
    "\n",
    "# --- 4. Prepare Labels and Data ---\n",
    "print(\"\\n--- Preparing labels ---\")\n",
    "labels_path = hf_hub_download(\n",
    "    repo_id=\"ibrahimhamamci/CT-RATE\",\n",
    "    repo_type=\"dataset\",\n",
    "    filename=\"dataset/multi_abnormality_labels/train_predicted_labels.csv\",\n",
    "    token=HF_TOKEN,\n",
    ")\n",
    "df_labels = pd.read_csv(labels_path)\n",
    "CLASS_NAMES = df_labels.columns[1:].tolist()\n",
    "print(f\"Found {len(CLASS_NAMES)} classes.\")\n",
    "\n",
    "# --- 5. Sample filenames (balanced 204) ---\n",
    "# === Replaced Sample Filenames ===\n",
    "sample_filenames = [\n",
    "    \"train_18373_a_2.nii.gz\",\n",
    "    \"train_19287_a_1.nii.gz\",\n",
    "    \"train_3282_a_1.nii.gz\",\n",
    "    \"train_54_a_2.nii.gz\",\n",
    "    \"train_12769_a_2.nii.gz\",\n",
    "    \"train_7066_a_1.nii.gz\",\n",
    "    \"train_2610_a_2.nii.gz\",\n",
    "    \"train_9742_b_2.nii.gz\",\n",
    "    \"train_11431_a_1.nii.gz\",\n",
    "    \"train_7613_b_1.nii.gz\",\n",
    "    \"train_644_d_1.nii.gz\",\n",
    "    \"train_13314_a_2.nii.gz\",\n",
    "    \"train_8278_b_2.nii.gz\",\n",
    "    \"train_1117_b_1.nii.gz\",\n",
    "    \"train_14817_a_1.nii.gz\",\n",
    "    \"train_7519_a_1.nii.gz\",\n",
    "    \"train_7885_a_1.nii.gz\",\n",
    "    \"train_8907_b_2.nii.gz\",\n",
    "    \"train_10455_a_2.nii.gz\",\n",
    "    \"train_7392_a_2.nii.gz\",\n",
    "    \"train_19972_c_2.nii.gz\",\n",
    "    \"train_16252_a_1.nii.gz\",\n",
    "    \"train_18102_a_1.nii.gz\",\n",
    "    \"train_6022_a_2.nii.gz\",\n",
    "    \"train_15635_a_2.nii.gz\",\n",
    "    \"train_6160_c_2.nii.gz\",\n",
    "    \"train_19885_d_2.nii.gz\",\n",
    "    \"train_14325_a_2.nii.gz\",\n",
    "    \"train_16861_b_1.nii.gz\",\n",
    "    \"train_4514_a_1.nii.gz\",\n",
    "    \"train_5373_a_2.nii.gz\",\n",
    "    \"train_19541_b_2.nii.gz\",\n",
    "    \"train_7730_a_2.nii.gz\",\n",
    "    \"train_19804_a_2.nii.gz\",\n",
    "    \"train_9199_a_1.nii.gz\",\n",
    "    \"train_16924_j_2.nii.gz\",\n",
    "    \"train_17830_a_1.nii.gz\",\n",
    "    \"train_4942_a_3.nii.gz\",\n",
    "    \"train_15885_c_1.nii.gz\",\n",
    "    \"train_19132_b_1.nii.gz\",\n",
    "    \"train_691_a_2.nii.gz\",\n",
    "    \"train_2756_a_2.nii.gz\",\n",
    "    \"train_8730_a_1.nii.gz\",\n",
    "    \"train_4730_a_1.nii.gz\",\n",
    "    \"train_17207_a_1.nii.gz\",\n",
    "    \"train_12678_c_2.nii.gz\",\n",
    "    \"train_14851_a_2.nii.gz\",\n",
    "    \"train_13726_a_1.nii.gz\",\n",
    "    \"train_6426_a_2.nii.gz\",\n",
    "    \"train_12201_a_5.nii.gz\",\n",
    "    \"train_11418_c_2.nii.gz\",\n",
    "    \"train_10043_b_2.nii.gz\",\n",
    "    \"train_2928_a_2.nii.gz\",\n",
    "    \"train_13751_a_1.nii.gz\",\n",
    "    \"train_15353_b_1.nii.gz\",\n",
    "    \"train_13041_a_1.nii.gz\",\n",
    "    \"train_16269_a_2.nii.gz\",\n",
    "    \"train_11081_a_1.nii.gz\",\n",
    "    \"train_16785_a_2.nii.gz\",\n",
    "    \"train_1750_a_1.nii.gz\",\n",
    "    \"train_2184_a_1.nii.gz\",\n",
    "    \"train_6223_a_1.nii.gz\",\n",
    "    \"train_14355_a_2.nii.gz\",\n",
    "    \"train_12009_b_1.nii.gz\",\n",
    "    \"train_3633_a_1.nii.gz\",\n",
    "    \"train_4348_a_1.nii.gz\",\n",
    "    \"train_6007_a_1.nii.gz\",\n",
    "    \"train_11588_a_1.nii.gz\",\n",
    "    \"train_7866_a_2.nii.gz\",\n",
    "    \"train_7188_a_1.nii.gz\",\n",
    "    \"train_17209_a_2.nii.gz\",\n",
    "    \"train_5493_a_2.nii.gz\",\n",
    "    \"train_19456_a_2.nii.gz\",\n",
    "    \"train_13865_a_1.nii.gz\",\n",
    "    \"train_2718_b_1.nii.gz\",\n",
    "    \"train_15034_a_2.nii.gz\",\n",
    "    \"train_18068_b_1.nii.gz\",\n",
    "    \"train_13201_a_2.nii.gz\",\n",
    "    \"train_15876_a_1.nii.gz\",\n",
    "    \"train_1585_b_1.nii.gz\",\n",
    "    \"train_17886_a_2.nii.gz\",\n",
    "    \"train_19144_c_2.nii.gz\",\n",
    "    \"train_15649_a_2.nii.gz\",\n",
    "    \"train_15339_a_1.nii.gz\",\n",
    "    \"train_3881_a_1.nii.gz\",\n",
    "    \"train_14835_a_1.nii.gz\",\n",
    "    \"train_18563_a_2.nii.gz\",\n",
    "    \"train_17418_a_2.nii.gz\",\n",
    "    \"train_14512_a_1.nii.gz\",\n",
    "    \"train_16950_b_1.nii.gz\",\n",
    "    \"train_15940_b_1.nii.gz\",\n",
    "    \"train_7710_a_2.nii.gz\",\n",
    "    \"train_5922_a_2.nii.gz\",\n",
    "    \"train_15900_a_1.nii.gz\",\n",
    "    \"train_14417_a_1.nii.gz\",\n",
    "    \"train_5514_a_2.nii.gz\",\n",
    "    \"train_10744_g_1.nii.gz\",\n",
    "    \"train_1709_b_2.nii.gz\",\n",
    "    \"train_3490_a_2.nii.gz\",\n",
    "    \"train_1270_a_1.nii.gz\",\n",
    "    \"train_14514_b_2.nii.gz\",\n",
    "    \"train_11270_a_1.nii.gz\",\n",
    "    \"train_17564_a_2.nii.gz\",\n",
    "    \"train_3517_a_1.nii.gz\",\n",
    "    \"train_11380_a_1.nii.gz\",\n",
    "    \"train_9064_a_1.nii.gz\",\n",
    "    \"train_5220_a_1.nii.gz\",\n",
    "    \"train_10576_b_2.nii.gz\",\n",
    "    \"train_2158_a_2.nii.gz\",\n",
    "    \"train_2039_d_2.nii.gz\",\n",
    "    \"train_14382_a_2.nii.gz\",\n",
    "    \"train_13737_a_2.nii.gz\",\n",
    "    \"train_13582_a_2.nii.gz\",\n",
    "    \"train_18642_a_2.nii.gz\",\n",
    "    \"train_5049_a_2.nii.gz\",\n",
    "    \"train_19893_a_1.nii.gz\",\n",
    "    \"train_16634_a_1.nii.gz\",\n",
    "    \"train_18373_i_1.nii.gz\",\n",
    "    \"train_11480_c_1.nii.gz\",\n",
    "    \"train_13739_a_4.nii.gz\",\n",
    "    \"train_6052_a_1.nii.gz\",\n",
    "    \"train_15563_a_2.nii.gz\",\n",
    "    \"train_14441_b_1.nii.gz\",\n",
    "    \"train_11753_a_1.nii.gz\",\n",
    "    \"train_17752_a_2.nii.gz\",\n",
    "    \"train_19907_a_2.nii.gz\",\n",
    "    \"train_11562_a_1.nii.gz\",\n",
    "    \"train_11759_a_1.nii.gz\",\n",
    "    \"train_9286_a_1.nii.gz\",\n",
    "    \"train_3664_a_2.nii.gz\",\n",
    "    \"train_14727_a_2.nii.gz\",\n",
    "    \"train_11494_a_1.nii.gz\",\n",
    "    \"train_8103_a_2.nii.gz\",\n",
    "    \"train_3080_a_2.nii.gz\",\n",
    "    \"train_8980_a_1.nii.gz\",\n",
    "    \"train_15545_a_2.nii.gz\",\n",
    "    \"train_10413_a_1.nii.gz\",\n",
    "    \"train_14984_a_2.nii.gz\",\n",
    "    \"train_7314_a_1.nii.gz\",\n",
    "    \"train_6679_a_2.nii.gz\",\n",
    "    \"train_3558_a_2.nii.gz\",\n",
    "    \"train_19260_a_2.nii.gz\",\n",
    "    \"train_9263_a_1.nii.gz\",\n",
    "    \"train_6135_a_1.nii.gz\",\n",
    "    \"train_9028_a_1.nii.gz\",\n",
    "    \"train_14447_a_1.nii.gz\",\n",
    "    \"train_14253_a_1.nii.gz\",\n",
    "    \"train_16753_a_2.nii.gz\",\n",
    "    \"train_9760_a_1.nii.gz\",\n",
    "    \"train_12898_b_1.nii.gz\",\n",
    "    \"train_15973_a_2.nii.gz\",\n",
    "    \"train_7122_a_2.nii.gz\",\n",
    "    \"train_16374_a_2.nii.gz\",\n",
    "    \"train_17089_a_2.nii.gz\",\n",
    "    \"train_16206_a_2.nii.gz\",\n",
    "    \"train_17507_b_1.nii.gz\",\n",
    "    \"train_6846_a_2.nii.gz\",\n",
    "    \"train_366_a_1.nii.gz\",\n",
    "    \"train_2223_a_2.nii.gz\",\n",
    "    \"train_11466_a_1.nii.gz\",\n",
    "    \"train_4242_a_1.nii.gz\",\n",
    "    \"train_1906_a_2.nii.gz\",\n",
    "    \"train_15971_a_2.nii.gz\",\n",
    "    \"train_7429_a_2.nii.gz\",\n",
    "    \"train_5573_a_1.nii.gz\",\n",
    "    \"train_9534_b_2.nii.gz\",\n",
    "    \"train_13203_a_1.nii.gz\",\n",
    "    \"train_10442_a_1.nii.gz\",\n",
    "    \"train_10385_a_2.nii.gz\",\n",
    "    \"train_12856_a_1.nii.gz\",\n",
    "    \"train_10785_a_1.nii.gz\",\n",
    "    \"train_12029_a_1.nii.gz\",\n",
    "    \"train_494_a_1.nii.gz\",\n",
    "    \"train_1292_b_2.nii.gz\",\n",
    "    \"train_794_a_1.nii.gz\",\n",
    "    \"train_7934_a_1.nii.gz\",\n",
    "    \"train_3851_a_2.nii.gz\",\n",
    "    \"train_4174_a_2.nii.gz\",\n",
    "    \"train_11280_a_2.nii.gz\",\n",
    "    \"train_11439_a_2.nii.gz\",\n",
    "    \"train_11158_a_1.nii.gz\",\n",
    "    \"train_11175_a_1.nii.gz\",\n",
    "    \"train_8356_b_1.nii.gz\",\n",
    "    \"train_19657_c_2.nii.gz\",\n",
    "    \"train_18350_a_1.nii.gz\",\n",
    "    \"train_10462_a_2.nii.gz\",\n",
    "    \"train_10635_a_1.nii.gz\",\n",
    "    \"train_19840_a_2.nii.gz\",\n",
    "    \"train_4196_b_1.nii.gz\",\n",
    "    \"train_4272_f_1.nii.gz\",\n",
    "    \"train_5105_e_1.nii.gz\",\n",
    "    \"train_11856_a_1.nii.gz\",\n",
    "    \"train_19427_c_1.nii.gz\",\n",
    "    \"train_13527_a_1.nii.gz\",\n",
    "    \"train_18097_a_2.nii.gz\",\n",
    "    \"train_15026_a_2.nii.gz\",\n",
    "    \"train_870_a_2.nii.gz\",\n",
    "    \"train_7594_a_2.nii.gz\",\n",
    "    \"train_1946_a_1.nii.gz\",\n",
    "    \"train_11336_b_2.nii.gz\",\n",
    "    \"train_16743_a_1.nii.gz\",\n",
    "    \"train_4671_a_2.nii.gz\",\n",
    "    \"train_9384_a_2.nii.gz\",\n",
    "    \"train_1029_a_2.nii.gz\",\n",
    "    \"train_18520_a_1.nii.gz\",\n",
    "    \"train_10051_a_2.nii.gz\",\n",
    "    \"train_12821_a_2.nii.gz\",\n",
    "    \"train_1870_a_2.nii.gz\",\n",
    "    \"train_4836_c_1.nii.gz\",\n",
    "    \"train_9634_a_1.nii.gz\",\n",
    "    \"train_16222_a_2.nii.gz\",\n",
    "    \"train_16609_a_2.nii.gz\",\n",
    "    \"train_10827_a_2.nii.gz\",\n",
    "    \"train_18449_a_1.nii.gz\",\n",
    "    \"train_8125_e_1.nii.gz\",\n",
    "    \"train_4861_a_2.nii.gz\",\n",
    "    \"train_16204_a_2.nii.gz\",\n",
    "    \"train_2880_a_1.nii.gz\",\n",
    "    \"train_2879_a_2.nii.gz\",\n",
    "    \"train_464_a_1.nii.gz\",\n",
    "    \"train_7758_b_2.nii.gz\",\n",
    "    \"train_5227_a_1.nii.gz\",\n",
    "    \"train_599_a_1.nii.gz\",\n",
    "    \"train_16647_a_1.nii.gz\",\n",
    "    \"train_9475_a_2.nii.gz\",\n",
    "    \"train_6496_a_1.nii.gz\",\n",
    "    \"train_9160_a_1.nii.gz\",\n",
    "    \"train_19052_a_1.nii.gz\",\n",
    "    \"train_14662_a_2.nii.gz\",\n",
    "    \"train_17046_a_1.nii.gz\",\n",
    "    \"train_3732_b_2.nii.gz\",\n",
    "    \"train_1854_a_2.nii.gz\",\n",
    "    \"train_15391_a_2.nii.gz\",\n",
    "    \"train_5192_a_2.nii.gz\",\n",
    "    \"train_12614_a_1.nii.gz\",\n",
    "    \"train_1878_a_1.nii.gz\",\n",
    "    \"train_16323_a_1.nii.gz\",\n",
    "    \"train_12304_a_2.nii.gz\",\n",
    "    \"train_8148_a_2.nii.gz\",\n",
    "    \"train_14300_a_1.nii.gz\",\n",
    "    \"train_13033_a_1.nii.gz\",\n",
    "    \"train_1683_a_1.nii.gz\",\n",
    "    \"train_13348_a_2.nii.gz\",\n",
    "    \"train_10834_a_1.nii.gz\",\n",
    "    \"train_15872_a_1.nii.gz\",\n",
    "    \"train_18704_a_2.nii.gz\",\n",
    "    \"train_419_a_2.nii.gz\",\n",
    "    \"train_10775_a_1.nii.gz\",\n",
    "    \"train_19246_a_1.nii.gz\",\n",
    "    \"train_1429_b_1.nii.gz\",\n",
    "    \"train_4300_a_2.nii.gz\",\n",
    "    \"train_14438_a_1.nii.gz\",\n",
    "    \"train_18706_a_2.nii.gz\",\n",
    "    \"train_3634_a_2.nii.gz\",\n",
    "    \"train_15772_a_1.nii.gz\",\n",
    "    \"train_10011_a_1.nii.gz\",\n",
    "    \"train_11977_a_2.nii.gz\",\n",
    "    \"train_13697_a_2.nii.gz\",\n",
    "    \"train_3083_a_1.nii.gz\",\n",
    "    \"train_1897_d_2.nii.gz\",\n",
    "    \"train_4944_a_2.nii.gz\",\n",
    "    \"train_6634_a_1.nii.gz\",\n",
    "    \"train_1162_a_2.nii.gz\",\n",
    "    \"train_10987_a_1.nii.gz\",\n",
    "    \"train_12378_b_2.nii.gz\",\n",
    "    \"train_15294_a_1.nii.gz\",\n",
    "    \"train_9307_a_1.nii.gz\",\n",
    "    \"train_19565_a_1.nii.gz\",\n",
    "    \"train_2282_a_1.nii.gz\",\n",
    "    \"train_3190_a_1.nii.gz\",\n",
    "    \"train_11611_a_1.nii.gz\",\n",
    "    \"train_19687_c_1.nii.gz\",\n",
    "    \"train_6482_a_2.nii.gz\",\n",
    "    \"train_11577_b_2.nii.gz\",\n",
    "    \"train_18467_a_1.nii.gz\",\n",
    "    \"train_7186_a_1.nii.gz\",\n",
    "    \"train_13863_a_2.nii.gz\",\n",
    "    \"train_12252_a_1.nii.gz\",\n",
    "    \"train_6622_a_2.nii.gz\",\n",
    "    \"train_17138_a_1.nii.gz\",\n",
    "    \"train_1104_a_2.nii.gz\",\n",
    "    \"train_7754_d_1.nii.gz\",\n",
    "    \"train_16723_a_1.nii.gz\",\n",
    "    \"train_19020_a_1.nii.gz\",\n",
    "    \"train_11880_d_2.nii.gz\",\n",
    "    \"train_13918_a_1.nii.gz\",\n",
    "    \"train_1713_d_1.nii.gz\",\n",
    "    \"train_14471_a_1.nii.gz\",\n",
    "    \"train_9006_a_1.nii.gz\",\n",
    "    \"train_15553_a_1.nii.gz\",\n",
    "    \"train_11778_a_1.nii.gz\",\n",
    "    \"train_3901_a_1.nii.gz\",\n",
    "    \"train_594_a_1.nii.gz\",\n",
    "    \"train_19704_d_2.nii.gz\",\n",
    "    \"train_4494_a_1.nii.gz\",\n",
    "    \"train_15596_a_2.nii.gz\",\n",
    "    \"train_15080_a_1.nii.gz\",\n",
    "    \"train_19969_a_1.nii.gz\",\n",
    "    \"train_7988_a_1.nii.gz\",\n",
    "    \"train_15283_a_2.nii.gz\",\n",
    "    \"train_3746_a_2.nii.gz\",\n",
    "    \"train_19368_a_1.nii.gz\",\n",
    "    \"train_3963_f_1.nii.gz\",\n",
    "    \"train_11683_b_2.nii.gz\",\n",
    "    \"train_14466_a_2.nii.gz\",\n",
    "    \"train_7376_a_2.nii.gz\",\n",
    "    \"train_4352_a_2.nii.gz\",\n",
    "    \"train_1922_a_1.nii.gz\",\n",
    "    \"train_6967_a_1.nii.gz\",\n",
    "    \"train_13308_a_1.nii.gz\",\n",
    "    \"train_18977_a_2.nii.gz\",\n",
    "    \"train_1526_a_1.nii.gz\",\n",
    "    \"train_1272_a_1.nii.gz\",\n",
    "    \"train_18463_a_2.nii.gz\",\n",
    "    \"train_3843_a_1.nii.gz\",\n",
    "    \"train_16551_a_1.nii.gz\",\n",
    "    \"train_16719_a_2.nii.gz\",\n",
    "    \"train_2212_a_2.nii.gz\",\n",
    "    \"train_9822_a_2.nii.gz\",\n",
    "    \"train_3990_a_1.nii.gz\",\n",
    "    \"train_4791_a_2.nii.gz\",\n",
    "    \"train_2901_c_1.nii.gz\",\n",
    "    \"train_19860_b_2.nii.gz\",\n",
    "    \"train_7835_a_1.nii.gz\",\n",
    "    \"train_12518_a_2.nii.gz\",\n",
    "    \"train_199_a_2.nii.gz\",\n",
    "    \"train_12776_a_1.nii.gz\",\n",
    "    \"train_16798_b_2.nii.gz\",\n",
    "    \"train_14823_b_2.nii.gz\",\n",
    "    \"train_8043_a_2.nii.gz\",\n",
    "    \"train_9414_b_1.nii.gz\",\n",
    "    \"train_6857_a_2.nii.gz\",\n",
    "    \"train_1381_d_2.nii.gz\",\n",
    "    \"train_12218_a_2.nii.gz\",\n",
    "    \"train_7259_b_1.nii.gz\",\n",
    "    \"train_16188_b_2.nii.gz\",\n",
    "    \"train_19346_a_2.nii.gz\",\n",
    "    \"train_4883_a_2.nii.gz\",\n",
    "    \"train_8237_b_1.nii.gz\",\n",
    "    \"train_2123_a_1.nii.gz\",\n",
    "    \"train_16437_a_1.nii.gz\",\n",
    "    \"train_8168_c_1.nii.gz\",\n",
    "    \"train_9835_a_2.nii.gz\",\n",
    "    \"train_7951_a_1.nii.gz\",\n",
    "    \"train_13202_b_1.nii.gz\",\n",
    "    \"train_11593_b_2.nii.gz\",\n",
    "    \"train_13873_a_2.nii.gz\",\n",
    "    \"train_12272_a_1.nii.gz\",\n",
    "    \"train_11969_a_2.nii.gz\",\n",
    "    \"train_4233_a_1.nii.gz\",\n",
    "    \"train_1896_b_2.nii.gz\",\n",
    "    \"train_14993_a_1.nii.gz\",\n",
    "    \"train_3392_a_2.nii.gz\",\n",
    "    \"train_6438_a_1.nii.gz\",\n",
    "    \"train_19151_b_1.nii.gz\",\n",
    "    \"train_16665_a_1.nii.gz\",\n",
    "    \"train_10646_a_2.nii.gz\",\n",
    "    \"train_15588_a_1.nii.gz\",\n",
    "    \"train_2976_a_2.nii.gz\",\n",
    "    \"train_4836_b_1.nii.gz\",\n",
    "    \"train_16862_a_1.nii.gz\",\n",
    "    \"train_19233_a_2.nii.gz\",\n",
    "    \"train_15676_a_1.nii.gz\",\n",
    "    \"train_17417_a_2.nii.gz\",\n",
    "    \"train_17491_a_1.nii.gz\",\n",
    "    \"train_18819_a_1.nii.gz\",\n",
    "    \"train_2379_a_2.nii.gz\",\n",
    "    \"train_14800_a_1.nii.gz\",\n",
    "    \"train_1416_a_1.nii.gz\",\n",
    "    \"train_17679_a_1.nii.gz\",\n",
    "    \"train_10626_a_2.nii.gz\",\n",
    "    \"train_16220_b_1.nii.gz\",\n",
    "    \"train_10084_a_2.nii.gz\",\n",
    "    \"train_14244_a_1.nii.gz\",\n",
    "    \"train_19717_a_2.nii.gz\",\n",
    "    \"train_14480_a_2.nii.gz\",\n",
    "    \"train_15350_a_1.nii.gz\",\n",
    "    \"train_1468_b_2.nii.gz\",\n",
    "    \"train_8538_a_1.nii.gz\",\n",
    "    \"train_16925_a_2.nii.gz\",\n",
    "    \"train_17652_a_2.nii.gz\",\n",
    "    \"train_5509_a_1.nii.gz\",\n",
    "    \"train_16436_a_2.nii.gz\",\n",
    "    \"train_8567_c_2.nii.gz\",\n",
    "    \"train_7063_a_2.nii.gz\",\n",
    "    \"train_18393_a_2.nii.gz\",\n",
    "    \"train_13527_b_2.nii.gz\",\n",
    "    \"train_3053_a_1.nii.gz\",\n",
    "    \"train_17822_a_1.nii.gz\",\n",
    "    \"train_8200_a_1.nii.gz\",\n",
    "    \"train_8740_b_1.nii.gz\",\n",
    "    \"train_17903_a_2.nii.gz\",\n",
    "    \"train_905_a_2.nii.gz\",\n",
    "    \"train_14520_a_1.nii.gz\",\n",
    "    \"train_17645_a_2.nii.gz\",\n",
    "    \"train_9314_b_2.nii.gz\",\n",
    "    \"train_1748_a_2.nii.gz\",\n",
    "    \"train_11319_a_1.nii.gz\",\n",
    "    \"train_13988_a_1.nii.gz\",\n",
    "    \"train_18032_a_2.nii.gz\",\n",
    "    \"train_5634_e_2.nii.gz\",\n",
    "    \"train_2448_a_2.nii.gz\",\n",
    "    \"train_19793_a_2.nii.gz\",\n",
    "    \"train_1896_b_1.nii.gz\",\n",
    "    \"train_5381_a_2.nii.gz\",\n",
    "    \"train_1017_a_2.nii.gz\",\n",
    "    \"train_12329_a_2.nii.gz\",\n",
    "    \"train_12870_a_1.nii.gz\",\n",
    "    \"train_12877_b_2.nii.gz\",\n",
    "    \"train_7946_a_1.nii.gz\",\n",
    "    \"train_11792_a_2.nii.gz\",\n",
    "    \"train_6128_a_2.nii.gz\",\n",
    "    \"train_6367_a_2.nii.gz\",\n",
    "    \"train_7428_a_2.nii.gz\",\n",
    "    \"train_8306_a_2.nii.gz\",\n",
    "    \"train_17197_c_2.nii.gz\",\n",
    "    \"train_14428_a_2.nii.gz\",\n",
    "    \"train_17245_a_1.nii.gz\",\n",
    "    \"train_12362_a_1.nii.gz\",\n",
    "    \"train_15106_a_2.nii.gz\",\n",
    "    \"train_17988_a_1.nii.gz\",\n",
    "    \"train_8841_a_1.nii.gz\",\n",
    "    \"train_3233_b_1.nii.gz\",\n",
    "    \"train_5468_a_1.nii.gz\",\n",
    "    \"train_8957_a_1.nii.gz\",\n",
    "    \"train_19657_a_2.nii.gz\",\n",
    "    \"train_7666_a_2.nii.gz\",\n",
    "    \"train_19687_a_1.nii.gz\",\n",
    "    \"train_15554_a_1.nii.gz\",\n",
    "    \"train_2926_a_1.nii.gz\",\n",
    "    \"train_8199_a_2.nii.gz\",\n",
    "    \"train_17488_a_2.nii.gz\",\n",
    "    \"train_1041_b_2.nii.gz\",\n",
    "    \"train_16624_a_2.nii.gz\",\n",
    "    \"train_11113_a_1.nii.gz\",\n",
    "    \"train_2077_a_2.nii.gz\",\n",
    "    \"train_17872_a_2.nii.gz\",\n",
    "    \"train_2407_a_1.nii.gz\",\n",
    "    \"train_1995_a_1.nii.gz\",\n",
    "    \"train_17649_a_1.nii.gz\",\n",
    "    \"train_12545_a_2.nii.gz\",\n",
    "    \"train_9166_a_1.nii.gz\",\n",
    "    \"train_19330_a_1.nii.gz\",\n",
    "    \"train_19952_a_1.nii.gz\",\n",
    "    \"train_10897_a_2.nii.gz\",\n",
    "    \"train_8617_a_1.nii.gz\",\n",
    "    \"train_3587_a_1.nii.gz\",\n",
    "    \"train_150_a_1.nii.gz\",\n",
    "    \"train_2565_a_2.nii.gz\",\n",
    "    \"train_17714_a_2.nii.gz\",\n",
    "    \"train_5469_b_2.nii.gz\",\n",
    "    \"train_10979_a_1.nii.gz\",\n",
    "    \"train_16296_a_1.nii.gz\",\n",
    "    \"train_7252_a_1.nii.gz\",\n",
    "    \"train_2826_a_1.nii.gz\",\n",
    "    \"train_11401_a_6.nii.gz\",\n",
    "    \"train_13751_a_2.nii.gz\",\n",
    "    \"train_5860_a_1.nii.gz\",\n",
    "    \"train_15288_a_2.nii.gz\",\n",
    "    \"train_5367_a_2.nii.gz\",\n",
    "    \"train_14154_d_3.nii.gz\",\n",
    "    \"train_17079_b_2.nii.gz\",\n",
    "    \"train_7776_a_1.nii.gz\",\n",
    "    \"train_8334_a_1.nii.gz\",\n",
    "    \"train_19154_a_2.nii.gz\",\n",
    "    \"train_8953_a_2.nii.gz\",\n",
    "    \"train_2057_a_1.nii.gz\",\n",
    "    \"train_13024_c_1.nii.gz\",\n",
    "    \"train_12550_a_1.nii.gz\",\n",
    "    \"train_11597_a_1.nii.gz\",\n",
    "    \"train_14927_a_1.nii.gz\",\n",
    "    \"train_3348_a_1.nii.gz\",\n",
    "    \"train_16761_a_1.nii.gz\",\n",
    "    \"train_5257_a_2.nii.gz\",\n",
    "    \"train_18132_a_1.nii.gz\",\n",
    "    \"train_15200_a_1.nii.gz\",\n",
    "    \"train_942_a_1.nii.gz\",\n",
    "    \"train_13896_b_2.nii.gz\",\n",
    "    \"train_17201_a_1.nii.gz\",\n",
    "    \"train_3047_a_1.nii.gz\",\n",
    "    \"train_9479_a_1.nii.gz\",\n",
    "    \"train_15410_a_1.nii.gz\",\n",
    "    \"train_8391_a_1.nii.gz\",\n",
    "    \"train_10449_a_1.nii.gz\",\n",
    "    \"train_13648_b_2.nii.gz\",\n",
    "    \"train_3064_a_1.nii.gz\",\n",
    "    \"train_12766_a_1.nii.gz\",\n",
    "    \"train_2573_a_2.nii.gz\",\n",
    "    \"train_2149_a_2.nii.gz\",\n",
    "    \"train_3484_a_1.nii.gz\",\n",
    "    \"train_12588_b_2.nii.gz\",\n",
    "    \"train_9858_a_2.nii.gz\",\n",
    "    \"train_15827_a_2.nii.gz\",\n",
    "    \"train_5150_a_1.nii.gz\",\n",
    "    \"train_359_c_1.nii.gz\",\n",
    "    \"train_19838_a_2.nii.gz\",\n",
    "    \"train_18689_a_2.nii.gz\",\n",
    "    \"train_13429_a_1.nii.gz\",\n",
    "    \"train_2186_a_1.nii.gz\",\n",
    "    \"train_8415_a_1.nii.gz\",\n",
    "    \"train_14443_b_2.nii.gz\",\n",
    "    \"train_4510_a_1.nii.gz\",\n",
    "    \"train_6165_b_2.nii.gz\",\n",
    "    \"train_10389_a_2.nii.gz\",\n",
    "    \"train_10507_a_1.nii.gz\",\n",
    "    \"train_12927_a_1.nii.gz\",\n",
    "    \"train_7045_a_1.nii.gz\",\n",
    "    \"train_9377_b_2.nii.gz\",\n",
    "    \"train_19888_a_2.nii.gz\",\n",
    "    \"train_15285_c_1.nii.gz\",\n",
    "    \"train_14993_d_1.nii.gz\",\n",
    "    \"train_2465_a_2.nii.gz\",\n",
    "    \"train_5379_a_2.nii.gz\",\n",
    "    \"train_3900_a_2.nii.gz\",\n",
    "    \"train_9226_a_2.nii.gz\",\n",
    "    \"train_16677_a_2.nii.gz\",\n",
    "    \"train_8065_d_1.nii.gz\",\n",
    "    \"train_8169_b_2.nii.gz\",\n",
    "    \"train_11352_a_1.nii.gz\",\n",
    "    \"train_16937_a_2.nii.gz\",\n",
    "    \"train_12243_a_1.nii.gz\",\n",
    "    \"train_16124_a_1.nii.gz\",\n",
    "    \"train_19428_b_2.nii.gz\",\n",
    "    \"train_16309_a_1.nii.gz\",\n",
    "    \"train_8643_a_2.nii.gz\",\n",
    "    \"train_112_a_2.nii.gz\",\n",
    "    \"train_4172_a_2.nii.gz\",\n",
    "    \"train_15646_a_2.nii.gz\",\n",
    "    \"train_12463_a_1.nii.gz\",\n",
    "    \"train_1786_e_2.nii.gz\",\n",
    "    \"train_1636_a_1.nii.gz\",\n",
    "    \"train_14698_c_2.nii.gz\",\n",
    "    \"train_18655_a_1.nii.gz\",\n",
    "    \"train_12365_a_1.nii.gz\",\n",
    "    \"train_19518_a_2.nii.gz\",\n",
    "    \"train_8550_b_2.nii.gz\",\n",
    "    \"train_4111_a_2.nii.gz\",\n",
    "    \"train_6377_e_2.nii.gz\",\n",
    "    \"train_15764_a_1.nii.gz\",\n",
    "    \"train_18751_a_1.nii.gz\",\n",
    "    \"train_182_b_2.nii.gz\",\n",
    "    \"train_1276_a_1.nii.gz\",\n",
    "    \"train_12375_b_1.nii.gz\",\n",
    "    \"train_2232_a_1.nii.gz\",\n",
    "    \"train_16550_b_1.nii.gz\",\n",
    "    \"train_17944_d_2.nii.gz\",\n",
    "    \"train_11908_b_1.nii.gz\",\n",
    "    \"train_17747_c_1.nii.gz\",\n",
    "    \"train_12791_a_2.nii.gz\",\n",
    "    \"train_17736_a_2.nii.gz\",\n",
    "    \"train_13795_a_1.nii.gz\",\n",
    "    \"train_16676_a_1.nii.gz\",\n",
    "    \"train_8987_g_1.nii.gz\",\n",
    "    \"train_3684_a_2.nii.gz\",\n",
    "    \"train_13562_b_1.nii.gz\",\n",
    "    \"train_15013_b_1.nii.gz\",\n",
    "    \"train_4699_a_2.nii.gz\",\n",
    "    \"train_15245_a_1.nii.gz\",\n",
    "    \"train_4636_a_1.nii.gz\",\n",
    "    \"train_10384_a_2.nii.gz\",\n",
    "    \"train_8062_a_2.nii.gz\",\n",
    "    \"train_5385_a_1.nii.gz\",\n",
    "    \"train_7108_a_2.nii.gz\",\n",
    "    \"train_10147_a_1.nii.gz\",\n",
    "    \"train_872_a_2.nii.gz\",\n",
    "    \"train_16724_b_2.nii.gz\",\n",
    "    \"train_13903_b_2.nii.gz\",\n",
    "    \"train_7064_a_1.nii.gz\",\n",
    "    \"train_6836_a_2.nii.gz\",\n",
    "    \"train_16196_a_2.nii.gz\",\n",
    "    \"train_14895_a_2.nii.gz\",\n",
    "    \"train_5347_a_2.nii.gz\",\n",
    "    \"train_4634_a_1.nii.gz\",\n",
    "    \"train_10983_b_1.nii.gz\",\n",
    "    \"train_3168_a_2.nii.gz\",\n",
    "    \"train_954_c_2.nii.gz\",\n",
    "    \"train_9167_a_1.nii.gz\",\n",
    "    \"train_17883_a_1.nii.gz\",\n",
    "    \"train_3310_a_2.nii.gz\",\n",
    "    \"train_11324_a_1.nii.gz\",\n",
    "    \"train_13606_a_2.nii.gz\",\n",
    "    \"train_7474_a_2.nii.gz\",\n",
    "    \"train_5928_a_1.nii.gz\",\n",
    "    \"train_4632_a_2.nii.gz\",\n",
    "    \"train_17610_a_1.nii.gz\",\n",
    "    \"train_11608_a_5.nii.gz\",\n",
    "    \"train_3899_a_2.nii.gz\",\n",
    "    \"train_17927_a_2.nii.gz\",\n",
    "    \"train_19920_a_2.nii.gz\",\n",
    "    \"train_10089_a_2.nii.gz\",\n",
    "    \"train_5275_a_2.nii.gz\",\n",
    "    \"train_8748_a_1.nii.gz\",\n",
    "    \"train_19505_a_2.nii.gz\",\n",
    "    \"train_7735_a_2.nii.gz\",\n",
    "    \"train_5567_a_1.nii.gz\",\n",
    "    \"train_12094_a_1.nii.gz\",\n",
    "    \"train_7701_a_2.nii.gz\",\n",
    "    \"train_10094_b_1.nii.gz\",\n",
    "    \"train_8031_a_1.nii.gz\",\n",
    "    \"train_17470_a_2.nii.gz\",\n",
    "    \"train_16566_c_2.nii.gz\",\n",
    "    \"train_16972_a_1.nii.gz\",\n",
    "    \"train_3712_a_2.nii.gz\",\n",
    "    \"train_17867_a_1.nii.gz\",\n",
    "    \"train_6211_a_2.nii.gz\",\n",
    "    \"train_16834_a_2.nii.gz\",\n",
    "    \"train_3176_a_2.nii.gz\",\n",
    "    \"train_15286_a_1.nii.gz\",\n",
    "    \"train_9899_a_2.nii.gz\",\n",
    "    \"train_8168_a_2.nii.gz\",\n",
    "    \"train_13874_a_2.nii.gz\",\n",
    "    \"train_848_h_1.nii.gz\",\n",
    "    \"train_19526_a_2.nii.gz\",\n",
    "    \"train_1162_a_1.nii.gz\",\n",
    "    \"train_12201_b_2.nii.gz\",\n",
    "    \"train_11863_a_1.nii.gz\",\n",
    "    \"train_7214_e_2.nii.gz\",\n",
    "    \"train_3821_a_5.nii.gz\",\n",
    "    \"train_19669_a_2.nii.gz\",\n",
    "    \"train_3771_a_1.nii.gz\",\n",
    "    \"train_17097_a_4.nii.gz\",\n",
    "    \"train_1948_a_1.nii.gz\",\n",
    "    \"train_5238_a_1.nii.gz\",\n",
    "    \"train_3251_a_1.nii.gz\",\n",
    "    \"train_2364_a_2.nii.gz\",\n",
    "    \"train_6791_a_1.nii.gz\",\n",
    "    \"train_1132_a_2.nii.gz\",\n",
    "    \"train_2658_a_2.nii.gz\",\n",
    "    \"train_3863_b_1.nii.gz\",\n",
    "    \"train_12402_a_1.nii.gz\",\n",
    "    \"train_7006_b_2.nii.gz\",\n",
    "    \"train_18561_a_2.nii.gz\",\n",
    "    \"train_2534_a_1.nii.gz\",\n",
    "    \"train_12684_a_1.nii.gz\",\n",
    "    \"train_1742_b_1.nii.gz\",\n",
    "    \"train_6829_a_2.nii.gz\",\n",
    "    \"train_12543_a_2.nii.gz\",\n",
    "    \"train_15604_a_2.nii.gz\",\n",
    "    \"train_8936_a_2.nii.gz\",\n",
    "    \"train_17413_a_1.nii.gz\",\n",
    "    \"train_13416_a_1.nii.gz\",\n",
    "    \"train_19971_a_1.nii.gz\",\n",
    "    \"train_18744_a_1.nii.gz\",\n",
    "    \"train_8080_b_1.nii.gz\",\n",
    "    \"train_13785_a_1.nii.gz\",\n",
    "    \"train_227_a_2.nii.gz\",\n",
    "    \"train_3010_a_1.nii.gz\",\n",
    "    \"train_12428_a_1.nii.gz\",\n",
    "    \"train_18252_a_1.nii.gz\",\n",
    "    \"train_15178_a_2.nii.gz\",\n",
    "    \"train_12345_a_1.nii.gz\",\n",
    "    \"train_7171_a_1.nii.gz\",\n",
    "    \"train_17912_a_1.nii.gz\",\n",
    "    \"train_17322_b_1.nii.gz\",\n",
    "    \"train_13339_a_1.nii.gz\",\n",
    "    \"train_17619_e_1.nii.gz\",\n",
    "    \"train_11140_a_2.nii.gz\",\n",
    "    \"train_13436_e_2.nii.gz\",\n",
    "    \"train_7578_b_1.nii.gz\",\n",
    "    \"train_3326_b_1.nii.gz\",\n",
    "    \"train_14959_a_2.nii.gz\",\n",
    "    \"train_9113_j_1.nii.gz\",\n",
    "    \"train_5463_a_1.nii.gz\",\n",
    "    \"train_10503_a_1.nii.gz\",\n",
    "    \"train_8867_a_2.nii.gz\",\n",
    "    \"train_3338_a_1.nii.gz\",\n",
    "    \"train_12060_a_2.nii.gz\",\n",
    "    \"train_13354_a_1.nii.gz\",\n",
    "    \"train_4754_a_1.nii.gz\",\n",
    "    \"train_4197_a_1.nii.gz\",\n",
    "    \"train_8483_a_2.nii.gz\",\n",
    "    \"train_12573_a_5.nii.gz\",\n",
    "    \"train_1180_a_2.nii.gz\",\n",
    "    \"train_9833_a_1.nii.gz\",\n",
    "    \"train_12524_a_1.nii.gz\",\n",
    "    \"train_15361_a_1.nii.gz\",\n",
    "    \"train_19726_a_2.nii.gz\",\n",
    "    \"train_17968_a_1.nii.gz\",\n",
    "    \"train_19597_a_2.nii.gz\",\n",
    "    \"train_5771_a_1.nii.gz\",\n",
    "    \"train_2149_a_1.nii.gz\",\n",
    "    \"train_3886_a_1.nii.gz\",\n",
    "    \"train_7719_b_1.nii.gz\",\n",
    "    \"train_2269_a_2.nii.gz\",\n",
    "    \"train_5424_a_1.nii.gz\",\n",
    "    \"train_2874_a_2.nii.gz\",\n",
    "    \"train_13760_a_2.nii.gz\",\n",
    "    \"train_19421_a_1.nii.gz\",\n",
    "    \"train_1689_b_1.nii.gz\",\n",
    "    \"train_17258_a_1.nii.gz\",\n",
    "    \"train_12425_b_2.nii.gz\",\n",
    "    \"train_14868_a_2.nii.gz\",\n",
    "    \"train_4266_b_1.nii.gz\",\n",
    "    \"train_1348_f_1.nii.gz\",\n",
    "    \"train_17802_a_2.nii.gz\",\n",
    "    \"train_13576_a_1.nii.gz\",\n",
    "    \"train_4537_b_1.nii.gz\",\n",
    "    \"train_1462_b_2.nii.gz\",\n",
    "    \"train_3675_c_1.nii.gz\",\n",
    "    \"train_12778_c_2.nii.gz\",\n",
    "    \"train_11001_b_2.nii.gz\",\n",
    "    \"train_5378_a_1.nii.gz\",\n",
    "    \"train_6729_a_1.nii.gz\",\n",
    "    \"train_10267_a_2.nii.gz\",\n",
    "    \"train_1976_a_1.nii.gz\",\n",
    "    \"train_4394_a_1.nii.gz\",\n",
    "    \"train_19256_a_1.nii.gz\",\n",
    "    \"train_2429_a_1.nii.gz\",\n",
    "    \"train_11267_a_2.nii.gz\",\n",
    "    \"train_11896_a_1.nii.gz\",\n",
    "    \"train_8654_a_2.nii.gz\",\n",
    "    \"train_3863_a_1.nii.gz\",\n",
    "    \"train_12000_a_1.nii.gz\",\n",
    "    \"train_7354_a_1.nii.gz\",\n",
    "    \"train_7874_a_1.nii.gz\",\n",
    "    \"train_12287_a_1.nii.gz\",\n",
    "    \"train_5098_a_1.nii.gz\",\n",
    "    \"train_12811_a_1.nii.gz\",\n",
    "    \"train_15236_a_1.nii.gz\",\n",
    "    \"train_18452_c_1.nii.gz\",\n",
    "    \"train_8075_a_1.nii.gz\",\n",
    "    \"train_8344_a_1.nii.gz\",\n",
    "    \"train_14010_a_1.nii.gz\",\n",
    "    \"train_8396_a_1.nii.gz\",\n",
    "    \"train_9831_a_1.nii.gz\",\n",
    "    \"train_488_a_1.nii.gz\",\n",
    "    \"train_10097_a_1.nii.gz\",\n",
    "    \"train_14587_a_1.nii.gz\",\n",
    "    \"train_4488_a_1.nii.gz\",\n",
    "    \"train_12928_a_1.nii.gz\",\n",
    "    \"train_9611_a_1.nii.gz\",\n",
    "    \"train_16841_a_1.nii.gz\",\n",
    "    \"train_17729_a_2.nii.gz\",\n",
    "    \"train_5410_a_2.nii.gz\",\n",
    "    \"train_389_a_2.nii.gz\",\n",
    "    \"train_6162_a_2.nii.gz\",\n",
    "    \"train_19974_a_1.nii.gz\",\n",
    "    \"train_16207_a_2.nii.gz\",\n",
    "    \"train_11585_a_2.nii.gz\",\n",
    "    \"train_6765_a_1.nii.gz\",\n",
    "    \"train_12315_a_1.nii.gz\",\n",
    "    \"train_5972_a_2.nii.gz\",\n",
    "    \"train_14075_a_1.nii.gz\",\n",
    "    \"train_7080_a_2.nii.gz\",\n",
    "    \"train_17867_a_3.nii.gz\",\n",
    "    \"train_12972_a_2.nii.gz\",\n",
    "    \"train_11755_a_1.nii.gz\",\n",
    "    \"train_11885_a_1.nii.gz\",\n",
    "    \"train_1458_a_1.nii.gz\",\n",
    "    \"train_9407_b_2.nii.gz\",\n",
    "    \"train_18439_a_1.nii.gz\",\n",
    "    \"train_7412_a_2.nii.gz\",\n",
    "    \"train_9455_b_1.nii.gz\",\n",
    "    \"train_13595_a_2.nii.gz\",\n",
    "    \"train_4061_a_2.nii.gz\",\n",
    "    \"train_3510_a_2.nii.gz\",\n",
    "    \"train_10666_a_2.nii.gz\",\n",
    "    \"train_8006_a_1.nii.gz\",\n",
    "    \"train_19301_a_1.nii.gz\",\n",
    "    \"train_18458_a_2.nii.gz\",\n",
    "    \"train_16717_a_1.nii.gz\",\n",
    "    \"train_16179_a_1.nii.gz\",\n",
    "    \"train_9593_a_1.nii.gz\",\n",
    "    \"train_7170_a_1.nii.gz\",\n",
    "    \"train_11356_a_2.nii.gz\",\n",
    "    \"train_5243_a_1.nii.gz\",\n",
    "    \"train_3433_a_1.nii.gz\",\n",
    "    \"train_2640_a_2.nii.gz\",\n",
    "    \"train_11811_a_1.nii.gz\",\n",
    "    \"train_4969_a_1.nii.gz\",\n",
    "    \"train_15372_a_1.nii.gz\",\n",
    "    \"train_7592_c_2.nii.gz\",\n",
    "    \"train_10890_a_2.nii.gz\",\n",
    "    \"train_7115_a_2.nii.gz\",\n",
    "    \"train_6394_a_1.nii.gz\",\n",
    "    \"train_3294_a_2.nii.gz\",\n",
    "    \"train_14994_a_1.nii.gz\",\n",
    "    \"train_18325_a_2.nii.gz\",\n",
    "    \"train_17344_a_2.nii.gz\",\n",
    "    \"train_7584_c_2.nii.gz\",\n",
    "    \"train_11119_b_1.nii.gz\",\n",
    "    \"train_9542_a_2.nii.gz\",\n",
    "    \"train_13437_c_2.nii.gz\",\n",
    "    \"train_4154_a_2.nii.gz\",\n",
    "    \"train_12923_b_2.nii.gz\",\n",
    "    \"train_11966_a_1.nii.gz\",\n",
    "    \"train_9361_a_2.nii.gz\",\n",
    "    \"train_13767_a_2.nii.gz\",\n",
    "    \"train_18454_a_2.nii.gz\",\n",
    "    \"train_16440_b_2.nii.gz\",\n",
    "    \"train_1882_a_1.nii.gz\",\n",
    "    \"train_1004_b_2.nii.gz\",\n",
    "    \"train_13963_a_1.nii.gz\",\n",
    "    \"train_8041_a_2.nii.gz\",\n",
    "    \"train_17190_a_1.nii.gz\",\n",
    "    \"train_3165_a_1.nii.gz\",\n",
    "    \"train_15939_a_1.nii.gz\",\n",
    "    \"train_9668_a_2.nii.gz\",\n",
    "    \"train_6959_a_1.nii.gz\",\n",
    "    \"train_11388_a_1.nii.gz\",\n",
    "    \"train_71_a_2.nii.gz\",\n",
    "    \"train_13297_a_1.nii.gz\",\n",
    "    \"train_16955_a_2.nii.gz\",\n",
    "    \"train_16012_a_1.nii.gz\",\n",
    "    \"train_1754_a_1.nii.gz\",\n",
    "    \"train_8583_a_2.nii.gz\",\n",
    "    \"train_1415_a_2.nii.gz\",\n",
    "    \"train_5557_a_2.nii.gz\",\n",
    "    \"train_2248_a_2.nii.gz\",\n",
    "    \"train_16873_a_1.nii.gz\",\n",
    "    \"train_15143_b_2.nii.gz\",\n",
    "    \"train_10439_a_2.nii.gz\",\n",
    "    \"train_3025_a_2.nii.gz\",\n",
    "    \"train_13812_a_1.nii.gz\",\n",
    "    \"train_4832_a_1.nii.gz\",\n",
    "    \"train_1184_b_1.nii.gz\",\n",
    "    \"train_8063_a_1.nii.gz\",\n",
    "    \"train_8848_a_2.nii.gz\",\n",
    "    \"train_5786_b_2.nii.gz\",\n",
    "    \"train_11152_b_1.nii.gz\",\n",
    "    \"train_2426_a_2.nii.gz\",\n",
    "    \"train_1488_a_2.nii.gz\",\n",
    "    \"train_8782_a_5.nii.gz\",\n",
    "    \"train_9204_a_1.nii.gz\",\n",
    "    \"train_9829_a_3.nii.gz\",\n",
    "    \"train_19350_a_1.nii.gz\",\n",
    "    \"train_15907_a_1.nii.gz\",\n",
    "    \"train_15438_a_1.nii.gz\",\n",
    "    \"train_13955_a_2.nii.gz\",\n",
    "    \"train_7702_b_2.nii.gz\",\n",
    "    \"train_7173_b_1.nii.gz\",\n",
    "    \"train_12337_a_2.nii.gz\",\n",
    "    \"train_19427_b_1.nii.gz\",\n",
    "    \"train_16830_a_2.nii.gz\",\n",
    "    \"train_5404_b_2.nii.gz\",\n",
    "    \"train_14115_a_2.nii.gz\",\n",
    "    \"train_8629_a_2.nii.gz\",\n",
    "    \"train_13188_a_1.nii.gz\",\n",
    "    \"train_19922_a_1.nii.gz\",\n",
    "    \"train_19164_b_2.nii.gz\",\n",
    "    \"train_9997_a_2.nii.gz\",\n",
    "    \"train_15839_a_1.nii.gz\",\n",
    "    \"train_2280_a_2.nii.gz\",\n",
    "    \"train_129_a_2.nii.gz\",\n",
    "    \"train_14199_b_1.nii.gz\",\n",
    "    \"train_3012_a_1.nii.gz\",\n",
    "    \"train_1988_a_1.nii.gz\",\n",
    "    \"train_15822_a_1.nii.gz\",\n",
    "    \"train_16867_a_2.nii.gz\",\n",
    "    \"train_724_a_2.nii.gz\",\n",
    "    \"train_17791_c_2.nii.gz\",\n",
    "    \"train_17429_a_2.nii.gz\",\n",
    "    \"train_11530_b_1.nii.gz\",\n",
    "    \"train_18091_a_2.nii.gz\",\n",
    "    \"train_18284_a_2.nii.gz\",\n",
    "    \"train_4129_a_1.nii.gz\",\n",
    "    \"train_2572_a_1.nii.gz\",\n",
    "    \"train_9789_a_2.nii.gz\",\n",
    "    \"train_4200_a_2.nii.gz\",\n",
    "    \"train_2781_a_1.nii.gz\",\n",
    "    \"train_16810_a_2.nii.gz\",\n",
    "    \"train_5117_c_1.nii.gz\",\n",
    "    \"train_11480_a_1.nii.gz\",\n",
    "    \"train_5832_a_1.nii.gz\",\n",
    "    \"train_10085_a_1.nii.gz\",\n",
    "    \"train_1857_a_1.nii.gz\",\n",
    "    \"train_11762_a_1.nii.gz\",\n",
    "    \"train_1592_a_1.nii.gz\",\n",
    "    \"train_16904_a_2.nii.gz\",\n",
    "    \"train_12332_a_2.nii.gz\",\n",
    "    \"train_12160_c_1.nii.gz\",\n",
    "    \"train_13335_b_2.nii.gz\",\n",
    "    \"train_7239_a_1.nii.gz\",\n",
    "    \"train_18313_b_1.nii.gz\",\n",
    "    \"train_10774_a_1.nii.gz\",\n",
    "    \"train_15328_a_1.nii.gz\",\n",
    "    \"train_8017_a_2.nii.gz\",\n",
    "    \"train_6537_a_1.nii.gz\",\n",
    "    \"train_8695_a_1.nii.gz\",\n",
    "    \"train_12262_a_1.nii.gz\",\n",
    "    \"train_14726_a_1.nii.gz\",\n",
    "    \"train_17300_a_1.nii.gz\",\n",
    "    \"train_12845_a_1.nii.gz\",\n",
    "    \"train_15508_a_2.nii.gz\",\n",
    "    \"train_924_a_2.nii.gz\",\n",
    "    \"train_7079_a_2.nii.gz\",\n",
    "    \"train_5989_a_1.nii.gz\",\n",
    "    \"train_1010_a_2.nii.gz\",\n",
    "    \"train_8045_d_2.nii.gz\",\n",
    "    \"train_1058_a_2.nii.gz\",\n",
    "    \"train_16629_a_1.nii.gz\",\n",
    "    \"train_12017_a_2.nii.gz\",\n",
    "    \"train_19857_a_1.nii.gz\",\n",
    "    \"train_6505_a_1.nii.gz\",\n",
    "    \"train_8871_a_1.nii.gz\",\n",
    "    \"train_12439_a_1.nii.gz\",\n",
    "    \"train_14668_a_1.nii.gz\",\n",
    "    \"train_4854_a_2.nii.gz\",\n",
    "    \"train_6435_a_2.nii.gz\",\n",
    "    \"train_3538_a_1.nii.gz\",\n",
    "    \"train_8818_a_1.nii.gz\",\n",
    "    \"train_10375_a_1.nii.gz\",\n",
    "    \"train_8187_a_2.nii.gz\",\n",
    "    \"train_5320_a_2.nii.gz\",\n",
    "    \"train_18457_a_1.nii.gz\",\n",
    "    \"train_11580_a_2.nii.gz\",\n",
    "    \"train_14055_a_2.nii.gz\",\n",
    "    \"train_10321_f_1.nii.gz\",\n",
    "    \"train_5334_a_1.nii.gz\",\n",
    "    \"train_15523_a_1.nii.gz\",\n",
    "    \"train_16158_a_2.nii.gz\",\n",
    "    \"train_807_a_1.nii.gz\",\n",
    "    \"train_8774_a_2.nii.gz\",\n",
    "    \"train_16164_a_2.nii.gz\",\n",
    "    \"train_18793_b_2.nii.gz\",\n",
    "    \"train_15602_a_1.nii.gz\",\n",
    "    \"train_11626_a_1.nii.gz\",\n",
    "    \"train_19795_a_1.nii.gz\",\n",
    "    \"train_3574_a_2.nii.gz\",\n",
    "    \"train_15230_a_1.nii.gz\",\n",
    "    \"train_19926_a_2.nii.gz\",\n",
    "    \"train_3711_a_2.nii.gz\",\n",
    "    \"train_19306_a_2.nii.gz\",\n",
    "    \"train_15717_a_2.nii.gz\",\n",
    "    \"train_9454_a_2.nii.gz\",\n",
    "    \"train_2085_a_1.nii.gz\",\n",
    "    \"train_8004_a_1.nii.gz\",\n",
    "    \"train_5150_a_2.nii.gz\",\n",
    "    \"train_10575_a_1.nii.gz\",\n",
    "    \"train_1422_c_1.nii.gz\",\n",
    "    \"train_13067_a_3.nii.gz\",\n",
    "    \"train_7540_e_1.nii.gz\",\n",
    "    \"train_3748_b_1.nii.gz\",\n",
    "    \"train_8344_a_2.nii.gz\",\n",
    "    \"train_17732_e_2.nii.gz\",\n",
    "    \"train_7811_b_1.nii.gz\",\n",
    "    \"train_116_a_2.nii.gz\",\n",
    "    \"train_2329_f_1.nii.gz\",\n",
    "    \"train_19103_a_2.nii.gz\",\n",
    "    \"train_8132_b_2.nii.gz\",\n",
    "    \"train_5632_b_2.nii.gz\",\n",
    "    \"train_11656_b_1.nii.gz\",\n",
    "    \"train_7124_a_1.nii.gz\",\n",
    "    \"train_1758_c_1.nii.gz\",\n",
    "    \"train_3934_a_1.nii.gz\",\n",
    "    \"train_727_a_2.nii.gz\",\n",
    "    \"train_15667_a_1.nii.gz\",\n",
    "    \"train_16642_a_2.nii.gz\",\n",
    "    \"train_7975_a_1.nii.gz\",\n",
    "    \"train_2374_a_1.nii.gz\",\n",
    "    \"train_14164_a_2.nii.gz\",\n",
    "    \"train_4561_a_2.nii.gz\",\n",
    "    \"train_8583_a_1.nii.gz\",\n",
    "    \"train_11221_a_2.nii.gz\",\n",
    "    \"train_7033_a_2.nii.gz\",\n",
    "    \"train_1914_a_2.nii.gz\",\n",
    "    \"train_344_d_1.nii.gz\",\n",
    "    \"train_4982_a_3.nii.gz\",\n",
    "    \"train_19519_a_1.nii.gz\",\n",
    "    \"train_3021_a_1.nii.gz\",\n",
    "    \"train_10112_b_1.nii.gz\",\n",
    "    \"train_12095_b_1.nii.gz\",\n",
    "    \"train_12132_a_2.nii.gz\",\n",
    "    \"train_4801_a_1.nii.gz\",\n",
    "    \"train_15128_a_2.nii.gz\",\n",
    "    \"train_18320_a_1.nii.gz\",\n",
    "    \"train_882_a_2.nii.gz\",\n",
    "    \"train_13191_a_1.nii.gz\",\n",
    "    \"train_13638_a_2.nii.gz\",\n",
    "    \"train_12005_a_2.nii.gz\",\n",
    "    \"train_3375_a_2.nii.gz\",\n",
    "    \"train_5963_a_1.nii.gz\",\n",
    "    \"train_12364_a_1.nii.gz\",\n",
    "    \"train_2139_d_1.nii.gz\",\n",
    "    \"train_9110_a_2.nii.gz\",\n",
    "    \"train_2093_a_1.nii.gz\",\n",
    "    \"train_5419_a_2.nii.gz\",\n",
    "    \"train_17942_a_1.nii.gz\",\n",
    "    \"train_2558_a_2.nii.gz\",\n",
    "    \"train_13905_a_2.nii.gz\",\n",
    "    \"train_4089_a_1.nii.gz\",\n",
    "    \"train_2511_a_1.nii.gz\",\n",
    "    \"train_10875_a_2.nii.gz\",\n",
    "    \"train_8773_a_2.nii.gz\",\n",
    "    \"train_6850_a_1.nii.gz\",\n",
    "    \"train_3186_b_1.nii.gz\",\n",
    "    \"train_318_a_1.nii.gz\",\n",
    "    \"train_7798_a_2.nii.gz\",\n",
    "    \"train_11625_a_1.nii.gz\",\n",
    "    \"train_19208_a_1.nii.gz\",\n",
    "    \"train_14481_a_2.nii.gz\",\n",
    "    \"train_4064_a_1.nii.gz\",\n",
    "    \"train_12570_a_2.nii.gz\",\n",
    "    \"train_7359_a_2.nii.gz\",\n",
    "    \"train_15321_a_2.nii.gz\",\n",
    "    \"train_13435_a_2.nii.gz\",\n",
    "    \"train_8271_a_1.nii.gz\",\n",
    "    \"train_5448_a_1.nii.gz\",\n",
    "    \"train_19002_a_1.nii.gz\",\n",
    "    \"train_4169_a_1.nii.gz\"\n",
    "]\n",
    "\n",
    "# --- 6. Preprocessing and Feature Extraction ---\n",
    "def load_and_preprocess_ct(path: str):\n",
    "    transform = T.Compose([\n",
    "        T.LoadImaged(keys=[\"image\"]), T.EnsureChannelFirstd(keys=[\"image\"]),\n",
    "        T.ScaleIntensityRanged(keys=[\"image\"], a_min=-1000, a_max=1000,\n",
    "                               b_min=-1.0, b_max=1.0, clip=True),\n",
    "        T.Resized(keys=[\"image\"], spatial_size=(40, 480, 480),\n",
    "                  mode=\"trilinear\", align_corners=False),\n",
    "        T.ToTensord(keys=[\"image\"]),\n",
    "    ])\n",
    "    data = transform({\"image\": path})\n",
    "    return data[\"image\"].unsqueeze(0).to(DEVICE)\n",
    "\n",
    "def reconstruct_path_from_filename(filename: str) -> str:\n",
    "    parts = filename.replace('.nii.gz', '').split('_')\n",
    "    train_id = parts[1]\n",
    "    scan_id = parts[2]\n",
    "    return f\"dataset/train/train_{train_id}/train_{train_id}_{scan_id}/{filename}\"\n",
    "\n",
    "print(\"\\n--- Extracting features for our mini-dataset ---\")\n",
    "training_data = []\n",
    "for filename in sample_filenames:\n",
    "    try:\n",
    "        full_path = reconstruct_path_from_filename(filename)\n",
    "        print(f\"Processing {full_path}...\")\n",
    "        local_path = hf_hub_download(\n",
    "            repo_id=\"ibrahimhamamci/CT-RATE\",\n",
    "            repo_type=\"dataset\",\n",
    "            filename=full_path,\n",
    "            token=HF_TOKEN,\n",
    "        )\n",
    "        ct_tensor = load_and_preprocess_ct(local_path)\n",
    "\n",
    "        with torch.no_grad():\n",
    "            dummy_text_input = text_tokenizer_clip([\"\"], return_tensors=\"pt\", padding=True).to(DEVICE)\n",
    "            _, image_embedding, _ = vision_model(dummy_text_input, ct_tensor, DEVICE, return_latents=True)\n",
    "\n",
    "        labels_row = df_labels[df_labels['VolumeName'] == filename]\n",
    "        if not labels_row.empty:\n",
    "            label_vector = torch.tensor(labels_row.iloc[0, 1:].values.astype(np.float32)).to(DEVICE)\n",
    "            training_data.append((image_embedding, label_vector))\n",
    "    except Exception as e:\n",
    "        print(f\"Could not process file {filename}. Error: {e}. Skipping.\")\n",
    "\n",
    "print(f\"\\n ✅ Cell 2 complete. Created a mini-dataset with {len(training_data)} samples.\")\n",
    "\n",
    "# === 7. Save extracted features and labels for later reuse ===\n",
    "os.makedirs(\"saved_artifacts\", exist_ok=True)\n",
    "image_embeddings = torch.cat([item[0] for item in training_data], dim=0)  # [N, 512]\n",
    "label_vectors = torch.stack([item[1] for item in training_data], dim=0)   # [N, num_classes]\n",
    "\n",
    "torch.save({\n",
    "    \"image_embeddings\": image_embeddings,\n",
    "    \"label_vectors\": label_vectors,\n",
    "    \"class_names\": CLASS_NAMES,\n",
    "}, \"saved_artifacts/features_labels.pt\")\n",
    "\n",
    "# Save sample filename manifest\n",
    "with open(\"saved_artifacts/sample_filenames.txt\", \"w\") as f:\n",
    "    for name in sample_filenames:\n",
    "        full_path = reconstruct_path_from_filename(name)\n",
    "        f.write(f\"{name}\\t{full_path}\\n\")\n",
    "\n",
    "# Save a human-readable summary\n",
    "summary_rows = []\n",
    "for i, (emb, label) in enumerate(training_data):\n",
    "    summary_rows.append({\n",
    "        \"sample_index\": i,\n",
    "        \"volume_name\": sample_filenames[i],\n",
    "        \"embedding_norm\": emb.norm().item(),\n",
    "        **{f\"class_{j}\": label[j].item() for j in range(label.shape[0])}\n",
    "    })\n",
    "df_summary = pd.DataFrame(summary_rows)\n",
    "df_summary.to_csv(\"saved_artifacts/training_summary.csv\", index=False)\n",
    "\n",
    "print(\"✅ Saved features+labels, sample list, and summary to `saved_artifacts/`\")\n"
   ]
  },
  {
   "cell_type": "code",
   "execution_count": 12,
   "id": "a29e3fec-0ad7-4c43-a167-395e5d73767f",
   "metadata": {},
   "outputs": [
    {
     "name": "stdout",
     "output_type": "stream",
     "text": [
      "--- Loading pre-extracted features and labels ---\n",
      "✅ Loaded 1000 samples.\n",
      "\n",
      "--- Starting 5-Fold Cross-Validation Training on 1000 samples ---\n",
      "\n",
      "--- Fold 1/5 ---\n",
      "  Epoch [20/1000], Loss: 0.5152\n",
      "  Epoch [40/1000], Loss: 0.4696\n",
      "  Epoch [60/1000], Loss: 0.4636\n",
      "  Epoch [80/1000], Loss: 0.4635\n",
      "  Epoch [100/1000], Loss: 0.4629\n",
      "  Epoch [120/1000], Loss: 0.4613\n",
      "  Epoch [140/1000], Loss: 0.4609\n",
      "  Epoch [160/1000], Loss: 0.4582\n",
      "  Epoch [180/1000], Loss: 0.4578\n",
      "  Epoch [200/1000], Loss: 0.4576\n",
      "  Epoch [220/1000], Loss: 0.4550\n",
      "  Epoch [240/1000], Loss: 0.4547\n",
      "  Epoch [260/1000], Loss: 0.4522\n",
      "  Epoch [280/1000], Loss: 0.4528\n",
      "  Epoch [300/1000], Loss: 0.4518\n",
      "  Epoch [320/1000], Loss: 0.4501\n",
      "  Epoch [340/1000], Loss: 0.4493\n",
      "  Epoch [360/1000], Loss: 0.4465\n",
      "  Epoch [380/1000], Loss: 0.4452\n",
      "  Epoch [400/1000], Loss: 0.4442\n",
      "  Epoch [420/1000], Loss: 0.4416\n",
      "  Epoch [440/1000], Loss: 0.4393\n",
      "  Epoch [460/1000], Loss: 0.4389\n",
      "  Epoch [480/1000], Loss: 0.4367\n",
      "  Epoch [500/1000], Loss: 0.4355\n",
      "  Epoch [520/1000], Loss: 0.4334\n",
      "  Epoch [540/1000], Loss: 0.4326\n",
      "  Epoch [560/1000], Loss: 0.4296\n",
      "  Epoch [580/1000], Loss: 0.4294\n",
      "  Epoch [600/1000], Loss: 0.4285\n",
      "  Epoch [620/1000], Loss: 0.4244\n",
      "  Epoch [640/1000], Loss: 0.4250\n",
      "  Epoch [660/1000], Loss: 0.4229\n",
      "  Epoch [680/1000], Loss: 0.4217\n",
      "  Epoch [700/1000], Loss: 0.4209\n",
      "  Epoch [720/1000], Loss: 0.4173\n",
      "  Epoch [740/1000], Loss: 0.4155\n",
      "  Epoch [760/1000], Loss: 0.4142\n",
      "  Epoch [780/1000], Loss: 0.4126\n",
      "  Epoch [800/1000], Loss: 0.4115\n",
      "  Epoch [820/1000], Loss: 0.4095\n",
      "  Epoch [840/1000], Loss: 0.4085\n",
      "  Epoch [860/1000], Loss: 0.4067\n",
      "  Epoch [880/1000], Loss: 0.4051\n",
      "  Epoch [900/1000], Loss: 0.4045\n",
      "  Epoch [920/1000], Loss: 0.4019\n",
      "  Epoch [940/1000], Loss: 0.4001\n",
      "  Epoch [960/1000], Loss: 0.3986\n",
      "  Epoch [980/1000], Loss: 0.3954\n",
      "  Epoch [1000/1000], Loss: 0.3954\n",
      "\n",
      "--- Fold 2/5 ---\n",
      "  Epoch [20/1000], Loss: 0.5211\n",
      "  Epoch [40/1000], Loss: 0.4701\n",
      "  Epoch [60/1000], Loss: 0.4653\n",
      "  Epoch [80/1000], Loss: 0.4644\n",
      "  Epoch [100/1000], Loss: 0.4622\n",
      "  Epoch [120/1000], Loss: 0.4610\n",
      "  Epoch [140/1000], Loss: 0.4589\n",
      "  Epoch [160/1000], Loss: 0.4599\n",
      "  Epoch [180/1000], Loss: 0.4595\n",
      "  Epoch [200/1000], Loss: 0.4573\n",
      "  Epoch [220/1000], Loss: 0.4564\n",
      "  Epoch [240/1000], Loss: 0.4546\n",
      "  Epoch [260/1000], Loss: 0.4537\n",
      "  Epoch [280/1000], Loss: 0.4537\n",
      "  Epoch [300/1000], Loss: 0.4511\n",
      "  Epoch [320/1000], Loss: 0.4509\n",
      "  Epoch [340/1000], Loss: 0.4480\n",
      "  Epoch [360/1000], Loss: 0.4474\n",
      "  Epoch [380/1000], Loss: 0.4448\n",
      "  Epoch [400/1000], Loss: 0.4436\n",
      "  Epoch [420/1000], Loss: 0.4420\n",
      "  Epoch [440/1000], Loss: 0.4424\n",
      "  Epoch [460/1000], Loss: 0.4390\n",
      "  Epoch [480/1000], Loss: 0.4373\n",
      "  Epoch [500/1000], Loss: 0.4346\n",
      "  Epoch [520/1000], Loss: 0.4353\n",
      "  Epoch [540/1000], Loss: 0.4335\n",
      "  Epoch [560/1000], Loss: 0.4317\n",
      "  Epoch [580/1000], Loss: 0.4293\n",
      "  Epoch [600/1000], Loss: 0.4295\n",
      "  Epoch [620/1000], Loss: 0.4282\n",
      "  Epoch [640/1000], Loss: 0.4257\n",
      "  Epoch [660/1000], Loss: 0.4248\n",
      "  Epoch [680/1000], Loss: 0.4231\n",
      "  Epoch [700/1000], Loss: 0.4211\n",
      "  Epoch [720/1000], Loss: 0.4201\n",
      "  Epoch [740/1000], Loss: 0.4188\n",
      "  Epoch [760/1000], Loss: 0.4145\n",
      "  Epoch [780/1000], Loss: 0.4127\n",
      "  Epoch [800/1000], Loss: 0.4146\n",
      "  Epoch [820/1000], Loss: 0.4108\n",
      "  Epoch [840/1000], Loss: 0.4112\n",
      "  Epoch [860/1000], Loss: 0.4093\n",
      "  Epoch [880/1000], Loss: 0.4086\n",
      "  Epoch [900/1000], Loss: 0.4047\n",
      "  Epoch [920/1000], Loss: 0.4028\n",
      "  Epoch [940/1000], Loss: 0.4029\n",
      "  Epoch [960/1000], Loss: 0.4018\n",
      "  Epoch [980/1000], Loss: 0.4007\n",
      "  Epoch [1000/1000], Loss: 0.3967\n",
      "\n",
      "--- Fold 3/5 ---\n",
      "  Epoch [20/1000], Loss: 0.5225\n",
      "  Epoch [40/1000], Loss: 0.4715\n",
      "  Epoch [60/1000], Loss: 0.4678\n",
      "  Epoch [80/1000], Loss: 0.4636\n",
      "  Epoch [100/1000], Loss: 0.4639\n",
      "  Epoch [120/1000], Loss: 0.4623\n",
      "  Epoch [140/1000], Loss: 0.4604\n",
      "  Epoch [160/1000], Loss: 0.4612\n",
      "  Epoch [180/1000], Loss: 0.4592\n",
      "  Epoch [200/1000], Loss: 0.4556\n",
      "  Epoch [220/1000], Loss: 0.4571\n",
      "  Epoch [240/1000], Loss: 0.4549\n",
      "  Epoch [260/1000], Loss: 0.4533\n",
      "  Epoch [280/1000], Loss: 0.4529\n",
      "  Epoch [300/1000], Loss: 0.4511\n",
      "  Epoch [320/1000], Loss: 0.4503\n",
      "  Epoch [340/1000], Loss: 0.4493\n",
      "  Epoch [360/1000], Loss: 0.4468\n",
      "  Epoch [380/1000], Loss: 0.4470\n",
      "  Epoch [400/1000], Loss: 0.4452\n",
      "  Epoch [420/1000], Loss: 0.4449\n",
      "  Epoch [440/1000], Loss: 0.4425\n",
      "  Epoch [460/1000], Loss: 0.4420\n",
      "  Epoch [480/1000], Loss: 0.4383\n",
      "  Epoch [500/1000], Loss: 0.4397\n",
      "  Epoch [520/1000], Loss: 0.4376\n",
      "  Epoch [540/1000], Loss: 0.4344\n",
      "  Epoch [560/1000], Loss: 0.4351\n",
      "  Epoch [580/1000], Loss: 0.4323\n",
      "  Epoch [600/1000], Loss: 0.4299\n",
      "  Epoch [620/1000], Loss: 0.4293\n",
      "  Epoch [640/1000], Loss: 0.4266\n",
      "  Epoch [660/1000], Loss: 0.4246\n",
      "  Epoch [680/1000], Loss: 0.4261\n",
      "  Epoch [700/1000], Loss: 0.4223\n",
      "  Epoch [720/1000], Loss: 0.4224\n",
      "  Epoch [740/1000], Loss: 0.4193\n",
      "  Epoch [760/1000], Loss: 0.4166\n",
      "  Epoch [780/1000], Loss: 0.4156\n",
      "  Epoch [800/1000], Loss: 0.4154\n",
      "  Epoch [820/1000], Loss: 0.4128\n",
      "  Epoch [840/1000], Loss: 0.4138\n",
      "  Epoch [860/1000], Loss: 0.4106\n",
      "  Epoch [880/1000], Loss: 0.4103\n",
      "  Epoch [900/1000], Loss: 0.4081\n",
      "  Epoch [920/1000], Loss: 0.4058\n",
      "  Epoch [940/1000], Loss: 0.4035\n",
      "  Epoch [960/1000], Loss: 0.4024\n",
      "  Epoch [980/1000], Loss: 0.4006\n",
      "  Epoch [1000/1000], Loss: 0.4016\n",
      "\n",
      "--- Fold 4/5 ---\n",
      "  Epoch [20/1000], Loss: 0.5173\n",
      "  Epoch [40/1000], Loss: 0.4760\n",
      "  Epoch [60/1000], Loss: 0.4718\n",
      "  Epoch [80/1000], Loss: 0.4710\n",
      "  Epoch [100/1000], Loss: 0.4690\n",
      "  Epoch [120/1000], Loss: 0.4690\n",
      "  Epoch [140/1000], Loss: 0.4685\n",
      "  Epoch [160/1000], Loss: 0.4659\n",
      "  Epoch [180/1000], Loss: 0.4639\n",
      "  Epoch [200/1000], Loss: 0.4625\n",
      "  Epoch [220/1000], Loss: 0.4617\n",
      "  Epoch [240/1000], Loss: 0.4611\n",
      "  Epoch [260/1000], Loss: 0.4593\n",
      "  Epoch [280/1000], Loss: 0.4587\n",
      "  Epoch [300/1000], Loss: 0.4552\n",
      "  Epoch [320/1000], Loss: 0.4541\n",
      "  Epoch [340/1000], Loss: 0.4546\n",
      "  Epoch [360/1000], Loss: 0.4540\n",
      "  Epoch [380/1000], Loss: 0.4498\n",
      "  Epoch [400/1000], Loss: 0.4494\n",
      "  Epoch [420/1000], Loss: 0.4467\n",
      "  Epoch [440/1000], Loss: 0.4442\n",
      "  Epoch [460/1000], Loss: 0.4444\n",
      "  Epoch [480/1000], Loss: 0.4417\n",
      "  Epoch [500/1000], Loss: 0.4406\n",
      "  Epoch [520/1000], Loss: 0.4386\n",
      "  Epoch [540/1000], Loss: 0.4373\n",
      "  Epoch [560/1000], Loss: 0.4363\n",
      "  Epoch [580/1000], Loss: 0.4332\n",
      "  Epoch [600/1000], Loss: 0.4302\n",
      "  Epoch [620/1000], Loss: 0.4313\n",
      "  Epoch [640/1000], Loss: 0.4293\n",
      "  Epoch [660/1000], Loss: 0.4285\n",
      "  Epoch [680/1000], Loss: 0.4255\n",
      "  Epoch [700/1000], Loss: 0.4236\n",
      "  Epoch [720/1000], Loss: 0.4231\n",
      "  Epoch [740/1000], Loss: 0.4220\n",
      "  Epoch [760/1000], Loss: 0.4192\n",
      "  Epoch [780/1000], Loss: 0.4164\n",
      "  Epoch [800/1000], Loss: 0.4132\n",
      "  Epoch [820/1000], Loss: 0.4138\n",
      "  Epoch [840/1000], Loss: 0.4122\n",
      "  Epoch [860/1000], Loss: 0.4102\n",
      "  Epoch [880/1000], Loss: 0.4084\n",
      "  Epoch [900/1000], Loss: 0.4070\n",
      "  Epoch [920/1000], Loss: 0.4059\n",
      "  Epoch [940/1000], Loss: 0.4022\n",
      "  Epoch [960/1000], Loss: 0.4015\n",
      "  Epoch [980/1000], Loss: 0.3985\n",
      "  Epoch [1000/1000], Loss: 0.3991\n",
      "\n",
      "--- Fold 5/5 ---\n",
      "  Epoch [20/1000], Loss: 0.5210\n",
      "  Epoch [40/1000], Loss: 0.4691\n",
      "  Epoch [60/1000], Loss: 0.4629\n",
      "  Epoch [80/1000], Loss: 0.4606\n",
      "  Epoch [100/1000], Loss: 0.4595\n",
      "  Epoch [120/1000], Loss: 0.4576\n",
      "  Epoch [140/1000], Loss: 0.4578\n",
      "  Epoch [160/1000], Loss: 0.4559\n",
      "  Epoch [180/1000], Loss: 0.4532\n",
      "  Epoch [200/1000], Loss: 0.4520\n",
      "  Epoch [220/1000], Loss: 0.4499\n",
      "  Epoch [240/1000], Loss: 0.4484\n",
      "  Epoch [260/1000], Loss: 0.4476\n",
      "  Epoch [280/1000], Loss: 0.4475\n",
      "  Epoch [300/1000], Loss: 0.4452\n",
      "  Epoch [320/1000], Loss: 0.4434\n",
      "  Epoch [340/1000], Loss: 0.4425\n",
      "  Epoch [360/1000], Loss: 0.4412\n",
      "  Epoch [380/1000], Loss: 0.4409\n",
      "  Epoch [400/1000], Loss: 0.4397\n",
      "  Epoch [420/1000], Loss: 0.4388\n",
      "  Epoch [440/1000], Loss: 0.4374\n",
      "  Epoch [460/1000], Loss: 0.4361\n",
      "  Epoch [480/1000], Loss: 0.4332\n",
      "  Epoch [500/1000], Loss: 0.4319\n",
      "  Epoch [520/1000], Loss: 0.4304\n",
      "  Epoch [540/1000], Loss: 0.4299\n",
      "  Epoch [560/1000], Loss: 0.4283\n",
      "  Epoch [580/1000], Loss: 0.4276\n",
      "  Epoch [600/1000], Loss: 0.4257\n",
      "  Epoch [620/1000], Loss: 0.4242\n",
      "  Epoch [640/1000], Loss: 0.4205\n",
      "  Epoch [660/1000], Loss: 0.4213\n",
      "  Epoch [680/1000], Loss: 0.4194\n",
      "  Epoch [700/1000], Loss: 0.4160\n",
      "  Epoch [720/1000], Loss: 0.4164\n",
      "  Epoch [740/1000], Loss: 0.4141\n",
      "  Epoch [760/1000], Loss: 0.4137\n",
      "  Epoch [780/1000], Loss: 0.4109\n",
      "  Epoch [800/1000], Loss: 0.4069\n",
      "  Epoch [820/1000], Loss: 0.4096\n",
      "  Epoch [840/1000], Loss: 0.4066\n",
      "  Epoch [860/1000], Loss: 0.4058\n",
      "  Epoch [880/1000], Loss: 0.4032\n",
      "  Epoch [900/1000], Loss: 0.4008\n",
      "  Epoch [920/1000], Loss: 0.4029\n",
      "  Epoch [940/1000], Loss: 0.3977\n",
      "  Epoch [960/1000], Loss: 0.3966\n",
      "  Epoch [980/1000], Loss: 0.3981\n",
      "  Epoch [1000/1000], Loss: 0.3957\n",
      "\n",
      " ✅ Cross-validation training complete.\n",
      "\n",
      "--- Tuning Thresholds on Cross-Validation Results ---\n",
      "Best threshold for 'Medical material': 0.10 (F1 Score: 0.249)\n",
      "Best threshold for 'Arterial wall calcification': 0.15 (F1 Score: 0.490)\n",
      "Best threshold for 'Cardiomegaly': 0.20 (F1 Score: 0.263)\n",
      "Best threshold for 'Pericardial effusion': 0.10 (F1 Score: 0.191)\n",
      "Best threshold for 'Coronary artery wall calcification': 0.15 (F1 Score: 0.464)\n",
      "Best threshold for 'Hiatal hernia': 0.10 (F1 Score: 0.287)\n",
      "Best threshold for 'Lymphadenopathy': 0.15 (F1 Score: 0.416)\n",
      "Best threshold for 'Emphysema': 0.10 (F1 Score: 0.346)\n",
      "Best threshold for 'Atelectasis': 0.10 (F1 Score: 0.450)\n",
      "Best threshold for 'Lung nodule': 0.25 (F1 Score: 0.640)\n",
      "Best threshold for 'Lung opacity': 0.20 (F1 Score: 0.530)\n",
      "Best threshold for 'Pulmonary fibrotic sequela': 0.10 (F1 Score: 0.443)\n",
      "Best threshold for 'Pleural effusion': 0.15 (F1 Score: 0.320)\n",
      "Best threshold for 'Mosaic attenuation pattern': 0.10 (F1 Score: 0.139)\n",
      "Best threshold for 'Peribronchial thickening': 0.10 (F1 Score: 0.244)\n",
      "Best threshold for 'Consolidation': 0.10 (F1 Score: 0.308)\n",
      "Best threshold for 'Bronchiectasis': 0.10 (F1 Score: 0.213)\n",
      "Best threshold for 'Interlobular septal thickening': 0.10 (F1 Score: 0.219)\n",
      "\n",
      "--- Training final model on all 1000 samples ---\n",
      "  Epoch [20/100], Loss: 0.5232\n",
      "  Epoch [40/100], Loss: 0.4712\n",
      "  Epoch [60/100], Loss: 0.4661\n",
      "  Epoch [80/100], Loss: 0.4659\n",
      "  Epoch [100/100], Loss: 0.4652\n",
      "✅ Final model training complete.\n",
      "\n",
      "✅ Final model and thresholds saved to 'final_classifier.pth'\n"
     ]
    }
   ],
   "source": [
    "# %%\n",
    "# ==============================================================================\n",
    "# CELL 3: Improved Classifier Head Training with K-Fold Cross-Validation\n",
    "# ==============================================================================\n",
    "import torch.nn as nn\n",
    "import torch.optim as optim\n",
    "import os\n",
    "import numpy as np\n",
    "from sklearn.model_selection import KFold\n",
    "from sklearn.metrics import f1_score\n",
    "import torch\n",
    "\n",
    "# --- 1. Load the features and labels saved by Cell 2 ---\n",
    "print(\"--- Loading pre-extracted features and labels ---\")\n",
    "# THE FIX: Add weights_only=False because we trust this file\n",
    "saved_data = torch.load(\"saved_artifacts/features_labels.pt\", weights_only=False)\n",
    "all_embeddings = saved_data['image_embeddings']\n",
    "all_labels = saved_data['label_vectors']\n",
    "CLASS_NAMES = saved_data['class_names']\n",
    "print(f\"✅ Loaded {len(all_embeddings)} samples.\")\n",
    "\n",
    "\n",
    "# --- 2. Define a Deeper Classifier Head with Dropout ---\n",
    "class DeeperClassifierHead(nn.Module):\n",
    "    def __init__(self, input_dim, hidden_dim, output_dim, dropout_rate=0.5):\n",
    "        super().__init__()\n",
    "        self.network = nn.Sequential(\n",
    "            nn.Linear(input_dim, hidden_dim),\n",
    "            nn.ReLU(),\n",
    "            nn.Dropout(dropout_rate),\n",
    "            nn.Linear(hidden_dim, output_dim)\n",
    "        )\n",
    "    def forward(self, x):\n",
    "        return self.network(x)\n",
    "\n",
    "# --- 3. K-Fold Cross-Validation Setup ---\n",
    "kf = KFold(n_splits=5, shuffle=True, random_state=42)\n",
    "fold_results = []\n",
    "\n",
    "print(f\"\\n--- Starting 5-Fold Cross-Validation Training on {len(all_embeddings)} samples ---\")\n",
    "\n",
    "for fold, (train_idx, val_idx) in enumerate(kf.split(all_embeddings)):\n",
    "    print(f\"\\n--- Fold {fold+1}/5 ---\")\n",
    "    \n",
    "    X_train, Y_train = all_embeddings[train_idx], all_labels[train_idx]\n",
    "    X_val, Y_val = all_embeddings[val_idx], all_labels[val_idx]\n",
    "    \n",
    "    model = DeeperClassifierHead(\n",
    "        input_dim=512, \n",
    "        hidden_dim=256, \n",
    "        output_dim=len(CLASS_NAMES)\n",
    "    ).to(DEVICE)\n",
    "    \n",
    "    criterion = nn.BCEWithLogitsLoss()\n",
    "    optimizer = optim.Adam(model.parameters(), lr=0.001)\n",
    "    \n",
    "    # --- Training Loop ---\n",
    "    num_epochs = 1000\n",
    "    for epoch in range(num_epochs):\n",
    "        model.train()\n",
    "        optimizer.zero_grad()\n",
    "        outputs = model(X_train)\n",
    "        loss = criterion(outputs, Y_train)\n",
    "        loss.backward()\n",
    "        optimizer.step()\n",
    "        \n",
    "        if (epoch + 1) % 20 == 0:\n",
    "            print(f\"  Epoch [{epoch+1}/{num_epochs}], Loss: {loss.item():.4f}\")\n",
    "\n",
    "    # --- Validation ---\n",
    "    model.eval()\n",
    "    with torch.no_grad():\n",
    "        val_logits = model(X_val)\n",
    "        val_probs = torch.sigmoid(val_logits)\n",
    "        fold_results.append({\n",
    "            \"probs\": val_probs.cpu().numpy(),\n",
    "            \"labels\": Y_val.cpu().numpy()\n",
    "        })\n",
    "\n",
    "print(\"\\n ✅ Cross-validation training complete.\")\n",
    "\n",
    "# --- 4. Aggregate Results and Tune Thresholds ---\n",
    "all_val_probs = np.concatenate([res[\"probs\"] for res in fold_results])\n",
    "all_val_labels = np.concatenate([res[\"labels\"] for res in fold_results])\n",
    "\n",
    "best_thresholds = []\n",
    "print(\"\\n--- Tuning Thresholds on Cross-Validation Results ---\")\n",
    "for i in range(len(CLASS_NAMES)):\n",
    "    best_f1 = 0\n",
    "    best_thresh = 0.5\n",
    "    for thresh in np.arange(0.1, 0.9, 0.05):\n",
    "        preds = (all_val_probs[:, i] > thresh).astype(int)\n",
    "        f1 = f1_score(all_val_labels[:, i], preds, zero_division=0)\n",
    "        if f1 > best_f1:\n",
    "            best_f1 = f1\n",
    "            best_thresh = thresh\n",
    "    best_thresholds.append(best_thresh)\n",
    "    print(f\"Best threshold for '{CLASS_NAMES[i]}': {best_thresh:.2f} (F1 Score: {best_f1:.3f})\")\n",
    "\n",
    "\n",
    "# --- 5. Train Final Model on ALL Data ---\n",
    "print(f\"\\n--- Training final model on all {len(all_embeddings)} samples ---\")\n",
    "final_model = DeeperClassifierHead(\n",
    "    input_dim=512, hidden_dim=256, output_dim=len(CLASS_NAMES)\n",
    ").to(DEVICE)\n",
    "optimizer = optim.Adam(final_model.parameters(), lr=0.001)\n",
    "criterion = nn.BCEWithLogitsLoss()\n",
    "\n",
    "num_epochs_final = 100\n",
    "for epoch in range(num_epochs_final):\n",
    "    final_model.train()\n",
    "    optimizer.zero_grad()\n",
    "    outputs = final_model(all_embeddings)\n",
    "    loss = criterion(outputs, all_labels)\n",
    "    loss.backward()\n",
    "    optimizer.step()\n",
    "    if (epoch + 1) % 20 == 0:\n",
    "        print(f\"  Epoch [{epoch+1}/{num_epochs_final}], Loss: {loss.item():.4f}\")\n",
    "\n",
    "final_model.eval()\n",
    "print(\"✅ Final model training complete.\")\n",
    "\n",
    "# --- 6. Save the final model and thresholds ---\n",
    "torch.save({\n",
    "    'model_state_dict': final_model.state_dict(),\n",
    "    'thresholds': best_thresholds,\n",
    "    'class_names': CLASS_NAMES\n",
    "}, \"final_classifier.pth\")\n",
    "print(\"\\n✅ Final model and thresholds saved to 'final_classifier.pth'\")"
   ]
  },
  {
   "cell_type": "code",
   "execution_count": 14,
   "id": "ca093322-8028-4751-a94d-d9864f9e0c58",
   "metadata": {},
   "outputs": [
    {
     "name": "stdout",
     "output_type": "stream",
     "text": [
      "--- Verifying saved files in 'saved_artifacts/' ---\n",
      "✅ File 'features_labels.pt' exists and is not empty.\n",
      "✅ File contains data for 1000 samples.\n",
      "   - Shape of image embeddings: torch.Size([1000, 512])\n",
      "   - Shape of label vectors: torch.Size([1000, 18])\n",
      "\n",
      "SUCCESS: The data for 1000+ samples has been saved correctly.\n"
     ]
    }
   ],
   "source": [
    "# %%\n",
    "# ==============================================================================\n",
    "# VERIFICATION CELL: Check the saved artifacts\n",
    "# ==============================================================================\n",
    "import torch\n",
    "import os\n",
    "\n",
    "print(\"--- Verifying saved files in 'saved_artifacts/' ---\")\n",
    "\n",
    "# 1. Define the path to the main data file\n",
    "file_path = \"saved_artifacts/features_labels.pt\"\n",
    "\n",
    "# 2. Check if the file exists and is not empty\n",
    "if os.path.exists(file_path) and os.path.getsize(file_path) > 0:\n",
    "    print(f\"✅ File '{os.path.basename(file_path)}' exists and is not empty.\")\n",
    "    \n",
    "    # 3. Load the data and check the number of samples\n",
    "    # We use weights_only=False because we know the file is safe\n",
    "    saved_data = torch.load(file_path, weights_only=False)\n",
    "    \n",
    "    image_embeddings = saved_data['image_embeddings']\n",
    "    label_vectors = saved_data['label_vectors']\n",
    "    \n",
    "    num_samples = len(image_embeddings)\n",
    "    print(f\"✅ File contains data for {num_samples} samples.\")\n",
    "    \n",
    "    # 4. Check the shape of the tensors\n",
    "    print(f\"   - Shape of image embeddings: {image_embeddings.shape}\")\n",
    "    print(f\"   - Shape of label vectors: {label_vectors.shape}\")\n",
    "    \n",
    "    if num_samples >= 1000:\n",
    "        print(\"\\nSUCCESS: The data for 1000+ samples has been saved correctly.\")\n",
    "    else:\n",
    "        print(\"\\nWARNING: The number of saved samples is less than 1000.\")\n",
    "        \n",
    "else:\n",
    "    print(f\"❌ ERROR: File '{os.path.basename(file_path)}' was not found or is empty.\")"
   ]
  },
  {
   "cell_type": "code",
   "execution_count": null,
   "id": "85b876e0-48ba-4bb1-8c9e-d0646457f58b",
   "metadata": {},
   "outputs": [],
   "source": []
  }
 ],
 "metadata": {
  "kernelspec": {
   "display_name": "Python 3 (ipykernel)",
   "language": "python",
   "name": "python3"
  },
  "language_info": {
   "codemirror_mode": {
    "name": "ipython",
    "version": 3
   },
   "file_extension": ".py",
   "mimetype": "text/x-python",
   "name": "python",
   "nbconvert_exporter": "python",
   "pygments_lexer": "ipython3",
   "version": "3.9.5"
  }
 },
 "nbformat": 4,
 "nbformat_minor": 5
}

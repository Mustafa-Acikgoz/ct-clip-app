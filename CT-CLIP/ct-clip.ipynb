{
 "cells": [
  {
   "cell_type": "code",
   "execution_count": 13,
   "id": "3b0a4dbd-57af-4e3a-a8ca-5a620bd7bc9d",
   "metadata": {},
   "outputs": [
    {
     "name": "stdout",
     "output_type": "stream",
     "text": [
      "Updated git hooks.\n",
      "Git LFS initialized.\n",
      "\"*.pt\" already supported\n",
      "[main 26b8168] Sync full project to GitHub\n",
      " 18 files changed, 14936 insertions(+), 279 deletions(-)\n",
      " create mode 100644 CT-CLIP/.ipynb_checkpoints/ct-clip-checkpoint.ipynb\n",
      " create mode 100644 saved_artifacts/features_labels.pt\n",
      " create mode 100644 saved_artifacts/sample_filenames.txt\n",
      " create mode 100644 saved_artifacts/training_summary.csv\n",
      "Uploading LFS objects: 100% (1/1), 686 KB | 0 B/s, done.\n"
     ]
    },
    {
     "name": "stderr",
     "output_type": "stream",
     "text": [
      "To https://github.com/Mustafa-Acikgoz/ct-clip-app.git\n",
      "   8100cb4..26b8168  main -> main\n"
     ]
    },
    {
     "name": "stdout",
     "output_type": "stream",
     "text": [
      "Branch 'main' set up to track remote branch 'main' from 'github'.\n"
     ]
    }
   ],
   "source": [
    "%%bash\n",
    "set -e\n",
    "\n",
    "cd /data/ct-clip-app  # adjust if your working copy is elsewhere\n",
    "\n",
    "# 1. Git identity\n",
    "git config user.name \"Mustafa Ak\"\n",
    "git config user.email \"mustafaxacikgoz@gmail.com\"\n",
    "\n",
    "# 2. Enable LFS (if not already)\n",
    "git lfs install\n",
    "\n",
    "# 3. (Optional) Track large files you care about, e.g., .pt or model artifacts\n",
    "git lfs track \"*.pt\" || true\n",
    "git add .gitattributes || true\n",
    "\n",
    "# 4. Configure GitHub remote with the token (non-interactive auth)\n",
    "git remote remove github || true\n",
    "git remote add github https://$hf_space_backup@github.com/Mustafa-Acikgoz/ct-clip-app.git\n",
    "\n",
    "# 5. Ensure main branch name\n",
    "git branch -M main\n",
    "\n",
    "# 6. Stage everything\n",
    "git add -A\n",
    "\n",
    "# 7. Commit\n",
    "git commit -m \"Sync full project to GitHub\" || echo \"Nothing to commit\"\n",
    "\n",
    "# 8. Push to GitHub\n",
    "git push -u github main\n"
   ]
  },
  {
   "cell_type": "code",
   "execution_count": 16,
   "id": "0391c64c-0657-423b-8deb-3a9d573d2e79",
   "metadata": {},
   "outputs": [
    {
     "name": "stdout",
     "output_type": "stream",
     "text": [
      "--- Installing system library libgl1-mesa-glx ---\n",
      "sudo: effective uid is not 0, is /usr/bin/sudo on a file system with the 'nosuid' option set or an NFS file system without root privileges?\n",
      "\n",
      "--- Installing Python packages ---\n",
      "\n",
      "--- Cloning GitHub repositories ---\n",
      "CT-CLIP repository already exists.\n",
      "\n",
      "--- Installing CT-CLIP subpackages in editable mode ---\n",
      "\u001b[33m  DEPRECATION: Legacy editable install of transformer-maskgit==0.0.0 from file:///data/ct-clip-app/CT-CLIP/transformer_maskgit (setup.py develop) is deprecated. pip 25.3 will enforce this behaviour change. A possible replacement is to add a pyproject.toml or enable --use-pep517, and use setuptools >= 64. If the resulting installation is not behaving as expected, try using --config-settings editable_mode=compat. Please consult the setuptools documentation for more information. Discussion can be found at https://github.com/pypa/pip/issues/11457\u001b[0m\u001b[33m\n",
      "\u001b[0m\u001b[31mERROR: pip's dependency resolver does not currently take into account all the packages that are installed. This behaviour is the source of the following dependency conflicts.\n",
      "monai 1.5.0 requires torch<2.7.0,>=2.4.1, but you have torch 2.7.1 which is incompatible.\u001b[0m\u001b[31m\n",
      "\u001b[0m\u001b[33m  DEPRECATION: Building 'ImageNetV2_pytorch' using the legacy setup.py bdist_wheel mechanism, which will be removed in a future version. pip 25.3 will enforce this behaviour change. A possible replacement is to use the standardized build interface by setting the `--use-pep517` option, (possibly combined with `--no-build-isolation`), or adding a `pyproject.toml` file to the source tree of 'ImageNetV2_pytorch'. Discussion can be found at https://github.com/pypa/pip/issues/6334\u001b[0m\u001b[33m\n",
      "\u001b[0m\u001b[33m  DEPRECATION: Legacy editable install of ct-clip==0.1 from file:///data/ct-clip-app/CT-CLIP/CT_CLIP (setup.py develop) is deprecated. pip 25.3 will enforce this behaviour change. A possible replacement is to add a pyproject.toml or enable --use-pep517, and use setuptools >= 64. If the resulting installation is not behaving as expected, try using --config-settings editable_mode=compat. Please consult the setuptools documentation for more information. Discussion can be found at https://github.com/pypa/pip/issues/11457\u001b[0m\u001b[33m\n",
      "\u001b[0m\n",
      "==================================================\n",
      " ✅ Cell 1 complete.\n",
      " 🔴 IMPORTANT: Please restart the kernel now before running Cell 2.\n",
      "==================================================\n"
     ]
    }
   ],
   "source": [
    "# %%\n",
    "# ==============================================================================\n",
    "# CELL 1: Environment and Dependencies Setup\n",
    "# ==============================================================================\n",
    "import os\n",
    "import sys\n",
    "\n",
    "# --- 1. Install System Libraries ---\n",
    "print(\"--- Installing system library libgl1-mesa-glx ---\")\n",
    "!sudo apt-get update -qq && sudo apt-get install -y -qq libgl1-mesa-glx\n",
    "\n",
    "# --- 2. Install Python Packages ---\n",
    "print(\"\\n--- Installing Python packages ---\")\n",
    "!pip install -q --upgrade pip\n",
    "!pip install -q torch transformers datasets nibabel monai sentencepiece \\\n",
    "                einops vector-quantize-pytorch ema-pytorch beartype \\\n",
    "                opencv-python-headless protobuf huggingface_hub bitsandbytes pandas\n",
    "\n",
    "# --- 3. Clone CT-CLIP Repository ---\n",
    "print(\"\\n--- Cloning GitHub repositories ---\")\n",
    "if not os.path.isdir(\"CT-CLIP\"):\n",
    "    !git clone https://github.com/ibrahimethemhamamci/CT-CLIP.git -q\n",
    "    print(\"Cloned CT-CLIP.\")\n",
    "else:\n",
    "    print(\"CT-CLIP repository already exists.\")\n",
    "\n",
    "# --- 4. Install CT-CLIP Subpackages ---\n",
    "print(\"\\n--- Installing CT-CLIP subpackages in editable mode ---\")\n",
    "!pip install -q -e CT-CLIP/transformer_maskgit\n",
    "!pip install -q -e CT-CLIP/CT_CLIP\n",
    "\n",
    "print(\"\\n\" + \"=\"*50)\n",
    "print(\" ✅ Cell 1 complete.\")\n",
    "print(\" 🔴 IMPORTANT: Please restart the kernel now before running Cell 2.\")\n",
    "print(\"=\"*50)"
   ]
  },
  {
   "cell_type": "code",
   "execution_count": 11,
   "id": "5e7dbae3-3763-4dd9-96c1-ad676c347807",
   "metadata": {},
   "outputs": [
    {
     "name": "stdout",
     "output_type": "stream",
     "text": [
      "--- Using device: cuda ---\n",
      "\n",
      "--- Loading CT-CLIP Model ---\n",
      "Downloading CT-CLIP v2 weights...\n",
      " ✅ CT-CLIP model loaded and frozen.\n",
      "\n",
      "--- Preparing labels ---\n",
      "Found 18 classes.\n",
      "\n",
      "--- Extracting features for our mini-dataset ---\n",
      "Processing dataset/train/train_1001/train_1001_a/train_1001_a_1.nii.gz...\n"
     ]
    },
    {
     "name": "stderr",
     "output_type": "stream",
     "text": [
      "/home/user/miniconda/lib/python3.9/site-packages/torch/nn/modules/module.py:1762: FutureWarning: `encoder_attention_mask` is deprecated and will be removed in version 4.55.0 for `BertSdpaSelfAttention.forward`.\n",
      "  return forward_call(*args, **kwargs)\n"
     ]
    },
    {
     "name": "stdout",
     "output_type": "stream",
     "text": [
      "test all pooling\n",
      "Processing dataset/train/train_10047/train_10047_b/train_10047_b_2.nii.gz...\n",
      "test all pooling\n",
      "Processing dataset/train/train_10080/train_10080_a/train_10080_a_1.nii.gz...\n",
      "test all pooling\n",
      "Processing dataset/train/train_10098/train_10098_a/train_10098_a_1.nii.gz...\n",
      "test all pooling\n",
      "Processing dataset/train/train_10128/train_10128_b/train_10128_b_2.nii.gz...\n",
      "test all pooling\n",
      "Processing dataset/train/train_10168/train_10168_a/train_10168_a_1.nii.gz...\n",
      "test all pooling\n",
      "Processing dataset/train/train_1016/train_1016_a/train_1016_a_1.nii.gz...\n"
     ]
    },
    {
     "data": {
      "application/vnd.jupyter.widget-view+json": {
       "model_id": "faf81c03ab0f45efb0417af49b9a3410",
       "version_major": 2,
       "version_minor": 0
      },
      "text/plain": [
       "dataset/train/train_1016/train_1016_a/tr(…):   0%|          | 0.00/475M [00:00<?, ?B/s]"
      ]
     },
     "metadata": {},
     "output_type": "display_data"
    },
    {
     "name": "stdout",
     "output_type": "stream",
     "text": [
      "test all pooling\n",
      "Processing dataset/train/train_10172/train_10172_a/train_10172_a_1.nii.gz...\n"
     ]
    },
    {
     "data": {
      "application/vnd.jupyter.widget-view+json": {
       "model_id": "b198e7127efd4f41906e0e97e918ce45",
       "version_major": 2,
       "version_minor": 0
      },
      "text/plain": [
       "dataset/train/train_10172/train_10172_a/(…):   0%|          | 0.00/137M [00:00<?, ?B/s]"
      ]
     },
     "metadata": {},
     "output_type": "display_data"
    },
    {
     "name": "stdout",
     "output_type": "stream",
     "text": [
      "test all pooling\n",
      "Processing dataset/train/train_10203/train_10203_a/train_10203_a_2.nii.gz...\n"
     ]
    },
    {
     "data": {
      "application/vnd.jupyter.widget-view+json": {
       "model_id": "300834fa50194dd8a1971dacbb47e148",
       "version_major": 2,
       "version_minor": 0
      },
      "text/plain": [
       "dataset/train/train_10203/train_10203_a/(…):   0%|          | 0.00/201M [00:00<?, ?B/s]"
      ]
     },
     "metadata": {},
     "output_type": "display_data"
    },
    {
     "name": "stdout",
     "output_type": "stream",
     "text": [
      "test all pooling\n",
      "Processing dataset/train/train_10208/train_10208_a/train_10208_a_2.nii.gz...\n"
     ]
    },
    {
     "data": {
      "application/vnd.jupyter.widget-view+json": {
       "model_id": "8edd691640de455ea71fd86a6404535a",
       "version_major": 2,
       "version_minor": 0
      },
      "text/plain": [
       "dataset/train/train_10208/train_10208_a/(…):   0%|          | 0.00/226M [00:00<?, ?B/s]"
      ]
     },
     "metadata": {},
     "output_type": "display_data"
    },
    {
     "name": "stdout",
     "output_type": "stream",
     "text": [
      "test all pooling\n",
      "Processing dataset/train/train_10211/train_10211_a/train_10211_a_2.nii.gz...\n"
     ]
    },
    {
     "data": {
      "application/vnd.jupyter.widget-view+json": {
       "model_id": "aa08f8aecafd40ad9602d452eae9300e",
       "version_major": 2,
       "version_minor": 0
      },
      "text/plain": [
       "dataset/train/train_10211/train_10211_a/(…):   0%|          | 0.00/213M [00:00<?, ?B/s]"
      ]
     },
     "metadata": {},
     "output_type": "display_data"
    },
    {
     "name": "stdout",
     "output_type": "stream",
     "text": [
      "test all pooling\n",
      "Processing dataset/train/train_10255/train_10255_a/train_10255_a_1.nii.gz...\n"
     ]
    },
    {
     "data": {
      "application/vnd.jupyter.widget-view+json": {
       "model_id": "42c054cdd63f455ba7235f83a65c5f8f",
       "version_major": 2,
       "version_minor": 0
      },
      "text/plain": [
       "dataset/train/train_10255/train_10255_a/(…):   0%|          | 0.00/110M [00:00<?, ?B/s]"
      ]
     },
     "metadata": {},
     "output_type": "display_data"
    },
    {
     "name": "stdout",
     "output_type": "stream",
     "text": [
      "test all pooling\n",
      "Processing dataset/train/train_10432/train_10432_d/train_10432_d_2.nii.gz...\n"
     ]
    },
    {
     "data": {
      "application/vnd.jupyter.widget-view+json": {
       "model_id": "cfccc94e0b764321b03719f0f8c42426",
       "version_major": 2,
       "version_minor": 0
      },
      "text/plain": [
       "dataset/train/train_10432/train_10432_d/(…):   0%|          | 0.00/180M [00:00<?, ?B/s]"
      ]
     },
     "metadata": {},
     "output_type": "display_data"
    },
    {
     "name": "stdout",
     "output_type": "stream",
     "text": [
      "test all pooling\n",
      "Processing dataset/train/train_10516/train_10516_a/train_10516_a_1.nii.gz...\n"
     ]
    },
    {
     "data": {
      "application/vnd.jupyter.widget-view+json": {
       "model_id": "483e2c7880414df69314499fdabbe149",
       "version_major": 2,
       "version_minor": 0
      },
      "text/plain": [
       "dataset/train/train_10516/train_10516_a/(…):   0%|          | 0.00/485M [00:00<?, ?B/s]"
      ]
     },
     "metadata": {},
     "output_type": "display_data"
    },
    {
     "name": "stdout",
     "output_type": "stream",
     "text": [
      "test all pooling\n",
      "Processing dataset/train/train_10633/train_10633_a/train_10633_a_2.nii.gz...\n"
     ]
    },
    {
     "data": {
      "application/vnd.jupyter.widget-view+json": {
       "model_id": "ad708ef896e74f3e979f0ed6f6847b00",
       "version_major": 2,
       "version_minor": 0
      },
      "text/plain": [
       "dataset/train/train_10633/train_10633_a/(…):   0%|          | 0.00/190M [00:00<?, ?B/s]"
      ]
     },
     "metadata": {},
     "output_type": "display_data"
    },
    {
     "name": "stdout",
     "output_type": "stream",
     "text": [
      "test all pooling\n",
      "Processing dataset/train/train_10641/train_10641_h/train_10641_h_1.nii.gz...\n"
     ]
    },
    {
     "data": {
      "application/vnd.jupyter.widget-view+json": {
       "model_id": "50d1570c48184934ab5838b8850c0c24",
       "version_major": 2,
       "version_minor": 0
      },
      "text/plain": [
       "dataset/train/train_10641/train_10641_h/(…):   0%|          | 0.00/155M [00:00<?, ?B/s]"
      ]
     },
     "metadata": {},
     "output_type": "display_data"
    },
    {
     "name": "stdout",
     "output_type": "stream",
     "text": [
      "test all pooling\n",
      "Processing dataset/train/train_1069/train_1069_a/train_1069_a_2.nii.gz...\n"
     ]
    },
    {
     "data": {
      "application/vnd.jupyter.widget-view+json": {
       "model_id": "2331de62ce654e63a70bd80442d48c76",
       "version_major": 2,
       "version_minor": 0
      },
      "text/plain": [
       "dataset/train/train_1069/train_1069_a/tr(…):   0%|          | 0.00/151M [00:00<?, ?B/s]"
      ]
     },
     "metadata": {},
     "output_type": "display_data"
    },
    {
     "name": "stdout",
     "output_type": "stream",
     "text": [
      "test all pooling\n",
      "Processing dataset/train/train_10704/train_10704_a/train_10704_a_1.nii.gz...\n"
     ]
    },
    {
     "data": {
      "application/vnd.jupyter.widget-view+json": {
       "model_id": "9974ee1d9bbf4003bc55fb11a12fd6b0",
       "version_major": 2,
       "version_minor": 0
      },
      "text/plain": [
       "dataset/train/train_10704/train_10704_a/(…):   0%|          | 0.00/420M [00:00<?, ?B/s]"
      ]
     },
     "metadata": {},
     "output_type": "display_data"
    },
    {
     "name": "stdout",
     "output_type": "stream",
     "text": [
      "test all pooling\n",
      "Processing dataset/train/train_10751/train_10751_a/train_10751_a_2.nii.gz...\n"
     ]
    },
    {
     "data": {
      "application/vnd.jupyter.widget-view+json": {
       "model_id": "0072690bebd340198593d5891adbd16c",
       "version_major": 2,
       "version_minor": 0
      },
      "text/plain": [
       "dataset/train/train_10751/train_10751_a/(…):   0%|          | 0.00/216M [00:00<?, ?B/s]"
      ]
     },
     "metadata": {},
     "output_type": "display_data"
    },
    {
     "name": "stdout",
     "output_type": "stream",
     "text": [
      "test all pooling\n",
      "Processing dataset/train/train_10798/train_10798_a/train_10798_a_2.nii.gz...\n"
     ]
    },
    {
     "data": {
      "application/vnd.jupyter.widget-view+json": {
       "model_id": "d924a872590342129886a5bf63a4e649",
       "version_major": 2,
       "version_minor": 0
      },
      "text/plain": [
       "dataset/train/train_10798/train_10798_a/(…):   0%|          | 0.00/231M [00:00<?, ?B/s]"
      ]
     },
     "metadata": {},
     "output_type": "display_data"
    },
    {
     "name": "stdout",
     "output_type": "stream",
     "text": [
      "test all pooling\n",
      "Processing dataset/train/train_10805/train_10805_a/train_10805_a_1.nii.gz...\n"
     ]
    },
    {
     "data": {
      "application/vnd.jupyter.widget-view+json": {
       "model_id": "a2bae28084894b4c93a058640c98a90b",
       "version_major": 2,
       "version_minor": 0
      },
      "text/plain": [
       "dataset/train/train_10805/train_10805_a/(…):   0%|          | 0.00/454M [00:00<?, ?B/s]"
      ]
     },
     "metadata": {},
     "output_type": "display_data"
    },
    {
     "name": "stdout",
     "output_type": "stream",
     "text": [
      "test all pooling\n",
      "Processing dataset/train/train_10822/train_10822_a/train_10822_a_2.nii.gz...\n"
     ]
    },
    {
     "data": {
      "application/vnd.jupyter.widget-view+json": {
       "model_id": "d62944fc14704e29bfe700d4f0f1dfbe",
       "version_major": 2,
       "version_minor": 0
      },
      "text/plain": [
       "dataset/train/train_10822/train_10822_a/(…):   0%|          | 0.00/199M [00:00<?, ?B/s]"
      ]
     },
     "metadata": {},
     "output_type": "display_data"
    },
    {
     "name": "stdout",
     "output_type": "stream",
     "text": [
      "test all pooling\n",
      "Processing dataset/train/train_10858/train_10858_a/train_10858_a_2.nii.gz...\n"
     ]
    },
    {
     "data": {
      "application/vnd.jupyter.widget-view+json": {
       "model_id": "9c717df71ef44a349710eddbdadf0c5b",
       "version_major": 2,
       "version_minor": 0
      },
      "text/plain": [
       "dataset/train/train_10858/train_10858_a/(…):   0%|          | 0.00/501M [00:00<?, ?B/s]"
      ]
     },
     "metadata": {},
     "output_type": "display_data"
    },
    {
     "name": "stdout",
     "output_type": "stream",
     "text": [
      "test all pooling\n",
      "Processing dataset/train/train_10872/train_10872_a/train_10872_a_1.nii.gz...\n"
     ]
    },
    {
     "data": {
      "application/vnd.jupyter.widget-view+json": {
       "model_id": "2bc133da11294b13a7e63664d6473c37",
       "version_major": 2,
       "version_minor": 0
      },
      "text/plain": [
       "dataset/train/train_10872/train_10872_a/(…):   0%|          | 0.00/523M [00:00<?, ?B/s]"
      ]
     },
     "metadata": {},
     "output_type": "display_data"
    },
    {
     "name": "stdout",
     "output_type": "stream",
     "text": [
      "test all pooling\n",
      "Processing dataset/train/train_10919/train_10919_a/train_10919_a_2.nii.gz...\n"
     ]
    },
    {
     "data": {
      "application/vnd.jupyter.widget-view+json": {
       "model_id": "ebab719e155944c888c43ca021195fc3",
       "version_major": 2,
       "version_minor": 0
      },
      "text/plain": [
       "dataset/train/train_10919/train_10919_a/(…):   0%|          | 0.00/187M [00:00<?, ?B/s]"
      ]
     },
     "metadata": {},
     "output_type": "display_data"
    },
    {
     "name": "stdout",
     "output_type": "stream",
     "text": [
      "test all pooling\n",
      "Processing dataset/train/train_10958/train_10958_a/train_10958_a_1.nii.gz...\n"
     ]
    },
    {
     "data": {
      "application/vnd.jupyter.widget-view+json": {
       "model_id": "1232c2d66eac49029133c51f6af99595",
       "version_major": 2,
       "version_minor": 0
      },
      "text/plain": [
       "dataset/train/train_10958/train_10958_a/(…):   0%|          | 0.00/430M [00:00<?, ?B/s]"
      ]
     },
     "metadata": {},
     "output_type": "display_data"
    },
    {
     "name": "stdout",
     "output_type": "stream",
     "text": [
      "test all pooling\n",
      "Processing dataset/train/train_10969/train_10969_b/train_10969_b_1.nii.gz...\n"
     ]
    },
    {
     "data": {
      "application/vnd.jupyter.widget-view+json": {
       "model_id": "c96b94a39843484fa41019eb0a07e0a3",
       "version_major": 2,
       "version_minor": 0
      },
      "text/plain": [
       "dataset/train/train_10969/train_10969_b/(…):   0%|          | 0.00/407M [00:00<?, ?B/s]"
      ]
     },
     "metadata": {},
     "output_type": "display_data"
    },
    {
     "name": "stdout",
     "output_type": "stream",
     "text": [
      "test all pooling\n",
      "Processing dataset/train/train_11032/train_11032_a/train_11032_a_2.nii.gz...\n"
     ]
    },
    {
     "data": {
      "application/vnd.jupyter.widget-view+json": {
       "model_id": "23335a156e41435086ddcb50120f1fe3",
       "version_major": 2,
       "version_minor": 0
      },
      "text/plain": [
       "dataset/train/train_11032/train_11032_a/(…):   0%|          | 0.00/235M [00:00<?, ?B/s]"
      ]
     },
     "metadata": {},
     "output_type": "display_data"
    },
    {
     "name": "stdout",
     "output_type": "stream",
     "text": [
      "test all pooling\n",
      "Processing dataset/train/train_11103/train_11103_a/train_11103_a_1.nii.gz...\n"
     ]
    },
    {
     "data": {
      "application/vnd.jupyter.widget-view+json": {
       "model_id": "8bd19345e5e5466d8cfc871d55f70f6f",
       "version_major": 2,
       "version_minor": 0
      },
      "text/plain": [
       "dataset/train/train_11103/train_11103_a/(…):   0%|          | 0.00/73.5M [00:00<?, ?B/s]"
      ]
     },
     "metadata": {},
     "output_type": "display_data"
    },
    {
     "name": "stdout",
     "output_type": "stream",
     "text": [
      "test all pooling\n",
      "Processing dataset/train/train_11111/train_11111_d/train_11111_d_1.nii.gz...\n"
     ]
    },
    {
     "data": {
      "application/vnd.jupyter.widget-view+json": {
       "model_id": "ed15ec33a1ba441f9deb4916807438d8",
       "version_major": 2,
       "version_minor": 0
      },
      "text/plain": [
       "dataset/train/train_11111/train_11111_d/(…):   0%|          | 0.00/150M [00:00<?, ?B/s]"
      ]
     },
     "metadata": {},
     "output_type": "display_data"
    },
    {
     "name": "stdout",
     "output_type": "stream",
     "text": [
      "test all pooling\n",
      "Processing dataset/train/train_11124/train_11124_a/train_11124_a_1.nii.gz...\n"
     ]
    },
    {
     "data": {
      "application/vnd.jupyter.widget-view+json": {
       "model_id": "913cbb70d3e44b89a3e2f877ba31c41f",
       "version_major": 2,
       "version_minor": 0
      },
      "text/plain": [
       "dataset/train/train_11124/train_11124_a/(…):   0%|          | 0.00/403M [00:00<?, ?B/s]"
      ]
     },
     "metadata": {},
     "output_type": "display_data"
    },
    {
     "name": "stdout",
     "output_type": "stream",
     "text": [
      "test all pooling\n",
      "Processing dataset/train/train_11175/train_11175_a/train_11175_a_3.nii.gz...\n"
     ]
    },
    {
     "data": {
      "application/vnd.jupyter.widget-view+json": {
       "model_id": "a398e23bdc774078aa49283e960e05a7",
       "version_major": 2,
       "version_minor": 0
      },
      "text/plain": [
       "dataset/train/train_11175/train_11175_a/(…):   0%|          | 0.00/403M [00:00<?, ?B/s]"
      ]
     },
     "metadata": {},
     "output_type": "display_data"
    },
    {
     "name": "stdout",
     "output_type": "stream",
     "text": [
      "test all pooling\n",
      "Processing dataset/train/train_11213/train_11213_a/train_11213_a_2.nii.gz...\n"
     ]
    },
    {
     "data": {
      "application/vnd.jupyter.widget-view+json": {
       "model_id": "d808570c3564473bb801770dcee76557",
       "version_major": 2,
       "version_minor": 0
      },
      "text/plain": [
       "dataset/train/train_11213/train_11213_a/(…):   0%|          | 0.00/119M [00:00<?, ?B/s]"
      ]
     },
     "metadata": {},
     "output_type": "display_data"
    },
    {
     "name": "stdout",
     "output_type": "stream",
     "text": [
      "test all pooling\n",
      "Processing dataset/train/train_11263/train_11263_a/train_11263_a_2.nii.gz...\n"
     ]
    },
    {
     "data": {
      "application/vnd.jupyter.widget-view+json": {
       "model_id": "cc2e19209d9140d4a0b99e65d2e94a57",
       "version_major": 2,
       "version_minor": 0
      },
      "text/plain": [
       "dataset/train/train_11263/train_11263_a/(…):   0%|          | 0.00/161M [00:00<?, ?B/s]"
      ]
     },
     "metadata": {},
     "output_type": "display_data"
    },
    {
     "name": "stdout",
     "output_type": "stream",
     "text": [
      "test all pooling\n",
      "Processing dataset/train/train_11289/train_11289_a/train_11289_a_2.nii.gz...\n"
     ]
    },
    {
     "data": {
      "application/vnd.jupyter.widget-view+json": {
       "model_id": "601363c7ad9f41ecafb94f2bfc5b66a3",
       "version_major": 2,
       "version_minor": 0
      },
      "text/plain": [
       "dataset/train/train_11289/train_11289_a/(…):   0%|          | 0.00/173M [00:00<?, ?B/s]"
      ]
     },
     "metadata": {},
     "output_type": "display_data"
    },
    {
     "name": "stdout",
     "output_type": "stream",
     "text": [
      "test all pooling\n",
      "Processing dataset/train/train_11327/train_11327_a/train_11327_a_2.nii.gz...\n"
     ]
    },
    {
     "data": {
      "application/vnd.jupyter.widget-view+json": {
       "model_id": "11828b932d614025bc8907d2e7384fc2",
       "version_major": 2,
       "version_minor": 0
      },
      "text/plain": [
       "dataset/train/train_11327/train_11327_a/(…):   0%|          | 0.00/227M [00:00<?, ?B/s]"
      ]
     },
     "metadata": {},
     "output_type": "display_data"
    },
    {
     "name": "stdout",
     "output_type": "stream",
     "text": [
      "test all pooling\n",
      "Processing dataset/train/train_11331/train_11331_a/train_11331_a_1.nii.gz...\n"
     ]
    },
    {
     "data": {
      "application/vnd.jupyter.widget-view+json": {
       "model_id": "7a267dd79eaa4d79a6faa8e6bd56ec19",
       "version_major": 2,
       "version_minor": 0
      },
      "text/plain": [
       "dataset/train/train_11331/train_11331_a/(…):   0%|          | 0.00/433M [00:00<?, ?B/s]"
      ]
     },
     "metadata": {},
     "output_type": "display_data"
    },
    {
     "name": "stdout",
     "output_type": "stream",
     "text": [
      "test all pooling\n",
      "Processing dataset/train/train_11334/train_11334_a/train_11334_a_2.nii.gz...\n"
     ]
    },
    {
     "data": {
      "application/vnd.jupyter.widget-view+json": {
       "model_id": "a6ca07f89cc74b0795f25fafb1d31f77",
       "version_major": 2,
       "version_minor": 0
      },
      "text/plain": [
       "dataset/train/train_11334/train_11334_a/(…):   0%|          | 0.00/232M [00:00<?, ?B/s]"
      ]
     },
     "metadata": {},
     "output_type": "display_data"
    },
    {
     "name": "stdout",
     "output_type": "stream",
     "text": [
      "test all pooling\n",
      "Processing dataset/train/train_1138/train_1138_a/train_1138_a_2.nii.gz...\n"
     ]
    },
    {
     "data": {
      "application/vnd.jupyter.widget-view+json": {
       "model_id": "4762007efd4d4d6f88b5c7f381d10ae0",
       "version_major": 2,
       "version_minor": 0
      },
      "text/plain": [
       "dataset/train/train_1138/train_1138_a/tr(…):   0%|          | 0.00/150M [00:00<?, ?B/s]"
      ]
     },
     "metadata": {},
     "output_type": "display_data"
    },
    {
     "name": "stdout",
     "output_type": "stream",
     "text": [
      "test all pooling\n",
      "Processing dataset/train/train_11418/train_11418_b/train_11418_b_2.nii.gz...\n"
     ]
    },
    {
     "data": {
      "application/vnd.jupyter.widget-view+json": {
       "model_id": "74802ce4019c4093adce9b900d20fae7",
       "version_major": 2,
       "version_minor": 0
      },
      "text/plain": [
       "dataset/train/train_11418/train_11418_b/(…):   0%|          | 0.00/101M [00:00<?, ?B/s]"
      ]
     },
     "metadata": {},
     "output_type": "display_data"
    },
    {
     "name": "stdout",
     "output_type": "stream",
     "text": [
      "test all pooling\n",
      "Processing dataset/train/train_11595/train_11595_a/train_11595_a_2.nii.gz...\n"
     ]
    },
    {
     "data": {
      "application/vnd.jupyter.widget-view+json": {
       "model_id": "931c1fea71fa4ce9808df7f8b11ebd74",
       "version_major": 2,
       "version_minor": 0
      },
      "text/plain": [
       "dataset/train/train_11595/train_11595_a/(…):   0%|          | 0.00/179M [00:00<?, ?B/s]"
      ]
     },
     "metadata": {},
     "output_type": "display_data"
    },
    {
     "name": "stdout",
     "output_type": "stream",
     "text": [
      "test all pooling\n",
      "Processing dataset/train/train_11615/train_11615_a/train_11615_a_1.nii.gz...\n"
     ]
    },
    {
     "data": {
      "application/vnd.jupyter.widget-view+json": {
       "model_id": "f3d83a393d814b2c93c4093f7d4e6846",
       "version_major": 2,
       "version_minor": 0
      },
      "text/plain": [
       "dataset/train/train_11615/train_11615_a/(…):   0%|          | 0.00/541M [00:00<?, ?B/s]"
      ]
     },
     "metadata": {},
     "output_type": "display_data"
    },
    {
     "name": "stdout",
     "output_type": "stream",
     "text": [
      "test all pooling\n",
      "Processing dataset/train/train_11617/train_11617_a/train_11617_a_1.nii.gz...\n"
     ]
    },
    {
     "data": {
      "application/vnd.jupyter.widget-view+json": {
       "model_id": "555ad883dd154bc3b76b3c06f14c8e54",
       "version_major": 2,
       "version_minor": 0
      },
      "text/plain": [
       "dataset/train/train_11617/train_11617_a/(…):   0%|          | 0.00/147M [00:00<?, ?B/s]"
      ]
     },
     "metadata": {},
     "output_type": "display_data"
    },
    {
     "name": "stdout",
     "output_type": "stream",
     "text": [
      "test all pooling\n",
      "Processing dataset/train/train_1163/train_1163_a/train_1163_a_1.nii.gz...\n"
     ]
    },
    {
     "data": {
      "application/vnd.jupyter.widget-view+json": {
       "model_id": "46f650fb438944f5b6fec792fb63ebab",
       "version_major": 2,
       "version_minor": 0
      },
      "text/plain": [
       "dataset/train/train_1163/train_1163_a/tr(…):   0%|          | 0.00/511M [00:00<?, ?B/s]"
      ]
     },
     "metadata": {},
     "output_type": "display_data"
    },
    {
     "name": "stdout",
     "output_type": "stream",
     "text": [
      "test all pooling\n",
      "Processing dataset/train/train_11649/train_11649_a/train_11649_a_1.nii.gz...\n"
     ]
    },
    {
     "data": {
      "application/vnd.jupyter.widget-view+json": {
       "model_id": "87fd8059045c4f72ba09f38f60325c74",
       "version_major": 2,
       "version_minor": 0
      },
      "text/plain": [
       "dataset/train/train_11649/train_11649_a/(…):   0%|          | 0.00/100M [00:00<?, ?B/s]"
      ]
     },
     "metadata": {},
     "output_type": "display_data"
    },
    {
     "name": "stdout",
     "output_type": "stream",
     "text": [
      "test all pooling\n",
      "Processing dataset/train/train_11687/train_11687_a/train_11687_a_1.nii.gz...\n"
     ]
    },
    {
     "data": {
      "application/vnd.jupyter.widget-view+json": {
       "model_id": "88a58b3ecd004f2c98f5a75bfb9e68df",
       "version_major": 2,
       "version_minor": 0
      },
      "text/plain": [
       "dataset/train/train_11687/train_11687_a/(…):   0%|          | 0.00/413M [00:00<?, ?B/s]"
      ]
     },
     "metadata": {},
     "output_type": "display_data"
    },
    {
     "name": "stdout",
     "output_type": "stream",
     "text": [
      "test all pooling\n",
      "Processing dataset/train/train_11687/train_11687_a/train_11687_a_2.nii.gz...\n"
     ]
    },
    {
     "data": {
      "application/vnd.jupyter.widget-view+json": {
       "model_id": "8682c0cb97154a80a2511c28d9f16d0a",
       "version_major": 2,
       "version_minor": 0
      },
      "text/plain": [
       "dataset/train/train_11687/train_11687_a/(…):   0%|          | 0.00/186M [00:00<?, ?B/s]"
      ]
     },
     "metadata": {},
     "output_type": "display_data"
    },
    {
     "name": "stdout",
     "output_type": "stream",
     "text": [
      "test all pooling\n",
      "Processing dataset/train/train_11779/train_11779_a/train_11779_a_1.nii.gz...\n"
     ]
    },
    {
     "data": {
      "application/vnd.jupyter.widget-view+json": {
       "model_id": "7a6b43c5e4d749e99e4d8f15a8bd45a0",
       "version_major": 2,
       "version_minor": 0
      },
      "text/plain": [
       "dataset/train/train_11779/train_11779_a/(…):   0%|          | 0.00/266M [00:00<?, ?B/s]"
      ]
     },
     "metadata": {},
     "output_type": "display_data"
    },
    {
     "name": "stdout",
     "output_type": "stream",
     "text": [
      "test all pooling\n",
      "Processing dataset/train/train_11791/train_11791_a/train_11791_a_1.nii.gz...\n"
     ]
    },
    {
     "data": {
      "application/vnd.jupyter.widget-view+json": {
       "model_id": "60ebe0554d8e49ce85199024198149dc",
       "version_major": 2,
       "version_minor": 0
      },
      "text/plain": [
       "dataset/train/train_11791/train_11791_a/(…):   0%|          | 0.00/367M [00:00<?, ?B/s]"
      ]
     },
     "metadata": {},
     "output_type": "display_data"
    },
    {
     "name": "stdout",
     "output_type": "stream",
     "text": [
      "test all pooling\n",
      "Processing dataset/train/train_11837/train_11837_a/train_11837_a_1.nii.gz...\n"
     ]
    },
    {
     "data": {
      "application/vnd.jupyter.widget-view+json": {
       "model_id": "0603ffa3bfea450489b31e14b4cba3e0",
       "version_major": 2,
       "version_minor": 0
      },
      "text/plain": [
       "dataset/train/train_11837/train_11837_a/(…):   0%|          | 0.00/479M [00:00<?, ?B/s]"
      ]
     },
     "metadata": {},
     "output_type": "display_data"
    },
    {
     "name": "stdout",
     "output_type": "stream",
     "text": [
      "test all pooling\n",
      "Processing dataset/train/train_11872/train_11872_a/train_11872_a_1.nii.gz...\n"
     ]
    },
    {
     "data": {
      "application/vnd.jupyter.widget-view+json": {
       "model_id": "1888e726dd674b1ea77e0d28669c9f19",
       "version_major": 2,
       "version_minor": 0
      },
      "text/plain": [
       "dataset/train/train_11872/train_11872_a/(…):   0%|          | 0.00/370M [00:00<?, ?B/s]"
      ]
     },
     "metadata": {},
     "output_type": "display_data"
    },
    {
     "name": "stdout",
     "output_type": "stream",
     "text": [
      "test all pooling\n",
      "Processing dataset/train/train_11948/train_11948_b/train_11948_b_2.nii.gz...\n"
     ]
    },
    {
     "data": {
      "application/vnd.jupyter.widget-view+json": {
       "model_id": "feeddd6b064647ae95acb481d63218fa",
       "version_major": 2,
       "version_minor": 0
      },
      "text/plain": [
       "dataset/train/train_11948/train_11948_b/(…):   0%|          | 0.00/92.2M [00:00<?, ?B/s]"
      ]
     },
     "metadata": {},
     "output_type": "display_data"
    },
    {
     "name": "stdout",
     "output_type": "stream",
     "text": [
      "test all pooling\n",
      "Processing dataset/train/train_12005/train_12005_b/train_12005_b_2.nii.gz...\n"
     ]
    },
    {
     "data": {
      "application/vnd.jupyter.widget-view+json": {
       "model_id": "92ccf3b434b74b979b2e9d21d5014c8e",
       "version_major": 2,
       "version_minor": 0
      },
      "text/plain": [
       "dataset/train/train_12005/train_12005_b/(…):   0%|          | 0.00/98.9M [00:00<?, ?B/s]"
      ]
     },
     "metadata": {},
     "output_type": "display_data"
    },
    {
     "name": "stdout",
     "output_type": "stream",
     "text": [
      "test all pooling\n",
      "Processing dataset/train/train_12012/train_12012_a/train_12012_a_2.nii.gz...\n"
     ]
    },
    {
     "data": {
      "application/vnd.jupyter.widget-view+json": {
       "model_id": "c1732817cd67405fbd6ff56a0a39ec14",
       "version_major": 2,
       "version_minor": 0
      },
      "text/plain": [
       "dataset/train/train_12012/train_12012_a/(…):   0%|          | 0.00/217M [00:00<?, ?B/s]"
      ]
     },
     "metadata": {},
     "output_type": "display_data"
    },
    {
     "name": "stdout",
     "output_type": "stream",
     "text": [
      "test all pooling\n",
      "Processing dataset/train/train_1207/train_1207_a/train_1207_a_1.nii.gz...\n"
     ]
    },
    {
     "data": {
      "application/vnd.jupyter.widget-view+json": {
       "model_id": "bcb41d37b8414f9c875885fc666579cf",
       "version_major": 2,
       "version_minor": 0
      },
      "text/plain": [
       "dataset/train/train_1207/train_1207_a/tr(…):   0%|          | 0.00/102M [00:00<?, ?B/s]"
      ]
     },
     "metadata": {},
     "output_type": "display_data"
    },
    {
     "name": "stdout",
     "output_type": "stream",
     "text": [
      "test all pooling\n",
      "Processing dataset/train/train_12094/train_12094_a/train_12094_a_2.nii.gz...\n"
     ]
    },
    {
     "data": {
      "application/vnd.jupyter.widget-view+json": {
       "model_id": "ee2ea4932dc24500843ef94a4a8c12dd",
       "version_major": 2,
       "version_minor": 0
      },
      "text/plain": [
       "dataset/train/train_12094/train_12094_a/(…):   0%|          | 0.00/230M [00:00<?, ?B/s]"
      ]
     },
     "metadata": {},
     "output_type": "display_data"
    },
    {
     "name": "stdout",
     "output_type": "stream",
     "text": [
      "test all pooling\n",
      "Processing dataset/train/train_12125/train_12125_a/train_12125_a_1.nii.gz...\n"
     ]
    },
    {
     "data": {
      "application/vnd.jupyter.widget-view+json": {
       "model_id": "a6ee579be4a94b85b65eff847d2e0860",
       "version_major": 2,
       "version_minor": 0
      },
      "text/plain": [
       "dataset/train/train_12125/train_12125_a/(…):   0%|          | 0.00/171M [00:00<?, ?B/s]"
      ]
     },
     "metadata": {},
     "output_type": "display_data"
    },
    {
     "name": "stdout",
     "output_type": "stream",
     "text": [
      "test all pooling\n",
      "Processing dataset/train/train_12160/train_12160_a/train_12160_a_2.nii.gz...\n"
     ]
    },
    {
     "data": {
      "application/vnd.jupyter.widget-view+json": {
       "model_id": "2580dd6e714546d4a95a822bf656440c",
       "version_major": 2,
       "version_minor": 0
      },
      "text/plain": [
       "dataset/train/train_12160/train_12160_a/(…):   0%|          | 0.00/197M [00:00<?, ?B/s]"
      ]
     },
     "metadata": {},
     "output_type": "display_data"
    },
    {
     "name": "stdout",
     "output_type": "stream",
     "text": [
      "test all pooling\n",
      "Processing dataset/train/train_12163/train_12163_a/train_12163_a_1.nii.gz...\n"
     ]
    },
    {
     "data": {
      "application/vnd.jupyter.widget-view+json": {
       "model_id": "85ea839c2f9a4306915c04ed8c34a875",
       "version_major": 2,
       "version_minor": 0
      },
      "text/plain": [
       "dataset/train/train_12163/train_12163_a/(…):   0%|          | 0.00/506M [00:00<?, ?B/s]"
      ]
     },
     "metadata": {},
     "output_type": "display_data"
    },
    {
     "name": "stdout",
     "output_type": "stream",
     "text": [
      "test all pooling\n",
      "Processing dataset/train/train_12180/train_12180_a/train_12180_a_1.nii.gz...\n"
     ]
    },
    {
     "data": {
      "application/vnd.jupyter.widget-view+json": {
       "model_id": "36727ea3a20f45288ebad61d2f239f70",
       "version_major": 2,
       "version_minor": 0
      },
      "text/plain": [
       "dataset/train/train_12180/train_12180_a/(…):   0%|          | 0.00/502M [00:00<?, ?B/s]"
      ]
     },
     "metadata": {},
     "output_type": "display_data"
    },
    {
     "name": "stdout",
     "output_type": "stream",
     "text": [
      "test all pooling\n",
      "Processing dataset/train/train_12195/train_12195_a/train_12195_a_2.nii.gz...\n"
     ]
    },
    {
     "data": {
      "application/vnd.jupyter.widget-view+json": {
       "model_id": "7d512af08ab84553b616c7057fbc6402",
       "version_major": 2,
       "version_minor": 0
      },
      "text/plain": [
       "dataset/train/train_12195/train_12195_a/(…):   0%|          | 0.00/136M [00:00<?, ?B/s]"
      ]
     },
     "metadata": {},
     "output_type": "display_data"
    },
    {
     "name": "stdout",
     "output_type": "stream",
     "text": [
      "test all pooling\n",
      "Processing dataset/train/train_12265/train_12265_a/train_12265_a_1.nii.gz...\n"
     ]
    },
    {
     "data": {
      "application/vnd.jupyter.widget-view+json": {
       "model_id": "3b734a0a43c646099e1b963bea7a05ab",
       "version_major": 2,
       "version_minor": 0
      },
      "text/plain": [
       "dataset/train/train_12265/train_12265_a/(…):   0%|          | 0.00/501M [00:00<?, ?B/s]"
      ]
     },
     "metadata": {},
     "output_type": "display_data"
    },
    {
     "name": "stdout",
     "output_type": "stream",
     "text": [
      "test all pooling\n",
      "Processing dataset/train/train_12283/train_12283_a/train_12283_a_2.nii.gz...\n"
     ]
    },
    {
     "data": {
      "application/vnd.jupyter.widget-view+json": {
       "model_id": "492f44dc1c784c04abc5428a4c05f403",
       "version_major": 2,
       "version_minor": 0
      },
      "text/plain": [
       "dataset/train/train_12283/train_12283_a/(…):   0%|          | 0.00/191M [00:00<?, ?B/s]"
      ]
     },
     "metadata": {},
     "output_type": "display_data"
    },
    {
     "name": "stdout",
     "output_type": "stream",
     "text": [
      "test all pooling\n",
      "Processing dataset/train/train_12357/train_12357_a/train_12357_a_2.nii.gz...\n"
     ]
    },
    {
     "data": {
      "application/vnd.jupyter.widget-view+json": {
       "model_id": "87edc19b09cf4748991dd9dd8f2e714b",
       "version_major": 2,
       "version_minor": 0
      },
      "text/plain": [
       "dataset/train/train_12357/train_12357_a/(…):   0%|          | 0.00/220M [00:00<?, ?B/s]"
      ]
     },
     "metadata": {},
     "output_type": "display_data"
    },
    {
     "name": "stdout",
     "output_type": "stream",
     "text": [
      "test all pooling\n",
      "Processing dataset/train/train_12427/train_12427_a/train_12427_a_2.nii.gz...\n"
     ]
    },
    {
     "data": {
      "application/vnd.jupyter.widget-view+json": {
       "model_id": "53ed70a9322942ee96be79f10f469e4e",
       "version_major": 2,
       "version_minor": 0
      },
      "text/plain": [
       "dataset/train/train_12427/train_12427_a/(…):   0%|          | 0.00/217M [00:00<?, ?B/s]"
      ]
     },
     "metadata": {},
     "output_type": "display_data"
    },
    {
     "name": "stdout",
     "output_type": "stream",
     "text": [
      "test all pooling\n",
      "Processing dataset/train/train_12479/train_12479_b/train_12479_b_2.nii.gz...\n"
     ]
    },
    {
     "data": {
      "application/vnd.jupyter.widget-view+json": {
       "model_id": "2c8bb6a1962d4437a9abb6214996ee49",
       "version_major": 2,
       "version_minor": 0
      },
      "text/plain": [
       "dataset/train/train_12479/train_12479_b/(…):   0%|          | 0.00/180M [00:00<?, ?B/s]"
      ]
     },
     "metadata": {},
     "output_type": "display_data"
    },
    {
     "name": "stdout",
     "output_type": "stream",
     "text": [
      "test all pooling\n",
      "Processing dataset/train/train_12503/train_12503_b/train_12503_b_2.nii.gz...\n"
     ]
    },
    {
     "data": {
      "application/vnd.jupyter.widget-view+json": {
       "model_id": "0ae9a841a6cb47ce8a553724fe5ac4ad",
       "version_major": 2,
       "version_minor": 0
      },
      "text/plain": [
       "dataset/train/train_12503/train_12503_b/(…):   0%|          | 0.00/131M [00:00<?, ?B/s]"
      ]
     },
     "metadata": {},
     "output_type": "display_data"
    },
    {
     "name": "stdout",
     "output_type": "stream",
     "text": [
      "test all pooling\n",
      "Processing dataset/train/train_12520/train_12520_b/train_12520_b_2.nii.gz...\n"
     ]
    },
    {
     "data": {
      "application/vnd.jupyter.widget-view+json": {
       "model_id": "73dc844085c44cafbee0527f9293a05e",
       "version_major": 2,
       "version_minor": 0
      },
      "text/plain": [
       "dataset/train/train_12520/train_12520_b/(…):   0%|          | 0.00/110M [00:00<?, ?B/s]"
      ]
     },
     "metadata": {},
     "output_type": "display_data"
    },
    {
     "name": "stdout",
     "output_type": "stream",
     "text": [
      "test all pooling\n",
      "Processing dataset/train/train_12522/train_12522_a/train_12522_a_2.nii.gz...\n"
     ]
    },
    {
     "data": {
      "application/vnd.jupyter.widget-view+json": {
       "model_id": "ce17579b348943f8aa30daff4969b8e0",
       "version_major": 2,
       "version_minor": 0
      },
      "text/plain": [
       "dataset/train/train_12522/train_12522_a/(…):   0%|          | 0.00/215M [00:00<?, ?B/s]"
      ]
     },
     "metadata": {},
     "output_type": "display_data"
    },
    {
     "name": "stdout",
     "output_type": "stream",
     "text": [
      "test all pooling\n",
      "Processing dataset/train/train_12537/train_12537_c/train_12537_c_1.nii.gz...\n"
     ]
    },
    {
     "data": {
      "application/vnd.jupyter.widget-view+json": {
       "model_id": "530cc76c531b4d599bbd57befd16ffd8",
       "version_major": 2,
       "version_minor": 0
      },
      "text/plain": [
       "dataset/train/train_12537/train_12537_c/(…):   0%|          | 0.00/133M [00:00<?, ?B/s]"
      ]
     },
     "metadata": {},
     "output_type": "display_data"
    },
    {
     "name": "stdout",
     "output_type": "stream",
     "text": [
      "test all pooling\n",
      "Processing dataset/train/train_12542/train_12542_a/train_12542_a_1.nii.gz...\n"
     ]
    },
    {
     "data": {
      "application/vnd.jupyter.widget-view+json": {
       "model_id": "2a7cb515cc9f4603b52b152311167884",
       "version_major": 2,
       "version_minor": 0
      },
      "text/plain": [
       "dataset/train/train_12542/train_12542_a/(…):   0%|          | 0.00/101M [00:00<?, ?B/s]"
      ]
     },
     "metadata": {},
     "output_type": "display_data"
    },
    {
     "name": "stdout",
     "output_type": "stream",
     "text": [
      "test all pooling\n",
      "Processing dataset/train/train_12572/train_12572_a/train_12572_a_1.nii.gz...\n"
     ]
    },
    {
     "data": {
      "application/vnd.jupyter.widget-view+json": {
       "model_id": "31fd54d188aa44db9818e37d9822a7fb",
       "version_major": 2,
       "version_minor": 0
      },
      "text/plain": [
       "dataset/train/train_12572/train_12572_a/(…):   0%|          | 0.00/185M [00:00<?, ?B/s]"
      ]
     },
     "metadata": {},
     "output_type": "display_data"
    },
    {
     "name": "stdout",
     "output_type": "stream",
     "text": [
      "test all pooling\n",
      "Processing dataset/train/train_12637/train_12637_a/train_12637_a_1.nii.gz...\n"
     ]
    },
    {
     "data": {
      "application/vnd.jupyter.widget-view+json": {
       "model_id": "183f137dbbd74bcea5d2f1b1253bb7b4",
       "version_major": 2,
       "version_minor": 0
      },
      "text/plain": [
       "dataset/train/train_12637/train_12637_a/(…):   0%|          | 0.00/483M [00:00<?, ?B/s]"
      ]
     },
     "metadata": {},
     "output_type": "display_data"
    },
    {
     "name": "stdout",
     "output_type": "stream",
     "text": [
      "test all pooling\n",
      "Processing dataset/train/train_12641/train_12641_a/train_12641_a_1.nii.gz...\n"
     ]
    },
    {
     "data": {
      "application/vnd.jupyter.widget-view+json": {
       "model_id": "50211d52770140b7a8fb91a4c91b2431",
       "version_major": 2,
       "version_minor": 0
      },
      "text/plain": [
       "dataset/train/train_12641/train_12641_a/(…):   0%|          | 0.00/421M [00:00<?, ?B/s]"
      ]
     },
     "metadata": {},
     "output_type": "display_data"
    },
    {
     "name": "stdout",
     "output_type": "stream",
     "text": [
      "test all pooling\n",
      "Processing dataset/train/train_12684/train_12684_a/train_12684_a_1.nii.gz...\n"
     ]
    },
    {
     "data": {
      "application/vnd.jupyter.widget-view+json": {
       "model_id": "0afff709acc646e58a2a8afec3291845",
       "version_major": 2,
       "version_minor": 0
      },
      "text/plain": [
       "dataset/train/train_12684/train_12684_a/(…):   0%|          | 0.00/552M [00:00<?, ?B/s]"
      ]
     },
     "metadata": {},
     "output_type": "display_data"
    },
    {
     "name": "stdout",
     "output_type": "stream",
     "text": [
      "test all pooling\n",
      "Processing dataset/train/train_12755/train_12755_a/train_12755_a_1.nii.gz...\n"
     ]
    },
    {
     "data": {
      "application/vnd.jupyter.widget-view+json": {
       "model_id": "52fca40697464e7f97f53b2e271b57eb",
       "version_major": 2,
       "version_minor": 0
      },
      "text/plain": [
       "dataset/train/train_12755/train_12755_a/(…):   0%|          | 0.00/453M [00:00<?, ?B/s]"
      ]
     },
     "metadata": {},
     "output_type": "display_data"
    },
    {
     "name": "stdout",
     "output_type": "stream",
     "text": [
      "test all pooling\n",
      "Processing dataset/train/train_12794/train_12794_c/train_12794_c_2.nii.gz...\n"
     ]
    },
    {
     "data": {
      "application/vnd.jupyter.widget-view+json": {
       "model_id": "0cba6fb6c6d04eeeb20f23ba6e1c09cc",
       "version_major": 2,
       "version_minor": 0
      },
      "text/plain": [
       "dataset/train/train_12794/train_12794_c/(…):   0%|          | 0.00/208M [00:00<?, ?B/s]"
      ]
     },
     "metadata": {},
     "output_type": "display_data"
    },
    {
     "name": "stdout",
     "output_type": "stream",
     "text": [
      "test all pooling\n",
      "Processing dataset/train/train_12850/train_12850_a/train_12850_a_1.nii.gz...\n"
     ]
    },
    {
     "data": {
      "application/vnd.jupyter.widget-view+json": {
       "model_id": "6954a877ef774cee8ea57838ca0d4569",
       "version_major": 2,
       "version_minor": 0
      },
      "text/plain": [
       "dataset/train/train_12850/train_12850_a/(…):   0%|          | 0.00/451M [00:00<?, ?B/s]"
      ]
     },
     "metadata": {},
     "output_type": "display_data"
    },
    {
     "name": "stdout",
     "output_type": "stream",
     "text": [
      "test all pooling\n",
      "Processing dataset/train/train_12863/train_12863_b/train_12863_b_1.nii.gz...\n"
     ]
    },
    {
     "data": {
      "application/vnd.jupyter.widget-view+json": {
       "model_id": "34f66b320cf446d2a80a2fc50ea7dbd0",
       "version_major": 2,
       "version_minor": 0
      },
      "text/plain": [
       "dataset/train/train_12863/train_12863_b/(…):   0%|          | 0.00/113M [00:00<?, ?B/s]"
      ]
     },
     "metadata": {},
     "output_type": "display_data"
    },
    {
     "name": "stdout",
     "output_type": "stream",
     "text": [
      "test all pooling\n",
      "Processing dataset/train/train_12875/train_12875_a/train_12875_a_1.nii.gz...\n"
     ]
    },
    {
     "data": {
      "application/vnd.jupyter.widget-view+json": {
       "model_id": "14c15f27ee9b4140b1eac011188cb514",
       "version_major": 2,
       "version_minor": 0
      },
      "text/plain": [
       "dataset/train/train_12875/train_12875_a/(…):   0%|          | 0.00/499M [00:00<?, ?B/s]"
      ]
     },
     "metadata": {},
     "output_type": "display_data"
    },
    {
     "name": "stdout",
     "output_type": "stream",
     "text": [
      "test all pooling\n",
      "Processing dataset/train/train_12877/train_12877_b/train_12877_b_1.nii.gz...\n"
     ]
    },
    {
     "data": {
      "application/vnd.jupyter.widget-view+json": {
       "model_id": "c73419fe6d944ffcb1abf9610b49c081",
       "version_major": 2,
       "version_minor": 0
      },
      "text/plain": [
       "dataset/train/train_12877/train_12877_b/(…):   0%|          | 0.00/142M [00:00<?, ?B/s]"
      ]
     },
     "metadata": {},
     "output_type": "display_data"
    },
    {
     "name": "stdout",
     "output_type": "stream",
     "text": [
      "test all pooling\n",
      "Processing dataset/train/train_12885/train_12885_a/train_12885_a_1.nii.gz...\n"
     ]
    },
    {
     "data": {
      "application/vnd.jupyter.widget-view+json": {
       "model_id": "5af679f9f620496faec7e63f07db5cf0",
       "version_major": 2,
       "version_minor": 0
      },
      "text/plain": [
       "dataset/train/train_12885/train_12885_a/(…):   0%|          | 0.00/146M [00:00<?, ?B/s]"
      ]
     },
     "metadata": {},
     "output_type": "display_data"
    },
    {
     "name": "stdout",
     "output_type": "stream",
     "text": [
      "test all pooling\n",
      "Processing dataset/train/train_12894/train_12894_a/train_12894_a_1.nii.gz...\n"
     ]
    },
    {
     "data": {
      "application/vnd.jupyter.widget-view+json": {
       "model_id": "548b36c13664469bab5b18db0e221fc6",
       "version_major": 2,
       "version_minor": 0
      },
      "text/plain": [
       "dataset/train/train_12894/train_12894_a/(…):   0%|          | 0.00/151M [00:00<?, ?B/s]"
      ]
     },
     "metadata": {},
     "output_type": "display_data"
    },
    {
     "name": "stdout",
     "output_type": "stream",
     "text": [
      "test all pooling\n",
      "Processing dataset/train/train_12935/train_12935_a/train_12935_a_2.nii.gz...\n"
     ]
    },
    {
     "data": {
      "application/vnd.jupyter.widget-view+json": {
       "model_id": "e33ce8985feb444bba0c54304f30acef",
       "version_major": 2,
       "version_minor": 0
      },
      "text/plain": [
       "dataset/train/train_12935/train_12935_a/(…):   0%|          | 0.00/169M [00:00<?, ?B/s]"
      ]
     },
     "metadata": {},
     "output_type": "display_data"
    },
    {
     "name": "stdout",
     "output_type": "stream",
     "text": [
      "test all pooling\n",
      "Processing dataset/train/train_12952/train_12952_a/train_12952_a_1.nii.gz...\n"
     ]
    },
    {
     "data": {
      "application/vnd.jupyter.widget-view+json": {
       "model_id": "e1586b85795b44b5b5ea1debb0f0b31d",
       "version_major": 2,
       "version_minor": 0
      },
      "text/plain": [
       "dataset/train/train_12952/train_12952_a/(…):   0%|          | 0.00/143M [00:00<?, ?B/s]"
      ]
     },
     "metadata": {},
     "output_type": "display_data"
    },
    {
     "name": "stdout",
     "output_type": "stream",
     "text": [
      "test all pooling\n",
      "Processing dataset/train/train_12971/train_12971_a/train_12971_a_1.nii.gz...\n"
     ]
    },
    {
     "data": {
      "application/vnd.jupyter.widget-view+json": {
       "model_id": "73c3bde82e6540b9b7eaffc87d002023",
       "version_major": 2,
       "version_minor": 0
      },
      "text/plain": [
       "dataset/train/train_12971/train_12971_a/(…):   0%|          | 0.00/382M [00:00<?, ?B/s]"
      ]
     },
     "metadata": {},
     "output_type": "display_data"
    },
    {
     "name": "stdout",
     "output_type": "stream",
     "text": [
      "test all pooling\n",
      "Processing dataset/train/train_129/train_129_a/train_129_a_1.nii.gz...\n"
     ]
    },
    {
     "data": {
      "application/vnd.jupyter.widget-view+json": {
       "model_id": "76b8533df20d4c25803fa138781885de",
       "version_major": 2,
       "version_minor": 0
      },
      "text/plain": [
       "dataset/train/train_129/train_129_a/trai(…):   0%|          | 0.00/105M [00:00<?, ?B/s]"
      ]
     },
     "metadata": {},
     "output_type": "display_data"
    },
    {
     "name": "stdout",
     "output_type": "stream",
     "text": [
      "test all pooling\n",
      "Processing dataset/train/train_13016/train_13016_a/train_13016_a_1.nii.gz...\n"
     ]
    },
    {
     "data": {
      "application/vnd.jupyter.widget-view+json": {
       "model_id": "aea7047e33d64abda8edc45f55412b29",
       "version_major": 2,
       "version_minor": 0
      },
      "text/plain": [
       "dataset/train/train_13016/train_13016_a/(…):   0%|          | 0.00/128M [00:00<?, ?B/s]"
      ]
     },
     "metadata": {},
     "output_type": "display_data"
    },
    {
     "name": "stdout",
     "output_type": "stream",
     "text": [
      "test all pooling\n",
      "Processing dataset/train/train_13176/train_13176_b/train_13176_b_1.nii.gz...\n"
     ]
    },
    {
     "data": {
      "application/vnd.jupyter.widget-view+json": {
       "model_id": "808605db550641c381d3a75ef4d4535a",
       "version_major": 2,
       "version_minor": 0
      },
      "text/plain": [
       "dataset/train/train_13176/train_13176_b/(…):   0%|          | 0.00/175M [00:00<?, ?B/s]"
      ]
     },
     "metadata": {},
     "output_type": "display_data"
    },
    {
     "name": "stdout",
     "output_type": "stream",
     "text": [
      "test all pooling\n",
      "Processing dataset/train/train_1320/train_1320_a/train_1320_a_2.nii.gz...\n"
     ]
    },
    {
     "data": {
      "application/vnd.jupyter.widget-view+json": {
       "model_id": "7e05f884bfe84b529bfcdce166602345",
       "version_major": 2,
       "version_minor": 0
      },
      "text/plain": [
       "dataset/train/train_1320/train_1320_a/tr(…):   0%|          | 0.00/216M [00:00<?, ?B/s]"
      ]
     },
     "metadata": {},
     "output_type": "display_data"
    },
    {
     "name": "stdout",
     "output_type": "stream",
     "text": [
      "test all pooling\n",
      "Processing dataset/train/train_13216/train_13216_a/train_13216_a_1.nii.gz...\n"
     ]
    },
    {
     "data": {
      "application/vnd.jupyter.widget-view+json": {
       "model_id": "3b0db2ce8be9484589d6f780a615c347",
       "version_major": 2,
       "version_minor": 0
      },
      "text/plain": [
       "dataset/train/train_13216/train_13216_a/(…):   0%|          | 0.00/513M [00:00<?, ?B/s]"
      ]
     },
     "metadata": {},
     "output_type": "display_data"
    },
    {
     "name": "stdout",
     "output_type": "stream",
     "text": [
      "test all pooling\n",
      "Processing dataset/train/train_13224/train_13224_a/train_13224_a_2.nii.gz...\n"
     ]
    },
    {
     "data": {
      "application/vnd.jupyter.widget-view+json": {
       "model_id": "0772718c59da488d8d8df86ca93519b6",
       "version_major": 2,
       "version_minor": 0
      },
      "text/plain": [
       "dataset/train/train_13224/train_13224_a/(…):   0%|          | 0.00/87.3M [00:00<?, ?B/s]"
      ]
     },
     "metadata": {},
     "output_type": "display_data"
    },
    {
     "name": "stdout",
     "output_type": "stream",
     "text": [
      "test all pooling\n",
      "Processing dataset/train/train_13251/train_13251_c/train_13251_c_1.nii.gz...\n"
     ]
    },
    {
     "data": {
      "application/vnd.jupyter.widget-view+json": {
       "model_id": "4f594f53a06c48d69a8a8b2f4ec0b7c4",
       "version_major": 2,
       "version_minor": 0
      },
      "text/plain": [
       "dataset/train/train_13251/train_13251_c/(…):   0%|          | 0.00/453M [00:00<?, ?B/s]"
      ]
     },
     "metadata": {},
     "output_type": "display_data"
    },
    {
     "name": "stdout",
     "output_type": "stream",
     "text": [
      "test all pooling\n",
      "Processing dataset/train/train_13252/train_13252_a/train_13252_a_1.nii.gz...\n"
     ]
    },
    {
     "data": {
      "application/vnd.jupyter.widget-view+json": {
       "model_id": "26be1a1917a747e8a8b58403a29518a6",
       "version_major": 2,
       "version_minor": 0
      },
      "text/plain": [
       "dataset/train/train_13252/train_13252_a/(…):   0%|          | 0.00/511M [00:00<?, ?B/s]"
      ]
     },
     "metadata": {},
     "output_type": "display_data"
    },
    {
     "name": "stdout",
     "output_type": "stream",
     "text": [
      "test all pooling\n",
      "Processing dataset/train/train_13355/train_13355_a/train_13355_a_2.nii.gz...\n"
     ]
    },
    {
     "data": {
      "application/vnd.jupyter.widget-view+json": {
       "model_id": "33b12edca9d74f79aa7e23df17904ec2",
       "version_major": 2,
       "version_minor": 0
      },
      "text/plain": [
       "dataset/train/train_13355/train_13355_a/(…):   0%|          | 0.00/197M [00:00<?, ?B/s]"
      ]
     },
     "metadata": {},
     "output_type": "display_data"
    },
    {
     "name": "stdout",
     "output_type": "stream",
     "text": [
      "test all pooling\n",
      "Processing dataset/train/train_13355/train_13355_b/train_13355_b_1.nii.gz...\n"
     ]
    },
    {
     "data": {
      "application/vnd.jupyter.widget-view+json": {
       "model_id": "e2b2a7fc60d14255a560d63c4e2683b4",
       "version_major": 2,
       "version_minor": 0
      },
      "text/plain": [
       "dataset/train/train_13355/train_13355_b/(…):   0%|          | 0.00/432M [00:00<?, ?B/s]"
      ]
     },
     "metadata": {},
     "output_type": "display_data"
    },
    {
     "name": "stdout",
     "output_type": "stream",
     "text": [
      "test all pooling\n",
      "Processing dataset/train/train_13368/train_13368_b/train_13368_b_2.nii.gz...\n"
     ]
    },
    {
     "data": {
      "application/vnd.jupyter.widget-view+json": {
       "model_id": "8be1258983eb45d594d28bea0e90182c",
       "version_major": 2,
       "version_minor": 0
      },
      "text/plain": [
       "dataset/train/train_13368/train_13368_b/(…):   0%|          | 0.00/244M [00:00<?, ?B/s]"
      ]
     },
     "metadata": {},
     "output_type": "display_data"
    },
    {
     "name": "stdout",
     "output_type": "stream",
     "text": [
      "test all pooling\n",
      "Processing dataset/train/train_13393/train_13393_a/train_13393_a_1.nii.gz...\n"
     ]
    },
    {
     "data": {
      "application/vnd.jupyter.widget-view+json": {
       "model_id": "057aa69964b749829a97bb072d437571",
       "version_major": 2,
       "version_minor": 0
      },
      "text/plain": [
       "dataset/train/train_13393/train_13393_a/(…):   0%|          | 0.00/510M [00:00<?, ?B/s]"
      ]
     },
     "metadata": {},
     "output_type": "display_data"
    },
    {
     "name": "stdout",
     "output_type": "stream",
     "text": [
      "test all pooling\n",
      "Processing dataset/train/train_13420/train_13420_a/train_13420_a_1.nii.gz...\n"
     ]
    },
    {
     "data": {
      "application/vnd.jupyter.widget-view+json": {
       "model_id": "95bdea6c21c74738980ac62d63f259ed",
       "version_major": 2,
       "version_minor": 0
      },
      "text/plain": [
       "dataset/train/train_13420/train_13420_a/(…):   0%|          | 0.00/149M [00:00<?, ?B/s]"
      ]
     },
     "metadata": {},
     "output_type": "display_data"
    },
    {
     "name": "stdout",
     "output_type": "stream",
     "text": [
      "test all pooling\n",
      "Processing dataset/train/train_13437/train_13437_d/train_13437_d_1.nii.gz...\n"
     ]
    },
    {
     "data": {
      "application/vnd.jupyter.widget-view+json": {
       "model_id": "06934839f7ed4192b6447325589b9878",
       "version_major": 2,
       "version_minor": 0
      },
      "text/plain": [
       "dataset/train/train_13437/train_13437_d/(…):   0%|          | 0.00/60.2M [00:00<?, ?B/s]"
      ]
     },
     "metadata": {},
     "output_type": "display_data"
    },
    {
     "name": "stdout",
     "output_type": "stream",
     "text": [
      "test all pooling\n",
      "Processing dataset/train/train_13438/train_13438_a/train_13438_a_2.nii.gz...\n"
     ]
    },
    {
     "data": {
      "application/vnd.jupyter.widget-view+json": {
       "model_id": "35a439929f934a47954889befe5c86db",
       "version_major": 2,
       "version_minor": 0
      },
      "text/plain": [
       "dataset/train/train_13438/train_13438_a/(…):   0%|          | 0.00/186M [00:00<?, ?B/s]"
      ]
     },
     "metadata": {},
     "output_type": "display_data"
    },
    {
     "name": "stdout",
     "output_type": "stream",
     "text": [
      "test all pooling\n",
      "Processing dataset/train/train_13448/train_13448_a/train_13448_a_2.nii.gz...\n"
     ]
    },
    {
     "data": {
      "application/vnd.jupyter.widget-view+json": {
       "model_id": "02954767e3b746bf950024a9b7fd8398",
       "version_major": 2,
       "version_minor": 0
      },
      "text/plain": [
       "dataset/train/train_13448/train_13448_a/(…):   0%|          | 0.00/175M [00:00<?, ?B/s]"
      ]
     },
     "metadata": {},
     "output_type": "display_data"
    },
    {
     "name": "stdout",
     "output_type": "stream",
     "text": [
      "test all pooling\n",
      "Processing dataset/train/train_13473/train_13473_a/train_13473_a_2.nii.gz...\n"
     ]
    },
    {
     "data": {
      "application/vnd.jupyter.widget-view+json": {
       "model_id": "f0fc33bd86d548eeb91afa46dd7464c2",
       "version_major": 2,
       "version_minor": 0
      },
      "text/plain": [
       "dataset/train/train_13473/train_13473_a/(…):   0%|          | 0.00/182M [00:00<?, ?B/s]"
      ]
     },
     "metadata": {},
     "output_type": "display_data"
    },
    {
     "name": "stdout",
     "output_type": "stream",
     "text": [
      "test all pooling\n",
      "Processing dataset/train/train_1348/train_1348_b/train_1348_b_2.nii.gz...\n"
     ]
    },
    {
     "data": {
      "application/vnd.jupyter.widget-view+json": {
       "model_id": "07f6eec71de84892a05f0e5df881fc8e",
       "version_major": 2,
       "version_minor": 0
      },
      "text/plain": [
       "dataset/train/train_1348/train_1348_b/tr(…):   0%|          | 0.00/228M [00:00<?, ?B/s]"
      ]
     },
     "metadata": {},
     "output_type": "display_data"
    },
    {
     "name": "stdout",
     "output_type": "stream",
     "text": [
      "test all pooling\n",
      "Processing dataset/train/train_13592/train_13592_a/train_13592_a_2.nii.gz...\n"
     ]
    },
    {
     "data": {
      "application/vnd.jupyter.widget-view+json": {
       "model_id": "70c53a751f99408193ca7802559756b0",
       "version_major": 2,
       "version_minor": 0
      },
      "text/plain": [
       "dataset/train/train_13592/train_13592_a/(…):   0%|          | 0.00/96.6M [00:00<?, ?B/s]"
      ]
     },
     "metadata": {},
     "output_type": "display_data"
    },
    {
     "name": "stdout",
     "output_type": "stream",
     "text": [
      "test all pooling\n",
      "Processing dataset/train/train_1378/train_1378_c/train_1378_c_1.nii.gz...\n"
     ]
    },
    {
     "data": {
      "application/vnd.jupyter.widget-view+json": {
       "model_id": "06694978b36b4c288654dc0e6fbfc4e4",
       "version_major": 2,
       "version_minor": 0
      },
      "text/plain": [
       "dataset/train/train_1378/train_1378_c/tr(…):   0%|          | 0.00/135M [00:00<?, ?B/s]"
      ]
     },
     "metadata": {},
     "output_type": "display_data"
    },
    {
     "name": "stdout",
     "output_type": "stream",
     "text": [
      "test all pooling\n",
      "Processing dataset/train/train_13829/train_13829_a/train_13829_a_2.nii.gz...\n"
     ]
    },
    {
     "data": {
      "application/vnd.jupyter.widget-view+json": {
       "model_id": "018d3cf3dc0549fe8fc127be4af9025a",
       "version_major": 2,
       "version_minor": 0
      },
      "text/plain": [
       "dataset/train/train_13829/train_13829_a/(…):   0%|          | 0.00/238M [00:00<?, ?B/s]"
      ]
     },
     "metadata": {},
     "output_type": "display_data"
    },
    {
     "name": "stdout",
     "output_type": "stream",
     "text": [
      "test all pooling\n",
      "Processing dataset/train/train_13844/train_13844_a/train_13844_a_2.nii.gz...\n"
     ]
    },
    {
     "data": {
      "application/vnd.jupyter.widget-view+json": {
       "model_id": "888072ee16224d42b03b56ef8a2f49fd",
       "version_major": 2,
       "version_minor": 0
      },
      "text/plain": [
       "dataset/train/train_13844/train_13844_a/(…):   0%|          | 0.00/492M [00:00<?, ?B/s]"
      ]
     },
     "metadata": {},
     "output_type": "display_data"
    },
    {
     "name": "stdout",
     "output_type": "stream",
     "text": [
      "test all pooling\n",
      "Processing dataset/train/train_13849/train_13849_a/train_13849_a_1.nii.gz...\n"
     ]
    },
    {
     "data": {
      "application/vnd.jupyter.widget-view+json": {
       "model_id": "6403b76260044acd8f0aaf57d576ba9b",
       "version_major": 2,
       "version_minor": 0
      },
      "text/plain": [
       "dataset/train/train_13849/train_13849_a/(…):   0%|          | 0.00/134M [00:00<?, ?B/s]"
      ]
     },
     "metadata": {},
     "output_type": "display_data"
    },
    {
     "name": "stdout",
     "output_type": "stream",
     "text": [
      "test all pooling\n",
      "Processing dataset/train/train_13854/train_13854_a/train_13854_a_1.nii.gz...\n"
     ]
    },
    {
     "data": {
      "application/vnd.jupyter.widget-view+json": {
       "model_id": "63ea8acbbc5a40d2b8fb0d6969c0fa77",
       "version_major": 2,
       "version_minor": 0
      },
      "text/plain": [
       "dataset/train/train_13854/train_13854_a/(…):   0%|          | 0.00/120M [00:00<?, ?B/s]"
      ]
     },
     "metadata": {},
     "output_type": "display_data"
    },
    {
     "name": "stdout",
     "output_type": "stream",
     "text": [
      "test all pooling\n",
      "Processing dataset/train/train_13962/train_13962_a/train_13962_a_2.nii.gz...\n"
     ]
    },
    {
     "data": {
      "application/vnd.jupyter.widget-view+json": {
       "model_id": "1e9346f18eb940e0bbace8c85763802f",
       "version_major": 2,
       "version_minor": 0
      },
      "text/plain": [
       "dataset/train/train_13962/train_13962_a/(…):   0%|          | 0.00/253M [00:00<?, ?B/s]"
      ]
     },
     "metadata": {},
     "output_type": "display_data"
    },
    {
     "name": "stdout",
     "output_type": "stream",
     "text": [
      "test all pooling\n",
      "Processing dataset/train/train_14046/train_14046_a/train_14046_a_2.nii.gz...\n"
     ]
    },
    {
     "data": {
      "application/vnd.jupyter.widget-view+json": {
       "model_id": "4da717a23ae14fdb9a9e11123fa8c3bf",
       "version_major": 2,
       "version_minor": 0
      },
      "text/plain": [
       "dataset/train/train_14046/train_14046_a/(…):   0%|          | 0.00/506M [00:00<?, ?B/s]"
      ]
     },
     "metadata": {},
     "output_type": "display_data"
    },
    {
     "name": "stdout",
     "output_type": "stream",
     "text": [
      "test all pooling\n",
      "Processing dataset/train/train_14058/train_14058_b/train_14058_b_2.nii.gz...\n"
     ]
    },
    {
     "data": {
      "application/vnd.jupyter.widget-view+json": {
       "model_id": "790de1b902ed4b9cb9147b5f188c6ad6",
       "version_major": 2,
       "version_minor": 0
      },
      "text/plain": [
       "dataset/train/train_14058/train_14058_b/(…):   0%|          | 0.00/206M [00:00<?, ?B/s]"
      ]
     },
     "metadata": {},
     "output_type": "display_data"
    },
    {
     "name": "stdout",
     "output_type": "stream",
     "text": [
      "test all pooling\n",
      "Processing dataset/train/train_14098/train_14098_a/train_14098_a_1.nii.gz...\n"
     ]
    },
    {
     "data": {
      "application/vnd.jupyter.widget-view+json": {
       "model_id": "0b1a0574aff54bc9a772cbf7cb98898c",
       "version_major": 2,
       "version_minor": 0
      },
      "text/plain": [
       "dataset/train/train_14098/train_14098_a/(…):   0%|          | 0.00/548M [00:00<?, ?B/s]"
      ]
     },
     "metadata": {},
     "output_type": "display_data"
    },
    {
     "name": "stdout",
     "output_type": "stream",
     "text": [
      "test all pooling\n",
      "Processing dataset/train/train_14122/train_14122_a/train_14122_a_1.nii.gz...\n"
     ]
    },
    {
     "data": {
      "application/vnd.jupyter.widget-view+json": {
       "model_id": "cc801d3f5b0046c4ae0a1c34848efe9d",
       "version_major": 2,
       "version_minor": 0
      },
      "text/plain": [
       "dataset/train/train_14122/train_14122_a/(…):   0%|          | 0.00/144M [00:00<?, ?B/s]"
      ]
     },
     "metadata": {},
     "output_type": "display_data"
    },
    {
     "name": "stdout",
     "output_type": "stream",
     "text": [
      "test all pooling\n",
      "Processing dataset/train/train_14166/train_14166_d/train_14166_d_1.nii.gz...\n"
     ]
    },
    {
     "data": {
      "application/vnd.jupyter.widget-view+json": {
       "model_id": "74f07ec3636c42d0a45f167e469434cf",
       "version_major": 2,
       "version_minor": 0
      },
      "text/plain": [
       "dataset/train/train_14166/train_14166_d/(…):   0%|          | 0.00/145M [00:00<?, ?B/s]"
      ]
     },
     "metadata": {},
     "output_type": "display_data"
    },
    {
     "name": "stdout",
     "output_type": "stream",
     "text": [
      "test all pooling\n",
      "Processing dataset/train/train_14268/train_14268_a/train_14268_a_1.nii.gz...\n"
     ]
    },
    {
     "data": {
      "application/vnd.jupyter.widget-view+json": {
       "model_id": "6594090f8e9c4876bd6cdd35021c0ad3",
       "version_major": 2,
       "version_minor": 0
      },
      "text/plain": [
       "dataset/train/train_14268/train_14268_a/(…):   0%|          | 0.00/494M [00:00<?, ?B/s]"
      ]
     },
     "metadata": {},
     "output_type": "display_data"
    },
    {
     "name": "stdout",
     "output_type": "stream",
     "text": [
      "test all pooling\n",
      "Processing dataset/train/train_14270/train_14270_a/train_14270_a_1.nii.gz...\n"
     ]
    },
    {
     "data": {
      "application/vnd.jupyter.widget-view+json": {
       "model_id": "f26a94f1e6ee4a5e9f32dba8adac7ebc",
       "version_major": 2,
       "version_minor": 0
      },
      "text/plain": [
       "dataset/train/train_14270/train_14270_a/(…):   0%|          | 0.00/449M [00:00<?, ?B/s]"
      ]
     },
     "metadata": {},
     "output_type": "display_data"
    },
    {
     "name": "stdout",
     "output_type": "stream",
     "text": [
      "test all pooling\n",
      "Processing dataset/train/train_14370/train_14370_a/train_14370_a_1.nii.gz...\n"
     ]
    },
    {
     "data": {
      "application/vnd.jupyter.widget-view+json": {
       "model_id": "b8c6931a16a8489eb133b44199b74a21",
       "version_major": 2,
       "version_minor": 0
      },
      "text/plain": [
       "dataset/train/train_14370/train_14370_a/(…):   0%|          | 0.00/486M [00:00<?, ?B/s]"
      ]
     },
     "metadata": {},
     "output_type": "display_data"
    },
    {
     "name": "stdout",
     "output_type": "stream",
     "text": [
      "test all pooling\n",
      "Processing dataset/train/train_14392/train_14392_a/train_14392_a_1.nii.gz...\n"
     ]
    },
    {
     "data": {
      "application/vnd.jupyter.widget-view+json": {
       "model_id": "ff2121d1ac094569ba00370bdb0ce040",
       "version_major": 2,
       "version_minor": 0
      },
      "text/plain": [
       "dataset/train/train_14392/train_14392_a/(…):   0%|          | 0.00/536M [00:00<?, ?B/s]"
      ]
     },
     "metadata": {},
     "output_type": "display_data"
    },
    {
     "name": "stdout",
     "output_type": "stream",
     "text": [
      "test all pooling\n",
      "Processing dataset/train/train_14442/train_14442_h/train_14442_h_2.nii.gz...\n"
     ]
    },
    {
     "data": {
      "application/vnd.jupyter.widget-view+json": {
       "model_id": "5a86ab5e4d094c958664c7cca3d02f79",
       "version_major": 2,
       "version_minor": 0
      },
      "text/plain": [
       "dataset/train/train_14442/train_14442_h/(…):   0%|          | 0.00/112M [00:00<?, ?B/s]"
      ]
     },
     "metadata": {},
     "output_type": "display_data"
    },
    {
     "name": "stdout",
     "output_type": "stream",
     "text": [
      "test all pooling\n",
      "Processing dataset/train/train_1448/train_1448_c/train_1448_c_1.nii.gz...\n"
     ]
    },
    {
     "data": {
      "application/vnd.jupyter.widget-view+json": {
       "model_id": "588cac1d62e54496a4f41b357852a40e",
       "version_major": 2,
       "version_minor": 0
      },
      "text/plain": [
       "dataset/train/train_1448/train_1448_c/tr(…):   0%|          | 0.00/517M [00:00<?, ?B/s]"
      ]
     },
     "metadata": {},
     "output_type": "display_data"
    },
    {
     "name": "stdout",
     "output_type": "stream",
     "text": [
      "test all pooling\n",
      "Processing dataset/train/train_14552/train_14552_a/train_14552_a_1.nii.gz...\n"
     ]
    },
    {
     "data": {
      "application/vnd.jupyter.widget-view+json": {
       "model_id": "840a5d3df4084f0c91500f3e843a0103",
       "version_major": 2,
       "version_minor": 0
      },
      "text/plain": [
       "dataset/train/train_14552/train_14552_a/(…):   0%|          | 0.00/494M [00:00<?, ?B/s]"
      ]
     },
     "metadata": {},
     "output_type": "display_data"
    },
    {
     "name": "stdout",
     "output_type": "stream",
     "text": [
      "test all pooling\n",
      "Processing dataset/train/train_1455/train_1455_a/train_1455_a_1.nii.gz...\n"
     ]
    },
    {
     "data": {
      "application/vnd.jupyter.widget-view+json": {
       "model_id": "0fb5cf3065554ae3a97984b7f33ee094",
       "version_major": 2,
       "version_minor": 0
      },
      "text/plain": [
       "dataset/train/train_1455/train_1455_a/tr(…):   0%|          | 0.00/95.1M [00:00<?, ?B/s]"
      ]
     },
     "metadata": {},
     "output_type": "display_data"
    },
    {
     "name": "stdout",
     "output_type": "stream",
     "text": [
      "test all pooling\n",
      "Processing dataset/train/train_14600/train_14600_a/train_14600_a_1.nii.gz...\n"
     ]
    },
    {
     "data": {
      "application/vnd.jupyter.widget-view+json": {
       "model_id": "56fc70f854234e57bad5f901bfd2187e",
       "version_major": 2,
       "version_minor": 0
      },
      "text/plain": [
       "dataset/train/train_14600/train_14600_a/(…):   0%|          | 0.00/497M [00:00<?, ?B/s]"
      ]
     },
     "metadata": {},
     "output_type": "display_data"
    },
    {
     "name": "stdout",
     "output_type": "stream",
     "text": [
      "test all pooling\n",
      "Processing dataset/train/train_14643/train_14643_a/train_14643_a_1.nii.gz...\n"
     ]
    },
    {
     "data": {
      "application/vnd.jupyter.widget-view+json": {
       "model_id": "6218ad6f95334435a6c8d980cfebefb9",
       "version_major": 2,
       "version_minor": 0
      },
      "text/plain": [
       "dataset/train/train_14643/train_14643_a/(…):   0%|          | 0.00/467M [00:00<?, ?B/s]"
      ]
     },
     "metadata": {},
     "output_type": "display_data"
    },
    {
     "name": "stdout",
     "output_type": "stream",
     "text": [
      "test all pooling\n",
      "Processing dataset/train/train_14684/train_14684_a/train_14684_a_1.nii.gz...\n"
     ]
    },
    {
     "data": {
      "application/vnd.jupyter.widget-view+json": {
       "model_id": "bec18cc3b065422ba1b9fba996870ea5",
       "version_major": 2,
       "version_minor": 0
      },
      "text/plain": [
       "dataset/train/train_14684/train_14684_a/(…):   0%|          | 0.00/539M [00:00<?, ?B/s]"
      ]
     },
     "metadata": {},
     "output_type": "display_data"
    },
    {
     "name": "stdout",
     "output_type": "stream",
     "text": [
      "test all pooling\n",
      "Processing dataset/train/train_14688/train_14688_b/train_14688_b_1.nii.gz...\n"
     ]
    },
    {
     "data": {
      "application/vnd.jupyter.widget-view+json": {
       "model_id": "646988ed21c548e09d42586d95f8bb52",
       "version_major": 2,
       "version_minor": 0
      },
      "text/plain": [
       "dataset/train/train_14688/train_14688_b/(…):   0%|          | 0.00/501M [00:00<?, ?B/s]"
      ]
     },
     "metadata": {},
     "output_type": "display_data"
    },
    {
     "name": "stdout",
     "output_type": "stream",
     "text": [
      "test all pooling\n",
      "Processing dataset/train/train_14690/train_14690_a/train_14690_a_2.nii.gz...\n"
     ]
    },
    {
     "data": {
      "application/vnd.jupyter.widget-view+json": {
       "model_id": "3e64961e93b140598cd3c8b212a1e3ac",
       "version_major": 2,
       "version_minor": 0
      },
      "text/plain": [
       "dataset/train/train_14690/train_14690_a/(…):   0%|          | 0.00/226M [00:00<?, ?B/s]"
      ]
     },
     "metadata": {},
     "output_type": "display_data"
    },
    {
     "name": "stdout",
     "output_type": "stream",
     "text": [
      "test all pooling\n",
      "Processing dataset/train/train_14701/train_14701_b/train_14701_b_2.nii.gz...\n"
     ]
    },
    {
     "data": {
      "application/vnd.jupyter.widget-view+json": {
       "model_id": "57cc89c1ed414684a1d5d8768961053a",
       "version_major": 2,
       "version_minor": 0
      },
      "text/plain": [
       "dataset/train/train_14701/train_14701_b/(…):   0%|          | 0.00/211M [00:00<?, ?B/s]"
      ]
     },
     "metadata": {},
     "output_type": "display_data"
    },
    {
     "name": "stdout",
     "output_type": "stream",
     "text": [
      "test all pooling\n",
      "Processing dataset/train/train_14709/train_14709_a/train_14709_a_1.nii.gz...\n"
     ]
    },
    {
     "data": {
      "application/vnd.jupyter.widget-view+json": {
       "model_id": "eeba1085a8634128acabe90d639a4f2b",
       "version_major": 2,
       "version_minor": 0
      },
      "text/plain": [
       "dataset/train/train_14709/train_14709_a/(…):   0%|          | 0.00/235M [00:00<?, ?B/s]"
      ]
     },
     "metadata": {},
     "output_type": "display_data"
    },
    {
     "name": "stdout",
     "output_type": "stream",
     "text": [
      "test all pooling\n",
      "Processing dataset/train/train_14740/train_14740_b/train_14740_b_2.nii.gz...\n"
     ]
    },
    {
     "data": {
      "application/vnd.jupyter.widget-view+json": {
       "model_id": "51968f38786e4b818bb31d34009d01be",
       "version_major": 2,
       "version_minor": 0
      },
      "text/plain": [
       "dataset/train/train_14740/train_14740_b/(…):   0%|          | 0.00/246M [00:00<?, ?B/s]"
      ]
     },
     "metadata": {},
     "output_type": "display_data"
    },
    {
     "name": "stdout",
     "output_type": "stream",
     "text": [
      "test all pooling\n",
      "Processing dataset/train/train_14764/train_14764_e/train_14764_e_2.nii.gz...\n"
     ]
    },
    {
     "data": {
      "application/vnd.jupyter.widget-view+json": {
       "model_id": "2aa81b1a7595482994cccc40843b8d47",
       "version_major": 2,
       "version_minor": 0
      },
      "text/plain": [
       "dataset/train/train_14764/train_14764_e/(…):   0%|          | 0.00/248M [00:00<?, ?B/s]"
      ]
     },
     "metadata": {},
     "output_type": "display_data"
    },
    {
     "name": "stdout",
     "output_type": "stream",
     "text": [
      "test all pooling\n",
      "Processing dataset/train/train_14787/train_14787_a/train_14787_a_2.nii.gz...\n"
     ]
    },
    {
     "data": {
      "application/vnd.jupyter.widget-view+json": {
       "model_id": "9ea74c12f49f4e20abc1573ad90ac688",
       "version_major": 2,
       "version_minor": 0
      },
      "text/plain": [
       "dataset/train/train_14787/train_14787_a/(…):   0%|          | 0.00/240M [00:00<?, ?B/s]"
      ]
     },
     "metadata": {},
     "output_type": "display_data"
    },
    {
     "name": "stdout",
     "output_type": "stream",
     "text": [
      "test all pooling\n",
      "Processing dataset/train/train_14829/train_14829_a/train_14829_a_1.nii.gz...\n"
     ]
    },
    {
     "data": {
      "application/vnd.jupyter.widget-view+json": {
       "model_id": "9b98465d9e2243349d4838e370c3cc7d",
       "version_major": 2,
       "version_minor": 0
      },
      "text/plain": [
       "dataset/train/train_14829/train_14829_a/(…):   0%|          | 0.00/138M [00:00<?, ?B/s]"
      ]
     },
     "metadata": {},
     "output_type": "display_data"
    },
    {
     "name": "stdout",
     "output_type": "stream",
     "text": [
      "test all pooling\n",
      "Processing dataset/train/train_14835/train_14835_a/train_14835_a_2.nii.gz...\n"
     ]
    },
    {
     "data": {
      "application/vnd.jupyter.widget-view+json": {
       "model_id": "8f457982b8634fbc8efa8878a668a7cd",
       "version_major": 2,
       "version_minor": 0
      },
      "text/plain": [
       "dataset/train/train_14835/train_14835_a/(…):   0%|          | 0.00/171M [00:00<?, ?B/s]"
      ]
     },
     "metadata": {},
     "output_type": "display_data"
    },
    {
     "name": "stdout",
     "output_type": "stream",
     "text": [
      "test all pooling\n",
      "Processing dataset/train/train_14909/train_14909_a/train_14909_a_2.nii.gz...\n"
     ]
    },
    {
     "data": {
      "application/vnd.jupyter.widget-view+json": {
       "model_id": "0b354de55d4e4a47ae5edc9ee56adbc7",
       "version_major": 2,
       "version_minor": 0
      },
      "text/plain": [
       "dataset/train/train_14909/train_14909_a/(…):   0%|          | 0.00/217M [00:00<?, ?B/s]"
      ]
     },
     "metadata": {},
     "output_type": "display_data"
    },
    {
     "name": "stdout",
     "output_type": "stream",
     "text": [
      "test all pooling\n",
      "Processing dataset/train/train_14920/train_14920_a/train_14920_a_2.nii.gz...\n"
     ]
    },
    {
     "data": {
      "application/vnd.jupyter.widget-view+json": {
       "model_id": "5df1b812d13f42e298c275843f40625c",
       "version_major": 2,
       "version_minor": 0
      },
      "text/plain": [
       "dataset/train/train_14920/train_14920_a/(…):   0%|          | 0.00/120M [00:00<?, ?B/s]"
      ]
     },
     "metadata": {},
     "output_type": "display_data"
    },
    {
     "name": "stdout",
     "output_type": "stream",
     "text": [
      "test all pooling\n",
      "Processing dataset/train/train_14940/train_14940_a/train_14940_a_2.nii.gz...\n"
     ]
    },
    {
     "data": {
      "application/vnd.jupyter.widget-view+json": {
       "model_id": "3ebe82cb7f8346158394be1adf456d7b",
       "version_major": 2,
       "version_minor": 0
      },
      "text/plain": [
       "dataset/train/train_14940/train_14940_a/(…):   0%|          | 0.00/222M [00:00<?, ?B/s]"
      ]
     },
     "metadata": {},
     "output_type": "display_data"
    },
    {
     "name": "stdout",
     "output_type": "stream",
     "text": [
      "test all pooling\n",
      "Processing dataset/train/train_14952/train_14952_a/train_14952_a_2.nii.gz...\n"
     ]
    },
    {
     "data": {
      "application/vnd.jupyter.widget-view+json": {
       "model_id": "e97093d5f63642e2a52002be04b8eafb",
       "version_major": 2,
       "version_minor": 0
      },
      "text/plain": [
       "dataset/train/train_14952/train_14952_a/(…):   0%|          | 0.00/188M [00:00<?, ?B/s]"
      ]
     },
     "metadata": {},
     "output_type": "display_data"
    },
    {
     "name": "stdout",
     "output_type": "stream",
     "text": [
      "test all pooling\n",
      "Processing dataset/train/train_15014/train_15014_a/train_15014_a_2.nii.gz...\n"
     ]
    },
    {
     "data": {
      "application/vnd.jupyter.widget-view+json": {
       "model_id": "49d32a59300b48cdb39d032ef26ed7ab",
       "version_major": 2,
       "version_minor": 0
      },
      "text/plain": [
       "dataset/train/train_15014/train_15014_a/(…):   0%|          | 0.00/174M [00:00<?, ?B/s]"
      ]
     },
     "metadata": {},
     "output_type": "display_data"
    },
    {
     "name": "stdout",
     "output_type": "stream",
     "text": [
      "test all pooling\n",
      "Processing dataset/train/train_15020/train_15020_a/train_15020_a_1.nii.gz...\n"
     ]
    },
    {
     "data": {
      "application/vnd.jupyter.widget-view+json": {
       "model_id": "80fe0806c8534ef9b6f1801f96a90011",
       "version_major": 2,
       "version_minor": 0
      },
      "text/plain": [
       "dataset/train/train_15020/train_15020_a/(…):   0%|          | 0.00/510M [00:00<?, ?B/s]"
      ]
     },
     "metadata": {},
     "output_type": "display_data"
    },
    {
     "name": "stdout",
     "output_type": "stream",
     "text": [
      "test all pooling\n",
      "Processing dataset/train/train_15021/train_15021_a/train_15021_a_2.nii.gz...\n"
     ]
    },
    {
     "data": {
      "application/vnd.jupyter.widget-view+json": {
       "model_id": "f2c9840cc8654bc18612923fbec8182d",
       "version_major": 2,
       "version_minor": 0
      },
      "text/plain": [
       "dataset/train/train_15021/train_15021_a/(…):   0%|          | 0.00/218M [00:00<?, ?B/s]"
      ]
     },
     "metadata": {},
     "output_type": "display_data"
    },
    {
     "name": "stdout",
     "output_type": "stream",
     "text": [
      "test all pooling\n",
      "Processing dataset/train/train_1504/train_1504_a/train_1504_a_1.nii.gz...\n"
     ]
    },
    {
     "data": {
      "application/vnd.jupyter.widget-view+json": {
       "model_id": "b192521a206042c694e72cfd143dd21f",
       "version_major": 2,
       "version_minor": 0
      },
      "text/plain": [
       "dataset/train/train_1504/train_1504_a/tr(…):   0%|          | 0.00/542M [00:00<?, ?B/s]"
      ]
     },
     "metadata": {},
     "output_type": "display_data"
    },
    {
     "name": "stdout",
     "output_type": "stream",
     "text": [
      "test all pooling\n",
      "Processing dataset/train/train_15057/train_15057_a/train_15057_a_1.nii.gz...\n"
     ]
    },
    {
     "data": {
      "application/vnd.jupyter.widget-view+json": {
       "model_id": "c833858a2485451ea4e9bee209156475",
       "version_major": 2,
       "version_minor": 0
      },
      "text/plain": [
       "dataset/train/train_15057/train_15057_a/(…):   0%|          | 0.00/441M [00:00<?, ?B/s]"
      ]
     },
     "metadata": {},
     "output_type": "display_data"
    },
    {
     "name": "stdout",
     "output_type": "stream",
     "text": [
      "test all pooling\n",
      "Processing dataset/train/train_15062/train_15062_a/train_15062_a_1.nii.gz...\n"
     ]
    },
    {
     "data": {
      "application/vnd.jupyter.widget-view+json": {
       "model_id": "e7794695edfb402f91a38ce7aeb23c7b",
       "version_major": 2,
       "version_minor": 0
      },
      "text/plain": [
       "dataset/train/train_15062/train_15062_a/(…):   0%|          | 0.00/137M [00:00<?, ?B/s]"
      ]
     },
     "metadata": {},
     "output_type": "display_data"
    },
    {
     "name": "stdout",
     "output_type": "stream",
     "text": [
      "test all pooling\n",
      "Processing dataset/train/train_15076/train_15076_b/train_15076_b_1.nii.gz...\n"
     ]
    },
    {
     "data": {
      "application/vnd.jupyter.widget-view+json": {
       "model_id": "ab19f6cf9182410ab3726f0b4fee27b6",
       "version_major": 2,
       "version_minor": 0
      },
      "text/plain": [
       "dataset/train/train_15076/train_15076_b/(…):   0%|          | 0.00/149M [00:00<?, ?B/s]"
      ]
     },
     "metadata": {},
     "output_type": "display_data"
    },
    {
     "name": "stdout",
     "output_type": "stream",
     "text": [
      "test all pooling\n",
      "Processing dataset/train/train_15076/train_15076_b/train_15076_b_2.nii.gz...\n"
     ]
    },
    {
     "data": {
      "application/vnd.jupyter.widget-view+json": {
       "model_id": "e30b0d0bb29d4be39a82c851b81cbabe",
       "version_major": 2,
       "version_minor": 0
      },
      "text/plain": [
       "dataset/train/train_15076/train_15076_b/(…):   0%|          | 0.00/128M [00:00<?, ?B/s]"
      ]
     },
     "metadata": {},
     "output_type": "display_data"
    },
    {
     "name": "stdout",
     "output_type": "stream",
     "text": [
      "test all pooling\n",
      "Processing dataset/train/train_1516/train_1516_b/train_1516_b_2.nii.gz...\n"
     ]
    },
    {
     "data": {
      "application/vnd.jupyter.widget-view+json": {
       "model_id": "ebd549f59648470db476aebf976fb54b",
       "version_major": 2,
       "version_minor": 0
      },
      "text/plain": [
       "dataset/train/train_1516/train_1516_b/tr(…):   0%|          | 0.00/119M [00:00<?, ?B/s]"
      ]
     },
     "metadata": {},
     "output_type": "display_data"
    },
    {
     "name": "stdout",
     "output_type": "stream",
     "text": [
      "test all pooling\n",
      "Processing dataset/train/train_15200/train_15200_a/train_15200_a_1.nii.gz...\n"
     ]
    },
    {
     "data": {
      "application/vnd.jupyter.widget-view+json": {
       "model_id": "1c86e4dca8064dddb3cd3207db3e26b2",
       "version_major": 2,
       "version_minor": 0
      },
      "text/plain": [
       "dataset/train/train_15200/train_15200_a/(…):   0%|          | 0.00/520M [00:00<?, ?B/s]"
      ]
     },
     "metadata": {},
     "output_type": "display_data"
    },
    {
     "name": "stdout",
     "output_type": "stream",
     "text": [
      "test all pooling\n",
      "Processing dataset/train/train_15225/train_15225_a/train_15225_a_1.nii.gz...\n"
     ]
    },
    {
     "data": {
      "application/vnd.jupyter.widget-view+json": {
       "model_id": "1053d84d34c14ad1934bad55d2e8379f",
       "version_major": 2,
       "version_minor": 0
      },
      "text/plain": [
       "dataset/train/train_15225/train_15225_a/(…):   0%|          | 0.00/415M [00:00<?, ?B/s]"
      ]
     },
     "metadata": {},
     "output_type": "display_data"
    },
    {
     "name": "stdout",
     "output_type": "stream",
     "text": [
      "test all pooling\n",
      "Processing dataset/train/train_15302/train_15302_a/train_15302_a_2.nii.gz...\n"
     ]
    },
    {
     "data": {
      "application/vnd.jupyter.widget-view+json": {
       "model_id": "c0e1eb9b45504ca1ac9932d9213a4c4c",
       "version_major": 2,
       "version_minor": 0
      },
      "text/plain": [
       "dataset/train/train_15302/train_15302_a/(…):   0%|          | 0.00/199M [00:00<?, ?B/s]"
      ]
     },
     "metadata": {},
     "output_type": "display_data"
    },
    {
     "name": "stdout",
     "output_type": "stream",
     "text": [
      "test all pooling\n",
      "Processing dataset/train/train_15338/train_15338_a/train_15338_a_2.nii.gz...\n"
     ]
    },
    {
     "data": {
      "application/vnd.jupyter.widget-view+json": {
       "model_id": "e03fe4cb6a9d485d89eac7264b5a7e4b",
       "version_major": 2,
       "version_minor": 0
      },
      "text/plain": [
       "dataset/train/train_15338/train_15338_a/(…):   0%|          | 0.00/139M [00:00<?, ?B/s]"
      ]
     },
     "metadata": {},
     "output_type": "display_data"
    },
    {
     "name": "stdout",
     "output_type": "stream",
     "text": [
      "test all pooling\n",
      "Processing dataset/train/train_15357/train_15357_a/train_15357_a_1.nii.gz...\n"
     ]
    },
    {
     "data": {
      "application/vnd.jupyter.widget-view+json": {
       "model_id": "6e051291fb724667a4ba93c9b90402b9",
       "version_major": 2,
       "version_minor": 0
      },
      "text/plain": [
       "dataset/train/train_15357/train_15357_a/(…):   0%|          | 0.00/122M [00:00<?, ?B/s]"
      ]
     },
     "metadata": {},
     "output_type": "display_data"
    },
    {
     "name": "stdout",
     "output_type": "stream",
     "text": [
      "test all pooling\n",
      "Processing dataset/train/train_15445/train_15445_a/train_15445_a_1.nii.gz...\n"
     ]
    },
    {
     "data": {
      "application/vnd.jupyter.widget-view+json": {
       "model_id": "7f7f002125be4e0087952921a5ca6921",
       "version_major": 2,
       "version_minor": 0
      },
      "text/plain": [
       "dataset/train/train_15445/train_15445_a/(…):   0%|          | 0.00/484M [00:00<?, ?B/s]"
      ]
     },
     "metadata": {},
     "output_type": "display_data"
    },
    {
     "name": "stdout",
     "output_type": "stream",
     "text": [
      "test all pooling\n",
      "Processing dataset/train/train_15485/train_15485_a/train_15485_a_1.nii.gz...\n"
     ]
    },
    {
     "data": {
      "application/vnd.jupyter.widget-view+json": {
       "model_id": "04c37c0245e14bd5befaddb7f422e1d2",
       "version_major": 2,
       "version_minor": 0
      },
      "text/plain": [
       "dataset/train/train_15485/train_15485_a/(…):   0%|          | 0.00/491M [00:00<?, ?B/s]"
      ]
     },
     "metadata": {},
     "output_type": "display_data"
    },
    {
     "name": "stdout",
     "output_type": "stream",
     "text": [
      "test all pooling\n",
      "Processing dataset/train/train_15508/train_15508_a/train_15508_a_1.nii.gz...\n"
     ]
    },
    {
     "data": {
      "application/vnd.jupyter.widget-view+json": {
       "model_id": "67d7dd173d9944a4b2dc94a38f627e6f",
       "version_major": 2,
       "version_minor": 0
      },
      "text/plain": [
       "dataset/train/train_15508/train_15508_a/(…):   0%|          | 0.00/154M [00:00<?, ?B/s]"
      ]
     },
     "metadata": {},
     "output_type": "display_data"
    },
    {
     "name": "stdout",
     "output_type": "stream",
     "text": [
      "test all pooling\n",
      "Processing dataset/train/train_15639/train_15639_b/train_15639_b_2.nii.gz...\n"
     ]
    },
    {
     "data": {
      "application/vnd.jupyter.widget-view+json": {
       "model_id": "a32efca455984392bc0a9cdfec9533e1",
       "version_major": 2,
       "version_minor": 0
      },
      "text/plain": [
       "dataset/train/train_15639/train_15639_b/(…):   0%|          | 0.00/153M [00:00<?, ?B/s]"
      ]
     },
     "metadata": {},
     "output_type": "display_data"
    },
    {
     "name": "stdout",
     "output_type": "stream",
     "text": [
      "test all pooling\n",
      "Processing dataset/train/train_15654/train_15654_a/train_15654_a_1.nii.gz...\n"
     ]
    },
    {
     "data": {
      "application/vnd.jupyter.widget-view+json": {
       "model_id": "c5275007936a45af929c8fe5924d2056",
       "version_major": 2,
       "version_minor": 0
      },
      "text/plain": [
       "dataset/train/train_15654/train_15654_a/(…):   0%|          | 0.00/127M [00:00<?, ?B/s]"
      ]
     },
     "metadata": {},
     "output_type": "display_data"
    },
    {
     "name": "stdout",
     "output_type": "stream",
     "text": [
      "test all pooling\n",
      "Processing dataset/train/train_15672/train_15672_a/train_15672_a_2.nii.gz...\n"
     ]
    },
    {
     "data": {
      "application/vnd.jupyter.widget-view+json": {
       "model_id": "a478e1bf10f54394a93de5d01abc4695",
       "version_major": 2,
       "version_minor": 0
      },
      "text/plain": [
       "dataset/train/train_15672/train_15672_a/(…):   0%|          | 0.00/185M [00:00<?, ?B/s]"
      ]
     },
     "metadata": {},
     "output_type": "display_data"
    },
    {
     "name": "stdout",
     "output_type": "stream",
     "text": [
      "test all pooling\n",
      "Processing dataset/train/train_15673/train_15673_a/train_15673_a_2.nii.gz...\n"
     ]
    },
    {
     "data": {
      "application/vnd.jupyter.widget-view+json": {
       "model_id": "1d7c93daf4ca48cf82c66ec2696f4df9",
       "version_major": 2,
       "version_minor": 0
      },
      "text/plain": [
       "dataset/train/train_15673/train_15673_a/(…):   0%|          | 0.00/230M [00:00<?, ?B/s]"
      ]
     },
     "metadata": {},
     "output_type": "display_data"
    },
    {
     "name": "stdout",
     "output_type": "stream",
     "text": [
      "test all pooling\n",
      "Processing dataset/train/train_1569/train_1569_a/train_1569_a_1.nii.gz...\n"
     ]
    },
    {
     "data": {
      "application/vnd.jupyter.widget-view+json": {
       "model_id": "da951263cd1946b5810646087b0b75a7",
       "version_major": 2,
       "version_minor": 0
      },
      "text/plain": [
       "dataset/train/train_1569/train_1569_a/tr(…):   0%|          | 0.00/526M [00:00<?, ?B/s]"
      ]
     },
     "metadata": {},
     "output_type": "display_data"
    },
    {
     "name": "stdout",
     "output_type": "stream",
     "text": [
      "test all pooling\n",
      "Processing dataset/train/train_15748/train_15748_a/train_15748_a_2.nii.gz...\n"
     ]
    },
    {
     "data": {
      "application/vnd.jupyter.widget-view+json": {
       "model_id": "a959e346685842b7b01c6c0f78ca27fa",
       "version_major": 2,
       "version_minor": 0
      },
      "text/plain": [
       "dataset/train/train_15748/train_15748_a/(…):   0%|          | 0.00/220M [00:00<?, ?B/s]"
      ]
     },
     "metadata": {},
     "output_type": "display_data"
    },
    {
     "name": "stdout",
     "output_type": "stream",
     "text": [
      "test all pooling\n",
      "Processing dataset/train/train_15767/train_15767_a/train_15767_a_1.nii.gz...\n"
     ]
    },
    {
     "data": {
      "application/vnd.jupyter.widget-view+json": {
       "model_id": "dba67550225248c996bbaea6d18009cf",
       "version_major": 2,
       "version_minor": 0
      },
      "text/plain": [
       "dataset/train/train_15767/train_15767_a/(…):   0%|          | 0.00/509M [00:00<?, ?B/s]"
      ]
     },
     "metadata": {},
     "output_type": "display_data"
    },
    {
     "name": "stdout",
     "output_type": "stream",
     "text": [
      "test all pooling\n",
      "Processing dataset/train/train_15858/train_15858_a/train_15858_a_1.nii.gz...\n"
     ]
    },
    {
     "data": {
      "application/vnd.jupyter.widget-view+json": {
       "model_id": "8e18477e581b40a6acf066bffedad3a3",
       "version_major": 2,
       "version_minor": 0
      },
      "text/plain": [
       "dataset/train/train_15858/train_15858_a/(…):   0%|          | 0.00/524M [00:00<?, ?B/s]"
      ]
     },
     "metadata": {},
     "output_type": "display_data"
    },
    {
     "name": "stdout",
     "output_type": "stream",
     "text": [
      "test all pooling\n",
      "Processing dataset/train/train_15867/train_15867_a/train_15867_a_2.nii.gz...\n"
     ]
    },
    {
     "data": {
      "application/vnd.jupyter.widget-view+json": {
       "model_id": "5b893cb479bf41deba70cb5c89c52aa7",
       "version_major": 2,
       "version_minor": 0
      },
      "text/plain": [
       "dataset/train/train_15867/train_15867_a/(…):   0%|          | 0.00/144M [00:00<?, ?B/s]"
      ]
     },
     "metadata": {},
     "output_type": "display_data"
    },
    {
     "name": "stdout",
     "output_type": "stream",
     "text": [
      "test all pooling\n",
      "Processing dataset/train/train_15909/train_15909_a/train_15909_a_2.nii.gz...\n"
     ]
    },
    {
     "data": {
      "application/vnd.jupyter.widget-view+json": {
       "model_id": "090f119d0d25429e81d2107cf3fa3225",
       "version_major": 2,
       "version_minor": 0
      },
      "text/plain": [
       "dataset/train/train_15909/train_15909_a/(…):   0%|          | 0.00/99.8M [00:00<?, ?B/s]"
      ]
     },
     "metadata": {},
     "output_type": "display_data"
    },
    {
     "name": "stdout",
     "output_type": "stream",
     "text": [
      "test all pooling\n",
      "Processing dataset/train/train_15911/train_15911_b/train_15911_b_1.nii.gz...\n"
     ]
    },
    {
     "data": {
      "application/vnd.jupyter.widget-view+json": {
       "model_id": "c992d8467a674c96b671234d075a9c47",
       "version_major": 2,
       "version_minor": 0
      },
      "text/plain": [
       "dataset/train/train_15911/train_15911_b/(…):   0%|          | 0.00/151M [00:00<?, ?B/s]"
      ]
     },
     "metadata": {},
     "output_type": "display_data"
    },
    {
     "name": "stdout",
     "output_type": "stream",
     "text": [
      "test all pooling\n",
      "Processing dataset/train/train_15911/train_15911_b/train_15911_b_2.nii.gz...\n"
     ]
    },
    {
     "data": {
      "application/vnd.jupyter.widget-view+json": {
       "model_id": "10c8c960f12c418498819a9e3f09ee43",
       "version_major": 2,
       "version_minor": 0
      },
      "text/plain": [
       "dataset/train/train_15911/train_15911_b/(…):   0%|          | 0.00/171M [00:00<?, ?B/s]"
      ]
     },
     "metadata": {},
     "output_type": "display_data"
    },
    {
     "name": "stdout",
     "output_type": "stream",
     "text": [
      "test all pooling\n",
      "Processing dataset/train/train_15918/train_15918_a/train_15918_a_1.nii.gz...\n"
     ]
    },
    {
     "data": {
      "application/vnd.jupyter.widget-view+json": {
       "model_id": "25268b49618c40e2b03341a33ccf541d",
       "version_major": 2,
       "version_minor": 0
      },
      "text/plain": [
       "dataset/train/train_15918/train_15918_a/(…):   0%|          | 0.00/122M [00:00<?, ?B/s]"
      ]
     },
     "metadata": {},
     "output_type": "display_data"
    },
    {
     "name": "stdout",
     "output_type": "stream",
     "text": [
      "test all pooling\n",
      "Processing dataset/train/train_15956/train_15956_b/train_15956_b_1.nii.gz...\n"
     ]
    },
    {
     "data": {
      "application/vnd.jupyter.widget-view+json": {
       "model_id": "cdfcbb5dc4054c049c804bcf8b6b8756",
       "version_major": 2,
       "version_minor": 0
      },
      "text/plain": [
       "dataset/train/train_15956/train_15956_b/(…):   0%|          | 0.00/113M [00:00<?, ?B/s]"
      ]
     },
     "metadata": {},
     "output_type": "display_data"
    },
    {
     "name": "stdout",
     "output_type": "stream",
     "text": [
      "test all pooling\n",
      "Processing dataset/train/train_15957/train_15957_a/train_15957_a_2.nii.gz...\n"
     ]
    },
    {
     "data": {
      "application/vnd.jupyter.widget-view+json": {
       "model_id": "2642790565e8406ab054d97eb450e774",
       "version_major": 2,
       "version_minor": 0
      },
      "text/plain": [
       "dataset/train/train_15957/train_15957_a/(…):   0%|          | 0.00/247M [00:00<?, ?B/s]"
      ]
     },
     "metadata": {},
     "output_type": "display_data"
    },
    {
     "name": "stdout",
     "output_type": "stream",
     "text": [
      "test all pooling\n",
      "Processing dataset/train/train_16006/train_16006_a/train_16006_a_1.nii.gz...\n"
     ]
    },
    {
     "data": {
      "application/vnd.jupyter.widget-view+json": {
       "model_id": "efe7ca73ca35498cb7144b9ae2075c34",
       "version_major": 2,
       "version_minor": 0
      },
      "text/plain": [
       "dataset/train/train_16006/train_16006_a/(…):   0%|          | 0.00/105M [00:00<?, ?B/s]"
      ]
     },
     "metadata": {},
     "output_type": "display_data"
    },
    {
     "name": "stdout",
     "output_type": "stream",
     "text": [
      "test all pooling\n",
      "Processing dataset/train/train_1600/train_1600_c/train_1600_c_2.nii.gz...\n"
     ]
    },
    {
     "data": {
      "application/vnd.jupyter.widget-view+json": {
       "model_id": "44748c53b9c643ebab67c233585001ee",
       "version_major": 2,
       "version_minor": 0
      },
      "text/plain": [
       "dataset/train/train_1600/train_1600_c/tr(…):   0%|          | 0.00/79.6M [00:00<?, ?B/s]"
      ]
     },
     "metadata": {},
     "output_type": "display_data"
    },
    {
     "name": "stdout",
     "output_type": "stream",
     "text": [
      "test all pooling\n",
      "Processing dataset/train/train_16049/train_16049_a/train_16049_a_1.nii.gz...\n"
     ]
    },
    {
     "data": {
      "application/vnd.jupyter.widget-view+json": {
       "model_id": "266350f6b1084f829875817d562cb89c",
       "version_major": 2,
       "version_minor": 0
      },
      "text/plain": [
       "dataset/train/train_16049/train_16049_a/(…):   0%|          | 0.00/261M [00:00<?, ?B/s]"
      ]
     },
     "metadata": {},
     "output_type": "display_data"
    },
    {
     "name": "stdout",
     "output_type": "stream",
     "text": [
      "test all pooling\n",
      "Processing dataset/train/train_16173/train_16173_a/train_16173_a_1.nii.gz...\n"
     ]
    },
    {
     "data": {
      "application/vnd.jupyter.widget-view+json": {
       "model_id": "2b996a25934f4dedae128771b34ad907",
       "version_major": 2,
       "version_minor": 0
      },
      "text/plain": [
       "dataset/train/train_16173/train_16173_a/(…):   0%|          | 0.00/589M [00:00<?, ?B/s]"
      ]
     },
     "metadata": {},
     "output_type": "display_data"
    },
    {
     "name": "stdout",
     "output_type": "stream",
     "text": [
      "test all pooling\n",
      "Processing dataset/train/train_16173/train_16173_a/train_16173_a_2.nii.gz...\n"
     ]
    },
    {
     "data": {
      "application/vnd.jupyter.widget-view+json": {
       "model_id": "eaee626f88da4300a3263214ca67d2a3",
       "version_major": 2,
       "version_minor": 0
      },
      "text/plain": [
       "dataset/train/train_16173/train_16173_a/(…):   0%|          | 0.00/272M [00:00<?, ?B/s]"
      ]
     },
     "metadata": {},
     "output_type": "display_data"
    },
    {
     "name": "stdout",
     "output_type": "stream",
     "text": [
      "test all pooling\n",
      "Processing dataset/train/train_16176/train_16176_b/train_16176_b_1.nii.gz...\n"
     ]
    },
    {
     "data": {
      "application/vnd.jupyter.widget-view+json": {
       "model_id": "bd61e2804c874669bd569e12941693bd",
       "version_major": 2,
       "version_minor": 0
      },
      "text/plain": [
       "dataset/train/train_16176/train_16176_b/(…):   0%|          | 0.00/85.0M [00:00<?, ?B/s]"
      ]
     },
     "metadata": {},
     "output_type": "display_data"
    },
    {
     "name": "stdout",
     "output_type": "stream",
     "text": [
      "test all pooling\n",
      "Processing dataset/train/train_16215/train_16215_a/train_16215_a_1.nii.gz...\n"
     ]
    },
    {
     "data": {
      "application/vnd.jupyter.widget-view+json": {
       "model_id": "71f2f758eea04dfebcbc935d333e069b",
       "version_major": 2,
       "version_minor": 0
      },
      "text/plain": [
       "dataset/train/train_16215/train_16215_a/(…):   0%|          | 0.00/170M [00:00<?, ?B/s]"
      ]
     },
     "metadata": {},
     "output_type": "display_data"
    },
    {
     "name": "stdout",
     "output_type": "stream",
     "text": [
      "test all pooling\n",
      "Processing dataset/train/train_16223/train_16223_a/train_16223_a_2.nii.gz...\n"
     ]
    },
    {
     "data": {
      "application/vnd.jupyter.widget-view+json": {
       "model_id": "b7632ae4bc1149959893969d711eedb8",
       "version_major": 2,
       "version_minor": 0
      },
      "text/plain": [
       "dataset/train/train_16223/train_16223_a/(…):   0%|          | 0.00/191M [00:00<?, ?B/s]"
      ]
     },
     "metadata": {},
     "output_type": "display_data"
    },
    {
     "name": "stdout",
     "output_type": "stream",
     "text": [
      "test all pooling\n",
      "Processing dataset/train/train_16276/train_16276_a/train_16276_a_2.nii.gz...\n"
     ]
    },
    {
     "data": {
      "application/vnd.jupyter.widget-view+json": {
       "model_id": "4df28feff3ae4034a4793a85d56cc716",
       "version_major": 2,
       "version_minor": 0
      },
      "text/plain": [
       "dataset/train/train_16276/train_16276_a/(…):   0%|          | 0.00/196M [00:00<?, ?B/s]"
      ]
     },
     "metadata": {},
     "output_type": "display_data"
    },
    {
     "name": "stdout",
     "output_type": "stream",
     "text": [
      "test all pooling\n",
      "Processing dataset/train/train_16294/train_16294_b/train_16294_b_2.nii.gz...\n"
     ]
    },
    {
     "data": {
      "application/vnd.jupyter.widget-view+json": {
       "model_id": "3f380218644b471da62034a1d7407ccc",
       "version_major": 2,
       "version_minor": 0
      },
      "text/plain": [
       "dataset/train/train_16294/train_16294_b/(…):   0%|          | 0.00/235M [00:00<?, ?B/s]"
      ]
     },
     "metadata": {},
     "output_type": "display_data"
    },
    {
     "name": "stdout",
     "output_type": "stream",
     "text": [
      "test all pooling\n",
      "Processing dataset/train/train_1629/train_1629_a/train_1629_a_1.nii.gz...\n"
     ]
    },
    {
     "data": {
      "application/vnd.jupyter.widget-view+json": {
       "model_id": "fc1ea1c848294b0396fa9276472fafd9",
       "version_major": 2,
       "version_minor": 0
      },
      "text/plain": [
       "dataset/train/train_1629/train_1629_a/tr(…):   0%|          | 0.00/164M [00:00<?, ?B/s]"
      ]
     },
     "metadata": {},
     "output_type": "display_data"
    },
    {
     "name": "stdout",
     "output_type": "stream",
     "text": [
      "test all pooling\n",
      "Processing dataset/train/train_16307/train_16307_a/train_16307_a_2.nii.gz...\n"
     ]
    },
    {
     "data": {
      "application/vnd.jupyter.widget-view+json": {
       "model_id": "496235911fba4166bc38bc2368c31369",
       "version_major": 2,
       "version_minor": 0
      },
      "text/plain": [
       "dataset/train/train_16307/train_16307_a/(…):   0%|          | 0.00/210M [00:00<?, ?B/s]"
      ]
     },
     "metadata": {},
     "output_type": "display_data"
    },
    {
     "name": "stdout",
     "output_type": "stream",
     "text": [
      "test all pooling\n",
      "Processing dataset/train/train_1630/train_1630_a/train_1630_a_1.nii.gz...\n"
     ]
    },
    {
     "data": {
      "application/vnd.jupyter.widget-view+json": {
       "model_id": "adff799c76d84022bb540e6cb71c5e52",
       "version_major": 2,
       "version_minor": 0
      },
      "text/plain": [
       "dataset/train/train_1630/train_1630_a/tr(…):   0%|          | 0.00/144M [00:00<?, ?B/s]"
      ]
     },
     "metadata": {},
     "output_type": "display_data"
    },
    {
     "name": "stdout",
     "output_type": "stream",
     "text": [
      "test all pooling\n",
      "Processing dataset/train/train_16379/train_16379_a/train_16379_a_1.nii.gz...\n"
     ]
    },
    {
     "data": {
      "application/vnd.jupyter.widget-view+json": {
       "model_id": "60da30e8f7b64933bed65fac360b392a",
       "version_major": 2,
       "version_minor": 0
      },
      "text/plain": [
       "dataset/train/train_16379/train_16379_a/(…):   0%|          | 0.00/500M [00:00<?, ?B/s]"
      ]
     },
     "metadata": {},
     "output_type": "display_data"
    },
    {
     "name": "stdout",
     "output_type": "stream",
     "text": [
      "test all pooling\n",
      "Processing dataset/train/train_16447/train_16447_a/train_16447_a_1.nii.gz...\n"
     ]
    },
    {
     "data": {
      "application/vnd.jupyter.widget-view+json": {
       "model_id": "4c78bb2d9c0b4858b2c7d636a8584d5d",
       "version_major": 2,
       "version_minor": 0
      },
      "text/plain": [
       "dataset/train/train_16447/train_16447_a/(…):   0%|          | 0.00/266M [00:00<?, ?B/s]"
      ]
     },
     "metadata": {},
     "output_type": "display_data"
    },
    {
     "name": "stdout",
     "output_type": "stream",
     "text": [
      "test all pooling\n",
      "Processing dataset/train/train_16485/train_16485_a/train_16485_a_2.nii.gz...\n"
     ]
    },
    {
     "data": {
      "application/vnd.jupyter.widget-view+json": {
       "model_id": "cdaf99e9ba7949ac86e0b756ec7a9b33",
       "version_major": 2,
       "version_minor": 0
      },
      "text/plain": [
       "dataset/train/train_16485/train_16485_a/(…):   0%|          | 0.00/216M [00:00<?, ?B/s]"
      ]
     },
     "metadata": {},
     "output_type": "display_data"
    },
    {
     "name": "stdout",
     "output_type": "stream",
     "text": [
      "test all pooling\n",
      "Processing dataset/train/train_16503/train_16503_a/train_16503_a_2.nii.gz...\n"
     ]
    },
    {
     "data": {
      "application/vnd.jupyter.widget-view+json": {
       "model_id": "d107527182e8421399046305e459de22",
       "version_major": 2,
       "version_minor": 0
      },
      "text/plain": [
       "dataset/train/train_16503/train_16503_a/(…):   0%|          | 0.00/376M [00:00<?, ?B/s]"
      ]
     },
     "metadata": {},
     "output_type": "display_data"
    },
    {
     "name": "stdout",
     "output_type": "stream",
     "text": [
      "test all pooling\n",
      "Processing dataset/train/train_16512/train_16512_a/train_16512_a_1.nii.gz...\n"
     ]
    },
    {
     "data": {
      "application/vnd.jupyter.widget-view+json": {
       "model_id": "a54cb646a7f643f4bcfc6da3af57dfe1",
       "version_major": 2,
       "version_minor": 0
      },
      "text/plain": [
       "dataset/train/train_16512/train_16512_a/(…):   0%|          | 0.00/541M [00:00<?, ?B/s]"
      ]
     },
     "metadata": {},
     "output_type": "display_data"
    },
    {
     "name": "stdout",
     "output_type": "stream",
     "text": [
      "test all pooling\n",
      "Processing dataset/train/train_16554/train_16554_a/train_16554_a_1.nii.gz...\n"
     ]
    },
    {
     "data": {
      "application/vnd.jupyter.widget-view+json": {
       "model_id": "ee3291ae5c9a4a89bcd126b0a6f715ed",
       "version_major": 2,
       "version_minor": 0
      },
      "text/plain": [
       "dataset/train/train_16554/train_16554_a/(…):   0%|          | 0.00/491M [00:00<?, ?B/s]"
      ]
     },
     "metadata": {},
     "output_type": "display_data"
    },
    {
     "name": "stdout",
     "output_type": "stream",
     "text": [
      "test all pooling\n",
      "Processing dataset/train/train_16562/train_16562_a/train_16562_a_1.nii.gz...\n"
     ]
    },
    {
     "data": {
      "application/vnd.jupyter.widget-view+json": {
       "model_id": "f6147e426fdf4adabd49c5541b34efc2",
       "version_major": 2,
       "version_minor": 0
      },
      "text/plain": [
       "dataset/train/train_16562/train_16562_a/(…):   0%|          | 0.00/97.3M [00:00<?, ?B/s]"
      ]
     },
     "metadata": {},
     "output_type": "display_data"
    },
    {
     "name": "stdout",
     "output_type": "stream",
     "text": [
      "test all pooling\n",
      "Processing dataset/train/train_16566/train_16566_b/train_16566_b_1.nii.gz...\n"
     ]
    },
    {
     "data": {
      "application/vnd.jupyter.widget-view+json": {
       "model_id": "f5b554063c744204bc6c4ce2168a3389",
       "version_major": 2,
       "version_minor": 0
      },
      "text/plain": [
       "dataset/train/train_16566/train_16566_b/(…):   0%|          | 0.00/519M [00:00<?, ?B/s]"
      ]
     },
     "metadata": {},
     "output_type": "display_data"
    },
    {
     "name": "stdout",
     "output_type": "stream",
     "text": [
      "test all pooling\n",
      "Processing dataset/train/train_16602/train_16602_a/train_16602_a_1.nii.gz...\n"
     ]
    },
    {
     "data": {
      "application/vnd.jupyter.widget-view+json": {
       "model_id": "a297abf2bba6465cbc059d8c068b1b77",
       "version_major": 2,
       "version_minor": 0
      },
      "text/plain": [
       "dataset/train/train_16602/train_16602_a/(…):   0%|          | 0.00/123M [00:00<?, ?B/s]"
      ]
     },
     "metadata": {},
     "output_type": "display_data"
    },
    {
     "name": "stdout",
     "output_type": "stream",
     "text": [
      "test all pooling\n",
      "Processing dataset/train/train_16621/train_16621_a/train_16621_a_2.nii.gz...\n"
     ]
    },
    {
     "data": {
      "application/vnd.jupyter.widget-view+json": {
       "model_id": "fc38fe77f78e4529b1fdfd3c86faca61",
       "version_major": 2,
       "version_minor": 0
      },
      "text/plain": [
       "dataset/train/train_16621/train_16621_a/(…):   0%|          | 0.00/130M [00:00<?, ?B/s]"
      ]
     },
     "metadata": {},
     "output_type": "display_data"
    },
    {
     "name": "stdout",
     "output_type": "stream",
     "text": [
      "test all pooling\n",
      "Processing dataset/train/train_16627/train_16627_a/train_16627_a_2.nii.gz...\n"
     ]
    },
    {
     "data": {
      "application/vnd.jupyter.widget-view+json": {
       "model_id": "a73e85c017524d3ead73276a7bfb6d29",
       "version_major": 2,
       "version_minor": 0
      },
      "text/plain": [
       "dataset/train/train_16627/train_16627_a/(…):   0%|          | 0.00/185M [00:00<?, ?B/s]"
      ]
     },
     "metadata": {},
     "output_type": "display_data"
    },
    {
     "name": "stdout",
     "output_type": "stream",
     "text": [
      "test all pooling\n",
      "Processing dataset/train/train_16641/train_16641_b/train_16641_b_2.nii.gz...\n"
     ]
    },
    {
     "data": {
      "application/vnd.jupyter.widget-view+json": {
       "model_id": "332334c84720496e91220b92fbfb6a66",
       "version_major": 2,
       "version_minor": 0
      },
      "text/plain": [
       "dataset/train/train_16641/train_16641_b/(…):   0%|          | 0.00/131M [00:00<?, ?B/s]"
      ]
     },
     "metadata": {},
     "output_type": "display_data"
    },
    {
     "name": "stdout",
     "output_type": "stream",
     "text": [
      "test all pooling\n",
      "Processing dataset/train/train_16649/train_16649_a/train_16649_a_2.nii.gz...\n"
     ]
    },
    {
     "data": {
      "application/vnd.jupyter.widget-view+json": {
       "model_id": "b991fe94ea914284bcba58e5f2d2c498",
       "version_major": 2,
       "version_minor": 0
      },
      "text/plain": [
       "dataset/train/train_16649/train_16649_a/(…):   0%|          | 0.00/216M [00:00<?, ?B/s]"
      ]
     },
     "metadata": {},
     "output_type": "display_data"
    },
    {
     "name": "stdout",
     "output_type": "stream",
     "text": [
      "test all pooling\n",
      "Processing dataset/train/train_16664/train_16664_a/train_16664_a_1.nii.gz...\n"
     ]
    },
    {
     "data": {
      "application/vnd.jupyter.widget-view+json": {
       "model_id": "1803127785c04cccb7d629141a3322ad",
       "version_major": 2,
       "version_minor": 0
      },
      "text/plain": [
       "dataset/train/train_16664/train_16664_a/(…):   0%|          | 0.00/70.0M [00:00<?, ?B/s]"
      ]
     },
     "metadata": {},
     "output_type": "display_data"
    },
    {
     "name": "stdout",
     "output_type": "stream",
     "text": [
      "test all pooling\n",
      "Processing dataset/train/train_16724/train_16724_a/train_16724_a_2.nii.gz...\n"
     ]
    },
    {
     "data": {
      "application/vnd.jupyter.widget-view+json": {
       "model_id": "1bc103ca887d4f0a92cdb4d7b37455e5",
       "version_major": 2,
       "version_minor": 0
      },
      "text/plain": [
       "dataset/train/train_16724/train_16724_a/(…):   0%|          | 0.00/226M [00:00<?, ?B/s]"
      ]
     },
     "metadata": {},
     "output_type": "display_data"
    },
    {
     "name": "stdout",
     "output_type": "stream",
     "text": [
      "test all pooling\n",
      "Processing dataset/train/train_16775/train_16775_a/train_16775_a_1.nii.gz...\n"
     ]
    },
    {
     "data": {
      "application/vnd.jupyter.widget-view+json": {
       "model_id": "d4407efeb63f4f04b23046255464b985",
       "version_major": 2,
       "version_minor": 0
      },
      "text/plain": [
       "train_16775_a_1.nii.gz:   0%|          | 0.00/475M [00:00<?, ?B/s]"
      ]
     },
     "metadata": {},
     "output_type": "display_data"
    },
    {
     "name": "stdout",
     "output_type": "stream",
     "text": [
      "test all pooling\n",
      "Processing dataset/train/train_16779/train_16779_a/train_16779_a_2.nii.gz...\n"
     ]
    },
    {
     "data": {
      "application/vnd.jupyter.widget-view+json": {
       "model_id": "96c4156b5cc54bbeb205d85aae62f2aa",
       "version_major": 2,
       "version_minor": 0
      },
      "text/plain": [
       "dataset/train/train_16779/train_16779_a/(…):   0%|          | 0.00/78.9M [00:00<?, ?B/s]"
      ]
     },
     "metadata": {},
     "output_type": "display_data"
    },
    {
     "name": "stdout",
     "output_type": "stream",
     "text": [
      "test all pooling\n",
      "Processing dataset/train/train_16815/train_16815_b/train_16815_b_1.nii.gz...\n"
     ]
    },
    {
     "data": {
      "application/vnd.jupyter.widget-view+json": {
       "model_id": "ddace514d4274b818c1747632593e69e",
       "version_major": 2,
       "version_minor": 0
      },
      "text/plain": [
       "dataset/train/train_16815/train_16815_b/(…):   0%|          | 0.00/87.3M [00:00<?, ?B/s]"
      ]
     },
     "metadata": {},
     "output_type": "display_data"
    },
    {
     "name": "stdout",
     "output_type": "stream",
     "text": [
      "test all pooling\n",
      "Processing dataset/train/train_16819/train_16819_a/train_16819_a_1.nii.gz...\n"
     ]
    },
    {
     "data": {
      "application/vnd.jupyter.widget-view+json": {
       "model_id": "f45f4348b7204311869153ac8b43621c",
       "version_major": 2,
       "version_minor": 0
      },
      "text/plain": [
       "dataset/train/train_16819/train_16819_a/(…):   0%|          | 0.00/475M [00:00<?, ?B/s]"
      ]
     },
     "metadata": {},
     "output_type": "display_data"
    },
    {
     "name": "stdout",
     "output_type": "stream",
     "text": [
      "test all pooling\n",
      "Processing dataset/train/train_16865/train_16865_a/train_16865_a_1.nii.gz...\n"
     ]
    },
    {
     "data": {
      "application/vnd.jupyter.widget-view+json": {
       "model_id": "acc98309df6845d78550c37e48322f69",
       "version_major": 2,
       "version_minor": 0
      },
      "text/plain": [
       "dataset/train/train_16865/train_16865_a/(…):   0%|          | 0.00/434M [00:00<?, ?B/s]"
      ]
     },
     "metadata": {},
     "output_type": "display_data"
    },
    {
     "name": "stdout",
     "output_type": "stream",
     "text": [
      "test all pooling\n",
      "Processing dataset/train/train_16886/train_16886_b/train_16886_b_2.nii.gz...\n"
     ]
    },
    {
     "data": {
      "application/vnd.jupyter.widget-view+json": {
       "model_id": "67dd7439727f4e998b5cfc3c4a0d8550",
       "version_major": 2,
       "version_minor": 0
      },
      "text/plain": [
       "dataset/train/train_16886/train_16886_b/(…):   0%|          | 0.00/236M [00:00<?, ?B/s]"
      ]
     },
     "metadata": {},
     "output_type": "display_data"
    },
    {
     "name": "stdout",
     "output_type": "stream",
     "text": [
      "test all pooling\n",
      "Processing dataset/train/train_16887/train_16887_b/train_16887_b_2.nii.gz...\n"
     ]
    },
    {
     "data": {
      "application/vnd.jupyter.widget-view+json": {
       "model_id": "3a0e050669c24bb48f234fa074d97309",
       "version_major": 2,
       "version_minor": 0
      },
      "text/plain": [
       "dataset/train/train_16887/train_16887_b/(…):   0%|          | 0.00/240M [00:00<?, ?B/s]"
      ]
     },
     "metadata": {},
     "output_type": "display_data"
    },
    {
     "name": "stdout",
     "output_type": "stream",
     "text": [
      "test all pooling\n",
      "Processing dataset/train/train_16887/train_16887_d/train_16887_d_1.nii.gz...\n"
     ]
    },
    {
     "data": {
      "application/vnd.jupyter.widget-view+json": {
       "model_id": "aed2fc7e4e9944d3a43a777fd92baa33",
       "version_major": 2,
       "version_minor": 0
      },
      "text/plain": [
       "dataset/train/train_16887/train_16887_d/(…):   0%|          | 0.00/532M [00:00<?, ?B/s]"
      ]
     },
     "metadata": {},
     "output_type": "display_data"
    },
    {
     "name": "stdout",
     "output_type": "stream",
     "text": [
      "test all pooling\n",
      "Processing dataset/train/train_16893/train_16893_a/train_16893_a_2.nii.gz...\n"
     ]
    },
    {
     "data": {
      "application/vnd.jupyter.widget-view+json": {
       "model_id": "9b33ffdf3e08466abb8edf8c28f112d0",
       "version_major": 2,
       "version_minor": 0
      },
      "text/plain": [
       "dataset/train/train_16893/train_16893_a/(…):   0%|          | 0.00/167M [00:00<?, ?B/s]"
      ]
     },
     "metadata": {},
     "output_type": "display_data"
    },
    {
     "name": "stdout",
     "output_type": "stream",
     "text": [
      "test all pooling\n",
      "Processing dataset/train/train_16928/train_16928_a/train_16928_a_2.nii.gz...\n"
     ]
    },
    {
     "data": {
      "application/vnd.jupyter.widget-view+json": {
       "model_id": "77b823fd580041dab4322194770c010f",
       "version_major": 2,
       "version_minor": 0
      },
      "text/plain": [
       "dataset/train/train_16928/train_16928_a/(…):   0%|          | 0.00/241M [00:00<?, ?B/s]"
      ]
     },
     "metadata": {},
     "output_type": "display_data"
    },
    {
     "name": "stdout",
     "output_type": "stream",
     "text": [
      "test all pooling\n",
      "Processing dataset/train/train_16961/train_16961_a/train_16961_a_1.nii.gz...\n"
     ]
    },
    {
     "data": {
      "application/vnd.jupyter.widget-view+json": {
       "model_id": "12b914a2a3c346b18eaa5a3c4ad7c69c",
       "version_major": 2,
       "version_minor": 0
      },
      "text/plain": [
       "dataset/train/train_16961/train_16961_a/(…):   0%|          | 0.00/515M [00:00<?, ?B/s]"
      ]
     },
     "metadata": {},
     "output_type": "display_data"
    },
    {
     "name": "stdout",
     "output_type": "stream",
     "text": [
      "test all pooling\n",
      "Processing dataset/train/train_17013/train_17013_a/train_17013_a_2.nii.gz...\n"
     ]
    },
    {
     "data": {
      "application/vnd.jupyter.widget-view+json": {
       "model_id": "e0f85b8810f542cdb91cd30ad0354c92",
       "version_major": 2,
       "version_minor": 0
      },
      "text/plain": [
       "dataset/train/train_17013/train_17013_a/(…):   0%|          | 0.00/175M [00:00<?, ?B/s]"
      ]
     },
     "metadata": {},
     "output_type": "display_data"
    },
    {
     "name": "stdout",
     "output_type": "stream",
     "text": [
      "test all pooling\n",
      "Processing dataset/train/train_17038/train_17038_b/train_17038_b_1.nii.gz...\n"
     ]
    },
    {
     "data": {
      "application/vnd.jupyter.widget-view+json": {
       "model_id": "161107fc6ced4020a2f88b253ec136e2",
       "version_major": 2,
       "version_minor": 0
      },
      "text/plain": [
       "dataset/train/train_17038/train_17038_b/(…):   0%|          | 0.00/137M [00:00<?, ?B/s]"
      ]
     },
     "metadata": {},
     "output_type": "display_data"
    },
    {
     "name": "stdout",
     "output_type": "stream",
     "text": [
      "test all pooling\n",
      "Processing dataset/train/train_1708/train_1708_c/train_1708_c_1.nii.gz...\n"
     ]
    },
    {
     "data": {
      "application/vnd.jupyter.widget-view+json": {
       "model_id": "9531fd0428714bbc88ffa0b12b2b34ed",
       "version_major": 2,
       "version_minor": 0
      },
      "text/plain": [
       "dataset/train/train_1708/train_1708_c/tr(…):   0%|          | 0.00/417M [00:00<?, ?B/s]"
      ]
     },
     "metadata": {},
     "output_type": "display_data"
    },
    {
     "name": "stdout",
     "output_type": "stream",
     "text": [
      "test all pooling\n",
      "Processing dataset/train/train_17155/train_17155_a/train_17155_a_2.nii.gz...\n"
     ]
    },
    {
     "data": {
      "application/vnd.jupyter.widget-view+json": {
       "model_id": "fec93c8fbca1499bb992c78de753ae9d",
       "version_major": 2,
       "version_minor": 0
      },
      "text/plain": [
       "dataset/train/train_17155/train_17155_a/(…):   0%|          | 0.00/359M [00:00<?, ?B/s]"
      ]
     },
     "metadata": {},
     "output_type": "display_data"
    },
    {
     "name": "stdout",
     "output_type": "stream",
     "text": [
      "test all pooling\n",
      "Processing dataset/train/train_171/train_171_b/train_171_b_2.nii.gz...\n"
     ]
    },
    {
     "data": {
      "application/vnd.jupyter.widget-view+json": {
       "model_id": "fd8072baf4d64a48a02b164fb772b03e",
       "version_major": 2,
       "version_minor": 0
      },
      "text/plain": [
       "dataset/train/train_171/train_171_b/trai(…):   0%|          | 0.00/126M [00:00<?, ?B/s]"
      ]
     },
     "metadata": {},
     "output_type": "display_data"
    },
    {
     "name": "stdout",
     "output_type": "stream",
     "text": [
      "test all pooling\n",
      "Processing dataset/train/train_17207/train_17207_b/train_17207_b_2.nii.gz...\n"
     ]
    },
    {
     "data": {
      "application/vnd.jupyter.widget-view+json": {
       "model_id": "2b7c4d922ddd4602be1a863db534eb40",
       "version_major": 2,
       "version_minor": 0
      },
      "text/plain": [
       "dataset/train/train_17207/train_17207_b/(…):   0%|          | 0.00/172M [00:00<?, ?B/s]"
      ]
     },
     "metadata": {},
     "output_type": "display_data"
    },
    {
     "name": "stdout",
     "output_type": "stream",
     "text": [
      "test all pooling\n",
      "Processing dataset/train/train_17237/train_17237_a/train_17237_a_2.nii.gz...\n"
     ]
    },
    {
     "data": {
      "application/vnd.jupyter.widget-view+json": {
       "model_id": "9bf47a062bfe4875bc5006b1ab70b6af",
       "version_major": 2,
       "version_minor": 0
      },
      "text/plain": [
       "dataset/train/train_17237/train_17237_a/(…):   0%|          | 0.00/188M [00:00<?, ?B/s]"
      ]
     },
     "metadata": {},
     "output_type": "display_data"
    },
    {
     "name": "stdout",
     "output_type": "stream",
     "text": [
      "test all pooling\n",
      "Processing dataset/train/train_17346/train_17346_b/train_17346_b_1.nii.gz...\n"
     ]
    },
    {
     "data": {
      "application/vnd.jupyter.widget-view+json": {
       "model_id": "38d0398c522649a7955b5bc336894bfb",
       "version_major": 2,
       "version_minor": 0
      },
      "text/plain": [
       "dataset/train/train_17346/train_17346_b/(…):   0%|          | 0.00/136M [00:00<?, ?B/s]"
      ]
     },
     "metadata": {},
     "output_type": "display_data"
    },
    {
     "name": "stdout",
     "output_type": "stream",
     "text": [
      "test all pooling\n",
      "Processing dataset/train/train_17359/train_17359_a/train_17359_a_2.nii.gz...\n"
     ]
    },
    {
     "data": {
      "application/vnd.jupyter.widget-view+json": {
       "model_id": "dceddd19a7034cbdbb8c0d0730ed4ba8",
       "version_major": 2,
       "version_minor": 0
      },
      "text/plain": [
       "dataset/train/train_17359/train_17359_a/(…):   0%|          | 0.00/128M [00:00<?, ?B/s]"
      ]
     },
     "metadata": {},
     "output_type": "display_data"
    },
    {
     "name": "stdout",
     "output_type": "stream",
     "text": [
      "test all pooling\n",
      "Processing dataset/train/train_17379/train_17379_a/train_17379_a_1.nii.gz...\n"
     ]
    },
    {
     "data": {
      "application/vnd.jupyter.widget-view+json": {
       "model_id": "be6822f68500454fa5311a1d2e8444b8",
       "version_major": 2,
       "version_minor": 0
      },
      "text/plain": [
       "dataset/train/train_17379/train_17379_a/(…):   0%|          | 0.00/129M [00:00<?, ?B/s]"
      ]
     },
     "metadata": {},
     "output_type": "display_data"
    },
    {
     "name": "stdout",
     "output_type": "stream",
     "text": [
      "test all pooling\n",
      "Processing dataset/train/train_1742/train_1742_c/train_1742_c_1.nii.gz...\n"
     ]
    },
    {
     "data": {
      "application/vnd.jupyter.widget-view+json": {
       "model_id": "8510c8e0347c45ac9e53c991e1dba357",
       "version_major": 2,
       "version_minor": 0
      },
      "text/plain": [
       "dataset/train/train_1742/train_1742_c/tr(…):   0%|          | 0.00/457M [00:00<?, ?B/s]"
      ]
     },
     "metadata": {},
     "output_type": "display_data"
    },
    {
     "name": "stdout",
     "output_type": "stream",
     "text": [
      "test all pooling\n",
      "Processing dataset/train/train_17459/train_17459_a/train_17459_a_1.nii.gz...\n"
     ]
    },
    {
     "data": {
      "application/vnd.jupyter.widget-view+json": {
       "model_id": "c0275059342d4594a80648d1763c6497",
       "version_major": 2,
       "version_minor": 0
      },
      "text/plain": [
       "dataset/train/train_17459/train_17459_a/(…):   0%|          | 0.00/478M [00:00<?, ?B/s]"
      ]
     },
     "metadata": {},
     "output_type": "display_data"
    },
    {
     "name": "stdout",
     "output_type": "stream",
     "text": [
      "test all pooling\n",
      "Processing dataset/train/train_1746/train_1746_a/train_1746_a_1.nii.gz...\n"
     ]
    },
    {
     "data": {
      "application/vnd.jupyter.widget-view+json": {
       "model_id": "bf590cdc1d3c4b318d5575fda2ad6564",
       "version_major": 2,
       "version_minor": 0
      },
      "text/plain": [
       "dataset/train/train_1746/train_1746_a/tr(…):   0%|          | 0.00/101M [00:00<?, ?B/s]"
      ]
     },
     "metadata": {},
     "output_type": "display_data"
    },
    {
     "name": "stdout",
     "output_type": "stream",
     "text": [
      "test all pooling\n",
      "Processing dataset/train/train_17507/train_17507_a/train_17507_a_1.nii.gz...\n"
     ]
    },
    {
     "data": {
      "application/vnd.jupyter.widget-view+json": {
       "model_id": "09610837c38d44329ef72c12c9498d66",
       "version_major": 2,
       "version_minor": 0
      },
      "text/plain": [
       "dataset/train/train_17507/train_17507_a/(…):   0%|          | 0.00/122M [00:00<?, ?B/s]"
      ]
     },
     "metadata": {},
     "output_type": "display_data"
    },
    {
     "name": "stdout",
     "output_type": "stream",
     "text": [
      "test all pooling\n",
      "Processing dataset/train/train_17508/train_17508_a/train_17508_a_1.nii.gz...\n"
     ]
    },
    {
     "data": {
      "application/vnd.jupyter.widget-view+json": {
       "model_id": "b4d5e10a56eb4ed7ae3a13999392f0f6",
       "version_major": 2,
       "version_minor": 0
      },
      "text/plain": [
       "dataset/train/train_17508/train_17508_a/(…):   0%|          | 0.00/480M [00:00<?, ?B/s]"
      ]
     },
     "metadata": {},
     "output_type": "display_data"
    },
    {
     "name": "stdout",
     "output_type": "stream",
     "text": [
      "test all pooling\n",
      "Processing dataset/train/train_17531/train_17531_a/train_17531_a_5.nii.gz...\n"
     ]
    },
    {
     "data": {
      "application/vnd.jupyter.widget-view+json": {
       "model_id": "277fbad2b1e540558be0b68b4d18a10e",
       "version_major": 2,
       "version_minor": 0
      },
      "text/plain": [
       "dataset/train/train_17531/train_17531_a/(…):   0%|          | 0.00/212M [00:00<?, ?B/s]"
      ]
     },
     "metadata": {},
     "output_type": "display_data"
    },
    {
     "name": "stdout",
     "output_type": "stream",
     "text": [
      "test all pooling\n",
      "Processing dataset/train/train_17534/train_17534_a/train_17534_a_1.nii.gz...\n"
     ]
    },
    {
     "data": {
      "application/vnd.jupyter.widget-view+json": {
       "model_id": "6eec2828c6c54e14b0f28c4c0eae4d33",
       "version_major": 2,
       "version_minor": 0
      },
      "text/plain": [
       "dataset/train/train_17534/train_17534_a/(…):   0%|          | 0.00/106M [00:00<?, ?B/s]"
      ]
     },
     "metadata": {},
     "output_type": "display_data"
    },
    {
     "name": "stdout",
     "output_type": "stream",
     "text": [
      "test all pooling\n",
      "Processing dataset/train/train_1753/train_1753_e/train_1753_e_2.nii.gz...\n"
     ]
    },
    {
     "data": {
      "application/vnd.jupyter.widget-view+json": {
       "model_id": "be380a0d3b314d91a763c6e8350e5528",
       "version_major": 2,
       "version_minor": 0
      },
      "text/plain": [
       "dataset/train/train_1753/train_1753_e/tr(…):   0%|          | 0.00/120M [00:00<?, ?B/s]"
      ]
     },
     "metadata": {},
     "output_type": "display_data"
    },
    {
     "name": "stdout",
     "output_type": "stream",
     "text": [
      "test all pooling\n",
      "Processing dataset/train/train_17553/train_17553_a/train_17553_a_1.nii.gz...\n"
     ]
    },
    {
     "data": {
      "application/vnd.jupyter.widget-view+json": {
       "model_id": "c67c5c09d674439d8f412fa1abfcad17",
       "version_major": 2,
       "version_minor": 0
      },
      "text/plain": [
       "dataset/train/train_17553/train_17553_a/(…):   0%|          | 0.00/107M [00:00<?, ?B/s]"
      ]
     },
     "metadata": {},
     "output_type": "display_data"
    },
    {
     "name": "stdout",
     "output_type": "stream",
     "text": [
      "test all pooling\n",
      "Processing dataset/train/train_17610/train_17610_a/train_17610_a_1.nii.gz...\n"
     ]
    },
    {
     "data": {
      "application/vnd.jupyter.widget-view+json": {
       "model_id": "29609462c26f487097d3813ebbcb4a52",
       "version_major": 2,
       "version_minor": 0
      },
      "text/plain": [
       "dataset/train/train_17610/train_17610_a/(…):   0%|          | 0.00/486M [00:00<?, ?B/s]"
      ]
     },
     "metadata": {},
     "output_type": "display_data"
    },
    {
     "name": "stdout",
     "output_type": "stream",
     "text": [
      "test all pooling\n",
      "Processing dataset/train/train_17634/train_17634_b/train_17634_b_1.nii.gz...\n"
     ]
    },
    {
     "data": {
      "application/vnd.jupyter.widget-view+json": {
       "model_id": "bf90c923f35b458a8efe19f808c16ec9",
       "version_major": 2,
       "version_minor": 0
      },
      "text/plain": [
       "dataset/train/train_17634/train_17634_b/(…):   0%|          | 0.00/115M [00:00<?, ?B/s]"
      ]
     },
     "metadata": {},
     "output_type": "display_data"
    },
    {
     "name": "stdout",
     "output_type": "stream",
     "text": [
      "test all pooling\n",
      "Processing dataset/train/train_17732/train_17732_b/train_17732_b_2.nii.gz...\n"
     ]
    },
    {
     "data": {
      "application/vnd.jupyter.widget-view+json": {
       "model_id": "9cb7445f3ea5462d9ab2699aaf56a68d",
       "version_major": 2,
       "version_minor": 0
      },
      "text/plain": [
       "dataset/train/train_17732/train_17732_b/(…):   0%|          | 0.00/174M [00:00<?, ?B/s]"
      ]
     },
     "metadata": {},
     "output_type": "display_data"
    },
    {
     "name": "stdout",
     "output_type": "stream",
     "text": [
      "test all pooling\n",
      "Processing dataset/train/train_17737/train_17737_a/train_17737_a_2.nii.gz...\n"
     ]
    },
    {
     "data": {
      "application/vnd.jupyter.widget-view+json": {
       "model_id": "44162c2aebf245d38d4c91611f2d3773",
       "version_major": 2,
       "version_minor": 0
      },
      "text/plain": [
       "dataset/train/train_17737/train_17737_a/(…):   0%|          | 0.00/164M [00:00<?, ?B/s]"
      ]
     },
     "metadata": {},
     "output_type": "display_data"
    },
    {
     "name": "stdout",
     "output_type": "stream",
     "text": [
      "test all pooling\n",
      "Processing dataset/train/train_17750/train_17750_a/train_17750_a_2.nii.gz...\n"
     ]
    },
    {
     "data": {
      "application/vnd.jupyter.widget-view+json": {
       "model_id": "0a130e1e97a946e2bd2df1499a53ed32",
       "version_major": 2,
       "version_minor": 0
      },
      "text/plain": [
       "dataset/train/train_17750/train_17750_a/(…):   0%|          | 0.00/202M [00:00<?, ?B/s]"
      ]
     },
     "metadata": {},
     "output_type": "display_data"
    },
    {
     "name": "stdout",
     "output_type": "stream",
     "text": [
      "test all pooling\n",
      "Processing dataset/train/train_17786/train_17786_a/train_17786_a_2.nii.gz...\n"
     ]
    },
    {
     "data": {
      "application/vnd.jupyter.widget-view+json": {
       "model_id": "7715f807228b4d62919b122655dbbe08",
       "version_major": 2,
       "version_minor": 0
      },
      "text/plain": [
       "dataset/train/train_17786/train_17786_a/(…):   0%|          | 0.00/215M [00:00<?, ?B/s]"
      ]
     },
     "metadata": {},
     "output_type": "display_data"
    },
    {
     "name": "stdout",
     "output_type": "stream",
     "text": [
      "test all pooling\n",
      "Processing dataset/train/train_17828/train_17828_a/train_17828_a_2.nii.gz...\n"
     ]
    },
    {
     "data": {
      "application/vnd.jupyter.widget-view+json": {
       "model_id": "4ac82ec7661f432d971ca24d430866c3",
       "version_major": 2,
       "version_minor": 0
      },
      "text/plain": [
       "dataset/train/train_17828/train_17828_a/(…):   0%|          | 0.00/230M [00:00<?, ?B/s]"
      ]
     },
     "metadata": {},
     "output_type": "display_data"
    },
    {
     "name": "stdout",
     "output_type": "stream",
     "text": [
      "test all pooling\n",
      "Processing dataset/train/train_17835/train_17835_a/train_17835_a_2.nii.gz...\n"
     ]
    },
    {
     "data": {
      "application/vnd.jupyter.widget-view+json": {
       "model_id": "29d3383e1f64466ba0d64c4767bc73a9",
       "version_major": 2,
       "version_minor": 0
      },
      "text/plain": [
       "dataset/train/train_17835/train_17835_a/(…):   0%|          | 0.00/180M [00:00<?, ?B/s]"
      ]
     },
     "metadata": {},
     "output_type": "display_data"
    },
    {
     "name": "stdout",
     "output_type": "stream",
     "text": [
      "test all pooling\n",
      "Processing dataset/train/train_17877/train_17877_a/train_17877_a_1.nii.gz...\n"
     ]
    },
    {
     "data": {
      "application/vnd.jupyter.widget-view+json": {
       "model_id": "a3c7aa2bffcd4c10b4192b87d6a44471",
       "version_major": 2,
       "version_minor": 0
      },
      "text/plain": [
       "dataset/train/train_17877/train_17877_a/(…):   0%|          | 0.00/495M [00:00<?, ?B/s]"
      ]
     },
     "metadata": {},
     "output_type": "display_data"
    },
    {
     "name": "stdout",
     "output_type": "stream",
     "text": [
      "test all pooling\n",
      "Processing dataset/train/train_18010/train_18010_a/train_18010_a_2.nii.gz...\n"
     ]
    },
    {
     "data": {
      "application/vnd.jupyter.widget-view+json": {
       "model_id": "9b8d28d8033d4ea897ef7ca269d2ac7d",
       "version_major": 2,
       "version_minor": 0
      },
      "text/plain": [
       "dataset/train/train_18010/train_18010_a/(…):   0%|          | 0.00/220M [00:00<?, ?B/s]"
      ]
     },
     "metadata": {},
     "output_type": "display_data"
    },
    {
     "name": "stdout",
     "output_type": "stream",
     "text": [
      "test all pooling\n",
      "Processing dataset/train/train_18016/train_18016_a/train_18016_a_1.nii.gz...\n"
     ]
    },
    {
     "data": {
      "application/vnd.jupyter.widget-view+json": {
       "model_id": "aa29313865694ba3bfb4fdbf59187a32",
       "version_major": 2,
       "version_minor": 0
      },
      "text/plain": [
       "dataset/train/train_18016/train_18016_a/(…):   0%|          | 0.00/466M [00:00<?, ?B/s]"
      ]
     },
     "metadata": {},
     "output_type": "display_data"
    },
    {
     "name": "stdout",
     "output_type": "stream",
     "text": [
      "test all pooling\n",
      "Processing dataset/train/train_18059/train_18059_a/train_18059_a_2.nii.gz...\n"
     ]
    },
    {
     "data": {
      "application/vnd.jupyter.widget-view+json": {
       "model_id": "3961b1e468d54c7d94d1f6a718c70d58",
       "version_major": 2,
       "version_minor": 0
      },
      "text/plain": [
       "dataset/train/train_18059/train_18059_a/(…):   0%|          | 0.00/243M [00:00<?, ?B/s]"
      ]
     },
     "metadata": {},
     "output_type": "display_data"
    },
    {
     "name": "stdout",
     "output_type": "stream",
     "text": [
      "test all pooling\n",
      "Processing dataset/train/train_18062/train_18062_a/train_18062_a_2.nii.gz...\n"
     ]
    },
    {
     "data": {
      "application/vnd.jupyter.widget-view+json": {
       "model_id": "7e6e750f674e4e9f8b30bb4aec977043",
       "version_major": 2,
       "version_minor": 0
      },
      "text/plain": [
       "dataset/train/train_18062/train_18062_a/(…):   0%|          | 0.00/234M [00:00<?, ?B/s]"
      ]
     },
     "metadata": {},
     "output_type": "display_data"
    },
    {
     "name": "stdout",
     "output_type": "stream",
     "text": [
      "test all pooling\n",
      "Processing dataset/train/train_18084/train_18084_a/train_18084_a_2.nii.gz...\n"
     ]
    },
    {
     "data": {
      "application/vnd.jupyter.widget-view+json": {
       "model_id": "b1b9c01ef2ce44088b06b8a2a3968927",
       "version_major": 2,
       "version_minor": 0
      },
      "text/plain": [
       "dataset/train/train_18084/train_18084_a/(…):   0%|          | 0.00/181M [00:00<?, ?B/s]"
      ]
     },
     "metadata": {},
     "output_type": "display_data"
    },
    {
     "name": "stdout",
     "output_type": "stream",
     "text": [
      "test all pooling\n",
      "Processing dataset/train/train_18119/train_18119_a/train_18119_a_1.nii.gz...\n"
     ]
    },
    {
     "data": {
      "application/vnd.jupyter.widget-view+json": {
       "model_id": "3eabe81bc52b4b0ea9ae987f1df3af7e",
       "version_major": 2,
       "version_minor": 0
      },
      "text/plain": [
       "dataset/train/train_18119/train_18119_a/(…):   0%|          | 0.00/544M [00:00<?, ?B/s]"
      ]
     },
     "metadata": {},
     "output_type": "display_data"
    },
    {
     "name": "stdout",
     "output_type": "stream",
     "text": [
      "test all pooling\n",
      "Processing dataset/train/train_18130/train_18130_b/train_18130_b_2.nii.gz...\n"
     ]
    },
    {
     "data": {
      "application/vnd.jupyter.widget-view+json": {
       "model_id": "029fa41e8e4140c085431115ff1fd201",
       "version_major": 2,
       "version_minor": 0
      },
      "text/plain": [
       "dataset/train/train_18130/train_18130_b/(…):   0%|          | 0.00/115M [00:00<?, ?B/s]"
      ]
     },
     "metadata": {},
     "output_type": "display_data"
    },
    {
     "name": "stdout",
     "output_type": "stream",
     "text": [
      "test all pooling\n",
      "Processing dataset/train/train_18136/train_18136_a/train_18136_a_2.nii.gz...\n"
     ]
    },
    {
     "data": {
      "application/vnd.jupyter.widget-view+json": {
       "model_id": "afd24697972f4961b7b9e53282d2a7cc",
       "version_major": 2,
       "version_minor": 0
      },
      "text/plain": [
       "dataset/train/train_18136/train_18136_a/(…):   0%|          | 0.00/207M [00:00<?, ?B/s]"
      ]
     },
     "metadata": {},
     "output_type": "display_data"
    },
    {
     "name": "stdout",
     "output_type": "stream",
     "text": [
      "test all pooling\n",
      "Processing dataset/train/train_18207/train_18207_b/train_18207_b_2.nii.gz...\n"
     ]
    },
    {
     "data": {
      "application/vnd.jupyter.widget-view+json": {
       "model_id": "585cc44fa22c45bf87a0bc2898812822",
       "version_major": 2,
       "version_minor": 0
      },
      "text/plain": [
       "dataset/train/train_18207/train_18207_b/(…):   0%|          | 0.00/119M [00:00<?, ?B/s]"
      ]
     },
     "metadata": {},
     "output_type": "display_data"
    },
    {
     "name": "stdout",
     "output_type": "stream",
     "text": [
      "test all pooling\n",
      "Processing dataset/train/train_18250/train_18250_a/train_18250_a_2.nii.gz...\n"
     ]
    },
    {
     "data": {
      "application/vnd.jupyter.widget-view+json": {
       "model_id": "1ceece6bca634005b8b9a09eeef13188",
       "version_major": 2,
       "version_minor": 0
      },
      "text/plain": [
       "dataset/train/train_18250/train_18250_a/(…):   0%|          | 0.00/179M [00:00<?, ?B/s]"
      ]
     },
     "metadata": {},
     "output_type": "display_data"
    },
    {
     "name": "stdout",
     "output_type": "stream",
     "text": [
      "test all pooling\n",
      "Processing dataset/train/train_18267/train_18267_b/train_18267_b_2.nii.gz...\n"
     ]
    },
    {
     "data": {
      "application/vnd.jupyter.widget-view+json": {
       "model_id": "b57e7a2dcd1e4f0da646dc1eb443d131",
       "version_major": 2,
       "version_minor": 0
      },
      "text/plain": [
       "dataset/train/train_18267/train_18267_b/(…):   0%|          | 0.00/129M [00:00<?, ?B/s]"
      ]
     },
     "metadata": {},
     "output_type": "display_data"
    },
    {
     "name": "stdout",
     "output_type": "stream",
     "text": [
      "test all pooling\n",
      "Processing dataset/train/train_18312/train_18312_d/train_18312_d_2.nii.gz...\n"
     ]
    },
    {
     "data": {
      "application/vnd.jupyter.widget-view+json": {
       "model_id": "270aa2e0fbe04d1793c13b184b77d0cb",
       "version_major": 2,
       "version_minor": 0
      },
      "text/plain": [
       "dataset/train/train_18312/train_18312_d/(…):   0%|          | 0.00/174M [00:00<?, ?B/s]"
      ]
     },
     "metadata": {},
     "output_type": "display_data"
    },
    {
     "name": "stdout",
     "output_type": "stream",
     "text": [
      "test all pooling\n",
      "Processing dataset/train/train_18452/train_18452_a/train_18452_a_1.nii.gz...\n"
     ]
    },
    {
     "data": {
      "application/vnd.jupyter.widget-view+json": {
       "model_id": "ed37fdea3773475282041e8e6d318352",
       "version_major": 2,
       "version_minor": 0
      },
      "text/plain": [
       "dataset/train/train_18452/train_18452_a/(…):   0%|          | 0.00/123M [00:00<?, ?B/s]"
      ]
     },
     "metadata": {},
     "output_type": "display_data"
    },
    {
     "name": "stdout",
     "output_type": "stream",
     "text": [
      "test all pooling\n",
      "Processing dataset/train/train_1845/train_1845_a/train_1845_a_5.nii.gz...\n"
     ]
    },
    {
     "data": {
      "application/vnd.jupyter.widget-view+json": {
       "model_id": "adbd4b6d28b24d72bd7bf15242fca3ae",
       "version_major": 2,
       "version_minor": 0
      },
      "text/plain": [
       "dataset/train/train_1845/train_1845_a/tr(…):   0%|          | 0.00/179M [00:00<?, ?B/s]"
      ]
     },
     "metadata": {},
     "output_type": "display_data"
    },
    {
     "name": "stdout",
     "output_type": "stream",
     "text": [
      "test all pooling\n",
      "Processing dataset/train/train_1845/train_1845_b/train_1845_b_1.nii.gz...\n"
     ]
    },
    {
     "data": {
      "application/vnd.jupyter.widget-view+json": {
       "model_id": "4544dfe4e93b4c36944c5f2d3c88c9a2",
       "version_major": 2,
       "version_minor": 0
      },
      "text/plain": [
       "dataset/train/train_1845/train_1845_b/tr(…):   0%|          | 0.00/495M [00:00<?, ?B/s]"
      ]
     },
     "metadata": {},
     "output_type": "display_data"
    },
    {
     "name": "stdout",
     "output_type": "stream",
     "text": [
      "test all pooling\n",
      "Processing dataset/train/train_1845/train_1845_c/train_1845_c_2.nii.gz...\n"
     ]
    },
    {
     "data": {
      "application/vnd.jupyter.widget-view+json": {
       "model_id": "78faf145ae44461f84c083c51d779107",
       "version_major": 2,
       "version_minor": 0
      },
      "text/plain": [
       "dataset/train/train_1845/train_1845_c/tr(…):   0%|          | 0.00/205M [00:00<?, ?B/s]"
      ]
     },
     "metadata": {},
     "output_type": "display_data"
    },
    {
     "name": "stdout",
     "output_type": "stream",
     "text": [
      "test all pooling\n",
      "Processing dataset/train/train_18465/train_18465_b/train_18465_b_2.nii.gz...\n"
     ]
    },
    {
     "data": {
      "application/vnd.jupyter.widget-view+json": {
       "model_id": "e172639e88a14e4f822ca3090e7e5550",
       "version_major": 2,
       "version_minor": 0
      },
      "text/plain": [
       "dataset/train/train_18465/train_18465_b/(…):   0%|          | 0.00/186M [00:00<?, ?B/s]"
      ]
     },
     "metadata": {},
     "output_type": "display_data"
    },
    {
     "name": "stdout",
     "output_type": "stream",
     "text": [
      "test all pooling\n",
      "Processing dataset/train/train_18469/train_18469_a/train_18469_a_2.nii.gz...\n"
     ]
    },
    {
     "data": {
      "application/vnd.jupyter.widget-view+json": {
       "model_id": "239f7a2728cc493896f6ec19123a125d",
       "version_major": 2,
       "version_minor": 0
      },
      "text/plain": [
       "dataset/train/train_18469/train_18469_a/(…):   0%|          | 0.00/126M [00:00<?, ?B/s]"
      ]
     },
     "metadata": {},
     "output_type": "display_data"
    },
    {
     "name": "stdout",
     "output_type": "stream",
     "text": [
      "test all pooling\n",
      "Processing dataset/train/train_18470/train_18470_a/train_18470_a_1.nii.gz...\n"
     ]
    },
    {
     "data": {
      "application/vnd.jupyter.widget-view+json": {
       "model_id": "1c4d74654fa442488d4e692a1cdc8abb",
       "version_major": 2,
       "version_minor": 0
      },
      "text/plain": [
       "dataset/train/train_18470/train_18470_a/(…):   0%|          | 0.00/152M [00:00<?, ?B/s]"
      ]
     },
     "metadata": {},
     "output_type": "display_data"
    },
    {
     "name": "stdout",
     "output_type": "stream",
     "text": [
      "test all pooling\n",
      "Processing dataset/train/train_1847/train_1847_a/train_1847_a_1.nii.gz...\n"
     ]
    },
    {
     "data": {
      "application/vnd.jupyter.widget-view+json": {
       "model_id": "016cb6967cf74affafc30a1ed8840e26",
       "version_major": 2,
       "version_minor": 0
      },
      "text/plain": [
       "dataset/train/train_1847/train_1847_a/tr(…):   0%|          | 0.00/536M [00:00<?, ?B/s]"
      ]
     },
     "metadata": {},
     "output_type": "display_data"
    },
    {
     "name": "stdout",
     "output_type": "stream",
     "text": [
      "test all pooling\n",
      "Processing dataset/train/train_18625/train_18625_a/train_18625_a_1.nii.gz...\n"
     ]
    },
    {
     "data": {
      "application/vnd.jupyter.widget-view+json": {
       "model_id": "4e10ef66bfc6475cbc210746595e183e",
       "version_major": 2,
       "version_minor": 0
      },
      "text/plain": [
       "dataset/train/train_18625/train_18625_a/(…):   0%|          | 0.00/97.3M [00:00<?, ?B/s]"
      ]
     },
     "metadata": {},
     "output_type": "display_data"
    },
    {
     "name": "stdout",
     "output_type": "stream",
     "text": [
      "test all pooling\n",
      "Processing dataset/train/train_18663/train_18663_a/train_18663_a_2.nii.gz...\n"
     ]
    },
    {
     "data": {
      "application/vnd.jupyter.widget-view+json": {
       "model_id": "1bad98abb9ec4654a403d27c3c4db4b7",
       "version_major": 2,
       "version_minor": 0
      },
      "text/plain": [
       "dataset/train/train_18663/train_18663_a/(…):   0%|          | 0.00/116M [00:00<?, ?B/s]"
      ]
     },
     "metadata": {},
     "output_type": "display_data"
    },
    {
     "name": "stdout",
     "output_type": "stream",
     "text": [
      "test all pooling\n",
      "Processing dataset/train/train_18668/train_18668_a/train_18668_a_2.nii.gz...\n"
     ]
    },
    {
     "data": {
      "application/vnd.jupyter.widget-view+json": {
       "model_id": "6afef4b546b649dfa0e22a6b9d79b58b",
       "version_major": 2,
       "version_minor": 0
      },
      "text/plain": [
       "dataset/train/train_18668/train_18668_a/(…):   0%|          | 0.00/205M [00:00<?, ?B/s]"
      ]
     },
     "metadata": {},
     "output_type": "display_data"
    },
    {
     "name": "stdout",
     "output_type": "stream",
     "text": [
      "test all pooling\n",
      "Processing dataset/train/train_18678/train_18678_a/train_18678_a_2.nii.gz...\n"
     ]
    },
    {
     "data": {
      "application/vnd.jupyter.widget-view+json": {
       "model_id": "b60cfdb88b384a599d1cdc862ea65616",
       "version_major": 2,
       "version_minor": 0
      },
      "text/plain": [
       "dataset/train/train_18678/train_18678_a/(…):   0%|          | 0.00/231M [00:00<?, ?B/s]"
      ]
     },
     "metadata": {},
     "output_type": "display_data"
    },
    {
     "name": "stdout",
     "output_type": "stream",
     "text": [
      "test all pooling\n",
      "Processing dataset/train/train_18744/train_18744_a/train_18744_a_1.nii.gz...\n"
     ]
    },
    {
     "data": {
      "application/vnd.jupyter.widget-view+json": {
       "model_id": "9e42d29933e441a6b9735df1099f5d08",
       "version_major": 2,
       "version_minor": 0
      },
      "text/plain": [
       "dataset/train/train_18744/train_18744_a/(…):   0%|          | 0.00/430M [00:00<?, ?B/s]"
      ]
     },
     "metadata": {},
     "output_type": "display_data"
    },
    {
     "name": "stdout",
     "output_type": "stream",
     "text": [
      "test all pooling\n",
      "Processing dataset/train/train_18838/train_18838_b/train_18838_b_2.nii.gz...\n"
     ]
    },
    {
     "data": {
      "application/vnd.jupyter.widget-view+json": {
       "model_id": "149d8c4b3c594b078bc4062f85dcf0af",
       "version_major": 2,
       "version_minor": 0
      },
      "text/plain": [
       "dataset/train/train_18838/train_18838_b/(…):   0%|          | 0.00/122M [00:00<?, ?B/s]"
      ]
     },
     "metadata": {},
     "output_type": "display_data"
    },
    {
     "name": "stdout",
     "output_type": "stream",
     "text": [
      "test all pooling\n",
      "Processing dataset/train/train_18877/train_18877_a/train_18877_a_1.nii.gz...\n"
     ]
    },
    {
     "data": {
      "application/vnd.jupyter.widget-view+json": {
       "model_id": "deb92694aabf4a8cb8c2a77e78eee4b5",
       "version_major": 2,
       "version_minor": 0
      },
      "text/plain": [
       "dataset/train/train_18877/train_18877_a/(…):   0%|          | 0.00/115M [00:00<?, ?B/s]"
      ]
     },
     "metadata": {},
     "output_type": "display_data"
    },
    {
     "name": "stdout",
     "output_type": "stream",
     "text": [
      "test all pooling\n",
      "Processing dataset/train/train_18983/train_18983_b/train_18983_b_1.nii.gz...\n"
     ]
    },
    {
     "data": {
      "application/vnd.jupyter.widget-view+json": {
       "model_id": "107d855ea8f14a1e9fcc70cc3256f9cd",
       "version_major": 2,
       "version_minor": 0
      },
      "text/plain": [
       "dataset/train/train_18983/train_18983_b/(…):   0%|          | 0.00/134M [00:00<?, ?B/s]"
      ]
     },
     "metadata": {},
     "output_type": "display_data"
    },
    {
     "name": "stdout",
     "output_type": "stream",
     "text": [
      "test all pooling\n",
      "Processing dataset/train/train_19015/train_19015_b/train_19015_b_2.nii.gz...\n"
     ]
    },
    {
     "data": {
      "application/vnd.jupyter.widget-view+json": {
       "model_id": "e43431a7dce14f64baf2e3338a067b0c",
       "version_major": 2,
       "version_minor": 0
      },
      "text/plain": [
       "dataset/train/train_19015/train_19015_b/(…):   0%|          | 0.00/162M [00:00<?, ?B/s]"
      ]
     },
     "metadata": {},
     "output_type": "display_data"
    },
    {
     "name": "stdout",
     "output_type": "stream",
     "text": [
      "test all pooling\n",
      "Processing dataset/train/train_19041/train_19041_a/train_19041_a_2.nii.gz...\n"
     ]
    },
    {
     "data": {
      "application/vnd.jupyter.widget-view+json": {
       "model_id": "ed5ee987b68a441d8d8c8cad980094e9",
       "version_major": 2,
       "version_minor": 0
      },
      "text/plain": [
       "dataset/train/train_19041/train_19041_a/(…):   0%|          | 0.00/215M [00:00<?, ?B/s]"
      ]
     },
     "metadata": {},
     "output_type": "display_data"
    },
    {
     "name": "stdout",
     "output_type": "stream",
     "text": [
      "test all pooling\n",
      "Processing dataset/train/train_19061/train_19061_a/train_19061_a_1.nii.gz...\n"
     ]
    },
    {
     "data": {
      "application/vnd.jupyter.widget-view+json": {
       "model_id": "9df2da1725f042e88b43220d206eb54a",
       "version_major": 2,
       "version_minor": 0
      },
      "text/plain": [
       "dataset/train/train_19061/train_19061_a/(…):   0%|          | 0.00/514M [00:00<?, ?B/s]"
      ]
     },
     "metadata": {},
     "output_type": "display_data"
    },
    {
     "name": "stdout",
     "output_type": "stream",
     "text": [
      "test all pooling\n",
      "Processing dataset/train/train_19070/train_19070_a/train_19070_a_1.nii.gz...\n"
     ]
    },
    {
     "data": {
      "application/vnd.jupyter.widget-view+json": {
       "model_id": "d93fbf950ca649f9b4e2328cfe5fd379",
       "version_major": 2,
       "version_minor": 0
      },
      "text/plain": [
       "dataset/train/train_19070/train_19070_a/(…):   0%|          | 0.00/566M [00:00<?, ?B/s]"
      ]
     },
     "metadata": {},
     "output_type": "display_data"
    },
    {
     "name": "stdout",
     "output_type": "stream",
     "text": [
      "test all pooling\n",
      "Processing dataset/train/train_19088/train_19088_d/train_19088_d_2.nii.gz...\n"
     ]
    },
    {
     "data": {
      "application/vnd.jupyter.widget-view+json": {
       "model_id": "b6add5985f37471aaf6d748a3778675b",
       "version_major": 2,
       "version_minor": 0
      },
      "text/plain": [
       "dataset/train/train_19088/train_19088_d/(…):   0%|          | 0.00/151M [00:00<?, ?B/s]"
      ]
     },
     "metadata": {},
     "output_type": "display_data"
    },
    {
     "name": "stdout",
     "output_type": "stream",
     "text": [
      "test all pooling\n",
      "Processing dataset/train/train_19105/train_19105_b/train_19105_b_2.nii.gz...\n"
     ]
    },
    {
     "data": {
      "application/vnd.jupyter.widget-view+json": {
       "model_id": "8fb35b9b44764e638fa5434d308aa216",
       "version_major": 2,
       "version_minor": 0
      },
      "text/plain": [
       "dataset/train/train_19105/train_19105_b/(…):   0%|          | 0.00/233M [00:00<?, ?B/s]"
      ]
     },
     "metadata": {},
     "output_type": "display_data"
    },
    {
     "name": "stdout",
     "output_type": "stream",
     "text": [
      "test all pooling\n",
      "Processing dataset/train/train_19123/train_19123_a/train_19123_a_2.nii.gz...\n"
     ]
    },
    {
     "data": {
      "application/vnd.jupyter.widget-view+json": {
       "model_id": "1e1f6bde8cea4f7ea7f47c9633d1d9b6",
       "version_major": 2,
       "version_minor": 0
      },
      "text/plain": [
       "dataset/train/train_19123/train_19123_a/(…):   0%|          | 0.00/111M [00:00<?, ?B/s]"
      ]
     },
     "metadata": {},
     "output_type": "display_data"
    },
    {
     "name": "stdout",
     "output_type": "stream",
     "text": [
      "test all pooling\n",
      "Processing dataset/train/train_19214/train_19214_a/train_19214_a_2.nii.gz...\n"
     ]
    },
    {
     "data": {
      "application/vnd.jupyter.widget-view+json": {
       "model_id": "e025f9ab95dc4bdead09b805e502acac",
       "version_major": 2,
       "version_minor": 0
      },
      "text/plain": [
       "dataset/train/train_19214/train_19214_a/(…):   0%|          | 0.00/234M [00:00<?, ?B/s]"
      ]
     },
     "metadata": {},
     "output_type": "display_data"
    },
    {
     "name": "stdout",
     "output_type": "stream",
     "text": [
      "test all pooling\n",
      "Processing dataset/train/train_19220/train_19220_a/train_19220_a_2.nii.gz...\n"
     ]
    },
    {
     "data": {
      "application/vnd.jupyter.widget-view+json": {
       "model_id": "5b8f83873cba4d22b142b12c00bdfea3",
       "version_major": 2,
       "version_minor": 0
      },
      "text/plain": [
       "dataset/train/train_19220/train_19220_a/(…):   0%|          | 0.00/46.9M [00:00<?, ?B/s]"
      ]
     },
     "metadata": {},
     "output_type": "display_data"
    },
    {
     "name": "stdout",
     "output_type": "stream",
     "text": [
      "test all pooling\n",
      "Processing dataset/train/train_19230/train_19230_a/train_19230_a_1.nii.gz...\n"
     ]
    },
    {
     "data": {
      "application/vnd.jupyter.widget-view+json": {
       "model_id": "953aa1a193714c82b77c6db877313c6c",
       "version_major": 2,
       "version_minor": 0
      },
      "text/plain": [
       "dataset/train/train_19230/train_19230_a/(…):   0%|          | 0.00/304M [00:00<?, ?B/s]"
      ]
     },
     "metadata": {},
     "output_type": "display_data"
    },
    {
     "name": "stdout",
     "output_type": "stream",
     "text": [
      "test all pooling\n",
      "Processing dataset/train/train_19244/train_19244_c/train_19244_c_1.nii.gz...\n"
     ]
    },
    {
     "data": {
      "application/vnd.jupyter.widget-view+json": {
       "model_id": "cd552be329ec4721b5784ae0a01acdd2",
       "version_major": 2,
       "version_minor": 0
      },
      "text/plain": [
       "dataset/train/train_19244/train_19244_c/(…):   0%|          | 0.00/108M [00:00<?, ?B/s]"
      ]
     },
     "metadata": {},
     "output_type": "display_data"
    },
    {
     "name": "stdout",
     "output_type": "stream",
     "text": [
      "test all pooling\n",
      "Processing dataset/train/train_19263/train_19263_a/train_19263_a_2.nii.gz...\n"
     ]
    },
    {
     "data": {
      "application/vnd.jupyter.widget-view+json": {
       "model_id": "ea796465b5844a89966d94fb4af16ae1",
       "version_major": 2,
       "version_minor": 0
      },
      "text/plain": [
       "dataset/train/train_19263/train_19263_a/(…):   0%|          | 0.00/208M [00:00<?, ?B/s]"
      ]
     },
     "metadata": {},
     "output_type": "display_data"
    },
    {
     "name": "stdout",
     "output_type": "stream",
     "text": [
      "test all pooling\n",
      "Processing dataset/train/train_19269/train_19269_a/train_19269_a_2.nii.gz...\n"
     ]
    },
    {
     "data": {
      "application/vnd.jupyter.widget-view+json": {
       "model_id": "171bcaee943449458806fb289b398650",
       "version_major": 2,
       "version_minor": 0
      },
      "text/plain": [
       "dataset/train/train_19269/train_19269_a/(…):   0%|          | 0.00/204M [00:00<?, ?B/s]"
      ]
     },
     "metadata": {},
     "output_type": "display_data"
    },
    {
     "name": "stdout",
     "output_type": "stream",
     "text": [
      "test all pooling\n",
      "Processing dataset/train/train_19283/train_19283_a/train_19283_a_2.nii.gz...\n"
     ]
    },
    {
     "data": {
      "application/vnd.jupyter.widget-view+json": {
       "model_id": "2e02741f3a6b4bb09bb3587af1d733c4",
       "version_major": 2,
       "version_minor": 0
      },
      "text/plain": [
       "dataset/train/train_19283/train_19283_a/(…):   0%|          | 0.00/118M [00:00<?, ?B/s]"
      ]
     },
     "metadata": {},
     "output_type": "display_data"
    },
    {
     "name": "stdout",
     "output_type": "stream",
     "text": [
      "test all pooling\n",
      "Processing dataset/train/train_19350/train_19350_a/train_19350_a_2.nii.gz...\n"
     ]
    },
    {
     "data": {
      "application/vnd.jupyter.widget-view+json": {
       "model_id": "8d1ef683b392479a9fb6adfdd3ed8481",
       "version_major": 2,
       "version_minor": 0
      },
      "text/plain": [
       "dataset/train/train_19350/train_19350_a/(…):   0%|          | 0.00/199M [00:00<?, ?B/s]"
      ]
     },
     "metadata": {},
     "output_type": "display_data"
    },
    {
     "name": "stdout",
     "output_type": "stream",
     "text": [
      "test all pooling\n",
      "Processing dataset/train/train_19379/train_19379_a/train_19379_a_2.nii.gz...\n"
     ]
    },
    {
     "data": {
      "application/vnd.jupyter.widget-view+json": {
       "model_id": "30cab5832caa41cfb5780355a27aa4bf",
       "version_major": 2,
       "version_minor": 0
      },
      "text/plain": [
       "dataset/train/train_19379/train_19379_a/(…):   0%|          | 0.00/223M [00:00<?, ?B/s]"
      ]
     },
     "metadata": {},
     "output_type": "display_data"
    },
    {
     "name": "stdout",
     "output_type": "stream",
     "text": [
      "test all pooling\n",
      "Processing dataset/train/train_19486/train_19486_a/train_19486_a_2.nii.gz...\n"
     ]
    },
    {
     "data": {
      "application/vnd.jupyter.widget-view+json": {
       "model_id": "250daa2ec89b49fda3b29d1444a60688",
       "version_major": 2,
       "version_minor": 0
      },
      "text/plain": [
       "dataset/train/train_19486/train_19486_a/(…):   0%|          | 0.00/212M [00:00<?, ?B/s]"
      ]
     },
     "metadata": {},
     "output_type": "display_data"
    },
    {
     "name": "stdout",
     "output_type": "stream",
     "text": [
      "test all pooling\n",
      "Processing dataset/train/train_19512/train_19512_a/train_19512_a_2.nii.gz...\n"
     ]
    },
    {
     "data": {
      "application/vnd.jupyter.widget-view+json": {
       "model_id": "2dabc03b470143f1a1da2dbb8cc58b14",
       "version_major": 2,
       "version_minor": 0
      },
      "text/plain": [
       "dataset/train/train_19512/train_19512_a/(…):   0%|          | 0.00/225M [00:00<?, ?B/s]"
      ]
     },
     "metadata": {},
     "output_type": "display_data"
    },
    {
     "name": "stdout",
     "output_type": "stream",
     "text": [
      "test all pooling\n",
      "Processing dataset/train/train_19551/train_19551_a/train_19551_a_1.nii.gz...\n"
     ]
    },
    {
     "data": {
      "application/vnd.jupyter.widget-view+json": {
       "model_id": "fadaf16f81f3436893656b4d11da344c",
       "version_major": 2,
       "version_minor": 0
      },
      "text/plain": [
       "dataset/train/train_19551/train_19551_a/(…):   0%|          | 0.00/136M [00:00<?, ?B/s]"
      ]
     },
     "metadata": {},
     "output_type": "display_data"
    },
    {
     "name": "stdout",
     "output_type": "stream",
     "text": [
      "test all pooling\n",
      "Processing dataset/train/train_19578/train_19578_a/train_19578_a_2.nii.gz...\n"
     ]
    },
    {
     "data": {
      "application/vnd.jupyter.widget-view+json": {
       "model_id": "81101829b4134f749b6076ddac7e5101",
       "version_major": 2,
       "version_minor": 0
      },
      "text/plain": [
       "dataset/train/train_19578/train_19578_a/(…):   0%|          | 0.00/144M [00:00<?, ?B/s]"
      ]
     },
     "metadata": {},
     "output_type": "display_data"
    },
    {
     "name": "stdout",
     "output_type": "stream",
     "text": [
      "test all pooling\n",
      "Processing dataset/train/train_19640/train_19640_a/train_19640_a_1.nii.gz...\n"
     ]
    },
    {
     "data": {
      "application/vnd.jupyter.widget-view+json": {
       "model_id": "19ef2a394aad4d4490d0d9a7f59f516a",
       "version_major": 2,
       "version_minor": 0
      },
      "text/plain": [
       "dataset/train/train_19640/train_19640_a/(…):   0%|          | 0.00/63.2M [00:00<?, ?B/s]"
      ]
     },
     "metadata": {},
     "output_type": "display_data"
    },
    {
     "name": "stdout",
     "output_type": "stream",
     "text": [
      "test all pooling\n",
      "Processing dataset/train/train_19695/train_19695_a/train_19695_a_2.nii.gz...\n"
     ]
    },
    {
     "data": {
      "application/vnd.jupyter.widget-view+json": {
       "model_id": "2f93aa7a8fef4aa7bc4b46f0e4bebcbf",
       "version_major": 2,
       "version_minor": 0
      },
      "text/plain": [
       "dataset/train/train_19695/train_19695_a/(…):   0%|          | 0.00/211M [00:00<?, ?B/s]"
      ]
     },
     "metadata": {},
     "output_type": "display_data"
    },
    {
     "name": "stdout",
     "output_type": "stream",
     "text": [
      "test all pooling\n",
      "Processing dataset/train/train_19695/train_19695_c/train_19695_c_1.nii.gz...\n"
     ]
    },
    {
     "data": {
      "application/vnd.jupyter.widget-view+json": {
       "model_id": "a47d0e2ef896407e870ff5f884e3df3e",
       "version_major": 2,
       "version_minor": 0
      },
      "text/plain": [
       "dataset/train/train_19695/train_19695_c/(…):   0%|          | 0.00/143M [00:00<?, ?B/s]"
      ]
     },
     "metadata": {},
     "output_type": "display_data"
    },
    {
     "name": "stdout",
     "output_type": "stream",
     "text": [
      "test all pooling\n",
      "Processing dataset/train/train_19695/train_19695_d/train_19695_d_1.nii.gz...\n"
     ]
    },
    {
     "data": {
      "application/vnd.jupyter.widget-view+json": {
       "model_id": "04ebaf2995b24431ae6d197f736cf700",
       "version_major": 2,
       "version_minor": 0
      },
      "text/plain": [
       "dataset/train/train_19695/train_19695_d/(…):   0%|          | 0.00/141M [00:00<?, ?B/s]"
      ]
     },
     "metadata": {},
     "output_type": "display_data"
    },
    {
     "name": "stdout",
     "output_type": "stream",
     "text": [
      "test all pooling\n",
      "Processing dataset/train/train_1969/train_1969_a/train_1969_a_1.nii.gz...\n"
     ]
    },
    {
     "data": {
      "application/vnd.jupyter.widget-view+json": {
       "model_id": "3b941bb38d3849f7830d7ddc71fc5fd3",
       "version_major": 2,
       "version_minor": 0
      },
      "text/plain": [
       "dataset/train/train_1969/train_1969_a/tr(…):   0%|          | 0.00/426M [00:00<?, ?B/s]"
      ]
     },
     "metadata": {},
     "output_type": "display_data"
    },
    {
     "name": "stdout",
     "output_type": "stream",
     "text": [
      "test all pooling\n",
      "Processing dataset/train/train_19819/train_19819_a/train_19819_a_2.nii.gz...\n"
     ]
    },
    {
     "data": {
      "application/vnd.jupyter.widget-view+json": {
       "model_id": "148dd3860bc74d689b54e2fdc5b72f04",
       "version_major": 2,
       "version_minor": 0
      },
      "text/plain": [
       "dataset/train/train_19819/train_19819_a/(…):   0%|          | 0.00/208M [00:00<?, ?B/s]"
      ]
     },
     "metadata": {},
     "output_type": "display_data"
    },
    {
     "name": "stdout",
     "output_type": "stream",
     "text": [
      "test all pooling\n",
      "Processing dataset/train/train_19844/train_19844_a/train_19844_a_2.nii.gz...\n"
     ]
    },
    {
     "data": {
      "application/vnd.jupyter.widget-view+json": {
       "model_id": "818ce21be5d24ece92782f5602f7bccd",
       "version_major": 2,
       "version_minor": 0
      },
      "text/plain": [
       "dataset/train/train_19844/train_19844_a/(…):   0%|          | 0.00/179M [00:00<?, ?B/s]"
      ]
     },
     "metadata": {},
     "output_type": "display_data"
    },
    {
     "name": "stdout",
     "output_type": "stream",
     "text": [
      "test all pooling\n",
      "Processing dataset/train/train_19845/train_19845_a/train_19845_a_2.nii.gz...\n"
     ]
    },
    {
     "data": {
      "application/vnd.jupyter.widget-view+json": {
       "model_id": "6aa3389e7dae4e599227a9fc4f4f4e0e",
       "version_major": 2,
       "version_minor": 0
      },
      "text/plain": [
       "dataset/train/train_19845/train_19845_a/(…):   0%|          | 0.00/114M [00:00<?, ?B/s]"
      ]
     },
     "metadata": {},
     "output_type": "display_data"
    },
    {
     "name": "stdout",
     "output_type": "stream",
     "text": [
      "test all pooling\n",
      "Processing dataset/train/train_19874/train_19874_a/train_19874_a_2.nii.gz...\n"
     ]
    },
    {
     "data": {
      "application/vnd.jupyter.widget-view+json": {
       "model_id": "438a88ee9fe24209803663a2123bcdee",
       "version_major": 2,
       "version_minor": 0
      },
      "text/plain": [
       "dataset/train/train_19874/train_19874_a/(…):   0%|          | 0.00/128M [00:00<?, ?B/s]"
      ]
     },
     "metadata": {},
     "output_type": "display_data"
    },
    {
     "name": "stdout",
     "output_type": "stream",
     "text": [
      "test all pooling\n",
      "Processing dataset/train/train_19884/train_19884_a/train_19884_a_1.nii.gz...\n"
     ]
    },
    {
     "data": {
      "application/vnd.jupyter.widget-view+json": {
       "model_id": "d29763cf98504607acf3250375e7003f",
       "version_major": 2,
       "version_minor": 0
      },
      "text/plain": [
       "dataset/train/train_19884/train_19884_a/(…):   0%|          | 0.00/507M [00:00<?, ?B/s]"
      ]
     },
     "metadata": {},
     "output_type": "display_data"
    },
    {
     "name": "stdout",
     "output_type": "stream",
     "text": [
      "test all pooling\n",
      "Processing dataset/train/train_19885/train_19885_e/train_19885_e_2.nii.gz...\n"
     ]
    },
    {
     "data": {
      "application/vnd.jupyter.widget-view+json": {
       "model_id": "663e26e3459f4b46842bf64b59e24061",
       "version_major": 2,
       "version_minor": 0
      },
      "text/plain": [
       "train_19885_e_2.nii.gz:   0%|          | 0.00/210M [00:00<?, ?B/s]"
      ]
     },
     "metadata": {},
     "output_type": "display_data"
    },
    {
     "name": "stdout",
     "output_type": "stream",
     "text": [
      "test all pooling\n",
      "Processing dataset/train/train_19893/train_19893_b/train_19893_b_2.nii.gz...\n"
     ]
    },
    {
     "data": {
      "application/vnd.jupyter.widget-view+json": {
       "model_id": "b2db4be165ad4314896485bc71fe803d",
       "version_major": 2,
       "version_minor": 0
      },
      "text/plain": [
       "dataset/train/train_19893/train_19893_b/(…):   0%|          | 0.00/121M [00:00<?, ?B/s]"
      ]
     },
     "metadata": {},
     "output_type": "display_data"
    },
    {
     "name": "stdout",
     "output_type": "stream",
     "text": [
      "test all pooling\n",
      "Processing dataset/train/train_1993/train_1993_a/train_1993_a_1.nii.gz...\n"
     ]
    },
    {
     "data": {
      "application/vnd.jupyter.widget-view+json": {
       "model_id": "f88db926616947d5839cb942bc2570c7",
       "version_major": 2,
       "version_minor": 0
      },
      "text/plain": [
       "dataset/train/train_1993/train_1993_a/tr(…):   0%|          | 0.00/483M [00:00<?, ?B/s]"
      ]
     },
     "metadata": {},
     "output_type": "display_data"
    },
    {
     "name": "stdout",
     "output_type": "stream",
     "text": [
      "test all pooling\n",
      "Processing dataset/train/train_2002/train_2002_a/train_2002_a_1.nii.gz...\n"
     ]
    },
    {
     "data": {
      "application/vnd.jupyter.widget-view+json": {
       "model_id": "826cca78b730473698c18d95f8fac754",
       "version_major": 2,
       "version_minor": 0
      },
      "text/plain": [
       "dataset/train/train_2002/train_2002_a/tr(…):   0%|          | 0.00/484M [00:00<?, ?B/s]"
      ]
     },
     "metadata": {},
     "output_type": "display_data"
    },
    {
     "name": "stdout",
     "output_type": "stream",
     "text": [
      "test all pooling\n",
      "Processing dataset/train/train_2107/train_2107_a/train_2107_a_2.nii.gz...\n"
     ]
    },
    {
     "data": {
      "application/vnd.jupyter.widget-view+json": {
       "model_id": "1d287e0de0c64030bafb0c26d013881b",
       "version_major": 2,
       "version_minor": 0
      },
      "text/plain": [
       "dataset/train/train_2107/train_2107_a/tr(…):   0%|          | 0.00/113M [00:00<?, ?B/s]"
      ]
     },
     "metadata": {},
     "output_type": "display_data"
    },
    {
     "name": "stdout",
     "output_type": "stream",
     "text": [
      "test all pooling\n",
      "Processing dataset/train/train_220/train_220_a/train_220_a_1.nii.gz...\n"
     ]
    },
    {
     "data": {
      "application/vnd.jupyter.widget-view+json": {
       "model_id": "db278d61374d4ec295d398bbbd62832d",
       "version_major": 2,
       "version_minor": 0
      },
      "text/plain": [
       "dataset/train/train_220/train_220_a/trai(…):   0%|          | 0.00/152M [00:00<?, ?B/s]"
      ]
     },
     "metadata": {},
     "output_type": "display_data"
    },
    {
     "name": "stdout",
     "output_type": "stream",
     "text": [
      "test all pooling\n",
      "Processing dataset/train/train_2299/train_2299_b/train_2299_b_2.nii.gz...\n"
     ]
    },
    {
     "data": {
      "application/vnd.jupyter.widget-view+json": {
       "model_id": "9737d01ce1734a7fa066c01c6d0f4897",
       "version_major": 2,
       "version_minor": 0
      },
      "text/plain": [
       "dataset/train/train_2299/train_2299_b/tr(…):   0%|          | 0.00/141M [00:00<?, ?B/s]"
      ]
     },
     "metadata": {},
     "output_type": "display_data"
    },
    {
     "name": "stdout",
     "output_type": "stream",
     "text": [
      "test all pooling\n",
      "Processing dataset/train/train_2410/train_2410_d/train_2410_d_2.nii.gz...\n"
     ]
    },
    {
     "data": {
      "application/vnd.jupyter.widget-view+json": {
       "model_id": "808e4f2f45134f56b3f051981539a31c",
       "version_major": 2,
       "version_minor": 0
      },
      "text/plain": [
       "dataset/train/train_2410/train_2410_d/tr(…):   0%|          | 0.00/141M [00:00<?, ?B/s]"
      ]
     },
     "metadata": {},
     "output_type": "display_data"
    },
    {
     "name": "stdout",
     "output_type": "stream",
     "text": [
      "test all pooling\n",
      "Processing dataset/train/train_2423/train_2423_a/train_2423_a_2.nii.gz...\n"
     ]
    },
    {
     "data": {
      "application/vnd.jupyter.widget-view+json": {
       "model_id": "03bd9ae13121471d975ced77693d02c6",
       "version_major": 2,
       "version_minor": 0
      },
      "text/plain": [
       "dataset/train/train_2423/train_2423_a/tr(…):   0%|          | 0.00/218M [00:00<?, ?B/s]"
      ]
     },
     "metadata": {},
     "output_type": "display_data"
    },
    {
     "name": "stdout",
     "output_type": "stream",
     "text": [
      "test all pooling\n",
      "Processing dataset/train/train_2650/train_2650_a/train_2650_a_2.nii.gz...\n"
     ]
    },
    {
     "data": {
      "application/vnd.jupyter.widget-view+json": {
       "model_id": "0b85a2ee7e5f4e33ad5f1a36d1962fe6",
       "version_major": 2,
       "version_minor": 0
      },
      "text/plain": [
       "dataset/train/train_2650/train_2650_a/tr(…):   0%|          | 0.00/173M [00:00<?, ?B/s]"
      ]
     },
     "metadata": {},
     "output_type": "display_data"
    },
    {
     "name": "stdout",
     "output_type": "stream",
     "text": [
      "test all pooling\n",
      "Processing dataset/train/train_2755/train_2755_a/train_2755_a_1.nii.gz...\n"
     ]
    },
    {
     "data": {
      "application/vnd.jupyter.widget-view+json": {
       "model_id": "5041e0c3913d43878010ca505e9d753b",
       "version_major": 2,
       "version_minor": 0
      },
      "text/plain": [
       "dataset/train/train_2755/train_2755_a/tr(…):   0%|          | 0.00/108M [00:00<?, ?B/s]"
      ]
     },
     "metadata": {},
     "output_type": "display_data"
    },
    {
     "name": "stdout",
     "output_type": "stream",
     "text": [
      "test all pooling\n",
      "Processing dataset/train/train_2776/train_2776_a/train_2776_a_1.nii.gz...\n"
     ]
    },
    {
     "data": {
      "application/vnd.jupyter.widget-view+json": {
       "model_id": "cf7b5347253d470e91747c0b3244fcdd",
       "version_major": 2,
       "version_minor": 0
      },
      "text/plain": [
       "dataset/train/train_2776/train_2776_a/tr(…):   0%|          | 0.00/131M [00:00<?, ?B/s]"
      ]
     },
     "metadata": {},
     "output_type": "display_data"
    },
    {
     "name": "stdout",
     "output_type": "stream",
     "text": [
      "test all pooling\n",
      "Processing dataset/train/train_2790/train_2790_b/train_2790_b_2.nii.gz...\n"
     ]
    },
    {
     "data": {
      "application/vnd.jupyter.widget-view+json": {
       "model_id": "a0a37e7a82a74af897bd292d79f6b189",
       "version_major": 2,
       "version_minor": 0
      },
      "text/plain": [
       "dataset/train/train_2790/train_2790_b/tr(…):   0%|          | 0.00/82.9M [00:00<?, ?B/s]"
      ]
     },
     "metadata": {},
     "output_type": "display_data"
    },
    {
     "name": "stdout",
     "output_type": "stream",
     "text": [
      "test all pooling\n",
      "Processing dataset/train/train_2838/train_2838_a/train_2838_a_1.nii.gz...\n"
     ]
    },
    {
     "data": {
      "application/vnd.jupyter.widget-view+json": {
       "model_id": "76d53e17e2964a568c9ac1cfb659f221",
       "version_major": 2,
       "version_minor": 0
      },
      "text/plain": [
       "dataset/train/train_2838/train_2838_a/tr(…):   0%|          | 0.00/155M [00:00<?, ?B/s]"
      ]
     },
     "metadata": {},
     "output_type": "display_data"
    },
    {
     "name": "stdout",
     "output_type": "stream",
     "text": [
      "test all pooling\n",
      "Processing dataset/train/train_2855/train_2855_a/train_2855_a_3.nii.gz...\n"
     ]
    },
    {
     "data": {
      "application/vnd.jupyter.widget-view+json": {
       "model_id": "9e9710943ae04d4aa2fe9d85e58985f0",
       "version_major": 2,
       "version_minor": 0
      },
      "text/plain": [
       "dataset/train/train_2855/train_2855_a/tr(…):   0%|          | 0.00/477M [00:00<?, ?B/s]"
      ]
     },
     "metadata": {},
     "output_type": "display_data"
    },
    {
     "name": "stdout",
     "output_type": "stream",
     "text": [
      "test all pooling\n",
      "Processing dataset/train/train_288/train_288_a/train_288_a_1.nii.gz...\n"
     ]
    },
    {
     "data": {
      "application/vnd.jupyter.widget-view+json": {
       "model_id": "1c81cfecd141473b82c8f2920fb6b59d",
       "version_major": 2,
       "version_minor": 0
      },
      "text/plain": [
       "dataset/train/train_288/train_288_a/trai(…):   0%|          | 0.00/108M [00:00<?, ?B/s]"
      ]
     },
     "metadata": {},
     "output_type": "display_data"
    },
    {
     "name": "stdout",
     "output_type": "stream",
     "text": [
      "test all pooling\n",
      "Processing dataset/train/train_2892/train_2892_a/train_2892_a_2.nii.gz...\n"
     ]
    },
    {
     "data": {
      "application/vnd.jupyter.widget-view+json": {
       "model_id": "b3d11238fe924eee929c49af83c3404f",
       "version_major": 2,
       "version_minor": 0
      },
      "text/plain": [
       "dataset/train/train_2892/train_2892_a/tr(…):   0%|          | 0.00/228M [00:00<?, ?B/s]"
      ]
     },
     "metadata": {},
     "output_type": "display_data"
    },
    {
     "name": "stdout",
     "output_type": "stream",
     "text": [
      "test all pooling\n",
      "Processing dataset/train/train_2916/train_2916_a/train_2916_a_1.nii.gz...\n"
     ]
    },
    {
     "data": {
      "application/vnd.jupyter.widget-view+json": {
       "model_id": "5a284ac38706411ab13982368d134128",
       "version_major": 2,
       "version_minor": 0
      },
      "text/plain": [
       "dataset/train/train_2916/train_2916_a/tr(…):   0%|          | 0.00/438M [00:00<?, ?B/s]"
      ]
     },
     "metadata": {},
     "output_type": "display_data"
    },
    {
     "name": "stdout",
     "output_type": "stream",
     "text": [
      "test all pooling\n",
      "Processing dataset/train/train_3067/train_3067_a/train_3067_a_2.nii.gz...\n"
     ]
    },
    {
     "data": {
      "application/vnd.jupyter.widget-view+json": {
       "model_id": "8bb838ff735c4ab28b1180c46a5820e3",
       "version_major": 2,
       "version_minor": 0
      },
      "text/plain": [
       "dataset/train/train_3067/train_3067_a/tr(…):   0%|          | 0.00/194M [00:00<?, ?B/s]"
      ]
     },
     "metadata": {},
     "output_type": "display_data"
    },
    {
     "name": "stdout",
     "output_type": "stream",
     "text": [
      "test all pooling\n",
      "Processing dataset/train/train_3089/train_3089_a/train_3089_a_2.nii.gz...\n"
     ]
    },
    {
     "data": {
      "application/vnd.jupyter.widget-view+json": {
       "model_id": "91473621482a4ec38fea16f27ee3eabd",
       "version_major": 2,
       "version_minor": 0
      },
      "text/plain": [
       "dataset/train/train_3089/train_3089_a/tr(…):   0%|          | 0.00/174M [00:00<?, ?B/s]"
      ]
     },
     "metadata": {},
     "output_type": "display_data"
    },
    {
     "name": "stdout",
     "output_type": "stream",
     "text": [
      "test all pooling\n",
      "Processing dataset/train/train_3113/train_3113_a/train_3113_a_2.nii.gz...\n"
     ]
    },
    {
     "data": {
      "application/vnd.jupyter.widget-view+json": {
       "model_id": "fdbe8e084dba40bfa10feb8026c1f2f3",
       "version_major": 2,
       "version_minor": 0
      },
      "text/plain": [
       "dataset/train/train_3113/train_3113_a/tr(…):   0%|          | 0.00/98.5M [00:00<?, ?B/s]"
      ]
     },
     "metadata": {},
     "output_type": "display_data"
    },
    {
     "name": "stdout",
     "output_type": "stream",
     "text": [
      "test all pooling\n",
      "Processing dataset/train/train_3114/train_3114_a/train_3114_a_3.nii.gz...\n"
     ]
    },
    {
     "data": {
      "application/vnd.jupyter.widget-view+json": {
       "model_id": "dc4c96fcd35a484290233cfa1da8ea51",
       "version_major": 2,
       "version_minor": 0
      },
      "text/plain": [
       "dataset/train/train_3114/train_3114_a/tr(…):   0%|          | 0.00/393M [00:00<?, ?B/s]"
      ]
     },
     "metadata": {},
     "output_type": "display_data"
    },
    {
     "name": "stdout",
     "output_type": "stream",
     "text": [
      "test all pooling\n",
      "Processing dataset/train/train_3138/train_3138_a/train_3138_a_2.nii.gz...\n"
     ]
    },
    {
     "data": {
      "application/vnd.jupyter.widget-view+json": {
       "model_id": "6d6126b0b67a48d189b628d6fc1b0ce6",
       "version_major": 2,
       "version_minor": 0
      },
      "text/plain": [
       "dataset/train/train_3138/train_3138_a/tr(…):   0%|          | 0.00/233M [00:00<?, ?B/s]"
      ]
     },
     "metadata": {},
     "output_type": "display_data"
    },
    {
     "name": "stdout",
     "output_type": "stream",
     "text": [
      "test all pooling\n",
      "\n",
      " ✅ Cell 2 complete. Created a mini-dataset with 320 samples.\n",
      "✅ Saved features+labels, sample list, and summary to `saved_artifacts/`\n"
     ]
    }
   ],
   "source": [
    "# ==============================================================================\n",
    "# CELL 2: Data Preparation, Feature Extraction (204 Samples), and Saving\n",
    "# ==============================================================================\n",
    "import os\n",
    "import sys\n",
    "import torch\n",
    "import pandas as pd\n",
    "import numpy as np\n",
    "import monai.transforms as T\n",
    "from huggingface_hub import hf_hub_download\n",
    "from transformers import AutoTokenizer, AutoModel\n",
    "\n",
    "# --- 0. Secure token access (no hardcoded tokens) ---\n",
    "HF_TOKEN = os.environ.get(\"HF_Token\")\n",
    "if not HF_TOKEN:\n",
    "    raise RuntimeError(\"HF_TOKEN missing from Secrets. Set it in Space Settings → Secrets.\")\n",
    "\n",
    "# --- 1. Add cloned repos to Python path ---\n",
    "sys.path.insert(0, os.path.abspath(\"CT-CLIP/transformer_maskgit\"))\n",
    "sys.path.insert(0, os.path.abspath(\"CT-CLIP\"))\n",
    "from transformer_maskgit.MaskGITTransformer import CTViT\n",
    "from ct_clip.ct_clip import CTCLIP\n",
    "\n",
    "# --- 2. Configuration ---\n",
    "DEVICE = \"cuda\" if torch.cuda.is_available() else \"cpu\"\n",
    "print(f\"--- Using device: {DEVICE} ---\")\n",
    "\n",
    "# --- 3. Load Pre-trained CT-CLIP Model ---\n",
    "print(\"\\n--- Loading CT-CLIP Model ---\")\n",
    "text_encoder_name = \"microsoft/BiomedVLP-CXR-BERT-specialized\"\n",
    "text_tokenizer_clip = AutoTokenizer.from_pretrained(text_encoder_name, trust_remote_code=True)\n",
    "text_encoder = AutoModel.from_pretrained(text_encoder_name, trust_remote_code=True)\n",
    "image_encoder = CTViT(dim=512, codebook_size=8192, image_size=480, patch_size=20,\n",
    "                     temporal_patch_size=10, spatial_depth=4, temporal_depth=4,\n",
    "                     dim_head=32, heads=8)\n",
    "vision_model = CTCLIP(image_encoder=image_encoder, text_encoder=text_encoder,\n",
    "                      dim_image=294912, dim_text=768, dim_latent=512).to(DEVICE)\n",
    "\n",
    "print(\"Downloading CT-CLIP v2 weights...\")\n",
    "ckpt_path = hf_hub_download(\n",
    "    repo_id=\"ibrahimhamamci/CT-RATE\",\n",
    "    repo_type=\"dataset\",\n",
    "    filename=\"models/CT-CLIP-Related/CT-CLIP_v2.pt\",\n",
    "    token=HF_TOKEN,\n",
    ")\n",
    "state = torch.load(ckpt_path, map_location=\"cpu\")\n",
    "vision_model.load_state_dict(state.get(\"state_dict\", state), strict=False)\n",
    "vision_model.eval()\n",
    "for param in vision_model.parameters():\n",
    "    param.requires_grad = False\n",
    "print(\" ✅ CT-CLIP model loaded and frozen.\")\n",
    "\n",
    "# --- 4. Prepare Labels and Data ---\n",
    "print(\"\\n--- Preparing labels ---\")\n",
    "labels_path = hf_hub_download(\n",
    "    repo_id=\"ibrahimhamamci/CT-RATE\",\n",
    "    repo_type=\"dataset\",\n",
    "    filename=\"dataset/multi_abnormality_labels/train_predicted_labels.csv\",\n",
    "    token=HF_TOKEN,\n",
    ")\n",
    "df_labels = pd.read_csv(labels_path)\n",
    "CLASS_NAMES = df_labels.columns[1:].tolist()\n",
    "print(f\"Found {len(CLASS_NAMES)} classes.\")\n",
    "\n",
    "# --- 5. Sample filenames (balanced 204) ---\n",
    "sample_filenames = [\n",
    "    \"train_1001_a_1.nii.gz\", \"train_10047_b_2.nii.gz\", \"train_10080_a_1.nii.gz\", \"train_10098_a_1.nii.gz\",\n",
    "    \"train_10128_b_2.nii.gz\", \"train_10168_a_1.nii.gz\", \"train_1016_a_1.nii.gz\", \"train_10172_a_1.nii.gz\",\n",
    "    \"train_10203_a_2.nii.gz\", \"train_10208_a_2.nii.gz\", \"train_10211_a_2.nii.gz\", \"train_10255_a_1.nii.gz\",\n",
    "    \"train_10432_d_2.nii.gz\", \"train_10516_a_1.nii.gz\", \"train_10633_a_2.nii.gz\", \"train_10641_h_1.nii.gz\",\n",
    "    \"train_1069_a_2.nii.gz\", \"train_10704_a_1.nii.gz\", \"train_10751_a_2.nii.gz\", \"train_10798_a_2.nii.gz\",\n",
    "    \"train_10805_a_1.nii.gz\", \"train_10822_a_2.nii.gz\", \"train_10858_a_2.nii.gz\", \"train_10872_a_1.nii.gz\",\n",
    "    \"train_10919_a_2.nii.gz\", \"train_10958_a_1.nii.gz\", \"train_10969_b_1.nii.gz\", \"train_11032_a_2.nii.gz\",\n",
    "    \"train_11103_a_1.nii.gz\", \"train_11111_d_1.nii.gz\", \"train_11124_a_1.nii.gz\", \"train_11175_a_3.nii.gz\",\n",
    "    \"train_11213_a_2.nii.gz\", \"train_11263_a_2.nii.gz\", \"train_11289_a_2.nii.gz\", \"train_11327_a_2.nii.gz\",\n",
    "    \"train_11331_a_1.nii.gz\", \"train_11334_a_2.nii.gz\", \"train_1138_a_2.nii.gz\", \"train_11418_b_2.nii.gz\",\n",
    "    \"train_11595_a_2.nii.gz\", \"train_11615_a_1.nii.gz\", \"train_11617_a_1.nii.gz\", \"train_1163_a_1.nii.gz\",\n",
    "    \"train_11649_a_1.nii.gz\", \"train_11687_a_1.nii.gz\", \"train_11687_a_2.nii.gz\", \"train_11779_a_1.nii.gz\",\n",
    "    \"train_11791_a_1.nii.gz\", \"train_11837_a_1.nii.gz\", \"train_11872_a_1.nii.gz\", \"train_11948_b_2.nii.gz\",\n",
    "    \"train_12005_b_2.nii.gz\", \"train_12012_a_2.nii.gz\", \"train_1207_a_1.nii.gz\", \"train_12094_a_2.nii.gz\",\n",
    "    \"train_12125_a_1.nii.gz\", \"train_12160_a_2.nii.gz\", \"train_12163_a_1.nii.gz\", \"train_12180_a_1.nii.gz\",\n",
    "    \"train_12195_a_2.nii.gz\", \"train_12265_a_1.nii.gz\", \"train_12283_a_2.nii.gz\", \"train_12357_a_2.nii.gz\",\n",
    "    \"train_12427_a_2.nii.gz\", \"train_12479_b_2.nii.gz\", \"train_12503_b_2.nii.gz\", \"train_12520_b_2.nii.gz\",\n",
    "    \"train_12522_a_2.nii.gz\", \"train_12537_c_1.nii.gz\", \"train_12542_a_1.nii.gz\", \"train_12572_a_1.nii.gz\",\n",
    "    \"train_12637_a_1.nii.gz\", \"train_12641_a_1.nii.gz\", \"train_12684_a_1.nii.gz\", \"train_12755_a_1.nii.gz\",\n",
    "    \"train_12794_c_2.nii.gz\", \"train_12850_a_1.nii.gz\", \"train_12863_b_1.nii.gz\", \"train_12875_a_1.nii.gz\",\n",
    "    \"train_12877_b_1.nii.gz\", \"train_12885_a_1.nii.gz\", \"train_12894_a_1.nii.gz\", \"train_12935_a_2.nii.gz\",\n",
    "    \"train_12952_a_1.nii.gz\", \"train_12971_a_1.nii.gz\", \"train_129_a_1.nii.gz\", \"train_13016_a_1.nii.gz\",\n",
    "    \"train_13176_b_1.nii.gz\", \"train_1320_a_2.nii.gz\", \"train_13216_a_1.nii.gz\", \"train_13224_a_2.nii.gz\",\n",
    "    \"train_13251_c_1.nii.gz\", \"train_13252_a_1.nii.gz\", \"train_13355_a_2.nii.gz\", \"train_13355_b_1.nii.gz\",\n",
    "    \"train_13368_b_2.nii.gz\", \"train_13393_a_1.nii.gz\", \"train_13420_a_1.nii.gz\", \"train_13437_d_1.nii.gz\",\n",
    "    \"train_13438_a_2.nii.gz\", \"train_13448_a_2.nii.gz\", \"train_13473_a_2.nii.gz\", \"train_1348_b_2.nii.gz\",\n",
    "    \"train_13592_a_2.nii.gz\", \"train_1378_c_1.nii.gz\", \"train_13829_a_2.nii.gz\", \"train_13844_a_2.nii.gz\",\n",
    "    \"train_13849_a_1.nii.gz\", \"train_13854_a_1.nii.gz\", \"train_13962_a_2.nii.gz\", \"train_14046_a_2.nii.gz\",\n",
    "    \"train_14058_b_2.nii.gz\", \"train_14098_a_1.nii.gz\", \"train_14122_a_1.nii.gz\", \"train_14166_d_1.nii.gz\",\n",
    "    \"train_14268_a_1.nii.gz\", \"train_14270_a_1.nii.gz\", \"train_14370_a_1.nii.gz\", \"train_14392_a_1.nii.gz\",\n",
    "    \"train_14442_h_2.nii.gz\", \"train_1448_c_1.nii.gz\", \"train_14552_a_1.nii.gz\", \"train_1455_a_1.nii.gz\",\n",
    "    \"train_14600_a_1.nii.gz\", \"train_14643_a_1.nii.gz\", \"train_14684_a_1.nii.gz\", \"train_14688_b_1.nii.gz\",\n",
    "    \"train_14690_a_2.nii.gz\", \"train_14701_b_2.nii.gz\", \"train_14709_a_1.nii.gz\", \"train_14740_b_2.nii.gz\",\n",
    "    \"train_14764_e_2.nii.gz\", \"train_14787_a_2.nii.gz\", \"train_14829_a_1.nii.gz\", \"train_14835_a_2.nii.gz\",\n",
    "    \"train_14909_a_2.nii.gz\", \"train_14920_a_2.nii.gz\", \"train_14940_a_2.nii.gz\", \"train_14952_a_2.nii.gz\",\n",
    "    \"train_15014_a_2.nii.gz\", \"train_15020_a_1.nii.gz\", \"train_15021_a_2.nii.gz\", \"train_1504_a_1.nii.gz\",\n",
    "    \"train_15057_a_1.nii.gz\", \"train_15062_a_1.nii.gz\", \"train_15076_b_1.nii.gz\", \"train_15076_b_2.nii.gz\",\n",
    "    \"train_1516_b_2.nii.gz\", \"train_15200_a_1.nii.gz\", \"train_15225_a_1.nii.gz\", \"train_15302_a_2.nii.gz\",\n",
    "    \"train_15338_a_2.nii.gz\", \"train_15357_a_1.nii.gz\", \"train_15445_a_1.nii.gz\", \"train_15485_a_1.nii.gz\",\n",
    "    \"train_15508_a_1.nii.gz\", \"train_15639_b_2.nii.gz\", \"train_15654_a_1.nii.gz\", \"train_15672_a_2.nii.gz\",\n",
    "    \"train_15673_a_2.nii.gz\", \"train_1569_a_1.nii.gz\", \"train_15748_a_2.nii.gz\", \"train_15767_a_1.nii.gz\",\n",
    "    \"train_15858_a_1.nii.gz\", \"train_15867_a_2.nii.gz\", \"train_15909_a_2.nii.gz\", \"train_15911_b_1.nii.gz\",\n",
    "    \"train_15911_b_2.nii.gz\", \"train_15918_a_1.nii.gz\", \"train_15956_b_1.nii.gz\", \"train_15957_a_2.nii.gz\",\n",
    "    \"train_16006_a_1.nii.gz\", \"train_1600_c_2.nii.gz\", \"train_16049_a_1.nii.gz\", \"train_16173_a_1.nii.gz\",\n",
    "    \"train_16173_a_2.nii.gz\", \"train_16176_b_1.nii.gz\", \"train_16215_a_1.nii.gz\", \"train_16223_a_2.nii.gz\",\n",
    "    \"train_16276_a_2.nii.gz\", \"train_16294_b_2.nii.gz\", \"train_1629_a_1.nii.gz\", \"train_16307_a_2.nii.gz\",\n",
    "    \"train_1630_a_1.nii.gz\", \"train_16379_a_1.nii.gz\", \"train_16447_a_1.nii.gz\", \"train_16485_a_2.nii.gz\",\n",
    "    \"train_16503_a_2.nii.gz\", \"train_16512_a_1.nii.gz\", \"train_16554_a_1.nii.gz\", \"train_16562_a_1.nii.gz\",\n",
    "    \"train_16566_b_1.nii.gz\", \"train_16602_a_1.nii.gz\", \"train_16621_a_2.nii.gz\", \"train_16627_a_2.nii.gz\",\n",
    "    \"train_16641_b_2.nii.gz\", \"train_16649_a_2.nii.gz\", \"train_16664_a_1.nii.gz\", \"train_16724_a_2.nii.gz\",\n",
    "    \"train_16775_a_1.nii.gz\", \"train_16779_a_2.nii.gz\", \"train_16815_b_1.nii.gz\", \"train_16819_a_1.nii.gz\",\n",
    "    \"train_16865_a_1.nii.gz\", \"train_16886_b_2.nii.gz\", \"train_16887_b_2.nii.gz\", \"train_16887_d_1.nii.gz\",\n",
    "    \"train_16893_a_2.nii.gz\", \"train_16928_a_2.nii.gz\", \"train_16961_a_1.nii.gz\", \"train_17013_a_2.nii.gz\",\n",
    "    \"train_17038_b_1.nii.gz\", \"train_1708_c_1.nii.gz\", \"train_17155_a_2.nii.gz\", \"train_171_b_2.nii.gz\",\n",
    "    \"train_17207_b_2.nii.gz\", \"train_17237_a_2.nii.gz\", \"train_17346_b_1.nii.gz\", \"train_17359_a_2.nii.gz\",\n",
    "    \"train_17379_a_1.nii.gz\", \"train_1742_c_1.nii.gz\", \"train_17459_a_1.nii.gz\", \"train_1746_a_1.nii.gz\",\n",
    "    \"train_17507_a_1.nii.gz\", \"train_17508_a_1.nii.gz\", \"train_17531_a_5.nii.gz\", \"train_17534_a_1.nii.gz\",\n",
    "    \"train_1753_e_2.nii.gz\", \"train_17553_a_1.nii.gz\", \"train_17610_a_1.nii.gz\", \"train_17634_b_1.nii.gz\",\n",
    "    \"train_17732_b_2.nii.gz\", \"train_17737_a_2.nii.gz\", \"train_17750_a_2.nii.gz\", \"train_17786_a_2.nii.gz\",\n",
    "    \"train_17828_a_2.nii.gz\", \"train_17835_a_2.nii.gz\", \"train_17877_a_1.nii.gz\", \"train_18010_a_2.nii.gz\",\n",
    "    \"train_18016_a_1.nii.gz\", \"train_18059_a_2.nii.gz\", \"train_18062_a_2.nii.gz\", \"train_18084_a_2.nii.gz\",\n",
    "    \"train_18119_a_1.nii.gz\", \"train_18130_b_2.nii.gz\", \"train_18136_a_2.nii.gz\", \"train_18207_b_2.nii.gz\",\n",
    "    \"train_18250_a_2.nii.gz\", \"train_18267_b_2.nii.gz\", \"train_18312_d_2.nii.gz\", \"train_18452_a_1.nii.gz\",\n",
    "    \"train_1845_a_5.nii.gz\", \"train_1845_b_1.nii.gz\", \"train_1845_c_2.nii.gz\", \"train_18465_b_2.nii.gz\",\n",
    "    \"train_18469_a_2.nii.gz\", \"train_18470_a_1.nii.gz\", \"train_1847_a_1.nii.gz\", \"train_18625_a_1.nii.gz\",\n",
    "    \"train_18663_a_2.nii.gz\", \"train_18668_a_2.nii.gz\", \"train_18678_a_2.nii.gz\", \"train_18744_a_1.nii.gz\",\n",
    "    \"train_18838_b_2.nii.gz\", \"train_18877_a_1.nii.gz\", \"train_18983_b_1.nii.gz\", \"train_19015_b_2.nii.gz\",\n",
    "    \"train_19041_a_2.nii.gz\", \"train_19061_a_1.nii.gz\", \"train_19070_a_1.nii.gz\", \"train_19088_d_2.nii.gz\",\n",
    "    \"train_19105_b_2.nii.gz\", \"train_19123_a_2.nii.gz\", \"train_19214_a_2.nii.gz\", \"train_19220_a_2.nii.gz\",\n",
    "    \"train_19230_a_1.nii.gz\", \"train_19244_c_1.nii.gz\", \"train_19263_a_2.nii.gz\", \"train_19269_a_2.nii.gz\",\n",
    "    \"train_19283_a_2.nii.gz\", \"train_19350_a_2.nii.gz\", \"train_19379_a_2.nii.gz\", \"train_19486_a_2.nii.gz\",\n",
    "    \"train_19512_a_2.nii.gz\", \"train_19551_a_1.nii.gz\", \"train_19578_a_2.nii.gz\", \"train_19640_a_1.nii.gz\",\n",
    "    \"train_19695_a_2.nii.gz\", \"train_19695_c_1.nii.gz\", \"train_19695_d_1.nii.gz\", \"train_1969_a_1.nii.gz\",\n",
    "    \"train_19819_a_2.nii.gz\", \"train_19844_a_2.nii.gz\", \"train_19845_a_2.nii.gz\", \"train_19874_a_2.nii.gz\",\n",
    "    \"train_19884_a_1.nii.gz\", \"train_19885_e_2.nii.gz\", \"train_19893_b_2.nii.gz\", \"train_1993_a_1.nii.gz\",\n",
    "    \"train_2002_a_1.nii.gz\", \"train_2107_a_2.nii.gz\", \"train_220_a_1.nii.gz\", \"train_2299_b_2.nii.gz\",\n",
    "    \"train_2410_d_2.nii.gz\", \"train_2423_a_2.nii.gz\", \"train_2650_a_2.nii.gz\", \"train_2755_a_1.nii.gz\",\n",
    "    \"train_2776_a_1.nii.gz\", \"train_2790_b_2.nii.gz\", \"train_2838_a_1.nii.gz\", \"train_2855_a_3.nii.gz\",\n",
    "    \"train_288_a_1.nii.gz\", \"train_2892_a_2.nii.gz\", \"train_2916_a_1.nii.gz\", \"train_3067_a_2.nii.gz\",\n",
    "    \"train_3089_a_2.nii.gz\", \"train_3113_a_2.nii.gz\", \"train_3114_a_3.nii.gz\", \"train_3138_a_2.nii.gz\",\n",
    "]\n",
    "\n",
    "# --- 6. Preprocessing and Feature Extraction ---\n",
    "def load_and_preprocess_ct(path: str):\n",
    "    transform = T.Compose([\n",
    "        T.LoadImaged(keys=[\"image\"]), T.EnsureChannelFirstd(keys=[\"image\"]),\n",
    "        T.ScaleIntensityRanged(keys=[\"image\"], a_min=-1000, a_max=1000,\n",
    "                               b_min=-1.0, b_max=1.0, clip=True),\n",
    "        T.Resized(keys=[\"image\"], spatial_size=(40, 480, 480),\n",
    "                  mode=\"trilinear\", align_corners=False),\n",
    "        T.ToTensord(keys=[\"image\"]),\n",
    "    ])\n",
    "    data = transform({\"image\": path})\n",
    "    return data[\"image\"].unsqueeze(0).to(DEVICE)\n",
    "\n",
    "def reconstruct_path_from_filename(filename: str) -> str:\n",
    "    parts = filename.replace('.nii.gz', '').split('_')\n",
    "    train_id = parts[1]\n",
    "    scan_id = parts[2]\n",
    "    return f\"dataset/train/train_{train_id}/train_{train_id}_{scan_id}/{filename}\"\n",
    "\n",
    "print(\"\\n--- Extracting features for our mini-dataset ---\")\n",
    "training_data = []\n",
    "for filename in sample_filenames:\n",
    "    try:\n",
    "        full_path = reconstruct_path_from_filename(filename)\n",
    "        print(f\"Processing {full_path}...\")\n",
    "        local_path = hf_hub_download(\n",
    "            repo_id=\"ibrahimhamamci/CT-RATE\",\n",
    "            repo_type=\"dataset\",\n",
    "            filename=full_path,\n",
    "            token=HF_TOKEN,\n",
    "        )\n",
    "        ct_tensor = load_and_preprocess_ct(local_path)\n",
    "\n",
    "        with torch.no_grad():\n",
    "            dummy_text_input = text_tokenizer_clip([\"\"], return_tensors=\"pt\", padding=True).to(DEVICE)\n",
    "            _, image_embedding, _ = vision_model(dummy_text_input, ct_tensor, DEVICE, return_latents=True)\n",
    "\n",
    "        labels_row = df_labels[df_labels['VolumeName'] == filename]\n",
    "        if not labels_row.empty:\n",
    "            label_vector = torch.tensor(labels_row.iloc[0, 1:].values.astype(np.float32)).to(DEVICE)\n",
    "            training_data.append((image_embedding, label_vector))\n",
    "    except Exception as e:\n",
    "        print(f\"Could not process file {filename}. Error: {e}. Skipping.\")\n",
    "\n",
    "print(f\"\\n ✅ Cell 2 complete. Created a mini-dataset with {len(training_data)} samples.\")\n",
    "\n",
    "# === 7. Save extracted features and labels for later reuse ===\n",
    "os.makedirs(\"saved_artifacts\", exist_ok=True)\n",
    "image_embeddings = torch.cat([item[0] for item in training_data], dim=0)  # [N, 512]\n",
    "label_vectors = torch.stack([item[1] for item in training_data], dim=0)   # [N, num_classes]\n",
    "\n",
    "torch.save({\n",
    "    \"image_embeddings\": image_embeddings,\n",
    "    \"label_vectors\": label_vectors,\n",
    "    \"class_names\": CLASS_NAMES,\n",
    "}, \"saved_artifacts/features_labels.pt\")\n",
    "\n",
    "# Save sample filename manifest\n",
    "with open(\"saved_artifacts/sample_filenames.txt\", \"w\") as f:\n",
    "    for name in sample_filenames:\n",
    "        full_path = reconstruct_path_from_filename(name)\n",
    "        f.write(f\"{name}\\t{full_path}\\n\")\n",
    "\n",
    "# Save a human-readable summary\n",
    "summary_rows = []\n",
    "for i, (emb, label) in enumerate(training_data):\n",
    "    summary_rows.append({\n",
    "        \"sample_index\": i,\n",
    "        \"volume_name\": sample_filenames[i],\n",
    "        \"embedding_norm\": emb.norm().item(),\n",
    "        **{f\"class_{j}\": label[j].item() for j in range(label.shape[0])}\n",
    "    })\n",
    "df_summary = pd.DataFrame(summary_rows)\n",
    "df_summary.to_csv(\"saved_artifacts/training_summary.csv\", index=False)\n",
    "\n",
    "print(\"✅ Saved features+labels, sample list, and summary to `saved_artifacts/`\")\n"
   ]
  },
  {
   "cell_type": "code",
   "execution_count": null,
   "id": "d131d040-4464-40c3-91dd-74b55bd88c5f",
   "metadata": {},
   "outputs": [],
   "source": [
    "# %%\n",
    "# ==============================================================================\n",
    "# CELL 3: Create, Train, and Test the Classifier Head\n",
    "# ==============================================================================\n",
    "import torch.nn as nn\n",
    "import torch.optim as optim\n",
    "import os\n",
    "\n",
    "# --- 1. Define the Classifier Head ---\n",
    "# This is a simple linear layer that takes the image embedding as input\n",
    "# and outputs a score (logit) for each of the 18 classes.\n",
    "classifier_head = nn.Linear(\n",
    "    in_features=512,              # Input size matches the CT-CLIP embedding dimension\n",
    "    out_features=len(CLASS_NAMES) # Output size is the number of classes\n",
    ").to(DEVICE)\n",
    "\n",
    "# --- 2. Define Loss Function and Optimizer ---\n",
    "# We use BCEWithLogitsLoss because this is a multi-label problem\n",
    "criterion = nn.BCEWithLogitsLoss()\n",
    "optimizer = optim.Adam(classifier_head.parameters(), lr=0.001)\n",
    "\n",
    "# --- 3. Train the Classifier Head ---\n",
    "print(\"\\n--- Training the new classifier head on 204 samples ---\")\n",
    "# Increase epochs for the larger dataset\n",
    "num_epochs = 100 \n",
    "for epoch in range(num_epochs):\n",
    "    total_loss = 0\n",
    "    for image_embedding, labels in training_data:\n",
    "        optimizer.zero_grad()\n",
    "        outputs = classifier_head(image_embedding)\n",
    "        loss = criterion(outputs.squeeze(), labels)\n",
    "        loss.backward()\n",
    "        optimizer.step()\n",
    "        total_loss += loss.item()\n",
    "    \n",
    "    if (epoch + 1) % 20 == 0:\n",
    "        print(f\"Epoch [{epoch+1}/{num_epochs}], Loss: {total_loss/len(training_data):.4f}\")\n",
    "\n",
    "print(\" ✅ Training complete.\")\n",
    "classifier_head.eval()\n",
    "\n",
    "# --- 4. Inference with the Trained Classifier Head ---\n",
    "def classify_scan_with_head(ct_path: str):\n",
    "    \"\"\"Runs a scan through the vision model and the new classifier head.\"\"\"\n",
    "    print(f\"\\n--- Classifying scan: {os.path.basename(ct_path)} ---\")\n",
    "    ct_tensor = load_and_preprocess_ct(ct_path)\n",
    "    \n",
    "    with torch.no_grad():\n",
    "        # Get the image embedding using the model's forward pass\n",
    "        dummy_text_input = text_tokenizer_clip([\"\"], return_tensors=\"pt\", padding=True).to(DEVICE)\n",
    "        _, image_embedding, _ = vision_model(dummy_text_input, ct_tensor, DEVICE, return_latents=True)\n",
    "        \n",
    "        # Pass the embedding through our TRAINED classifier head\n",
    "        logits = classifier_head(image_embedding)\n",
    "        \n",
    "        # Convert the output scores to probabilities\n",
    "        probabilities = torch.sigmoid(logits).squeeze()\n",
    "        \n",
    "        # Get the final predictions (anything with >50% probability is \"present\")\n",
    "        predictions = (probabilities > 0.5).int()\n",
    "        \n",
    "    # --- Display the results ---\n",
    "    print(\"\\nTop 5 Predictions (Confidence):\")\n",
    "    top_probs, top_indices = torch.topk(probabilities, 5)\n",
    "    for i in range(5):\n",
    "        class_name = CLASS_NAMES[top_indices[i]]\n",
    "        prob = top_probs[i].item()\n",
    "        print(f\"- {class_name}: {prob:.2%}\")\n",
    "        \n",
    "    print(\"\\nFinal Predicted Labels (Present):\")\n",
    "    predicted_labels = [CLASS_NAMES[i] for i, pred in enumerate(predictions) if pred == 1]\n",
    "    if predicted_labels:\n",
    "        for label in predicted_labels:\n",
    "            print(f\"- {label}\")\n",
    "    else:\n",
    "        print(\"- No abnormalities detected.\")\n",
    "\n",
    "# --- 5. Run a Test ---\n",
    "# Use a different file for testing that wasn't in the training set\n",
    "test_filename = \"train_6_a_1.nii.gz\" \n",
    "test_full_path = f\"dataset/train/train_6/train_6_a/{test_filename}\"\n",
    "local_test_path = hf_hub_download(repo_id=\"ibrahimhamamci/CT-RATE\", repo_type=\"dataset\", filename=test_full_path, token=HF_TOKEN)\n",
    "classify_scan_with_head(local_test_path)\n",
    "\n",
    "print(f\"\\n ✅ Cell 3 complete.\")"
   ]
  },
  {
   "cell_type": "code",
   "execution_count": null,
   "id": "2333b3d0-01d5-4c5f-954b-e8088a953121",
   "metadata": {},
   "outputs": [],
   "source": []
  }
 ],
 "metadata": {
  "kernelspec": {
   "display_name": "Python 3 (ipykernel)",
   "language": "python",
   "name": "python3"
  },
  "language_info": {
   "codemirror_mode": {
    "name": "ipython",
    "version": 3
   },
   "file_extension": ".py",
   "mimetype": "text/x-python",
   "name": "python",
   "nbconvert_exporter": "python",
   "pygments_lexer": "ipython3",
   "version": "3.9.5"
  }
 },
 "nbformat": 4,
 "nbformat_minor": 5
}
